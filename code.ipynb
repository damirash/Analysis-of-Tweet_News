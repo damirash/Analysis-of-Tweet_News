{
 "cells": [
  {
   "cell_type": "markdown",
   "id": "47a8e79b-fe17-494f-a101-01b511bea661",
   "metadata": {},
   "source": [
    "# ML for NLP 2: Assignment 1\n",
    "## Group 3: Abay Jumabayev, Damira Shaikenova\n",
    "\n",
    "-----\n",
    "**Task:**\n",
    "\n",
    "-----\n",
    "Use the samples of Twitter data posted in the Input folder (corresponding to NYT and Fox News) and do the following:\n",
    "\n",
    "1. Data cleaning. \n",
    "\n",
    "Remove stopwords, links, hashtags, etc. \n",
    "\n",
    "2. Feature engineering.\n",
    "\n",
    "Create popularity and engagement measures, mentions (i.e. a tweet includes @), popular hashtags, breaking news, growth of followers, an indicator if the tweet is posted by NYT, and zero if the tweet belongs to Fox News.\n",
    "\n",
    "3. Data Exploration and Prediction.\n",
    "- Is there a follower-tweet relationship? \n",
    "- What are the most frequent topics tweeted about by each outlet? Are there differences in outlets?\n",
    "- Is there a relationship between the sentiment of the tweet and the outlet?\n",
    "- Can we predict the outlet by the text of the tweet? Use classification methods (Naive Bayes, Logistic Regression, Support Vector Classifier using Count Vectorizer, Tf-Idf, or Word Embeddings). Which method performs better? Why?\n",
    "- Do the usual word analogies hold in this sample?\n",
    "- Create the most representative tweet by outlet\n",
    "\n",
    "Bonus 10 points: Create at least two own explorations.\n",
    "\n",
    "Create a GitHub repository with your code and invite me to it. \n",
    "\n",
    "-----\n",
    "\n",
    "**Data:**\n",
    "\n",
    "We start from loading some of the necessary libraries and opening the twitter data. \n"
   ]
  },
  {
   "cell_type": "code",
   "execution_count": 1,
   "id": "a9a976a6-fd84-44f2-9f5e-dc9c7133955a",
   "metadata": {},
   "outputs": [],
   "source": [
    "import numpy as np\n",
    "from numpy import array\n",
    "import pandas as pd\n",
    "import regex as re\n",
    "import warnings\n",
    "warnings.filterwarnings(\"ignore\")"
   ]
  },
  {
   "cell_type": "code",
   "execution_count": 2,
   "id": "3ea58f11-c271-44a6-b050-7da0ee68667e",
   "metadata": {},
   "outputs": [],
   "source": [
    "df1 = pd.read_csv('Inputs/FoxNews_all_tweets.csv')\n",
    "df2 = pd.read_csv('Inputs/nytimes_all_tweets.csv')\n",
    "\n",
    "# merging two datasets \n",
    "frames = [df1, df2]\n",
    "df = pd.concat(frames, ignore_index= True)"
   ]
  },
  {
   "cell_type": "code",
   "execution_count": 3,
   "id": "0df63418-46a8-4762-902f-dcc7fcbca989",
   "metadata": {},
   "outputs": [
    {
     "data": {
      "text/html": [
       "<div>\n",
       "<style scoped>\n",
       "    .dataframe tbody tr th:only-of-type {\n",
       "        vertical-align: middle;\n",
       "    }\n",
       "\n",
       "    .dataframe tbody tr th {\n",
       "        vertical-align: top;\n",
       "    }\n",
       "\n",
       "    .dataframe thead th {\n",
       "        text-align: right;\n",
       "    }\n",
       "</style>\n",
       "<table border=\"1\" class=\"dataframe\">\n",
       "  <thead>\n",
       "    <tr style=\"text-align: right;\">\n",
       "      <th></th>\n",
       "      <th>username</th>\n",
       "      <th>author_followers</th>\n",
       "      <th>text</th>\n",
       "      <th>created_at</th>\n",
       "      <th>retweets</th>\n",
       "      <th>replies</th>\n",
       "      <th>likes</th>\n",
       "      <th>quote_count</th>\n",
       "    </tr>\n",
       "  </thead>\n",
       "  <tbody>\n",
       "    <tr>\n",
       "      <th>0</th>\n",
       "      <td>FoxNews</td>\n",
       "      <td>20946694</td>\n",
       "      <td>FLASHBACK: Ex-intel officials claimed the Hunt...</td>\n",
       "      <td>2022-03-18 15:50:00+00:00</td>\n",
       "      <td>26</td>\n",
       "      <td>39</td>\n",
       "      <td>68</td>\n",
       "      <td>0</td>\n",
       "    </tr>\n",
       "    <tr>\n",
       "      <th>1</th>\n",
       "      <td>FoxNews</td>\n",
       "      <td>20946694</td>\n",
       "      <td>Biden must do more to counter Putin's propagan...</td>\n",
       "      <td>2022-03-18 15:45:00+00:00</td>\n",
       "      <td>23</td>\n",
       "      <td>94</td>\n",
       "      <td>92</td>\n",
       "      <td>7</td>\n",
       "    </tr>\n",
       "    <tr>\n",
       "      <th>2</th>\n",
       "      <td>FoxNews</td>\n",
       "      <td>20946694</td>\n",
       "      <td>NASCAR: What to expect from Atlanta's super ne...</td>\n",
       "      <td>2022-03-18 15:40:00+00:00</td>\n",
       "      <td>10</td>\n",
       "      <td>9</td>\n",
       "      <td>21</td>\n",
       "      <td>0</td>\n",
       "    </tr>\n",
       "    <tr>\n",
       "      <th>3</th>\n",
       "      <td>FoxNews</td>\n",
       "      <td>20946694</td>\n",
       "      <td>BREAKING: Biden, Xi discuss Russia's war again...</td>\n",
       "      <td>2022-03-18 15:34:43+00:00</td>\n",
       "      <td>33</td>\n",
       "      <td>71</td>\n",
       "      <td>87</td>\n",
       "      <td>3</td>\n",
       "    </tr>\n",
       "    <tr>\n",
       "      <th>4</th>\n",
       "      <td>FoxNews</td>\n",
       "      <td>20946694</td>\n",
       "      <td>Transgender swimmer's NCAA championship win 'j...</td>\n",
       "      <td>2022-03-18 15:30:00+00:00</td>\n",
       "      <td>51</td>\n",
       "      <td>69</td>\n",
       "      <td>254</td>\n",
       "      <td>4</td>\n",
       "    </tr>\n",
       "    <tr>\n",
       "      <th>...</th>\n",
       "      <td>...</td>\n",
       "      <td>...</td>\n",
       "      <td>...</td>\n",
       "      <td>...</td>\n",
       "      <td>...</td>\n",
       "      <td>...</td>\n",
       "      <td>...</td>\n",
       "      <td>...</td>\n",
       "    </tr>\n",
       "    <tr>\n",
       "      <th>1947</th>\n",
       "      <td>nytimes</td>\n",
       "      <td>52297191</td>\n",
       "      <td>Kyrylo Lysov, 22, and his girlfriend Yelyzavet...</td>\n",
       "      <td>2022-03-11 16:40:18+00:00</td>\n",
       "      <td>737</td>\n",
       "      <td>170</td>\n",
       "      <td>5277</td>\n",
       "      <td>54</td>\n",
       "    </tr>\n",
       "    <tr>\n",
       "      <th>1948</th>\n",
       "      <td>nytimes</td>\n",
       "      <td>52297191</td>\n",
       "      <td>Our journalists are looking into how companies...</td>\n",
       "      <td>2022-03-11 16:30:12+00:00</td>\n",
       "      <td>32</td>\n",
       "      <td>38</td>\n",
       "      <td>150</td>\n",
       "      <td>7</td>\n",
       "    </tr>\n",
       "    <tr>\n",
       "      <th>1949</th>\n",
       "      <td>nytimes</td>\n",
       "      <td>52297191</td>\n",
       "      <td>Breaking News: Alec Baldwin gave his most deta...</td>\n",
       "      <td>2022-03-11 16:18:19+00:00</td>\n",
       "      <td>59</td>\n",
       "      <td>81</td>\n",
       "      <td>227</td>\n",
       "      <td>20</td>\n",
       "    </tr>\n",
       "    <tr>\n",
       "      <th>1950</th>\n",
       "      <td>nytimes</td>\n",
       "      <td>52297191</td>\n",
       "      <td>A shipwreck from 1891 has been discovered in L...</td>\n",
       "      <td>2022-03-11 16:10:04+00:00</td>\n",
       "      <td>88</td>\n",
       "      <td>15</td>\n",
       "      <td>361</td>\n",
       "      <td>16</td>\n",
       "    </tr>\n",
       "    <tr>\n",
       "      <th>1951</th>\n",
       "      <td>nytimes</td>\n",
       "      <td>52297191</td>\n",
       "      <td>Breaking News: President Biden called for susp...</td>\n",
       "      <td>2022-03-11 15:58:09+00:00</td>\n",
       "      <td>93</td>\n",
       "      <td>44</td>\n",
       "      <td>471</td>\n",
       "      <td>7</td>\n",
       "    </tr>\n",
       "  </tbody>\n",
       "</table>\n",
       "<p>1952 rows × 8 columns</p>\n",
       "</div>"
      ],
      "text/plain": [
       "     username  author_followers  \\\n",
       "0     FoxNews          20946694   \n",
       "1     FoxNews          20946694   \n",
       "2     FoxNews          20946694   \n",
       "3     FoxNews          20946694   \n",
       "4     FoxNews          20946694   \n",
       "...       ...               ...   \n",
       "1947  nytimes          52297191   \n",
       "1948  nytimes          52297191   \n",
       "1949  nytimes          52297191   \n",
       "1950  nytimes          52297191   \n",
       "1951  nytimes          52297191   \n",
       "\n",
       "                                                   text  \\\n",
       "0     FLASHBACK: Ex-intel officials claimed the Hunt...   \n",
       "1     Biden must do more to counter Putin's propagan...   \n",
       "2     NASCAR: What to expect from Atlanta's super ne...   \n",
       "3     BREAKING: Biden, Xi discuss Russia's war again...   \n",
       "4     Transgender swimmer's NCAA championship win 'j...   \n",
       "...                                                 ...   \n",
       "1947  Kyrylo Lysov, 22, and his girlfriend Yelyzavet...   \n",
       "1948  Our journalists are looking into how companies...   \n",
       "1949  Breaking News: Alec Baldwin gave his most deta...   \n",
       "1950  A shipwreck from 1891 has been discovered in L...   \n",
       "1951  Breaking News: President Biden called for susp...   \n",
       "\n",
       "                     created_at  retweets  replies  likes  quote_count  \n",
       "0     2022-03-18 15:50:00+00:00        26       39     68            0  \n",
       "1     2022-03-18 15:45:00+00:00        23       94     92            7  \n",
       "2     2022-03-18 15:40:00+00:00        10        9     21            0  \n",
       "3     2022-03-18 15:34:43+00:00        33       71     87            3  \n",
       "4     2022-03-18 15:30:00+00:00        51       69    254            4  \n",
       "...                         ...       ...      ...    ...          ...  \n",
       "1947  2022-03-11 16:40:18+00:00       737      170   5277           54  \n",
       "1948  2022-03-11 16:30:12+00:00        32       38    150            7  \n",
       "1949  2022-03-11 16:18:19+00:00        59       81    227           20  \n",
       "1950  2022-03-11 16:10:04+00:00        88       15    361           16  \n",
       "1951  2022-03-11 15:58:09+00:00        93       44    471            7  \n",
       "\n",
       "[1952 rows x 8 columns]"
      ]
     },
     "execution_count": 3,
     "metadata": {},
     "output_type": "execute_result"
    }
   ],
   "source": [
    "# dropping the columns that we will not need\n",
    "df = df.drop(columns=['author_id', 'author_tweets', \"author_description\", \"author_location\", \"tweet_id\", \"reference_status\"])\n",
    "df"
   ]
  },
  {
   "cell_type": "markdown",
   "id": "dc9be03c-2a6e-4b8a-91c6-e49ef3f5cde8",
   "metadata": {},
   "source": [
    "-------\n",
    "# Feature Engineering\n",
    "-----\n",
    "\n",
    "We start from feature engineering. We will conduct text data cleaning later since in this part of the task text pre-processing is either should not be done yet or not necessary at all. "
   ]
  },
  {
   "cell_type": "markdown",
   "id": "c0146b55-b59c-4f24-82fb-3ea6826132f1",
   "metadata": {},
   "source": [
    "- Popularity and Engagement Measures:\n",
    "\n",
    "We already have such popularity measures such as likes and retweets. We can create a few more popularity measures such as: likes per retweets, likes per followers (in millions). For engagement measures, we create variables such as sum of replies and quotes as well as the sum of replies and quotes per followers (in millions) to take into account different number of followers among two sources. "
   ]
  },
  {
   "cell_type": "code",
   "execution_count": 4,
   "id": "0198fb7f-af09-4988-bd93-4fde739ca623",
   "metadata": {},
   "outputs": [],
   "source": [
    "df['likes_per_rt'] = df['likes']/df['retweets']\n",
    "df['likes_per_mfllrs'] = df['likes']/df['author_followers']*1000000\n",
    "\n",
    "df['repl_quot'] = df['replies']+df['quote_count']\n",
    "df['repl_quot_per_mfllrs'] = df['repl_quot']/df['author_followers']*1000000"
   ]
  },
  {
   "cell_type": "markdown",
   "id": "a75d678f-b576-4c49-8db2-42e069b0e55a",
   "metadata": {},
   "source": [
    "- Number of other accounts' mentions (@)\n",
    "\n",
    "We use regex to find if there are any other accounts' mentions (@) in the twitter text."
   ]
  },
  {
   "cell_type": "code",
   "execution_count": 5,
   "id": "d901f9ed-1966-4722-bfc9-b11c0fb9d89e",
   "metadata": {},
   "outputs": [],
   "source": [
    "pattern =r'@([A-Za-z0-9_]+)'\n",
    "\n",
    "df['mentions_count'] = df['text'].apply(lambda x: len(re.findall(pattern, x)))"
   ]
  },
  {
   "cell_type": "markdown",
   "id": "9669dc95-9aca-4e36-8fcb-57f7e0ffd2e5",
   "metadata": {},
   "source": [
    "- Two most popular tweets' special categories: breaking news, opinion.\n",
    "\n",
    "We create two dummy variables that would indicate whether tweet belongs to the categories of breaking news or opinions. "
   ]
  },
  {
   "cell_type": "code",
   "execution_count": 6,
   "id": "f35b70f9-b2e7-4d78-bad0-fa5b9dc15e4d",
   "metadata": {},
   "outputs": [],
   "source": [
    "pattern1 = r'(BREAKING:)|(Breaking News:)' # fox news and ny times have slightly different ways of indicating breaking news\n",
    "df['is_breaking'] = df['text'].apply(lambda x: 1 if len(re.findall(pattern1, x))>0 else 0)\n",
    "\n",
    "pattern2 = r'(OPINION:)|(In Opinion)'\n",
    "df['is_opinion'] = df['text'].apply(lambda x: 1 if len(re.findall(pattern2, x))>0 else 0)"
   ]
  },
  {
   "cell_type": "markdown",
   "id": "7f42abdc-d951-466a-8cc9-1fb75f06a7c1",
   "metadata": {},
   "source": [
    "- Popular hashtags\n",
    "\n",
    "Since there are only three distinctive hashtags among all tweets, we create dummy variables for each of them and also the dummy variable for the presence of any hashtag in text. In case if there were more hashtags, we would create dummy variables only for top 5 popular hashtags."
   ]
  },
  {
   "cell_type": "code",
   "execution_count": 7,
   "id": "bf649223-a526-47f4-8a84-439d63138e02",
   "metadata": {},
   "outputs": [],
   "source": [
    "# counting the number of hashtags mentioned in each tweet\n",
    "pattern3 =r'\\B(\\#[a-zA-Z]+\\b)(?!;)'\n",
    "df['is_hashtag'] = df['text'].apply(lambda x: len(re.findall(pattern3, x)))"
   ]
  },
  {
   "cell_type": "code",
   "execution_count": 8,
   "id": "3d8f8111-4972-4f3d-a98b-75fc2a9d3743",
   "metadata": {},
   "outputs": [],
   "source": [
    "def return_all_hashtags(tweets): \n",
    "    all_hashtags=[]\n",
    "    for tweet in tweets:\n",
    "        for word in tweet.split():\n",
    "            if word.startswith('#'):\n",
    "                word = re.sub(r'[^A-Za-z0-9 ]+', '', word) #remove all non‐alphanumeric characters except white space\n",
    "                all_hashtags.append(word)      \n",
    "    return all_hashtags"
   ]
  },
  {
   "cell_type": "code",
   "execution_count": 9,
   "id": "0621ecde-3eaa-44c9-bee8-72360c857ce8",
   "metadata": {},
   "outputs": [
    {
     "data": {
      "text/plain": [
       "{'CriticsChoice': 5, 'CriticsChoiceAwards': 3, 'MeToo': 1}"
      ]
     },
     "execution_count": 9,
     "metadata": {},
     "output_type": "execute_result"
    }
   ],
   "source": [
    "all_hashtags = return_all_hashtags(df['text'])\n",
    "hashtag_dict = {i: all_hashtags.count(i) for i in all_hashtags}\n",
    "hashtag_dict = dict(sorted(hashtag_dict.items(), key=lambda item: item[1], reverse=True))\n",
    "hashtag_dict"
   ]
  },
  {
   "cell_type": "code",
   "execution_count": 10,
   "id": "e0e65135-3f84-44cc-95c1-465f7d84f923",
   "metadata": {},
   "outputs": [
    {
     "data": {
      "text/plain": [
       "['CriticsChoice', 'CriticsChoiceAwards', 'MeToo']"
      ]
     },
     "execution_count": 10,
     "metadata": {},
     "output_type": "execute_result"
    }
   ],
   "source": [
    "# choosing only top five most mentioned hashtags (three in our case)\n",
    "top_hashtags = list(hashtag_dict.keys())[:5]\n",
    "top_hashtags "
   ]
  },
  {
   "cell_type": "code",
   "execution_count": 11,
   "id": "3f8097ee-c0f8-4065-9925-b12a7d1cd7f9",
   "metadata": {},
   "outputs": [],
   "source": [
    "# creating dummys for each of the top hashtags\n",
    "for hashtag in top_hashtags:\n",
    "    df['hashtag_'+hashtag] = df.text.apply(lambda x: 1 if hashtag in x else 0)"
   ]
  },
  {
   "cell_type": "markdown",
   "id": "c3cdc0b3-f387-45b2-bcbe-e375ecc9c519",
   "metadata": {},
   "source": [
    "- Growth of followers \n",
    "\n",
    "We also create a column showing the difference between the current tweet's number of followers and the previous one. By doing this, it might be implied that any change in number of followers happens due to the last tweet posted. This is not necessarily true, however since it is impossible to guess which tweet was 'responsible' for an increase or decrease in total number of followers, we keep this assumption as it is. "
   ]
  },
  {
   "cell_type": "code",
   "execution_count": 12,
   "id": "b3849988-ebb5-42ef-a55d-5be4d73edc0d",
   "metadata": {},
   "outputs": [],
   "source": [
    "df['growth_fllrs'] = - df.groupby(\"username\")[\"author_followers\"].diff() \n",
    "df['growth_fllrs'] = df['growth_fllrs'].fillna(0)"
   ]
  },
  {
   "cell_type": "code",
   "execution_count": 13,
   "id": "94808a06-a023-458a-ad92-4ea29a4dd16e",
   "metadata": {},
   "outputs": [
    {
     "data": {
      "text/html": [
       "<div>\n",
       "<style scoped>\n",
       "    .dataframe tbody tr th:only-of-type {\n",
       "        vertical-align: middle;\n",
       "    }\n",
       "\n",
       "    .dataframe tbody tr th {\n",
       "        vertical-align: top;\n",
       "    }\n",
       "\n",
       "    .dataframe thead th {\n",
       "        text-align: right;\n",
       "    }\n",
       "</style>\n",
       "<table border=\"1\" class=\"dataframe\">\n",
       "  <thead>\n",
       "    <tr style=\"text-align: right;\">\n",
       "      <th></th>\n",
       "      <th>created_at</th>\n",
       "      <th>author_followers</th>\n",
       "      <th>growth_fllrs</th>\n",
       "    </tr>\n",
       "  </thead>\n",
       "  <tbody>\n",
       "    <tr>\n",
       "      <th>1927</th>\n",
       "      <td>2022-03-11 20:45:06+00:00</td>\n",
       "      <td>52297188</td>\n",
       "      <td>-0.0</td>\n",
       "    </tr>\n",
       "    <tr>\n",
       "      <th>1928</th>\n",
       "      <td>2022-03-11 20:30:13+00:00</td>\n",
       "      <td>52297188</td>\n",
       "      <td>-0.0</td>\n",
       "    </tr>\n",
       "    <tr>\n",
       "      <th>1929</th>\n",
       "      <td>2022-03-11 20:25:08+00:00</td>\n",
       "      <td>52297191</td>\n",
       "      <td>-3.0</td>\n",
       "    </tr>\n",
       "    <tr>\n",
       "      <th>1930</th>\n",
       "      <td>2022-03-11 20:15:11+00:00</td>\n",
       "      <td>52297191</td>\n",
       "      <td>-0.0</td>\n",
       "    </tr>\n",
       "  </tbody>\n",
       "</table>\n",
       "</div>"
      ],
      "text/plain": [
       "                     created_at  author_followers  growth_fllrs\n",
       "1927  2022-03-11 20:45:06+00:00          52297188          -0.0\n",
       "1928  2022-03-11 20:30:13+00:00          52297188          -0.0\n",
       "1929  2022-03-11 20:25:08+00:00          52297191          -3.0\n",
       "1930  2022-03-11 20:15:11+00:00          52297191          -0.0"
      ]
     },
     "execution_count": 13,
     "metadata": {},
     "output_type": "execute_result"
    }
   ],
   "source": [
    "# checking the values \n",
    "df[['created_at','author_followers','growth_fllrs']][1927:1931]"
   ]
  },
  {
   "cell_type": "markdown",
   "id": "47fc2211-cb42-4e63-a3a9-19c08f63bb96",
   "metadata": {},
   "source": [
    "- An indicator if the tweet is posted by NYT, and zero if the tweet belongs to Fox News"
   ]
  },
  {
   "cell_type": "code",
   "execution_count": 14,
   "id": "00cb42ee-d3e7-489d-abf5-fc7cd94d63a2",
   "metadata": {},
   "outputs": [],
   "source": [
    "df['is_nyt']= df['username'].apply(lambda x: 1 if x=='nytimes' else 0)"
   ]
  },
  {
   "cell_type": "code",
   "execution_count": 15,
   "id": "908539bd-c31d-4ebd-908d-a97e0a54b501",
   "metadata": {},
   "outputs": [
    {
     "data": {
      "text/html": [
       "<div>\n",
       "<style scoped>\n",
       "    .dataframe tbody tr th:only-of-type {\n",
       "        vertical-align: middle;\n",
       "    }\n",
       "\n",
       "    .dataframe tbody tr th {\n",
       "        vertical-align: top;\n",
       "    }\n",
       "\n",
       "    .dataframe thead th {\n",
       "        text-align: right;\n",
       "    }\n",
       "</style>\n",
       "<table border=\"1\" class=\"dataframe\">\n",
       "  <thead>\n",
       "    <tr style=\"text-align: right;\">\n",
       "      <th></th>\n",
       "      <th>username</th>\n",
       "      <th>author_followers</th>\n",
       "      <th>text</th>\n",
       "      <th>created_at</th>\n",
       "      <th>retweets</th>\n",
       "      <th>replies</th>\n",
       "      <th>likes</th>\n",
       "      <th>quote_count</th>\n",
       "      <th>likes_per_rt</th>\n",
       "      <th>likes_per_mfllrs</th>\n",
       "      <th>...</th>\n",
       "      <th>repl_quot_per_mfllrs</th>\n",
       "      <th>mentions_count</th>\n",
       "      <th>is_breaking</th>\n",
       "      <th>is_opinion</th>\n",
       "      <th>is_hashtag</th>\n",
       "      <th>hashtag_CriticsChoice</th>\n",
       "      <th>hashtag_CriticsChoiceAwards</th>\n",
       "      <th>hashtag_MeToo</th>\n",
       "      <th>growth_fllrs</th>\n",
       "      <th>is_nyt</th>\n",
       "    </tr>\n",
       "  </thead>\n",
       "  <tbody>\n",
       "    <tr>\n",
       "      <th>0</th>\n",
       "      <td>FoxNews</td>\n",
       "      <td>20946694</td>\n",
       "      <td>FLASHBACK: Ex-intel officials claimed the Hunt...</td>\n",
       "      <td>2022-03-18 15:50:00+00:00</td>\n",
       "      <td>26</td>\n",
       "      <td>39</td>\n",
       "      <td>68</td>\n",
       "      <td>0</td>\n",
       "      <td>2.615385</td>\n",
       "      <td>3.246336</td>\n",
       "      <td>...</td>\n",
       "      <td>1.861869</td>\n",
       "      <td>0</td>\n",
       "      <td>0</td>\n",
       "      <td>0</td>\n",
       "      <td>0</td>\n",
       "      <td>0</td>\n",
       "      <td>0</td>\n",
       "      <td>0</td>\n",
       "      <td>0.0</td>\n",
       "      <td>0</td>\n",
       "    </tr>\n",
       "    <tr>\n",
       "      <th>1</th>\n",
       "      <td>FoxNews</td>\n",
       "      <td>20946694</td>\n",
       "      <td>Biden must do more to counter Putin's propagan...</td>\n",
       "      <td>2022-03-18 15:45:00+00:00</td>\n",
       "      <td>23</td>\n",
       "      <td>94</td>\n",
       "      <td>92</td>\n",
       "      <td>7</td>\n",
       "      <td>4.000000</td>\n",
       "      <td>4.392101</td>\n",
       "      <td>...</td>\n",
       "      <td>4.821763</td>\n",
       "      <td>0</td>\n",
       "      <td>0</td>\n",
       "      <td>0</td>\n",
       "      <td>0</td>\n",
       "      <td>0</td>\n",
       "      <td>0</td>\n",
       "      <td>0</td>\n",
       "      <td>-0.0</td>\n",
       "      <td>0</td>\n",
       "    </tr>\n",
       "    <tr>\n",
       "      <th>2</th>\n",
       "      <td>FoxNews</td>\n",
       "      <td>20946694</td>\n",
       "      <td>NASCAR: What to expect from Atlanta's super ne...</td>\n",
       "      <td>2022-03-18 15:40:00+00:00</td>\n",
       "      <td>10</td>\n",
       "      <td>9</td>\n",
       "      <td>21</td>\n",
       "      <td>0</td>\n",
       "      <td>2.100000</td>\n",
       "      <td>1.002545</td>\n",
       "      <td>...</td>\n",
       "      <td>0.429662</td>\n",
       "      <td>0</td>\n",
       "      <td>0</td>\n",
       "      <td>0</td>\n",
       "      <td>0</td>\n",
       "      <td>0</td>\n",
       "      <td>0</td>\n",
       "      <td>0</td>\n",
       "      <td>-0.0</td>\n",
       "      <td>0</td>\n",
       "    </tr>\n",
       "    <tr>\n",
       "      <th>3</th>\n",
       "      <td>FoxNews</td>\n",
       "      <td>20946694</td>\n",
       "      <td>BREAKING: Biden, Xi discuss Russia's war again...</td>\n",
       "      <td>2022-03-18 15:34:43+00:00</td>\n",
       "      <td>33</td>\n",
       "      <td>71</td>\n",
       "      <td>87</td>\n",
       "      <td>3</td>\n",
       "      <td>2.636364</td>\n",
       "      <td>4.153400</td>\n",
       "      <td>...</td>\n",
       "      <td>3.532777</td>\n",
       "      <td>0</td>\n",
       "      <td>1</td>\n",
       "      <td>0</td>\n",
       "      <td>0</td>\n",
       "      <td>0</td>\n",
       "      <td>0</td>\n",
       "      <td>0</td>\n",
       "      <td>-0.0</td>\n",
       "      <td>0</td>\n",
       "    </tr>\n",
       "    <tr>\n",
       "      <th>4</th>\n",
       "      <td>FoxNews</td>\n",
       "      <td>20946694</td>\n",
       "      <td>Transgender swimmer's NCAA championship win 'j...</td>\n",
       "      <td>2022-03-18 15:30:00+00:00</td>\n",
       "      <td>51</td>\n",
       "      <td>69</td>\n",
       "      <td>254</td>\n",
       "      <td>4</td>\n",
       "      <td>4.980392</td>\n",
       "      <td>12.126019</td>\n",
       "      <td>...</td>\n",
       "      <td>3.485037</td>\n",
       "      <td>0</td>\n",
       "      <td>0</td>\n",
       "      <td>0</td>\n",
       "      <td>0</td>\n",
       "      <td>0</td>\n",
       "      <td>0</td>\n",
       "      <td>0</td>\n",
       "      <td>-0.0</td>\n",
       "      <td>0</td>\n",
       "    </tr>\n",
       "  </tbody>\n",
       "</table>\n",
       "<p>5 rows × 21 columns</p>\n",
       "</div>"
      ],
      "text/plain": [
       "  username  author_followers  \\\n",
       "0  FoxNews          20946694   \n",
       "1  FoxNews          20946694   \n",
       "2  FoxNews          20946694   \n",
       "3  FoxNews          20946694   \n",
       "4  FoxNews          20946694   \n",
       "\n",
       "                                                text  \\\n",
       "0  FLASHBACK: Ex-intel officials claimed the Hunt...   \n",
       "1  Biden must do more to counter Putin's propagan...   \n",
       "2  NASCAR: What to expect from Atlanta's super ne...   \n",
       "3  BREAKING: Biden, Xi discuss Russia's war again...   \n",
       "4  Transgender swimmer's NCAA championship win 'j...   \n",
       "\n",
       "                  created_at  retweets  replies  likes  quote_count  \\\n",
       "0  2022-03-18 15:50:00+00:00        26       39     68            0   \n",
       "1  2022-03-18 15:45:00+00:00        23       94     92            7   \n",
       "2  2022-03-18 15:40:00+00:00        10        9     21            0   \n",
       "3  2022-03-18 15:34:43+00:00        33       71     87            3   \n",
       "4  2022-03-18 15:30:00+00:00        51       69    254            4   \n",
       "\n",
       "   likes_per_rt  likes_per_mfllrs  ...  repl_quot_per_mfllrs  mentions_count  \\\n",
       "0      2.615385          3.246336  ...              1.861869               0   \n",
       "1      4.000000          4.392101  ...              4.821763               0   \n",
       "2      2.100000          1.002545  ...              0.429662               0   \n",
       "3      2.636364          4.153400  ...              3.532777               0   \n",
       "4      4.980392         12.126019  ...              3.485037               0   \n",
       "\n",
       "   is_breaking  is_opinion  is_hashtag  hashtag_CriticsChoice  \\\n",
       "0            0           0           0                      0   \n",
       "1            0           0           0                      0   \n",
       "2            0           0           0                      0   \n",
       "3            1           0           0                      0   \n",
       "4            0           0           0                      0   \n",
       "\n",
       "   hashtag_CriticsChoiceAwards  hashtag_MeToo  growth_fllrs  is_nyt  \n",
       "0                            0              0           0.0       0  \n",
       "1                            0              0          -0.0       0  \n",
       "2                            0              0          -0.0       0  \n",
       "3                            0              0          -0.0       0  \n",
       "4                            0              0          -0.0       0  \n",
       "\n",
       "[5 rows x 21 columns]"
      ]
     },
     "execution_count": 15,
     "metadata": {},
     "output_type": "execute_result"
    }
   ],
   "source": [
    "df.head()"
   ]
  },
  {
   "cell_type": "markdown",
   "id": "a5c3c5ac-db2e-4e59-bdc4-21532c1c6581",
   "metadata": {},
   "source": [
    "-----\n",
    "# Data Exploration and Prediction \n",
    "-----\n",
    "## Tweet - Follower Relationship\n",
    "\n",
    "For each of the outlet, we want to see whether there is any relationship between tweet content and number of followers. We use VADER Sentiment Intensity Analyzer for this."
   ]
  },
  {
   "cell_type": "code",
   "execution_count": 16,
   "id": "02fb1a8a-3dda-492b-b0a2-3345d8c3cb68",
   "metadata": {},
   "outputs": [],
   "source": [
    "from vaderSentiment.vaderSentiment import SentimentIntensityAnalyzer\n",
    "\n",
    "sentiment = SentimentIntensityAnalyzer()"
   ]
  },
  {
   "cell_type": "markdown",
   "id": "7f204bc8-68da-4245-914e-80cc8434e4a8",
   "metadata": {
    "tags": []
   },
   "source": [
    "**FoxNews data**"
   ]
  },
  {
   "cell_type": "code",
   "execution_count": 17,
   "id": "cbcc0959-b26a-4753-a96a-ce85004f3a22",
   "metadata": {},
   "outputs": [],
   "source": [
    "# estimating polarity score for each tweet\n",
    "df1['polarity_score'] = df1['text'].apply(lambda x: sentiment.polarity_scores(str(x))['compound'])\n",
    "\n",
    "# classifying tweets as positive, negative and neutral based on common thresholds for splitting Vader sentiments\n",
    "df1['sentiment'] = np.where(df1['polarity_score']>0.05, \"Positive\", \n",
    "                          np.where(df1['polarity_score']< -0.05, \"Negative\", 'Neutral'))"
   ]
  },
  {
   "cell_type": "code",
   "execution_count": 18,
   "id": "2c55a59a-4fa0-490c-8de3-246b676c56f5",
   "metadata": {},
   "outputs": [
    {
     "data": {
      "text/plain": [
       "<AxesSubplot:xlabel='sentiment', ylabel='count'>"
      ]
     },
     "execution_count": 18,
     "metadata": {},
     "output_type": "execute_result"
    },
    {
     "data": {
      "image/png": "[encoded data removed]",
      "text/plain": [
       "<Figure size 504x360 with 1 Axes>"
      ]
     },
     "metadata": {},
     "output_type": "display_data"
    }
   ],
   "source": [
    "import seaborn as sns\n",
    "sns.set(rc={\"figure.figsize\":(7, 5)})\n",
    "sns.countplot(x='sentiment', data=df1, palette=\"Reds\")"
   ]
  },
  {
   "cell_type": "markdown",
   "id": "7163e1b1-d2cf-4964-a97d-2745a26fe3ac",
   "metadata": {
    "tags": []
   },
   "source": [
    "We can see that there are more news with Negative sentiment for Fox News. \n",
    "\n",
    "Now, let's check whether there is any correlation between the number of followers and polarity scores."
   ]
  },
  {
   "cell_type": "code",
   "execution_count": 19,
   "id": "3368ba38-524c-4985-abc3-20e3df9272a6",
   "metadata": {},
   "outputs": [
    {
     "data": {
      "text/plain": [
       "0.053717506122658236"
      ]
     },
     "execution_count": 19,
     "metadata": {},
     "output_type": "execute_result"
    }
   ],
   "source": [
    "df1['polarity_score'].corr(df1['author_followers'])"
   ]
  },
  {
   "cell_type": "markdown",
   "id": "b1b23096-2fbd-4725-a6d5-200031bc008f",
   "metadata": {},
   "source": [
    "The correlation value is positive, but very small. \n",
    "\n",
    "Let's find correlation between the number of followers and sentiment scores instead of polarity scores."
   ]
  },
  {
   "cell_type": "code",
   "execution_count": 20,
   "id": "bdcb56fb-65e7-400e-a9c4-e790ec3c844e",
   "metadata": {},
   "outputs": [
    {
     "data": {
      "text/plain": [
       "0.04273945202796756"
      ]
     },
     "execution_count": 20,
     "metadata": {},
     "output_type": "execute_result"
    }
   ],
   "source": [
    "df1['sentiment'] = np.where(df1['polarity_score']>0.05, 1, \n",
    "                          np.where(df1['polarity_score']< -0.05, -1, 0))\n",
    "\n",
    "df1['sentiment'].corr(df1['author_followers'])"
   ]
  },
  {
   "cell_type": "markdown",
   "id": "3bc42489-ab62-4677-994a-c01e9d5852f3",
   "metadata": {},
   "source": [
    "The result has not changed much. Positive sign implies that increase in sentiment/polarity score is associated with in increase in followers for Fox News, however the value is too small. "
   ]
  },
  {
   "cell_type": "code",
   "execution_count": 21,
   "id": "4bc8311f-1c10-4e4a-8a09-46516d1e5673",
   "metadata": {},
   "outputs": [
    {
     "data": {
      "image/png": "[encoded data removed]",
      "text/plain": [
       "<Figure size 504x360 with 1 Axes>"
      ]
     },
     "metadata": {},
     "output_type": "display_data"
    }
   ],
   "source": [
    "import matplotlib.pyplot as plt\n",
    "\n",
    "sns.lmplot(x = \"polarity_score\", y = 'author_followers', data = df1, \n",
    "           scatter_kws ={'color': '#FF7256', 's':2}, line_kws={'color': '#8B1A1A'}, \n",
    "           height=5, aspect=1.4, legend=False )\n",
    "sns.color_palette(\"Reds\")\n",
    "\n",
    "ax = plt.gca()\n",
    "ax.set_title(\"Tweet - Follower Relationship: Fox News\", fontsize=17)\n",
    "plt.show()"
   ]
  },
  {
   "cell_type": "markdown",
   "id": "77af6223-6f15-4692-95cf-fd690cfd57f4",
   "metadata": {
    "tags": []
   },
   "source": [
    "As we can see, the slope is positive but at the same time very small. Partially the reason for this is that there is no variability in the followers number. For such a short period, the number of followers increased and decreased only few times by 1-6 followers.\n",
    "\n",
    "**NYTimes data**"
   ]
  },
  {
   "cell_type": "code",
   "execution_count": 22,
   "id": "084b838a-9406-4836-a857-f24deb920b05",
   "metadata": {},
   "outputs": [],
   "source": [
    "df2['polarity_score'] = df2['text'].apply(lambda x: sentiment.polarity_scores(str(x))['compound'])\n",
    "df2['sentiment'] = np.where(df2['polarity_score']>0.05, \"Positive\", \n",
    "                          np.where(df2['polarity_score']< -0.05, \"Negative\", 'Neutral'))"
   ]
  },
  {
   "cell_type": "code",
   "execution_count": 23,
   "id": "210f3e5f-477b-4cfd-9e83-c5f3c15c00f1",
   "metadata": {},
   "outputs": [
    {
     "data": {
      "text/plain": [
       "<AxesSubplot:xlabel='sentiment', ylabel='count'>"
      ]
     },
     "execution_count": 23,
     "metadata": {},
     "output_type": "execute_result"
    },
    {
     "data": {
      "image/png": "[encoded data removed]",
      "text/plain": [
       "<Figure size 504x360 with 1 Axes>"
      ]
     },
     "metadata": {},
     "output_type": "display_data"
    }
   ],
   "source": [
    "sns.countplot(x='sentiment', data=df2, palette=\"Reds\")"
   ]
  },
  {
   "cell_type": "markdown",
   "id": "5af74b9c-7552-43aa-8aa9-d349c32ee029",
   "metadata": {
    "tags": []
   },
   "source": [
    "We can see that there are more news with Negative sentiment. \n",
    "\n",
    "Now, let's check whether there is any correlation between the number of followers and polarity/sentiment scores."
   ]
  },
  {
   "cell_type": "code",
   "execution_count": 24,
   "id": "17bc5da6-3c07-4aa4-a5af-02c7184ffa08",
   "metadata": {},
   "outputs": [
    {
     "data": {
      "text/plain": [
       "-0.03855869395832605"
      ]
     },
     "execution_count": 24,
     "metadata": {},
     "output_type": "execute_result"
    }
   ],
   "source": [
    "df2['polarity_score'].corr(df2['author_followers'])"
   ]
  },
  {
   "cell_type": "code",
   "execution_count": 25,
   "id": "31d13b67-3acc-4d83-8a60-dcec9a1108d2",
   "metadata": {},
   "outputs": [
    {
     "data": {
      "text/plain": [
       "-0.03424046821084184"
      ]
     },
     "execution_count": 25,
     "metadata": {},
     "output_type": "execute_result"
    }
   ],
   "source": [
    "df2['sentiment'] = np.where(df2['polarity_score']>0.05, 1, \n",
    "                          np.where(df2['polarity_score']< -0.05, -1, 0))\n",
    "df2['sentiment'].corr(df2['author_followers'])"
   ]
  },
  {
   "cell_type": "code",
   "execution_count": 26,
   "id": "ddd86244-11c5-4b9c-8c98-a0167ce22510",
   "metadata": {},
   "outputs": [
    {
     "data": {
      "image/png": "[encoded data removed]",
      "text/plain": [
       "<Figure size 504x360 with 1 Axes>"
      ]
     },
     "metadata": {},
     "output_type": "display_data"
    }
   ],
   "source": [
    "sns.lmplot(x = \"polarity_score\", y = 'author_followers', data = df2, \n",
    "           scatter_kws ={'color': '#FF7256', 's':2}, line_kws={'color': '#8B1A1A'}, \n",
    "           height=5, aspect=1.4, legend=False )\n",
    "sns.color_palette(\"Reds\")\n",
    "\n",
    "ax = plt.gca()\n",
    "ax.set_title(\"Tweet - Follower Relationship: NY Times\", fontsize=17)\n",
    "plt.show()"
   ]
  },
  {
   "cell_type": "markdown",
   "id": "9fdd815a-c2bf-441a-b13d-ca6f5a2b851b",
   "metadata": {},
   "source": [
    "As we can see, for NY times, the correlation is now negative but still very low, almost zero. Once again we think that with greater  variability in the followers number the results could be more meaningfull.\n",
    "\n",
    "------"
   ]
  },
  {
   "cell_type": "markdown",
   "id": "70efa1c8-d35b-40b6-9b5d-dfb0551ce372",
   "metadata": {},
   "source": [
    "## The most frequent topics tweeted about by each outlet\n",
    "\n",
    "#### Preprocess data"
   ]
  },
  {
   "cell_type": "code",
   "execution_count": 27,
   "id": "f2bf07bb-243c-4762-a209-8993a8290cbc",
   "metadata": {},
   "outputs": [],
   "source": [
    "from sklearn.feature_extraction.text import TfidfVectorizer\n",
    "from sklearn.feature_extraction.text import CountVectorizer\n",
    "from nltk.corpus import stopwords\n",
    "from nltk.tokenize import word_tokenize\n",
    "from nltk.stem import WordNetLemmatizer, LancasterStemmer "
   ]
  },
  {
   "cell_type": "code",
   "execution_count": 28,
   "id": "fb14da47-ab69-41c1-8eaa-fa2b8bd93bc8",
   "metadata": {},
   "outputs": [],
   "source": [
    "# load the stopword list provided by the NLTK library\n",
    "stop_words = stopwords.words('english')\n",
    "\n",
    "# think of twitter/news specific stopwords \n",
    "stopwords_verbs = ['said','say', 'writes', 'take','get','may', 'get', 'go', 'know', 'may', 'need', 'like', 'make', 'see', 'want', 'come', 'take', 'use', 'would', 'can']\n",
    "stopwords_other = ['according', 'one', 'mr', 'bbc', 'image', 'getty', 'de', 'en', 'caption', 'also', 'copyright', 'something', 'u']\n",
    "\n",
    "stop_words = stop_words + stopwords_verbs + stopwords_other"
   ]
  },
  {
   "cell_type": "markdown",
   "id": "596e5c94-d7fe-4a9b-9d87-0b9b51801ad6",
   "metadata": {},
   "source": [
    "Let's define a function **preprocessing_text** that takes text as input an does the following:\n",
    "* replaces all non-alphanumeric characters with spaces\n",
    "* replaces 3+ consecutive letters to one. e.g. looooove -> love\n",
    "* removes all emails\n",
    "* removes all urls\n",
    "* replaces all letters to lower case\n",
    "* removes stopwords (nltk stopwords)\n",
    "* removes words with digits\n",
    "* conducts a lemmatization"
   ]
  },
  {
   "cell_type": "code",
   "execution_count": 29,
   "id": "44259926-0a03-4bc5-bc16-bba3ef3cf065",
   "metadata": {},
   "outputs": [],
   "source": [
    "def preprocessing_text(text):\n",
    "    text = re.sub(r'([a-z0-9+._-]+@[a-z0-9+._-]+\\.[a-z0-9+_-]+)',\"\", text) # remove emails\n",
    "    text = re.sub(r'(http|https|ftp|ssh)://([\\w_-]+(?:(?:\\.[\\w_-]+)+))([\\w.,@?^=%&:/~+#-]*[\\w@?^=%&/~+#-])?', '' , text) # remove urls\n",
    "    text = re.sub(r'[^A-Za-z0-9 ]+', ' ', text) #remove all non‐alphanumeric characters except white space\n",
    "    text = re.sub(\"(.)\\\\1{2,}\", \"\\\\1\", text) #replace 3+ consecutive letters to 1 (loooovvvve -> love)\n",
    "    words = word_tokenize(text.lower())\n",
    "    tokens = [word for word in words if word not in stop_words]\n",
    "    tokens = [token for token in tokens if not any(c.isdigit() for c in token)] #remove everything containing digits\n",
    "    lemmatizer = WordNetLemmatizer()\n",
    "    tokens_lematized = [lemmatizer.lemmatize(word) for word in tokens]\n",
    "    tokens_lematized = [token for token in tokens_lematized if token not in stop_words]\n",
    "    preprocessed_text = ' '.join(tokens_lematized)\n",
    "    return preprocessed_text"
   ]
  },
  {
   "cell_type": "code",
   "execution_count": 30,
   "id": "50a6d032-c8d7-4ec7-b675-fcca29029294",
   "metadata": {},
   "outputs": [
    {
     "name": "stdout",
     "output_type": "stream",
     "text": [
      "CPU times: total: 1.97 s\n",
      "Wall time: 2.1 s\n"
     ]
    }
   ],
   "source": [
    "%%time\n",
    "df1['text'] = df1['text'].apply(lambda x: preprocessing_text(x))"
   ]
  },
  {
   "cell_type": "code",
   "execution_count": 31,
   "id": "db57ad2e-a29e-4662-be26-aba24af3dfa0",
   "metadata": {},
   "outputs": [
    {
     "name": "stdout",
     "output_type": "stream",
     "text": [
      "CPU times: total: 391 ms\n",
      "Wall time: 426 ms\n"
     ]
    }
   ],
   "source": [
    "%%time\n",
    "df2['text'] = df2['text'].apply(lambda x: preprocessing_text(x))"
   ]
  },
  {
   "cell_type": "markdown",
   "id": "4a3701e1-5110-450b-8a9e-05d4973707c0",
   "metadata": {},
   "source": [
    "#### Use count vectorizer"
   ]
  },
  {
   "cell_type": "code",
   "execution_count": 32,
   "id": "72b9f97d-7777-4dc7-aa3d-57bc805596b0",
   "metadata": {},
   "outputs": [],
   "source": [
    "from sklearn.feature_extraction.text import CountVectorizer\n",
    "vectorizer1 = CountVectorizer()\n",
    "vectorizer2 = CountVectorizer()\n",
    "\n",
    "count1 = vectorizer1.fit_transform(df1.text)\n",
    "count2 = vectorizer2.fit_transform(df2.text)"
   ]
  },
  {
   "cell_type": "markdown",
   "id": "232182e5-8e4b-4c33-ab76-5a4496f21495",
   "metadata": {},
   "source": [
    "Let's first have a look at the top common words mentioned by senators in their speeches."
   ]
  },
  {
   "cell_type": "code",
   "execution_count": 33,
   "id": "8f5fe7fd-02d9-4e4e-b25c-6e4b6eae2894",
   "metadata": {},
   "outputs": [
    {
     "data": {
      "text/html": [
       "<div>\n",
       "<style scoped>\n",
       "    .dataframe tbody tr th:only-of-type {\n",
       "        vertical-align: middle;\n",
       "    }\n",
       "\n",
       "    .dataframe tbody tr th {\n",
       "        vertical-align: top;\n",
       "    }\n",
       "\n",
       "    .dataframe thead th {\n",
       "        text-align: right;\n",
       "    }\n",
       "</style>\n",
       "<table border=\"1\" class=\"dataframe\">\n",
       "  <thead>\n",
       "    <tr style=\"text-align: right;\">\n",
       "      <th></th>\n",
       "      <th>0</th>\n",
       "      <th>1</th>\n",
       "      <th>2</th>\n",
       "      <th>3</th>\n",
       "      <th>4</th>\n",
       "      <th>5</th>\n",
       "      <th>6</th>\n",
       "      <th>7</th>\n",
       "      <th>8</th>\n",
       "      <th>9</th>\n",
       "      <th>...</th>\n",
       "      <th>1320</th>\n",
       "      <th>1321</th>\n",
       "      <th>1322</th>\n",
       "      <th>1323</th>\n",
       "      <th>1324</th>\n",
       "      <th>1325</th>\n",
       "      <th>1326</th>\n",
       "      <th>1327</th>\n",
       "      <th>1328</th>\n",
       "      <th>Total</th>\n",
       "    </tr>\n",
       "  </thead>\n",
       "  <tbody>\n",
       "    <tr>\n",
       "      <th>ukraine</th>\n",
       "      <td>0</td>\n",
       "      <td>0</td>\n",
       "      <td>0</td>\n",
       "      <td>1</td>\n",
       "      <td>0</td>\n",
       "      <td>0</td>\n",
       "      <td>0</td>\n",
       "      <td>0</td>\n",
       "      <td>1</td>\n",
       "      <td>1</td>\n",
       "      <td>...</td>\n",
       "      <td>0</td>\n",
       "      <td>0</td>\n",
       "      <td>0</td>\n",
       "      <td>0</td>\n",
       "      <td>0</td>\n",
       "      <td>1</td>\n",
       "      <td>0</td>\n",
       "      <td>1</td>\n",
       "      <td>0</td>\n",
       "      <td>263</td>\n",
       "    </tr>\n",
       "    <tr>\n",
       "      <th>biden</th>\n",
       "      <td>1</td>\n",
       "      <td>1</td>\n",
       "      <td>0</td>\n",
       "      <td>1</td>\n",
       "      <td>0</td>\n",
       "      <td>0</td>\n",
       "      <td>1</td>\n",
       "      <td>1</td>\n",
       "      <td>0</td>\n",
       "      <td>0</td>\n",
       "      <td>...</td>\n",
       "      <td>0</td>\n",
       "      <td>0</td>\n",
       "      <td>1</td>\n",
       "      <td>0</td>\n",
       "      <td>0</td>\n",
       "      <td>0</td>\n",
       "      <td>1</td>\n",
       "      <td>0</td>\n",
       "      <td>0</td>\n",
       "      <td>206</td>\n",
       "    </tr>\n",
       "    <tr>\n",
       "      <th>russia</th>\n",
       "      <td>0</td>\n",
       "      <td>0</td>\n",
       "      <td>0</td>\n",
       "      <td>1</td>\n",
       "      <td>0</td>\n",
       "      <td>0</td>\n",
       "      <td>0</td>\n",
       "      <td>1</td>\n",
       "      <td>0</td>\n",
       "      <td>0</td>\n",
       "      <td>...</td>\n",
       "      <td>0</td>\n",
       "      <td>0</td>\n",
       "      <td>0</td>\n",
       "      <td>0</td>\n",
       "      <td>0</td>\n",
       "      <td>1</td>\n",
       "      <td>0</td>\n",
       "      <td>0</td>\n",
       "      <td>1</td>\n",
       "      <td>184</td>\n",
       "    </tr>\n",
       "    <tr>\n",
       "      <th>war</th>\n",
       "      <td>0</td>\n",
       "      <td>0</td>\n",
       "      <td>0</td>\n",
       "      <td>1</td>\n",
       "      <td>0</td>\n",
       "      <td>0</td>\n",
       "      <td>0</td>\n",
       "      <td>1</td>\n",
       "      <td>0</td>\n",
       "      <td>0</td>\n",
       "      <td>...</td>\n",
       "      <td>0</td>\n",
       "      <td>0</td>\n",
       "      <td>0</td>\n",
       "      <td>0</td>\n",
       "      <td>0</td>\n",
       "      <td>1</td>\n",
       "      <td>0</td>\n",
       "      <td>0</td>\n",
       "      <td>0</td>\n",
       "      <td>141</td>\n",
       "    </tr>\n",
       "    <tr>\n",
       "      <th>russian</th>\n",
       "      <td>1</td>\n",
       "      <td>0</td>\n",
       "      <td>0</td>\n",
       "      <td>0</td>\n",
       "      <td>0</td>\n",
       "      <td>0</td>\n",
       "      <td>0</td>\n",
       "      <td>0</td>\n",
       "      <td>0</td>\n",
       "      <td>1</td>\n",
       "      <td>...</td>\n",
       "      <td>0</td>\n",
       "      <td>0</td>\n",
       "      <td>0</td>\n",
       "      <td>0</td>\n",
       "      <td>0</td>\n",
       "      <td>0</td>\n",
       "      <td>0</td>\n",
       "      <td>0</td>\n",
       "      <td>0</td>\n",
       "      <td>140</td>\n",
       "    </tr>\n",
       "    <tr>\n",
       "      <th>putin</th>\n",
       "      <td>0</td>\n",
       "      <td>1</td>\n",
       "      <td>0</td>\n",
       "      <td>0</td>\n",
       "      <td>0</td>\n",
       "      <td>0</td>\n",
       "      <td>0</td>\n",
       "      <td>1</td>\n",
       "      <td>0</td>\n",
       "      <td>0</td>\n",
       "      <td>...</td>\n",
       "      <td>0</td>\n",
       "      <td>0</td>\n",
       "      <td>0</td>\n",
       "      <td>0</td>\n",
       "      <td>0</td>\n",
       "      <td>0</td>\n",
       "      <td>0</td>\n",
       "      <td>0</td>\n",
       "      <td>0</td>\n",
       "      <td>98</td>\n",
       "    </tr>\n",
       "    <tr>\n",
       "      <th>ukrainian</th>\n",
       "      <td>0</td>\n",
       "      <td>0</td>\n",
       "      <td>0</td>\n",
       "      <td>0</td>\n",
       "      <td>0</td>\n",
       "      <td>0</td>\n",
       "      <td>0</td>\n",
       "      <td>0</td>\n",
       "      <td>0</td>\n",
       "      <td>0</td>\n",
       "      <td>...</td>\n",
       "      <td>0</td>\n",
       "      <td>0</td>\n",
       "      <td>0</td>\n",
       "      <td>0</td>\n",
       "      <td>0</td>\n",
       "      <td>0</td>\n",
       "      <td>0</td>\n",
       "      <td>0</td>\n",
       "      <td>0</td>\n",
       "      <td>67</td>\n",
       "    </tr>\n",
       "    <tr>\n",
       "      <th>zelenskyy</th>\n",
       "      <td>0</td>\n",
       "      <td>0</td>\n",
       "      <td>0</td>\n",
       "      <td>0</td>\n",
       "      <td>0</td>\n",
       "      <td>0</td>\n",
       "      <td>0</td>\n",
       "      <td>0</td>\n",
       "      <td>0</td>\n",
       "      <td>0</td>\n",
       "      <td>...</td>\n",
       "      <td>0</td>\n",
       "      <td>0</td>\n",
       "      <td>0</td>\n",
       "      <td>0</td>\n",
       "      <td>0</td>\n",
       "      <td>0</td>\n",
       "      <td>0</td>\n",
       "      <td>0</td>\n",
       "      <td>0</td>\n",
       "      <td>67</td>\n",
       "    </tr>\n",
       "    <tr>\n",
       "      <th>new</th>\n",
       "      <td>0</td>\n",
       "      <td>0</td>\n",
       "      <td>1</td>\n",
       "      <td>0</td>\n",
       "      <td>0</td>\n",
       "      <td>0</td>\n",
       "      <td>0</td>\n",
       "      <td>0</td>\n",
       "      <td>0</td>\n",
       "      <td>0</td>\n",
       "      <td>...</td>\n",
       "      <td>0</td>\n",
       "      <td>0</td>\n",
       "      <td>0</td>\n",
       "      <td>0</td>\n",
       "      <td>0</td>\n",
       "      <td>0</td>\n",
       "      <td>0</td>\n",
       "      <td>0</td>\n",
       "      <td>0</td>\n",
       "      <td>64</td>\n",
       "    </tr>\n",
       "    <tr>\n",
       "      <th>amid</th>\n",
       "      <td>0</td>\n",
       "      <td>0</td>\n",
       "      <td>0</td>\n",
       "      <td>0</td>\n",
       "      <td>0</td>\n",
       "      <td>0</td>\n",
       "      <td>0</td>\n",
       "      <td>0</td>\n",
       "      <td>1</td>\n",
       "      <td>0</td>\n",
       "      <td>...</td>\n",
       "      <td>0</td>\n",
       "      <td>0</td>\n",
       "      <td>0</td>\n",
       "      <td>0</td>\n",
       "      <td>0</td>\n",
       "      <td>0</td>\n",
       "      <td>0</td>\n",
       "      <td>0</td>\n",
       "      <td>0</td>\n",
       "      <td>53</td>\n",
       "    </tr>\n",
       "  </tbody>\n",
       "</table>\n",
       "<p>10 rows × 1330 columns</p>\n",
       "</div>"
      ],
      "text/plain": [
       "           0  1  2  3  4  5  6  7  8  9  ...  1320  1321  1322  1323  1324  \\\n",
       "ukraine    0  0  0  1  0  0  0  0  1  1  ...     0     0     0     0     0   \n",
       "biden      1  1  0  1  0  0  1  1  0  0  ...     0     0     1     0     0   \n",
       "russia     0  0  0  1  0  0  0  1  0  0  ...     0     0     0     0     0   \n",
       "war        0  0  0  1  0  0  0  1  0  0  ...     0     0     0     0     0   \n",
       "russian    1  0  0  0  0  0  0  0  0  1  ...     0     0     0     0     0   \n",
       "putin      0  1  0  0  0  0  0  1  0  0  ...     0     0     0     0     0   \n",
       "ukrainian  0  0  0  0  0  0  0  0  0  0  ...     0     0     0     0     0   \n",
       "zelenskyy  0  0  0  0  0  0  0  0  0  0  ...     0     0     0     0     0   \n",
       "new        0  0  1  0  0  0  0  0  0  0  ...     0     0     0     0     0   \n",
       "amid       0  0  0  0  0  0  0  0  1  0  ...     0     0     0     0     0   \n",
       "\n",
       "           1325  1326  1327  1328  Total  \n",
       "ukraine       1     0     1     0    263  \n",
       "biden         0     1     0     0    206  \n",
       "russia        1     0     0     1    184  \n",
       "war           1     0     0     0    141  \n",
       "russian       0     0     0     0    140  \n",
       "putin         0     0     0     0     98  \n",
       "ukrainian     0     0     0     0     67  \n",
       "zelenskyy     0     0     0     0     67  \n",
       "new           0     0     0     0     64  \n",
       "amid          0     0     0     0     53  \n",
       "\n",
       "[10 rows x 1330 columns]"
      ]
     },
     "execution_count": 33,
     "metadata": {},
     "output_type": "execute_result"
    }
   ],
   "source": [
    "df1_top_words = pd.DataFrame(count1.toarray().transpose(), index=vectorizer1.get_feature_names())\n",
    "\n",
    "#Creating a column that would show the total number of mentions for each of the word/token\n",
    "df1_top_words.loc[:,'Total'] = df1_top_words.sum(axis=1) \n",
    "df1_top_words = df1_top_words.sort_values(by='Total', ascending=False)\n",
    "df1_top_words.head(10)\n",
    "# For Fox News:"
   ]
  },
  {
   "cell_type": "code",
   "execution_count": 34,
   "id": "5e7ae6d3-1902-4283-be89-3c6cac92180c",
   "metadata": {},
   "outputs": [
    {
     "data": {
      "text/html": [
       "<div>\n",
       "<style scoped>\n",
       "    .dataframe tbody tr th:only-of-type {\n",
       "        vertical-align: middle;\n",
       "    }\n",
       "\n",
       "    .dataframe tbody tr th {\n",
       "        vertical-align: top;\n",
       "    }\n",
       "\n",
       "    .dataframe thead th {\n",
       "        text-align: right;\n",
       "    }\n",
       "</style>\n",
       "<table border=\"1\" class=\"dataframe\">\n",
       "  <thead>\n",
       "    <tr style=\"text-align: right;\">\n",
       "      <th></th>\n",
       "      <th>0</th>\n",
       "      <th>1</th>\n",
       "      <th>2</th>\n",
       "      <th>3</th>\n",
       "      <th>4</th>\n",
       "      <th>5</th>\n",
       "      <th>6</th>\n",
       "      <th>7</th>\n",
       "      <th>8</th>\n",
       "      <th>9</th>\n",
       "      <th>...</th>\n",
       "      <th>614</th>\n",
       "      <th>615</th>\n",
       "      <th>616</th>\n",
       "      <th>617</th>\n",
       "      <th>618</th>\n",
       "      <th>619</th>\n",
       "      <th>620</th>\n",
       "      <th>621</th>\n",
       "      <th>622</th>\n",
       "      <th>Total</th>\n",
       "    </tr>\n",
       "  </thead>\n",
       "  <tbody>\n",
       "    <tr>\n",
       "      <th>ukraine</th>\n",
       "      <td>0</td>\n",
       "      <td>0</td>\n",
       "      <td>0</td>\n",
       "      <td>0</td>\n",
       "      <td>1</td>\n",
       "      <td>1</td>\n",
       "      <td>0</td>\n",
       "      <td>1</td>\n",
       "      <td>0</td>\n",
       "      <td>0</td>\n",
       "      <td>...</td>\n",
       "      <td>0</td>\n",
       "      <td>0</td>\n",
       "      <td>0</td>\n",
       "      <td>0</td>\n",
       "      <td>1</td>\n",
       "      <td>0</td>\n",
       "      <td>0</td>\n",
       "      <td>0</td>\n",
       "      <td>0</td>\n",
       "      <td>179</td>\n",
       "    </tr>\n",
       "    <tr>\n",
       "      <th>russia</th>\n",
       "      <td>0</td>\n",
       "      <td>0</td>\n",
       "      <td>0</td>\n",
       "      <td>0</td>\n",
       "      <td>0</td>\n",
       "      <td>1</td>\n",
       "      <td>0</td>\n",
       "      <td>0</td>\n",
       "      <td>0</td>\n",
       "      <td>0</td>\n",
       "      <td>...</td>\n",
       "      <td>0</td>\n",
       "      <td>0</td>\n",
       "      <td>0</td>\n",
       "      <td>0</td>\n",
       "      <td>0</td>\n",
       "      <td>0</td>\n",
       "      <td>0</td>\n",
       "      <td>0</td>\n",
       "      <td>1</td>\n",
       "      <td>134</td>\n",
       "    </tr>\n",
       "    <tr>\n",
       "      <th>russian</th>\n",
       "      <td>0</td>\n",
       "      <td>0</td>\n",
       "      <td>0</td>\n",
       "      <td>0</td>\n",
       "      <td>0</td>\n",
       "      <td>1</td>\n",
       "      <td>0</td>\n",
       "      <td>1</td>\n",
       "      <td>0</td>\n",
       "      <td>0</td>\n",
       "      <td>...</td>\n",
       "      <td>0</td>\n",
       "      <td>0</td>\n",
       "      <td>0</td>\n",
       "      <td>0</td>\n",
       "      <td>0</td>\n",
       "      <td>0</td>\n",
       "      <td>0</td>\n",
       "      <td>0</td>\n",
       "      <td>1</td>\n",
       "      <td>117</td>\n",
       "    </tr>\n",
       "    <tr>\n",
       "      <th>new</th>\n",
       "      <td>0</td>\n",
       "      <td>1</td>\n",
       "      <td>0</td>\n",
       "      <td>0</td>\n",
       "      <td>0</td>\n",
       "      <td>0</td>\n",
       "      <td>0</td>\n",
       "      <td>0</td>\n",
       "      <td>1</td>\n",
       "      <td>0</td>\n",
       "      <td>...</td>\n",
       "      <td>0</td>\n",
       "      <td>0</td>\n",
       "      <td>0</td>\n",
       "      <td>0</td>\n",
       "      <td>0</td>\n",
       "      <td>0</td>\n",
       "      <td>1</td>\n",
       "      <td>0</td>\n",
       "      <td>0</td>\n",
       "      <td>85</td>\n",
       "    </tr>\n",
       "    <tr>\n",
       "      <th>war</th>\n",
       "      <td>0</td>\n",
       "      <td>0</td>\n",
       "      <td>0</td>\n",
       "      <td>0</td>\n",
       "      <td>0</td>\n",
       "      <td>1</td>\n",
       "      <td>0</td>\n",
       "      <td>0</td>\n",
       "      <td>0</td>\n",
       "      <td>0</td>\n",
       "      <td>...</td>\n",
       "      <td>0</td>\n",
       "      <td>0</td>\n",
       "      <td>0</td>\n",
       "      <td>0</td>\n",
       "      <td>0</td>\n",
       "      <td>0</td>\n",
       "      <td>0</td>\n",
       "      <td>0</td>\n",
       "      <td>0</td>\n",
       "      <td>83</td>\n",
       "    </tr>\n",
       "    <tr>\n",
       "      <th>president</th>\n",
       "      <td>0</td>\n",
       "      <td>0</td>\n",
       "      <td>0</td>\n",
       "      <td>0</td>\n",
       "      <td>1</td>\n",
       "      <td>0</td>\n",
       "      <td>0</td>\n",
       "      <td>0</td>\n",
       "      <td>0</td>\n",
       "      <td>0</td>\n",
       "      <td>...</td>\n",
       "      <td>0</td>\n",
       "      <td>0</td>\n",
       "      <td>0</td>\n",
       "      <td>0</td>\n",
       "      <td>0</td>\n",
       "      <td>0</td>\n",
       "      <td>0</td>\n",
       "      <td>0</td>\n",
       "      <td>1</td>\n",
       "      <td>79</td>\n",
       "    </tr>\n",
       "    <tr>\n",
       "      <th>city</th>\n",
       "      <td>2</td>\n",
       "      <td>0</td>\n",
       "      <td>1</td>\n",
       "      <td>0</td>\n",
       "      <td>0</td>\n",
       "      <td>0</td>\n",
       "      <td>0</td>\n",
       "      <td>0</td>\n",
       "      <td>1</td>\n",
       "      <td>0</td>\n",
       "      <td>...</td>\n",
       "      <td>0</td>\n",
       "      <td>0</td>\n",
       "      <td>1</td>\n",
       "      <td>0</td>\n",
       "      <td>0</td>\n",
       "      <td>0</td>\n",
       "      <td>0</td>\n",
       "      <td>0</td>\n",
       "      <td>0</td>\n",
       "      <td>70</td>\n",
       "    </tr>\n",
       "    <tr>\n",
       "      <th>year</th>\n",
       "      <td>0</td>\n",
       "      <td>1</td>\n",
       "      <td>0</td>\n",
       "      <td>0</td>\n",
       "      <td>0</td>\n",
       "      <td>0</td>\n",
       "      <td>0</td>\n",
       "      <td>0</td>\n",
       "      <td>1</td>\n",
       "      <td>0</td>\n",
       "      <td>...</td>\n",
       "      <td>0</td>\n",
       "      <td>0</td>\n",
       "      <td>0</td>\n",
       "      <td>0</td>\n",
       "      <td>0</td>\n",
       "      <td>0</td>\n",
       "      <td>0</td>\n",
       "      <td>0</td>\n",
       "      <td>0</td>\n",
       "      <td>67</td>\n",
       "    </tr>\n",
       "    <tr>\n",
       "      <th>ukrainian</th>\n",
       "      <td>0</td>\n",
       "      <td>0</td>\n",
       "      <td>1</td>\n",
       "      <td>0</td>\n",
       "      <td>0</td>\n",
       "      <td>0</td>\n",
       "      <td>0</td>\n",
       "      <td>0</td>\n",
       "      <td>0</td>\n",
       "      <td>0</td>\n",
       "      <td>...</td>\n",
       "      <td>0</td>\n",
       "      <td>0</td>\n",
       "      <td>0</td>\n",
       "      <td>0</td>\n",
       "      <td>0</td>\n",
       "      <td>0</td>\n",
       "      <td>0</td>\n",
       "      <td>0</td>\n",
       "      <td>0</td>\n",
       "      <td>63</td>\n",
       "    </tr>\n",
       "    <tr>\n",
       "      <th>people</th>\n",
       "      <td>1</td>\n",
       "      <td>0</td>\n",
       "      <td>0</td>\n",
       "      <td>0</td>\n",
       "      <td>0</td>\n",
       "      <td>0</td>\n",
       "      <td>1</td>\n",
       "      <td>0</td>\n",
       "      <td>0</td>\n",
       "      <td>1</td>\n",
       "      <td>...</td>\n",
       "      <td>0</td>\n",
       "      <td>0</td>\n",
       "      <td>0</td>\n",
       "      <td>0</td>\n",
       "      <td>0</td>\n",
       "      <td>0</td>\n",
       "      <td>0</td>\n",
       "      <td>0</td>\n",
       "      <td>0</td>\n",
       "      <td>62</td>\n",
       "    </tr>\n",
       "  </tbody>\n",
       "</table>\n",
       "<p>10 rows × 624 columns</p>\n",
       "</div>"
      ],
      "text/plain": [
       "           0  1  2  3  4  5  6  7  8  9  ...  614  615  616  617  618  619  \\\n",
       "ukraine    0  0  0  0  1  1  0  1  0  0  ...    0    0    0    0    1    0   \n",
       "russia     0  0  0  0  0  1  0  0  0  0  ...    0    0    0    0    0    0   \n",
       "russian    0  0  0  0  0  1  0  1  0  0  ...    0    0    0    0    0    0   \n",
       "new        0  1  0  0  0  0  0  0  1  0  ...    0    0    0    0    0    0   \n",
       "war        0  0  0  0  0  1  0  0  0  0  ...    0    0    0    0    0    0   \n",
       "president  0  0  0  0  1  0  0  0  0  0  ...    0    0    0    0    0    0   \n",
       "city       2  0  1  0  0  0  0  0  1  0  ...    0    0    1    0    0    0   \n",
       "year       0  1  0  0  0  0  0  0  1  0  ...    0    0    0    0    0    0   \n",
       "ukrainian  0  0  1  0  0  0  0  0  0  0  ...    0    0    0    0    0    0   \n",
       "people     1  0  0  0  0  0  1  0  0  1  ...    0    0    0    0    0    0   \n",
       "\n",
       "           620  621  622  Total  \n",
       "ukraine      0    0    0    179  \n",
       "russia       0    0    1    134  \n",
       "russian      0    0    1    117  \n",
       "new          1    0    0     85  \n",
       "war          0    0    0     83  \n",
       "president    0    0    1     79  \n",
       "city         0    0    0     70  \n",
       "year         0    0    0     67  \n",
       "ukrainian    0    0    0     63  \n",
       "people       0    0    0     62  \n",
       "\n",
       "[10 rows x 624 columns]"
      ]
     },
     "execution_count": 34,
     "metadata": {},
     "output_type": "execute_result"
    }
   ],
   "source": [
    "df2_top_words = pd.DataFrame(count2.toarray().transpose(), index=vectorizer2.get_feature_names())\n",
    "\n",
    "#Creating a column that would show the total number of mentions for each of the word/token\n",
    "df2_top_words.loc[:,'Total'] = df2_top_words.sum(axis=1) \n",
    "df2_top_words = df2_top_words.sort_values(by='Total', ascending=False)\n",
    "df2_top_words.head(10)\n",
    "# For NY times:"
   ]
  },
  {
   "cell_type": "markdown",
   "id": "4300c290-3505-4507-a9a4-d34d340b2920",
   "metadata": {},
   "source": [
    "Above we can see the common words for two of the news outlets. We can observe that almost 20% of tweets included the words related to Russia-Ukraine conflict (for both outlets).\n",
    "\n",
    "Let's now perform LDA and see whether there are other topics as well.\n",
    "\n",
    "First prepare text for LDA. Transform each tweet to a list of words:"
   ]
  },
  {
   "cell_type": "code",
   "execution_count": 35,
   "id": "63f1c53d-1c4a-43e4-9c19-5200ea7b3d47",
   "metadata": {},
   "outputs": [],
   "source": [
    "from nltk.tokenize import RegexpTokenizer\n",
    "import re\n",
    "tokenizer = RegexpTokenizer(r'\\w+')\n",
    "\n",
    "def prepare_text_for_lda(text):\n",
    "    text= re.sub(r'\\d', '', text)\n",
    "    tokens = tokenizer.tokenize(text.lower())\n",
    "    return tokens"
   ]
  },
  {
   "cell_type": "code",
   "execution_count": 36,
   "id": "342447a2-b4ec-4bbc-87bc-6d5e8a4c7fda",
   "metadata": {},
   "outputs": [],
   "source": [
    "df1['tokens'] = df1['text'].apply(lambda x: prepare_text_for_lda(x))\n",
    "df2['tokens'] = df2['text'].apply(lambda x: prepare_text_for_lda(x))"
   ]
  },
  {
   "cell_type": "markdown",
   "id": "0d07e880-3c70-49b3-bc97-a4e6667c8dc1",
   "metadata": {},
   "source": [
    "Second, create dictionary and corpus. Separately for two news outlets of course"
   ]
  },
  {
   "cell_type": "code",
   "execution_count": 37,
   "id": "0c5df8cf-06d0-4611-8f0d-c95313fad87c",
   "metadata": {},
   "outputs": [],
   "source": [
    "from gensim import corpora\n",
    "\n",
    "dictionary_LDA1 = corpora.Dictionary(df1['tokens'].tolist())\n",
    "dictionary_LDA2 = corpora.Dictionary(df2['tokens'].tolist())\n",
    "\n",
    "corpus1 = [dictionary_LDA1.doc2bow(tok) for tok in df1['tokens'].tolist()]\n",
    "corpus2 = [dictionary_LDA2.doc2bow(tok) for tok in df2['tokens'].tolist()]"
   ]
  },
  {
   "cell_type": "markdown",
   "id": "0c4badcf-e839-4188-a82f-1b9f251434e9",
   "metadata": {},
   "source": [
    "Third, let's look on topics.\n",
    "\n",
    "We assume that there might be up to **ten** topics: Politics, Business, Tech, Science, Health, Sports, Arts, Style, Showbiz. \n",
    "\n",
    "Maybe we can even shorten the number of topics to **five**: Politics, Business, Entertainment, Sports, Lifestyle.\n",
    "\n",
    "Let's see how LDA performs for both outlets:"
   ]
  },
  {
   "cell_type": "markdown",
   "id": "551209ac-959f-41fd-b9ea-e4f1f4ecbd85",
   "metadata": {
    "tags": []
   },
   "source": [
    "### Foxnews, 10 topics"
   ]
  },
  {
   "cell_type": "code",
   "execution_count": 38,
   "id": "c8e37f5e-f60d-49f1-a746-6ece09abd9c6",
   "metadata": {},
   "outputs": [],
   "source": [
    "from gensim import models\n",
    "\n",
    "num_topics = 10\n",
    "lda_model1 = models.LdaModel(corpus1, num_topics=num_topics,\n",
    "                            random_state=100,\n",
    "                            id2word=dictionary_LDA1, \n",
    "                            passes=4)"
   ]
  },
  {
   "cell_type": "code",
   "execution_count": 39,
   "id": "330ed358-31db-4ae9-bb45-ff5c9d186209",
   "metadata": {},
   "outputs": [
    {
     "name": "stdout",
     "output_type": "stream",
     "text": [
      "0: 0.017*\"ukraine\" + 0.013*\"russia\" + 0.012*\"war\" + 0.009*\"russian\" + 0.008*\"gop\" + 0.008*\"american\" + 0.008*\"oil\" + 0.008*\"putin\" + 0.007*\"biden\" + 0.006*\"jail\" + 0.005*\"official\" + 0.005*\"week\" + 0.005*\"smollett\" + 0.005*\"jussie\" + 0.005*\"kyiv\" + 0.005*\"post\" + 0.005*\"zelenskyy\" + 0.004*\"released\" + 0.004*\"rep\" + 0.004*\"country\"\n",
      "\n",
      "1: 0.020*\"biden\" + 0.016*\"ukraine\" + 0.014*\"putin\" + 0.013*\"russia\" + 0.010*\"china\" + 0.008*\"war\" + 0.007*\"price\" + 0.007*\"new\" + 0.007*\"gas\" + 0.007*\"russian\" + 0.006*\"world\" + 0.006*\"opinion\" + 0.006*\"blame\" + 0.005*\"american\" + 0.005*\"inflation\" + 0.005*\"slam\" + 0.005*\"zelenskyy\" + 0.004*\"poll\" + 0.004*\"game\" + 0.004*\"high\"\n",
      "\n",
      "2: 0.011*\"russian\" + 0.010*\"state\" + 0.009*\"covid\" + 0.005*\"trump\" + 0.005*\"american\" + 0.005*\"report\" + 0.005*\"event\" + 0.005*\"talk\" + 0.005*\"watch\" + 0.005*\"day\" + 0.004*\"zelenskyy\" + 0.004*\"time\" + 0.004*\"biden\" + 0.004*\"star\" + 0.004*\"visit\" + 0.004*\"price\" + 0.004*\"hold\" + 0.004*\"gas\" + 0.004*\"break\" + 0.004*\"official\"\n",
      "\n",
      "3: 0.013*\"russian\" + 0.010*\"ukraine\" + 0.007*\"return\" + 0.007*\"war\" + 0.007*\"time\" + 0.006*\"biden\" + 0.006*\"ukrainian\" + 0.005*\"warning\" + 0.005*\"issue\" + 0.005*\"covid\" + 0.005*\"america\" + 0.004*\"washington\" + 0.004*\"journalist\" + 0.004*\"fuel\" + 0.004*\"admin\" + 0.004*\"dog\" + 0.004*\"cold\" + 0.004*\"expert\" + 0.004*\"end\" + 0.004*\"dead\"\n",
      "\n",
      "4: 0.013*\"ukraine\" + 0.012*\"war\" + 0.012*\"russia\" + 0.009*\"cnn\" + 0.008*\"amid\" + 0.007*\"gov\" + 0.007*\"report\" + 0.007*\"race\" + 0.007*\"call\" + 0.006*\"ukrainian\" + 0.006*\"new\" + 0.005*\"rourke\" + 0.005*\"beto\" + 0.005*\"congress\" + 0.005*\"smollett\" + 0.005*\"jussie\" + 0.005*\"russian\" + 0.005*\"texted\" + 0.005*\"people\" + 0.005*\"texas\"\n",
      "\n",
      "5: 0.017*\"russian\" + 0.013*\"biden\" + 0.013*\"ukraine\" + 0.009*\"official\" + 0.008*\"ukrainian\" + 0.007*\"sen\" + 0.006*\"invasion\" + 0.005*\"zelenskyy\" + 0.005*\"social\" + 0.005*\"medium\" + 0.005*\"police\" + 0.004*\"woman\" + 0.004*\"pelosi\" + 0.004*\"fauci\" + 0.004*\"russia\" + 0.004*\"position\" + 0.004*\"introduces\" + 0.004*\"eliminate\" + 0.004*\"target\" + 0.004*\"child\"\n",
      "\n",
      "6: 0.021*\"russia\" + 0.018*\"ukraine\" + 0.013*\"russian\" + 0.010*\"war\" + 0.008*\"putin\" + 0.007*\"zelenskyy\" + 0.005*\"issue\" + 0.005*\"message\" + 0.005*\"florida\" + 0.004*\"biden\" + 0.004*\"call\" + 0.004*\"team\" + 0.004*\"congress\" + 0.004*\"comment\" + 0.004*\"world\" + 0.004*\"athlete\" + 0.003*\"defiant\" + 0.003*\"investigation\" + 0.003*\"warns\" + 0.003*\"government\"\n",
      "\n",
      "7: 0.034*\"ukraine\" + 0.030*\"russia\" + 0.021*\"biden\" + 0.015*\"war\" + 0.010*\"gas\" + 0.009*\"invasion\" + 0.008*\"amid\" + 0.007*\"putin\" + 0.007*\"price\" + 0.007*\"president\" + 0.007*\"energy\" + 0.006*\"nato\" + 0.006*\"ukrainian\" + 0.005*\"sanction\" + 0.005*\"zelenskyy\" + 0.005*\"leader\" + 0.005*\"report\" + 0.005*\"house\" + 0.005*\"fly\" + 0.005*\"call\"\n",
      "\n",
      "8: 0.032*\"biden\" + 0.016*\"ukraine\" + 0.013*\"war\" + 0.012*\"putin\" + 0.009*\"ukrainian\" + 0.008*\"new\" + 0.008*\"russian\" + 0.007*\"time\" + 0.006*\"york\" + 0.006*\"administration\" + 0.006*\"hunter\" + 0.005*\"former\" + 0.004*\"american\" + 0.004*\"rip\" + 0.004*\"zelenskyy\" + 0.004*\"president\" + 0.004*\"russia\" + 0.004*\"energy\" + 0.004*\"slam\" + 0.004*\"call\"\n",
      "\n",
      "9: 0.018*\"ukraine\" + 0.009*\"biden\" + 0.008*\"russia\" + 0.006*\"russian\" + 0.005*\"fight\" + 0.005*\"memorial\" + 0.005*\"new\" + 0.005*\"star\" + 0.004*\"city\" + 0.004*\"nfl\" + 0.004*\"republican\" + 0.004*\"player\" + 0.004*\"prince\" + 0.004*\"nyc\" + 0.004*\"war\" + 0.004*\"leader\" + 0.004*\"football\" + 0.004*\"woman\" + 0.004*\"state\" + 0.003*\"army\"\n",
      "\n"
     ]
    }
   ],
   "source": [
    "for i,topic in lda_model1.show_topics(formatted=True, num_topics=num_topics, num_words=20):\n",
    "    print(str(i)+\": \"+ topic + \"\\n\")\n"
   ]
  },
  {
   "cell_type": "markdown",
   "id": "6d32ddf9-9e23-4773-910e-e728108403c5",
   "metadata": {},
   "source": [
    "### Foxnews, 5 topics"
   ]
  },
  {
   "cell_type": "code",
   "execution_count": 40,
   "id": "45b1c283-10a3-4dce-aee5-8cb129c9208a",
   "metadata": {},
   "outputs": [],
   "source": [
    "num_topics = 5\n",
    "lda_model1 = models.LdaModel(corpus1, num_topics=num_topics,\n",
    "                            random_state=100,\n",
    "                            id2word=dictionary_LDA1, \n",
    "                            passes=4)"
   ]
  },
  {
   "cell_type": "code",
   "execution_count": 41,
   "id": "633a9885-7aef-4490-8abb-ffd22112270e",
   "metadata": {},
   "outputs": [
    {
     "name": "stdout",
     "output_type": "stream",
     "text": [
      "0: 0.021*\"ukraine\" + 0.020*\"russia\" + 0.013*\"war\" + 0.011*\"russian\" + 0.010*\"putin\" + 0.010*\"biden\" + 0.006*\"gop\" + 0.005*\"invasion\" + 0.005*\"american\" + 0.005*\"leader\" + 0.005*\"crime\" + 0.005*\"oil\" + 0.004*\"new\" + 0.004*\"amid\" + 0.004*\"hit\" + 0.003*\"police\" + 0.003*\"president\" + 0.003*\"time\" + 0.003*\"jail\" + 0.003*\"kyiv\"\n",
      "\n",
      "1: 0.034*\"biden\" + 0.027*\"ukraine\" + 0.014*\"russia\" + 0.010*\"war\" + 0.009*\"putin\" + 0.007*\"gas\" + 0.007*\"price\" + 0.006*\"zelenskyy\" + 0.006*\"china\" + 0.005*\"new\" + 0.005*\"invasion\" + 0.005*\"russian\" + 0.005*\"amid\" + 0.004*\"inflation\" + 0.004*\"american\" + 0.004*\"energy\" + 0.004*\"opinion\" + 0.004*\"slam\" + 0.004*\"hunter\" + 0.004*\"official\"\n",
      "\n",
      "2: 0.008*\"zelenskyy\" + 0.008*\"russian\" + 0.007*\"biden\" + 0.006*\"russia\" + 0.005*\"report\" + 0.005*\"state\" + 0.005*\"ukraine\" + 0.005*\"putin\" + 0.005*\"covid\" + 0.004*\"day\" + 0.004*\"talk\" + 0.003*\"help\" + 0.003*\"american\" + 0.003*\"trump\" + 0.003*\"event\" + 0.003*\"ukrainian\" + 0.003*\"president\" + 0.003*\"year\" + 0.003*\"official\" + 0.003*\"visit\"\n",
      "\n",
      "3: 0.014*\"russian\" + 0.013*\"ukraine\" + 0.012*\"war\" + 0.007*\"ukrainian\" + 0.006*\"biden\" + 0.006*\"covid\" + 0.005*\"time\" + 0.005*\"russia\" + 0.005*\"putin\" + 0.005*\"energy\" + 0.005*\"return\" + 0.004*\"opinion\" + 0.004*\"america\" + 0.004*\"issue\" + 0.004*\"killed\" + 0.004*\"official\" + 0.003*\"call\" + 0.003*\"warning\" + 0.003*\"expert\" + 0.003*\"president\"\n",
      "\n",
      "4: 0.013*\"ukraine\" + 0.010*\"russia\" + 0.008*\"russian\" + 0.007*\"ukrainian\" + 0.006*\"new\" + 0.006*\"war\" + 0.006*\"report\" + 0.005*\"city\" + 0.005*\"amid\" + 0.005*\"cnn\" + 0.004*\"call\" + 0.004*\"race\" + 0.004*\"gov\" + 0.004*\"congress\" + 0.004*\"trump\" + 0.004*\"smollett\" + 0.004*\"jussie\" + 0.003*\"state\" + 0.003*\"people\" + 0.003*\"fight\"\n",
      "\n"
     ]
    }
   ],
   "source": [
    "for i,topic in lda_model1.show_topics(formatted=True, num_topics=num_topics, num_words=20):\n",
    "    print(str(i)+\": \"+ topic + \"\\n\")"
   ]
  },
  {
   "cell_type": "markdown",
   "id": "c54437ba-ebfe-42b2-8cf5-e03a88472888",
   "metadata": {},
   "source": [
    "For FoxNews, it doesn't seem that LDA is performing a good job. Every topic has words related to Russia-Ukraine conflict.\n",
    "\n",
    "Probably we will delete the most popular words and then perform analysis one more time\n",
    "\n",
    "Now, let's look on NYTimes:"
   ]
  },
  {
   "cell_type": "markdown",
   "id": "75382a0c-e139-44a4-9b46-2ee14739682d",
   "metadata": {
    "tags": []
   },
   "source": [
    "### NYTimes, 10 topics"
   ]
  },
  {
   "cell_type": "code",
   "execution_count": 42,
   "id": "33903aa8-8c93-4b14-96b5-0dac946f5f7c",
   "metadata": {},
   "outputs": [],
   "source": [
    "num_topics = 10\n",
    "lda_model2 = models.LdaModel(corpus2, num_topics=num_topics,\n",
    "                            random_state=100,\n",
    "                            id2word=dictionary_LDA2, \n",
    "                            passes=4)"
   ]
  },
  {
   "cell_type": "code",
   "execution_count": 43,
   "id": "2d706990-a1b5-4ebd-a16f-c89d0834c9f2",
   "metadata": {},
   "outputs": [
    {
     "name": "stdout",
     "output_type": "stream",
     "text": [
      "0: 0.018*\"russian\" + 0.008*\"city\" + 0.007*\"ukraine\" + 0.007*\"new\" + 0.007*\"ukrainian\" + 0.006*\"two\" + 0.006*\"war\" + 0.006*\"died\" + 0.005*\"kyiv\" + 0.005*\"russia\" + 0.005*\"president\" + 0.005*\"people\" + 0.005*\"building\" + 0.004*\"york\" + 0.004*\"state\" + 0.004*\"time\" + 0.004*\"day\" + 0.004*\"employee\" + 0.004*\"vladimir\" + 0.003*\"missile\"\n",
      "\n",
      "1: 0.010*\"city\" + 0.006*\"ukrainian\" + 0.005*\"new\" + 0.005*\"covid\" + 0.005*\"russia\" + 0.005*\"ukraine\" + 0.005*\"year\" + 0.005*\"anna\" + 0.005*\"russian\" + 0.004*\"day\" + 0.004*\"war\" + 0.004*\"economy\" + 0.004*\"million\" + 0.004*\"resident\" + 0.004*\"body\" + 0.004*\"largest\" + 0.004*\"case\" + 0.003*\"two\" + 0.003*\"china\" + 0.003*\"federal\"\n",
      "\n",
      "2: 0.021*\"ukraine\" + 0.017*\"russia\" + 0.008*\"war\" + 0.006*\"russian\" + 0.006*\"city\" + 0.006*\"president\" + 0.006*\"new\" + 0.006*\"invasion\" + 0.005*\"kyiv\" + 0.005*\"sanction\" + 0.005*\"country\" + 0.005*\"world\" + 0.005*\"channel\" + 0.005*\"killed\" + 0.005*\"american\" + 0.005*\"sunday\" + 0.004*\"year\" + 0.004*\"many\" + 0.004*\"attack\" + 0.004*\"ukrainian\"\n",
      "\n",
      "3: 0.021*\"ukraine\" + 0.018*\"president\" + 0.016*\"russia\" + 0.012*\"zelensky\" + 0.009*\"russian\" + 0.009*\"volodymyr\" + 0.008*\"people\" + 0.008*\"country\" + 0.007*\"wednesday\" + 0.007*\"war\" + 0.007*\"official\" + 0.007*\"ukrainian\" + 0.007*\"congress\" + 0.006*\"biden\" + 0.006*\"invasion\" + 0.005*\"least\" + 0.005*\"aid\" + 0.004*\"appeal\" + 0.004*\"help\" + 0.004*\"killed\"\n",
      "\n",
      "4: 0.010*\"year\" + 0.010*\"people\" + 0.009*\"russian\" + 0.006*\"best\" + 0.005*\"killed\" + 0.004*\"government\" + 0.004*\"city\" + 0.004*\"six\" + 0.004*\"ukraine\" + 0.003*\"old\" + 0.003*\"every\" + 0.003*\"series\" + 0.003*\"later\" + 0.003*\"high\" + 0.003*\"russia\" + 0.003*\"texas\" + 0.003*\"struck\" + 0.003*\"coach\" + 0.003*\"tuesday\" + 0.003*\"occupy\"\n",
      "\n",
      "5: 0.011*\"russia\" + 0.011*\"ukraine\" + 0.007*\"time\" + 0.006*\"war\" + 0.006*\"rate\" + 0.006*\"show\" + 0.005*\"monday\" + 0.005*\"year\" + 0.005*\"new\" + 0.005*\"news\" + 0.005*\"first\" + 0.005*\"woman\" + 0.005*\"official\" + 0.004*\"interest\" + 0.004*\"federal\" + 0.004*\"reserve\" + 0.004*\"outside\" + 0.004*\"two\" + 0.004*\"sunday\" + 0.004*\"china\"\n",
      "\n",
      "6: 0.011*\"ukraine\" + 0.009*\"russian\" + 0.009*\"russia\" + 0.007*\"state\" + 0.005*\"american\" + 0.005*\"could\" + 0.004*\"ukrainian\" + 0.004*\"day\" + 0.004*\"invasion\" + 0.004*\"week\" + 0.004*\"official\" + 0.004*\"country\" + 0.003*\"year\" + 0.003*\"opinion\" + 0.003*\"kyiv\" + 0.003*\"president\" + 0.003*\"people\" + 0.003*\"force\" + 0.003*\"pandemic\" + 0.003*\"often\"\n",
      "\n",
      "7: 0.012*\"ukraine\" + 0.007*\"year\" + 0.007*\"new\" + 0.006*\"two\" + 0.006*\"war\" + 0.006*\"men\" + 0.005*\"york\" + 0.005*\"woman\" + 0.005*\"least\" + 0.004*\"charge\" + 0.004*\"last\" + 0.004*\"time\" + 0.004*\"russia\" + 0.004*\"killed\" + 0.004*\"man\" + 0.004*\"shot\" + 0.004*\"russian\" + 0.004*\"jury\" + 0.004*\"first\" + 0.003*\"could\"\n",
      "\n",
      "8: 0.012*\"new\" + 0.008*\"city\" + 0.007*\"russian\" + 0.007*\"ukraine\" + 0.007*\"people\" + 0.007*\"two\" + 0.006*\"day\" + 0.005*\"york\" + 0.005*\"police\" + 0.005*\"time\" + 0.004*\"russia\" + 0.004*\"could\" + 0.004*\"men\" + 0.003*\"country\" + 0.003*\"american\" + 0.003*\"last\" + 0.003*\"life\" + 0.003*\"across\" + 0.003*\"state\" + 0.003*\"wednesday\"\n",
      "\n",
      "9: 0.009*\"ukraine\" + 0.008*\"war\" + 0.006*\"russian\" + 0.006*\"president\" + 0.006*\"russia\" + 0.005*\"week\" + 0.005*\"world\" + 0.005*\"new\" + 0.005*\"news\" + 0.005*\"year\" + 0.005*\"monday\" + 0.005*\"mayor\" + 0.004*\"breaking\" + 0.004*\"city\" + 0.004*\"biden\" + 0.004*\"worker\" + 0.004*\"next\" + 0.004*\"ukrainian\" + 0.004*\"un\" + 0.004*\"doug\"\n",
      "\n"
     ]
    }
   ],
   "source": [
    "for i,topic in lda_model2.show_topics(formatted=True, num_topics=num_topics, num_words=20):\n",
    "    print(str(i)+\": \"+ topic + \"\\n\")"
   ]
  },
  {
   "cell_type": "markdown",
   "id": "9427d748-41ae-4110-94dd-a8fc4a7e281d",
   "metadata": {},
   "source": [
    "### NYTimes, 5 topics"
   ]
  },
  {
   "cell_type": "code",
   "execution_count": 44,
   "id": "eb56a2b3-5988-4178-9675-223d36799b3b",
   "metadata": {},
   "outputs": [],
   "source": [
    "num_topics = 5\n",
    "lda_model2 = models.LdaModel(corpus2, num_topics=num_topics,\n",
    "                            random_state=100,\n",
    "                            id2word=dictionary_LDA2, \n",
    "                            passes=4)"
   ]
  },
  {
   "cell_type": "code",
   "execution_count": 45,
   "id": "05afa249-9eae-4f64-aa40-e79ff95a312b",
   "metadata": {},
   "outputs": [
    {
     "name": "stdout",
     "output_type": "stream",
     "text": [
      "0: 0.010*\"russian\" + 0.009*\"ukraine\" + 0.008*\"new\" + 0.006*\"russia\" + 0.006*\"city\" + 0.006*\"time\" + 0.006*\"two\" + 0.005*\"ukrainian\" + 0.005*\"state\" + 0.005*\"people\" + 0.005*\"war\" + 0.004*\"york\" + 0.004*\"president\" + 0.003*\"men\" + 0.003*\"week\" + 0.003*\"official\" + 0.003*\"mayor\" + 0.003*\"tuesday\" + 0.003*\"day\" + 0.003*\"died\"\n",
      "\n",
      "1: 0.005*\"new\" + 0.005*\"year\" + 0.004*\"china\" + 0.004*\"federal\" + 0.004*\"case\" + 0.004*\"covid\" + 0.004*\"city\" + 0.003*\"two\" + 0.003*\"day\" + 0.003*\"russian\" + 0.003*\"monday\" + 0.003*\"russia\" + 0.003*\"coronavirus\" + 0.002*\"found\" + 0.002*\"plan\" + 0.002*\"reserve\" + 0.002*\"try\" + 0.002*\"country\" + 0.002*\"month\" + 0.002*\"thursday\"\n",
      "\n",
      "2: 0.016*\"ukraine\" + 0.013*\"russia\" + 0.009*\"russian\" + 0.007*\"city\" + 0.006*\"year\" + 0.006*\"war\" + 0.006*\"president\" + 0.006*\"new\" + 0.005*\"kyiv\" + 0.005*\"ukrainian\" + 0.005*\"world\" + 0.004*\"official\" + 0.004*\"two\" + 0.004*\"country\" + 0.004*\"since\" + 0.004*\"american\" + 0.003*\"invasion\" + 0.003*\"day\" + 0.003*\"force\" + 0.003*\"killed\"\n",
      "\n",
      "3: 0.020*\"ukraine\" + 0.014*\"russia\" + 0.011*\"president\" + 0.009*\"war\" + 0.007*\"russian\" + 0.006*\"country\" + 0.006*\"invasion\" + 0.006*\"zelensky\" + 0.005*\"ukrainian\" + 0.004*\"biden\" + 0.004*\"volodymyr\" + 0.004*\"news\" + 0.004*\"could\" + 0.004*\"least\" + 0.004*\"putin\" + 0.004*\"week\" + 0.003*\"official\" + 0.003*\"first\" + 0.003*\"opinion\" + 0.003*\"time\"\n",
      "\n",
      "4: 0.008*\"people\" + 0.006*\"russian\" + 0.005*\"new\" + 0.005*\"year\" + 0.005*\"killed\" + 0.005*\"ukraine\" + 0.004*\"government\" + 0.004*\"country\" + 0.004*\"police\" + 0.004*\"shot\" + 0.004*\"russia\" + 0.003*\"two\" + 0.003*\"war\" + 0.003*\"city\" + 0.003*\"old\" + 0.003*\"ukrainian\" + 0.002*\"best\" + 0.002*\"nato\" + 0.002*\"wednesday\" + 0.002*\"texas\"\n",
      "\n"
     ]
    }
   ],
   "source": [
    "for i,topic in lda_model2.show_topics(formatted=True, num_topics=num_topics, num_words=20):\n",
    "    print(str(i)+\": \"+ topic + \"\\n\")"
   ]
  },
  {
   "cell_type": "markdown",
   "id": "ce17374b-eec5-4f3b-86dd-36d532755812",
   "metadata": {},
   "source": [
    "The situation is similar to Fox News. \n",
    "\n",
    "To improve the situation, let's get rid of most common words used by each outlet. "
   ]
  },
  {
   "cell_type": "markdown",
   "id": "d417839e-1d93-4e30-8089-1289455c9915",
   "metadata": {
    "tags": []
   },
   "source": [
    "### LDA without common words"
   ]
  },
  {
   "cell_type": "code",
   "execution_count": 46,
   "id": "1e57df72-5222-4c97-b602-ecea1671e5e3",
   "metadata": {},
   "outputs": [],
   "source": [
    "# Creating 'stop word' list from top 10 common words \n",
    "common_words1 = df1_top_words.index.values[:].tolist()[0:10]\n",
    "common_words2 = df2_top_words.index.values[:].tolist()[0:10]"
   ]
  },
  {
   "cell_type": "code",
   "execution_count": 47,
   "id": "46b61764-2898-4903-9b99-2943759ebbf9",
   "metadata": {},
   "outputs": [],
   "source": [
    "from nltk.stem.wordnet import WordNetLemmatizer\n",
    "from nltk import pos_tag\n",
    "from nltk.corpus import wordnet\n",
    "\n",
    "def get_lemma(element):\n",
    "    for word, pos in pos_tag(element.split()):\n",
    "        result_pos=wordnet_pos(pos)\n",
    "        if result_pos != None:\n",
    "            return WordNetLemmatizer().lemmatize(word, result_pos)\n",
    "        else:\n",
    "            return word\n",
    "\n",
    "# original example can be found here https://stackoverflow.com/a/15590384\n",
    "def wordnet_pos(treebank_tag):\n",
    "    if treebank_tag.startswith('J'):\n",
    "        return wordnet.ADJ\n",
    "    elif treebank_tag.startswith('V'):\n",
    "        return wordnet.VERB\n",
    "    elif treebank_tag.startswith('N'):\n",
    "        return wordnet.NOUN\n",
    "    elif treebank_tag.startswith('R'):\n",
    "        return wordnet.ADV\n",
    "    else:\n",
    "        return None\n",
    "        \n",
    "def remove_common_words(list_element, common_words):\n",
    "    tokens = [get_lemma(token) for token in list_element]\n",
    "    tokens = [token for token in tokens if token not in common_words]\n",
    "    tokens = [token for token in tokens if len(token) > 2]\n",
    "    return tokens"
   ]
  },
  {
   "cell_type": "code",
   "execution_count": 48,
   "id": "c146c2c0-95a8-41e8-abc6-4aa03b160484",
   "metadata": {},
   "outputs": [],
   "source": [
    "df1['tokens'] = df1['tokens'].apply(lambda sentences: remove_common_words(sentences, common_words1))\n",
    "df2['tokens'] = df2['tokens'].apply(lambda sentences: remove_common_words(sentences, common_words2))"
   ]
  },
  {
   "cell_type": "code",
   "execution_count": 49,
   "id": "3e393f3a-f42e-4d0c-b49a-380a60a23df3",
   "metadata": {},
   "outputs": [],
   "source": [
    "dictionary_LDA1 = corpora.Dictionary(df1['tokens'].tolist())\n",
    "dictionary_LDA2 = corpora.Dictionary(df2['tokens'].tolist())\n",
    "\n",
    "corpus1 = [dictionary_LDA1.doc2bow(tok) for tok in df1['tokens'].tolist()]\n",
    "corpus2 = [dictionary_LDA2.doc2bow(tok) for tok in df2['tokens'].tolist()]"
   ]
  },
  {
   "cell_type": "markdown",
   "id": "582e7611-6e56-44cf-8d1c-081aa0eb6267",
   "metadata": {
    "tags": []
   },
   "source": [
    "### Foxnews"
   ]
  },
  {
   "cell_type": "code",
   "execution_count": 50,
   "id": "17c2def6-a7b7-4f75-aec6-4ff5a61b9671",
   "metadata": {},
   "outputs": [],
   "source": [
    "num_topics = 10\n",
    "lda_model1 = models.LdaModel(corpus1, num_topics=num_topics,\n",
    "                            random_state=100,\n",
    "                            id2word=dictionary_LDA1, \n",
    "                            passes=4)"
   ]
  },
  {
   "cell_type": "code",
   "execution_count": 51,
   "id": "d86ac1bb-bf02-4b33-80cb-baf9c50b0ee4",
   "metadata": {},
   "outputs": [
    {
     "name": "stdout",
     "output_type": "stream",
     "text": [
      "0: 0.011*\"issue\" + 0.008*\"kill\" + 0.007*\"president\" + 0.006*\"recall\" + 0.006*\"day\" + 0.006*\"philip\" + 0.006*\"journalist\" + 0.006*\"plan\" + 0.005*\"kardashian\" + 0.005*\"kim\" + 0.005*\"time\" + 0.005*\"kyiv\" + 0.005*\"fda\" + 0.005*\"warn\" + 0.005*\"official\" + 0.004*\"davidson\" + 0.004*\"pete\" + 0.004*\"former\" + 0.004*\"admin\" + 0.004*\"miss\"\n",
      "\n",
      "1: 0.013*\"report\" + 0.010*\"suspect\" + 0.007*\"nyc\" + 0.007*\"police\" + 0.007*\"play\" + 0.006*\"cnn\" + 0.005*\"president\" + 0.005*\"break\" + 0.005*\"former\" + 0.005*\"trump\" + 0.004*\"expert\" + 0.004*\"price\" + 0.004*\"congress\" + 0.004*\"state\" + 0.004*\"american\" + 0.004*\"homeless\" + 0.004*\"year\" + 0.004*\"case\" + 0.004*\"intimidate\" + 0.003*\"art\"\n",
      "\n",
      "2: 0.008*\"hunter\" + 0.008*\"time\" + 0.007*\"call\" + 0.006*\"laptop\" + 0.006*\"back\" + 0.006*\"covid\" + 0.006*\"charge\" + 0.006*\"give\" + 0.005*\"york\" + 0.005*\"invasion\" + 0.005*\"gov\" + 0.004*\"trump\" + 0.004*\"fire\" + 0.004*\"fed\" + 0.004*\"florida\" + 0.004*\"spring\" + 0.004*\"race\" + 0.004*\"texas\" + 0.004*\"inflation\" + 0.003*\"tell\"\n",
      "\n",
      "3: 0.010*\"school\" + 0.010*\"kyiv\" + 0.006*\"force\" + 0.006*\"fox\" + 0.005*\"mask\" + 0.005*\"opinion\" + 0.004*\"fire\" + 0.004*\"state\" + 0.004*\"show\" + 0.004*\"could\" + 0.004*\"keane\" + 0.004*\"learn\" + 0.004*\"fentanyl\" + 0.004*\"report\" + 0.004*\"people\" + 0.004*\"conceal\" + 0.004*\"bill\" + 0.004*\"reveals\" + 0.004*\"amp\" + 0.004*\"ohio\"\n",
      "\n",
      "4: 0.007*\"invasion\" + 0.006*\"slam\" + 0.006*\"american\" + 0.005*\"gas\" + 0.005*\"price\" + 0.005*\"republican\" + 0.005*\"stop\" + 0.005*\"death\" + 0.005*\"graham\" + 0.005*\"lack\" + 0.004*\"run\" + 0.004*\"administration\" + 0.004*\"china\" + 0.004*\"house\" + 0.004*\"expert\" + 0.004*\"help\" + 0.004*\"fighter\" + 0.004*\"poll\" + 0.004*\"jet\" + 0.003*\"involve\"\n",
      "\n",
      "5: 0.010*\"call\" + 0.010*\"time\" + 0.009*\"woman\" + 0.008*\"kill\" + 0.006*\"senate\" + 0.006*\"america\" + 0.006*\"official\" + 0.006*\"gop\" + 0.005*\"die\" + 0.005*\"york\" + 0.005*\"energy\" + 0.005*\"child\" + 0.005*\"crime\" + 0.005*\"covid\" + 0.005*\"risk\" + 0.005*\"attack\" + 0.004*\"action\" + 0.004*\"zone\" + 0.004*\"fight\" + 0.004*\"win\"\n",
      "\n",
      "6: 0.020*\"gas\" + 0.018*\"price\" + 0.011*\"energy\" + 0.011*\"blame\" + 0.010*\"oil\" + 0.009*\"american\" + 0.008*\"covid\" + 0.007*\"democrat\" + 0.007*\"high\" + 0.006*\"official\" + 0.006*\"gop\" + 0.006*\"opinion\" + 0.005*\"use\" + 0.005*\"sen\" + 0.005*\"slam\" + 0.004*\"inflation\" + 0.004*\"leader\" + 0.004*\"test\" + 0.004*\"border\" + 0.004*\"game\"\n",
      "\n",
      "7: 0.010*\"nuclear\" + 0.010*\"iran\" + 0.009*\"invasion\" + 0.008*\"deal\" + 0.007*\"fight\" + 0.006*\"talk\" + 0.006*\"president\" + 0.006*\"state\" + 0.006*\"former\" + 0.006*\"china\" + 0.005*\"tom\" + 0.005*\"show\" + 0.005*\"world\" + 0.005*\"warns\" + 0.005*\"leader\" + 0.005*\"fly\" + 0.004*\"news\" + 0.004*\"release\" + 0.004*\"stand\" + 0.004*\"brady\"\n",
      "\n",
      "8: 0.009*\"jussie\" + 0.009*\"smollett\" + 0.008*\"back\" + 0.008*\"sentence\" + 0.006*\"congress\" + 0.005*\"help\" + 0.005*\"social\" + 0.005*\"head\" + 0.005*\"speech\" + 0.005*\"raise\" + 0.004*\"bring\" + 0.004*\"house\" + 0.004*\"operation\" + 0.004*\"medium\" + 0.004*\"elect\" + 0.004*\"woman\" + 0.004*\"refugee\" + 0.004*\"call\" + 0.004*\"tell\" + 0.004*\"revelation\"\n",
      "\n",
      "9: 0.006*\"expert\" + 0.006*\"sanction\" + 0.006*\"fauci\" + 0.005*\"poland\" + 0.005*\"return\" + 0.005*\"amendment\" + 0.005*\"position\" + 0.005*\"warns\" + 0.005*\"sen\" + 0.004*\"star\" + 0.004*\"claim\" + 0.004*\"national\" + 0.004*\"seek\" + 0.004*\"group\" + 0.004*\"opinion\" + 0.004*\"violence\" + 0.004*\"raise\" + 0.004*\"people\" + 0.004*\"country\" + 0.004*\"ahead\"\n",
      "\n"
     ]
    }
   ],
   "source": [
    "for i,topic in lda_model1.show_topics(formatted=True, num_topics=num_topics, num_words=20):\n",
    "    print(str(i)+\": \"+ topic + \"\\n\")\n"
   ]
  },
  {
   "cell_type": "code",
   "execution_count": 52,
   "id": "6c1d7325-c20f-46cd-b0eb-34c237e09f61",
   "metadata": {},
   "outputs": [
    {
     "data": {
      "text/html": [
       "\n",
       "<link rel=\"stylesheet\" type=\"text/css\" href=\"https://cdn.jsdelivr.net/gh/bmabey/pyLDAvis@3.3.1/pyLDAvis/js/ldavis.v1.0.0.css\">\n",
       "\n",
       "\n",
       "<div id=\"ldavis_el1550014996349019528406751252\"></div>\n",
       "<script type=\"text/javascript\">\n",
       "\n",
       "var ldavis_el1550014996349019528406751252_data = {\"mdsDat\": {\"x\": [0.027808199120914208, -0.013652573778264643, 0.034325733336100665, -0.018862492379008135, -0.039588047710110805, 0.12022184228860092, -0.16242403417860285, -0.08842051854167836, 0.08976389127563025, 0.0508280005664186], \"y\": [-0.04281961519177759, -0.044550654552441483, 0.09008769913411924, -0.002948576009712143, 0.07210408422698436, -0.08587867135163761, -0.04375506124743996, 0.03386602617516886, 0.1357762229080857, -0.11188145409134931], \"topics\": [1, 2, 3, 4, 5, 6, 7, 8, 9, 10], \"cluster\": [1, 1, 1, 1, 1, 1, 1, 1, 1, 1], \"Freq\": [11.533893835769291, 11.354571305422132, 11.334668707215526, 10.987209961286739, 9.874479266275536, 9.595638859793862, 9.239189015579083, 9.229218896426781, 8.549906589177052, 8.301223563053998]}, \"tinfo\": {\"Term\": [\"gas\", \"price\", \"iran\", \"suspect\", \"kyiv\", \"blame\", \"school\", \"nuclear\", \"time\", \"issue\", \"deal\", \"jussie\", \"smollett\", \"woman\", \"oil\", \"energy\", \"kill\", \"hunter\", \"back\", \"sentence\", \"covid\", \"senate\", \"slam\", \"fox\", \"nyc\", \"play\", \"cnn\", \"high\", \"laptop\", \"fight\", \"tremendously\", \"rhetoric\", \"british\", \"ernst\", \"explore\", \"emhoff\", \"doug\", \"gentleman\", \"hike\", \"independent\", \"lease\", \"captivity\", \"complains\", \"propaganda\", \"lockdown\", \"way\", \"block\", \"smear\", \"jeter\", \"saul\", \"festival\", \"enviro\", \"criticizes\", \"lizzo\", \"keynote\", \"liar\", \"piss\", \"drill\", \"vladimir\", \"arbitration\", \"gas\", \"price\", \"blame\", \"oil\", \"democrat\", \"concerned\", \"hack\", \"energy\", \"high\", \"use\", \"test\", \"ingrahamangle\", \"drug\", \"gulf\", \"game\", \"covid\", \"american\", \"policy\", \"sen\", \"electric\", \"gop\", \"slam\", \"official\", \"opinion\", \"inflation\", \"border\", \"psaki\", \"positive\", \"tell\", \"leader\", \"bill\", \"city\", \"race\", \"former\", \"set\", \"call\", \"hit\", \"senator\", \"iran\", \"deal\", \"business\", \"hero\", \"musk\", \"retirement\", \"stall\", \"wreck\", \"france\", \"germany\", \"willing\", \"whoever\", \"economy\", \"significant\", \"awestricken\", \"fmr\", \"reject\", \"reality\", \"nuclear\", \"conviction\", \"refusal\", \"treat\", \"jakes\", \"six\", \"brady\", \"closely\", \"heel\", \"idaho\", \"dish\", \"veto\", \"tom\", \"general\", \"weigh\", \"peace\", \"cover\", \"freedom\", \"ice\", \"plea\", \"talk\", \"stand\", \"injured\", \"fight\", \"coverage\", \"invasion\", \"nfl\", \"news\", \"china\", \"world\", \"show\", \"state\", \"fly\", \"president\", \"warns\", \"former\", \"nato\", \"live\", \"threat\", \"leader\", \"release\", \"zone\", \"lead\", \"call\", \"gleefully\", \"gollust\", \"dealt\", \"spaceflight\", \"behind\", \"intimidate\", \"blue\", \"butt\", \"cigarette\", \"suspect\", \"sense\", \"gingrich\", \"kyrie\", \"enters\", \"zero\", \"cowardly\", \"developed\", \"irving\", \"proactive\", \"newt\", \"underway\", \"hailey\", \"dismisses\", \"impartial\", \"republic\", \"dominican\", \"jay\", \"horrific\", \"strengthen\", \"tear\", \"art\", \"modern\", \"play\", \"nyc\", \"unvaccinated\", \"ship\", \"andrew\", \"report\", \"cnn\", \"museum\", \"disinformation\", \"case\", \"shoot\", \"police\", \"nypd\", \"texted\", \"exec\", \"interview\", \"defensive\", \"canada\", \"homeless\", \"cold\", \"break\", \"trump\", \"president\", \"former\", \"expert\", \"long\", \"congress\", \"year\", \"price\", \"state\", \"american\", \"high\", \"york\", \"cuomo\", \"aid\", \"voter\", \"laptop\", \"guideline\", \"traveler\", \"allegation\", \"respectful\", \"abbott\", \"hunter\", \"inmate\", \"fund\", \"candidacy\", \"pledge\", \"george\", \"finally\", \"jimmy\", \"governorship\", \"heat\", \"auschwitz\", \"dismiss\", \"predicts\", \"hitler\", \"stormy\", \"focus\", \"dark\", \"protection\", \"cripple\", \"suppress\", \"bryant\", \"north\", \"marine\", \"charge\", \"education\", \"promise\", \"authority\", \"thug\", \"investigation\", \"spring\", \"southern\", \"beto\", \"give\", \"fed\", \"time\", \"rourke\", \"sxsw\", \"york\", \"back\", \"gov\", \"midterm\", \"task\", \"fire\", \"covid\", \"call\", \"texas\", \"florida\", \"trump\", \"invasion\", \"dems\", \"race\", \"inflation\", \"tell\", \"man\", \"rip\", \"president\", \"break\", \"world\", \"conceal\", \"hammer\", \"keane\", \"hospitalize\", \"hard\", \"stuff\", \"auction\", \"prompt\", \"madness\", \"multiple\", \"wisconsin\", \"prayer\", \"incredible\", \"gift\", \"rosary\", \"gabbard\", \"tulsi\", \"permit\", \"dewine\", \"firearm\", \"carry\", \"pacific\", \"northwest\", \"michigan\", \"lift\", \"overdoes\", \"lace\", \"capitulate\", \"satellite\", \"residential\", \"school\", \"remote\", \"learn\", \"kyiv\", \"defend\", \"ohio\", \"injury\", \"mask\", \"force\", \"student\", \"origin\", \"fox\", \"friend\", \"cause\", \"fentanyl\", \"siege\", \"amp\", \"fire\", \"show\", \"reveals\", \"opinion\", \"could\", \"state\", \"move\", \"people\", \"bill\", \"report\", \"health\", \"time\", \"bad\", \"amendment\", \"swell\", \"blitz\", \"backlog\", \"irs\", \"word\", \"accomplishment\", \"correlation\", \"indigenous\", \"lukashenko\", \"aoc\", \"bordering\", \"please\", \"violence\", \"niaid\", \"flourish\", \"knight\", \"eichel\", \"poignant\", \"buffalo\", \"become\", \"abandon\", \"rushmore\", \"firework\", \"park\", \"dakota\", \"makeshift\", \"contain\", \"highlight\", \"fauci\", \"position\", \"tough\", \"poland\", \"governor\", \"seek\", \"randpaul\", \"much\", \"defense\", \"group\", \"sell\", \"expert\", \"taiwan\", \"belarus\", \"sanction\", \"return\", \"sen\", \"national\", \"ahead\", \"warns\", \"claim\", \"star\", \"support\", \"raise\", \"power\", \"tax\", \"opinion\", \"stop\", \"people\", \"country\", \"crime\", \"china\", \"day\", \"hit\", \"elect\", \"gavin\", \"sorokin\", \"anna\", \"delvey\", \"heiress\", \"truly\", \"seize\", \"japan\", \"mykolaiv\", \"compare\", \"town\", \"odesa\", \"bombing\", \"mehdi\", \"hasan\", \"coastal\", \"terrorist\", \"israeli\", \"prosecution\", \"react\", \"kangaroo\", \"foxx\", \"operation\", \"outburst\", \"need\", \"politician\", \"important\", \"needle\", \"salad\", \"revelation\", \"reach\", \"roast\", \"disney\", \"sentence\", \"bring\", \"jussie\", \"smollett\", \"social\", \"toward\", \"newsom\", \"back\", \"speech\", \"head\", \"refugee\", \"congress\", \"raise\", \"help\", \"save\", \"job\", \"actor\", \"follow\", \"medium\", \"california\", \"house\", \"tell\", \"gov\", \"woman\", \"call\", \"anyway\", \"punch\", \"antonio\", \"tottenham\", \"conte\", \"transportation\", \"refuse\", \"cancer\", \"phoenix\", \"braxton\", \"singer\", \"battling\", \"haas\", \"accident\", \"traci\", \"representative\", \"agent\", \"google\", \"netherlands\", \"patriarch\", \"sunders\", \"congregation\", \"sub\", \"spread\", \"die\", \"regulator\", \"taylor\", \"little\", \"hunger\", \"salute\", \"hundred\", \"threaten\", \"senate\", \"woman\", \"action\", \"time\", \"call\", \"kill\", \"america\", \"team\", \"athlete\", \"attack\", \"risk\", \"win\", \"york\", \"child\", \"gop\", \"free\", \"nascar\", \"top\", \"official\", \"crime\", \"zone\", \"energy\", \"hold\", \"covid\", \"fight\", \"rep\", \"republican\", \"trump\", \"police\", \"fda\", \"philip\", \"breathing\", \"kardashian\", \"seahawks\", \"bobby\", \"wagner\", \"commonwealth\", \"costco\", \"summer\", \"provoke\", \"axed\", \"guerrilla\", \"warfare\", \"train\", \"georgia\", \"authorizes\", \"romance\", \"machine\", \"kanye\", \"migs\", \"shvets\", \"guy\", \"weaponry\", \"tone\", \"james\", \"deaf\", \"oksana\", \"comfort\", \"actress\", \"davidson\", \"pete\", \"recall\", \"issue\", \"kim\", \"journalist\", \"contributor\", \"slide\", \"dow\", \"prince\", \"person\", \"defiant\", \"plan\", \"kill\", \"day\", \"president\", \"warn\", \"threat\", \"keep\", \"miss\", \"provide\", \"admin\", \"instagram\", \"fear\", \"kyiv\", \"pay\", \"message\", \"time\", \"official\", \"former\", \"american\", \"hit\", \"graham\", \"lack\", \"flight\", \"lindsey\", \"ask\", \"airline\", \"receive\", \"houston\", \"commission\", \"rat\", \"corner\", \"lash\", \"taught\", \"indispensable\", \"platform\", \"rust\", \"hutchins\", \"alec\", \"accountability\", \"liability\", \"tourist\", \"stuck\", \"cashless\", \"flightless\", \"everyone\", \"eat\", \"subdue\", \"sibling\", \"product\", \"anchor\", \"slow\", \"involve\", \"care\", \"death\", \"slam\", \"stop\", \"run\", \"jet\", \"invasion\", \"fighter\", \"urge\", \"republican\", \"administration\", \"think\", \"american\", \"strategy\", \"poll\", \"price\", \"gas\", \"cost\", \"fentanyl\", \"help\", \"expert\", \"china\", \"house\", \"old\", \"california\", \"fox\", \"people\", \"rep\"], \"Freq\": [40.0, 36.0, 13.0, 16.0, 21.0, 21.0, 17.0, 16.0, 33.0, 16.0, 11.0, 16.0, 16.0, 21.0, 22.0, 31.0, 25.0, 12.0, 23.0, 12.0, 30.0, 12.0, 17.0, 14.0, 17.0, 14.0, 15.0, 20.0, 9.0, 25.0, 2.453178406283103, 2.453162562271392, 2.453156284455431, 2.453087975838903, 2.360712305521788, 2.360708120311147, 2.3606957141510336, 2.3606647734866546, 2.322794745532799, 2.318135709258889, 2.2681517385774406, 2.2681909001912923, 2.2682045021258745, 3.9434851307474093, 2.2588357586349397, 4.443926611063297, 1.6617677792373, 1.6617577646261241, 1.6617561204362297, 1.6617526825846318, 1.6617461058250538, 1.661744162691542, 1.6617402764245186, 1.661734596495792, 1.6617347459676004, 1.6617369880447295, 1.6617329523058972, 1.6617302618133427, 1.6617314575878115, 1.6617322049468544, 26.306588701543934, 23.489712351679163, 13.58700055481715, 13.05651314836832, 9.567547573125731, 2.6220302811652605, 3.059642781456268, 14.612081805486008, 9.4814912719324, 6.962552295042441, 5.361782765118348, 3.22137516462323, 2.4531210091086026, 2.075981514195399, 5.27301205588093, 10.82878531306639, 11.946435052685453, 4.827398628619442, 6.451877077879279, 3.1521138147872665, 7.703875666387057, 6.0552069985678, 8.218340292841722, 7.381284413302562, 5.619026139259517, 5.320449026943917, 3.851154899860107, 3.2445890333289062, 4.642461643998937, 5.492306929368731, 4.7268405725562115, 4.189789560048352, 4.481684684632515, 4.917344784159652, 3.933792780790866, 4.499458078448945, 3.9839668796128476, 3.943544919470847, 12.206827465063629, 10.221170085744479, 4.059724456925438, 3.9446806936250907, 3.1707130283390623, 3.780118423201198, 2.4676557910914076, 2.4676128239032886, 2.4676034064373997, 2.4675976676691236, 2.467577214110396, 2.467552493262437, 2.4672845369283136, 3.0776896546537316, 2.3746219699048563, 2.3746443363863428, 2.374642129167775, 2.3746252071587555, 12.303622533837515, 2.3354166179651257, 2.321176673801395, 2.28158049702727, 2.2815535689607436, 2.2739939925141366, 5.101415374054418, 2.2475378293174844, 1.6715798888913667, 1.6715632611781563, 1.671559729628448, 1.6715581110014983, 6.672555929168655, 3.8612557777513414, 4.866053477964251, 3.209698099865732, 4.625470479926047, 4.4758837460405605, 3.1707195028468607, 3.966811149872685, 8.04010323218612, 5.312972859335216, 3.144443595833241, 9.280780200521475, 3.077700837894475, 10.797870975940498, 4.408676589315141, 5.466014920314548, 7.04437808317405, 6.215219653341191, 6.284394471845799, 7.816657373403662, 5.794362520226489, 7.8695317356376, 6.174113003327209, 7.058108159848632, 4.959896171181928, 4.6698808946922234, 4.271203953816842, 5.858876281707646, 5.313051142020418, 4.984287996426124, 4.537890990116192, 4.902426379889953, 4.028906001719091, 4.028836669648668, 4.0288381385484655, 3.2388511951387975, 3.238712530997953, 4.525032490003213, 3.146629846738434, 3.121136503200134, 3.120876214156091, 12.849837889938406, 2.4488928952751734, 2.4489017086739557, 2.4488883416858025, 2.448863370389252, 2.448852353640774, 2.4488520598608146, 2.448848240721342, 2.448818715835421, 2.448818568945441, 2.448817540715583, 2.4488106368865368, 2.4035096202545074, 2.356584294226863, 2.356597808104996, 2.3565816502072283, 2.3565744525982226, 2.3565421368026866, 2.3565982487749353, 2.356571074128689, 2.3564938099993626, 4.33582321336095, 4.335766220048823, 8.568541412165027, 9.41328864623, 3.6794964567472044, 3.2388608898774582, 4.028914521337914, 16.418434762245496, 7.978946773332777, 4.3357054075972234, 3.9188566164815266, 4.543513305910237, 3.807338919006798, 8.6407448879107, 3.146645417076283, 4.028850183526801, 4.028919515597224, 4.028819924190981, 3.146579022805455, 3.988089683057536, 4.6160508094697645, 4.317966092307767, 6.398976999432874, 6.244083278510193, 6.4230599053860145, 6.268608029522297, 5.252414336501269, 3.9365180800817376, 4.87991574317895, 4.601626213462406, 5.014986073780071, 4.820288693715947, 4.797370037741974, 4.121091802744364, 4.035245185683383, 4.028954769192354, 4.028908645738725, 3.946716618955139, 7.681376641407712, 3.154752802258716, 3.154708377471361, 3.1547317289621506, 3.1546252233822094, 3.7617543015764587, 9.92863583493601, 2.4552027951349062, 2.455158655121829, 2.455159224670385, 2.4551372970509853, 2.4551284690483697, 2.4551150846573075, 3.0527549143627963, 2.969601394759499, 2.9696048120508336, 2.3746454202362415, 3.5519642235518356, 2.362644605003389, 2.3623561286598593, 2.3253032930372046, 1.6631317609228475, 1.6631273469215397, 1.6631220785973984, 1.6631203699517307, 1.6631183765317854, 1.6631143896918945, 1.6631092637548919, 1.6631104028520036, 7.074161561381532, 3.2472580243745406, 3.154701827662969, 3.5466893496019734, 2.9695945601768288, 3.6571478812948164, 4.64629111666685, 2.45514071434232, 3.761744049702454, 7.039202671024403, 4.83138072814776, 9.461108803262384, 3.7617417715082304, 3.761767401193243, 6.538875907568816, 7.207488321913968, 5.530835905437024, 3.9467738585850007, 3.9468148660810205, 5.402075215676713, 7.199062990127506, 8.173199475376132, 4.553836869146773, 4.813129544676039, 5.453980453764145, 5.654994073317634, 3.9467493679970995, 4.553860505411841, 4.455811867202078, 4.13175810358308, 3.9592743102884587, 3.8740658594957096, 4.0432716160772255, 3.9467257317320326, 3.8370947540908174, 3.9579205447835064, 3.8868605427492424, 4.368854918802132, 3.1068648574630235, 3.094403699749909, 3.6435008303980068, 2.4178930294197154, 2.4178794649316626, 2.4178794649316626, 2.4178635970399784, 2.41783186125661, 3.0157263419060074, 3.0156725958212705, 3.015673875489955, 3.015692046785271, 3.015696653592534, 3.015720711363797, 2.403699200308178, 2.397930197946016, 2.396602669653015, 2.3892717036949045, 2.3809738200790034, 2.3753389269949463, 2.371849270493102, 2.3686053103786255, 2.3267993022666467, 2.3267483714530153, 2.3267429968445414, 2.326805444676331, 2.3267783157002255, 11.53256357307921, 3.8746931969660228, 4.302055701618818, 11.402078316687533, 3.5414354798802457, 3.905938099427204, 3.886828551032137, 5.400803291654067, 6.55708427386399, 3.0925346156697495, 3.0809994262165303, 6.135810688744409, 3.8869055870869267, 3.8869362991353476, 4.217693031744702, 3.249102846984236, 3.921547242103479, 4.84511586728228, 4.757988345249056, 3.926555609399746, 5.132061606885233, 4.526444069792882, 4.758394256155688, 3.859377866219643, 4.048318899973575, 3.926844558588641, 4.0951376262553465, 3.375661056117805, 3.3777924722782275, 3.842535409573812, 5.760516332896443, 3.1615355794570372, 3.1614731541119854, 3.7366222313171944, 3.736553339601739, 3.071452075948873, 2.3903933023788024, 2.3903878308346145, 2.3903388356434783, 2.3903495300252997, 2.390327643848549, 2.9813964275747558, 2.3477829058965414, 4.107593175957517, 2.8912741258441685, 2.3035621344771853, 2.300306565685436, 2.3002926381184126, 2.3003020889674644, 2.3002831872693608, 2.2967597615189628, 2.3000384600202333, 2.3003199958393514, 2.3003162652410416, 2.300248119645248, 2.3003018402609103, 2.2998389973639317, 2.2976195400761115, 2.289887999432177, 6.040947894915134, 5.509442589924021, 3.1615363255766993, 5.82978956420592, 2.981385981899488, 4.613751303792029, 3.275729939841911, 3.750821883310787, 3.752529999923601, 4.523675758893592, 3.1615308540325118, 6.375334851582963, 2.861417650157147, 3.7470194088068105, 6.102602747062742, 5.765042294765981, 5.380851353248239, 4.613774184794996, 3.9255185896720723, 5.504855943655309, 4.793925274591869, 4.8020748909530635, 3.7856445314679115, 4.051878431145441, 3.5089880862322578, 3.5538234115465275, 4.482384501973702, 3.7728192318916762, 3.9923706626784417, 3.9327372974016765, 3.8425038238414553, 3.896107298716696, 3.8426052961154835, 3.7395905440390833, 3.8851326182104167, 3.7739378843091207, 2.3257647739060596, 2.325767647520078, 2.3257437007365933, 2.3257489690289597, 2.325690299409422, 2.3257243038419704, 2.3257025122689994, 2.325762858163381, 2.3257599845493626, 2.325742503397419, 2.3257331641518597, 2.3257432218009235, 2.325736516701548, 2.325736037765878, 2.32573268521619, 2.3257164014034206, 2.3257319668126857, 2.325721669695787, 2.3257278958594934, 2.3257508847716384, 2.8540528486222234, 4.422471858680342, 1.6371643584811124, 1.637155498171223, 1.6371582520513237, 1.637149032539682, 1.637136340744435, 1.6371339460660865, 3.826861233681935, 3.794019896407334, 3.76489366312257, 3.7519401295321204, 8.072468375707025, 4.539144898239463, 9.434674449142225, 9.420809261504507, 5.353361399249858, 3.10541002200291, 3.7510787637301712, 8.404839193891737, 4.6648362964589705, 4.664846833043703, 3.8851134607836286, 6.351436514500084, 4.6648046867047706, 5.3878845191285984, 3.672703096594835, 3.748588058779914, 3.680664204764367, 3.7568501780178503, 3.885173327742341, 3.7517052115861342, 4.493514302309118, 3.859378810443821, 3.7544408921314414, 3.885120644818674, 3.8762821265022582, 3.869106195898282, 3.0927998578727625, 3.09276876064787, 3.0927515375694683, 3.092691017585639, 2.406963719389024, 2.4069546294309783, 2.4069546294309783, 2.406929034022798, 2.4069271203474196, 2.406924489043775, 2.406924249834353, 2.406915877504574, 2.4068965015413717, 2.4068914781435047, 3.0020796844847313, 3.0020715513643745, 3.002043803071394, 2.3162703374562845, 2.3162425891633034, 2.316266270896106, 2.316242828372726, 2.316257420147483, 2.3162471341423263, 5.512945212474832, 1.6304742665507725, 1.6304697215717499, 1.630467090268105, 1.6304624256843712, 1.6304599139854377, 3.0925587347751353, 3.0020775315999306, 6.664887368865652, 9.732790310070712, 4.555092318689771, 9.809262691850732, 10.774458358061157, 7.9573492730060424, 6.2895156377025145, 3.960007211609534, 3.863919417995651, 4.645144619370882, 4.645236954207871, 3.9600165407770014, 5.331570409080466, 4.725760108344261, 5.674741203076941, 3.8691856134264686, 3.1834544878790973, 3.6878770710420654, 6.017340286554241, 4.645816319428558, 4.5548550229429, 5.331518261426415, 3.9600098429131787, 4.64573355296846, 4.450481254151725, 3.959703176433855, 3.9600127134262455, 3.709768082109784, 3.5162620120754684, 4.615251533047508, 5.808890932986531, 3.843754750395853, 5.060530783608175, 2.3912047102191143, 2.3911552928559368, 2.3911253765149993, 2.3010703206155614, 2.3010751958711215, 2.301059462091814, 2.301130596502487, 2.301126386054503, 2.3011122034928735, 2.301095140098413, 2.3010842815746657, 2.3011166355433827, 2.21091487877209, 2.2109405846650434, 3.8439107585737777, 1.6198148507859944, 1.6198073163001288, 1.6198082027102307, 1.6198019978395177, 1.619799892615526, 1.6197982305965848, 1.619793687744813, 1.619795682167542, 1.6197945741549147, 1.6197878152778882, 1.6197892556943037, 4.260223013416262, 4.260183568166729, 6.010941467626266, 10.093031506975816, 5.060530340403123, 5.464088483495215, 3.162614846283314, 2.391199613361029, 2.391194294900418, 3.842286412062147, 2.301128158874707, 2.8922034781792134, 5.320149222312215, 7.139305184460393, 5.839593076479074, 6.839482729177085, 4.4372267010132225, 3.753823127103097, 3.072541397374263, 3.8440038316344713, 3.6032759002133696, 3.8440446064991565, 2.9824200823197122, 3.753859913122324, 4.615270590864697, 3.3657541141306404, 3.663738154862722, 4.615292751117244, 4.435117931380933, 3.9340201070919534, 3.626795462650666, 3.162649416277286, 4.351515984790168, 4.32490321757257, 3.0839326051102542, 2.9712854454456807, 2.9374457703287224, 2.331777787618932, 2.331758853804435, 2.331749386897186, 2.3317371229491597, 2.2438861600953754, 2.243881211484768, 2.2438794902289048, 2.243889387450119, 2.2438880965082215, 2.2438769083451096, 2.1559986205544943, 2.156012175444418, 2.156004644950016, 2.1560119602874352, 2.1560061510488966, 2.155976674542236, 2.155983344408707, 2.1559566649428246, 2.1559695743617997, 2.142093455062224, 1.5795648777422207, 1.5795377679623726, 1.5795358315495263, 1.579536907334441, 1.5795286237905983, 2.9344469123007584, 3.111334783298192, 2.2439027271830603, 4.371755371859656, 5.917252938396987, 4.412754395583337, 3.7484477439050212, 3.460737459615174, 6.477993776345893, 3.634252744905308, 3.0839239988309375, 4.500702394236419, 3.7483367229018336, 2.9961806144686136, 5.828794157066448, 2.908267686403748, 3.54032703979571, 4.825713799184471, 4.8939714913884815, 2.9961240281821055, 2.987237614473469, 3.6578963457585854, 3.6685285432266492, 3.7300380518183003, 3.6749191359333926, 2.996079060372675, 3.069231358781173, 3.0840001644028914, 3.0160174428230553, 2.9962032059518204], \"Total\": [40.0, 36.0, 13.0, 16.0, 21.0, 21.0, 17.0, 16.0, 33.0, 16.0, 11.0, 16.0, 16.0, 21.0, 22.0, 31.0, 25.0, 12.0, 23.0, 12.0, 30.0, 12.0, 17.0, 14.0, 17.0, 14.0, 15.0, 20.0, 9.0, 25.0, 3.154135567295948, 3.154120918163412, 3.1541157084678857, 3.1540501613692666, 3.152704716107567, 3.154136806619859, 3.154132120212353, 3.154097250914551, 3.154139499129326, 3.150546264114545, 3.1501900674481615, 3.1514035651087644, 3.154539710603996, 5.488703523883554, 3.1535516473562155, 6.318006251532237, 2.3627236264554297, 2.362714669570368, 2.3627140982380705, 2.362709292296977, 2.362702221335621, 2.3627012279615376, 2.3626969637848365, 2.3626912544555303, 2.362691708944583, 2.3626950805683644, 2.3626915668523214, 2.3626879521187547, 2.362689678086052, 2.362691003199432, 40.018224623977964, 36.106843407220225, 21.27766509439919, 22.022204838159467, 16.496892714359486, 3.94424544542992, 4.72122935490902, 31.308339335069828, 20.366727378337366, 14.190992162725971, 10.22109413308242, 5.532792417498321, 3.906339024140138, 3.1541781031674687, 11.009591338441513, 30.64247715718454, 38.27854830949106, 10.119243067194034, 17.171194840979947, 5.536022777208203, 26.61467008317167, 17.873142024888203, 34.45642841948435, 30.59460698795062, 18.084892025343386, 16.426139952969105, 8.623557303283818, 6.279221522005613, 15.715788842215392, 24.42001667390403, 17.26470449200688, 14.091607079210348, 19.644815312893634, 29.845835980327575, 13.208207022547638, 42.277749236075465, 14.836278334495013, 14.173911276753648, 13.497736772835424, 11.91884968507429, 4.7602241351586585, 4.758047069757635, 3.9590215462756984, 4.758278147278743, 3.1681476254575953, 3.1681072519017768, 3.168096092659953, 3.1680910354154013, 3.168071685003109, 3.168047919324293, 3.1678150351516168, 3.956654286538304, 3.1629225633420064, 3.1651540005146424, 3.166165988673837, 3.1675101567892137, 16.60849261209611, 3.16734645851654, 3.1634546470793676, 3.162259473568791, 3.16413395425982, 3.1629799750823784, 7.096685550628534, 3.1610839401235533, 2.3720690887589826, 2.3720538443629127, 2.3720496460588913, 2.3720483683164972, 9.480863879390549, 5.507035284558621, 7.1280396664315635, 4.74855035426849, 7.09831512347571, 7.118714302807248, 4.743129026400534, 6.326391808665951, 15.74858597474505, 9.3926465589364, 4.753213174414903, 25.165209394583872, 4.752258145229242, 35.19069547620764, 8.641166861648607, 12.564082428514626, 21.100889438317985, 17.316705154466696, 18.154610152919084, 28.305984112111506, 16.434585585788465, 31.416735749659004, 20.382428279802863, 29.845835980327575, 13.36541423866402, 11.807795663502551, 9.398011963947372, 24.42001667390403, 19.635427240486603, 17.98406343435453, 11.84033501214738, 42.277749236075465, 4.730005233325556, 4.729937607622238, 4.729939756095318, 3.939955867205832, 3.939822230832021, 5.519003944272984, 3.937777911600494, 3.934292647806766, 3.9343080158534685, 16.523235399903452, 3.149987929494843, 3.1499998349851066, 3.149983241785321, 3.1499621195772374, 3.1499487950832092, 3.149952883603894, 3.149948017437814, 3.1499160382302254, 3.14991906936539, 3.1499204191462518, 3.149912789375971, 3.150295237680366, 3.14769456851575, 3.1477258172150338, 3.1477072547276475, 3.1477013428465876, 3.1476972746191167, 3.148758771585109, 3.148729961634316, 3.1486650542915147, 6.282918626587134, 6.282855545428859, 14.220629097538346, 17.268092503694618, 5.511189140395156, 4.7108987375631335, 6.234305503463666, 40.77026995800487, 15.74658211057357, 7.0623181445885805, 6.298566733566892, 7.8876687563945245, 6.314275825648966, 23.53145315358444, 4.711149967879168, 7.080744882367927, 7.082293913891575, 7.092476866255867, 4.729877109348747, 7.042319116522139, 9.413679340971793, 8.647364111412845, 20.512448034736806, 25.963238328203527, 31.416735749659004, 29.845835980327575, 19.410964197586527, 7.860202053436904, 21.109094051590517, 16.421168726826266, 36.106843407220225, 28.305984112111506, 38.27854830949106, 20.366727378337366, 19.604852724339874, 10.911320210254631, 10.918692544220477, 4.735445169122212, 9.475414982358725, 3.948586490083477, 3.948543662413541, 3.948580036537426, 3.9484750370108106, 4.738633490750906, 12.622043974973236, 3.156095253948584, 3.156052809468078, 3.1560541636365045, 3.1560313584977586, 3.1560235297829466, 3.1560117890418438, 3.9472282982790245, 3.9464427845869205, 3.946481708840732, 3.1563462219905607, 4.738860305943053, 3.1541930730069945, 3.1564510948135807, 3.155821924863206, 2.3640241471356114, 2.364019708444246, 2.3640148319015366, 2.3640126026360644, 2.3640105853195195, 2.3640066553206744, 2.364001384258914, 2.364004041883457, 10.212290669191283, 4.727924999972767, 4.739194209436746, 5.514516399387669, 4.737725034927313, 6.295648625420917, 8.65729469955593, 3.9323248062768927, 7.075132345840745, 17.334957350315406, 10.195166845637512, 33.63197723593854, 7.075213909750051, 7.10072707455056, 19.604852724339874, 23.51438211299379, 14.924917196703865, 7.8008244825618185, 7.802180404795058, 15.68559643492111, 30.64247715718454, 42.277749236075465, 13.310677548280069, 15.728335976870452, 25.963238328203527, 35.19069547620764, 10.214362903312347, 19.644815312893634, 18.084892025343386, 15.715788842215392, 14.913609298016835, 14.865385542839988, 31.416735749659004, 20.512448034736806, 17.316705154466696, 4.679253453868134, 4.680377064476582, 5.46459132186075, 3.899019991953519, 3.899882264427127, 4.683510379715022, 3.119994149170389, 3.1199791184433248, 3.1199792957129664, 3.1199622625851076, 3.1199327510273207, 3.9022569321981124, 3.9022094306161095, 3.902240512459983, 3.9022644085871954, 3.902928442985801, 3.90298177872739, 3.119484079314972, 3.1192602793420336, 3.1192139933798733, 3.1188962336560158, 3.120538416607729, 3.1206272372406763, 3.1206722410089904, 3.1206610824622305, 3.1189528594774227, 3.1189141362709267, 3.1199302042565726, 3.12129500929495, 3.1212762464528256, 17.1634704980702, 5.47112178530171, 6.25562300176287, 21.016348890380502, 5.457589921851165, 6.247434464361574, 6.239668374989111, 10.122826944611337, 14.847177839773794, 4.689749313395499, 4.691343163001326, 14.778511389165633, 6.955549058446018, 6.979622656279432, 8.472619984811981, 5.4527505321581575, 9.274159880700775, 15.68559643492111, 18.154610152919084, 10.138483124554385, 30.59460698795062, 21.160997179089577, 28.305984112111506, 11.641420903958558, 18.630592930592247, 17.26470449200688, 40.77026995800487, 10.828428262214059, 33.63197723593854, 4.63846460251239, 6.956052442397687, 3.8645254899153545, 3.864466324952177, 4.641865085556529, 4.641839330748765, 3.8654651769656607, 3.0933799632084975, 3.0933731434564153, 3.09332736042238, 3.0933412232603845, 3.0933154281448125, 3.869551536269258, 3.094347966049978, 5.422782347465876, 3.870685484072363, 3.0951037643979964, 3.09429426024013, 3.0942894928545375, 3.094313184865272, 3.0942885639611717, 3.09121268553654, 3.0957835372589635, 3.0962346134848175, 3.0962374282660274, 3.096157000770899, 3.096232194577749, 3.095736978269004, 3.09525631861598, 3.0953555423614016, 8.531334774997363, 7.754210823668293, 4.640829056539126, 11.653948629719986, 4.640759957066051, 9.368489394958496, 5.438067503689764, 6.980868608634176, 7.028734223406747, 10.121916139689517, 5.408318585320446, 19.410964197586527, 4.6245328682075755, 7.712883109116286, 19.515435247351068, 18.730709959216657, 17.171194840979947, 12.444463682035911, 9.342216716417399, 20.382428279802863, 15.60837593115037, 17.94631059427651, 9.25552702107802, 12.442636318651896, 7.8255180897847305, 8.522517843626702, 30.59460698795062, 13.079827867048099, 18.630592930592247, 18.756710592214954, 17.925793921362388, 21.100889438317985, 21.056218121548486, 14.836278334495013, 4.67968920536549, 4.68042030118781, 3.1156933588245925, 3.1157128708032737, 3.1156823859590537, 3.1156999335786737, 3.118469373781102, 3.11851970854964, 3.118889785906737, 3.1202728129280133, 3.1202814164941945, 3.120258634313492, 3.120247080782701, 3.1202656868116447, 3.120256703988831, 3.120256932772909, 3.1202581606927233, 3.1202376005273535, 3.120262270905449, 3.1203049011896438, 3.1203197169571424, 3.1203622916300824, 3.903912811182199, 6.243572323037733, 2.3392943909323214, 2.3392850748795366, 2.3392892589849734, 2.3392801818019113, 2.3392672271352373, 2.339264674926255, 5.468247156307059, 5.450415272882765, 5.451032091883149, 5.4559273530081684, 12.44649132755174, 7.04344688054568, 16.46614663175519, 16.466127248292484, 8.607485322516295, 4.67079406466157, 6.183862421830595, 23.51438211299379, 9.409021180783414, 10.873956842663658, 7.806648048685674, 21.109094051590517, 12.442636318651896, 18.65527111007119, 9.421369729104342, 10.1112908102627, 10.184595784762866, 10.863776846937814, 12.496386771312835, 12.436757252302094, 22.558457331091823, 15.715788842215392, 14.924917196703865, 21.801710439391037, 42.277749236075465, 4.662767571886954, 3.8863075826834765, 3.8862794623499872, 3.886272849623881, 3.886215280903731, 3.109415025891832, 3.109405965083855, 3.109409709854751, 3.10938097759738, 3.1093819539902143, 3.109379943248823, 3.109380140696004, 3.1093727416282344, 3.109348698719697, 3.1093495572961762, 3.8878196912774876, 3.887810484358534, 3.8877814277642595, 3.110941958941991, 3.1109096230088165, 3.1109488872437727, 3.1109199027774026, 3.1110843738245535, 3.1110918308569144, 7.79924312911202, 2.3329225486892238, 2.3329176716321625, 2.332915761401653, 2.3329109311713347, 2.33290870605322, 4.658348499452061, 4.6676814287762785, 12.475901654206318, 21.801710439391037, 8.490386347163572, 33.63197723593854, 42.277749236075465, 25.68658597042493, 17.170816965621427, 7.793974796714195, 7.769050436187776, 12.458969023514275, 12.537158513884007, 9.365578412487732, 19.604852724339874, 15.62409300617456, 26.61467008317167, 10.222967328626197, 6.258464434112783, 9.295874513914821, 34.45642841948435, 17.925793921362388, 17.98406343435453, 31.308339335069828, 11.709284084974875, 30.64247715718454, 25.165209394583872, 16.307490211111713, 17.013567581584724, 25.963238328203527, 23.53145315358444, 5.409277776613152, 6.95271983977465, 4.637763706536875, 6.187208601333839, 3.0941662569523403, 3.0941182562147915, 3.0940914428048707, 3.0918522977814704, 3.0946716662469154, 3.094664006138043, 3.096296551172558, 3.096298149483446, 3.0962899295347155, 3.0962764175411586, 3.096271566892755, 3.096473325958676, 3.0961337949000063, 3.096942329740149, 5.417786834796115, 2.322772026068043, 2.3227649628379687, 2.3227665394167056, 2.32275998864451, 2.322758256204181, 2.322755881344012, 2.3227504316737146, 2.322753319700996, 2.322753841810284, 2.3227462024943546, 2.322749101907894, 6.206445779812822, 6.206466796759632, 9.278532390760047, 16.278048886311442, 9.311018189821185, 10.905624852894455, 5.456855656778792, 3.865094516285692, 3.873520562392793, 7.728369325447993, 3.87172145856993, 5.43227476105725, 14.030623835256673, 25.68658597042493, 21.056218121548486, 31.416735749659004, 13.289662583711829, 9.398011963947372, 6.238990270315705, 10.824910028271125, 9.33022744066033, 11.632426243610695, 6.208633051858764, 11.63264793985701, 21.016348890380502, 9.377977750188203, 12.502321778297038, 33.63197723593854, 34.45642841948435, 29.845835980327575, 38.27854830949106, 14.836278334495013, 5.30033889786517, 5.302864206146145, 3.788814721033678, 3.792907790015855, 3.794117805801628, 3.0366547922642475, 3.036638461072127, 3.0366264432869414, 3.03661615983159, 3.0388099435782205, 3.0388165049708626, 3.0388197166698134, 3.0398176065180778, 3.0398234056085363, 3.0411497235826577, 3.0435224678525947, 3.0436229046878154, 3.043616092624147, 3.043634188386955, 3.0436323439526434, 3.046228754210847, 3.0462546173247915, 3.0462272355377547, 3.0462587382211184, 3.043531663445348, 2.2844386041986384, 2.2844118475393085, 2.284409807133691, 2.2844130274779535, 2.2844044706523454, 4.584370985758278, 6.143097969140028, 3.8356872206793136, 10.796330945555948, 17.873142024888203, 13.079827867048099, 10.046555595532679, 8.463031757035957, 35.19069547620764, 10.041385635739891, 6.912198036790588, 17.013567581584724, 11.652115252815127, 6.921910038972939, 38.27854830949106, 6.935532560217039, 12.397329244130832, 36.106843407220225, 40.018224623977964, 8.462687706645205, 8.472619984811981, 18.65527111007119, 19.410964197586527, 21.100889438317985, 22.558457331091823, 9.326889182887129, 12.436757252302094, 14.778511389165633, 18.630592930592247, 16.307490211111713], \"Category\": [\"Default\", \"Default\", \"Default\", \"Default\", \"Default\", \"Default\", \"Default\", \"Default\", \"Default\", \"Default\", \"Default\", \"Default\", \"Default\", \"Default\", \"Default\", \"Default\", \"Default\", \"Default\", \"Default\", \"Default\", \"Default\", \"Default\", \"Default\", \"Default\", \"Default\", \"Default\", \"Default\", \"Default\", \"Default\", \"Default\", \"Topic1\", \"Topic1\", \"Topic1\", \"Topic1\", \"Topic1\", \"Topic1\", \"Topic1\", \"Topic1\", \"Topic1\", \"Topic1\", \"Topic1\", \"Topic1\", \"Topic1\", \"Topic1\", \"Topic1\", \"Topic1\", \"Topic1\", \"Topic1\", \"Topic1\", \"Topic1\", \"Topic1\", \"Topic1\", \"Topic1\", \"Topic1\", \"Topic1\", \"Topic1\", \"Topic1\", \"Topic1\", \"Topic1\", \"Topic1\", \"Topic1\", \"Topic1\", \"Topic1\", \"Topic1\", \"Topic1\", \"Topic1\", \"Topic1\", \"Topic1\", \"Topic1\", \"Topic1\", \"Topic1\", \"Topic1\", \"Topic1\", \"Topic1\", \"Topic1\", \"Topic1\", \"Topic1\", \"Topic1\", \"Topic1\", \"Topic1\", \"Topic1\", \"Topic1\", \"Topic1\", \"Topic1\", \"Topic1\", \"Topic1\", \"Topic1\", \"Topic1\", \"Topic1\", \"Topic1\", \"Topic1\", \"Topic1\", \"Topic1\", \"Topic1\", \"Topic1\", \"Topic1\", \"Topic1\", \"Topic1\", \"Topic2\", \"Topic2\", \"Topic2\", \"Topic2\", \"Topic2\", \"Topic2\", \"Topic2\", \"Topic2\", \"Topic2\", \"Topic2\", \"Topic2\", \"Topic2\", \"Topic2\", \"Topic2\", \"Topic2\", \"Topic2\", \"Topic2\", \"Topic2\", \"Topic2\", \"Topic2\", \"Topic2\", \"Topic2\", \"Topic2\", \"Topic2\", \"Topic2\", \"Topic2\", \"Topic2\", \"Topic2\", \"Topic2\", \"Topic2\", \"Topic2\", \"Topic2\", \"Topic2\", \"Topic2\", \"Topic2\", \"Topic2\", \"Topic2\", \"Topic2\", \"Topic2\", \"Topic2\", \"Topic2\", \"Topic2\", \"Topic2\", \"Topic2\", \"Topic2\", \"Topic2\", \"Topic2\", \"Topic2\", \"Topic2\", \"Topic2\", \"Topic2\", \"Topic2\", \"Topic2\", \"Topic2\", \"Topic2\", \"Topic2\", \"Topic2\", \"Topic2\", \"Topic2\", \"Topic2\", \"Topic2\", \"Topic2\", \"Topic3\", \"Topic3\", \"Topic3\", \"Topic3\", \"Topic3\", \"Topic3\", \"Topic3\", \"Topic3\", \"Topic3\", \"Topic3\", \"Topic3\", \"Topic3\", \"Topic3\", \"Topic3\", \"Topic3\", \"Topic3\", \"Topic3\", \"Topic3\", \"Topic3\", \"Topic3\", \"Topic3\", \"Topic3\", \"Topic3\", \"Topic3\", \"Topic3\", \"Topic3\", \"Topic3\", \"Topic3\", \"Topic3\", \"Topic3\", \"Topic3\", \"Topic3\", \"Topic3\", \"Topic3\", \"Topic3\", \"Topic3\", \"Topic3\", \"Topic3\", \"Topic3\", \"Topic3\", \"Topic3\", \"Topic3\", \"Topic3\", \"Topic3\", \"Topic3\", \"Topic3\", \"Topic3\", \"Topic3\", \"Topic3\", \"Topic3\", \"Topic3\", \"Topic3\", \"Topic3\", \"Topic3\", \"Topic3\", \"Topic3\", \"Topic3\", \"Topic3\", \"Topic3\", \"Topic3\", \"Topic3\", \"Topic3\", \"Topic3\", \"Topic3\", \"Topic3\", \"Topic3\", \"Topic3\", \"Topic4\", \"Topic4\", \"Topic4\", \"Topic4\", \"Topic4\", \"Topic4\", \"Topic4\", \"Topic4\", \"Topic4\", \"Topic4\", \"Topic4\", \"Topic4\", \"Topic4\", \"Topic4\", \"Topic4\", \"Topic4\", \"Topic4\", \"Topic4\", \"Topic4\", \"Topic4\", \"Topic4\", \"Topic4\", \"Topic4\", \"Topic4\", \"Topic4\", \"Topic4\", \"Topic4\", \"Topic4\", \"Topic4\", \"Topic4\", \"Topic4\", \"Topic4\", \"Topic4\", \"Topic4\", \"Topic4\", \"Topic4\", \"Topic4\", \"Topic4\", \"Topic4\", \"Topic4\", \"Topic4\", \"Topic4\", \"Topic4\", \"Topic4\", \"Topic4\", \"Topic4\", \"Topic4\", \"Topic4\", \"Topic4\", \"Topic4\", \"Topic4\", \"Topic4\", \"Topic4\", \"Topic4\", \"Topic4\", \"Topic4\", \"Topic4\", \"Topic4\", \"Topic4\", \"Topic4\", \"Topic4\", \"Topic4\", \"Topic4\", \"Topic4\", \"Topic4\", \"Topic5\", \"Topic5\", \"Topic5\", \"Topic5\", \"Topic5\", \"Topic5\", \"Topic5\", \"Topic5\", \"Topic5\", \"Topic5\", \"Topic5\", \"Topic5\", \"Topic5\", \"Topic5\", \"Topic5\", \"Topic5\", \"Topic5\", \"Topic5\", \"Topic5\", \"Topic5\", \"Topic5\", \"Topic5\", \"Topic5\", \"Topic5\", \"Topic5\", \"Topic5\", \"Topic5\", \"Topic5\", \"Topic5\", \"Topic5\", \"Topic5\", \"Topic5\", \"Topic5\", \"Topic5\", \"Topic5\", \"Topic5\", \"Topic5\", \"Topic5\", \"Topic5\", \"Topic5\", \"Topic5\", \"Topic5\", \"Topic5\", \"Topic5\", \"Topic5\", \"Topic5\", \"Topic5\", \"Topic5\", \"Topic5\", \"Topic5\", \"Topic5\", \"Topic5\", \"Topic5\", \"Topic5\", \"Topic5\", \"Topic5\", \"Topic5\", \"Topic5\", \"Topic5\", \"Topic6\", \"Topic6\", \"Topic6\", \"Topic6\", \"Topic6\", \"Topic6\", \"Topic6\", \"Topic6\", \"Topic6\", \"Topic6\", \"Topic6\", \"Topic6\", \"Topic6\", \"Topic6\", \"Topic6\", \"Topic6\", \"Topic6\", \"Topic6\", \"Topic6\", \"Topic6\", \"Topic6\", \"Topic6\", \"Topic6\", \"Topic6\", \"Topic6\", \"Topic6\", \"Topic6\", \"Topic6\", \"Topic6\", \"Topic6\", \"Topic6\", \"Topic6\", \"Topic6\", \"Topic6\", \"Topic6\", \"Topic6\", \"Topic6\", \"Topic6\", \"Topic6\", \"Topic6\", \"Topic6\", \"Topic6\", \"Topic6\", \"Topic6\", \"Topic6\", \"Topic6\", \"Topic6\", \"Topic6\", \"Topic6\", \"Topic6\", \"Topic6\", \"Topic6\", \"Topic6\", \"Topic6\", \"Topic6\", \"Topic6\", \"Topic6\", \"Topic6\", \"Topic6\", \"Topic6\", \"Topic6\", \"Topic6\", \"Topic6\", \"Topic6\", \"Topic7\", \"Topic7\", \"Topic7\", \"Topic7\", \"Topic7\", \"Topic7\", \"Topic7\", \"Topic7\", \"Topic7\", \"Topic7\", \"Topic7\", \"Topic7\", \"Topic7\", \"Topic7\", \"Topic7\", \"Topic7\", \"Topic7\", \"Topic7\", \"Topic7\", \"Topic7\", \"Topic7\", \"Topic7\", \"Topic7\", \"Topic7\", \"Topic7\", \"Topic7\", \"Topic7\", \"Topic7\", \"Topic7\", \"Topic7\", \"Topic7\", \"Topic7\", \"Topic7\", \"Topic7\", \"Topic7\", \"Topic7\", \"Topic7\", \"Topic7\", \"Topic7\", \"Topic7\", \"Topic7\", \"Topic7\", \"Topic7\", \"Topic7\", \"Topic7\", \"Topic7\", \"Topic7\", \"Topic7\", \"Topic7\", \"Topic7\", \"Topic7\", \"Topic7\", \"Topic7\", \"Topic7\", \"Topic7\", \"Topic7\", \"Topic7\", \"Topic7\", \"Topic7\", \"Topic8\", \"Topic8\", \"Topic8\", \"Topic8\", \"Topic8\", \"Topic8\", \"Topic8\", \"Topic8\", \"Topic8\", \"Topic8\", \"Topic8\", \"Topic8\", \"Topic8\", \"Topic8\", \"Topic8\", \"Topic8\", \"Topic8\", \"Topic8\", \"Topic8\", \"Topic8\", \"Topic8\", \"Topic8\", \"Topic8\", \"Topic8\", \"Topic8\", \"Topic8\", \"Topic8\", \"Topic8\", \"Topic8\", \"Topic8\", \"Topic8\", \"Topic8\", \"Topic8\", \"Topic8\", \"Topic8\", \"Topic8\", \"Topic8\", \"Topic8\", \"Topic8\", \"Topic8\", \"Topic8\", \"Topic8\", \"Topic8\", \"Topic8\", \"Topic8\", \"Topic8\", \"Topic8\", \"Topic8\", \"Topic8\", \"Topic8\", \"Topic8\", \"Topic8\", \"Topic8\", \"Topic8\", \"Topic8\", \"Topic8\", \"Topic8\", \"Topic8\", \"Topic8\", \"Topic8\", \"Topic8\", \"Topic9\", \"Topic9\", \"Topic9\", \"Topic9\", \"Topic9\", \"Topic9\", \"Topic9\", \"Topic9\", \"Topic9\", \"Topic9\", \"Topic9\", \"Topic9\", \"Topic9\", \"Topic9\", \"Topic9\", \"Topic9\", \"Topic9\", \"Topic9\", \"Topic9\", \"Topic9\", \"Topic9\", \"Topic9\", \"Topic9\", \"Topic9\", \"Topic9\", \"Topic9\", \"Topic9\", \"Topic9\", \"Topic9\", \"Topic9\", \"Topic9\", \"Topic9\", \"Topic9\", \"Topic9\", \"Topic9\", \"Topic9\", \"Topic9\", \"Topic9\", \"Topic9\", \"Topic9\", \"Topic9\", \"Topic9\", \"Topic9\", \"Topic9\", \"Topic9\", \"Topic9\", \"Topic9\", \"Topic9\", \"Topic9\", \"Topic9\", \"Topic9\", \"Topic9\", \"Topic9\", \"Topic9\", \"Topic9\", \"Topic9\", \"Topic9\", \"Topic9\", \"Topic9\", \"Topic9\", \"Topic9\", \"Topic9\", \"Topic10\", \"Topic10\", \"Topic10\", \"Topic10\", \"Topic10\", \"Topic10\", \"Topic10\", \"Topic10\", \"Topic10\", \"Topic10\", \"Topic10\", \"Topic10\", \"Topic10\", \"Topic10\", \"Topic10\", \"Topic10\", \"Topic10\", \"Topic10\", \"Topic10\", \"Topic10\", \"Topic10\", \"Topic10\", \"Topic10\", \"Topic10\", \"Topic10\", \"Topic10\", \"Topic10\", \"Topic10\", \"Topic10\", \"Topic10\", \"Topic10\", \"Topic10\", \"Topic10\", \"Topic10\", \"Topic10\", \"Topic10\", \"Topic10\", \"Topic10\", \"Topic10\", \"Topic10\", \"Topic10\", \"Topic10\", \"Topic10\", \"Topic10\", \"Topic10\", \"Topic10\", \"Topic10\", \"Topic10\", \"Topic10\", \"Topic10\", \"Topic10\", \"Topic10\", \"Topic10\", \"Topic10\", \"Topic10\", \"Topic10\", \"Topic10\", \"Topic10\", \"Topic10\", \"Topic10\"], \"logprob\": [30.0, 29.0, 28.0, 27.0, 26.0, 25.0, 24.0, 23.0, 22.0, 21.0, 20.0, 19.0, 18.0, 17.0, 16.0, 15.0, 14.0, 13.0, 12.0, 11.0, 10.0, 9.0, 8.0, 7.0, 6.0, 5.0, 4.0, 3.0, 2.0, 1.0, -6.2603, -6.2603, -6.2603, -6.2604, -6.2987, -6.2987, -6.2987, -6.2988, -6.3149, -6.3169, -6.3387, -6.3387, -6.3387, -5.7856, -6.3428, -5.6662, -6.6498, -6.6498, -6.6498, -6.6498, -6.6498, -6.6498, -6.6498, -6.6498, -6.6498, -6.6498, -6.6498, -6.6498, -6.6498, -6.6498, -3.8879, -4.0011, -4.5486, -4.5884, -4.8993, -6.1937, -6.0394, -4.4759, -4.9084, -5.2172, -5.4784, -5.9879, -6.2603, -6.4273, -5.4951, -4.7755, -4.6773, -5.5834, -5.2933, -6.0096, -5.116, -5.3568, -5.0513, -5.1588, -5.4315, -5.4861, -5.8093, -5.9807, -5.6225, -5.4544, -5.6044, -5.725, -5.6577, -5.5649, -5.7881, -5.6537, -5.7754, -5.7856, -4.64, -4.8176, -5.7409, -5.7697, -5.9881, -5.8123, -6.2388, -6.2388, -6.2388, -6.2388, -6.2388, -6.2388, -6.2389, -6.0179, -6.2772, -6.2772, -6.2772, -6.2772, -4.6321, -6.2938, -6.3, -6.3172, -6.3172, -6.3205, -5.5125, -6.3322, -6.6283, -6.6283, -6.6283, -6.6283, -5.244, -5.791, -5.5597, -5.9759, -5.6105, -5.6433, -5.9881, -5.7641, -5.0576, -5.4719, -5.9964, -4.9141, -6.0178, -4.7627, -5.6585, -5.4435, -5.1898, -5.315, -5.304, -5.0858, -5.3851, -5.079, -5.3217, -5.1879, -5.5406, -5.6009, -5.6901, -5.3741, -5.4719, -5.5357, -5.6296, -5.5523, -5.7468, -5.7468, -5.7468, -5.9651, -5.9651, -5.6307, -5.9939, -6.0021, -6.0022, -4.5869, -6.2446, -6.2446, -6.2446, -6.2447, -6.2447, -6.2447, -6.2447, -6.2447, -6.2447, -6.2447, -6.2447, -6.2633, -6.2831, -6.2831, -6.2831, -6.2831, -6.2831, -6.2831, -6.2831, -6.2831, -5.6734, -5.6734, -4.9922, -4.8982, -5.8375, -5.9651, -5.7468, -4.3419, -5.0635, -5.6734, -5.7745, -5.6266, -5.8033, -4.9838, -5.9939, -5.7468, -5.7468, -5.7468, -5.994, -5.757, -5.6107, -5.6775, -5.2841, -5.3086, -5.2804, -5.3047, -5.4816, -5.77, -5.5551, -5.6139, -5.5278, -5.5674, -5.5722, -5.7242, -5.7452, -5.7468, -5.7468, -5.7363, -5.0703, -5.9602, -5.9602, -5.9602, -5.9603, -5.7843, -4.8137, -6.2109, -6.2109, -6.2109, -6.211, -6.211, -6.211, -5.9931, -6.0207, -6.0207, -6.2443, -5.8416, -6.2494, -6.2495, -6.2653, -6.6004, -6.6004, -6.6004, -6.6004, -6.6004, -6.6004, -6.6005, -6.6005, -5.1527, -5.9313, -5.9602, -5.8431, -6.0207, -5.8125, -5.5731, -6.211, -5.7843, -5.1576, -5.534, -4.862, -5.7843, -5.7843, -5.2314, -5.134, -5.3988, -5.7362, -5.7362, -5.4224, -5.1352, -5.0083, -5.5932, -5.5378, -5.4128, -5.3766, -5.7362, -5.5932, -5.6149, -5.6904, -5.7331, -5.7548, -5.7121, -5.7363, -5.7644, -5.6266, -5.6448, -5.5279, -5.8687, -5.8728, -5.7094, -6.1195, -6.1195, -6.1195, -6.1195, -6.1195, -5.8985, -5.8985, -5.8985, -5.8985, -5.8985, -5.8985, -6.1254, -6.1278, -6.1283, -6.1314, -6.1349, -6.1372, -6.1387, -6.1401, -6.1579, -6.1579, -6.1579, -6.1579, -6.1579, -4.5572, -5.6479, -5.5433, -4.5686, -5.7378, -5.6399, -5.6448, -5.3158, -5.1218, -5.8734, -5.8771, -5.1882, -5.6447, -5.6447, -5.5631, -5.824, -5.6359, -5.4244, -5.4425, -5.6346, -5.3669, -5.4924, -5.4425, -5.6519, -5.6041, -5.6345, -5.5926, -5.7858, -5.7851, -5.6276, -5.2227, -5.8227, -5.8227, -5.6555, -5.6556, -5.8516, -6.1023, -6.1023, -6.1023, -6.1023, -6.1023, -5.8813, -6.1202, -5.5609, -5.912, -6.1393, -6.1407, -6.1407, -6.1407, -6.1407, -6.1422, -6.1408, -6.1407, -6.1407, -6.1407, -6.1407, -6.1409, -6.1418, -6.1452, -5.1752, -5.2673, -5.8227, -5.2107, -5.8813, -5.4447, -5.7872, -5.6517, -5.6513, -5.4644, -5.8227, -5.1213, -5.9224, -5.6528, -5.165, -5.2219, -5.2909, -5.4447, -5.6062, -5.2681, -5.4064, -5.4047, -5.6425, -5.5745, -5.7184, -5.7057, -5.4736, -5.6459, -5.5893, -5.6044, -5.6276, -5.6137, -5.6276, -5.6547, -5.5787, -5.6077, -6.0918, -6.0918, -6.0918, -6.0918, -6.0918, -6.0918, -6.0918, -6.0918, -6.0918, -6.0918, -6.0918, -6.0918, -6.0918, -6.0918, -6.0918, -6.0918, -6.0918, -6.0918, -6.0918, -6.0918, -5.8871, -5.4492, -6.4429, -6.4429, -6.4429, -6.4429, -6.4429, -6.4429, -5.5938, -5.6024, -5.6101, -5.6136, -4.8474, -5.4231, -4.6915, -4.6929, -5.2581, -5.8027, -5.6138, -4.8071, -5.3958, -5.3958, -5.5787, -5.0872, -5.3958, -5.2517, -5.6349, -5.6145, -5.6328, -5.6123, -5.5787, -5.6137, -5.4332, -5.5854, -5.6129, -5.5787, -5.581, -5.5818, -5.8057, -5.8057, -5.8057, -5.8057, -6.0564, -6.0564, -6.0564, -6.0564, -6.0564, -6.0564, -6.0564, -6.0564, -6.0564, -6.0564, -5.8355, -5.8355, -5.8355, -6.0948, -6.0948, -6.0948, -6.0948, -6.0948, -6.0948, -5.2277, -6.4459, -6.4459, -6.4459, -6.4459, -6.4459, -5.8058, -5.8355, -5.0379, -4.6593, -5.4185, -4.6515, -4.5576, -4.8607, -5.0959, -5.5585, -5.5831, -5.399, -5.3989, -5.5585, -5.2611, -5.3818, -5.1988, -5.5817, -5.7768, -5.6297, -5.1401, -5.3988, -5.4186, -5.2611, -5.5585, -5.3988, -5.4418, -5.5586, -5.5585, -5.6238, -5.6774, -5.329, -5.0989, -5.5119, -5.2369, -5.9865, -5.9866, -5.9866, -6.025, -6.025, -6.025, -6.0249, -6.0249, -6.0249, -6.0249, -6.0249, -6.0249, -6.0649, -6.0649, -5.5118, -6.376, -6.376, -6.376, -6.376, -6.376, -6.376, -6.376, -6.376, -6.376, -6.376, -6.376, -5.409, -5.409, -5.0647, -4.5465, -5.2369, -5.1601, -5.7069, -5.9865, -5.9865, -5.5123, -6.0249, -5.7963, -5.1868, -4.8927, -5.0937, -4.9356, -5.3683, -5.5356, -5.7358, -5.5118, -5.5765, -5.5118, -5.7656, -5.5355, -5.329, -5.6447, -5.5598, -5.329, -5.3688, -5.4887, -5.57, -5.7069, -5.3583, -5.3644, -5.7026, -5.7398, -5.7513, -5.9822, -5.9822, -5.9822, -5.9822, -6.0206, -6.0206, -6.0206, -6.0206, -6.0206, -6.0206, -6.0606, -6.0606, -6.0606, -6.0606, -6.0606, -6.0606, -6.0606, -6.0606, -6.0606, -6.067, -6.3717, -6.3717, -6.3717, -6.3717, -6.3717, -5.7523, -5.6938, -6.0206, -5.3536, -5.0509, -5.3443, -5.5075, -5.5873, -4.9604, -5.5384, -5.7026, -5.3246, -5.5075, -5.7315, -5.066, -5.7613, -5.5646, -5.2549, -5.2408, -5.7315, -5.7345, -5.5319, -5.529, -5.5124, -5.5273, -5.7315, -5.7074, -5.7026, -5.7249, -5.7315], \"loglift\": [30.0, 29.0, 28.0, 27.0, 26.0, 25.0, 24.0, 23.0, 22.0, 21.0, 20.0, 19.0, 18.0, 17.0, 16.0, 15.0, 14.0, 13.0, 12.0, 11.0, 10.0, 9.0, 8.0, 7.0, 6.0, 5.0, 4.0, 3.0, 2.0, 1.0, 1.9086, 1.9085, 1.9085, 1.9085, 1.8706, 1.8701, 1.8701, 1.8701, 1.8539, 1.8531, 1.8314, 1.831, 1.83, 1.8293, 1.8262, 1.808, 1.8079, 1.8079, 1.8079, 1.8079, 1.8079, 1.8079, 1.8079, 1.8079, 1.8079, 1.8079, 1.8079, 1.8079, 1.8079, 1.8079, 1.7404, 1.73, 1.7113, 1.6371, 1.6151, 1.7516, 1.7261, 1.3978, 1.3953, 1.4478, 1.5147, 1.619, 1.6946, 1.7416, 1.4237, 1.1197, 0.9954, 1.4197, 1.181, 1.5967, 0.9201, 1.0775, 0.7266, 0.738, 0.991, 1.0326, 1.3538, 1.4996, 0.9405, 0.6678, 0.8645, 0.947, 0.6821, 0.3566, 0.9486, -0.0804, 0.8451, 0.8806, 2.075, 2.0219, 2.0164, 1.9881, 1.9535, 1.9454, 1.9257, 1.9257, 1.9257, 1.9257, 1.9257, 1.9257, 1.9256, 1.9243, 1.8889, 1.8882, 1.8879, 1.8874, 1.8755, 1.8708, 1.866, 1.8491, 1.8485, 1.8456, 1.8454, 1.8345, 1.8256, 1.8256, 1.8256, 1.8256, 1.8243, 1.8205, 1.7938, 1.7839, 1.7473, 1.7115, 1.7728, 1.7088, 1.5032, 1.6058, 1.7624, 1.178, 1.7411, 0.9941, 1.5026, 1.3433, 1.0785, 1.1509, 1.1147, 0.8887, 1.133, 0.7912, 0.9812, 0.7337, 1.1843, 1.2479, 1.3869, 0.7481, 0.8684, 0.8924, 1.2165, 0.021, 2.0169, 2.0169, 2.0169, 1.9814, 1.9813, 1.9787, 1.953, 1.9458, 1.9457, 1.9259, 1.9255, 1.9255, 1.9255, 1.9255, 1.9255, 1.9255, 1.9255, 1.9255, 1.9255, 1.9255, 1.9255, 1.9067, 1.8878, 1.8878, 1.8878, 1.8878, 1.8878, 1.8875, 1.8875, 1.8875, 1.8064, 1.8064, 1.6707, 1.5706, 1.7733, 1.8026, 1.7407, 1.2678, 1.4975, 1.6894, 1.7028, 1.6257, 1.6714, 1.1755, 1.7737, 1.6134, 1.6132, 1.6117, 1.7697, 1.6087, 1.4647, 1.4828, 1.0124, 0.7523, 0.5899, 0.6168, 0.8702, 1.4858, 0.7127, 0.9051, 0.2033, 0.4071, 0.1005, 0.5795, 0.5966, 1.181, 1.1803, 2.0262, 1.9985, 1.984, 1.984, 1.984, 1.984, 1.9776, 1.9684, 1.9573, 1.9573, 1.9573, 1.9573, 1.9573, 1.9573, 1.9515, 1.9241, 1.924, 1.9239, 1.9201, 1.9195, 1.9186, 1.903, 1.8568, 1.8568, 1.8568, 1.8568, 1.8568, 1.8568, 1.8568, 1.8568, 1.8413, 1.8328, 1.8015, 1.7671, 1.7413, 1.6653, 1.5861, 1.7374, 1.5767, 1.3072, 1.4617, 0.9402, 1.5767, 1.5731, 1.1104, 1.0259, 1.2157, 1.5271, 1.5269, 1.1425, 0.76, 0.565, 1.1358, 1.0243, 0.6481, 0.3802, 1.2575, 0.7466, 0.8076, 0.8725, 0.8822, 0.8637, 0.1582, 0.5603, 0.7015, 2.1478, 2.1294, 2.0914, 2.0881, 2.0839, 2.0641, 2.0603, 2.0603, 2.0603, 2.0603, 2.0603, 2.0575, 2.0575, 2.0575, 2.0575, 2.0573, 2.0573, 2.0546, 2.0522, 2.0517, 2.0487, 2.0447, 2.0423, 2.0408, 2.0395, 2.0222, 2.0222, 2.0219, 2.0215, 2.0215, 1.9176, 1.9702, 1.9408, 1.7037, 1.8827, 1.8455, 1.8419, 1.687, 1.498, 1.8988, 1.8948, 1.4362, 1.7333, 1.7298, 1.6177, 1.7975, 1.4545, 1.1404, 0.9761, 1.3666, 0.5299, 0.773, 0.5321, 1.2112, 0.7887, 0.8344, 0.0171, 1.1496, 0.017, 2.1556, 2.1553, 2.1431, 2.1431, 2.1269, 2.1269, 2.1139, 2.0861, 2.0861, 2.086, 2.086, 2.086, 2.0831, 2.0678, 2.0661, 2.0521, 2.0485, 2.0473, 2.0473, 2.0473, 2.0473, 2.0468, 2.0467, 2.0467, 2.0467, 2.0467, 2.0467, 2.0467, 2.0459, 2.0425, 1.9987, 2.0021, 1.96, 1.6512, 1.9014, 1.6356, 1.837, 1.7227, 1.7163, 1.5385, 1.807, 1.2305, 1.8638, 1.6219, 1.1814, 1.1655, 1.1835, 1.3516, 1.4768, 1.0348, 1.1634, 1.0255, 1.4499, 1.2219, 1.5418, 1.4692, 0.4232, 1.1006, 0.8034, 0.7816, 0.8037, 0.6545, 0.6428, 0.9658, 2.1956, 2.1664, 2.0893, 2.0893, 2.0893, 2.0893, 2.0884, 2.0884, 2.0883, 2.0878, 2.0878, 2.0878, 2.0878, 2.0878, 2.0878, 2.0878, 2.0878, 2.0878, 2.0878, 2.0878, 2.0878, 2.0878, 2.0685, 2.0369, 2.0248, 2.0248, 2.0248, 2.0248, 2.0248, 2.0248, 2.0248, 2.0195, 2.0116, 2.0073, 1.9487, 1.9424, 1.8248, 1.8233, 1.9068, 1.9735, 1.8818, 1.3529, 1.6801, 1.5354, 1.6839, 1.1807, 1.4006, 1.1397, 1.4397, 1.3894, 1.3639, 1.3199, 1.2134, 1.1833, 0.7682, 0.9776, 1.0016, 0.6569, -0.0077, 2.1962, 2.1544, 2.1544, 2.1544, 2.1544, 2.1267, 2.1267, 2.1267, 2.1267, 2.1267, 2.1267, 2.1267, 2.1267, 2.1267, 2.1267, 2.1243, 2.1243, 2.1243, 2.0878, 2.0878, 2.0878, 2.0878, 2.0878, 2.0878, 2.0359, 2.0245, 2.0245, 2.0245, 2.0245, 2.0245, 1.9731, 1.9414, 1.7558, 1.5763, 1.7601, 1.1506, 1.0157, 1.2109, 1.3785, 1.7057, 1.6843, 1.3962, 1.3899, 1.522, 1.0807, 1.187, 0.8374, 1.4112, 1.7068, 1.4583, 0.6377, 1.0325, 1.0095, 0.6125, 1.2987, 0.4964, 0.6503, 0.9673, 0.925, 0.4371, 0.4819, 2.3005, 2.2795, 2.2715, 2.2582, 2.2015, 2.2015, 2.2015, 2.1639, 2.1629, 2.1629, 2.1624, 2.1624, 2.1624, 2.1624, 2.1624, 2.1624, 2.1225, 2.1223, 2.1161, 2.0988, 2.0988, 2.0988, 2.0988, 2.0988, 2.0988, 2.0988, 2.0988, 2.0988, 2.0988, 2.0988, 2.083, 2.083, 2.0251, 1.9813, 1.8495, 1.7682, 1.9138, 1.9791, 1.9769, 1.7604, 1.939, 1.8289, 1.4895, 1.1789, 1.1767, 0.9346, 1.3623, 1.5415, 1.7509, 1.4239, 1.5078, 1.352, 1.726, 1.3282, 0.9433, 1.4345, 1.2318, 0.4731, 0.4091, 0.4329, 0.1027, 0.9136, 2.2915, 2.2849, 2.2829, 2.2446, 2.2329, 2.2246, 2.2246, 2.2246, 2.2246, 2.1855, 2.1855, 2.1855, 2.1852, 2.1852, 2.1847, 2.144, 2.144, 2.144, 2.144, 2.144, 2.1431, 2.1431, 2.1431, 2.1431, 2.1375, 2.1198, 2.1198, 2.1198, 2.1198, 2.1198, 2.0426, 1.8085, 1.9526, 1.5847, 1.3833, 1.4022, 1.5029, 1.5945, 0.7964, 1.4725, 1.6817, 1.159, 1.3546, 1.6514, 0.6067, 1.6197, 1.2355, 0.4762, 0.3874, 1.4504, 1.4463, 0.8595, 0.8227, 0.7559, 0.6742, 1.3532, 1.0895, 0.9218, 0.6679, 0.7945]}, \"token.table\": {\"Topic\": [6, 4, 8, 6, 10, 6, 8, 10, 3, 4, 7, 8, 9, 2, 3, 6, 8, 9, 10, 1, 2, 6, 7, 10, 8, 1, 4, 6, 10, 2, 3, 4, 9, 10, 10, 10, 4, 6, 1, 2, 3, 5, 8, 9, 1, 2, 3, 4, 5, 6, 7, 8, 9, 10, 3, 5, 6, 8, 10, 10, 3, 10, 7, 8, 8, 6, 1, 3, 9, 10, 5, 8, 9, 2, 3, 4, 5, 8, 9, 10, 5, 4, 3, 4, 9, 2, 9, 1, 2, 4, 5, 7, 8, 10, 6, 6, 8, 6, 3, 4, 6, 9, 10, 4, 5, 1, 3, 4, 5, 6, 7, 1, 2, 3, 4, 9, 6, 1, 3, 9, 7, 1, 4, 6, 8, 9, 6, 2, 10, 8, 1, 2, 3, 4, 5, 8, 9, 4, 7, 1, 4, 6, 2, 3, 1, 3, 4, 7, 10, 1, 2, 3, 4, 5, 6, 7, 8, 10, 3, 6, 9, 8, 4, 5, 1, 2, 10, 5, 3, 4, 10, 1, 5, 10, 4, 8, 10, 1, 3, 5, 7, 8, 10, 1, 2, 3, 4, 6, 10, 3, 1, 3, 4, 5, 6, 7, 8, 9, 3, 4, 5, 6, 10, 2, 1, 3, 6, 7, 7, 2, 3, 4, 8, 9, 10, 9, 7, 1, 5, 1, 3, 8, 1, 2, 3, 5, 6, 7, 8, 10, 6, 8, 2, 9, 2, 10, 6, 2, 3, 6, 9, 10, 9, 1, 2, 3, 4, 5, 6, 7, 9, 1, 2, 3, 5, 6, 7, 8, 9, 10, 2, 9, 2, 4, 1, 2, 3, 4, 6, 8, 9, 10, 3, 2, 4, 5, 6, 8, 9, 4, 1, 1, 3, 4, 6, 7, 10, 6, 4, 3, 9, 1, 2, 3, 4, 5, 6, 9, 10, 9, 1, 2, 3, 2, 3, 4, 7, 9, 10, 5, 7, 2, 6, 1, 3, 5, 9, 7, 1, 4, 5, 6, 9, 1, 4, 7, 10, 3, 5, 4, 8, 2, 3, 4, 6, 4, 3, 7, 8, 3, 1, 7, 9, 1, 1, 10, 10, 2, 4, 5, 6, 7, 1, 2, 1, 1, 3, 5, 6, 7, 8, 9, 10, 3, 1, 1, 10, 1, 3, 5, 1, 2, 3, 4, 6, 10, 1, 1, 6, 9, 3, 4, 6, 8, 9, 10, 3, 4, 5, 6, 5, 10, 1, 1, 2, 3, 5, 8, 9, 4, 7, 8, 10, 4, 3, 4, 5, 6, 9, 5, 6, 10, 10, 1, 2, 3, 4, 5, 7, 8, 6, 1, 2, 5, 6, 7, 8, 10, 2, 4, 2, 4, 5, 6, 7, 9, 10, 1, 3, 4, 5, 6, 7, 10, 1, 2, 3, 4, 6, 8, 9, 10, 2, 5, 9, 10, 7, 2, 2, 3, 4, 8, 1, 2, 8, 5, 6, 10, 4, 5, 1, 3, 10, 1, 2, 3, 7, 8, 10, 7, 2, 10, 1, 4, 9, 2, 5, 3, 2, 3, 4, 6, 7, 8, 3, 3, 8, 1, 2, 3, 4, 7, 8, 9, 10, 1, 2, 4, 5, 7, 8, 6, 9, 4, 10, 1, 3, 5, 6, 9, 4, 1, 9, 8, 1, 7, 3, 5, 5, 7, 2, 3, 5, 6, 7, 8, 10, 4, 5, 6, 10, 4, 2, 7, 1, 2, 5, 7, 8, 10, 2, 1, 3, 4, 6, 9, 10, 6, 1, 1, 4, 6, 8, 9, 4, 1, 2, 3, 5, 7, 8, 10, 3, 7, 8, 3, 5, 1, 2, 3, 4, 5, 7, 8, 9, 10, 10, 6, 8, 8, 3, 4, 6, 10, 2, 7, 2, 3, 7, 5, 1, 6, 10, 1, 2, 3, 4, 5, 6, 7, 1, 2, 4, 2, 3, 3, 5, 6, 4, 7, 9, 3, 4, 5, 3, 1, 2, 3, 4, 5, 6, 8, 9, 10, 4, 5, 2, 5, 10, 2, 6, 6, 3, 7, 2, 6, 8, 9, 10, 2, 9, 7, 3, 4, 7, 8, 10, 1, 4, 2, 5, 7, 8, 9, 10, 1, 2, 7, 8, 9, 2, 3, 4, 7, 8, 7, 9, 9, 5, 2, 3, 9, 1, 1, 3, 4, 7, 8, 9, 10, 7, 9, 6, 1, 2, 5, 6, 9, 3, 5, 10, 3, 4, 9, 10, 2, 4, 7, 1, 2, 3, 4, 6, 7, 9, 1, 5, 1, 10, 1, 5, 10, 8, 2, 3, 5, 7, 8, 1, 1, 2, 3, 7, 8, 6, 5, 9, 5, 6, 2, 3, 4, 5, 6, 8, 4, 5, 6, 8, 2, 3, 4, 7, 9, 10, 7, 1, 2, 4, 5, 8, 9, 10, 5, 4, 6, 10, 9, 2, 4, 5, 6, 8, 9, 10, 3, 9, 1, 3, 5, 6, 7, 8, 9, 10, 1, 4, 6, 10, 5, 3, 7, 9, 2, 7, 1, 8, 1, 5, 6, 7, 8, 2, 4, 6, 8, 9, 7, 7, 8, 2, 4, 5, 7, 9, 10, 7, 10, 3, 2, 5, 9, 6, 4, 5, 2, 4, 9, 2, 3, 5, 7, 9, 3, 6, 7, 1, 2, 3, 4, 5, 6, 7, 8, 9, 4, 5, 8, 1, 2, 3, 6, 7, 9, 9, 1, 3, 4, 10, 5, 7, 1, 2, 3, 4, 5, 6, 8, 9, 3, 5, 7, 5, 5, 6, 8, 3, 4, 7, 9, 1, 2, 1, 2, 4, 5, 6, 8, 10, 5, 5, 9, 3, 9, 9, 8, 1, 1, 2, 3, 4, 6, 9, 10, 10, 2, 3, 4, 5, 2, 4, 8, 6, 4, 6, 1, 3, 6, 8, 9, 1, 3, 4, 5, 6, 8, 9, 1, 4, 9, 10, 7, 2, 3, 4, 5, 7, 9, 10, 1, 6, 1, 4, 9, 2, 6, 5, 4, 1, 2, 3, 4, 6, 7, 8, 9, 1, 2, 3, 9, 10, 5, 6, 7, 9, 3, 10, 2, 4, 5, 1, 10, 7, 4, 2, 5, 8, 9, 9, 1, 2, 4, 5, 6, 10, 8, 1, 2, 3, 4, 5, 6, 7, 8, 1, 5, 6, 7, 8, 1, 6, 10, 7, 9, 7, 2, 6, 7, 9, 10, 3, 4, 6, 7, 8, 2, 8, 8, 2, 1, 2, 3, 7, 8, 9, 1, 5, 1, 2, 4, 5, 6, 7, 8, 9, 10, 1, 2, 3, 4, 5, 7, 8, 9, 10, 8, 3, 1, 2, 4, 5, 7, 8, 9, 10, 5, 4, 2, 1, 2, 4, 6, 7, 9, 10, 2, 5, 7, 10, 3, 7, 1, 2, 3, 4, 5, 6, 9, 10, 1, 2, 4, 8, 10, 6, 7, 9, 5, 4, 5, 1, 2, 3, 7, 8, 10, 6, 10, 7, 8, 1, 2, 4, 6, 7, 8, 10, 5, 1, 1, 2, 4, 7, 8, 1, 3, 5, 6, 9, 1, 2, 3, 4, 6, 7, 4, 6, 10, 1, 2, 5, 6, 8, 10, 4, 7, 8, 1, 2, 4, 5, 6, 8, 3, 2, 6, 7, 10, 1, 3, 4, 6, 9, 10, 3, 6, 3, 4, 2, 3, 4, 5, 9, 10, 5, 6, 7, 2, 8, 2, 1, 2, 4, 6, 10, 6, 9, 4, 10, 1, 2, 3, 4, 7, 8, 3, 7, 7, 4, 8, 3, 2, 3, 4, 7, 8, 8, 3, 4, 5, 8, 2, 2, 3, 10, 2, 3, 4, 5, 6, 7, 9, 1, 2, 3, 5, 6, 7, 2, 4, 5, 6, 7, 10, 4, 3, 6, 10, 3, 10, 3, 5, 5, 8, 10, 9, 8, 1, 5, 6, 10, 4, 3, 4, 10, 6, 1, 4, 7, 6, 10, 1, 2, 5, 6, 7, 8, 4, 6, 9, 10, 10, 1, 2, 6, 10, 8, 1, 3, 5, 6, 8, 3, 1, 4, 5, 7, 8, 7, 1, 4, 8, 9, 1, 4, 5, 9, 10, 3, 4, 7, 2, 6, 10, 2, 6, 9, 5, 8, 1, 4, 2, 4, 5, 7, 8, 9, 1, 2, 10, 9, 2, 3, 6, 8, 10, 8, 6, 8, 10, 6, 7, 7, 8, 9, 8, 4, 2, 1, 7, 1, 2, 3, 4, 5, 7, 8, 9, 5, 3, 1, 3, 1, 7, 8, 10, 1, 2, 3, 5, 8, 2, 4, 6, 1, 4, 9, 9, 2, 3, 5, 7, 9, 1, 2, 3, 5, 6, 8, 9, 1, 4, 9, 2, 4, 2, 2, 1, 3, 6, 8, 5, 1, 3, 5, 7, 8, 10, 6, 1, 2, 3, 4, 6, 9, 2, 1, 3, 4, 8, 10, 2, 3, 4, 6, 8, 10, 3, 1, 2, 5, 6, 7, 8, 10], \"Freq\": [0.6460400011593896, 0.8441252120062448, 0.6432215212219583, 0.6465419779617282, 0.6571091912526935, 0.23556054085432174, 0.5889013521358043, 0.23556054085432174, 0.29456250040755555, 0.09818750013585184, 0.39275000054340736, 0.19637500027170368, 0.8610486592620832, 0.17193317697574342, 0.17193317697574342, 0.17193317697574342, 0.08596658848787171, 0.34386635395148685, 0.17193317697574342, 0.25746398271122545, 0.25746398271122545, 0.08582132757040847, 0.08582132757040847, 0.3432853102816339, 0.7716425510115836, 0.10704097650000621, 0.32112292950001864, 0.42816390600002485, 0.10704097650000621, 0.09158605720877484, 0.3663442288350994, 0.09158605720877484, 0.27475817162632454, 0.09158605720877484, 0.6586194799273587, 0.657113098083155, 0.7597667952124756, 0.8625581893876372, 0.17471504157352874, 0.058238347191176244, 0.11647669438235249, 0.11647669438235249, 0.3494300831470575, 0.17471504157352874, 0.3134915123472599, 0.07837287808681498, 0.13062146347802495, 0.07837287808681498, 0.05224858539120998, 0.05224858539120998, 0.05224858539120998, 0.02612429269560499, 0.10449717078241996, 0.15674575617362996, 0.10782647839412035, 0.4313059135764814, 0.10782647839412035, 0.10782647839412035, 0.2156529567882407, 0.875501701075235, 0.6416111622662176, 0.3208055811331088, 0.6419076734385901, 0.7719465440053391, 0.8578596162753311, 0.6465554666048013, 0.8464924094143944, 0.6366467939077528, 0.1591616984769382, 0.7906976413364568, 0.2574317178691644, 0.5148634357383288, 0.2574317178691644, 0.0802634630612423, 0.0802634630612423, 0.1605269261224846, 0.0802634630612423, 0.4013173153062115, 0.0802634630612423, 0.0802634630612423, 0.6410268431214216, 0.6336440489531256, 0.18133956408417606, 0.7253582563367043, 0.6459669163181602, 0.6323265776974194, 0.6459326277521624, 0.08505432932021727, 0.08505432932021727, 0.29769015262076043, 0.042527164660108634, 0.34021731728086907, 0.08505432932021727, 0.042527164660108634, 0.8617225891476823, 0.8623543225560953, 0.6432150169815903, 0.6469952744946312, 0.7614556759751195, 0.129653203069815, 0.51861281227926, 0.129653203069815, 0.129653203069815, 0.5653604490312436, 0.2826802245156218, 0.2896082004945334, 0.11584328019781336, 0.17376492029672003, 0.2316865603956267, 0.11584328019781336, 0.11584328019781336, 0.6579669309526424, 0.04699763792518874, 0.04699763792518874, 0.14099291377556622, 0.14099291377556622, 0.7763038276797832, 0.846480721488535, 0.7618509899103635, 0.6463877054417152, 0.6409710584753581, 0.3043928771041687, 0.1826357262625012, 0.12175715084166747, 0.12175715084166747, 0.1826357262625012, 0.7752836399466547, 0.7045542548460758, 0.14091085096921516, 0.6432146418787296, 0.0975017704670403, 0.1950035409340806, 0.2925053114011209, 0.1950035409340806, 0.0975017704670403, 0.0975017704670403, 0.862484648444259, 0.28395188235522734, 0.7098797058880684, 0.6340921465343139, 0.8460213068768635, 0.6463521286585141, 0.8402965672259631, 0.762525889291026, 0.08040681181703502, 0.16081362363407004, 0.24122043545110505, 0.32162724726814007, 0.24122043545110505, 0.09461241604098482, 0.11826552005123102, 0.07095931203073862, 0.18922483208196964, 0.04730620802049241, 0.04730620802049241, 0.09461241604098482, 0.26018414411270824, 0.04730620802049241, 0.5679947093870701, 0.28399735469353504, 0.14199867734676752, 0.643208900281406, 0.633702685791532, 0.6410399813660468, 0.6346378553807893, 0.26070947459133453, 0.5214189491826691, 0.6412524977323695, 0.6339008589764251, 0.25356034359057006, 0.6565498386554006, 0.14327422115009603, 0.5730968846003841, 0.28654844230019205, 0.6854485665118983, 0.1958424475748281, 0.09792122378741405, 0.12800743052474217, 0.25601486104948434, 0.06400371526237109, 0.19201114578711326, 0.32001857631185543, 0.06400371526237109, 0.0947827344362137, 0.33173957052674796, 0.14217410165432054, 0.04739136721810685, 0.1895654688724274, 0.1895654688724274, 0.7625229107409403, 0.2838569069883652, 0.0709642267470913, 0.0709642267470913, 0.1419284534941826, 0.0709642267470913, 0.1419284534941826, 0.1419284534941826, 0.0709642267470913, 0.19220449412758947, 0.19220449412758947, 0.19220449412758947, 0.3203408235459824, 0.06406816470919649, 0.6326943661995349, 0.2540233792902947, 0.5080467585805895, 0.06350584482257368, 0.12701168964514736, 0.6409726045091036, 0.11564217570995927, 0.4625687028398371, 0.11564217570995927, 0.23128435141991854, 0.8610497340829733, 0.6586278590149238, 0.6468614304231419, 0.640967827269602, 0.6340069181177188, 0.8548372169695948, 0.7606017529857354, 0.2535339176619118, 0.6428966551708443, 0.04737294729731201, 0.09474589459462401, 0.23686473648656003, 0.04737294729731201, 0.14211884189193602, 0.28423768378387204, 0.04737294729731201, 0.04737294729731201, 0.6461500419113221, 0.7719592928218728, 0.3665114354849198, 0.5497671532273797, 0.6314433947136686, 0.6581509599965717, 0.6465434033494186, 0.11816576892170606, 0.11816576892170606, 0.11816576892170606, 0.23633153784341213, 0.3544973067651182, 0.6462721140383574, 0.09451350440027076, 0.18902700880054152, 0.04725675220013538, 0.09451350440027076, 0.2362837610006769, 0.04725675220013538, 0.14177025660040615, 0.09451350440027076, 0.15994275676701872, 0.15994275676701872, 0.10662850451134581, 0.053314252255672906, 0.21325700902269162, 0.10662850451134581, 0.10662850451134581, 0.053314252255672906, 0.053314252255672906, 0.7043925090707632, 0.2817570036283053, 0.631278838042853, 0.21042627934761768, 0.3589788104784767, 0.03263443731622515, 0.09790331194867546, 0.22844106121357607, 0.09790331194867546, 0.16317218658112576, 0.03263443731622515, 0.03263443731622515, 0.634930131942729, 0.11157106953107251, 0.16735660429660879, 0.11157106953107251, 0.22314213906214503, 0.2789276738276813, 0.11157106953107251, 0.8460191784806219, 0.8464902738928367, 0.1832958763432099, 0.3665917526864198, 0.09164793817160495, 0.09164793817160495, 0.09164793817160495, 0.1832958763432099, 0.6459463871935972, 0.8460166355026685, 0.16112281255281644, 0.6444912502112657, 0.09498381848320818, 0.04749190924160409, 0.14247572772481226, 0.14247572772481226, 0.04749190924160409, 0.18996763696641636, 0.2849514554496245, 0.04749190924160409, 0.8610470957189102, 0.08390071411440633, 0.8390071411440634, 0.8456767329531696, 0.09262405951084948, 0.09262405951084948, 0.18524811902169896, 0.09262405951084948, 0.09262405951084948, 0.37049623804339793, 0.732924249948636, 0.183231062487159, 0.42681938235899525, 0.5690925098119937, 0.21142198346410931, 0.6342659503923279, 0.36816988977390247, 0.5522548346608537, 0.6419139540708897, 0.6061747610988366, 0.06061747610988366, 0.06061747610988366, 0.12123495221976732, 0.12123495221976732, 0.39160543225881145, 0.39160543225881145, 0.09790135806470286, 0.09790135806470286, 0.6349311128082715, 0.6411776578073418, 0.25643513952458474, 0.7693054185737543, 0.84315267318412, 0.6350651138905679, 0.15876627847264196, 0.15876627847264196, 0.8440848097977396, 0.6353856628926583, 0.7331475918194857, 0.18328689795487144, 0.6353842954463154, 0.6340888471930431, 0.25816308030188156, 0.5163261606037631, 0.8464935025408192, 0.5119883316938266, 0.2559941658469133, 0.8754886195339808, 0.6313499929153145, 0.6345278319806851, 0.211509277326895, 0.6463519346261827, 0.8547576183935051, 0.54190528484655, 0.3612701898977, 0.6340879050656355, 0.4791055775736355, 0.03194037183824237, 0.09582111551472709, 0.09582111551472709, 0.03194037183824237, 0.15970185919121183, 0.06388074367648473, 0.03194037183824237, 0.6349282702702546, 0.8464887461566757, 0.6341053241625494, 0.6571313267482007, 0.14119719008534065, 0.5647887603413626, 0.2823943801706813, 0.051517276000351164, 0.051517276000351164, 0.2575863800017558, 0.051517276000351164, 0.309103656002107, 0.20606910400140466, 0.6343759343467047, 0.1172149524516003, 0.7032897147096018, 0.9243378148590091, 0.1719299002549014, 0.1719299002549014, 0.0859649501274507, 0.1719299002549014, 0.3438598005098028, 0.1719299002549014, 0.09808569247965741, 0.4904284623982871, 0.19617138495931483, 0.19617138495931483, 0.4721089824836237, 0.3540817368627178, 0.8464883902591044, 0.07947480065198446, 0.3576366029339301, 0.1192122009779767, 0.07947480065198446, 0.15894960130396893, 0.1192122009779767, 0.19917569870850116, 0.19917569870850116, 0.09958784935425058, 0.3983513974170023, 0.6337111942814365, 0.1275055117156633, 0.3187637792891583, 0.3187637792891583, 0.06375275585783165, 0.1275055117156633, 0.6411871722314468, 0.6459452953257695, 0.7918043559494853, 0.6565430489886465, 0.12715903341212514, 0.12715903341212514, 0.12715903341212514, 0.3178975835303129, 0.12715903341212514, 0.06357951670606257, 0.12715903341212514, 0.6461818899273652, 0.06084729029399642, 0.36508374176397856, 0.12169458058799285, 0.06084729029399642, 0.12169458058799285, 0.18254187088198928, 0.06084729029399642, 0.6318807867404895, 0.8460150470219672, 0.09204901887154202, 0.09204901887154202, 0.09204901887154202, 0.18409803774308403, 0.36819607548616806, 0.09204901887154202, 0.18409803774308403, 0.06735286737935615, 0.1347057347587123, 0.1347057347587123, 0.4714700716554931, 0.06735286737935615, 0.06735286737935615, 0.06735286737935615, 0.16752755738843012, 0.23453858034380215, 0.20103306886611613, 0.10051653443305807, 0.033505511477686024, 0.06701102295537205, 0.1340220459107441, 0.06701102295537205, 0.2706632552269415, 0.4059948828404123, 0.06766581380673538, 0.20299744142020615, 0.768459785117877, 0.6312939827279, 0.39127582740084293, 0.09781895685021073, 0.09781895685021073, 0.39127582740084293, 0.14047480450306207, 0.5618992180122483, 0.14047480450306207, 0.57508040938089, 0.1437701023452225, 0.287540204690445, 0.6337029576945135, 0.7686536004500644, 0.4541494635265714, 0.3633195708212571, 0.09082989270531427, 0.649703984729533, 0.02498861479728973, 0.0749658443918692, 0.02498861479728973, 0.0749658443918692, 0.12494307398644865, 0.8546241026654955, 0.726343630158998, 0.1815859075397495, 0.6340958571965677, 0.6337088368088145, 0.6458960854703293, 0.6312949904666357, 0.7687891072887232, 0.6349206681813861, 0.1730607084502239, 0.11537380563348258, 0.40380831971718906, 0.05768690281674129, 0.1730607084502239, 0.05768690281674129, 0.8456650262916715, 0.8456771170837534, 0.7716483181322272, 0.3005861043927936, 0.1502930521963968, 0.0375732630490992, 0.0375732630490992, 0.1502930521963968, 0.22543957829459518, 0.0375732630490992, 0.0751465260981984, 0.0670020467665206, 0.0670020467665206, 0.40201228059912364, 0.1340040935330412, 0.2680081870660824, 0.0670020467665206, 0.6464458467480483, 0.2154819489160161, 0.7601782576746552, 0.7546687253547296, 0.09879552312025718, 0.19759104624051435, 0.19759104624051435, 0.4939776156012859, 0.6459343425570432, 0.7597655534541874, 0.6340796031750943, 0.8610446235416417, 0.6432165475769537, 0.6354277190284503, 0.2118092396761501, 0.6348611317689213, 0.8546319975711891, 0.7692539919383142, 0.640972856752101, 0.09196284429569636, 0.09196284429569636, 0.09196284429569636, 0.09196284429569636, 0.45981422147848183, 0.09196284429569636, 0.18392568859139272, 0.18469901185742957, 0.27704851778614437, 0.27704851778614437, 0.18469901185742957, 0.760170760016329, 0.8431457622705073, 0.641910338811996, 0.053604152633308144, 0.16081245789992443, 0.10720830526661629, 0.2680207631665407, 0.10720830526661629, 0.21441661053323258, 0.8406810486226972, 0.44189720973889296, 0.19639875988395242, 0.049099689970988104, 0.09819937994197621, 0.049099689970988104, 0.09819937994197621, 0.6461293291284493, 0.6340873637808611, 0.2696093932600213, 0.20220704494501598, 0.2696093932600213, 0.06740234831500533, 0.20220704494501598, 0.6336229961827176, 0.17080463549145256, 0.08540231774572628, 0.08540231774572628, 0.17080463549145256, 0.08540231774572628, 0.3416092709829051, 0.08540231774572628, 0.531141949804702, 0.3186851698828212, 0.10622838996094039, 0.6351709181561676, 0.7694241132877381, 0.08865854480410078, 0.08865854480410078, 0.08865854480410078, 0.08865854480410078, 0.08865854480410078, 0.17731708960820156, 0.08865854480410078, 0.13298781720615116, 0.17731708960820156, 0.6586256285890523, 0.21466835298338566, 0.644005058950157, 0.8572980533790963, 0.07922647092521481, 0.7922647092521482, 0.07922647092521481, 0.6571116273699945, 0.6324938628702328, 0.2108312876234109, 0.8431511808860988, 0.6353793551718905, 0.8549638540772961, 0.7687952308408875, 0.6348105478660845, 0.6465529725657323, 0.6579329563388318, 0.33176863824190156, 0.05529477304031692, 0.05529477304031692, 0.2211790921612677, 0.11058954608063384, 0.11058954608063384, 0.11058954608063384, 0.5422216800529207, 0.18074056001764022, 0.18074056001764022, 0.6311519996931939, 0.21038399989773132, 0.16026492754140081, 0.6410597101656033, 0.16026492754140081, 0.6336944353938001, 0.32213209949672134, 0.483198149245082, 0.5639778705561868, 0.2819889352780934, 0.1409944676390467, 0.9059605773952111, 0.08524980706983454, 0.3125826259227266, 0.08524980706983454, 0.17049961413966908, 0.02841660235661151, 0.05683320471322302, 0.05683320471322302, 0.02841660235661151, 0.17049961413966908, 0.6353594741371968, 0.3176797370685984, 0.1627843158327475, 0.325568631665495, 0.4883529474982425, 0.889037932948162, 0.07408649441234683, 0.8617273703342008, 0.6349375588829016, 0.6409717601782342, 0.1228648478677222, 0.0614324239338611, 0.0614324239338611, 0.6143242393386109, 0.0614324239338611, 0.6320844910208159, 0.8610481663149885, 0.6412538234077263, 0.635385116645948, 0.11816096509015514, 0.23632193018031028, 0.11816096509015514, 0.35448289527046545, 0.8464841351272443, 0.760026979262382, 0.0988993412181386, 0.1977986824362772, 0.3955973648725544, 0.1977986824362772, 0.0988993412181386, 0.0988993412181386, 0.09169580042308081, 0.18339160084616163, 0.09169580042308081, 0.09169580042308081, 0.45847900211540404, 0.2429226515137394, 0.06073066287843485, 0.06073066287843485, 0.5465759659059136, 0.06073066287843485, 0.6409512143396646, 0.861040161304841, 0.8081188662237927, 0.7319852051878526, 0.16028234644921124, 0.3205646928984225, 0.48084703934763373, 0.846492156563838, 0.07786165130324302, 0.11679247695486453, 0.11679247695486453, 0.03893082565162151, 0.31144660521297207, 0.2725157795613506, 0.03893082565162151, 0.3221989194779582, 0.5369981991299303, 0.6463509387904147, 0.04758200414429335, 0.04758200414429335, 0.5234020455872268, 0.0951640082885867, 0.23791002072146675, 0.6349240127596543, 0.6412488169332112, 0.754309340104147, 0.10553627486097385, 0.8442901988877908, 0.10553627486097385, 0.6581502644032345, 0.4222853487566306, 0.2533712092539783, 0.2533712092539783, 0.20475006494746384, 0.2457000779369566, 0.1228500389684783, 0.16380005195797107, 0.1228500389684783, 0.08190002597898553, 0.040950012989492766, 0.1598561805463971, 0.6394247221855884, 0.6348823268369064, 0.657109589459376, 0.846490948598786, 0.6408898458213801, 0.7909498901863521, 0.857296278369849, 0.423449062169564, 0.1693796248678256, 0.1693796248678256, 0.1693796248678256, 0.0846898124339128, 0.8464923193957009, 0.6342055636465326, 0.12722319263570916, 0.5088927705428367, 0.25444638527141833, 0.12722319263570916, 0.646550075032459, 0.18457721399768443, 0.7383088559907377, 0.6410298948932504, 0.6460497174144004, 0.06705284951597712, 0.20115854854793136, 0.2682113980639085, 0.13410569903195424, 0.06705284951597712, 0.20115854854793136, 0.8460222421644226, 0.493933169791235, 0.09878663395824701, 0.296359901874741, 0.08002313134990642, 0.3200925253996257, 0.08002313134990642, 0.3200925253996257, 0.08002313134990642, 0.08002313134990642, 0.6409729037496393, 0.07998514337840149, 0.23995543013520446, 0.07998514337840149, 0.15997028675680297, 0.07998514337840149, 0.31994057351360594, 0.07998514337840149, 0.6408875541999728, 0.5127663119381435, 0.25638315596907174, 0.12819157798453587, 0.8610427796174381, 0.09237952069701522, 0.09237952069701522, 0.09237952069701522, 0.18475904139403043, 0.09237952069701522, 0.36951808278806086, 0.18475904139403043, 0.6366531859721384, 0.1591632964930346, 0.0859001670199863, 0.0859001670199863, 0.3436006680799452, 0.0859001670199863, 0.1718003340399726, 0.0859001670199863, 0.0859001670199863, 0.1718003340399726, 0.14324864942496782, 0.14324864942496782, 0.5729945976998713, 0.14324864942496782, 0.6410333945330671, 0.5663862655444025, 0.14159656638610063, 0.14159656638610063, 0.7577629888935912, 0.6409695946179887, 0.3195672071089313, 0.4793508106633969, 0.16071403727000957, 0.16071403727000957, 0.4017850931750239, 0.08035701863500479, 0.16071403727000957, 0.3740998902627196, 0.22445993415763177, 0.14963995610508785, 0.14963995610508785, 0.14963995610508785, 0.8549620657512175, 0.8549685887957666, 0.6428920971190943, 0.3979598214551924, 0.07959196429103847, 0.2387758928731154, 0.07959196429103847, 0.07959196429103847, 0.07959196429103847, 0.6468449210446517, 0.32342246052232587, 0.6349366758103927, 0.46290044666917346, 0.11572511166729336, 0.23145022333458673, 0.7750565144971915, 0.8460231932677044, 0.6408967966864385, 0.7225219217823714, 0.06021016014853095, 0.1204203202970619, 0.11582055166614884, 0.5211924824976698, 0.05791027583307442, 0.11582055166614884, 0.17373082749922325, 0.6367872006737495, 0.21226240022458315, 0.6409748805848761, 0.2321772849642239, 0.02902216062052799, 0.08706648186158396, 0.11608864248211195, 0.08706648186158396, 0.02902216062052799, 0.08706648186158396, 0.17413296372316792, 0.11608864248211195, 0.1600657046831767, 0.6402628187327069, 0.1600657046831767, 0.5903132813238554, 0.04540871394798888, 0.09081742789597776, 0.09081742789597776, 0.04540871394798888, 0.13622614184396664, 0.8610469021724921, 0.2144337689429802, 0.2144337689429802, 0.1072168844714901, 0.3216506534144703, 0.1601647179308179, 0.6406588717232716, 0.22879849389001403, 0.09805649738143458, 0.09805649738143458, 0.09805649738143458, 0.16342749563572428, 0.13074199650857943, 0.06537099825428971, 0.06537099825428971, 0.21315856999901103, 0.6394757099970331, 0.8549586609331815, 0.6412408555399256, 0.640915038685586, 0.645962074759784, 0.642898779574842, 0.21326559448915977, 0.21326559448915977, 0.10663279724457989, 0.31989839173373963, 0.21059058563022212, 0.6317717568906663, 0.053675156970337555, 0.053675156970337555, 0.16102547091101266, 0.21470062788135022, 0.21470062788135022, 0.10735031394067511, 0.16102547091101266, 0.6411316580398106, 0.2582830430083064, 0.5165660860166128, 0.16112226694294013, 0.6444890677717605, 0.862971633874215, 0.6432148438578925, 0.846492207471873, 0.07127266839605256, 0.07127266839605256, 0.21381800518815766, 0.07127266839605256, 0.07127266839605256, 0.35636334198026276, 0.07127266839605256, 0.6576460160744336, 0.21096113114428344, 0.6328833934328503, 0.14064075409618895, 0.07032037704809448, 0.6322719365121778, 0.15806798412804446, 0.15806798412804446, 0.6463397206594887, 0.6337072648580974, 0.6463469857486585, 0.17161565264665618, 0.08580782632332809, 0.5148469579399686, 0.08580782632332809, 0.17161565264665618, 0.08499262612242665, 0.38246681755091994, 0.12748893918364, 0.08499262612242665, 0.04249631306121333, 0.1699852522448533, 0.08499262612242665, 0.49410810342225037, 0.09882162068445008, 0.19764324136890016, 0.19764324136890016, 0.8549605365468175, 0.1613250693448223, 0.1613250693448223, 0.08066253467241115, 0.1613250693448223, 0.08066253467241115, 0.1613250693448223, 0.3226501386896446, 0.12896218876944707, 0.7737731326166823, 0.4777662309709032, 0.1592554103236344, 0.3185108206472688, 0.38336119929441326, 0.5111482657258843, 0.7687858724131018, 0.634076593825417, 0.031830168734536785, 0.2546413498762943, 0.19098101240722068, 0.12732067493814714, 0.031830168734536785, 0.031830168734536785, 0.06366033746907357, 0.22281118114175746, 0.6369983590257776, 0.027695580827207723, 0.1384779041360386, 0.027695580827207723, 0.1384779041360386, 0.12939340213817133, 0.12939340213817133, 0.12939340213817133, 0.5175736085526853, 0.6349369478889302, 0.8754984216702912, 0.21100633479184855, 0.6330190043755457, 0.6410299313150132, 0.7287695505130479, 0.18219238762826198, 0.6409630030826419, 0.8460183806847206, 0.10717852339183993, 0.21435704678367987, 0.21435704678367987, 0.42871409356735973, 0.6459329611831289, 0.4638457030345024, 0.1159614257586256, 0.1159614257586256, 0.1159614257586256, 0.1159614257586256, 0.1159614257586256, 0.7719409583964311, 0.20361606542437938, 0.10180803271218969, 0.050904016356094844, 0.2545200817804742, 0.15271204906828453, 0.050904016356094844, 0.10180803271218969, 0.10180803271218969, 0.08036882011097352, 0.08036882011097352, 0.32147528044389406, 0.4018441005548676, 0.08036882011097352, 0.18388885377415665, 0.5516665613224699, 0.658152381074871, 0.7338890340890246, 0.18347225852225615, 0.6409599596897557, 0.6314107614503516, 0.10777566514676848, 0.21555133029353696, 0.6466539908806109, 0.6586230220155588, 0.12809595024184034, 0.12809595024184034, 0.12809595024184034, 0.5123838009673614, 0.12809595024184034, 0.632220222232831, 0.6432096749213202, 0.8572937841951591, 0.6316788213740206, 0.15278506361268532, 0.2546417726878089, 0.15278506361268532, 0.10185670907512355, 0.10185670907512355, 0.15278506361268532, 0.18277787248065328, 0.7311114899226131, 0.18396454397107895, 0.061321514657026316, 0.061321514657026316, 0.061321514657026316, 0.061321514657026316, 0.12264302931405263, 0.24528605862810526, 0.061321514657026316, 0.18396454397107895, 0.0245276766876953, 0.0981107067507812, 0.3924428270031248, 0.0735830300630859, 0.0981107067507812, 0.0490553533753906, 0.0735830300630859, 0.0735830300630859, 0.0735830300630859, 0.7716407236504939, 0.6353831020963377, 0.1175532404011946, 0.0587766202005973, 0.0587766202005973, 0.1175532404011946, 0.0587766202005973, 0.2351064808023892, 0.1175532404011946, 0.2938831010029865, 0.6407635345551038, 0.7597869992540581, 0.8406402224064178, 0.16016477787185082, 0.10677651858123388, 0.16016477787185082, 0.32032955574370164, 0.10677651858123388, 0.10677651858123388, 0.05338825929061694, 0.19726816876147887, 0.39453633752295775, 0.19726816876147887, 0.09863408438073944, 0.18287395785441102, 0.7314958314176441, 0.6340910991974792, 0.06727037096469096, 0.2018111128940729, 0.26908148385876385, 0.13454074192938192, 0.2018111128940729, 0.13454074192938192, 0.06727037096469096, 0.07976289036248298, 0.23928867108744892, 0.15952578072496595, 0.39881445181241487, 0.07976289036248298, 0.1834514974676169, 0.7338059898704676, 0.6457982703758682, 0.76878439948823, 0.5653539314885971, 0.28267696574429857, 0.0995366014243391, 0.0995366014243391, 0.1990732028486782, 0.1990732028486782, 0.0995366014243391, 0.3981464056973564, 0.6459458825534531, 0.6571333121818981, 0.8549695215925277, 0.8572988710662278, 0.051241491021100094, 0.15372447306330028, 0.15372447306330028, 0.30744894612660056, 0.10248298204220019, 0.15372447306330028, 0.051241491021100094, 0.6407596827740315, 0.8464858569441869, 0.21228335767586243, 0.10614167883793121, 0.21228335767586243, 0.42456671535172485, 0.10614167883793121, 0.11652654981548591, 0.058263274907742954, 0.6991592988929155, 0.11652654981548591, 0.6463776778336208, 0.2134815887261684, 0.1067407943630842, 0.1067407943630842, 0.1067407943630842, 0.5337039718154211, 0.6413299215383697, 0.18490035012254172, 0.5547010503676252, 0.18490035012254172, 0.34942239346563636, 0.05823706557760606, 0.05823706557760606, 0.2911853278880303, 0.11647413115521212, 0.05823706557760606, 0.16030905464261086, 0.24046358196391632, 0.5610816912491381, 0.28220862413329206, 0.21165646809996905, 0.14110431206664603, 0.14110431206664603, 0.14110431206664603, 0.07055215603332302, 0.6349230678864016, 0.08034392775306765, 0.1606878555061353, 0.6427514220245412, 0.08034392775306765, 0.3028420127858102, 0.07571050319645255, 0.1514210063929051, 0.07571050319645255, 0.1514210063929051, 0.22713150958935766, 0.6368211602764886, 0.21227372009216286, 0.6334851549803638, 0.3167425774901819, 0.3304945658133705, 0.16524728290668525, 0.22032971054224698, 0.27541213817780874, 0.8610421951842999, 0.8754996558649223, 0.5501810475845522, 0.18339368252818408, 0.18339368252818408, 0.7582163572407319, 0.6432150578260655, 0.6323151002395805, 0.33569922913637956, 0.11189974304545985, 0.16784961456818978, 0.05594987152272993, 0.33569922913637956, 0.25872588517214, 0.51745177034428, 0.21813243367663337, 0.6543973010299001, 0.8464839304373882, 0.24292293747546467, 0.06073073436886617, 0.06073073436886617, 0.5465766093197955, 0.06073073436886617, 0.23235590013359722, 0.580889750333993, 0.6419116933748923, 0.5086049852259257, 0.25430249261296284, 0.7614298487377634, 0.21256196171443584, 0.10628098085721792, 0.10628098085721792, 0.5314049042860897, 0.10628098085721792, 0.6428611268119087, 0.11550952516971547, 0.5775476258485773, 0.23101905033943093, 0.11550952516971547, 0.6312837141580887, 0.5323313262802244, 0.10646626525604488, 0.21293253051208977, 0.11144351868276735, 0.16716527802415102, 0.055721759341383674, 0.055721759341383674, 0.27860879670691835, 0.11144351868276735, 0.16716527802415102, 0.14131287519123875, 0.2826257503824775, 0.17664109398904843, 0.17664109398904843, 0.14131287519123875, 0.10598465639342905, 0.0764536055187157, 0.0764536055187157, 0.0764536055187157, 0.3058144220748628, 0.1529072110374314, 0.3058144220748628, 0.6337493203412271, 0.28837006857587477, 0.14418503428793739, 0.43255510286381216, 0.635176729782798, 0.6565439371435051, 0.21323101367991337, 0.6396930410397401, 0.8540602402259196, 0.6428626677010811, 0.8754988738805276, 0.6462737137321352, 0.6428906653532173, 0.21608710076101684, 0.10804355038050842, 0.4321742015220337, 0.21608710076101684, 0.8460199004268334, 0.7867708524007326, 0.12104166960011271, 0.06052083480005636, 0.7762919426534071, 0.2816612973575794, 0.5633225947151588, 0.1408306486787897, 0.6487141697325143, 0.21623805657750475, 0.06349776428205256, 0.5079821142564205, 0.06349776428205256, 0.12699552856410512, 0.06349776428205256, 0.12699552856410512, 0.5126771995097272, 0.1281692998774318, 0.2563385997548636, 0.1281692998774318, 0.6579342114841146, 0.11733621663788228, 0.11733621663788228, 0.4693448665515291, 0.23467243327576456, 0.8572955764018686, 0.12830423834852311, 0.12830423834852311, 0.12830423834852311, 0.12830423834852311, 0.5132169533940925, 0.6351898234694966, 0.31815138585783964, 0.2545211086862717, 0.12726055434313585, 0.2545211086862717, 0.06363027717156793, 0.6409768280665481, 0.4891844194856395, 0.19567376779425583, 0.09783688389712791, 0.19567376779425583, 0.22538296710430367, 0.3756382785071728, 0.1502553114028691, 0.07512765570143455, 0.1502553114028691, 0.5649123173411564, 0.1412280793352891, 0.1412280793352891, 0.14446879464911078, 0.28893758929822155, 0.4334063839473324, 0.42562193103656276, 0.10640548275914069, 0.42562193103656276, 0.214239128196495, 0.6427173845894849, 0.21107176812242803, 0.6332153043672841, 0.059467214370698226, 0.267602464668142, 0.08920082155604733, 0.08920082155604733, 0.2973360718534911, 0.14866803592674555, 0.10547562044148684, 0.7383293430904079, 0.10547562044148684, 0.8610461461162005, 0.1075746018842142, 0.1075746018842142, 0.2151492037684284, 0.4302984075368568, 0.2151492037684284, 0.7719478575186363, 0.6464362215136694, 0.21547874050455645, 0.6565495113377059, 0.21409635838279173, 0.6422890751483752, 0.6409725072165476, 0.6432213436108989, 0.6459381733131012, 0.6432078006139971, 0.7597737942110674, 0.6324591693745123, 0.634088154211649, 0.6413402731529882, 0.03851599663181126, 0.15406398652724504, 0.23109597979086755, 0.19257998315905628, 0.03851599663181126, 0.07703199326362252, 0.15406398652724504, 0.07703199326362252, 0.768643096504074, 0.6349382137643944, 0.18144904384978144, 0.7257961753991258, 0.1446717809121556, 0.1446717809121556, 0.2893435618243112, 0.43401534273646675, 0.49327065505583073, 0.07046723643654725, 0.21140170930964175, 0.1409344728730945, 0.07046723643654725, 0.8431531273620068, 0.1844071799170237, 0.7376287196680948, 0.8464928841692589, 0.8446935519562698, 0.6463933070403861, 0.6459371613818178, 0.22573936554844376, 0.15049291036562917, 0.15049291036562917, 0.15049291036562917, 0.30098582073125835, 0.09812373543253522, 0.29437120629760566, 0.09812373543253522, 0.09812373543253522, 0.29437120629760566, 0.04906186771626761, 0.04906186771626761, 0.6331111177723073, 0.15827777944307683, 0.8610452657558829, 0.7014551312819922, 0.14029102625639844, 0.6313035821840018, 0.6312988463826497, 0.10677397123349426, 0.21354794246698852, 0.21354794246698852, 0.42709588493397704, 0.6410394580913473, 0.04586796080885532, 0.1834718432354213, 0.04586796080885532, 0.1834718432354213, 0.4586796080885532, 0.09173592161771064, 0.7761032275952258, 0.05774770610690098, 0.3464862366414058, 0.05774770610690098, 0.2309908244276039, 0.1732431183207029, 0.05774770610690098, 0.6312917590777345, 0.18269101608456664, 0.304485026807611, 0.18269101608456664, 0.18269101608456664, 0.12179401072304442, 0.0510077792504137, 0.2040311170016548, 0.35705445475289593, 0.0510077792504137, 0.2550388962520685, 0.0510077792504137, 0.634930956059293, 0.11120957214705146, 0.2780239303676287, 0.11120957214705146, 0.05560478607352573, 0.11120957214705146, 0.2780239303676287, 0.05560478607352573], \"Term\": [\"abandon\", \"abbott\", \"accident\", \"accomplishment\", \"accountability\", \"action\", \"action\", \"action\", \"actor\", \"actor\", \"actor\", \"actor\", \"actress\", \"admin\", \"admin\", \"admin\", \"admin\", \"admin\", \"admin\", \"administration\", \"administration\", \"administration\", \"administration\", \"administration\", \"agent\", \"ahead\", \"ahead\", \"ahead\", \"ahead\", \"aid\", \"aid\", \"aid\", \"aid\", \"aid\", \"airline\", \"alec\", \"allegation\", \"amendment\", \"america\", \"america\", \"america\", \"america\", \"america\", \"america\", \"american\", \"american\", \"american\", \"american\", \"american\", \"american\", \"american\", \"american\", \"american\", \"american\", \"amp\", \"amp\", \"amp\", \"amp\", \"amp\", \"anchor\", \"andrew\", \"andrew\", \"anna\", \"antonio\", \"anyway\", \"aoc\", \"arbitration\", \"art\", \"art\", \"ask\", \"athlete\", \"athlete\", \"athlete\", \"attack\", \"attack\", \"attack\", \"attack\", \"attack\", \"attack\", \"attack\", \"auction\", \"auschwitz\", \"authority\", \"authority\", \"authorizes\", \"awestricken\", \"axed\", \"back\", \"back\", \"back\", \"back\", \"back\", \"back\", \"back\", \"backlog\", \"bad\", \"battling\", \"become\", \"behind\", \"belarus\", \"belarus\", \"belarus\", \"belarus\", \"beto\", \"beto\", \"bill\", \"bill\", \"bill\", \"bill\", \"bill\", \"bill\", \"blame\", \"blame\", \"blame\", \"blame\", \"blame\", \"blitz\", \"block\", \"blue\", \"bobby\", \"bombing\", \"border\", \"border\", \"border\", \"border\", \"border\", \"bordering\", \"brady\", \"brady\", \"braxton\", \"break\", \"break\", \"break\", \"break\", \"break\", \"break\", \"breathing\", \"bring\", \"bring\", \"british\", \"bryant\", \"buffalo\", \"business\", \"butt\", \"california\", \"california\", \"california\", \"california\", \"california\", \"call\", \"call\", \"call\", \"call\", \"call\", \"call\", \"call\", \"call\", \"call\", \"canada\", \"canada\", \"canada\", \"cancer\", \"candidacy\", \"capitulate\", \"captivity\", \"care\", \"care\", \"carry\", \"case\", \"case\", \"cashless\", \"cause\", \"cause\", \"cause\", \"charge\", \"charge\", \"charge\", \"child\", \"child\", \"child\", \"child\", \"child\", \"child\", \"china\", \"china\", \"china\", \"china\", \"china\", \"china\", \"cigarette\", \"city\", \"city\", \"city\", \"city\", \"city\", \"city\", \"city\", \"city\", \"claim\", \"claim\", \"claim\", \"claim\", \"claim\", \"closely\", \"cnn\", \"cnn\", \"cnn\", \"cnn\", \"coastal\", \"cold\", \"cold\", \"cold\", \"cold\", \"comfort\", \"commission\", \"commonwealth\", \"compare\", \"complains\", \"conceal\", \"concerned\", \"concerned\", \"congregation\", \"congress\", \"congress\", \"congress\", \"congress\", \"congress\", \"congress\", \"congress\", \"congress\", \"contain\", \"conte\", \"contributor\", \"contributor\", \"conviction\", \"corner\", \"correlation\", \"cost\", \"cost\", \"cost\", \"cost\", \"cost\", \"costco\", \"could\", \"could\", \"could\", \"could\", \"could\", \"could\", \"could\", \"could\", \"country\", \"country\", \"country\", \"country\", \"country\", \"country\", \"country\", \"country\", \"country\", \"cover\", \"cover\", \"coverage\", \"coverage\", \"covid\", \"covid\", \"covid\", \"covid\", \"covid\", \"covid\", \"covid\", \"covid\", \"cowardly\", \"crime\", \"crime\", \"crime\", \"crime\", \"crime\", \"crime\", \"cripple\", \"criticizes\", \"cuomo\", \"cuomo\", \"cuomo\", \"cuomo\", \"cuomo\", \"cuomo\", \"dakota\", \"dark\", \"davidson\", \"davidson\", \"day\", \"day\", \"day\", \"day\", \"day\", \"day\", \"day\", \"day\", \"deaf\", \"deal\", \"deal\", \"dealt\", \"death\", \"death\", \"death\", \"death\", \"death\", \"death\", \"defend\", \"defend\", \"defense\", \"defense\", \"defensive\", \"defensive\", \"defiant\", \"defiant\", \"delvey\", \"democrat\", \"democrat\", \"democrat\", \"democrat\", \"democrat\", \"dems\", \"dems\", \"dems\", \"dems\", \"developed\", \"dewine\", \"die\", \"die\", \"dish\", \"disinformation\", \"disinformation\", \"disinformation\", \"dismiss\", \"dismisses\", \"disney\", \"disney\", \"dominican\", \"doug\", \"dow\", \"dow\", \"drill\", \"drug\", \"drug\", \"eat\", \"economy\", \"education\", \"education\", \"eichel\", \"elect\", \"electric\", \"electric\", \"emhoff\", \"energy\", \"energy\", \"energy\", \"energy\", \"energy\", \"energy\", \"energy\", \"energy\", \"enters\", \"enviro\", \"ernst\", \"everyone\", \"exec\", \"exec\", \"exec\", \"expert\", \"expert\", \"expert\", \"expert\", \"expert\", \"expert\", \"explore\", \"fauci\", \"fauci\", \"fda\", \"fear\", \"fear\", \"fear\", \"fear\", \"fear\", \"fear\", \"fed\", \"fed\", \"fed\", \"fed\", \"fentanyl\", \"fentanyl\", \"festival\", \"fight\", \"fight\", \"fight\", \"fight\", \"fight\", \"fight\", \"fighter\", \"fighter\", \"fighter\", \"fighter\", \"finally\", \"fire\", \"fire\", \"fire\", \"fire\", \"fire\", \"firearm\", \"firework\", \"flight\", \"flightless\", \"florida\", \"florida\", \"florida\", \"florida\", \"florida\", \"florida\", \"florida\", \"flourish\", \"fly\", \"fly\", \"fly\", \"fly\", \"fly\", \"fly\", \"fly\", \"fmr\", \"focus\", \"follow\", \"follow\", \"follow\", \"follow\", \"follow\", \"follow\", \"follow\", \"force\", \"force\", \"force\", \"force\", \"force\", \"force\", \"force\", \"former\", \"former\", \"former\", \"former\", \"former\", \"former\", \"former\", \"former\", \"fox\", \"fox\", \"fox\", \"fox\", \"foxx\", \"france\", \"free\", \"free\", \"free\", \"free\", \"freedom\", \"freedom\", \"freedom\", \"friend\", \"friend\", \"friend\", \"fund\", \"gabbard\", \"game\", \"game\", \"game\", \"gas\", \"gas\", \"gas\", \"gas\", \"gas\", \"gas\", \"gavin\", \"general\", \"general\", \"gentleman\", \"george\", \"georgia\", \"germany\", \"gift\", \"gingrich\", \"give\", \"give\", \"give\", \"give\", \"give\", \"give\", \"gleefully\", \"gollust\", \"google\", \"gop\", \"gop\", \"gop\", \"gop\", \"gop\", \"gop\", \"gop\", \"gop\", \"gov\", \"gov\", \"gov\", \"gov\", \"gov\", \"gov\", \"governor\", \"governor\", \"governorship\", \"graham\", \"group\", \"group\", \"group\", \"group\", \"guerrilla\", \"guideline\", \"gulf\", \"guy\", \"haas\", \"hack\", \"hack\", \"hailey\", \"hammer\", \"hard\", \"hasan\", \"head\", \"head\", \"head\", \"head\", \"head\", \"head\", \"head\", \"health\", \"health\", \"health\", \"health\", \"heat\", \"heel\", \"heiress\", \"help\", \"help\", \"help\", \"help\", \"help\", \"help\", \"hero\", \"high\", \"high\", \"high\", \"high\", \"high\", \"high\", \"highlight\", \"hike\", \"hit\", \"hit\", \"hit\", \"hit\", \"hit\", \"hitler\", \"hold\", \"hold\", \"hold\", \"hold\", \"hold\", \"hold\", \"hold\", \"homeless\", \"homeless\", \"homeless\", \"horrific\", \"hospitalize\", \"house\", \"house\", \"house\", \"house\", \"house\", \"house\", \"house\", \"house\", \"house\", \"houston\", \"hundred\", \"hundred\", \"hunger\", \"hunter\", \"hunter\", \"hunter\", \"hutchins\", \"ice\", \"ice\", \"idaho\", \"impartial\", \"important\", \"incredible\", \"independent\", \"indigenous\", \"indispensable\", \"inflation\", \"inflation\", \"inflation\", \"inflation\", \"inflation\", \"inflation\", \"inflation\", \"ingrahamangle\", \"ingrahamangle\", \"ingrahamangle\", \"injured\", \"injured\", \"injury\", \"injury\", \"injury\", \"inmate\", \"instagram\", \"instagram\", \"interview\", \"interview\", \"interview\", \"intimidate\", \"invasion\", \"invasion\", \"invasion\", \"invasion\", \"invasion\", \"invasion\", \"invasion\", \"invasion\", \"invasion\", \"investigation\", \"investigation\", \"involve\", \"involve\", \"involve\", \"iran\", \"iran\", \"irs\", \"irving\", \"israeli\", \"issue\", \"issue\", \"issue\", \"issue\", \"issue\", \"jakes\", \"james\", \"japan\", \"jay\", \"jet\", \"jet\", \"jet\", \"jet\", \"jeter\", \"jimmy\", \"job\", \"job\", \"job\", \"job\", \"job\", \"job\", \"journalist\", \"journalist\", \"journalist\", \"journalist\", \"journalist\", \"jussie\", \"jussie\", \"jussie\", \"jussie\", \"jussie\", \"kangaroo\", \"kanye\", \"kardashian\", \"keane\", \"keep\", \"keep\", \"keep\", \"keynote\", \"kill\", \"kill\", \"kill\", \"kill\", \"kill\", \"kill\", \"kill\", \"kim\", \"kim\", \"knight\", \"kyiv\", \"kyiv\", \"kyiv\", \"kyiv\", \"kyiv\", \"kyrie\", \"lace\", \"lack\", \"laptop\", \"laptop\", \"laptop\", \"lash\", \"lead\", \"lead\", \"lead\", \"leader\", \"leader\", \"leader\", \"leader\", \"leader\", \"leader\", \"leader\", \"learn\", \"learn\", \"lease\", \"liability\", \"liar\", \"lift\", \"lindsey\", \"little\", \"live\", \"live\", \"live\", \"live\", \"live\", \"lizzo\", \"lockdown\", \"long\", \"long\", \"long\", \"long\", \"lukashenko\", \"machine\", \"machine\", \"madness\", \"makeshift\", \"man\", \"man\", \"man\", \"man\", \"man\", \"man\", \"marine\", \"mask\", \"mask\", \"mask\", \"medium\", \"medium\", \"medium\", \"medium\", \"medium\", \"medium\", \"mehdi\", \"message\", \"message\", \"message\", \"message\", \"message\", \"message\", \"message\", \"michigan\", \"midterm\", \"midterm\", \"midterm\", \"migs\", \"miss\", \"miss\", \"miss\", \"miss\", \"miss\", \"miss\", \"miss\", \"modern\", \"modern\", \"move\", \"move\", \"move\", \"move\", \"move\", \"move\", \"move\", \"move\", \"much\", \"much\", \"much\", \"much\", \"multiple\", \"museum\", \"museum\", \"museum\", \"musk\", \"mykolaiv\", \"nascar\", \"nascar\", \"national\", \"national\", \"national\", \"national\", \"national\", \"nato\", \"nato\", \"nato\", \"nato\", \"nato\", \"need\", \"needle\", \"netherlands\", \"news\", \"news\", \"news\", \"news\", \"news\", \"news\", \"newsom\", \"newsom\", \"newt\", \"nfl\", \"nfl\", \"nfl\", \"niaid\", \"north\", \"northwest\", \"nuclear\", \"nuclear\", \"nuclear\", \"nyc\", \"nyc\", \"nyc\", \"nyc\", \"nyc\", \"nypd\", \"nypd\", \"odesa\", \"official\", \"official\", \"official\", \"official\", \"official\", \"official\", \"official\", \"official\", \"official\", \"ohio\", \"ohio\", \"ohio\", \"oil\", \"oil\", \"oil\", \"oil\", \"oil\", \"oil\", \"oksana\", \"old\", \"old\", \"old\", \"old\", \"operation\", \"operation\", \"opinion\", \"opinion\", \"opinion\", \"opinion\", \"opinion\", \"opinion\", \"opinion\", \"opinion\", \"origin\", \"origin\", \"outburst\", \"overdoes\", \"pacific\", \"park\", \"patriarch\", \"pay\", \"pay\", \"pay\", \"pay\", \"peace\", \"peace\", \"people\", \"people\", \"people\", \"people\", \"people\", \"people\", \"people\", \"permit\", \"person\", \"person\", \"pete\", \"pete\", \"philip\", \"phoenix\", \"piss\", \"plan\", \"plan\", \"plan\", \"plan\", \"plan\", \"plan\", \"plan\", \"platform\", \"play\", \"play\", \"play\", \"play\", \"plea\", \"plea\", \"plea\", \"please\", \"pledge\", \"poignant\", \"poland\", \"poland\", \"poland\", \"poland\", \"poland\", \"police\", \"police\", \"police\", \"police\", \"police\", \"police\", \"police\", \"policy\", \"policy\", \"policy\", \"policy\", \"politician\", \"poll\", \"poll\", \"poll\", \"poll\", \"poll\", \"poll\", \"poll\", \"position\", \"position\", \"positive\", \"positive\", \"positive\", \"power\", \"power\", \"prayer\", \"predicts\", \"president\", \"president\", \"president\", \"president\", \"president\", \"president\", \"president\", \"president\", \"price\", \"price\", \"price\", \"price\", \"price\", \"prince\", \"prince\", \"prince\", \"prince\", \"proactive\", \"product\", \"promise\", \"promise\", \"prompt\", \"propaganda\", \"propaganda\", \"prosecution\", \"protection\", \"provide\", \"provide\", \"provide\", \"provide\", \"provoke\", \"psaki\", \"psaki\", \"psaki\", \"psaki\", \"psaki\", \"psaki\", \"punch\", \"race\", \"race\", \"race\", \"race\", \"race\", \"race\", \"race\", \"race\", \"raise\", \"raise\", \"raise\", \"raise\", \"raise\", \"randpaul\", \"randpaul\", \"rat\", \"reach\", \"reach\", \"react\", \"reality\", \"recall\", \"recall\", \"recall\", \"receive\", \"refugee\", \"refugee\", \"refugee\", \"refugee\", \"refugee\", \"refusal\", \"refuse\", \"regulator\", \"reject\", \"release\", \"release\", \"release\", \"release\", \"release\", \"release\", \"remote\", \"remote\", \"rep\", \"rep\", \"rep\", \"rep\", \"rep\", \"rep\", \"rep\", \"rep\", \"rep\", \"report\", \"report\", \"report\", \"report\", \"report\", \"report\", \"report\", \"report\", \"report\", \"representative\", \"republic\", \"republican\", \"republican\", \"republican\", \"republican\", \"republican\", \"republican\", \"republican\", \"republican\", \"residential\", \"respectful\", \"retirement\", \"return\", \"return\", \"return\", \"return\", \"return\", \"return\", \"return\", \"reveals\", \"reveals\", \"reveals\", \"reveals\", \"revelation\", \"revelation\", \"rhetoric\", \"rip\", \"rip\", \"rip\", \"rip\", \"rip\", \"rip\", \"rip\", \"risk\", \"risk\", \"risk\", \"risk\", \"risk\", \"roast\", \"roast\", \"romance\", \"rosary\", \"rourke\", \"rourke\", \"run\", \"run\", \"run\", \"run\", \"run\", \"run\", \"rushmore\", \"rust\", \"salad\", \"salute\", \"sanction\", \"sanction\", \"sanction\", \"sanction\", \"sanction\", \"sanction\", \"sanction\", \"satellite\", \"saul\", \"save\", \"save\", \"save\", \"save\", \"save\", \"school\", \"school\", \"school\", \"school\", \"seahawks\", \"seek\", \"seek\", \"seek\", \"seek\", \"seek\", \"seize\", \"sell\", \"sell\", \"sell\", \"sen\", \"sen\", \"sen\", \"sen\", \"sen\", \"sen\", \"senate\", \"senate\", \"senate\", \"senator\", \"senator\", \"senator\", \"senator\", \"senator\", \"senator\", \"sense\", \"sentence\", \"sentence\", \"sentence\", \"sentence\", \"set\", \"set\", \"set\", \"set\", \"set\", \"set\", \"ship\", \"ship\", \"shoot\", \"shoot\", \"show\", \"show\", \"show\", \"show\", \"shvets\", \"sibling\", \"siege\", \"siege\", \"siege\", \"significant\", \"singer\", \"six\", \"slam\", \"slam\", \"slam\", \"slam\", \"slam\", \"slide\", \"slide\", \"slow\", \"slow\", \"smear\", \"smollett\", \"smollett\", \"smollett\", \"smollett\", \"smollett\", \"social\", \"social\", \"sorokin\", \"southern\", \"southern\", \"spaceflight\", \"speech\", \"speech\", \"speech\", \"speech\", \"speech\", \"spread\", \"spring\", \"spring\", \"spring\", \"spring\", \"stall\", \"stand\", \"stand\", \"stand\", \"star\", \"star\", \"star\", \"star\", \"star\", \"star\", \"star\", \"state\", \"state\", \"state\", \"state\", \"state\", \"state\", \"stop\", \"stop\", \"stop\", \"stop\", \"stop\", \"stop\", \"stormy\", \"strategy\", \"strategy\", \"strategy\", \"strengthen\", \"stuck\", \"student\", \"student\", \"stuff\", \"sub\", \"subdue\", \"summer\", \"sunders\", \"support\", \"support\", \"support\", \"support\", \"suppress\", \"suspect\", \"suspect\", \"suspect\", \"swell\", \"sxsw\", \"sxsw\", \"sxsw\", \"taiwan\", \"taiwan\", \"talk\", \"talk\", \"talk\", \"talk\", \"talk\", \"talk\", \"task\", \"task\", \"task\", \"task\", \"taught\", \"tax\", \"tax\", \"tax\", \"tax\", \"taylor\", \"team\", \"team\", \"team\", \"team\", \"team\", \"tear\", \"tell\", \"tell\", \"tell\", \"tell\", \"tell\", \"terrorist\", \"test\", \"test\", \"test\", \"test\", \"texas\", \"texas\", \"texas\", \"texas\", \"texas\", \"texted\", \"texted\", \"texted\", \"think\", \"think\", \"think\", \"threat\", \"threat\", \"threat\", \"threaten\", \"threaten\", \"thug\", \"thug\", \"time\", \"time\", \"time\", \"time\", \"time\", \"time\", \"tom\", \"tom\", \"tom\", \"tone\", \"top\", \"top\", \"top\", \"top\", \"top\", \"tottenham\", \"tough\", \"tough\", \"tourist\", \"toward\", \"toward\", \"town\", \"traci\", \"train\", \"transportation\", \"traveler\", \"treat\", \"tremendously\", \"truly\", \"trump\", \"trump\", \"trump\", \"trump\", \"trump\", \"trump\", \"trump\", \"trump\", \"tulsi\", \"underway\", \"unvaccinated\", \"unvaccinated\", \"urge\", \"urge\", \"urge\", \"urge\", \"use\", \"use\", \"use\", \"use\", \"use\", \"veto\", \"violence\", \"violence\", \"vladimir\", \"voter\", \"wagner\", \"warfare\", \"warn\", \"warn\", \"warn\", \"warn\", \"warn\", \"warns\", \"warns\", \"warns\", \"warns\", \"warns\", \"warns\", \"warns\", \"way\", \"way\", \"weaponry\", \"weigh\", \"weigh\", \"whoever\", \"willing\", \"win\", \"win\", \"win\", \"win\", \"wisconsin\", \"woman\", \"woman\", \"woman\", \"woman\", \"woman\", \"woman\", \"word\", \"world\", \"world\", \"world\", \"world\", \"world\", \"world\", \"wreck\", \"year\", \"year\", \"year\", \"year\", \"year\", \"york\", \"york\", \"york\", \"york\", \"york\", \"york\", \"zero\", \"zone\", \"zone\", \"zone\", \"zone\", \"zone\", \"zone\", \"zone\"]}, \"R\": 30, \"lambda.step\": 0.01, \"plot.opts\": {\"xlab\": \"PC1\", \"ylab\": \"PC2\"}, \"topic.order\": [7, 8, 2, 3, 4, 10, 9, 6, 1, 5]};\n",
       "\n",
       "function LDAvis_load_lib(url, callback){\n",
       "  var s = document.createElement('script');\n",
       "  s.src = url;\n",
       "  s.async = true;\n",
       "  s.onreadystatechange = s.onload = callback;\n",
       "  s.onerror = function(){console.warn(\"failed to load library \" + url);};\n",
       "  document.getElementsByTagName(\"head\")[0].appendChild(s);\n",
       "}\n",
       "\n",
       "if(typeof(LDAvis) !== \"undefined\"){\n",
       "   // already loaded: just create the visualization\n",
       "   !function(LDAvis){\n",
       "       new LDAvis(\"#\" + \"ldavis_el1550014996349019528406751252\", ldavis_el1550014996349019528406751252_data);\n",
       "   }(LDAvis);\n",
       "}else if(typeof define === \"function\" && define.amd){\n",
       "   // require.js is available: use it to load d3/LDAvis\n",
       "   require.config({paths: {d3: \"https://d3js.org/d3.v5\"}});\n",
       "   require([\"d3\"], function(d3){\n",
       "      window.d3 = d3;\n",
       "      LDAvis_load_lib(\"https://cdn.jsdelivr.net/gh/bmabey/pyLDAvis@3.3.1/pyLDAvis/js/ldavis.v3.0.0.js\", function(){\n",
       "        new LDAvis(\"#\" + \"ldavis_el1550014996349019528406751252\", ldavis_el1550014996349019528406751252_data);\n",
       "      });\n",
       "    });\n",
       "}else{\n",
       "    // require.js not available: dynamically load d3 & LDAvis\n",
       "    LDAvis_load_lib(\"https://d3js.org/d3.v5.js\", function(){\n",
       "         LDAvis_load_lib(\"https://cdn.jsdelivr.net/gh/bmabey/pyLDAvis@3.3.1/pyLDAvis/js/ldavis.v3.0.0.js\", function(){\n",
       "                 new LDAvis(\"#\" + \"ldavis_el1550014996349019528406751252\", ldavis_el1550014996349019528406751252_data);\n",
       "            })\n",
       "         });\n",
       "}\n",
       "</script>"
      ],
      "text/plain": [
       "<IPython.core.display.HTML object>"
      ]
     },
     "execution_count": 52,
     "metadata": {},
     "output_type": "execute_result"
    }
   ],
   "source": [
    "import pyLDAvis\n",
    "import pyLDAvis.gensim_models as gensimvis\n",
    "pyLDAvis.enable_notebook()\n",
    "vis = gensimvis.prepare(topic_model=lda_model1, corpus=corpus1, dictionary=dictionary_LDA1)\n",
    "pyLDAvis.display(vis)"
   ]
  },
  {
   "cell_type": "markdown",
   "id": "8520d2d2-5f9d-467b-a237-b28fb9aa856f",
   "metadata": {},
   "source": [
    "The graph above suggests that there are 5 topics, let's try doing five topics and decide whether they make sense"
   ]
  },
  {
   "cell_type": "code",
   "execution_count": 53,
   "id": "401f7b83-2af1-488a-927c-558f644f2d8f",
   "metadata": {},
   "outputs": [
    {
     "name": "stdout",
     "output_type": "stream",
     "text": [
      "0: 0.006*\"oil\" + 0.005*\"kill\" + 0.005*\"energy\" + 0.005*\"democrat\" + 0.005*\"american\" + 0.005*\"official\" + 0.005*\"fight\" + 0.004*\"journalist\" + 0.004*\"return\" + 0.004*\"star\" + 0.004*\"former\" + 0.004*\"opinion\" + 0.004*\"provide\" + 0.004*\"target\" + 0.004*\"kyiv\" + 0.003*\"fuel\" + 0.003*\"fossil\" + 0.003*\"people\" + 0.003*\"week\" + 0.003*\"time\"\n",
      "\n",
      "1: 0.009*\"gas\" + 0.008*\"report\" + 0.007*\"price\" + 0.006*\"president\" + 0.005*\"suspect\" + 0.005*\"blame\" + 0.005*\"release\" + 0.005*\"nyc\" + 0.005*\"jussie\" + 0.005*\"smollett\" + 0.005*\"american\" + 0.004*\"state\" + 0.004*\"cnn\" + 0.004*\"official\" + 0.004*\"police\" + 0.004*\"covid\" + 0.004*\"high\" + 0.004*\"break\" + 0.004*\"city\" + 0.003*\"congress\"\n",
      "\n",
      "2: 0.008*\"invasion\" + 0.007*\"opinion\" + 0.007*\"covid\" + 0.005*\"sanction\" + 0.005*\"tell\" + 0.005*\"time\" + 0.004*\"give\" + 0.004*\"nuclear\" + 0.004*\"hunter\" + 0.004*\"gop\" + 0.004*\"trump\" + 0.004*\"back\" + 0.004*\"call\" + 0.004*\"race\" + 0.003*\"break\" + 0.003*\"show\" + 0.003*\"official\" + 0.003*\"arrest\" + 0.003*\"warns\" + 0.003*\"charge\"\n",
      "\n",
      "3: 0.007*\"school\" + 0.005*\"kyiv\" + 0.005*\"report\" + 0.005*\"force\" + 0.004*\"watch\" + 0.004*\"warn\" + 0.004*\"state\" + 0.004*\"issue\" + 0.004*\"american\" + 0.004*\"fight\" + 0.004*\"energy\" + 0.003*\"woman\" + 0.003*\"faith\" + 0.003*\"man\" + 0.003*\"fire\" + 0.003*\"fox\" + 0.003*\"senator\" + 0.003*\"official\" + 0.003*\"inflation\" + 0.003*\"time\"\n",
      "\n",
      "4: 0.009*\"call\" + 0.007*\"china\" + 0.005*\"price\" + 0.005*\"gas\" + 0.004*\"slam\" + 0.004*\"help\" + 0.004*\"bill\" + 0.004*\"congress\" + 0.004*\"jet\" + 0.004*\"back\" + 0.004*\"fly\" + 0.004*\"house\" + 0.003*\"country\" + 0.003*\"energy\" + 0.003*\"gop\" + 0.003*\"fighter\" + 0.003*\"chief\" + 0.003*\"health\" + 0.003*\"talk\" + 0.003*\"gov\"\n",
      "\n"
     ]
    }
   ],
   "source": [
    "num_topics = 5\n",
    "lda_model1 = models.LdaModel(corpus1, num_topics=num_topics,\n",
    "                            random_state=100,\n",
    "                            id2word=dictionary_LDA1, \n",
    "                            passes=4)\n",
    "\n",
    "for i,topic in lda_model1.show_topics(formatted=True, num_topics=num_topics, num_words=20):\n",
    "    print(str(i)+\": \"+ topic + \"\\n\")"
   ]
  },
  {
   "cell_type": "markdown",
   "id": "24ba3015-40a8-4c37-a8e0-5a4d5d652382",
   "metadata": {
    "tags": []
   },
   "source": [
    "Let's try to sum up the topics:\n",
    "1. Oil, energy\n",
    "2. US Crimes\n",
    "3. Sanctions, politics\n",
    "4. Russian-Ukrainian conflict\n",
    "5. US Economy"
   ]
  },
  {
   "cell_type": "markdown",
   "id": "83a70fe7-4c30-4ace-9d88-6778bced40a0",
   "metadata": {
    "tags": []
   },
   "source": [
    "### NYTimes, 10 topics"
   ]
  },
  {
   "cell_type": "code",
   "execution_count": 54,
   "id": "35bf1447-a03b-4438-b266-a4d956cdf91b",
   "metadata": {},
   "outputs": [],
   "source": [
    "num_topics = 10\n",
    "lda_model2 = models.LdaModel(corpus2, num_topics=num_topics,\n",
    "                            random_state=100,\n",
    "                            id2word=dictionary_LDA2, \n",
    "                            passes=4)"
   ]
  },
  {
   "cell_type": "code",
   "execution_count": 55,
   "id": "3447e828-d74a-49bb-9f1c-d3e3d978785a",
   "metadata": {},
   "outputs": [
    {
     "name": "stdout",
     "output_type": "stream",
     "text": [
      "0: 0.011*\"two\" + 0.006*\"shot\" + 0.006*\"house\" + 0.006*\"york\" + 0.005*\"state\" + 0.005*\"white\" + 0.004*\"video\" + 0.004*\"authority\" + 0.004*\"police\" + 0.004*\"kill\" + 0.004*\"time\" + 0.004*\"show\" + 0.004*\"least\" + 0.004*\"washington\" + 0.004*\"coronavirus\" + 0.004*\"homeless\" + 0.004*\"men\" + 0.003*\"kyiv\" + 0.003*\"public\" + 0.003*\"test\"\n",
      "\n",
      "1: 0.010*\"country\" + 0.008*\"last\" + 0.006*\"week\" + 0.006*\"invasion\" + 0.006*\"aid\" + 0.005*\"building\" + 0.005*\"attack\" + 0.005*\"many\" + 0.005*\"nuclear\" + 0.005*\"worker\" + 0.004*\"since\" + 0.004*\"large\" + 0.004*\"emergency\" + 0.004*\"head\" + 0.004*\"woman\" + 0.004*\"thursday\" + 0.004*\"sunday\" + 0.004*\"day\" + 0.003*\"mayor\" + 0.003*\"covid\"\n",
      "\n",
      "2: 0.008*\"official\" + 0.007*\"attack\" + 0.007*\"two\" + 0.007*\"kyiv\" + 0.006*\"day\" + 0.006*\"state\" + 0.006*\"show\" + 0.005*\"kill\" + 0.005*\"employee\" + 0.005*\"least\" + 0.005*\"civilian\" + 0.004*\"york\" + 0.004*\"begin\" + 0.004*\"claim\" + 0.004*\"mayor\" + 0.003*\"mariupol\" + 0.003*\"end\" + 0.003*\"injured\" + 0.003*\"journalist\" + 0.003*\"theater\"\n",
      "\n",
      "3: 0.008*\"best\" + 0.006*\"news\" + 0.005*\"time\" + 0.005*\"know\" + 0.005*\"day\" + 0.005*\"die\" + 0.005*\"federal\" + 0.004*\"award\" + 0.004*\"rate\" + 0.004*\"omicron\" + 0.004*\"sunday\" + 0.004*\"biden\" + 0.003*\"show\" + 0.003*\"begin\" + 0.003*\"since\" + 0.003*\"series\" + 0.003*\"national\" + 0.003*\"highly\" + 0.003*\"reserve\" + 0.003*\"kill\"\n",
      "\n",
      "4: 0.008*\"country\" + 0.007*\"kill\" + 0.006*\"official\" + 0.006*\"two\" + 0.005*\"charge\" + 0.005*\"wednesday\" + 0.005*\"flee\" + 0.005*\"world\" + 0.005*\"military\" + 0.004*\"monday\" + 0.004*\"force\" + 0.004*\"zelensky\" + 0.004*\"police\" + 0.004*\"star\" + 0.004*\"griner\" + 0.004*\"help\" + 0.004*\"volodymyr\" + 0.004*\"china\" + 0.004*\"series\" + 0.004*\"make\"\n",
      "\n",
      "5: 0.009*\"world\" + 0.008*\"channel\" + 0.006*\"since\" + 0.005*\"help\" + 0.005*\"covid\" + 0.005*\"country\" + 0.005*\"first\" + 0.005*\"story\" + 0.005*\"million\" + 0.005*\"doug\" + 0.004*\"anna\" + 0.004*\"coverage\" + 0.004*\"expert\" + 0.004*\"biden\" + 0.003*\"young\" + 0.003*\"citizen\" + 0.003*\"make\" + 0.003*\"time\" + 0.003*\"even\" + 0.003*\"large\"\n",
      "\n",
      "6: 0.006*\"kill\" + 0.005*\"since\" + 0.005*\"address\" + 0.005*\"nine\" + 0.004*\"thousand\" + 0.004*\"every\" + 0.004*\"country\" + 0.004*\"kyiv\" + 0.004*\"force\" + 0.004*\"watch\" + 0.004*\"occupy\" + 0.004*\"travel\" + 0.004*\"first\" + 0.004*\"described\" + 0.004*\"monday\" + 0.003*\"flee\" + 0.003*\"night\" + 0.003*\"tuesday\" + 0.003*\"late\" + 0.003*\"begin\"\n",
      "\n",
      "7: 0.007*\"kyiv\" + 0.007*\"news\" + 0.005*\"europe\" + 0.005*\"force\" + 0.004*\"attack\" + 0.004*\"york\" + 0.004*\"break\" + 0.004*\"woman\" + 0.004*\"change\" + 0.004*\"state\" + 0.004*\"time\" + 0.004*\"tuesday\" + 0.004*\"week\" + 0.004*\"next\" + 0.004*\"million\" + 0.003*\"missile\" + 0.003*\"covid\" + 0.003*\"charge\" + 0.003*\"invasion\" + 0.003*\"could\"\n",
      "\n",
      "8: 0.006*\"west\" + 0.006*\"zelensky\" + 0.006*\"invasion\" + 0.006*\"country\" + 0.006*\"day\" + 0.005*\"official\" + 0.005*\"home\" + 0.004*\"sanction\" + 0.004*\"volodymyr\" + 0.004*\"week\" + 0.004*\"resident\" + 0.004*\"nato\" + 0.004*\"opinion\" + 0.003*\"attack\" + 0.003*\"oil\" + 0.003*\"connection\" + 0.003*\"believe\" + 0.003*\"help\" + 0.003*\"men\" + 0.003*\"impose\"\n",
      "\n",
      "9: 0.010*\"biden\" + 0.006*\"vladimir\" + 0.006*\"putin\" + 0.005*\"monday\" + 0.005*\"top\" + 0.005*\"call\" + 0.005*\"news\" + 0.005*\"next\" + 0.005*\"official\" + 0.004*\"state\" + 0.004*\"announce\" + 0.004*\"china\" + 0.004*\"rate\" + 0.004*\"live\" + 0.004*\"government\" + 0.004*\"own\" + 0.004*\"saturday\" + 0.003*\"even\" + 0.003*\"million\" + 0.003*\"invasion\"\n",
      "\n"
     ]
    }
   ],
   "source": [
    "for i,topic in lda_model2.show_topics(formatted=True, num_topics=num_topics, num_words=20):\n",
    "    print(str(i)+\": \"+ topic + \"\\n\")"
   ]
  },
  {
   "cell_type": "code",
   "execution_count": 56,
   "id": "6480aac8-1d84-45ce-b705-a1679bf121f2",
   "metadata": {},
   "outputs": [
    {
     "data": {
      "text/html": [
       "\n",
       "<link rel=\"stylesheet\" type=\"text/css\" href=\"https://cdn.jsdelivr.net/gh/bmabey/pyLDAvis@3.3.1/pyLDAvis/js/ldavis.v1.0.0.css\">\n",
       "\n",
       "\n",
       "<div id=\"ldavis_el1550014995365644006300747872\"></div>\n",
       "<script type=\"text/javascript\">\n",
       "\n",
       "var ldavis_el1550014995365644006300747872_data = {\"mdsDat\": {\"x\": [-0.08500048197946634, 0.06430246613670768, 0.07769373918802935, 0.02016266882600831, -0.027886371124839406, 0.09057637640783497, 0.018550451201240537, -0.12449868955032257, -0.05930325427588744, 0.025403095170695125], \"y\": [-0.0930463500367745, 0.0417887675505112, -0.03918567203308137, 0.04195815055493092, 0.028789668423206266, -0.07678588435107112, 0.021881532320911928, 0.06743781456331903, -0.0846251222893244, 0.09178709529737202], \"topics\": [1, 2, 3, 4, 5, 6, 7, 8, 9, 10], \"cluster\": [1, 1, 1, 1, 1, 1, 1, 1, 1, 1], \"Freq\": [12.277594508179872, 11.89993753400924, 11.002926874689974, 10.56870204444177, 10.436382098981703, 10.395677546719691, 9.730440863082936, 8.591709389585981, 8.207887764560082, 6.888741375748753]}, \"tinfo\": {\"Term\": [\"channel\", \"best\", \"country\", \"last\", \"biden\", \"west\", \"news\", \"world\", \"rate\", \"monday\", \"building\", \"attack\", \"since\", \"two\", \"police\", \"shot\", \"europe\", \"top\", \"nuclear\", \"employee\", \"kill\", \"house\", \"charge\", \"flee\", \"series\", \"official\", \"address\", \"announce\", \"worker\", \"every\", \"own\", \"superyacht\", \"arnold\", \"lay\", \"clean\", \"study\", \"assistance\", \"trap\", \"blue\", \"strzhalkovsky\", \"brings\", \"disinformation\", \"strand\", \"schwarzenegger\", \"ambassador\", \"davidson\", \"spaceflight\", \"longtime\", \"origin\", \"phone\", \"space\", \"norway\", \"refuel\", \"weather\", \"kgb\", \"escape\", \"heat\", \"stadium\", \"closing\", \"founder\", \"lesson\", \"top\", \"vladimir\", \"raise\", \"rate\", \"biden\", \"announce\", \"longer\", \"putin\", \"siege\", \"associate\", \"estimate\", \"call\", \"next\", \"run\", \"yell\", \"saturday\", \"inflation\", \"monday\", \"arm\", \"republican\", \"china\", \"live\", \"news\", \"government\", \"even\", \"state\", \"company\", \"official\", \"million\", \"plan\", \"local\", \"month\", \"break\", \"week\", \"last\", \"zelensky\", \"invasion\", \"strategic\", \"sharp\", \"benjamin\", \"nationwide\", \"apple\", \"worried\", \"class\", \"belonging\", \"legislation\", \"fast\", \"murdoch\", \"giant\", \"pass\", \"misstep\", \"analyst\", \"mcdonald\", \"bedevil\", \"contagious\", \"politics\", \"tie\", \"entenmann\", \"kherson\", \"pierre\", \"zakrzewski\", \"yonkers\", \"sahara\", \"layer\", \"ominous\", \"dust\", \"eerie\", \"transition\", \"asian\", \"europe\", \"hall\", \"correspondent\", \"fox\", \"hate\", \"change\", \"hurt\", \"crime\", \"violence\", \"work\", \"news\", \"kyiv\", \"missile\", \"student\", \"network\", \"assault\", \"reach\", \"force\", \"next\", \"break\", \"woman\", \"capture\", \"york\", \"attack\", \"tuesday\", \"million\", \"charge\", \"pandemic\", \"covid\", \"state\", \"week\", \"time\", \"border\", \"die\", \"could\", \"monday\", \"invasion\", \"help\", \"military\", \"strike\", \"since\", \"museum\", \"prominent\", \"modern\", \"claim\", \"lavish\", \"perk\", \"solution\", \"apps\", \"fierce\", \"woetzel\", \"neighborhood\", \"software\", \"mischaracterized\", \"bioweapon\", \"lab\", \"baseless\", \"stabbed\", \"abandon\", \"claimed\", \"progress\", \"pennsylvania\", \"spokeswoman\", \"populist\", \"facebook\", \"contest\", \"rescuer\", \"chief\", \"meadow\", \"theater\", \"teacher\", \"voice\", \"injured\", \"research\", \"employee\", \"staff\", \"attack\", \"journalist\", \"official\", \"deny\", \"civilian\", \"street\", \"least\", \"show\", \"kyiv\", \"mariupol\", \"day\", \"state\", \"mayor\", \"two\", \"art\", \"begin\", \"kill\", \"hit\", \"end\", \"york\", \"come\", \"include\", \"opinion\", \"woman\", \"fight\", \"capital\", \"medium\", \"military\", \"wednesday\", \"doctor\", \"gustern\", \"lysov\", \"barbara\", \"brain\", \"maier\", \"penalize\", \"church\", \"dance\", \"sing\", \"strength\", \"sought\", \"chernobyl\", \"bar\", \"ethiopia\", \"treacherous\", \"brutal\", \"add\", \"integral\", \"saw\", \"daniel\", \"rodrigues\", \"treasure\", \"drove\", \"agency\", \"worker\", \"emergency\", \"head\", \"nuclear\", \"respite\", \"traumatic\", \"zone\", \"last\", \"aid\", \"building\", \"rescue\", \"country\", \"week\", \"plant\", \"many\", \"apartment\", \"set\", \"bad\", \"hit\", \"invasion\", \"large\", \"mayor\", \"thursday\", \"attack\", \"shell\", \"service\", \"south\", \"second\", \"border\", \"fight\", \"woman\", \"since\", \"sunday\", \"covid\", \"men\", \"day\", \"two\", \"kyiv\", \"wednesday\", \"mykolaiv\", \"volunteer\", \"pile\", \"succumb\", \"morgue\", \"pekingmike\", \"asset\", \"petersgoodman\", \"senwhitehouse\", \"land\", \"elite\", \"masterworks\", \"buying\", \"west\", \"nytimesevents\", \"connection\", \"small\", \"kim\", \"surrender\", \"worry\", \"enters\", \"baltic\", \"spent\", \"suppose\", \"unfold\", \"bracket\", \"pakistan\", \"fall\", \"cadet\", \"fentanyl\", \"yacht\", \"nato\", \"oil\", \"home\", \"discus\", \"refuse\", \"wartime\", \"zelensky\", \"along\", \"impose\", \"sanction\", \"resident\", \"believe\", \"invasion\", \"day\", \"country\", \"official\", \"volodymyr\", \"opinion\", \"body\", \"week\", \"men\", \"friday\", \"attack\", \"help\", \"europe\", \"food\", \"follow\", \"biden\", \"start\", \"world\", \"adult\", \"quarterback\", \"gunman\", \"authorize\", \"traveler\", \"request\", \"retirement\", \"pizza\", \"significantly\", \"super\", \"bowl\", \"broader\", \"balance\", \"brady\", \"cara\", \"los\", \"japanese\", \"stone\", \"draw\", \"jackson\", \"ashamed\", \"outdoors\", \"fda\", \"prison\", \"booster\", \"fatally\", \"random\", \"trait\", \"enemy\", \"overseas\", \"homeless\", \"voter\", \"television\", \"nominee\", \"shot\", \"white\", \"house\", \"authority\", \"two\", \"pfizer\", \"washington\", \"expect\", \"public\", \"video\", \"target\", \"five\", \"york\", \"strike\", \"air\", \"moderna\", \"police\", \"artillery\", \"coronavirus\", \"election\", \"test\", \"least\", \"state\", \"men\", \"defense\", \"show\", \"time\", \"kill\", \"break\", \"monday\", \"kyiv\", \"old\", \"die\", \"griner\", \"bury\", \"village\", \"carry\", \"extend\", \"brittney\", \"wnba\", \"alternative\", \"criticism\", \"pathway\", \"sponsor\", \"corrupt\", \"khia\", \"colombian\", \"bryant\", \"columbus\", \"clock\", \"grand\", \"drama\", \"mid\", \"israel\", \"vasyl\", \"widespread\", \"jury\", \"system\", \"drone\", \"boris\", \"indict\", \"turkish\", \"moreno\", \"yankee\", \"sustain\", \"tax\", \"officer\", \"bombardment\", \"position\", \"permanent\", \"prime\", \"heavy\", \"charge\", \"series\", \"minister\", \"flee\", \"country\", \"star\", \"convict\", \"kill\", \"police\", \"military\", \"british\", \"economic\", \"wednesday\", \"official\", \"world\", \"sentence\", \"two\", \"force\", \"monday\", \"zelensky\", \"make\", \"volodymyr\", \"china\", \"help\", \"sanction\", \"refugee\", \"tuesday\", \"update\", \"end\", \"anna\", \"due\", \"debt\", \"lake\", \"accessible\", \"dedicate\", \"subscribe\", \"reader\", \"potato\", \"default\", \"denominate\", \"dna\", \"visa\", \"fictionalize\", \"invent\", \"swindler\", \"sorokin\", \"subject\", \"doug\", \"always\", \"channel\", \"bolshevik\", \"revolution\", \"coverage\", \"unleashed\", \"stimulus\", \"snapshot\", \"seem\", \"embrace\", \"citizen\", \"telegram\", \"payment\", \"expert\", \"dollar\", \"world\", \"story\", \"netflix\", \"launch\", \"since\", \"covid\", \"help\", \"first\", \"million\", \"young\", \"feel\", \"country\", \"biden\", \"around\", \"look\", \"even\", \"make\", \"congress\", \"large\", \"time\", \"invasion\", \"state\", \"flee\", \"highly\", \"transmissible\", \"evidence\", \"mare\", \"sus\", \"chechen\", \"irving\", \"steven\", \"braxton\", \"nba\", \"individual\", \"scoop\", \"richard\", \"comedy\", \"labor\", \"mystery\", \"serve\", \"omicron\", \"personalize\", \"label\", \"showcased\", \"subvariant\", \"criticschoice\", \"best\", \"soar\", \"kyrie\", \"sanger\", \"avisan\", \"erlanger\", \"pero\", \"commission\", \"host\", \"answer\", \"researcher\", \"award\", \"know\", \"rate\", \"idea\", \"federal\", \"news\", \"reserve\", \"series\", \"die\", \"group\", \"time\", \"national\", \"day\", \"sunday\", \"eye\", \"increase\", \"post\", \"begin\", \"biden\", \"move\", \"keep\", \"show\", \"since\", \"congress\", \"kill\", \"wednesday\", \"invasion\", \"troop\", \"nation\", \"force\", \"heckle\", \"pickup\", \"van\", \"superyachts\", \"deripaska\", \"tree\", \"wheel\", \"flyer\", \"college\", \"collision\", \"exam\", \"website\", \"golf\", \"delayed\", \"mansion\", \"pledge\", \"uploaded\", \"anarchist\", \"oleg\", \"assessment\", \"unit\", \"previous\", \"wreck\", \"iciest\", \"sea\", \"endurance\", \"explorer\", \"unreachable\", \"location\", \"shackleton\", \"nine\", \"occupy\", \"described\", \"protester\", \"address\", \"thousand\", \"every\", \"struck\", \"watch\", \"travel\", \"kill\", \"since\", \"player\", \"coach\", \"night\", \"truck\", \"first\", \"flee\", \"force\", \"late\", \"monday\", \"kyiv\", \"oligarch\", \"across\", \"country\", \"tuesday\", \"begin\", \"coronavirus\", \"still\", \"old\", \"family\", \"time\", \"two\"], \"Freq\": [11.0, 12.0, 43.0, 20.0, 29.0, 9.0, 28.0, 26.0, 10.0, 25.0, 13.0, 29.0, 27.0, 43.0, 16.0, 14.0, 11.0, 10.0, 9.0, 13.0, 36.0, 17.0, 15.0, 17.0, 9.0, 36.0, 10.0, 11.0, 8.0, 8.0, 4.803745780710401, 2.4599457885634055, 2.4599023666545787, 2.4596877562131096, 2.459376305543322, 2.4581825154384127, 3.034261760815891, 2.2392431595698965, 1.666344803304871, 1.6663432413657044, 1.6663419918143714, 1.6663424603961214, 1.6663398050995384, 1.6663390241299552, 1.6663366812212055, 1.6663273095862068, 1.6663251228713738, 1.6663240295139574, 1.6663179379512083, 1.6663163760120419, 1.6663080977344598, 1.66630528624396, 1.666303568110877, 1.6663063796013766, 1.6662982575177112, 1.6661116057873215, 1.6660466291179978, 1.6641627742893557, 1.662245337768635, 1.6540434390117467, 2.1805942181971085, 7.0437602258406855, 8.707424741535947, 4.387259075409085, 5.620520007830059, 12.780008679941881, 5.988724674394076, 3.253486795357949, 7.863558367186569, 2.459710404331023, 2.4599117382895774, 4.046918154023008, 6.446162300761092, 6.2362183087460155, 3.2117852063288583, 2.3268440491378826, 4.7889667123175546, 3.5190351969225904, 7.085901344551211, 3.199257204662684, 3.963321607896022, 5.731701336799859, 5.4713948030777875, 6.3497431712411405, 4.84042948397339, 4.67822303870219, 5.9970723020751935, 4.222949635244193, 6.161743799738867, 4.649528654275538, 3.965605162957356, 3.2531815924448266, 3.9706964598642807, 4.084519652740196, 4.291946111206807, 4.047110584928314, 4.172731104328343, 4.4077098573031055, 3.203261956070304, 2.421969494632786, 2.42043364901674, 2.419636735135728, 2.348366837416926, 2.2955525205124117, 1.6406211705011011, 1.6406217760587614, 1.6406170829868938, 1.6406154177033279, 1.6406060315595925, 1.6406025496030456, 1.6406017926559702, 1.6405954343005364, 1.640589378723933, 1.6405895301133482, 1.6405881676086125, 1.6405871078827068, 1.6405883189980275, 1.640580749527273, 1.640571666162368, 1.6405525910960672, 1.6392822825140818, 1.6392533671358003, 1.6382871998887223, 1.6267249847009546, 1.626536959047418, 1.6261593938461938, 1.6255595889836236, 1.6240154169497478, 3.111697701701582, 3.9806617414777197, 6.121059186593422, 3.1639639889234856, 2.4205685369855816, 2.4206254594056538, 2.4202344205464867, 5.284489151078527, 2.359759193680967, 3.201270882483095, 3.1889383979513704, 3.9024951475652663, 8.511186794161784, 9.38067978855423, 4.528377442441656, 3.1817443729464903, 3.983862719270295, 3.1982636831418296, 2.4034308010296166, 5.957714852177059, 4.676217381301416, 5.403074296588265, 5.321729130516669, 3.1997581994475572, 5.5116568406644495, 5.580821214398237, 4.79659558304343, 4.570129129228186, 4.065577881072361, 3.9201604756328052, 4.284922371244306, 4.867925128191776, 4.732988714737445, 4.802126443934178, 3.7238904573294174, 3.871002818660275, 4.037996546316698, 4.006512997997782, 4.064321651705979, 3.8445941463138666, 3.7290961337565602, 3.3415640590008246, 3.467317493314878, 3.143697641957147, 3.01537918459601, 2.3769582340420485, 4.675878024035975, 2.2873139535133897, 2.287315213313278, 1.6101292403571277, 1.6101291003793625, 1.610120001824615, 1.6101051641814879, 1.6100913063827185, 1.6100850073832778, 1.6084294903525065, 1.6083998150662528, 1.6083656604915078, 1.6078932355334583, 1.590655953575205, 1.5803901242423453, 1.5757712779191562, 3.1436704862706693, 1.5689556205465949, 1.5545772444678099, 1.542663876836804, 3.052984771167821, 1.512233970450029, 1.4876151010139123, 1.4607712849975885, 1.453381578809335, 3.880823913746276, 2.376835333564073, 2.374268981214182, 3.912173614029153, 2.964541779821379, 6.1682310924513875, 2.2398318157741515, 8.469307659853797, 3.910910734630183, 9.33014180136903, 3.1143667010061193, 5.447512454405294, 3.54049401316688, 5.889472091693509, 6.862903787743641, 8.168417614483332, 3.988378069395685, 7.396132847416206, 6.898858476550938, 4.245422039459592, 8.277509565862855, 2.3769501153316583, 4.8383857706278395, 6.5757746765290115, 3.649446546692116, 3.9645336969352396, 4.902673638874763, 3.8226393560240575, 3.602077510987279, 3.8760142777289173, 3.8709980345299053, 3.427242762467805, 3.3665058501722305, 3.2695132968738614, 3.314243471746357, 3.3138921275553335, 2.2222864593109515, 1.6050870888340225, 1.6050830552255702, 1.6050830552255702, 1.6050815762358042, 1.6050783493490421, 1.6050771392665064, 1.6050689375959861, 1.6050612737399264, 1.605054282151942, 1.6050419124193542, 1.605012601531266, 1.6004484391136145, 1.589053898596066, 1.5804104134967571, 1.5758220494283905, 1.573238792121776, 3.1338819695824554, 1.5575745426036107, 1.5150285784607975, 1.514957586952033, 1.5148669652154663, 1.5147048141556745, 1.5144793354431783, 2.963464163720956, 5.221462578827216, 4.624300830606299, 4.447875368315604, 5.294696236076868, 0.8406598669840649, 1.6050757947303556, 3.7779553908279726, 8.788044785917323, 6.480759440222384, 5.839634048941205, 3.0573412912161904, 12.021854833488266, 7.476962845765211, 2.964415019686832, 5.352127291038434, 3.7352418974807646, 3.7229076606473916, 2.887372022614612, 3.800062254220132, 6.9188674021287255, 4.658317057408166, 3.8983185359586616, 4.136602072941188, 5.838122790307658, 3.096031125678386, 3.09460215265727, 2.726543448580924, 2.968940190556109, 3.791691441052214, 3.622584289030556, 4.314787533053337, 4.6657663254982955, 4.091552851392735, 3.8828012442417834, 3.7203137815051854, 4.057102070506917, 3.8027962340292563, 3.560558685134331, 3.433695783343237, 3.640997034497947, 2.344869342070135, 2.9246515687025476, 2.924640681541357, 2.924605895733651, 2.908676916749918, 2.9021791403028216, 2.8847912817195653, 2.878367325536151, 2.2565449898180097, 2.256524543198213, 2.256512859415472, 2.2565508317093803, 7.3200853250556825, 2.216089228226012, 3.7694687230317596, 1.5884240717455627, 1.5884163710705743, 1.5884175660029, 1.5884131845843723, 1.5884062805309342, 1.5884012352611143, 1.588396721072328, 1.588390082559407, 1.5883548984409257, 1.5809670301813792, 1.5597876513284101, 3.101372500227379, 1.5434786838650778, 1.5396652565027262, 2.904745323857572, 4.3885570535885075, 3.8578910597345994, 5.996183687809418, 3.010668108322809, 2.9246329808663685, 2.1759348551206283, 6.8843189977319135, 3.457938447457675, 3.64257115868178, 5.032453241390596, 4.435176408887157, 3.7692775338596345, 6.811766424477551, 6.4699132806638575, 6.794509477369098, 6.210940111885501, 4.604349351220787, 4.319297182742972, 3.581130659435657, 4.575239737602624, 3.7205638605046607, 3.629668810508999, 3.8837517851292143, 3.7431417084895724, 3.311180311231616, 3.101395602252344, 3.2128161375782542, 3.2765033751373673, 3.101402506305782, 3.1452987436042283, 3.800046888245851, 2.3642355238507937, 3.4417319666975903, 2.2651594165132676, 1.6015338307756, 1.6015219280577508, 1.6015204732811248, 1.601516637960929, 1.6015002386607813, 1.601499180641417, 1.6014928325252307, 1.6014887327001937, 1.6014756397105596, 1.601476962234765, 1.5922546041928296, 1.590797050265992, 1.5874447159099916, 1.5798548817472762, 1.5798171898074205, 1.5744568669502699, 1.55686015338694, 1.512413156647096, 1.9926328048530129, 1.90476945448664, 2.723549215679018, 2.996010097886261, 0.838801785769891, 0.8387997358573724, 0.8387980165759054, 0.838797223061382, 4.167062167532152, 1.6015241763489, 2.4073424068132447, 2.4140169219733614, 6.99539497600978, 5.331112000519814, 6.85397428866183, 5.08034342483537, 12.723979988267642, 3.2855828562831126, 4.502511968092212, 3.8214934697712755, 3.8696431375291467, 5.103226267647924, 3.168873798219027, 3.6680285544841995, 6.358466260640793, 3.781604817210391, 3.126975173370684, 2.358273055722897, 4.756526547186537, 2.3161564788854943, 4.373253213337673, 3.126950838925304, 3.8647786289966226, 4.54879608320586, 5.36239287203704, 4.057836215927401, 3.1638135561040954, 4.620349932818078, 4.627113321604801, 4.730653741650279, 3.7452105381051735, 3.824294047028758, 3.8839933186729128, 3.346733201485498, 3.228971149649025, 4.1976147895936196, 2.9735644711144484, 2.234992040183077, 3.2522081498113855, 2.144737706873487, 2.1440585983986957, 2.139587573992478, 1.5859419760262172, 1.5859330631916957, 1.5859194463611768, 1.585911895209707, 1.5859127617352855, 1.585906324688131, 1.5859021158496072, 1.585877976922778, 1.5858511146298453, 1.5658156815723459, 3.0965365820587962, 3.083699376981727, 1.5190188439171892, 1.5018877570200166, 1.4432566557501962, 2.2731882401037193, 3.0965464852082647, 2.1299015510762334, 1.2586727193354266, 0.8306488818484516, 0.8306467774291896, 0.8306444254311909, 0.8306403403820352, 1.5859412332900071, 1.5859350438215893, 1.5859595541165235, 3.0967413296740545, 2.33101149195566, 2.3412018327585797, 2.3209771257568668, 2.259926189914458, 3.7066971020428623, 5.778467908476163, 3.8362746136825914, 3.0133223977062475, 5.272924507054355, 9.034223366427106, 4.310668648766691, 2.9139895997002956, 7.053301329850234, 4.59028011274542, 5.102560131593066, 3.096468497906202, 3.065141617614272, 5.315510030398101, 6.199565173751561, 5.196260265760164, 2.876697309747376, 5.901617038217258, 4.603450806380836, 4.679988782519305, 4.600383305833018, 3.833571301456472, 3.8849428990085273, 3.8571707542182576, 4.076910004720047, 3.318957357857876, 3.1203239470817437, 3.121118674826578, 3.099388441526941, 3.096530887747852, 4.180592351793107, 2.989415034951364, 2.9560123854996125, 2.903443091658949, 2.860646541381664, 2.860625773891707, 2.8606248994710772, 2.8606450111455617, 2.860680425181067, 2.2482674766332593, 2.2452771766846307, 2.207154623278581, 2.1594182522586123, 2.1361813984433162, 2.1322255195142725, 2.12931326160685, 2.12310400071491, 2.1170750890778582, 4.254115387184759, 1.5536397516339662, 7.84178759371387, 1.5439756548338361, 1.5435067467711263, 3.6004794082829217, 1.53033884650754, 1.5279173571785716, 1.5242570324223876, 1.5234182444332884, 1.5181682229721973, 3.033481243983064, 2.8606487274332384, 2.281872991671116, 3.5952258891393116, 2.248624677460517, 8.622993235502003, 4.29809000065549, 2.140873976752934, 2.8606384529908384, 5.981615536818835, 4.460385092801212, 4.875718277946207, 4.439713351903323, 4.275775660604594, 3.0571762942083556, 2.94177397578004, 4.447731351867925, 3.5642027568262993, 2.860636048334107, 2.8829427372044933, 3.0042146041100866, 3.021816254176881, 2.9954074395271233, 3.0028850475425335, 3.0206565538166594, 2.991727877517085, 2.9151275373241443, 2.8834654221359335, 2.8333437022454855, 2.153208391910118, 2.120754137768846, 1.5157195290399013, 1.5157171273879215, 1.515698749529293, 1.5156965567166159, 1.5156897694392815, 1.515684339617414, 1.5156581302849381, 1.5116403753619516, 1.4932194958371996, 1.4892222071658674, 1.4649301239075923, 1.3936555671640245, 1.3745391483419775, 2.2173949427235895, 3.5434783607201132, 1.3094417449102351, 1.3094504117412928, 1.309434017856039, 2.153234079144337, 2.49714834542653, 7.017155108297866, 0.7938759818062944, 0.7938725881676272, 0.7938725881676272, 0.7938719094398938, 0.793871126292509, 0.7938705519844269, 1.537591269200744, 1.515717649486178, 1.5156693031876272, 2.1532516216457553, 3.986582733323835, 4.310405614499813, 3.620243511568223, 2.1943628913975255, 4.172836483022373, 5.612061308111026, 2.7431042395939036, 2.920546223758721, 4.276579912658395, 2.214815986175836, 4.704002542030209, 2.912253006213345, 4.293394400267582, 3.508555417182858, 2.2734242303776746, 2.154960344819593, 2.2375957596243645, 2.99293681773536, 3.475321148246391, 2.2376715682912067, 2.153212777535473, 3.063509465582904, 2.937514834773223, 2.498876072976904, 2.7058548262257327, 2.555597036401186, 2.3819847473673676, 2.2602571211883213, 2.2347841560935193, 2.227835863656859, 2.1395683422642757, 1.9800141900827293, 1.9800087565486015, 1.4493674474233196, 1.449364467743314, 1.4493526366609393, 1.4493522861103503, 1.4493522861103503, 1.449349394067992, 1.4493490435174032, 1.4493490435174032, 1.4493486929668142, 1.449344573997395, 1.4493358978703201, 1.44933274291502, 1.4493323923644312, 1.449328273395012, 1.4493252060773592, 1.4493147771973398, 1.4493067145337957, 1.449289800467882, 1.4141082804547125, 1.8665781228239495, 1.3687134690344571, 1.3687330998674345, 1.3687278416086013, 1.3687182891050542, 1.3687095253403323, 1.3686984829967825, 1.3687026019662019, 3.401202365505803, 2.829768448366407, 2.749223491210687, 2.139573951073698, 3.5065280943402017, 3.0647225267106477, 2.910404373399942, 1.9800471418380843, 2.8481380003250174, 2.819582149354665, 4.486521711810144, 3.9641918695096137, 2.139578683506648, 1.98003119178629, 2.454076371249466, 1.980007354346246, 2.810982617583499, 2.6286170869316146, 2.8485548049751985, 2.362713948746722, 2.737228175885018, 2.888316180794468, 2.139611810537297, 2.172212489477468, 2.9017406908710104, 2.4483920181754453, 2.185978611102876, 2.1568152559619906, 2.115331449824248, 2.139554846066604, 2.094160648109879, 2.1287414120513515, 2.129922066434707], \"Total\": [11.0, 12.0, 43.0, 20.0, 29.0, 9.0, 28.0, 26.0, 10.0, 25.0, 13.0, 29.0, 27.0, 43.0, 16.0, 14.0, 11.0, 10.0, 9.0, 13.0, 36.0, 17.0, 15.0, 17.0, 9.0, 36.0, 10.0, 11.0, 8.0, 8.0, 5.51212001253983, 3.133890177650649, 3.1338479931299195, 3.1338810420672787, 3.133772181988118, 3.1337756095789486, 3.9188180409865576, 3.129301715431608, 2.340288489712695, 2.3402869983789443, 2.340286134018058, 2.3402870826316575, 2.340283789089968, 2.3402833122029243, 2.340281294596635, 2.340271324314984, 2.340269098026394, 2.3402683920887712, 2.340262031241759, 2.340261184612705, 2.340252258921124, 2.3402497375270386, 2.340247999597652, 2.340251991943932, 2.340242750625787, 2.340287888479586, 2.3402529439848774, 2.3401816011680614, 2.340113128620323, 2.339787593438854, 3.129409954504222, 10.958945496548568, 17.591906361512482, 7.627430021282637, 10.678267846150154, 29.865377956605265, 11.62116834984209, 5.452660663395601, 17.550652133840224, 3.8901787906937937, 3.9148718196787025, 7.667915605943493, 15.410219871491485, 16.20634298398107, 6.161012625316821, 3.8888401161795247, 12.133488902172193, 7.738101893939986, 25.209585243079342, 6.918820424939573, 10.016228726295271, 19.83008644981234, 19.20407329273322, 28.239028947627443, 17.551558103538778, 16.767013815417638, 29.949250807455844, 13.839962816658087, 36.65252701200709, 20.62908751956865, 14.542792505063515, 7.680053402576516, 15.168084048751007, 21.40816203849969, 28.31249377837798, 20.801871650310733, 25.07116091468499, 35.67845360977471, 3.8784342131884952, 3.0971393172770805, 3.0970759557041267, 3.09703318651078, 3.093134690314393, 3.0875488338092767, 2.315790227589749, 2.3157911644122096, 2.315786915265511, 2.3157846071400785, 2.3157754546715092, 2.3157722036766852, 2.3157720681894842, 2.3157654148304294, 2.315759275188755, 2.3157596709266013, 2.315758258065302, 2.3157572150552306, 2.315758978424903, 2.315751472055795, 2.315741178361841, 2.315723398112799, 2.315732678089278, 2.315735216790722, 2.3156518934310837, 2.315384652962072, 2.3154087572822024, 2.315433454823674, 2.31541166123554, 2.3153516754419097, 4.5692082412950805, 6.214917627035658, 11.542674667118732, 5.361064270956095, 3.8520901677942665, 3.85899449768678, 3.861286639446522, 12.170059683961659, 3.888892605609222, 6.11775796055859, 6.164336500504765, 8.43430506737691, 28.239028947627443, 35.69431222082588, 12.259883079441813, 6.859765415301852, 10.756135594691079, 7.615392716537089, 4.625741038618387, 24.10302873648463, 16.20634298398107, 21.40816203849969, 21.46411773069633, 8.333003555983748, 27.324496236907912, 29.08736661752459, 21.04328846923414, 20.62908751956865, 15.277017788497592, 14.480403548003354, 19.633075098433352, 29.949250807455844, 28.31249377837798, 30.161817204261485, 14.452262781596591, 19.718509080027772, 25.73195931452802, 25.209585243079342, 35.67845360977471, 24.35848707486698, 20.629045987365863, 10.67178776002945, 27.525246007156596, 3.8203229245482047, 3.8185625479573333, 3.053581472944652, 6.075712704474346, 3.0551265323188144, 3.0551652557580398, 2.286751146591434, 2.2867510348378963, 2.286742999341653, 2.2867271108855736, 2.2867143338192917, 2.2867107798693818, 2.2867028202353805, 2.2866994396828875, 2.2867269084496074, 2.286688789549091, 2.2870759328757724, 2.286562779914737, 2.2851561234160416, 4.582785295422913, 2.288118257602752, 2.2815122136338277, 2.2870633258127775, 4.6030826058743575, 2.2840489721796517, 2.2826957842389985, 2.2803780891168217, 2.280449120022926, 6.1089147876808765, 3.8097174332705075, 3.8159631041246214, 6.930908444537639, 5.326752618751147, 13.710097973318916, 3.803690559488626, 29.08736661752459, 9.151086460405269, 36.65252701200709, 6.802897562410865, 16.776594487615842, 8.440750214294226, 19.89538642224486, 26.406875816812853, 35.69431222082588, 10.753457993222241, 33.344747038795916, 29.949250807455844, 12.868369252011258, 43.940073988597334, 4.6405358147405575, 17.14171649205599, 36.153947288083835, 11.447169588234868, 14.591913578760762, 27.324496236907912, 14.529329291558687, 14.30950609912669, 19.04639709102366, 21.46411773069633, 13.7464519447956, 14.398390412672857, 12.31474328070892, 20.629045987365863, 25.049885143608105, 3.0380373551796094, 2.2819495684852558, 2.2819454509047556, 2.2819455515379916, 2.281943980776717, 2.2819408976083655, 2.2819405893341838, 2.281932309696448, 2.2819262099682995, 2.2819171924883612, 2.2819051452914256, 2.281884108365091, 2.2821204284482355, 2.280364677608545, 2.28055396472467, 2.2802725182320853, 2.281537279458987, 4.573241418528094, 2.2814051160047923, 2.2821393267445647, 2.2821690826422967, 2.28216223937212, 2.282134047903651, 2.2821344250719213, 4.591744124287925, 8.309243483869581, 7.614360706201709, 7.635758474999319, 9.091549299410943, 1.517521504884843, 3.0370276580205937, 7.635953121355936, 20.801871650310733, 14.582458855337247, 13.002399402590719, 6.1068366579828135, 43.78318377587752, 28.31249377837798, 6.704622429850089, 19.83609535067233, 10.567946292545916, 10.601771464201454, 6.771850203925955, 11.447169588234868, 35.67845360977471, 17.37550267726284, 12.868369252011258, 14.483007632716774, 29.08736661752459, 8.363711843396098, 8.457702004514507, 6.811256979343942, 8.35684588978171, 14.452262781596591, 13.7464519447956, 21.46411773069633, 27.525246007156596, 21.825195835754705, 19.633075098433352, 16.798027977912913, 33.344747038795916, 43.940073988597334, 35.69431222082588, 25.049885143608105, 4.527519972329093, 3.022526884649393, 3.770428208102976, 3.7706020978765435, 3.770693706501968, 3.7798223464789884, 3.779766933740546, 3.779894477269826, 3.7798635040032553, 3.014780173067858, 3.0147567570744034, 3.014743388039943, 3.0147995478157705, 9.843634990430797, 3.02353689336662, 5.308794142612622, 2.266080298129666, 2.266072313695008, 2.2660742499514295, 2.2660694106536896, 2.266063358326733, 2.266057755485244, 2.2660534687005107, 2.266048260569854, 2.266060833353572, 2.2660645267721704, 2.2645926733164723, 4.546027712510385, 2.2650328625815153, 2.264963251948969, 5.366737689371124, 9.86731573841505, 8.404886335526564, 17.42851328677867, 6.068869062746857, 6.124156167677845, 3.7833127286187347, 25.07116091468499, 8.181948233639831, 9.002922512620742, 17.457579818349615, 14.283960069159628, 10.717812207522165, 35.67845360977471, 33.344747038795916, 43.78318377587752, 36.65252701200709, 19.762441561009748, 19.04639709102366, 11.252662486484372, 28.31249377837798, 16.798027977912913, 15.244783640895884, 29.08736661752459, 24.35848707486698, 11.542674667118732, 7.603718168206319, 18.206148587566695, 29.865377956605265, 10.643402656661149, 26.955969933980278, 4.568875441249448, 3.041269156192823, 4.570967887292861, 3.043654518370591, 2.278565272938961, 2.2785544420394674, 2.2785530134136773, 2.2785484314330375, 2.2785327979222703, 2.2785324483382587, 2.2785264403316754, 2.278521600465051, 2.2785080420900865, 2.278510423503494, 2.278425828540652, 2.2783726218658513, 2.2777771665652633, 2.2773739165235303, 2.2786264943793437, 2.2786462174422946, 2.278747100060139, 2.2758505207767437, 3.0419607945015756, 3.0421567338168183, 4.547402981111196, 5.37051541710962, 1.51583212159793, 1.5158302216763475, 1.5158284446756447, 1.5158278205064288, 7.6179076619880846, 2.9686389658854107, 4.552869420211945, 4.575378419427371, 14.490966770498602, 11.359806773700011, 17.580129505508836, 12.057282357835424, 43.940073988597334, 6.880429254144357, 11.462929111175068, 9.217865314504223, 9.893267575493105, 16.02487409193726, 7.6300693400808655, 9.915521286466902, 27.324496236907912, 10.67178776002945, 7.573615475068588, 4.569829991815123, 16.651619699405806, 4.48656517248494, 15.10299726424217, 8.196112810607264, 12.937753235583578, 19.89538642224486, 29.949250807455844, 16.798027977912913, 9.117947075997618, 26.406875816812853, 30.161817204261485, 36.153947288083835, 21.40816203849969, 25.209585243079342, 35.69431222082588, 15.811651735778458, 19.718509080027772, 5.285367967980914, 3.776034826667563, 3.0205841889698473, 4.532627262088561, 3.019163795732418, 3.019142806358024, 3.019195890376722, 2.2637169304868685, 2.2637084833507233, 2.263695368962967, 2.263687653065242, 2.2636897803367466, 2.263682301721983, 2.2636786117286536, 2.2636548784433, 2.263628476422205, 2.2647192697966436, 4.536808826824616, 4.540946477513121, 2.262316815741645, 2.266535586405239, 2.26576001692272, 3.78246041211241, 5.293090178002736, 3.776379027161096, 2.2495934325196245, 1.508422027240116, 1.5084199625948065, 1.508417754115284, 1.5084138561366052, 2.953779186068211, 2.9537893085335214, 2.959772105475842, 6.007934321495049, 4.489287299201432, 4.578791531240114, 4.582407658976497, 4.545104470822831, 8.3743987772658, 15.277017788497592, 9.62242790806374, 6.825917566664358, 17.169250132587567, 43.78318377587752, 12.979047237945796, 6.825172652363001, 36.153947288083835, 16.651619699405806, 20.629045987365863, 8.32213769950342, 8.22325118233266, 25.049885143608105, 36.65252701200709, 26.955969933980278, 7.483754209028292, 43.940073988597334, 24.10302873648463, 25.209585243079342, 25.07116091468499, 17.411137425586855, 19.762441561009748, 19.83008644981234, 24.35848707486698, 17.457579818349615, 12.05230570152659, 21.04328846923414, 14.387926319705013, 14.591913578760762, 5.186317015545352, 3.7139005638042777, 3.7151992361364683, 3.716115755691238, 3.7208833686484604, 3.720874338147972, 3.7208796994505873, 3.7209225349227864, 3.7224282249257734, 2.9739396535249987, 2.9741315299051148, 2.9776828878320463, 2.9757673085873653, 2.9702329054898344, 2.9700302458457712, 2.9697932633222552, 2.969699915451076, 2.969236831664455, 5.970814012786245, 2.2329526677651463, 11.284654903179025, 2.2327367869288564, 2.232696303364995, 5.217018605949412, 2.233795772171186, 2.233898034667056, 2.2340397357109962, 2.234067850317257, 2.2341143510490475, 4.469035015560669, 4.485116586175114, 3.7276331743935542, 6.7101024678230345, 3.7382942132142025, 26.955969933980278, 10.571167064840239, 3.7268961815334882, 6.858111907664285, 27.525246007156596, 19.633075098433352, 24.35848707486698, 21.705914646350532, 20.62908751956865, 8.231144243363143, 7.566673334255981, 43.78318377587752, 29.865377956605265, 10.59902497133326, 12.827160563413557, 16.767013815417638, 17.411137425586855, 16.645425839055257, 17.37550267726284, 30.161817204261485, 35.67845360977471, 29.949250807455844, 17.169250132587567, 3.646667904360495, 2.920704937269558, 2.9258390575319106, 2.1968397065801883, 2.196837207657271, 2.1968188745244666, 2.1968168367196883, 2.19681074900178, 2.196805188358365, 2.196779085063105, 2.19723877525092, 2.1981435037614148, 2.199425915477452, 2.1997673663319275, 2.2088831914813722, 2.205535260320542, 3.67536704191233, 5.932119584343424, 2.208343865957676, 2.208385906706458, 2.208376032645026, 3.701782750673185, 4.422268839302909, 12.535701822102572, 1.4749944381141062, 1.4749911921263392, 1.4749914268287838, 1.4749904480242066, 1.4749898433510222, 1.4749890560985217, 2.9879652565930925, 2.962045841919671, 2.990127825947753, 4.441403494090791, 8.823104040469564, 11.054348584965238, 10.678267846150154, 5.278703916360376, 15.097749240927858, 28.239028947627443, 8.345340357390576, 9.62242790806374, 19.718509080027772, 5.887571618067216, 30.161817204261485, 11.340263817854753, 33.344747038795916, 21.825195835754705, 6.683591258196124, 6.022442896108465, 6.822101036532563, 17.14171649205599, 29.865377956605265, 7.527621293615186, 6.788052089848333, 26.406875816812853, 27.525246007156596, 16.645425839055257, 36.153947288083835, 25.049885143608105, 35.67845360977471, 10.5851780032694, 8.33038461905611, 24.10302873648463, 2.8238511064406575, 2.838787030807274, 2.8387991903438756, 2.133648712697424, 2.133645383243061, 2.1336337425968805, 2.1336332927172674, 2.1336336359720445, 2.1336304703355355, 2.1336301014175048, 2.1336303563979397, 2.1336298795112674, 2.133625879661402, 2.133618704728157, 2.1336142765532413, 2.133613981471538, 2.1336098259145673, 2.1336070616563596, 2.1335969222642674, 2.133590525697051, 2.133571856994571, 2.1378701911743114, 2.839062583770008, 2.137230364007947, 2.137278768030964, 2.137279012742365, 2.137266097684014, 2.1372561403626027, 2.1372453838266967, 2.1372575893564827, 5.752742372270385, 5.059281916936745, 5.075299638428037, 4.371817804759855, 10.352099053579856, 8.782173136048781, 8.798873657745135, 4.3230263961818896, 11.20178320015735, 11.126694101176131, 36.153947288083835, 27.525246007156596, 5.918507480074592, 5.090347287692743, 9.695041774752308, 5.897205668961886, 21.705914646350532, 17.169250132587567, 24.10302873648463, 12.809648248071634, 25.209585243079342, 35.69431222082588, 10.50483537301406, 11.25962251077484, 43.78318377587752, 21.04328846923414, 17.14171649205599, 15.10299726424217, 11.967556340754932, 15.811651735778458, 12.68539608233494, 30.161817204261485, 43.940073988597334], \"Category\": [\"Default\", \"Default\", \"Default\", \"Default\", \"Default\", \"Default\", \"Default\", \"Default\", \"Default\", \"Default\", \"Default\", \"Default\", \"Default\", \"Default\", \"Default\", \"Default\", \"Default\", \"Default\", \"Default\", \"Default\", \"Default\", \"Default\", \"Default\", \"Default\", \"Default\", \"Default\", \"Default\", \"Default\", \"Default\", \"Default\", \"Topic1\", \"Topic1\", \"Topic1\", \"Topic1\", \"Topic1\", \"Topic1\", \"Topic1\", \"Topic1\", \"Topic1\", \"Topic1\", \"Topic1\", \"Topic1\", \"Topic1\", \"Topic1\", \"Topic1\", \"Topic1\", \"Topic1\", \"Topic1\", \"Topic1\", \"Topic1\", \"Topic1\", \"Topic1\", \"Topic1\", \"Topic1\", \"Topic1\", \"Topic1\", \"Topic1\", \"Topic1\", \"Topic1\", \"Topic1\", \"Topic1\", \"Topic1\", \"Topic1\", \"Topic1\", \"Topic1\", \"Topic1\", \"Topic1\", \"Topic1\", \"Topic1\", \"Topic1\", \"Topic1\", \"Topic1\", \"Topic1\", \"Topic1\", \"Topic1\", \"Topic1\", \"Topic1\", \"Topic1\", \"Topic1\", \"Topic1\", \"Topic1\", \"Topic1\", \"Topic1\", \"Topic1\", \"Topic1\", \"Topic1\", \"Topic1\", \"Topic1\", \"Topic1\", \"Topic1\", \"Topic1\", \"Topic1\", \"Topic1\", \"Topic1\", \"Topic1\", \"Topic1\", \"Topic1\", \"Topic1\", \"Topic2\", \"Topic2\", \"Topic2\", \"Topic2\", \"Topic2\", \"Topic2\", \"Topic2\", \"Topic2\", \"Topic2\", \"Topic2\", \"Topic2\", \"Topic2\", \"Topic2\", \"Topic2\", \"Topic2\", \"Topic2\", \"Topic2\", \"Topic2\", \"Topic2\", \"Topic2\", \"Topic2\", \"Topic2\", \"Topic2\", \"Topic2\", \"Topic2\", \"Topic2\", \"Topic2\", \"Topic2\", \"Topic2\", \"Topic2\", \"Topic2\", \"Topic2\", \"Topic2\", \"Topic2\", \"Topic2\", \"Topic2\", \"Topic2\", \"Topic2\", \"Topic2\", \"Topic2\", \"Topic2\", \"Topic2\", \"Topic2\", \"Topic2\", \"Topic2\", \"Topic2\", \"Topic2\", \"Topic2\", \"Topic2\", \"Topic2\", \"Topic2\", \"Topic2\", \"Topic2\", \"Topic2\", \"Topic2\", \"Topic2\", \"Topic2\", \"Topic2\", \"Topic2\", \"Topic2\", \"Topic2\", \"Topic2\", \"Topic2\", \"Topic2\", \"Topic2\", \"Topic2\", \"Topic2\", \"Topic2\", \"Topic2\", \"Topic2\", \"Topic2\", \"Topic2\", \"Topic2\", \"Topic3\", \"Topic3\", \"Topic3\", \"Topic3\", \"Topic3\", \"Topic3\", \"Topic3\", \"Topic3\", \"Topic3\", \"Topic3\", \"Topic3\", \"Topic3\", \"Topic3\", \"Topic3\", \"Topic3\", \"Topic3\", \"Topic3\", \"Topic3\", \"Topic3\", \"Topic3\", \"Topic3\", \"Topic3\", \"Topic3\", \"Topic3\", \"Topic3\", \"Topic3\", \"Topic3\", \"Topic3\", \"Topic3\", \"Topic3\", \"Topic3\", \"Topic3\", \"Topic3\", \"Topic3\", \"Topic3\", \"Topic3\", \"Topic3\", \"Topic3\", \"Topic3\", \"Topic3\", \"Topic3\", \"Topic3\", \"Topic3\", \"Topic3\", \"Topic3\", \"Topic3\", \"Topic3\", \"Topic3\", \"Topic3\", \"Topic3\", \"Topic3\", \"Topic3\", \"Topic3\", \"Topic3\", \"Topic3\", \"Topic3\", \"Topic3\", \"Topic3\", \"Topic3\", \"Topic3\", \"Topic3\", \"Topic3\", \"Topic3\", \"Topic3\", \"Topic4\", \"Topic4\", \"Topic4\", \"Topic4\", \"Topic4\", \"Topic4\", \"Topic4\", \"Topic4\", \"Topic4\", \"Topic4\", \"Topic4\", \"Topic4\", \"Topic4\", \"Topic4\", \"Topic4\", \"Topic4\", \"Topic4\", \"Topic4\", \"Topic4\", \"Topic4\", \"Topic4\", \"Topic4\", \"Topic4\", \"Topic4\", \"Topic4\", \"Topic4\", \"Topic4\", \"Topic4\", \"Topic4\", \"Topic4\", \"Topic4\", \"Topic4\", \"Topic4\", \"Topic4\", \"Topic4\", \"Topic4\", \"Topic4\", \"Topic4\", \"Topic4\", \"Topic4\", \"Topic4\", \"Topic4\", \"Topic4\", \"Topic4\", \"Topic4\", \"Topic4\", \"Topic4\", \"Topic4\", \"Topic4\", \"Topic4\", \"Topic4\", \"Topic4\", \"Topic4\", \"Topic4\", \"Topic4\", \"Topic4\", \"Topic4\", \"Topic4\", \"Topic4\", \"Topic4\", \"Topic4\", \"Topic4\", \"Topic4\", \"Topic4\", \"Topic5\", \"Topic5\", \"Topic5\", \"Topic5\", \"Topic5\", \"Topic5\", \"Topic5\", \"Topic5\", \"Topic5\", \"Topic5\", \"Topic5\", \"Topic5\", \"Topic5\", \"Topic5\", \"Topic5\", \"Topic5\", \"Topic5\", \"Topic5\", \"Topic5\", \"Topic5\", \"Topic5\", \"Topic5\", \"Topic5\", \"Topic5\", \"Topic5\", \"Topic5\", \"Topic5\", \"Topic5\", \"Topic5\", \"Topic5\", \"Topic5\", \"Topic5\", \"Topic5\", \"Topic5\", \"Topic5\", \"Topic5\", \"Topic5\", \"Topic5\", \"Topic5\", \"Topic5\", \"Topic5\", \"Topic5\", \"Topic5\", \"Topic5\", \"Topic5\", \"Topic5\", \"Topic5\", \"Topic5\", \"Topic5\", \"Topic5\", \"Topic5\", \"Topic5\", \"Topic5\", \"Topic5\", \"Topic5\", \"Topic5\", \"Topic5\", \"Topic5\", \"Topic5\", \"Topic5\", \"Topic5\", \"Topic6\", \"Topic6\", \"Topic6\", \"Topic6\", \"Topic6\", \"Topic6\", \"Topic6\", \"Topic6\", \"Topic6\", \"Topic6\", \"Topic6\", \"Topic6\", \"Topic6\", \"Topic6\", \"Topic6\", \"Topic6\", \"Topic6\", \"Topic6\", \"Topic6\", \"Topic6\", \"Topic6\", \"Topic6\", \"Topic6\", \"Topic6\", \"Topic6\", \"Topic6\", \"Topic6\", \"Topic6\", \"Topic6\", \"Topic6\", \"Topic6\", \"Topic6\", \"Topic6\", \"Topic6\", \"Topic6\", \"Topic6\", \"Topic6\", \"Topic6\", \"Topic6\", \"Topic6\", \"Topic6\", \"Topic6\", \"Topic6\", \"Topic6\", \"Topic6\", \"Topic6\", \"Topic6\", \"Topic6\", \"Topic6\", \"Topic6\", \"Topic6\", \"Topic6\", \"Topic6\", \"Topic6\", \"Topic6\", \"Topic6\", \"Topic6\", \"Topic6\", \"Topic6\", \"Topic6\", \"Topic6\", \"Topic6\", \"Topic6\", \"Topic6\", \"Topic6\", \"Topic6\", \"Topic6\", \"Topic7\", \"Topic7\", \"Topic7\", \"Topic7\", \"Topic7\", \"Topic7\", \"Topic7\", \"Topic7\", \"Topic7\", \"Topic7\", \"Topic7\", \"Topic7\", \"Topic7\", \"Topic7\", \"Topic7\", \"Topic7\", \"Topic7\", \"Topic7\", \"Topic7\", \"Topic7\", \"Topic7\", \"Topic7\", \"Topic7\", \"Topic7\", \"Topic7\", \"Topic7\", \"Topic7\", \"Topic7\", \"Topic7\", \"Topic7\", \"Topic7\", \"Topic7\", \"Topic7\", \"Topic7\", \"Topic7\", \"Topic7\", \"Topic7\", \"Topic7\", \"Topic7\", \"Topic7\", \"Topic7\", \"Topic7\", \"Topic7\", \"Topic7\", \"Topic7\", \"Topic7\", \"Topic7\", \"Topic7\", \"Topic7\", \"Topic7\", \"Topic7\", \"Topic7\", \"Topic7\", \"Topic7\", \"Topic7\", \"Topic7\", \"Topic7\", \"Topic7\", \"Topic7\", \"Topic7\", \"Topic7\", \"Topic7\", \"Topic7\", \"Topic7\", \"Topic7\", \"Topic7\", \"Topic7\", \"Topic7\", \"Topic8\", \"Topic8\", \"Topic8\", \"Topic8\", \"Topic8\", \"Topic8\", \"Topic8\", \"Topic8\", \"Topic8\", \"Topic8\", \"Topic8\", \"Topic8\", \"Topic8\", \"Topic8\", \"Topic8\", \"Topic8\", \"Topic8\", \"Topic8\", \"Topic8\", \"Topic8\", \"Topic8\", \"Topic8\", \"Topic8\", \"Topic8\", \"Topic8\", \"Topic8\", \"Topic8\", \"Topic8\", \"Topic8\", \"Topic8\", \"Topic8\", \"Topic8\", \"Topic8\", \"Topic8\", \"Topic8\", \"Topic8\", \"Topic8\", \"Topic8\", \"Topic8\", \"Topic8\", \"Topic8\", \"Topic8\", \"Topic8\", \"Topic8\", \"Topic8\", \"Topic8\", \"Topic8\", \"Topic8\", \"Topic8\", \"Topic8\", \"Topic8\", \"Topic8\", \"Topic8\", \"Topic8\", \"Topic8\", \"Topic8\", \"Topic8\", \"Topic9\", \"Topic9\", \"Topic9\", \"Topic9\", \"Topic9\", \"Topic9\", \"Topic9\", \"Topic9\", \"Topic9\", \"Topic9\", \"Topic9\", \"Topic9\", \"Topic9\", \"Topic9\", \"Topic9\", \"Topic9\", \"Topic9\", \"Topic9\", \"Topic9\", \"Topic9\", \"Topic9\", \"Topic9\", \"Topic9\", \"Topic9\", \"Topic9\", \"Topic9\", \"Topic9\", \"Topic9\", \"Topic9\", \"Topic9\", \"Topic9\", \"Topic9\", \"Topic9\", \"Topic9\", \"Topic9\", \"Topic9\", \"Topic9\", \"Topic9\", \"Topic9\", \"Topic9\", \"Topic9\", \"Topic9\", \"Topic9\", \"Topic9\", \"Topic9\", \"Topic9\", \"Topic9\", \"Topic9\", \"Topic9\", \"Topic9\", \"Topic9\", \"Topic9\", \"Topic9\", \"Topic9\", \"Topic9\", \"Topic9\", \"Topic9\", \"Topic9\", \"Topic9\", \"Topic9\", \"Topic9\", \"Topic9\", \"Topic9\", \"Topic9\", \"Topic10\", \"Topic10\", \"Topic10\", \"Topic10\", \"Topic10\", \"Topic10\", \"Topic10\", \"Topic10\", \"Topic10\", \"Topic10\", \"Topic10\", \"Topic10\", \"Topic10\", \"Topic10\", \"Topic10\", \"Topic10\", \"Topic10\", \"Topic10\", \"Topic10\", \"Topic10\", \"Topic10\", \"Topic10\", \"Topic10\", \"Topic10\", \"Topic10\", \"Topic10\", \"Topic10\", \"Topic10\", \"Topic10\", \"Topic10\", \"Topic10\", \"Topic10\", \"Topic10\", \"Topic10\", \"Topic10\", \"Topic10\", \"Topic10\", \"Topic10\", \"Topic10\", \"Topic10\", \"Topic10\", \"Topic10\", \"Topic10\", \"Topic10\", \"Topic10\", \"Topic10\", \"Topic10\", \"Topic10\", \"Topic10\", \"Topic10\", \"Topic10\", \"Topic10\", \"Topic10\", \"Topic10\", \"Topic10\", \"Topic10\", \"Topic10\", \"Topic10\", \"Topic10\", \"Topic10\", \"Topic10\", \"Topic10\", \"Topic10\"], \"logprob\": [30.0, 29.0, 28.0, 27.0, 26.0, 25.0, 24.0, 23.0, 22.0, 21.0, 20.0, 19.0, 18.0, 17.0, 16.0, 15.0, 14.0, 13.0, 12.0, 11.0, 10.0, 9.0, 8.0, 7.0, 6.0, 5.0, 4.0, 3.0, 2.0, 1.0, -5.6323, -6.3016, -6.3016, -6.3017, -6.3018, -6.3023, -6.0917, -6.3956, -6.6911, -6.6911, -6.6911, -6.6911, -6.6911, -6.6911, -6.6911, -6.6911, -6.6911, -6.6911, -6.6911, -6.6911, -6.6911, -6.6911, -6.6911, -6.6911, -6.6911, -6.6912, -6.6912, -6.6924, -6.6935, -6.6985, -6.4221, -5.2495, -5.0375, -5.723, -5.4753, -4.6538, -5.4118, -6.022, -5.1395, -6.3016, -6.3016, -5.8037, -5.3382, -5.3713, -6.0349, -6.3572, -5.6354, -5.9435, -5.2436, -6.0388, -5.8246, -5.4557, -5.5022, -5.3533, -5.6247, -5.6588, -5.4104, -5.7612, -5.3833, -5.6649, -5.824, -6.0221, -5.8227, -5.7945, -5.7449, -5.8037, -5.7731, -5.7183, -6.0063, -6.2859, -6.2865, -6.2868, -6.3167, -6.3395, -6.6754, -6.6754, -6.6754, -6.6754, -6.6754, -6.6754, -6.6754, -6.6754, -6.6754, -6.6754, -6.6754, -6.6754, -6.6754, -6.6754, -6.6754, -6.6754, -6.6762, -6.6762, -6.6768, -6.6839, -6.684, -6.6842, -6.6846, -6.6855, -6.0353, -5.789, -5.3587, -6.0186, -6.2864, -6.2864, -6.2866, -5.5057, -6.3119, -6.0069, -6.0108, -5.8088, -5.0291, -4.9318, -5.6601, -6.013, -5.7882, -6.0078, -6.2935, -5.3858, -5.628, -5.4835, -5.4986, -6.0074, -5.4636, -5.4511, -5.6025, -5.6509, -5.7679, -5.8043, -5.7153, -5.5878, -5.6159, -5.6014, -5.8557, -5.8169, -5.7747, -5.7825, -5.7682, -5.8238, -5.8543, -5.964, -5.9271, -5.9467, -5.9883, -6.2263, -5.5497, -6.2647, -6.2647, -6.6158, -6.6158, -6.6158, -6.6158, -6.6158, -6.6158, -6.6168, -6.6168, -6.6169, -6.6171, -6.6279, -6.6344, -6.6373, -5.9467, -6.6417, -6.6509, -6.6586, -5.976, -6.6785, -6.6949, -6.7131, -6.7182, -5.736, -6.2263, -6.2274, -5.728, -6.0054, -5.2727, -6.2857, -4.9556, -5.7283, -4.8588, -5.956, -5.3969, -5.8278, -5.3189, -5.1659, -4.9918, -5.7087, -5.0911, -5.1607, -5.6462, -4.9785, -6.2263, -5.5155, -5.2087, -5.7975, -5.7147, -5.5023, -5.7511, -5.8106, -5.7373, -5.7386, -5.8603, -5.8782, -5.9074, -5.8938, -5.894, -6.2533, -6.5786, -6.5786, -6.5786, -6.5786, -6.5786, -6.5786, -6.5786, -6.5786, -6.5787, -6.5787, -6.5787, -6.5815, -6.5887, -6.5941, -6.597, -6.5987, -5.9095, -6.6087, -6.6364, -6.6364, -6.6365, -6.6366, -6.6367, -5.9655, -5.399, -5.5205, -5.5594, -5.3851, -7.2254, -6.5786, -5.7226, -4.8784, -5.183, -5.2871, -5.9343, -4.5651, -5.04, -5.9651, -5.3743, -5.734, -5.7373, -5.9915, -5.7168, -5.1176, -5.5132, -5.6913, -5.6319, -5.2874, -5.9217, -5.9222, -6.0488, -5.9636, -5.719, -5.7646, -5.5898, -5.5116, -5.6429, -5.6953, -5.738, -5.6513, -5.7161, -5.7819, -5.8182, -5.747, -6.187, -5.966, -5.966, -5.9661, -5.9715, -5.9737, -5.9798, -5.982, -6.2254, -6.2254, -6.2254, -6.2254, -5.0486, -6.2435, -5.7123, -6.5765, -6.5765, -6.5765, -6.5765, -6.5765, -6.5765, -6.5765, -6.5765, -6.5765, -6.5812, -6.5947, -5.9074, -6.6052, -6.6076, -5.9729, -5.5602, -5.6891, -5.2481, -5.937, -5.966, -6.2618, -5.11, -5.7985, -5.7465, -5.4233, -5.5496, -5.7123, -5.1206, -5.172, -5.1231, -5.2129, -5.5122, -5.5761, -5.7635, -5.5186, -5.7253, -5.7501, -5.6824, -5.7193, -5.8419, -5.9074, -5.8721, -5.8524, -5.9074, -5.8933, -5.7003, -6.1748, -5.7993, -6.2177, -6.5643, -6.5643, -6.5644, -6.5644, -6.5644, -6.5644, -6.5644, -6.5644, -6.5644, -6.5644, -6.5702, -6.5711, -6.5732, -6.578, -6.578, -6.5814, -6.5926, -6.6216, -6.3458, -6.3909, -6.0334, -5.938, -7.2111, -7.2111, -7.2111, -7.2111, -5.6081, -6.5643, -6.1568, -6.154, -5.0901, -5.3617, -5.1105, -5.4099, -4.4918, -5.8458, -5.5307, -5.6947, -5.6821, -5.4054, -5.8819, -5.7356, -5.1855, -5.7052, -5.8952, -6.1774, -5.4758, -6.1954, -5.5598, -5.8952, -5.6834, -5.5204, -5.3559, -5.6347, -5.8835, -5.5048, -5.5034, -5.4812, -5.7148, -5.6939, -5.6784, -5.8273, -5.8631, -5.5347, -5.8794, -6.1649, -5.7898, -6.2062, -6.2065, -6.2086, -6.508, -6.508, -6.508, -6.508, -6.508, -6.508, -6.508, -6.508, -6.5081, -6.5208, -5.8389, -5.843, -6.5511, -6.5624, -6.6023, -6.148, -5.8389, -6.2131, -6.7391, -7.1547, -7.1547, -7.1547, -7.1547, -6.508, -6.508, -6.508, -5.8388, -6.1229, -6.1185, -6.1272, -6.1538, -5.659, -5.215, -5.6247, -5.8661, -5.3066, -4.7682, -5.5081, -5.8996, -5.0157, -5.4452, -5.3394, -5.8389, -5.8491, -5.2985, -5.1447, -5.3212, -5.9125, -5.1939, -5.4424, -5.4259, -5.443, -5.6254, -5.6121, -5.6192, -5.5638, -5.7695, -5.8312, -5.831, -5.838, -5.8389, -5.4143, -5.7496, -5.7609, -5.7788, -5.7937, -5.7937, -5.7937, -5.7937, -5.7937, -6.0346, -6.0359, -6.053, -6.0749, -6.0857, -6.0875, -6.0889, -6.0918, -6.0947, -5.3968, -6.4041, -4.7852, -6.4104, -6.4107, -5.5636, -6.4192, -6.4208, -6.4232, -6.4238, -6.4272, -5.735, -5.7937, -6.0197, -5.5651, -6.0344, -4.6903, -5.3865, -6.0835, -5.7937, -5.056, -5.3495, -5.2604, -5.3541, -5.3917, -5.7272, -5.7657, -5.3523, -5.5738, -5.7937, -5.7859, -5.7447, -5.7389, -5.7476, -5.7451, -5.7392, -5.7489, -5.7748, -5.7857, -5.7576, -6.0321, -6.0472, -6.3831, -6.3831, -6.3831, -6.3831, -6.3831, -6.3831, -6.3832, -6.3858, -6.3981, -6.4008, -6.4172, -6.4671, -6.4809, -6.0027, -5.5339, -6.5294, -6.5294, -6.5294, -6.032, -5.8839, -4.8507, -7.0298, -7.0298, -7.0298, -7.0298, -7.0298, -7.0298, -6.3688, -6.3831, -6.3832, -6.032, -5.4161, -5.338, -5.5125, -6.0131, -5.3704, -5.0741, -5.7899, -5.7272, -5.3459, -6.0038, -5.2506, -5.7301, -5.3419, -5.5438, -5.9777, -6.0312, -5.9936, -5.7028, -5.5533, -5.9936, -6.032, -5.6794, -5.7214, -5.8832, -5.8036, -5.8607, -5.9311, -5.9835, -5.9949, -5.998, -5.8632, -5.9407, -5.9407, -6.2527, -6.2527, -6.2527, -6.2527, -6.2527, -6.2527, -6.2527, -6.2527, -6.2527, -6.2527, -6.2527, -6.2527, -6.2527, -6.2527, -6.2527, -6.2527, -6.2527, -6.2527, -6.2773, -5.9997, -6.3099, -6.3099, -6.3099, -6.3099, -6.3099, -6.3099, -6.3099, -5.3997, -5.5836, -5.6125, -5.8632, -5.3692, -5.5038, -5.5555, -5.9407, -5.5771, -5.5872, -5.1227, -5.2465, -5.8632, -5.9407, -5.7261, -5.9407, -5.5903, -5.6573, -5.577, -5.764, -5.6169, -5.5631, -5.8632, -5.8481, -5.5585, -5.7284, -5.8417, -5.8552, -5.8746, -5.8632, -5.8846, -5.8683, -5.8677], \"loglift\": [30.0, 29.0, 28.0, 27.0, 26.0, 25.0, 24.0, 23.0, 22.0, 21.0, 20.0, 19.0, 18.0, 17.0, 16.0, 15.0, 14.0, 13.0, 12.0, 11.0, 10.0, 9.0, 8.0, 7.0, 6.0, 5.0, 4.0, 3.0, 2.0, 1.0, 1.9598, 1.8553, 1.8553, 1.8552, 1.8551, 1.8546, 1.8416, 1.7627, 1.7578, 1.7578, 1.7578, 1.7578, 1.7578, 1.7578, 1.7578, 1.7577, 1.7577, 1.7577, 1.7577, 1.7577, 1.7577, 1.7577, 1.7577, 1.7577, 1.7577, 1.7576, 1.7576, 1.7565, 1.7554, 1.7506, 1.7361, 1.6554, 1.3941, 1.5443, 1.4556, 1.2486, 1.4344, 1.581, 1.2945, 1.639, 1.6327, 1.4583, 1.2258, 1.1424, 1.446, 1.5838, 1.1677, 1.3094, 0.8283, 1.3261, 1.1703, 0.8562, 0.8418, 0.6051, 0.8093, 0.8209, 0.4892, 0.9104, 0.3143, 0.6075, 0.798, 1.2384, 0.7571, 0.4408, 0.2108, 0.4604, 0.3042, 0.0062, 1.9374, 1.8827, 1.8821, 1.8818, 1.8532, 1.8322, 1.784, 1.784, 1.784, 1.784, 1.784, 1.784, 1.784, 1.784, 1.784, 1.784, 1.784, 1.784, 1.784, 1.784, 1.784, 1.7839, 1.7832, 1.7832, 1.7826, 1.7756, 1.7755, 1.7753, 1.7749, 1.774, 1.7445, 1.6831, 1.4943, 1.6013, 1.664, 1.6623, 1.6615, 1.2944, 1.6291, 1.481, 1.4695, 1.3579, 0.9293, 0.7923, 1.1327, 1.3604, 1.1354, 1.2611, 1.4739, 0.731, 0.8857, 0.7518, 0.7341, 1.1715, 0.5277, 0.4777, 0.65, 0.6215, 0.8048, 0.822, 0.6065, 0.3118, 0.3399, 0.2911, 0.7726, 0.5006, 0.2767, 0.2893, -0.0437, 0.2824, 0.4181, 0.9675, 0.0569, 2.0121, 1.9709, 1.9565, 1.9451, 1.9176, 1.9176, 1.8562, 1.8562, 1.8562, 1.8562, 1.8562, 1.8562, 1.8552, 1.8551, 1.8551, 1.8548, 1.8439, 1.8376, 1.8353, 1.8301, 1.8297, 1.8234, 1.8133, 1.7964, 1.7946, 1.7788, 1.7616, 1.7565, 1.7533, 1.7352, 1.7325, 1.6351, 1.621, 1.4083, 1.6774, 0.9732, 1.3569, 0.8388, 1.4257, 1.0822, 1.3382, 0.9897, 0.8595, 0.7323, 1.2152, 0.7011, 0.7389, 1.0981, 0.5377, 1.538, 0.9421, 0.5026, 1.0638, 0.9039, 0.489, 0.8718, 0.8276, 0.6149, 0.4941, 0.818, 0.7538, 0.8809, 0.3785, 0.1843, 1.9346, 1.8954, 1.8954, 1.8954, 1.8954, 1.8954, 1.8954, 1.8954, 1.8954, 1.8954, 1.8954, 1.8954, 1.8925, 1.8861, 1.8805, 1.8778, 1.8756, 1.8693, 1.8656, 1.8376, 1.8375, 1.8375, 1.8374, 1.8372, 1.8094, 1.7827, 1.7486, 1.7069, 1.7066, 1.6566, 1.6096, 1.5436, 1.3856, 1.4363, 1.4468, 1.5554, 0.9547, 0.9158, 1.4312, 0.9373, 1.2073, 1.2008, 1.3948, 1.1445, 0.607, 0.9309, 1.053, 0.9942, 0.6414, 1.2535, 1.2419, 1.3317, 1.2124, 0.9092, 0.9137, 0.6429, 0.4724, 0.5731, 0.6266, 0.7398, 0.1408, -0.1998, -0.0578, 0.26, 2.042, 2.006, 2.0059, 2.0058, 2.0058, 1.9979, 1.9957, 1.9896, 1.9874, 1.9702, 1.9702, 1.9702, 1.9702, 1.9637, 1.9492, 1.9174, 1.9046, 1.9046, 1.9046, 1.9046, 1.9046, 1.9046, 1.9046, 1.9046, 1.9045, 1.8999, 1.887, 1.8775, 1.8763, 1.8739, 1.646, 1.4496, 1.4812, 1.1929, 1.5589, 1.5208, 1.7067, 0.9674, 1.3986, 1.355, 1.016, 1.0903, 1.2148, 0.604, 0.6201, 0.3967, 0.4847, 0.8031, 0.7761, 1.1149, 0.4372, 0.7525, 0.8248, 0.2464, 0.3869, 1.0111, 1.3631, 0.5253, 0.0499, 1.0268, 0.1116, 2.0795, 2.012, 1.98, 1.9684, 1.9112, 1.9112, 1.9112, 1.9112, 1.9112, 1.9112, 1.9112, 1.9112, 1.9112, 1.9112, 1.9054, 1.9046, 1.9027, 1.8981, 1.8975, 1.8941, 1.8828, 1.8551, 1.8407, 1.7956, 1.7512, 1.6801, 1.672, 1.672, 1.672, 1.672, 1.6605, 1.6466, 1.6265, 1.6244, 1.5355, 1.5073, 1.3218, 1.3995, 1.0244, 1.5246, 1.3293, 1.3833, 1.3251, 1.1195, 1.3851, 1.2693, 0.8058, 1.2263, 1.3792, 1.6022, 1.0108, 1.6026, 1.0244, 1.3002, 1.0555, 0.7882, 0.5437, 0.8432, 1.2053, 0.5206, 0.3891, 0.2301, 0.5205, 0.3779, 0.0457, 0.711, 0.4544, 2.0995, 2.091, 2.0287, 1.9979, 1.9879, 1.9876, 1.9855, 1.9741, 1.9741, 1.9741, 1.9741, 1.9741, 1.9741, 1.9741, 1.9741, 1.9741, 1.9609, 1.948, 1.9429, 1.9316, 1.9184, 1.8789, 1.8207, 1.7938, 1.7572, 1.7492, 1.7333, 1.7333, 1.7333, 1.7333, 1.708, 1.708, 1.706, 1.6672, 1.6745, 1.6591, 1.6497, 1.6312, 1.5149, 1.3577, 1.4103, 1.5122, 1.1494, 0.7517, 1.2277, 1.4788, 0.6956, 1.0413, 0.933, 1.3413, 1.343, 0.7797, 0.5529, 0.6836, 1.3738, 0.3223, 0.6744, 0.646, 0.6343, 0.8166, 0.7032, 0.6926, 0.5424, 0.6698, 0.9786, 0.4215, 0.7947, 0.7797, 2.2388, 2.2374, 2.2258, 2.2076, 2.1915, 2.1915, 2.1915, 2.1914, 2.1911, 2.1746, 2.1732, 2.1549, 2.1337, 2.1248, 2.123, 2.1217, 2.1188, 2.1161, 2.1154, 2.0916, 2.0904, 2.0855, 2.0852, 2.0835, 2.0762, 2.0745, 2.0721, 2.0715, 2.068, 2.0669, 2.0047, 1.9636, 1.8304, 1.9461, 1.3146, 1.5544, 1.9, 1.58, 0.928, 0.9724, 0.8458, 0.8674, 0.8806, 1.4639, 1.5096, 0.1675, 0.3286, 1.1447, 0.9616, 0.735, 0.7031, 0.7393, 0.6989, 0.1533, -0.0243, 0.1248, 0.6702, 2.2477, 2.1952, 2.1783, 2.1289, 2.1289, 2.1289, 2.1289, 2.1289, 2.1289, 2.1289, 2.1261, 2.1134, 2.1101, 2.0935, 2.0395, 2.0272, 1.9948, 1.9848, 1.9774, 1.9774, 1.9774, 1.9582, 1.9286, 1.9199, 1.8806, 1.8806, 1.8806, 1.8806, 1.8806, 1.8806, 1.8357, 1.8301, 1.8206, 1.7761, 1.7056, 1.5583, 1.4184, 1.6223, 1.2141, 0.8843, 1.3875, 1.3077, 0.9717, 1.5224, 0.6419, 1.1406, 0.4503, 0.6722, 1.4217, 1.4724, 1.3853, 0.7548, 0.3491, 1.2869, 1.3519, 0.346, 0.2625, 0.6038, -0.0923, 0.2175, -0.2065, 0.9561, 1.1843, 0.1188, 2.3978, 2.315, 2.315, 2.2886, 2.2886, 2.2886, 2.2886, 2.2886, 2.2886, 2.2886, 2.2886, 2.2886, 2.2886, 2.2886, 2.2886, 2.2886, 2.2886, 2.2886, 2.2886, 2.2886, 2.2886, 2.262, 2.2559, 2.2296, 2.2296, 2.2296, 2.2296, 2.2296, 2.2296, 2.2296, 2.1497, 2.0943, 2.0622, 1.9607, 1.5927, 1.6225, 1.569, 1.8944, 1.3059, 1.3025, 0.5886, 0.7375, 1.6578, 1.731, 1.3014, 1.5839, 0.6312, 0.7986, 0.5398, 0.9849, 0.455, 0.161, 1.0841, 1.0298, -0.0387, 0.5241, 0.6158, 0.729, 0.9423, 0.6751, 0.874, 0.0242, -0.3515]}, \"token.table\": {\"Topic\": [3, 8, 1, 2, 3, 4, 6, 7, 8, 10, 4, 6, 1, 2, 5, 9, 10, 6, 1, 4, 1, 2, 4, 5, 7, 8, 3, 6, 7, 8, 3, 5, 7, 8, 10, 7, 8, 1, 2, 10, 8, 1, 6, 7, 8, 1, 9, 2, 3, 4, 6, 10, 2, 3, 1, 5, 7, 8, 1, 2, 5, 7, 8, 1, 3, 6, 7, 10, 6, 1, 2, 6, 2, 3, 4, 5, 10, 10, 5, 1, 1, 2, 1, 2, 3, 4, 5, 6, 7, 8, 1, 2, 3, 6, 8, 10, 6, 9, 1, 3, 7, 9, 10, 2, 4, 7, 8, 10, 6, 5, 4, 4, 3, 2, 2, 3, 4, 5, 6, 7, 8, 9, 10, 1, 2, 3, 4, 5, 6, 2, 2, 6, 7, 9, 1, 2, 5, 6, 7, 8, 9, 10, 3, 1, 1, 2, 3, 5, 7, 8, 9, 10, 8, 2, 7, 10, 6, 8, 2, 3, 4, 5, 6, 7, 10, 7, 6, 5, 6, 4, 9, 1, 2, 3, 4, 5, 6, 8, 9, 10, 1, 1, 3, 4, 6, 7, 8, 9, 7, 6, 4, 7, 2, 3, 4, 6, 7, 5, 5, 1, 4, 5, 6, 7, 8, 1, 2, 3, 4, 6, 7, 8, 9, 10, 1, 2, 3, 6, 7, 10, 6, 7, 1, 2, 4, 5, 7, 10, 1, 8, 2, 3, 4, 5, 6, 7, 9, 4, 3, 1, 2, 3, 4, 5, 6, 7, 8, 9, 10, 4, 5, 8, 1, 2, 3, 4, 5, 6, 7, 9, 3, 9, 3, 2, 1, 7, 1, 4, 9, 10, 10, 10, 7, 7, 1, 2, 3, 4, 5, 6, 7, 8, 9, 1, 9, 1, 2, 3, 4, 5, 8, 9, 1, 4, 5, 6, 7, 8, 9, 2, 5, 2, 3, 1, 4, 5, 7, 8, 1, 2, 3, 5, 6, 7, 10, 2, 7, 7, 1, 2, 3, 4, 5, 6, 7, 8, 9, 10, 1, 2, 3, 4, 5, 6, 7, 8, 10, 5, 8, 1, 2, 3, 4, 6, 8, 9, 10, 2, 6, 7, 9, 7, 6, 7, 9, 4, 4, 1, 1, 2, 3, 4, 5, 6, 7, 8, 9, 8, 8, 8, 3, 6, 7, 10, 8, 2, 3, 8, 9, 10, 1, 4, 10, 1, 2, 3, 4, 5, 6, 7, 9, 5, 6, 1, 8, 4, 4, 8, 3, 8, 3, 7, 6, 7, 4, 8, 2, 1, 3, 7, 8, 10, 2, 2, 6, 9, 10, 5, 8, 2, 4, 1, 2, 3, 6, 9, 1, 2, 3, 5, 6, 7, 10, 6, 2, 5, 9, 1, 1, 2, 9, 4, 2, 4, 5, 1, 3, 4, 5, 6, 7, 8, 10, 4, 5, 8, 10, 9, 10, 1, 6, 7, 9, 2, 8, 10, 10, 7, 6, 8, 9, 2, 3, 3, 5, 1, 2, 3, 6, 7, 8, 9, 10, 2, 2, 6, 6, 1, 2, 3, 7, 8, 9, 1, 3, 4, 6, 8, 5, 8, 3, 1, 3, 4, 5, 6, 7, 1, 2, 3, 4, 6, 7, 8, 9, 10, 2, 3, 5, 6, 8, 1, 2, 4, 7, 8, 9, 10, 10, 1, 2, 3, 4, 5, 6, 7, 8, 9, 10, 1, 2, 3, 5, 10, 1, 2, 3, 4, 5, 7, 9, 10, 1, 2, 6, 1, 2, 3, 5, 6, 7, 9, 2, 10, 1, 2, 3, 4, 7, 8, 9, 6, 7, 7, 4, 5, 9, 10, 6, 4, 2, 6, 9, 2, 4, 1, 3, 4, 8, 1, 2, 3, 6, 7, 10, 1, 2, 3, 4, 5, 6, 7, 8, 9, 9, 2, 3, 4, 6, 7, 8, 2, 3, 5, 6, 7, 9, 10, 4, 5, 6, 3, 9, 2, 3, 4, 5, 6, 7, 8, 1, 2, 10, 1, 2, 9, 1, 4, 5, 8, 9, 1, 2, 3, 5, 6, 7, 9, 10, 1, 4, 9, 7, 9, 1, 2, 5, 8, 2, 3, 4, 1, 2, 3, 4, 5, 6, 7, 8, 9, 10, 8, 9, 7, 6, 6, 1, 2, 3, 5, 7, 9, 5, 6, 7, 1, 4, 6, 7, 9, 1, 2, 7, 1, 2, 3, 4, 5, 6, 7, 9, 10, 5, 2, 3, 4, 5, 7, 9, 10, 1, 2, 3, 4, 5, 6, 7, 8, 9, 10, 9, 3, 9, 9, 8, 5, 1, 2, 3, 4, 5, 6, 7, 8, 9, 10, 1, 2, 4, 6, 7, 1, 2, 4, 5, 6, 7, 10, 1, 2, 8, 3, 1, 2, 1, 2, 3, 4, 5, 6, 8, 2, 1, 1, 2, 3, 4, 5, 6, 7, 9, 1, 2, 5, 6, 10, 10, 1, 6, 1, 1, 2, 3, 4, 8, 9, 10, 6, 4, 4, 1, 3, 4, 5, 6, 7, 8, 9, 10, 1, 2, 3, 4, 5, 6, 7, 10, 9, 1, 2, 3, 4, 5, 5, 2, 3, 4, 7, 10, 2, 3, 1, 2, 3, 5, 6, 7, 8, 1, 2, 3, 4, 5, 6, 7, 7, 1, 2, 3, 4, 6, 7, 9, 10, 1, 2, 3, 4, 5, 7, 8, 9, 3, 4, 5, 6, 7, 3, 1, 2, 3, 5, 6, 7, 10, 2, 3, 4, 6, 1, 2, 3, 6, 7, 10, 1, 2, 4, 5, 6, 7, 8, 9, 10, 7, 5, 1, 4, 5, 8, 9, 2, 3, 5, 9, 1, 3, 4, 6, 9, 1, 2, 4, 6, 8, 9, 2, 2, 4, 5, 6, 7, 9, 3, 5, 8, 1, 2, 4, 5, 6, 9, 1, 2, 3, 6, 7, 8, 9, 10, 1, 2, 3, 4, 5, 10, 1, 4, 6, 7, 10, 2, 5, 10, 1, 6, 9, 1, 4, 5, 8, 5, 2, 4, 10, 2, 6, 7, 10, 1, 2, 3, 4, 5, 6, 7, 8, 10, 1, 4, 5, 7, 2, 3, 4, 5, 6, 7, 8, 10, 10, 1, 5, 6, 7, 10, 2, 9, 2, 1, 2, 3, 4, 5, 6, 8, 9, 1, 6, 6, 1, 5, 1, 2, 3, 4, 5, 6, 7, 8, 9, 10, 2, 7, 7, 8, 5, 4, 3, 3, 2, 7, 9, 9, 5, 2, 4, 6, 1, 10, 2, 5, 6, 1, 2, 3, 4, 6, 7, 9, 1, 4, 9, 10, 2, 5, 10, 10, 3, 4, 6, 7, 8, 10, 2, 3, 1, 3, 7, 1, 3, 5, 9, 8, 10, 3, 5, 7, 3, 6, 3, 6, 3, 1, 5, 10, 2, 4, 5, 6, 8, 1, 3, 4, 5, 6, 8, 9, 10, 6, 1, 9, 10, 6, 1, 5, 9, 2, 3, 6, 8, 1, 2, 4, 5, 7, 8, 9, 1, 3, 5, 1, 3, 5, 6, 8, 6, 3, 4, 6, 3, 3, 5, 2, 8, 9, 1, 2, 8, 9, 2, 3, 5, 6, 7, 9, 10, 4, 6, 8, 9, 4, 1, 2, 3, 10, 2, 1, 3, 4, 5, 6, 7, 8, 9, 1, 3, 4, 7, 9, 10, 4, 1, 9, 10, 3, 4, 6, 9, 8, 6, 7, 8, 9, 5, 5, 7, 9, 10, 5, 9, 1, 2, 3, 4, 6, 1, 2, 4, 5, 7, 8, 9, 10, 10, 2, 2, 4, 5, 7, 2, 3, 4, 6, 7, 8, 1, 2, 3, 4, 6, 7, 8, 9, 10, 9, 1, 5, 6, 2, 3, 4, 5, 6, 7, 8, 9, 10, 4, 5, 8, 9, 3, 3, 8, 4, 1, 4, 8, 10, 1, 1, 5, 3, 7, 3, 1, 3, 5, 1, 2, 3, 5, 7, 8, 9, 1, 4, 5, 6, 7, 9, 1, 2, 3, 5, 6, 7, 8, 9, 9, 1, 3, 5, 6, 7, 8, 10, 8, 6, 2, 3, 4, 7, 8, 1, 2, 1, 3, 4, 6, 4, 2, 3, 4, 5, 6, 10, 6, 9, 10, 1, 2, 4, 10, 1, 8, 8, 2, 9, 5, 1, 2, 3, 4, 5, 6, 7, 9, 10, 6, 1, 10, 5, 5, 9, 7, 10, 8, 3, 7, 2, 4, 5, 6, 7, 7, 10, 3, 5, 4, 8, 1, 6, 9, 2, 3, 5, 6, 10, 3, 4, 5, 1, 2, 5, 6, 9, 10, 1, 3, 4, 6, 7, 8, 9, 2, 1, 2, 3, 4, 5, 6, 7, 8, 9, 10, 1, 2, 4, 6, 2, 10, 9, 1, 4, 7, 1, 2, 4, 5, 8, 9, 10, 6, 4, 4, 10, 2, 4, 5, 7, 9, 2, 5, 8, 10, 2, 3, 4, 5, 6, 7, 8, 9, 10, 7, 1, 2, 3, 4, 5, 6, 7, 8, 9, 10, 5, 10, 8, 10, 1, 2, 3, 4, 5, 6, 7, 8, 9, 10, 10, 7, 1, 2, 3, 4, 5, 6, 9, 10, 7, 2, 3, 4, 7, 8, 1, 3, 4, 5, 6, 8, 9, 10, 3, 6, 1, 3, 4, 5, 7, 8, 9, 5, 6, 10, 4, 5, 1, 2, 4, 5, 6, 7, 1, 3, 4, 8, 9, 10, 1, 10, 1, 2, 3, 4, 5, 6, 7, 8, 9, 10, 1, 2, 3, 4, 5, 6, 8, 9, 10, 1, 5, 7, 10, 2, 3, 5, 6, 8, 10, 3, 7, 7, 3, 1, 2, 3, 4, 6, 7, 8, 1, 2, 3, 10, 3, 4, 9, 1, 2, 3, 4, 5, 6, 7, 8, 9, 10, 2, 5, 10, 1, 5, 7, 10, 1, 6, 2, 1, 2, 3, 4, 5, 6, 7, 9, 10, 3, 5, 6, 7, 8, 9, 2, 1, 3, 4, 5, 7, 8, 9, 1, 3, 4, 8], \"Freq\": [0.8746753063454384, 0.8062601545851981, 0.08881292414937135, 0.1776258482987427, 0.1776258482987427, 0.1776258482987427, 0.08881292414937135, 0.08881292414937135, 0.08881292414937135, 0.1776258482987427, 0.6559898604621567, 0.2186632868207189, 0.28979629971397647, 0.09659876657132549, 0.09659876657132549, 0.19319753314265098, 0.38639506628530196, 0.8754889581551215, 0.21778217011495107, 0.6533465103448532, 0.20572662194770988, 0.06857554064923663, 0.41145324389541976, 0.06857554064923663, 0.13715108129847325, 0.06857554064923663, 0.26407466903802473, 0.39611200355703713, 0.13203733451901237, 0.13203733451901237, 0.12222027950366765, 0.36666083851100295, 0.12222027950366765, 0.12222027950366765, 0.12222027950366765, 0.8835026911115827, 0.8956750534267718, 0.8545981222931215, 0.8636476258254357, 0.46868986233279575, 0.7712602195373881, 0.5162992067042492, 0.2581496033521246, 0.17209973556808306, 0.08604986778404153, 0.33443386310183554, 0.6688677262036711, 0.1892515295437011, 0.09462576477185056, 0.3785030590874022, 0.1892515295437011, 0.09462576477185056, 0.6465932460887165, 0.8746032994106752, 0.4335999224934648, 0.14453330749782162, 0.14453330749782162, 0.14453330749782162, 0.638193047137078, 0.18869660232043198, 0.18869660232043198, 0.18869660232043198, 0.283044903480648, 0.4309847138011617, 0.4309847138011617, 0.44577531432409245, 0.22288765716204623, 0.22288765716204623, 0.8776752803973804, 0.1609031784508095, 0.643612713803238, 0.1609031784508095, 0.3939389748719585, 0.13131299162398616, 0.2626259832479723, 0.13131299162398616, 0.13131299162398616, 0.46869349481822276, 0.7936997313829426, 0.7655369472691194, 0.5108724096525189, 0.25543620482625945, 0.034379186440257496, 0.206275118641545, 0.27503349152205997, 0.206275118641545, 0.13751674576102998, 0.034379186440257496, 0.06875837288051499, 0.06875837288051499, 0.0829374290426358, 0.0829374290426358, 0.1658748580852716, 0.414687145213179, 0.1658748580852716, 0.0829374290426358, 0.6571048021148906, 0.6779704921747322, 0.11333879725471084, 0.11333879725471084, 0.11333879725471084, 0.45335518901884336, 0.11333879725471084, 0.1476701300067526, 0.4430103900202579, 0.1476701300067526, 0.1476701300067526, 0.1476701300067526, 0.8777673648961055, 0.8825900377687983, 0.8770527011045585, 0.8764451012654683, 0.8746271067320784, 0.8636480051552954, 0.05833721497280808, 0.2916860748640404, 0.05833721497280808, 0.05833721497280808, 0.05833721497280808, 0.05833721497280808, 0.11667442994561616, 0.17501164491842425, 0.11667442994561616, 0.18660524753329086, 0.09330262376664543, 0.09330262376664543, 0.09330262376664543, 0.3732104950665817, 0.18660524753329086, 0.863635733107064, 0.6457704068627842, 0.15954431817081516, 0.23931647725622274, 0.558405113597853, 0.4352866392278426, 0.06696717526582194, 0.10045076289873292, 0.06696717526582194, 0.06696717526582194, 0.13393435053164388, 0.10045076289873292, 0.03348358763291097, 0.874623033220909, 0.8545954948680407, 0.08886785693617888, 0.08886785693617888, 0.08886785693617888, 0.3554714277447155, 0.17773571387235776, 0.08886785693617888, 0.08886785693617888, 0.08886785693617888, 0.8957616552513621, 0.22275250687962944, 0.4455050137592589, 0.22275250687962944, 0.6597172083629423, 0.2199057361209808, 0.2767732679960381, 0.06919331699900952, 0.2767732679960381, 0.13838663399801904, 0.13838663399801904, 0.13838663399801904, 0.06919331699900952, 0.6629444425640281, 0.8777602772557112, 0.882587400478327, 0.8777664474866657, 0.8764457045607447, 0.9104129991128462, 0.18684462462524995, 0.23355578078156242, 0.09342231231262497, 0.04671115615631249, 0.09342231231262497, 0.18684462462524995, 0.04671115615631249, 0.09342231231262497, 0.04671115615631249, 0.8545963550902138, 0.12016143400987822, 0.12016143400987822, 0.12016143400987822, 0.12016143400987822, 0.36048430202963466, 0.12016143400987822, 0.12016143400987822, 0.6624396818157103, 0.8777621417290035, 0.8766019376524292, 0.8835269099746275, 0.07690888189457945, 0.23072664568373835, 0.4614532913674767, 0.23072664568373835, 0.7944841977656145, 0.6633940228128947, 0.8829893963306782, 0.38935200471083786, 0.12978400157027928, 0.12978400157027928, 0.12978400157027928, 0.06489200078513964, 0.12978400157027928, 0.13890441519349858, 0.13890441519349858, 0.2083566227902479, 0.06945220759674929, 0.13890441519349858, 0.06945220759674929, 0.06945220759674929, 0.06945220759674929, 0.06945220759674929, 0.12000474898176683, 0.3600142469453005, 0.12000474898176683, 0.12000474898176683, 0.12000474898176683, 0.12000474898176683, 0.8777990378036639, 0.6618677924594331, 0.08216886572198592, 0.4108443286099296, 0.08216886572198592, 0.08216886572198592, 0.16433773144397185, 0.08216886572198592, 0.26584773976161763, 0.7089273060309804, 0.26183120654684905, 0.13091560327342452, 0.06545780163671226, 0.13091560327342452, 0.06545780163671226, 0.3927468098202736, 0.9104073272462797, 0.8763779400370787, 0.4385237714625186, 0.3025705417465177, 0.05042842362441961, 0.10085684724883923, 0.10085684724883923, 0.05042842362441961, 0.05042842362441961, 0.20171369449767845, 0.05042842362441961, 0.10085684724883923, 0.05042842362441961, 0.8764501871951006, 0.22376195230471776, 0.6712858569141532, 0.05960685291273987, 0.11921370582547974, 0.29803426456369936, 0.11921370582547974, 0.11921370582547974, 0.11921370582547974, 0.17882055873821961, 0.05960685291273987, 0.8229487211134658, 0.16458974422269318, 0.8752137236952693, 0.8636360824795343, 0.6382084860843861, 0.8831116627446661, 0.8546595357033675, 0.3929005010788807, 0.19645025053944035, 0.3929005010788807, 0.4686847202002789, 0.46868480123880757, 0.8835176467355073, 0.8835372150650425, 0.13765260321837214, 0.06882630160918607, 0.2753052064367443, 0.06882630160918607, 0.13765260321837214, 0.13765260321837214, 0.06882630160918607, 0.13765260321837214, 0.4545935244359416, 0.3346759129121233, 0.6693518258242466, 0.28901811753319967, 0.14450905876659983, 0.14450905876659983, 0.14450905876659983, 0.07225452938329992, 0.07225452938329992, 0.07225452938329992, 0.18022969367122366, 0.18022969367122366, 0.06007656455707455, 0.06007656455707455, 0.1201531291141491, 0.18022969367122366, 0.1201531291141491, 0.188366693666496, 0.753466774665984, 0.8636483941397545, 0.875637967644544, 0.14651644008650558, 0.14651644008650558, 0.14651644008650558, 0.4395493202595167, 0.14651644008650558, 0.1324240457048348, 0.1324240457048348, 0.1324240457048348, 0.1324240457048348, 0.2648480914096696, 0.0662120228524174, 0.1324240457048348, 0.5191986461586942, 0.2595993230793471, 0.8835132876301097, 0.1165865359621577, 0.1554487146162103, 0.1165865359621577, 0.07772435730810515, 0.1165865359621577, 0.07772435730810515, 0.1165865359621577, 0.1165865359621577, 0.07772435730810515, 0.07772435730810515, 0.04567963833415665, 0.04567963833415665, 0.04567963833415665, 0.2740778300049399, 0.15987873416954826, 0.06851945750123498, 0.2055583725037049, 0.0913592766683133, 0.06851945750123498, 0.19168035913454756, 0.7667214365381902, 0.10186891202589006, 0.20373782405178012, 0.05093445601294503, 0.20373782405178012, 0.05093445601294503, 0.20373782405178012, 0.10186891202589006, 0.05093445601294503, 0.49037572577096217, 0.1634585752569874, 0.1634585752569874, 0.1634585752569874, 0.8835059879440024, 0.2261282695236665, 0.2261282695236665, 0.452256539047333, 0.876452529999988, 0.876359256293315, 0.8546017631461666, 0.059979462362483714, 0.08996919354372558, 0.209928118268693, 0.11995892472496743, 0.17993838708745116, 0.059979462362483714, 0.059979462362483714, 0.059979462362483714, 0.11995892472496743, 0.8074937060763873, 0.8062621113652605, 0.67250860239528, 0.2193476210522065, 0.32902143157830976, 0.32902143157830976, 0.46868730471099307, 0.6724652154384736, 0.14699618667278772, 0.4409885600183631, 0.29399237334557543, 0.14699618667278772, 0.4686814443738713, 0.1970327017597976, 0.1970327017597976, 0.5910981052793928, 0.1014275466711494, 0.2028550933422988, 0.1521413200067241, 0.0507137733355747, 0.1014275466711494, 0.1521413200067241, 0.1014275466711494, 0.2028550933422988, 0.4943260381765688, 0.32955069211771254, 0.8545960086875307, 0.6716631942819589, 0.6583197525830816, 0.2675016847163015, 0.535003369432603, 0.16748135143023085, 0.6699254057209234, 0.22021840709905405, 0.6606552212971621, 0.8777217349720862, 0.4445247685845013, 0.8763725650985569, 0.8077760695151718, 0.8637772856912919, 0.12160640333454262, 0.24321280666908524, 0.3648192100036279, 0.12160640333454262, 0.12160640333454262, 0.8637996643072714, 0.24401811519866287, 0.3660271727979943, 0.12200905759933144, 0.12200905759933144, 0.6634034388700901, 0.8952093249214763, 0.26266157819014924, 0.656653945475373, 0.14587787803502061, 0.07293893901751031, 0.4376336341050618, 0.14587787803502061, 0.14587787803502061, 0.20559332289129273, 0.06853110763043091, 0.27412443052172364, 0.13706221526086182, 0.06853110763043091, 0.20559332289129273, 0.4678846299608256, 0.6597052611807789, 0.8636543749741512, 0.882587855564994, 0.6779707701092401, 0.8545957144184254, 0.5216541503012307, 0.1304135375753077, 0.2608270751506154, 0.8769799052930802, 0.5198101976392022, 0.08663503293986703, 0.2599050988196011, 0.298204561351431, 0.0596409122702862, 0.1192818245405724, 0.1192818245405724, 0.1192818245405724, 0.0596409122702862, 0.1789227368108586, 0.0596409122702862, 0.22730182041419775, 0.3409527306212966, 0.11365091020709887, 0.3409527306212966, 0.6835645982821416, 0.46868474522842407, 0.3254549613867246, 0.4339399485156328, 0.1084849871289082, 0.1084849871289082, 0.2980580415262812, 0.5961160830525624, 0.1490290207631406, 0.4678874572911725, 0.6624350765026382, 0.2992403219672342, 0.2992403219672342, 0.2992403219672342, 0.21724572110085988, 0.6517371633025797, 0.2199722622121423, 0.6599167866364269, 0.07883080618921715, 0.1576616123784343, 0.1576616123784343, 0.1576616123784343, 0.07883080618921715, 0.1576616123784343, 0.1576616123784343, 0.1576616123784343, 0.8636381785393838, 0.3724037349615111, 0.5586056024422666, 0.6574706694494724, 0.19870511505565513, 0.1324700767037701, 0.1324700767037701, 0.1324700767037701, 0.1324700767037701, 0.2649401534075402, 0.1321584738530712, 0.1321584738530712, 0.1321584738530712, 0.2643169477061424, 0.39647542155921356, 0.883016533835164, 0.6733478698937823, 0.8746063727212873, 0.07274604414403817, 0.21823813243211448, 0.29098417657615266, 0.14549208828807633, 0.07274604414403817, 0.14549208828807633, 0.13821117648706857, 0.09214078432471239, 0.04607039216235619, 0.09214078432471239, 0.09214078432471239, 0.09214078432471239, 0.18428156864942477, 0.09214078432471239, 0.13821117648706857, 0.2017039691831109, 0.2017039691831109, 0.2017039691831109, 0.4034079383662218, 0.10085198459155545, 0.05824366191170928, 0.17473098573512783, 0.11648732382341856, 0.2912183095585464, 0.17473098573512783, 0.05824366191170928, 0.17473098573512783, 0.4686840248206053, 0.21970599551910017, 0.05492649887977504, 0.05492649887977504, 0.05492649887977504, 0.16477949663932512, 0.10985299775955008, 0.16477949663932512, 0.05492649887977504, 0.10985299775955008, 0.05492649887977504, 0.26302921225600745, 0.13151460612800372, 0.13151460612800372, 0.3945438183840112, 0.13151460612800372, 0.041488561911985154, 0.24893137147191094, 0.12446568573595547, 0.08297712382397031, 0.12446568573595547, 0.20744280955992578, 0.08297712382397031, 0.12446568573595547, 0.8547784446794771, 0.518269720570701, 0.2591348602853505, 0.06559620809031262, 0.19678862427093785, 0.13119241618062524, 0.2623848323612505, 0.13119241618062524, 0.06559620809031262, 0.06559620809031262, 0.8636428042553829, 0.46868572861456675, 0.28487499346236905, 0.05697499869247381, 0.17092499607742143, 0.11394999738494763, 0.11394999738494763, 0.11394999738494763, 0.11394999738494763, 0.22041925021996484, 0.6612577506598944, 0.7568063423837749, 0.16984931392278876, 0.3396986278455775, 0.3396986278455775, 0.16984931392278876, 0.656316140032377, 0.8764435584470817, 0.5595903813824226, 0.18653012712747416, 0.18653012712747416, 0.5179620646569457, 0.25898103232847286, 0.130962759400282, 0.130962759400282, 0.523851037601128, 0.130962759400282, 0.8546084751823835, 0.11941155736633013, 0.11941155736633013, 0.23882311473266027, 0.47764622946532054, 0.7082526396092157, 0.12316035847297724, 0.164213811297303, 0.04105345282432575, 0.04105345282432575, 0.164213811297303, 0.0821069056486515, 0.164213811297303, 0.20526726412162874, 0.04105345282432575, 0.8226688249875337, 0.0873578391839129, 0.3494313567356516, 0.3494313567356516, 0.0873578391839129, 0.0873578391839129, 0.0873578391839129, 0.17213172177318248, 0.17213172177318248, 0.34426344354636496, 0.11475448118212164, 0.05737724059106082, 0.05737724059106082, 0.05737724059106082, 0.2625392809602591, 0.13126964048012954, 0.5250785619205182, 0.33760449816398197, 0.6752089963279639, 0.17064720706749814, 0.17064720706749814, 0.056882402355832716, 0.056882402355832716, 0.398176816490829, 0.11376480471166543, 0.056882402355832716, 0.2571426113844414, 0.5142852227688828, 0.4678952801909011, 0.18944044141227226, 0.3788808828245445, 0.3788808828245445, 0.11107504242074177, 0.11107504242074177, 0.4443001696829671, 0.11107504242074177, 0.22215008484148355, 0.06988361394674762, 0.13976722789349524, 0.2795344557869905, 0.06988361394674762, 0.13976722789349524, 0.06988361394674762, 0.13976722789349524, 0.06988361394674762, 0.16604557606451897, 0.33209115212903795, 0.33209115212903795, 0.6629453499672499, 0.9102333449270229, 0.5169226322972768, 0.2584613161486384, 0.1292306580743192, 0.2584613161486384, 0.2885624613287501, 0.5771249226575002, 0.8766527198389077, 0.1121124823331506, 0.1121124823331506, 0.0560562411665753, 0.19619684408301355, 0.19619684408301355, 0.08408436174986295, 0.0560562411665753, 0.08408436174986295, 0.0560562411665753, 0.02802812058328765, 0.6733938157018542, 0.9104081717556493, 0.8824039701807778, 0.8777141377589253, 0.8780490161010206, 0.1092766421043861, 0.1092766421043861, 0.4371065684175444, 0.2185532842087722, 0.1092766421043861, 0.1092766421043861, 0.18892555508610928, 0.18892555508610928, 0.5667766652583278, 0.2946353347805094, 0.1473176673902547, 0.1473176673902547, 0.1473176673902547, 0.2946353347805094, 0.854612197587278, 0.8636610061589834, 0.8835162065271261, 0.11063798838137878, 0.05531899419068939, 0.19361647966741286, 0.08297849128603409, 0.027659497095344696, 0.13829748547672346, 0.19361647966741286, 0.08297849128603409, 0.11063798838137878, 0.8825843676360193, 0.09046213734928503, 0.09046213734928503, 0.18092427469857006, 0.09046213734928503, 0.09046213734928503, 0.3618485493971401, 0.09046213734928503, 0.028015667981313535, 0.2521410118318218, 0.22412534385050828, 0.11206267192525414, 0.05603133596262707, 0.11206267192525414, 0.05603133596262707, 0.028015667981313535, 0.05603133596262707, 0.0840470039439406, 0.6779701501528328, 0.874612527018363, 0.4528194084934094, 0.4527174654850612, 0.8072945508776186, 0.6633982861724834, 0.11510458357081958, 0.11510458357081958, 0.05755229178540979, 0.28776145892704896, 0.05755229178540979, 0.05755229178540979, 0.05755229178540979, 0.17265687535622937, 0.05755229178540979, 0.05755229178540979, 0.19229038940542875, 0.14421779205407156, 0.4326533761622147, 0.09614519470271438, 0.14421779205407156, 0.23419846836556346, 0.0780661561218545, 0.156132312243709, 0.0780661561218545, 0.0780661561218545, 0.156132312243709, 0.156132312243709, 0.14581272709802967, 0.29162545419605934, 0.43743818129408896, 0.6546373706106429, 0.6381863169511665, 0.8637783690287043, 0.10052581827532725, 0.10052581827532725, 0.30157745482598175, 0.15078872741299088, 0.10052581827532725, 0.2513145456883181, 0.10052581827532725, 0.863637317758441, 0.6390981140458635, 0.26036143081645025, 0.05207228616329005, 0.15621685848987013, 0.1041445723265801, 0.15621685848987013, 0.1041445723265801, 0.1041445723265801, 0.05207228616329005, 0.3906222838233853, 0.13020742794112844, 0.13020742794112844, 0.2604148558822569, 0.13020742794112844, 0.4678919919852718, 0.5501901154677346, 0.36679341031182305, 0.8546028339146734, 0.07795957609295573, 0.23387872827886716, 0.15591915218591146, 0.15591915218591146, 0.23387872827886716, 0.15591915218591146, 0.07795957609295573, 0.87781953698255, 0.8764451399164828, 0.8764468887411329, 0.11486900316235879, 0.057434501581179395, 0.11486900316235879, 0.057434501581179395, 0.11486900316235879, 0.22973800632471758, 0.1723035047435382, 0.11486900316235879, 0.46868827744040753, 0.15123944238845963, 0.10082629492563976, 0.10082629492563976, 0.25206573731409937, 0.10082629492563976, 0.10082629492563976, 0.10082629492563976, 0.05041314746281988, 0.9103986940919745, 0.185986684586537, 0.0929933422932685, 0.371973369173074, 0.0929933422932685, 0.2789800268798055, 0.6634063807667273, 0.15541984853188842, 0.31083969706377684, 0.31083969706377684, 0.07770992426594421, 0.07770992426594421, 0.8636474782375596, 0.438510112424673, 0.16240695842462308, 0.16240695842462308, 0.24361043763693463, 0.08120347921231154, 0.08120347921231154, 0.16240695842462308, 0.08120347921231154, 0.05953079738376802, 0.11906159476753604, 0.05953079738376802, 0.23812318953507208, 0.23812318953507208, 0.23812318953507208, 0.11906159476753604, 0.8840494779880549, 0.14542601736587005, 0.19390135648782675, 0.14542601736587005, 0.09695067824391337, 0.04847533912195669, 0.24237669560978342, 0.04847533912195669, 0.04847533912195669, 0.24237620763676654, 0.24237620763676654, 0.0484752415273533, 0.0484752415273533, 0.0969504830547066, 0.0969504830547066, 0.1939009661094132, 0.0484752415273533, 0.14650045070624448, 0.14650045070624448, 0.14650045070624448, 0.14650045070624448, 0.4395013521187334, 0.8746217402198905, 0.1631336927962823, 0.40783423199070573, 0.08156684639814114, 0.08156684639814114, 0.08156684639814114, 0.1631336927962823, 0.08156684639814114, 0.8636453360913713, 0.6549686057897598, 0.4376530425819202, 0.4376530425819202, 0.2776721605097281, 0.1586698060055589, 0.07933490300277946, 0.1586698060055589, 0.19833725750694864, 0.11900235450416918, 0.2637116188929197, 0.06592790472322993, 0.06592790472322993, 0.13185580944645986, 0.13185580944645986, 0.13185580944645986, 0.06592790472322993, 0.13185580944645986, 0.06592790472322993, 0.6629480337453476, 0.7956095704159083, 0.2656881798366198, 0.2656881798366198, 0.1328440899183099, 0.1328440899183099, 0.2656881798366198, 0.863641591832874, 0.7852739308300183, 0.8834858872952204, 0.45340467594912304, 0.24008495303145005, 0.24008495303145005, 0.24008495303145005, 0.12004247651572503, 0.24008495303145005, 0.2645441101005631, 0.08818137003352104, 0.08818137003352104, 0.17636274006704208, 0.17636274006704208, 0.2645441101005631, 0.6457793247780035, 0.1013446844623446, 0.1013446844623446, 0.4053787378493784, 0.1013446844623446, 0.2026893689246892, 0.910423817123399, 0.8746173365081336, 0.2683197897904778, 0.5366395795809557, 0.18594038559602602, 0.37188077119205204, 0.18594038559602602, 0.09297019279801301, 0.09297019279801301, 0.09297019279801301, 0.21247189523151438, 0.3187078428472716, 0.07082396507717147, 0.10623594761575719, 0.03541198253858573, 0.03541198253858573, 0.21247189523151438, 0.03541198253858573, 0.3702254114904649, 0.30852117624205405, 0.06170423524841081, 0.06170423524841081, 0.12340847049682162, 0.06170423524841081, 0.20629101415616094, 0.10314550707808047, 0.10314550707808047, 0.30943652123424137, 0.20629101415616094, 0.1738301379217402, 0.1738301379217402, 0.5214904137652207, 0.21856115676769627, 0.43712231353539255, 0.21856115676769627, 0.8546096461112808, 0.5499612701131102, 0.10999225402262205, 0.2199845080452441, 0.661476962423653, 0.19765650865438872, 0.19765650865438872, 0.5929695259631661, 0.16644655991365004, 0.16644655991365004, 0.4993396797409501, 0.16644655991365004, 0.16369949057085328, 0.08184974528542664, 0.2455492358562799, 0.05456649685695109, 0.16369949057085328, 0.05456649685695109, 0.16369949057085328, 0.027283248428475546, 0.027283248428475546, 0.2379568170417977, 0.2379568170417977, 0.4759136340835954, 0.11897840852089885, 0.1897334984435325, 0.126488998962355, 0.126488998962355, 0.0632444994811775, 0.1897334984435325, 0.126488998962355, 0.0632444994811775, 0.126488998962355, 0.46869208966553805, 0.1903885143348189, 0.2855827715022283, 0.09519425716740945, 0.1903885143348189, 0.1903885143348189, 0.33714762009831656, 0.6742952401966331, 0.8637691555477266, 0.10500673646789482, 0.05250336823394741, 0.21001347293578965, 0.10500673646789482, 0.21001347293578965, 0.15751010470184224, 0.10500673646789482, 0.05250336823394741, 0.8546051567305847, 0.8787923379596142, 0.659705532826219, 0.907092006092977, 0.8831610309288076, 0.13811769771262847, 0.27623539542525694, 0.13811769771262847, 0.06905884885631423, 0.13811769771262847, 0.06905884885631423, 0.06905884885631423, 0.06905884885631423, 0.06905884885631423, 0.06905884885631423, 0.8636428547839076, 0.8835111064066143, 0.26826674010451396, 0.5365334802090279, 0.7936880956308926, 0.8764470071429654, 0.8740806963777249, 0.6546290732491867, 0.4364517844854313, 0.4364517844854313, 0.6779711319656091, 0.4528280289203681, 0.7936729498773906, 0.1453397692299009, 0.2906795384598018, 0.4360193076897027, 0.8546054658984503, 0.7045262565650281, 0.8636575451576775, 0.795665594043865, 0.8777518056713628, 0.2750503384138417, 0.06876258460346042, 0.06876258460346042, 0.20628775381038125, 0.06876258460346042, 0.13752516920692084, 0.13752516920692084, 0.1491508299628976, 0.4474524898886928, 0.1491508299628976, 0.1491508299628976, 0.33792303325344347, 0.16896151662672174, 0.33792303325344347, 0.4686883422606311, 0.18016265409346643, 0.12010843606231096, 0.3002710901557774, 0.3002710901557774, 0.06005421803115548, 0.06005421803115548, 0.8636477365016323, 0.874483875206752, 0.2183982374338762, 0.2183982374338762, 0.4367964748677524, 0.29316481671701106, 0.14658240835850553, 0.14658240835850553, 0.29316481671701106, 0.8059255461023217, 0.4677552473149502, 0.22001694491721183, 0.22001694491721183, 0.44003388983442365, 0.32871416153018446, 0.6574283230603689, 0.6546237291535935, 0.2182079097178645, 0.7856359460721135, 0.22873780305099659, 0.22873780305099659, 0.45747560610199317, 0.20215767790959752, 0.10107883895479876, 0.20215767790959752, 0.40431535581919503, 0.10107883895479876, 0.4558235180660227, 0.05697793975825284, 0.05697793975825284, 0.11395587951650568, 0.05697793975825284, 0.11395587951650568, 0.11395587951650568, 0.05697793975825284, 0.6576201898893015, 0.5244230348674317, 0.26221151743371585, 0.13110575871685792, 0.6597036609475195, 0.561888883707219, 0.0936481472845365, 0.374592589138146, 0.4323631572331508, 0.2161815786165754, 0.2161815786165754, 0.8062516679246733, 0.8546102807667609, 0.08297167569134396, 0.24891502707403187, 0.08297167569134396, 0.24891502707403187, 0.16594335138268793, 0.08297167569134396, 0.3265756040898544, 0.1632878020449272, 0.48986340613478163, 0.399351902727514, 0.0998379756818785, 0.0998379756818785, 0.199675951363757, 0.0998379756818785, 0.877749490246921, 0.32750180036101245, 0.4912527005415187, 0.16375090018050623, 0.4380785240436138, 0.5631949171882789, 0.3754632781255193, 0.2251540535172007, 0.2251540535172007, 0.4503081070344014, 0.3594820428555943, 0.11982734761853145, 0.11982734761853145, 0.3594820428555943, 0.14001719343350605, 0.14001719343350605, 0.2800343868670121, 0.14001719343350605, 0.14001719343350605, 0.07000859671675302, 0.14001719343350605, 0.6589692447725048, 0.8777500405854699, 0.8957778973278684, 0.4546640980098299, 0.8763618841359193, 0.4869329414571244, 0.16231098048570813, 0.16231098048570813, 0.16231098048570813, 0.8637873613964746, 0.057281708599086725, 0.1718451257972602, 0.057281708599086725, 0.2864085429954336, 0.11456341719817345, 0.1718451257972602, 0.11456341719817345, 0.6779700422733911, 0.4120826285261511, 0.08241652570523021, 0.08241652570523021, 0.16483305141046042, 0.16483305141046042, 0.08241652570523021, 0.8763706827895421, 0.8545973855265355, 0.45492935210500224, 0.46788468353207935, 0.2393247436147518, 0.3589871154221277, 0.2393247436147518, 0.1196623718073759, 0.8952279581463842, 0.2672455487096609, 0.4008683230644913, 0.13362277435483044, 0.2672455487096609, 0.7936794534571681, 0.20784775101551758, 0.41569550203103517, 0.3117716265232764, 0.10392387550775879, 0.2720816692853865, 0.544163338570773, 0.11823542606091174, 0.23647085212182348, 0.11823542606091174, 0.3547062781827352, 0.23647085212182348, 0.1886477186150743, 0.09432385930753714, 0.3772954372301486, 0.09432385930753714, 0.09432385930753714, 0.09432385930753714, 0.09432385930753714, 0.09432385930753714, 0.46788931993035754, 0.645757195629916, 0.11956413835438266, 0.35869241506314803, 0.35869241506314803, 0.11956413835438266, 0.138017016509326, 0.069008508254663, 0.138017016509326, 0.483059557782641, 0.138017016509326, 0.069008508254663, 0.07573785001581408, 0.07573785001581408, 0.2650824750553493, 0.11360677502372113, 0.18934462503953522, 0.07573785001581408, 0.07573785001581408, 0.11360677502372113, 0.07573785001581408, 0.45282143313350287, 0.5141151879148748, 0.2570575939574374, 0.8777578281180519, 0.10899085149756686, 0.07266056766504458, 0.18165141916261146, 0.03633028383252229, 0.03633028383252229, 0.07266056766504458, 0.21798170299513372, 0.10899085149756686, 0.14532113533008917, 0.8764559934881164, 0.8825812578886643, 0.8952392242761467, 0.6779686581588584, 0.8746186958169853, 0.8746032566688086, 0.6734687197161516, 0.8764687008723447, 0.2936315581786549, 0.44044733726798235, 0.14681577908932744, 0.14681577908932744, 0.8546087253525467, 0.8546025761253904, 0.8825917073999664, 0.8766115684362454, 0.8835141179004159, 0.8744790547838074, 0.8546345287911564, 0.5258051276045134, 0.2629025638022567, 0.15409451582491826, 0.23114177373737738, 0.07704725791245913, 0.07704725791245913, 0.3081890316498365, 0.07704725791245913, 0.07704725791245913, 0.1879098315188052, 0.1879098315188052, 0.28186474727820776, 0.0939549157594026, 0.1879098315188052, 0.0939549157594026, 0.2003389012491192, 0.166949084374266, 0.23372871812397242, 0.0333898168748532, 0.166949084374266, 0.0667796337497064, 0.1001694506245596, 0.0333898168748532, 0.9104106946439471, 0.08355924731221433, 0.16711849462442865, 0.08355924731221433, 0.25067774193664294, 0.16711849462442865, 0.08355924731221433, 0.16711849462442865, 0.8952960112604619, 0.8782044904830786, 0.18919386929868995, 0.18919386929868995, 0.18919386929868995, 0.09459693464934497, 0.3783877385973799, 0.8545972113825182, 0.7735080280074348, 0.11847288151075977, 0.4738915260430391, 0.11847288151075977, 0.23694576302151954, 0.876460620690952, 0.28111503596766824, 0.09370501198922274, 0.09370501198922274, 0.09370501198922274, 0.37482004795689094, 0.09370501198922274, 0.23131942957443033, 0.23131942957443033, 0.46263885914886066, 0.8545960394538566, 0.4373327392957198, 0.2915551595304799, 0.14577757976523995, 0.638207788039016, 0.6735737542629319, 0.8062609496466575, 0.27014011014507694, 0.5402802202901539, 0.7956289001402411, 0.045818603760785934, 0.09163720752157187, 0.09163720752157187, 0.18327441504314373, 0.1374558112823578, 0.1374558112823578, 0.045818603760785934, 0.18327441504314373, 0.09163720752157187, 0.8777579627881125, 0.6381844565782836, 0.4686807130194217, 0.8825937358885068, 0.8825836135081927, 0.9103997296790234, 0.6770963637189639, 0.33854818185948193, 0.6734475509458983, 0.2648039279975964, 0.5296078559951928, 0.13106040789786608, 0.26212081579573215, 0.13106040789786608, 0.3931812236935982, 0.13106040789786608, 0.6757277008928566, 0.3378638504464283, 0.5249733175835749, 0.26248665879178745, 0.2229596445903751, 0.6688789337711253, 0.21964170453925475, 0.4392834090785095, 0.21964170453925475, 0.23187951921581693, 0.15458634614387795, 0.23187951921581693, 0.3091726922877559, 0.07729317307193898, 0.6547807816973197, 0.16369519542432992, 0.16369519542432992, 0.11386703319423665, 0.11386703319423665, 0.2277340663884733, 0.11386703319423665, 0.11386703319423665, 0.34160109958270996, 0.20713929565452072, 0.06904643188484023, 0.27618572753936094, 0.06904643188484023, 0.20713929565452072, 0.06904643188484023, 0.06904643188484023, 0.8636505359638232, 0.1326180041776412, 0.1657725052220515, 0.0331545010444103, 0.0663090020888206, 0.0331545010444103, 0.1657725052220515, 0.09946350313323091, 0.09946350313323091, 0.1657725052220515, 0.0663090020888206, 0.6387475877313739, 0.09124965539019626, 0.18249931078039253, 0.6597044878113764, 0.656568893684235, 0.218856297894745, 0.6847661927362352, 0.6391202197401891, 0.6585386190732011, 0.32926930953660055, 0.17974790911063088, 0.08987395455531544, 0.17974790911063088, 0.17974790911063088, 0.17974790911063088, 0.08987395455531544, 0.2696218636659463, 0.8777453179650809, 0.87708814802128, 0.8763727099366416, 0.4686840013988922, 0.18894344520066345, 0.2834151678009952, 0.09447172260033172, 0.18894344520066345, 0.18894344520066345, 0.33914367452476346, 0.16957183726238173, 0.16957183726238173, 0.33914367452476346, 0.2376054487543682, 0.09504217950174727, 0.04752108975087364, 0.09504217950174727, 0.14256326925262092, 0.14256326925262092, 0.04752108975087364, 0.09504217950174727, 0.09504217950174727, 0.6629463205877733, 0.04551653692069362, 0.04551653692069362, 0.1820661476827745, 0.09103307384138724, 0.06827480538104043, 0.29585748998450856, 0.13654961076208086, 0.06827480538104043, 0.04551653692069362, 0.04551653692069362, 0.8825888389943066, 0.4686975958750399, 0.8953369976414884, 0.46788963714491516, 0.06950271900061429, 0.06950271900061429, 0.13900543800122858, 0.06950271900061429, 0.13900543800122858, 0.13900543800122858, 0.20850815700184286, 0.06950271900061429, 0.13900543800122858, 0.4686892551084649, 0.7045232388409028, 0.4413530084965339, 0.18720895919609234, 0.06240298639869745, 0.18720895919609234, 0.1248059727973949, 0.06240298639869745, 0.31201493199348723, 0.06240298639869745, 0.06240298639869745, 0.6621235744076673, 0.4866703820848109, 0.16222346069493696, 0.16222346069493696, 0.16222346069493696, 0.6720955614467804, 0.511598903214388, 0.05684432257937644, 0.05684432257937644, 0.11368864515875288, 0.05684432257937644, 0.11368864515875288, 0.11368864515875288, 0.05684432257937644, 0.5241140821928356, 0.2620570410964178, 0.15180310543808723, 0.05060103514602908, 0.15180310543808723, 0.2530051757301454, 0.20240414058411632, 0.10120207029205816, 0.05060103514602908, 0.6616980018134714, 0.6737094079082434, 0.3368547039541217, 0.2643186201435413, 0.5286372402870826, 0.08723773743179764, 0.08723773743179764, 0.17447547486359527, 0.17447547486359527, 0.4361886871589882, 0.08723773743179764, 0.26781450295858783, 0.08927150098619595, 0.1785430019723919, 0.08927150098619595, 0.08927150098619595, 0.26781450295858783, 0.8546088228467646, 0.46868484998394455, 0.11976102815647041, 0.11976102815647041, 0.11976102815647041, 0.11976102815647041, 0.03992034271882347, 0.03992034271882347, 0.19960171359411735, 0.03992034271882347, 0.11976102815647041, 0.03992034271882347, 0.14128038424699865, 0.17660048030874834, 0.03532009606174966, 0.24724067243224765, 0.17660048030874834, 0.105960288185249, 0.07064019212349933, 0.03532009606174966, 0.03532009606174966, 0.10158848849760489, 0.7111194194832342, 0.10158848849760489, 0.46868410022158025, 0.08802966634214054, 0.1760593326842811, 0.08802966634214054, 0.44014833171070267, 0.08802966634214054, 0.08802966634214054, 0.26437818008557157, 0.5287563601711431, 0.662428034687888, 0.87461244959197, 0.04658938292021558, 0.23294691460107791, 0.18635753168086233, 0.18635753168086233, 0.09317876584043117, 0.13976814876064675, 0.04658938292021558, 0.11856341358435148, 0.4742536543374059, 0.23712682716870295, 0.11856341358435148, 0.12034789953396624, 0.6017394976698313, 0.24069579906793248, 0.037097533587148554, 0.11129260076144566, 0.07419506717429711, 0.037097533587148554, 0.11129260076144566, 0.037097533587148554, 0.18548766793574278, 0.333877802284337, 0.037097533587148554, 0.07419506717429711, 0.6477630339315124, 0.882585498306984, 0.7044578768475713, 0.3726658755767064, 0.5589988133650595, 0.6770986840970361, 0.33854934204851805, 0.5142921643085806, 0.2571460821542903, 0.8636876750229566, 0.03659719803541241, 0.21958318821247447, 0.18298599017706205, 0.10979159410623723, 0.03659719803541241, 0.21958318821247447, 0.03659719803541241, 0.07319439607082481, 0.07319439607082481, 0.12148979175116635, 0.2429795835023327, 0.12148979175116635, 0.12148979175116635, 0.36446937525349904, 0.12148979175116635, 0.8636565983444835, 0.1595458628187046, 0.0797729314093523, 0.11965939711402844, 0.27920525993273304, 0.19943232852338075, 0.0797729314093523, 0.0797729314093523, 0.13095942105815697, 0.13095942105815697, 0.5238376842326279, 0.13095942105815697], \"Term\": [\"abandon\", \"accessible\", \"across\", \"across\", \"across\", \"across\", \"across\", \"across\", \"across\", \"across\", \"add\", \"add\", \"address\", \"address\", \"address\", \"address\", \"address\", \"adult\", \"agency\", \"agency\", \"aid\", \"aid\", \"aid\", \"aid\", \"aid\", \"aid\", \"air\", \"air\", \"air\", \"air\", \"along\", \"along\", \"along\", \"along\", \"along\", \"alternative\", \"always\", \"ambassador\", \"analyst\", \"anarchist\", \"anna\", \"announce\", \"announce\", \"announce\", \"announce\", \"answer\", \"answer\", \"apartment\", \"apartment\", \"apartment\", \"apartment\", \"apartment\", \"apple\", \"apps\", \"arm\", \"arm\", \"arm\", \"arm\", \"arnold\", \"around\", \"around\", \"around\", \"around\", \"art\", \"art\", \"artillery\", \"artillery\", \"artillery\", \"ashamed\", \"asian\", \"asian\", \"asian\", \"assault\", \"assault\", \"assault\", \"assault\", \"assault\", \"assessment\", \"asset\", \"assistance\", \"associate\", \"associate\", \"attack\", \"attack\", \"attack\", \"attack\", \"attack\", \"attack\", \"attack\", \"attack\", \"authority\", \"authority\", \"authority\", \"authority\", \"authority\", \"authority\", \"authorize\", \"avisan\", \"award\", \"award\", \"award\", \"award\", \"award\", \"bad\", \"bad\", \"bad\", \"bad\", \"bad\", \"balance\", \"baltic\", \"bar\", \"barbara\", \"baseless\", \"bedevil\", \"begin\", \"begin\", \"begin\", \"begin\", \"begin\", \"begin\", \"begin\", \"begin\", \"begin\", \"believe\", \"believe\", \"believe\", \"believe\", \"believe\", \"believe\", \"belonging\", \"benjamin\", \"best\", \"best\", \"best\", \"biden\", \"biden\", \"biden\", \"biden\", \"biden\", \"biden\", \"biden\", \"biden\", \"bioweapon\", \"blue\", \"body\", \"body\", \"body\", \"body\", \"body\", \"body\", \"body\", \"body\", \"bolshevik\", \"bombardment\", \"bombardment\", \"bombardment\", \"booster\", \"booster\", \"border\", \"border\", \"border\", \"border\", \"border\", \"border\", \"border\", \"boris\", \"bowl\", \"bracket\", \"brady\", \"brain\", \"braxton\", \"break\", \"break\", \"break\", \"break\", \"break\", \"break\", \"break\", \"break\", \"break\", \"brings\", \"british\", \"british\", \"british\", \"british\", \"british\", \"british\", \"british\", \"brittney\", \"broader\", \"brutal\", \"bryant\", \"building\", \"building\", \"building\", \"building\", \"bury\", \"buying\", \"cadet\", \"call\", \"call\", \"call\", \"call\", \"call\", \"call\", \"capital\", \"capital\", \"capital\", \"capital\", \"capital\", \"capital\", \"capital\", \"capital\", \"capital\", \"capture\", \"capture\", \"capture\", \"capture\", \"capture\", \"capture\", \"cara\", \"carry\", \"change\", \"change\", \"change\", \"change\", \"change\", \"change\", \"channel\", \"channel\", \"charge\", \"charge\", \"charge\", \"charge\", \"charge\", \"charge\", \"chechen\", \"chernobyl\", \"chief\", \"china\", \"china\", \"china\", \"china\", \"china\", \"china\", \"china\", \"china\", \"china\", \"china\", \"church\", \"citizen\", \"citizen\", \"civilian\", \"civilian\", \"civilian\", \"civilian\", \"civilian\", \"civilian\", \"civilian\", \"civilian\", \"claim\", \"claim\", \"claimed\", \"class\", \"clean\", \"clock\", \"closing\", \"coach\", \"coach\", \"coach\", \"college\", \"collision\", \"colombian\", \"columbus\", \"come\", \"come\", \"come\", \"come\", \"come\", \"come\", \"come\", \"come\", \"comedy\", \"commission\", \"commission\", \"company\", \"company\", \"company\", \"company\", \"company\", \"company\", \"company\", \"congress\", \"congress\", \"congress\", \"congress\", \"congress\", \"congress\", \"congress\", \"connection\", \"connection\", \"contagious\", \"contest\", \"convict\", \"convict\", \"convict\", \"convict\", \"convict\", \"coronavirus\", \"coronavirus\", \"coronavirus\", \"coronavirus\", \"coronavirus\", \"coronavirus\", \"coronavirus\", \"correspondent\", \"correspondent\", \"corrupt\", \"could\", \"could\", \"could\", \"could\", \"could\", \"could\", \"could\", \"could\", \"could\", \"could\", \"country\", \"country\", \"country\", \"country\", \"country\", \"country\", \"country\", \"country\", \"country\", \"coverage\", \"coverage\", \"covid\", \"covid\", \"covid\", \"covid\", \"covid\", \"covid\", \"covid\", \"covid\", \"crime\", \"crime\", \"crime\", \"crime\", \"criticism\", \"criticschoice\", \"criticschoice\", \"criticschoice\", \"dance\", \"daniel\", \"davidson\", \"day\", \"day\", \"day\", \"day\", \"day\", \"day\", \"day\", \"day\", \"day\", \"debt\", \"dedicate\", \"default\", \"defense\", \"defense\", \"defense\", \"delayed\", \"denominate\", \"deny\", \"deny\", \"deny\", \"deny\", \"deripaska\", \"described\", \"described\", \"described\", \"die\", \"die\", \"die\", \"die\", \"die\", \"die\", \"die\", \"die\", \"discus\", \"discus\", \"disinformation\", \"dna\", \"doctor\", \"dollar\", \"dollar\", \"doug\", \"doug\", \"drama\", \"drama\", \"draw\", \"drone\", \"drove\", \"due\", \"dust\", \"economic\", \"economic\", \"economic\", \"economic\", \"economic\", \"eerie\", \"election\", \"election\", \"election\", \"election\", \"elite\", \"embrace\", \"emergency\", \"emergency\", \"employee\", \"employee\", \"employee\", \"employee\", \"employee\", \"end\", \"end\", \"end\", \"end\", \"end\", \"end\", \"endurance\", \"enemy\", \"entenmann\", \"enters\", \"erlanger\", \"escape\", \"estimate\", \"estimate\", \"estimate\", \"ethiopia\", \"europe\", \"europe\", \"europe\", \"even\", \"even\", \"even\", \"even\", \"even\", \"even\", \"even\", \"even\", \"every\", \"every\", \"every\", \"every\", \"evidence\", \"exam\", \"expect\", \"expect\", \"expect\", \"expect\", \"expert\", \"expert\", \"expert\", \"explorer\", \"extend\", \"eye\", \"eye\", \"eye\", \"facebook\", \"facebook\", \"fall\", \"fall\", \"family\", \"family\", \"family\", \"family\", \"family\", \"family\", \"family\", \"family\", \"fast\", \"fatally\", \"fatally\", \"fda\", \"federal\", \"federal\", \"federal\", \"federal\", \"federal\", \"federal\", \"feel\", \"feel\", \"feel\", \"feel\", \"feel\", \"fentanyl\", \"fictionalize\", \"fierce\", \"fight\", \"fight\", \"fight\", \"fight\", \"fight\", \"fight\", \"first\", \"first\", \"first\", \"first\", \"first\", \"first\", \"first\", \"first\", \"first\", \"five\", \"five\", \"five\", \"five\", \"five\", \"flee\", \"flee\", \"flee\", \"flee\", \"flee\", \"flee\", \"flee\", \"flyer\", \"follow\", \"follow\", \"follow\", \"follow\", \"follow\", \"follow\", \"follow\", \"follow\", \"follow\", \"follow\", \"food\", \"food\", \"food\", \"food\", \"food\", \"force\", \"force\", \"force\", \"force\", \"force\", \"force\", \"force\", \"force\", \"founder\", \"fox\", \"fox\", \"friday\", \"friday\", \"friday\", \"friday\", \"friday\", \"friday\", \"friday\", \"giant\", \"golf\", \"government\", \"government\", \"government\", \"government\", \"government\", \"government\", \"government\", \"grand\", \"grand\", \"griner\", \"group\", \"group\", \"group\", \"group\", \"gunman\", \"gustern\", \"hall\", \"hall\", \"hall\", \"hate\", \"hate\", \"head\", \"head\", \"head\", \"head\", \"heat\", \"heavy\", \"heavy\", \"heavy\", \"heavy\", \"heckle\", \"help\", \"help\", \"help\", \"help\", \"help\", \"help\", \"help\", \"help\", \"help\", \"highly\", \"hit\", \"hit\", \"hit\", \"hit\", \"hit\", \"hit\", \"home\", \"home\", \"home\", \"home\", \"home\", \"home\", \"home\", \"homeless\", \"homeless\", \"homeless\", \"host\", \"host\", \"house\", \"house\", \"house\", \"house\", \"house\", \"house\", \"house\", \"hurt\", \"hurt\", \"iciest\", \"idea\", \"idea\", \"idea\", \"impose\", \"impose\", \"impose\", \"impose\", \"impose\", \"include\", \"include\", \"include\", \"include\", \"include\", \"include\", \"include\", \"include\", \"increase\", \"increase\", \"increase\", \"indict\", \"individual\", \"inflation\", \"inflation\", \"inflation\", \"inflation\", \"injured\", \"injured\", \"integral\", \"invasion\", \"invasion\", \"invasion\", \"invasion\", \"invasion\", \"invasion\", \"invasion\", \"invasion\", \"invasion\", \"invasion\", \"invent\", \"irving\", \"israel\", \"jackson\", \"japanese\", \"journalist\", \"journalist\", \"journalist\", \"journalist\", \"journalist\", \"journalist\", \"jury\", \"jury\", \"jury\", \"keep\", \"keep\", \"keep\", \"keep\", \"keep\", \"kgb\", \"kherson\", \"khia\", \"kill\", \"kill\", \"kill\", \"kill\", \"kill\", \"kill\", \"kill\", \"kill\", \"kill\", \"kim\", \"know\", \"know\", \"know\", \"know\", \"know\", \"know\", \"know\", \"kyiv\", \"kyiv\", \"kyiv\", \"kyiv\", \"kyiv\", \"kyiv\", \"kyiv\", \"kyiv\", \"kyiv\", \"kyiv\", \"kyrie\", \"lab\", \"label\", \"labor\", \"lake\", \"land\", \"large\", \"large\", \"large\", \"large\", \"large\", \"large\", \"large\", \"large\", \"large\", \"large\", \"last\", \"last\", \"last\", \"last\", \"last\", \"late\", \"late\", \"late\", \"late\", \"late\", \"late\", \"late\", \"launch\", \"launch\", \"launch\", \"lavish\", \"lay\", \"layer\", \"least\", \"least\", \"least\", \"least\", \"least\", \"least\", \"least\", \"legislation\", \"lesson\", \"live\", \"live\", \"live\", \"live\", \"live\", \"live\", \"live\", \"live\", \"local\", \"local\", \"local\", \"local\", \"local\", \"location\", \"longer\", \"longer\", \"longtime\", \"look\", \"look\", \"look\", \"look\", \"look\", \"look\", \"look\", \"los\", \"lysov\", \"maier\", \"make\", \"make\", \"make\", \"make\", \"make\", \"make\", \"make\", \"make\", \"mansion\", \"many\", \"many\", \"many\", \"many\", \"many\", \"many\", \"many\", \"many\", \"mare\", \"mariupol\", \"mariupol\", \"mariupol\", \"mariupol\", \"mariupol\", \"masterworks\", \"mayor\", \"mayor\", \"mayor\", \"mayor\", \"mayor\", \"mcdonald\", \"meadow\", \"medium\", \"medium\", \"medium\", \"medium\", \"medium\", \"medium\", \"medium\", \"men\", \"men\", \"men\", \"men\", \"men\", \"men\", \"men\", \"mid\", \"military\", \"military\", \"military\", \"military\", \"military\", \"military\", \"military\", \"military\", \"million\", \"million\", \"million\", \"million\", \"million\", \"million\", \"million\", \"million\", \"minister\", \"minister\", \"minister\", \"minister\", \"minister\", \"mischaracterized\", \"missile\", \"missile\", \"missile\", \"missile\", \"missile\", \"missile\", \"missile\", \"misstep\", \"modern\", \"moderna\", \"moderna\", \"monday\", \"monday\", \"monday\", \"monday\", \"monday\", \"monday\", \"month\", \"month\", \"month\", \"month\", \"month\", \"month\", \"month\", \"month\", \"month\", \"moreno\", \"morgue\", \"move\", \"move\", \"move\", \"move\", \"move\", \"murdoch\", \"museum\", \"mykolaiv\", \"mystery\", \"nation\", \"nation\", \"nation\", \"nation\", \"nation\", \"national\", \"national\", \"national\", \"national\", \"national\", \"national\", \"nationwide\", \"nato\", \"nato\", \"nato\", \"nato\", \"nato\", \"nba\", \"neighborhood\", \"netflix\", \"netflix\", \"network\", \"network\", \"network\", \"network\", \"network\", \"network\", \"news\", \"news\", \"news\", \"news\", \"news\", \"news\", \"news\", \"news\", \"next\", \"next\", \"next\", \"next\", \"next\", \"next\", \"night\", \"night\", \"night\", \"night\", \"night\", \"nine\", \"nine\", \"nine\", \"nominee\", \"nominee\", \"nominee\", \"norway\", \"nuclear\", \"nuclear\", \"nuclear\", \"nytimesevents\", \"occupy\", \"occupy\", \"occupy\", \"officer\", \"officer\", \"officer\", \"officer\", \"official\", \"official\", \"official\", \"official\", \"official\", \"official\", \"official\", \"official\", \"official\", \"oil\", \"oil\", \"oil\", \"oil\", \"old\", \"old\", \"old\", \"old\", \"old\", \"old\", \"old\", \"old\", \"oleg\", \"oligarch\", \"oligarch\", \"oligarch\", \"oligarch\", \"oligarch\", \"omicron\", \"omicron\", \"ominous\", \"opinion\", \"opinion\", \"opinion\", \"opinion\", \"opinion\", \"opinion\", \"opinion\", \"opinion\", \"origin\", \"outdoors\", \"overseas\", \"own\", \"pakistan\", \"pandemic\", \"pandemic\", \"pandemic\", \"pandemic\", \"pandemic\", \"pandemic\", \"pandemic\", \"pandemic\", \"pandemic\", \"pandemic\", \"pass\", \"pathway\", \"payment\", \"payment\", \"pekingmike\", \"penalize\", \"pennsylvania\", \"perk\", \"permanent\", \"permanent\", \"pero\", \"personalize\", \"petersgoodman\", \"pfizer\", \"pfizer\", \"pfizer\", \"phone\", \"pickup\", \"pierre\", \"pile\", \"pizza\", \"plan\", \"plan\", \"plan\", \"plan\", \"plan\", \"plan\", \"plan\", \"plant\", \"plant\", \"plant\", \"plant\", \"player\", \"player\", \"player\", \"pledge\", \"police\", \"police\", \"police\", \"police\", \"police\", \"police\", \"politics\", \"populist\", \"position\", \"position\", \"position\", \"post\", \"post\", \"post\", \"post\", \"potato\", \"previous\", \"prime\", \"prime\", \"prime\", \"prison\", \"prison\", \"progress\", \"progress\", \"prominent\", \"protester\", \"protester\", \"protester\", \"public\", \"public\", \"public\", \"public\", \"public\", \"putin\", \"putin\", \"putin\", \"putin\", \"putin\", \"putin\", \"putin\", \"putin\", \"quarterback\", \"raise\", \"raise\", \"raise\", \"random\", \"rate\", \"rate\", \"rate\", \"reach\", \"reach\", \"reach\", \"reader\", \"refuel\", \"refugee\", \"refugee\", \"refugee\", \"refugee\", \"refugee\", \"refugee\", \"refuse\", \"refuse\", \"refuse\", \"republican\", \"republican\", \"republican\", \"republican\", \"republican\", \"request\", \"rescue\", \"rescue\", \"rescue\", \"rescuer\", \"research\", \"research\", \"researcher\", \"researcher\", \"researcher\", \"reserve\", \"reserve\", \"reserve\", \"reserve\", \"resident\", \"resident\", \"resident\", \"resident\", \"resident\", \"resident\", \"resident\", \"respite\", \"retirement\", \"revolution\", \"richard\", \"rodrigues\", \"run\", \"run\", \"run\", \"run\", \"sahara\", \"sanction\", \"sanction\", \"sanction\", \"sanction\", \"sanction\", \"sanction\", \"sanction\", \"sanger\", \"saturday\", \"saturday\", \"saturday\", \"saturday\", \"saturday\", \"saturday\", \"saw\", \"schwarzenegger\", \"scoop\", \"sea\", \"second\", \"second\", \"second\", \"second\", \"seem\", \"sentence\", \"sentence\", \"sentence\", \"sentence\", \"senwhitehouse\", \"series\", \"series\", \"series\", \"series\", \"serve\", \"serve\", \"service\", \"service\", \"service\", \"service\", \"service\", \"set\", \"set\", \"set\", \"set\", \"set\", \"set\", \"set\", \"set\", \"shackleton\", \"sharp\", \"shell\", \"shell\", \"shell\", \"shell\", \"shot\", \"shot\", \"shot\", \"shot\", \"shot\", \"shot\", \"show\", \"show\", \"show\", \"show\", \"show\", \"show\", \"show\", \"show\", \"show\", \"showcased\", \"siege\", \"siege\", \"significantly\", \"since\", \"since\", \"since\", \"since\", \"since\", \"since\", \"since\", \"since\", \"since\", \"sing\", \"small\", \"snapshot\", \"soar\", \"software\", \"solution\", \"sorokin\", \"sought\", \"south\", \"south\", \"south\", \"south\", \"space\", \"spaceflight\", \"spent\", \"spokeswoman\", \"sponsor\", \"stabbed\", \"stadium\", \"staff\", \"staff\", \"star\", \"star\", \"star\", \"star\", \"star\", \"star\", \"star\", \"start\", \"start\", \"start\", \"start\", \"start\", \"start\", \"state\", \"state\", \"state\", \"state\", \"state\", \"state\", \"state\", \"state\", \"steven\", \"still\", \"still\", \"still\", \"still\", \"still\", \"still\", \"still\", \"stimulus\", \"stone\", \"story\", \"story\", \"story\", \"story\", \"story\", \"strand\", \"strategic\", \"street\", \"street\", \"street\", \"street\", \"strength\", \"strike\", \"strike\", \"strike\", \"strike\", \"strike\", \"strike\", \"struck\", \"struck\", \"struck\", \"strzhalkovsky\", \"student\", \"student\", \"student\", \"study\", \"subject\", \"subscribe\", \"subvariant\", \"subvariant\", \"succumb\", \"sunday\", \"sunday\", \"sunday\", \"sunday\", \"sunday\", \"sunday\", \"sunday\", \"sunday\", \"sunday\", \"super\", \"superyacht\", \"superyachts\", \"suppose\", \"surrender\", \"sus\", \"sustain\", \"sustain\", \"swindler\", \"system\", \"system\", \"target\", \"target\", \"target\", \"target\", \"target\", \"tax\", \"tax\", \"teacher\", \"teacher\", \"telegram\", \"telegram\", \"television\", \"television\", \"television\", \"test\", \"test\", \"test\", \"test\", \"test\", \"theater\", \"theater\", \"theater\", \"thousand\", \"thousand\", \"thousand\", \"thousand\", \"thousand\", \"thousand\", \"thursday\", \"thursday\", \"thursday\", \"thursday\", \"thursday\", \"thursday\", \"thursday\", \"tie\", \"time\", \"time\", \"time\", \"time\", \"time\", \"time\", \"time\", \"time\", \"time\", \"time\", \"top\", \"top\", \"top\", \"trait\", \"transition\", \"transition\", \"transmissible\", \"trap\", \"traumatic\", \"traumatic\", \"travel\", \"travel\", \"travel\", \"travel\", \"travel\", \"travel\", \"travel\", \"traveler\", \"treacherous\", \"treasure\", \"tree\", \"troop\", \"troop\", \"troop\", \"troop\", \"troop\", \"truck\", \"truck\", \"truck\", \"truck\", \"tuesday\", \"tuesday\", \"tuesday\", \"tuesday\", \"tuesday\", \"tuesday\", \"tuesday\", \"tuesday\", \"tuesday\", \"turkish\", \"two\", \"two\", \"two\", \"two\", \"two\", \"two\", \"two\", \"two\", \"two\", \"two\", \"unfold\", \"unit\", \"unleashed\", \"unreachable\", \"update\", \"update\", \"update\", \"update\", \"update\", \"update\", \"update\", \"update\", \"update\", \"uploaded\", \"van\", \"vasyl\", \"video\", \"video\", \"video\", \"video\", \"video\", \"video\", \"video\", \"video\", \"village\", \"violence\", \"violence\", \"violence\", \"violence\", \"visa\", \"vladimir\", \"vladimir\", \"vladimir\", \"vladimir\", \"vladimir\", \"vladimir\", \"vladimir\", \"vladimir\", \"voice\", \"voice\", \"volodymyr\", \"volodymyr\", \"volodymyr\", \"volodymyr\", \"volodymyr\", \"volodymyr\", \"volodymyr\", \"volunteer\", \"voter\", \"voter\", \"wartime\", \"wartime\", \"washington\", \"washington\", \"washington\", \"washington\", \"washington\", \"washington\", \"watch\", \"watch\", \"watch\", \"watch\", \"watch\", \"watch\", \"weather\", \"website\", \"wednesday\", \"wednesday\", \"wednesday\", \"wednesday\", \"wednesday\", \"wednesday\", \"wednesday\", \"wednesday\", \"wednesday\", \"wednesday\", \"week\", \"week\", \"week\", \"week\", \"week\", \"week\", \"week\", \"week\", \"week\", \"west\", \"west\", \"west\", \"wheel\", \"white\", \"white\", \"white\", \"white\", \"white\", \"white\", \"widespread\", \"widespread\", \"wnba\", \"woetzel\", \"woman\", \"woman\", \"woman\", \"woman\", \"woman\", \"woman\", \"woman\", \"work\", \"work\", \"work\", \"work\", \"worker\", \"worker\", \"worker\", \"world\", \"world\", \"world\", \"world\", \"world\", \"world\", \"world\", \"world\", \"world\", \"world\", \"worried\", \"worry\", \"wreck\", \"yacht\", \"yacht\", \"yankee\", \"yankee\", \"yell\", \"yell\", \"yonkers\", \"york\", \"york\", \"york\", \"york\", \"york\", \"york\", \"york\", \"york\", \"york\", \"young\", \"young\", \"young\", \"young\", \"young\", \"young\", \"zakrzewski\", \"zelensky\", \"zelensky\", \"zelensky\", \"zelensky\", \"zelensky\", \"zelensky\", \"zelensky\", \"zone\", \"zone\", \"zone\", \"zone\"]}, \"R\": 30, \"lambda.step\": 0.01, \"plot.opts\": {\"xlab\": \"PC1\", \"ylab\": \"PC2\"}, \"topic.order\": [10, 8, 3, 2, 9, 1, 5, 6, 4, 7]};\n",
       "\n",
       "function LDAvis_load_lib(url, callback){\n",
       "  var s = document.createElement('script');\n",
       "  s.src = url;\n",
       "  s.async = true;\n",
       "  s.onreadystatechange = s.onload = callback;\n",
       "  s.onerror = function(){console.warn(\"failed to load library \" + url);};\n",
       "  document.getElementsByTagName(\"head\")[0].appendChild(s);\n",
       "}\n",
       "\n",
       "if(typeof(LDAvis) !== \"undefined\"){\n",
       "   // already loaded: just create the visualization\n",
       "   !function(LDAvis){\n",
       "       new LDAvis(\"#\" + \"ldavis_el1550014995365644006300747872\", ldavis_el1550014995365644006300747872_data);\n",
       "   }(LDAvis);\n",
       "}else if(typeof define === \"function\" && define.amd){\n",
       "   // require.js is available: use it to load d3/LDAvis\n",
       "   require.config({paths: {d3: \"https://d3js.org/d3.v5\"}});\n",
       "   require([\"d3\"], function(d3){\n",
       "      window.d3 = d3;\n",
       "      LDAvis_load_lib(\"https://cdn.jsdelivr.net/gh/bmabey/pyLDAvis@3.3.1/pyLDAvis/js/ldavis.v3.0.0.js\", function(){\n",
       "        new LDAvis(\"#\" + \"ldavis_el1550014995365644006300747872\", ldavis_el1550014995365644006300747872_data);\n",
       "      });\n",
       "    });\n",
       "}else{\n",
       "    // require.js not available: dynamically load d3 & LDAvis\n",
       "    LDAvis_load_lib(\"https://d3js.org/d3.v5.js\", function(){\n",
       "         LDAvis_load_lib(\"https://cdn.jsdelivr.net/gh/bmabey/pyLDAvis@3.3.1/pyLDAvis/js/ldavis.v3.0.0.js\", function(){\n",
       "                 new LDAvis(\"#\" + \"ldavis_el1550014995365644006300747872\", ldavis_el1550014995365644006300747872_data);\n",
       "            })\n",
       "         });\n",
       "}\n",
       "</script>"
      ],
      "text/plain": [
       "<IPython.core.display.HTML object>"
      ]
     },
     "execution_count": 56,
     "metadata": {},
     "output_type": "execute_result"
    }
   ],
   "source": [
    "pyLDAvis.enable_notebook()\n",
    "vis = gensimvis.prepare(topic_model=lda_model2, corpus=corpus2, dictionary=dictionary_LDA2)\n",
    "pyLDAvis.display(vis)"
   ]
  },
  {
   "cell_type": "markdown",
   "id": "1e4e2bc3-f881-46d7-bdf2-9e791d9c627c",
   "metadata": {},
   "source": [
    "The graph above suggests that there are 4 topics, let's try doing six topics and decide whether they make sense"
   ]
  },
  {
   "cell_type": "code",
   "execution_count": 57,
   "id": "a1f0ac1d-2de3-4771-8a3c-7c13ceb04703",
   "metadata": {
    "tags": []
   },
   "outputs": [
    {
     "name": "stdout",
     "output_type": "stream",
     "text": [
      "0: 0.005*\"two\" + 0.005*\"invasion\" + 0.004*\"biden\" + 0.004*\"house\" + 0.004*\"state\" + 0.004*\"even\" + 0.003*\"zelensky\" + 0.003*\"news\" + 0.003*\"covid\" + 0.003*\"woman\" + 0.003*\"official\" + 0.003*\"show\" + 0.003*\"sanction\" + 0.003*\"country\" + 0.003*\"time\" + 0.003*\"sunday\" + 0.003*\"kill\" + 0.003*\"home\" + 0.003*\"volodymyr\" + 0.003*\"monday\"\n",
      "\n",
      "1: 0.008*\"country\" + 0.005*\"last\" + 0.005*\"invasion\" + 0.005*\"many\" + 0.004*\"york\" + 0.004*\"week\" + 0.004*\"since\" + 0.004*\"aid\" + 0.004*\"two\" + 0.004*\"american\" + 0.004*\"biden\" + 0.004*\"china\" + 0.003*\"men\" + 0.003*\"help\" + 0.003*\"call\" + 0.003*\"kill\" + 0.003*\"police\" + 0.003*\"washington\" + 0.003*\"least\" + 0.003*\"zelensky\"\n",
      "\n",
      "2: 0.007*\"kyiv\" + 0.006*\"official\" + 0.006*\"kill\" + 0.006*\"attack\" + 0.005*\"day\" + 0.005*\"two\" + 0.004*\"could\" + 0.004*\"wednesday\" + 0.003*\"force\" + 0.003*\"world\" + 0.003*\"military\" + 0.003*\"monday\" + 0.003*\"civilian\" + 0.003*\"government\" + 0.003*\"vladimir\" + 0.003*\"state\" + 0.003*\"mariupol\" + 0.003*\"begin\" + 0.003*\"least\" + 0.003*\"news\"\n",
      "\n",
      "3: 0.005*\"time\" + 0.004*\"rate\" + 0.004*\"best\" + 0.004*\"day\" + 0.004*\"federal\" + 0.003*\"first\" + 0.003*\"country\" + 0.003*\"force\" + 0.003*\"interest\" + 0.003*\"biden\" + 0.003*\"invasion\" + 0.003*\"news\" + 0.003*\"world\" + 0.003*\"million\" + 0.003*\"national\" + 0.003*\"begin\" + 0.003*\"award\" + 0.003*\"reserve\" + 0.003*\"two\" + 0.003*\"refugee\"\n",
      "\n"
     ]
    }
   ],
   "source": [
    "num_topics = 4\n",
    "lda_model2 = models.LdaModel(corpus2, num_topics=num_topics,\n",
    "                            random_state=100,\n",
    "                            id2word=dictionary_LDA2, \n",
    "                            passes=4)\n",
    "for i,topic in lda_model2.show_topics(formatted=True, num_topics=num_topics, num_words=20):\n",
    "    print(str(i)+\": \"+ topic + \"\\n\")"
   ]
  },
  {
   "cell_type": "markdown",
   "id": "9d8a6710-b47c-4d41-9592-817c2053f885",
   "metadata": {
    "tags": []
   },
   "source": [
    "Let's try to sum up the topics:\n",
    "1. Russian-Ukrainian conflict effect on US\n",
    "2. US external relations\n",
    "3. Russian-Ukrainian conflict\n",
    "4. US economy\n",
    "\n",
    "Overall, we can conclude that there are no obvious differences in outlets based on their most frequent topics. \n",
    "\n",
    "----"
   ]
  },
  {
   "cell_type": "markdown",
   "id": "942df441-3f67-49f5-a44c-90a7aa4e8951",
   "metadata": {},
   "source": [
    "## Tweet Sentiment - Outlet Relationship\n",
    "\n",
    "Let's see whether there is any relationship between the sentiment of the tweet and the outlet. We can start from creating a sentiment score for all tweets and checking whether there is any correlation between outlet and polarity/sentiment scores"
   ]
  },
  {
   "cell_type": "code",
   "execution_count": 58,
   "id": "5b707b97-d463-43e5-b2d1-ccb25bd04f34",
   "metadata": {},
   "outputs": [],
   "source": [
    "# creating separate dataframe with only currently necessary columns \n",
    "df_sentim = df[['text','created_at','is_nyt']].copy()"
   ]
  },
  {
   "cell_type": "code",
   "execution_count": 59,
   "id": "147a4dea-2fa5-426a-bd0d-2b4bfbbdb065",
   "metadata": {},
   "outputs": [
    {
     "data": {
      "text/html": [
       "<div>\n",
       "<style scoped>\n",
       "    .dataframe tbody tr th:only-of-type {\n",
       "        vertical-align: middle;\n",
       "    }\n",
       "\n",
       "    .dataframe tbody tr th {\n",
       "        vertical-align: top;\n",
       "    }\n",
       "\n",
       "    .dataframe thead th {\n",
       "        text-align: right;\n",
       "    }\n",
       "</style>\n",
       "<table border=\"1\" class=\"dataframe\">\n",
       "  <thead>\n",
       "    <tr style=\"text-align: right;\">\n",
       "      <th></th>\n",
       "      <th>text</th>\n",
       "      <th>created_at</th>\n",
       "      <th>is_nyt</th>\n",
       "      <th>polarity_score</th>\n",
       "      <th>sentiment</th>\n",
       "    </tr>\n",
       "  </thead>\n",
       "  <tbody>\n",
       "    <tr>\n",
       "      <th>0</th>\n",
       "      <td>FLASHBACK: Ex-intel officials claimed the Hunt...</td>\n",
       "      <td>2022-03-18 15:50:00+00:00</td>\n",
       "      <td>0</td>\n",
       "      <td>0.0000</td>\n",
       "      <td>Neutral</td>\n",
       "    </tr>\n",
       "    <tr>\n",
       "      <th>1</th>\n",
       "      <td>Biden must do more to counter Putin's propagan...</td>\n",
       "      <td>2022-03-18 15:45:00+00:00</td>\n",
       "      <td>0</td>\n",
       "      <td>-0.2500</td>\n",
       "      <td>Negative</td>\n",
       "    </tr>\n",
       "    <tr>\n",
       "      <th>2</th>\n",
       "      <td>NASCAR: What to expect from Atlanta's super ne...</td>\n",
       "      <td>2022-03-18 15:40:00+00:00</td>\n",
       "      <td>0</td>\n",
       "      <td>0.5994</td>\n",
       "      <td>Positive</td>\n",
       "    </tr>\n",
       "    <tr>\n",
       "      <th>3</th>\n",
       "      <td>BREAKING: Biden, Xi discuss Russia's war again...</td>\n",
       "      <td>2022-03-18 15:34:43+00:00</td>\n",
       "      <td>0</td>\n",
       "      <td>-0.5994</td>\n",
       "      <td>Negative</td>\n",
       "    </tr>\n",
       "    <tr>\n",
       "      <th>4</th>\n",
       "      <td>Transgender swimmer's NCAA championship win 'j...</td>\n",
       "      <td>2022-03-18 15:30:00+00:00</td>\n",
       "      <td>0</td>\n",
       "      <td>0.7717</td>\n",
       "      <td>Positive</td>\n",
       "    </tr>\n",
       "    <tr>\n",
       "      <th>...</th>\n",
       "      <td>...</td>\n",
       "      <td>...</td>\n",
       "      <td>...</td>\n",
       "      <td>...</td>\n",
       "      <td>...</td>\n",
       "    </tr>\n",
       "    <tr>\n",
       "      <th>1947</th>\n",
       "      <td>Kyrylo Lysov, 22, and his girlfriend Yelyzavet...</td>\n",
       "      <td>2022-03-11 16:40:18+00:00</td>\n",
       "      <td>1</td>\n",
       "      <td>-0.1779</td>\n",
       "      <td>Negative</td>\n",
       "    </tr>\n",
       "    <tr>\n",
       "      <th>1948</th>\n",
       "      <td>Our journalists are looking into how companies...</td>\n",
       "      <td>2022-03-11 16:30:12+00:00</td>\n",
       "      <td>1</td>\n",
       "      <td>0.0772</td>\n",
       "      <td>Positive</td>\n",
       "    </tr>\n",
       "    <tr>\n",
       "      <th>1949</th>\n",
       "      <td>Breaking News: Alec Baldwin gave his most deta...</td>\n",
       "      <td>2022-03-11 16:18:19+00:00</td>\n",
       "      <td>1</td>\n",
       "      <td>-0.6486</td>\n",
       "      <td>Negative</td>\n",
       "    </tr>\n",
       "    <tr>\n",
       "      <th>1950</th>\n",
       "      <td>A shipwreck from 1891 has been discovered in L...</td>\n",
       "      <td>2022-03-11 16:10:04+00:00</td>\n",
       "      <td>1</td>\n",
       "      <td>0.2960</td>\n",
       "      <td>Positive</td>\n",
       "    </tr>\n",
       "    <tr>\n",
       "      <th>1951</th>\n",
       "      <td>Breaking News: President Biden called for susp...</td>\n",
       "      <td>2022-03-11 15:58:09+00:00</td>\n",
       "      <td>1</td>\n",
       "      <td>0.0000</td>\n",
       "      <td>Neutral</td>\n",
       "    </tr>\n",
       "  </tbody>\n",
       "</table>\n",
       "<p>1952 rows × 5 columns</p>\n",
       "</div>"
      ],
      "text/plain": [
       "                                                   text  \\\n",
       "0     FLASHBACK: Ex-intel officials claimed the Hunt...   \n",
       "1     Biden must do more to counter Putin's propagan...   \n",
       "2     NASCAR: What to expect from Atlanta's super ne...   \n",
       "3     BREAKING: Biden, Xi discuss Russia's war again...   \n",
       "4     Transgender swimmer's NCAA championship win 'j...   \n",
       "...                                                 ...   \n",
       "1947  Kyrylo Lysov, 22, and his girlfriend Yelyzavet...   \n",
       "1948  Our journalists are looking into how companies...   \n",
       "1949  Breaking News: Alec Baldwin gave his most deta...   \n",
       "1950  A shipwreck from 1891 has been discovered in L...   \n",
       "1951  Breaking News: President Biden called for susp...   \n",
       "\n",
       "                     created_at  is_nyt  polarity_score sentiment  \n",
       "0     2022-03-18 15:50:00+00:00       0          0.0000   Neutral  \n",
       "1     2022-03-18 15:45:00+00:00       0         -0.2500  Negative  \n",
       "2     2022-03-18 15:40:00+00:00       0          0.5994  Positive  \n",
       "3     2022-03-18 15:34:43+00:00       0         -0.5994  Negative  \n",
       "4     2022-03-18 15:30:00+00:00       0          0.7717  Positive  \n",
       "...                         ...     ...             ...       ...  \n",
       "1947  2022-03-11 16:40:18+00:00       1         -0.1779  Negative  \n",
       "1948  2022-03-11 16:30:12+00:00       1          0.0772  Positive  \n",
       "1949  2022-03-11 16:18:19+00:00       1         -0.6486  Negative  \n",
       "1950  2022-03-11 16:10:04+00:00       1          0.2960  Positive  \n",
       "1951  2022-03-11 15:58:09+00:00       1          0.0000   Neutral  \n",
       "\n",
       "[1952 rows x 5 columns]"
      ]
     },
     "execution_count": 59,
     "metadata": {},
     "output_type": "execute_result"
    }
   ],
   "source": [
    "df_sentim['polarity_score'] = df_sentim['text'].apply(lambda x: sentiment.polarity_scores(str(x))['compound'])\n",
    "df_sentim['sentiment'] = np.where(df_sentim['polarity_score']>0.05, \"Positive\", \n",
    "                          np.where(df_sentim['polarity_score']< -0.05, \"Negative\", 'Neutral'))\n",
    "df_sentim"
   ]
  },
  {
   "cell_type": "code",
   "execution_count": 60,
   "id": "d924bd54-0da6-4290-9f56-1d934121e753",
   "metadata": {},
   "outputs": [
    {
     "data": {
      "text/plain": [
       "0.006947711602763024"
      ]
     },
     "execution_count": 60,
     "metadata": {},
     "output_type": "execute_result"
    }
   ],
   "source": [
    "df_sentim['polarity_score'].corr(df_sentim['is_nyt'])"
   ]
  },
  {
   "cell_type": "code",
   "execution_count": 61,
   "id": "a14b73e9-d6a3-4a16-9026-e9f66fc2ef5c",
   "metadata": {},
   "outputs": [
    {
     "data": {
      "text/plain": [
       "0.057776838311044576"
      ]
     },
     "execution_count": 61,
     "metadata": {},
     "output_type": "execute_result"
    }
   ],
   "source": [
    "df_sentim['sentiment'] = np.where(df_sentim['polarity_score']>0.05, 1, \n",
    "                          np.where(df_sentim['polarity_score']< -0.05, -1, 0))\n",
    "\n",
    "df_sentim['sentiment'].corr(df_sentim['is_nyt'])"
   ]
  },
  {
   "cell_type": "markdown",
   "id": "30d30805-f860-4f96-97b9-224b1a2ab96f",
   "metadata": {},
   "source": [
    "The correlation does not seem to be high, providing us no clear indication that one of the outlets is more negative or positive than another. Let's see how average sentiments of each outlet vary across time."
   ]
  },
  {
   "cell_type": "code",
   "execution_count": 62,
   "id": "be8f8dd2-7f95-45d4-815f-3fd3ba6e3ed9",
   "metadata": {},
   "outputs": [],
   "source": [
    "from datetime import datetime\n",
    "\n",
    "df_sentim['created_at'] = df_sentim['created_at'].apply(lambda x: datetime.strptime(x,'%Y-%m-%d %H:%M:%S+00:00'), '%Y-%m-%d %H:%M:%S')"
   ]
  },
  {
   "cell_type": "code",
   "execution_count": 63,
   "id": "e3c4d55a-344c-4b88-a745-44cdaf425076",
   "metadata": {},
   "outputs": [],
   "source": [
    "# We want to divide each day in 4 parts (6 hours) and calculate average twitters sentiment for each of the time period. \n",
    "\n",
    "df_sentim['time'] =  df_sentim['created_at'].apply(lambda x: x.day if (x.hour>=0 and x.hour<6) \n",
    "                                                   else (x.day+ 0.25 if (x.hour>=6 and x.hour<12) else\n",
    "                                                        (x.day+0.5 if (x.hour>=12 and x.hour<18) else x.day+0.75)))\n"
   ]
  },
  {
   "cell_type": "code",
   "execution_count": 64,
   "id": "c9cbbddd-76c4-4a92-91e9-02dc860c969c",
   "metadata": {},
   "outputs": [
    {
     "data": {
      "text/html": [
       "<div>\n",
       "<style scoped>\n",
       "    .dataframe tbody tr th:only-of-type {\n",
       "        vertical-align: middle;\n",
       "    }\n",
       "\n",
       "    .dataframe tbody tr th {\n",
       "        vertical-align: top;\n",
       "    }\n",
       "\n",
       "    .dataframe thead th {\n",
       "        text-align: right;\n",
       "    }\n",
       "</style>\n",
       "<table border=\"1\" class=\"dataframe\">\n",
       "  <thead>\n",
       "    <tr style=\"text-align: right;\">\n",
       "      <th></th>\n",
       "      <th>is_nyt</th>\n",
       "      <th>time</th>\n",
       "      <th>polarity_score</th>\n",
       "      <th>sentiment</th>\n",
       "    </tr>\n",
       "  </thead>\n",
       "  <tbody>\n",
       "    <tr>\n",
       "      <th>0</th>\n",
       "      <td>0</td>\n",
       "      <td>11.50</td>\n",
       "      <td>-0.242918</td>\n",
       "      <td>-1</td>\n",
       "    </tr>\n",
       "    <tr>\n",
       "      <th>1</th>\n",
       "      <td>0</td>\n",
       "      <td>11.75</td>\n",
       "      <td>-0.074763</td>\n",
       "      <td>-1</td>\n",
       "    </tr>\n",
       "    <tr>\n",
       "      <th>2</th>\n",
       "      <td>0</td>\n",
       "      <td>12.00</td>\n",
       "      <td>-0.234811</td>\n",
       "      <td>-1</td>\n",
       "    </tr>\n",
       "    <tr>\n",
       "      <th>3</th>\n",
       "      <td>0</td>\n",
       "      <td>12.25</td>\n",
       "      <td>-0.142454</td>\n",
       "      <td>-1</td>\n",
       "    </tr>\n",
       "    <tr>\n",
       "      <th>4</th>\n",
       "      <td>0</td>\n",
       "      <td>12.50</td>\n",
       "      <td>-0.064128</td>\n",
       "      <td>-1</td>\n",
       "    </tr>\n",
       "  </tbody>\n",
       "</table>\n",
       "</div>"
      ],
      "text/plain": [
       "   is_nyt   time  polarity_score  sentiment\n",
       "0       0  11.50       -0.242918         -1\n",
       "1       0  11.75       -0.074763         -1\n",
       "2       0  12.00       -0.234811         -1\n",
       "3       0  12.25       -0.142454         -1\n",
       "4       0  12.50       -0.064128         -1"
      ]
     },
     "execution_count": 64,
     "metadata": {},
     "output_type": "execute_result"
    }
   ],
   "source": [
    "df3 = df_sentim.groupby(['is_nyt','time'], as_index=False).mean()\n",
    "df3['sentiment'] = np.where(df3['polarity_score']>0.05, 1, \n",
    "                          np.where(df3['polarity_score']< -0.05, -1, 0))\n",
    "\n",
    "df3.head()"
   ]
  },
  {
   "cell_type": "code",
   "execution_count": 65,
   "id": "094d5252-22b2-4e19-a607-3da48ef6956b",
   "metadata": {},
   "outputs": [
    {
     "data": {
      "image/png": "[encoded data removed]",
      "text/plain": [
       "<Figure size 720x360 with 1 Axes>"
      ]
     },
     "metadata": {},
     "output_type": "display_data"
    }
   ],
   "source": [
    "colors = ['#FF7256', '#8B1A1A'] \n",
    "\n",
    "sns.set(rc={\"figure.figsize\":(5, 15)})\n",
    "sns.lmplot(x = 'time', y = 'sentiment', data = df3, hue = 'is_nyt', palette = colors, lowess=True, \n",
    "               height=5, aspect=2, legend=False )\n",
    "ax = plt.gca()\n",
    "ax.set_title(\"Average twitter sentiment score per each 6 hours\", fontsize=17)\n",
    "ax.legend(title='Outlet', labels=['Fox News', 'New York Times'], facecolor='white')\n",
    "ax.set_xticks(df3['time'][:29])\n",
    "\n",
    "# modify labels for x ticks to have a format 'Apr 18 morning'\n",
    "xticks = df3['time'][:29]\n",
    "xticks = xticks.apply(lambda x: 'Apr'+ str(int(x))+ ' night' if x%1==0 else \n",
    "             'Apr'+ str(int(x))+ ' morning' if x%1==0.25 else\n",
    "             'Apr'+ str(int(x))+ ' day' if x%1==0.5 else 'Apr'+ str(int(x))+ ' evening'\n",
    "            )\n",
    "\n",
    "ax.set_xticklabels(xticks, rotation =70)\n",
    "plt.show()"
   ]
  },
  {
   "cell_type": "code",
   "execution_count": 66,
   "id": "72a01683-d7dc-4364-b34e-637d9dac1680",
   "metadata": {},
   "outputs": [
    {
     "data": {
      "image/png": "[encoded data removed]",
      "text/plain": [
       "<Figure size 720x360 with 1 Axes>"
      ]
     },
     "metadata": {},
     "output_type": "display_data"
    }
   ],
   "source": [
    "sns.lmplot(x = 'time', y = 'polarity_score', data = df3, hue = 'is_nyt', palette = colors, lowess=True, \n",
    "               height=5, aspect=2, legend=False )\n",
    "ax = plt.gca()\n",
    "ax.set_title(\"Average twitter polarity score per each 6 hours\", fontsize=17)\n",
    "ax.legend(title='Outlet', labels=['Fox News', 'New York Times'], facecolor='white')\n",
    "ax.set_xticks(df3['time'][:29])\n",
    "\n",
    "# modify labels for x ticks to have a format 'Apr 18 morning'\n",
    "xticks = df3['time'][:29]\n",
    "xticks = xticks.apply(lambda x: 'Apr'+ str(int(x))+ ' night' if x%1==0 else \n",
    "             'Apr'+ str(int(x))+ ' morning' if x%1==0.25 else\n",
    "             'Apr'+ str(int(x))+ ' day' if x%1==0.5 else 'Apr'+ str(int(x))+ ' evening'\n",
    "            )\n",
    "\n",
    "ax.set_xticklabels(xticks, rotation =70)\n",
    "plt.show()"
   ]
  },
  {
   "cell_type": "markdown",
   "id": "6d93aab6-b5b9-45ca-a190-c5677f6c8321",
   "metadata": {},
   "source": [
    "Once we grouped tweets by smaller time periods and compared average tweet sentiments between two outlets, the graphs show us that initially (between April 11 and April 14) New York Times' tweets were more positive, on average, than Fox News' tweets. After that, both New York Times and Fox News had negative sentiment scores, on average, with Fox News having slighly higher higher average compound polarity score. \n",
    "\n",
    "Overall, New York Times' tweets look a bit more neutral and less negative than Fox News tweets before April 14 and other way arounf after that. "
   ]
  },
  {
   "cell_type": "markdown",
   "id": "6179f33a-f41a-426f-8f83-a8cabad3b0fb",
   "metadata": {},
   "source": [
    "## Prediction of the outlet by the tweet text\n",
    "\n",
    "Naive Bayes, Logistic Regression, Support Vector Classifier using Count Vectorizer, Tf-Idf, or Word Embeddings"
   ]
  },
  {
   "cell_type": "code",
   "execution_count": 67,
   "id": "c9637bc6-5335-4930-be49-4a099693adf5",
   "metadata": {},
   "outputs": [],
   "source": [
    "# text pre-processing \n",
    "df1 = pd.read_csv('Inputs/FoxNews_all_tweets.csv')\n",
    "df2 = pd.read_csv('Inputs/nytimes_all_tweets.csv')\n",
    "\n",
    "# merging two datasets \n",
    "frames = [df1, df2]\n",
    "df = pd.concat(frames, ignore_index= True)\n",
    "df['is_nyt']= df['username'].apply(lambda x: 1 if x=='nytimes' else 0)\n",
    "df['text']= df['text'].apply(lambda x: preprocessing_text(x))"
   ]
  },
  {
   "cell_type": "markdown",
   "id": "51372ace-1121-4b3a-964a-03407d69e205",
   "metadata": {},
   "source": [
    "### 1. Count Vectorizer"
   ]
  },
  {
   "cell_type": "code",
   "execution_count": 68,
   "id": "ed5f7da6-4d20-4658-9f8e-84f30dacd57a",
   "metadata": {},
   "outputs": [],
   "source": [
    "vectorizer = CountVectorizer()\n",
    "\n",
    "count = vectorizer.fit_transform(df.text)"
   ]
  },
  {
   "cell_type": "code",
   "execution_count": 69,
   "id": "d46b34ba-d6c6-4ecb-971b-c4110c763245",
   "metadata": {},
   "outputs": [],
   "source": [
    "from sklearn.model_selection import train_test_split\n",
    "\n",
    "X_train, X_test, y_train, y_test = train_test_split(count, df['is_nyt'], test_size=0.3, random_state=1, stratify = df['is_nyt'])"
   ]
  },
  {
   "cell_type": "markdown",
   "id": "aaa5f3a5-69a7-498e-8d64-9d30fd90782b",
   "metadata": {},
   "source": [
    "#### 1A. Logistic Regression"
   ]
  },
  {
   "cell_type": "code",
   "execution_count": 70,
   "id": "849a3b6a-6c70-4800-b70d-82fb731f3ccb",
   "metadata": {},
   "outputs": [],
   "source": [
    "from sklearn.linear_model import LogisticRegression\n",
    "from sklearn.metrics import classification_report\n",
    "\n",
    "logistic_regressor = LogisticRegression(random_state=0)\n",
    "\n",
    "logistic_regressor.fit(X_train, y_train)\n",
    "\n",
    "predictions = logistic_regressor.predict(X_test)"
   ]
  },
  {
   "cell_type": "code",
   "execution_count": 71,
   "id": "8e90c7d4-5764-4e7b-be9b-1cd71cf0a563",
   "metadata": {},
   "outputs": [],
   "source": [
    "# saving accuracy scores result for future comparison \n",
    "\n",
    "from sklearn import metrics \n",
    "scores_count =[]\n",
    "score = metrics.accuracy_score(y_test, predictions)\n",
    "scores_count.append(score)"
   ]
  },
  {
   "cell_type": "code",
   "execution_count": 72,
   "id": "fe9df6e1-7c70-4dd5-9375-145f828e325f",
   "metadata": {},
   "outputs": [
    {
     "name": "stdout",
     "output_type": "stream",
     "text": [
      "              precision    recall  f1-score   support\n",
      "\n",
      "           0       0.89      0.98      0.93       399\n",
      "           1       0.96      0.74      0.83       187\n",
      "\n",
      "    accuracy                           0.91       586\n",
      "   macro avg       0.92      0.86      0.88       586\n",
      "weighted avg       0.91      0.91      0.90       586\n",
      "\n"
     ]
    }
   ],
   "source": [
    "print(classification_report(y_test,  predictions))"
   ]
  },
  {
   "cell_type": "markdown",
   "id": "ad242ca6-919e-4d37-898a-d380230d721c",
   "metadata": {},
   "source": [
    "#### 1B. Naive Bayes"
   ]
  },
  {
   "cell_type": "code",
   "execution_count": 73,
   "id": "6acb81c3-d32c-4e87-8f9c-dd3cb6744998",
   "metadata": {
    "tags": []
   },
   "outputs": [
    {
     "name": "stdout",
     "output_type": "stream",
     "text": [
      "              precision    recall  f1-score   support\n",
      "\n",
      "           0       0.92      0.87      0.89       399\n",
      "           1       0.75      0.83      0.78       187\n",
      "\n",
      "    accuracy                           0.85       586\n",
      "   macro avg       0.83      0.85      0.84       586\n",
      "weighted avg       0.86      0.85      0.86       586\n",
      "\n"
     ]
    }
   ],
   "source": [
    "from sklearn.naive_bayes import MultinomialNB\n",
    "\n",
    "NB = MultinomialNB()\n",
    "\n",
    "NB.fit(X_train, y_train)\n",
    "predictions = NB.predict(X_test)\n",
    "\n",
    "print(classification_report(y_test,  predictions))"
   ]
  },
  {
   "cell_type": "code",
   "execution_count": 74,
   "id": "9fa7357f-11db-4036-8eff-c8d7ba5e4d92",
   "metadata": {},
   "outputs": [],
   "source": [
    "score = metrics.accuracy_score(y_test, predictions)\n",
    "scores_count.append(score)"
   ]
  },
  {
   "cell_type": "markdown",
   "id": "f67d8c28-f706-4d76-9e03-32effcd8c841",
   "metadata": {},
   "source": [
    "#### 1C. Support Vector Classifier "
   ]
  },
  {
   "cell_type": "code",
   "execution_count": 75,
   "id": "5d8a4a0d-ca84-4b0e-a73a-e66c15921e3a",
   "metadata": {},
   "outputs": [
    {
     "name": "stdout",
     "output_type": "stream",
     "text": [
      "              precision    recall  f1-score   support\n",
      "\n",
      "           0       0.95      0.98      0.97       399\n",
      "           1       0.96      0.89      0.93       187\n",
      "\n",
      "    accuracy                           0.95       586\n",
      "   macro avg       0.96      0.94      0.95       586\n",
      "weighted avg       0.95      0.95      0.95       586\n",
      "\n"
     ]
    }
   ],
   "source": [
    "from sklearn.svm import SVC\n",
    "\n",
    "svc = SVC(random_state = 0)\n",
    "\n",
    "svc.fit(X_train, y_train)\n",
    "predictions = svc.predict(X_test)\n",
    "\n",
    "print(classification_report(y_test,  predictions))"
   ]
  },
  {
   "cell_type": "code",
   "execution_count": 76,
   "id": "94569d31-4b6e-4402-afa7-ac2fcb11c9b6",
   "metadata": {},
   "outputs": [],
   "source": [
    "score = metrics.accuracy_score(y_test, predictions)\n",
    "scores_count.append(score)"
   ]
  },
  {
   "cell_type": "markdown",
   "id": "94abc2e1-a37e-4799-9d01-112633dd67c2",
   "metadata": {},
   "source": [
    "### 2. TF-IDF "
   ]
  },
  {
   "cell_type": "code",
   "execution_count": 77,
   "id": "9f2dfee4-228b-4d3d-98ea-fff7e651c765",
   "metadata": {},
   "outputs": [],
   "source": [
    "tfidfvectorizer = TfidfVectorizer(min_df=0.005)\n",
    "\n",
    "tfidf = tfidfvectorizer.fit_transform(df.text)"
   ]
  },
  {
   "cell_type": "code",
   "execution_count": 78,
   "id": "5c0f5c08-f00a-4ea0-a3c0-3b6266f71f36",
   "metadata": {},
   "outputs": [],
   "source": [
    "from sklearn.model_selection import train_test_split\n",
    "\n",
    "X_train, X_test, y_train, y_test = train_test_split(tfidf, df['is_nyt'], test_size=0.3, random_state=1, stratify = df['is_nyt'])"
   ]
  },
  {
   "cell_type": "markdown",
   "id": "7eb4ebf3-0487-4f72-90ef-22e789da877c",
   "metadata": {},
   "source": [
    "#### 2A. Logistic Regression"
   ]
  },
  {
   "cell_type": "code",
   "execution_count": 79,
   "id": "e0281705-694e-4534-bc87-6ad6a686cb80",
   "metadata": {},
   "outputs": [],
   "source": [
    "logistic_regressor = LogisticRegression(random_state=0)\n",
    "\n",
    "logistic_regressor.fit(X_train, y_train)\n",
    "predictions = logistic_regressor.predict(X_test)"
   ]
  },
  {
   "cell_type": "code",
   "execution_count": 80,
   "id": "f808f8f1-5f05-4e2f-9caa-7e3215e6683a",
   "metadata": {},
   "outputs": [],
   "source": [
    "scores_tfidf =[]\n",
    "score = metrics.accuracy_score(y_test, predictions)\n",
    "scores_tfidf.append(score)"
   ]
  },
  {
   "cell_type": "code",
   "execution_count": 81,
   "id": "6d67b2c7-360e-4f49-b8c3-f0b936018f5f",
   "metadata": {},
   "outputs": [
    {
     "name": "stdout",
     "output_type": "stream",
     "text": [
      "              precision    recall  f1-score   support\n",
      "\n",
      "           0       0.84      0.97      0.90       399\n",
      "           1       0.92      0.60      0.72       187\n",
      "\n",
      "    accuracy                           0.85       586\n",
      "   macro avg       0.88      0.79      0.81       586\n",
      "weighted avg       0.86      0.85      0.85       586\n",
      "\n"
     ]
    }
   ],
   "source": [
    "print(classification_report(y_test,  predictions))"
   ]
  },
  {
   "cell_type": "markdown",
   "id": "355cbe59-20aa-42fb-93f5-f7d3ba19293c",
   "metadata": {},
   "source": [
    "#### 2B. Naive Bayes"
   ]
  },
  {
   "cell_type": "code",
   "execution_count": 82,
   "id": "bda566d8-27c1-4a56-8716-61152d609165",
   "metadata": {},
   "outputs": [
    {
     "name": "stdout",
     "output_type": "stream",
     "text": [
      "              precision    recall  f1-score   support\n",
      "\n",
      "           0       0.84      0.95      0.89       399\n",
      "           1       0.86      0.62      0.72       187\n",
      "\n",
      "    accuracy                           0.85       586\n",
      "   macro avg       0.85      0.79      0.81       586\n",
      "weighted avg       0.85      0.85      0.84       586\n",
      "\n"
     ]
    }
   ],
   "source": [
    "NB = MultinomialNB()\n",
    "\n",
    "NB.fit(X_train, y_train)\n",
    "predictions = NB.predict(X_test)\n",
    "\n",
    "print(classification_report(y_test,  predictions))"
   ]
  },
  {
   "cell_type": "code",
   "execution_count": 83,
   "id": "d85bcb81-2598-4b33-b1a6-a11b2b905329",
   "metadata": {},
   "outputs": [],
   "source": [
    "score = metrics.accuracy_score(y_test, predictions)\n",
    "scores_tfidf.append(score)"
   ]
  },
  {
   "cell_type": "markdown",
   "id": "d790ea18-28bf-4f7d-b69a-d3cda73d7a0c",
   "metadata": {},
   "source": [
    "#### 2C. Support Vector Classifier "
   ]
  },
  {
   "cell_type": "code",
   "execution_count": 84,
   "id": "698e19cf-29cb-48e7-8bba-81014fe2b38c",
   "metadata": {},
   "outputs": [
    {
     "name": "stdout",
     "output_type": "stream",
     "text": [
      "              precision    recall  f1-score   support\n",
      "\n",
      "           0       0.87      0.97      0.92       399\n",
      "           1       0.92      0.69      0.79       187\n",
      "\n",
      "    accuracy                           0.88       586\n",
      "   macro avg       0.90      0.83      0.85       586\n",
      "weighted avg       0.89      0.88      0.88       586\n",
      "\n"
     ]
    }
   ],
   "source": [
    "svc = SVC(random_state = 0)\n",
    "\n",
    "svc.fit(X_train, y_train)\n",
    "predictions = svc.predict(X_test)\n",
    "\n",
    "print(classification_report(y_test,  predictions))"
   ]
  },
  {
   "cell_type": "code",
   "execution_count": 85,
   "id": "be8436a8-311c-4e89-87ff-a17363c9a2db",
   "metadata": {},
   "outputs": [],
   "source": [
    "score = metrics.accuracy_score(y_test, predictions)\n",
    "scores_tfidf.append(score)"
   ]
  },
  {
   "cell_type": "markdown",
   "id": "e151e74b-ec0c-468d-a181-36eb87490f2c",
   "metadata": {},
   "source": [
    "### 3. Word Embeddings: Word2Vec\n",
    "\n",
    "We are going to use SpaCy to get a pretrained model. This pretrained model will allow us to convert string to a vector of length 300."
   ]
  },
  {
   "cell_type": "code",
   "execution_count": 86,
   "id": "ce852363-9ae4-44b7-b25a-6d41f81ee4a5",
   "metadata": {},
   "outputs": [],
   "source": [
    "# load the model\n",
    "import spacy\n",
    "nlp = spacy.load('en_core_web_lg')"
   ]
  },
  {
   "cell_type": "code",
   "execution_count": 87,
   "id": "c46ace8b-081a-4fab-ac64-7e6036a252db",
   "metadata": {},
   "outputs": [],
   "source": [
    "# function that takes a text as input and returns a vector\n",
    "def get_vec(x):\n",
    "    doc = nlp(x)\n",
    "    vec = doc.vector\n",
    "    return vec"
   ]
  },
  {
   "cell_type": "code",
   "execution_count": 88,
   "id": "19d40c00-7b19-4ca2-bfbd-caa3082e2e33",
   "metadata": {},
   "outputs": [
    {
     "name": "stdout",
     "output_type": "stream",
     "text": [
      "CPU times: total: 16.8 s\n",
      "Wall time: 17.5 s\n"
     ]
    }
   ],
   "source": [
    "%%time\n",
    "df['vec'] = df['text'].apply(lambda x: get_vec(x))"
   ]
  },
  {
   "cell_type": "code",
   "execution_count": 89,
   "id": "680cf5f6-f4b6-4bab-ba0d-1e52213dfda5",
   "metadata": {},
   "outputs": [
    {
     "data": {
      "text/plain": [
       "(1952, 300)"
      ]
     },
     "execution_count": 89,
     "metadata": {},
     "output_type": "execute_result"
    }
   ],
   "source": [
    "X = df['vec'].to_numpy()\n",
    "X = X.reshape(-1, 1)\n",
    "X = np.concatenate(np.concatenate(X, axis = 0), axis = 0).reshape(-1, 300)\n",
    "X.shape"
   ]
  },
  {
   "cell_type": "code",
   "execution_count": 90,
   "id": "832d15d5-c9de-4331-83f5-6badd40b4c26",
   "metadata": {},
   "outputs": [],
   "source": [
    "# test-train split\n",
    "X_train, X_test, y_train, y_test = train_test_split(X, df['is_nyt'], test_size=0.3, random_state=1, stratify = df['is_nyt'])"
   ]
  },
  {
   "cell_type": "markdown",
   "id": "4307cc3d-5b77-4576-a857-37d5191c0dbe",
   "metadata": {},
   "source": [
    "#### 3A. Logistic Regression"
   ]
  },
  {
   "cell_type": "code",
   "execution_count": 91,
   "id": "30ef5b4d-fa7b-4147-a7b7-255bb1befe0f",
   "metadata": {},
   "outputs": [],
   "source": [
    "logistic_regressor = LogisticRegression(random_state=0)\n",
    "\n",
    "logistic_regressor.fit(X_train, y_train)\n",
    "predictions = logistic_regressor.predict(X_test)"
   ]
  },
  {
   "cell_type": "code",
   "execution_count": 92,
   "id": "d016214f-8b76-49d5-936d-cc73ba4f286d",
   "metadata": {},
   "outputs": [],
   "source": [
    "scores_w2v =[]\n",
    "score = metrics.accuracy_score(y_test, predictions)\n",
    "scores_w2v.append(score)"
   ]
  },
  {
   "cell_type": "code",
   "execution_count": 93,
   "id": "fdedb55a-40d5-415d-825c-caa36ce8153c",
   "metadata": {},
   "outputs": [
    {
     "name": "stdout",
     "output_type": "stream",
     "text": [
      "              precision    recall  f1-score   support\n",
      "\n",
      "           0       0.89      0.90      0.90       399\n",
      "           1       0.79      0.77      0.78       187\n",
      "\n",
      "    accuracy                           0.86       586\n",
      "   macro avg       0.84      0.84      0.84       586\n",
      "weighted avg       0.86      0.86      0.86       586\n",
      "\n"
     ]
    }
   ],
   "source": [
    "print(classification_report(y_test,  predictions))"
   ]
  },
  {
   "cell_type": "markdown",
   "id": "d3c58455-e07c-4518-9814-bd6e83701835",
   "metadata": {},
   "source": [
    "#### 3B. Naive Bayes\n",
    "\n",
    "Multinomial Naive Bayes classifier does not allow for negative values in the document vectors. But when we use word2vec word embeddings method and get our text data in vectors format, these vectors contain some negatives. It should be possible to translate/scale all vectors uniformly to avoid negatives, but we do not bother as we have enough models to run anyway. "
   ]
  },
  {
   "cell_type": "code",
   "execution_count": 94,
   "id": "09c29cb1-91a9-4da6-8b5c-2ffa6cecf12a",
   "metadata": {},
   "outputs": [],
   "source": [
    "score = np.nan\n",
    "scores_w2v.append(score)"
   ]
  },
  {
   "cell_type": "markdown",
   "id": "6d05e337-b196-46fb-8d9a-9e1b60f4bd31",
   "metadata": {},
   "source": [
    "#### 3C. Support Vector Classifier "
   ]
  },
  {
   "cell_type": "code",
   "execution_count": 95,
   "id": "fc8ef3ef-9e05-40ca-b8a6-f6f8b9f2a911",
   "metadata": {},
   "outputs": [
    {
     "name": "stdout",
     "output_type": "stream",
     "text": [
      "              precision    recall  f1-score   support\n",
      "\n",
      "           0       0.91      0.94      0.92       399\n",
      "           1       0.86      0.80      0.83       187\n",
      "\n",
      "    accuracy                           0.89       586\n",
      "   macro avg       0.88      0.87      0.88       586\n",
      "weighted avg       0.89      0.89      0.89       586\n",
      "\n"
     ]
    }
   ],
   "source": [
    "svc = SVC(random_state = 0)\n",
    "\n",
    "svc.fit(X_train, y_train)\n",
    "predictions = svc.predict(X_test)\n",
    "\n",
    "print(classification_report(y_test,  predictions))"
   ]
  },
  {
   "cell_type": "code",
   "execution_count": 96,
   "id": "ffe3e06b-dd2d-47aa-b11b-96c87ac5f161",
   "metadata": {},
   "outputs": [],
   "source": [
    "score = metrics.accuracy_score(y_test, predictions)\n",
    "scores_w2v.append(score)"
   ]
  },
  {
   "cell_type": "markdown",
   "id": "2d34985e-f589-4ed0-b512-f863a9d14be0",
   "metadata": {},
   "source": [
    "### 4. Word Embeddings: GloVe"
   ]
  },
  {
   "cell_type": "code",
   "execution_count": 97,
   "id": "27051de2-8e6b-4972-9950-98b919a2ec7d",
   "metadata": {},
   "outputs": [],
   "source": [
    "glove_vectors = dict()\n",
    "\n",
    "file = open('Inputs/glove.twitter.27B.100d.txt', encoding='utf-8') \n",
    "for line in file:\n",
    "    values = line.split()\n",
    "    word  = values[0]\n",
    "    vectors = np.asarray(values[1:])\n",
    "    glove_vectors[word] = vectors\n",
    "    \n",
    "file.close()"
   ]
  },
  {
   "cell_type": "code",
   "execution_count": 98,
   "id": "f7aeaef2-8432-4be1-a4ff-5193e8e8d464",
   "metadata": {},
   "outputs": [],
   "source": [
    "vec_shape = 100\n",
    "\n",
    "def get_vec(x):\n",
    "    arr = np.zeros(vec_shape)\n",
    "    text = str(x).split() \n",
    "    if len(text)==0:\n",
    "        return arr\n",
    "    else:      \n",
    "        for t in text:\n",
    "            try:\n",
    "                vec = glove_vectors.get(t).astype(float)\n",
    "                arr = arr + vec\n",
    "            except:\n",
    "                pass      \n",
    "        arr = arr.reshape(1, -1)[0]\n",
    "\n",
    "        return arr/len(text)"
   ]
  },
  {
   "cell_type": "code",
   "execution_count": 99,
   "id": "a0157adb-68ae-48c4-a128-7d9d880f1d59",
   "metadata": {},
   "outputs": [
    {
     "name": "stdout",
     "output_type": "stream",
     "text": [
      "CPU times: total: 1.44 s\n",
      "Wall time: 5.86 s\n"
     ]
    }
   ],
   "source": [
    "%%time\n",
    "df['glo_vec'] = df['text'].apply(lambda x: get_vec(x))"
   ]
  },
  {
   "cell_type": "code",
   "execution_count": 100,
   "id": "cef041f2-e164-484c-bb19-a9cc491fb20b",
   "metadata": {},
   "outputs": [],
   "source": [
    "X = df['glo_vec']\n",
    "X = np.concatenate(X, axis = 0).reshape(-1, vec_shape)"
   ]
  },
  {
   "cell_type": "code",
   "execution_count": 101,
   "id": "505f1a35-e07e-4060-80a1-1e4724bb1b2b",
   "metadata": {},
   "outputs": [],
   "source": [
    "# test-train split\n",
    "X_train, X_test, y_train, y_test = train_test_split(X, df['is_nyt'], test_size=0.3, random_state=1, stratify = df['is_nyt'])"
   ]
  },
  {
   "cell_type": "markdown",
   "id": "3927b744-b4d7-4d9f-89af-11900a2da45f",
   "metadata": {},
   "source": [
    "#### 4A. Logistic Regression"
   ]
  },
  {
   "cell_type": "code",
   "execution_count": 102,
   "id": "346cdf8d-8f32-4de8-bd8c-0ac6192714b5",
   "metadata": {},
   "outputs": [],
   "source": [
    "logistic_regressor = LogisticRegression(random_state=0)\n",
    "\n",
    "logistic_regressor.fit(X_train, y_train)\n",
    "predictions = logistic_regressor.predict(X_test)"
   ]
  },
  {
   "cell_type": "code",
   "execution_count": 103,
   "id": "36db21e5-9803-4dfb-b13c-6aab73e5d95b",
   "metadata": {},
   "outputs": [],
   "source": [
    "scores_glove =[]\n",
    "score = metrics.accuracy_score(y_test, predictions)\n",
    "scores_glove.append(score)"
   ]
  },
  {
   "cell_type": "code",
   "execution_count": 104,
   "id": "2b33c35f-d98a-4d89-9226-c14c66e2eeda",
   "metadata": {},
   "outputs": [
    {
     "name": "stdout",
     "output_type": "stream",
     "text": [
      "              precision    recall  f1-score   support\n",
      "\n",
      "           0       0.81      0.88      0.84       399\n",
      "           1       0.68      0.56      0.62       187\n",
      "\n",
      "    accuracy                           0.78       586\n",
      "   macro avg       0.75      0.72      0.73       586\n",
      "weighted avg       0.77      0.78      0.77       586\n",
      "\n"
     ]
    }
   ],
   "source": [
    "print(classification_report(y_test,  predictions))"
   ]
  },
  {
   "cell_type": "markdown",
   "id": "fcb064a5-3a59-483d-a661-6f21390272d0",
   "metadata": {},
   "source": [
    "#### 4B. Naive Bayes\n",
    "\n",
    "Multinomial Naive Bayes classifier does not allow for negative values in the document vectors. But when we use glove word embeddings method and get our text data in vectors format, these vectors contain some negatives. It should be possible to translate/scale all vectors uniformly to avoid negatives, but we do not bother as we have enough models to run anyway. "
   ]
  },
  {
   "cell_type": "code",
   "execution_count": 105,
   "id": "23539bbb-1bb5-49bc-9647-3d398bb30a8a",
   "metadata": {},
   "outputs": [],
   "source": [
    "score = np.nan\n",
    "scores_glove.append(score)"
   ]
  },
  {
   "cell_type": "markdown",
   "id": "d598c2c4-ccff-4c56-8a57-f7487ccecf88",
   "metadata": {},
   "source": [
    "#### 4C. Support Vector Classifier "
   ]
  },
  {
   "cell_type": "code",
   "execution_count": 106,
   "id": "5758e862-ae59-440c-bfa7-337579fc4823",
   "metadata": {},
   "outputs": [
    {
     "name": "stdout",
     "output_type": "stream",
     "text": [
      "              precision    recall  f1-score   support\n",
      "\n",
      "           0       0.88      0.94      0.91       399\n",
      "           1       0.84      0.72      0.78       187\n",
      "\n",
      "    accuracy                           0.87       586\n",
      "   macro avg       0.86      0.83      0.84       586\n",
      "weighted avg       0.87      0.87      0.87       586\n",
      "\n"
     ]
    }
   ],
   "source": [
    "svc = SVC(random_state = 0)\n",
    "\n",
    "svc.fit(X_train, y_train)\n",
    "predictions = svc.predict(X_test)\n",
    "\n",
    "print(classification_report(y_test,  predictions))"
   ]
  },
  {
   "cell_type": "code",
   "execution_count": 107,
   "id": "3eb4c840-d212-42cd-97e6-6307784d593d",
   "metadata": {},
   "outputs": [],
   "source": [
    "score = metrics.accuracy_score(y_test, predictions)\n",
    "scores_glove.append(score)"
   ]
  },
  {
   "cell_type": "markdown",
   "id": "5f8264b1-6f73-46e1-92a6-c98e1b5586bd",
   "metadata": {},
   "source": [
    "**Summary Results**"
   ]
  },
  {
   "cell_type": "code",
   "execution_count": 108,
   "id": "aa02ba90-6b7d-4faf-b79e-df6bc4060536",
   "metadata": {
    "tags": []
   },
   "outputs": [],
   "source": [
    "models = ['Logistic Regression',\n",
    "          'Naive Bayes',\n",
    "          'Support Vector Classifier']"
   ]
  },
  {
   "cell_type": "code",
   "execution_count": 109,
   "id": "5954707e-4efe-4dac-a5dc-3ad14691f5fd",
   "metadata": {},
   "outputs": [],
   "source": [
    "# function for better comparison visualization of performance results \n",
    "\n",
    "def scores_matrix(scores, vectorizer):\n",
    "    scores_matrix = pd.concat([pd.DataFrame(models),pd.DataFrame(np.transpose(scores))], axis = 1)\n",
    "    scores_matrix.columns = ['model', vectorizer]\n",
    "    return(scores_matrix)"
   ]
  },
  {
   "cell_type": "code",
   "execution_count": 110,
   "id": "b39fec26-ef0c-4fbf-a9a5-6f6e2e20d11d",
   "metadata": {},
   "outputs": [],
   "source": [
    "scores_df = scores_matrix(scores_count, 'Count Vectorizer')\n",
    "scores_df = scores_df.merge(scores_matrix(scores_tfidf, 'TF-IDF'), on='model')\n",
    "scores_df = scores_df.merge(scores_matrix(scores_w2v, 'Word2Vec'), on='model')\n",
    "scores_df = scores_df.merge(scores_matrix(scores_glove, 'GloVe'), on='model')"
   ]
  },
  {
   "cell_type": "code",
   "execution_count": 111,
   "id": "415075da-4ade-467a-a70a-76ead3fe623d",
   "metadata": {},
   "outputs": [
    {
     "data": {
      "text/html": [
       "<div>\n",
       "<style scoped>\n",
       "    .dataframe tbody tr th:only-of-type {\n",
       "        vertical-align: middle;\n",
       "    }\n",
       "\n",
       "    .dataframe tbody tr th {\n",
       "        vertical-align: top;\n",
       "    }\n",
       "\n",
       "    .dataframe thead th {\n",
       "        text-align: right;\n",
       "    }\n",
       "</style>\n",
       "<table border=\"1\" class=\"dataframe\">\n",
       "  <thead>\n",
       "    <tr style=\"text-align: right;\">\n",
       "      <th></th>\n",
       "      <th>model</th>\n",
       "      <th>Count Vectorizer</th>\n",
       "      <th>TF-IDF</th>\n",
       "      <th>Word2Vec</th>\n",
       "      <th>GloVe</th>\n",
       "    </tr>\n",
       "  </thead>\n",
       "  <tbody>\n",
       "    <tr>\n",
       "      <th>0</th>\n",
       "      <td>Logistic Regression</td>\n",
       "      <td>0.91</td>\n",
       "      <td>0.85</td>\n",
       "      <td>0.86</td>\n",
       "      <td>0.78</td>\n",
       "    </tr>\n",
       "    <tr>\n",
       "      <th>1</th>\n",
       "      <td>Naive Bayes</td>\n",
       "      <td>0.85</td>\n",
       "      <td>0.85</td>\n",
       "      <td>NaN</td>\n",
       "      <td>NaN</td>\n",
       "    </tr>\n",
       "    <tr>\n",
       "      <th>2</th>\n",
       "      <td>Support Vector Classifier</td>\n",
       "      <td>0.95</td>\n",
       "      <td>0.88</td>\n",
       "      <td>0.89</td>\n",
       "      <td>0.87</td>\n",
       "    </tr>\n",
       "  </tbody>\n",
       "</table>\n",
       "</div>"
      ],
      "text/plain": [
       "                       model  Count Vectorizer  TF-IDF  Word2Vec  GloVe\n",
       "0        Logistic Regression              0.91    0.85      0.86   0.78\n",
       "1                Naive Bayes              0.85    0.85       NaN    NaN\n",
       "2  Support Vector Classifier              0.95    0.88      0.89   0.87"
      ]
     },
     "execution_count": 111,
     "metadata": {},
     "output_type": "execute_result"
    }
   ],
   "source": [
    "pd.options.display.float_format = \"{:,.2f}\".format\n",
    "scores_df"
   ]
  },
  {
   "cell_type": "markdown",
   "id": "660e71e5-91f5-49c5-9b45-b38c0e879da6",
   "metadata": {},
   "source": [
    "- As we have seen on classification reports above, the performance of different approaches vary in significant ways. Recall scores for class 1, that measured the percentage of actual NY times twitters that were correctly classified, are somewhat low (~0.60-0.70) for TF-IDF and Word Embeddings methods no matter which model we are using.  Fox News twitters were better correctly classified, on average. \n",
    "\n",
    "- We expected TF-IDF performing better than Count Vectorizer method, however it seems that in our case focusing on the importance and frequency of the words present in the corpus is not a way to improve our predictive performance. At the same time, word embeddings methods perform, on average, better than TF-IDF, with Word2Vec performing better than GloVe.\n",
    "\n",
    "- Interestingly, Support Vector Classifier with Count Vectorizer provides the best accuracy result (0.95) with other prediction performance scores (accuracy, recall, f1-score) staying high as well. Support Vector Classifier seems doing well in this text classification, outperforming other classifiers in all cases. It might because Support Vector Classifier. It might be because target classes are not much overlapping, thereby resulting in good prediction performance."
   ]
  },
  {
   "cell_type": "markdown",
   "id": "364aba9b-7531-431d-8657-d0804bb16945",
   "metadata": {},
   "source": [
    "### Word analogies in the sample"
   ]
  },
  {
   "cell_type": "code",
   "execution_count": 112,
   "id": "0fcd2b6b-209a-4a64-aca9-5109c96c7db7",
   "metadata": {},
   "outputs": [],
   "source": [
    "# concat two dataframes\n",
    "df1 = pd.read_csv('Inputs/FoxNews_all_tweets.csv')\n",
    "df2 = pd.read_csv('Inputs/nytimes_all_tweets.csv')\n",
    "df = df1.append(df2, ignore_index=True)"
   ]
  },
  {
   "cell_type": "code",
   "execution_count": 113,
   "id": "4070bc5b-6791-4a3c-a5fd-517b6da9adc9",
   "metadata": {},
   "outputs": [],
   "source": [
    "# prepare text for Word2Vec\n",
    "df['text'] = df['text'].apply(lambda x: preprocessing_text(x))\n",
    "df['tokens'] = df['text'].apply(lambda x: prepare_text_for_lda(x))\n",
    "df['tokens'] = df['tokens'].apply(lambda sentences: remove_common_words(sentences, []))\n",
    "texts = df.tokens.tolist()"
   ]
  },
  {
   "cell_type": "code",
   "execution_count": 114,
   "id": "27c401af-b3d9-4d59-982e-a8026a3f9069",
   "metadata": {},
   "outputs": [],
   "source": [
    "def remove_common_words(list_element, common_words):\n",
    "    tokens = [token for token in list_element]\n",
    "    tokens = [token for token in tokens if len(token) > 1]\n",
    "    return tokens"
   ]
  },
  {
   "cell_type": "markdown",
   "id": "d8d53f8b-362a-4683-87b8-fc977714e57d",
   "metadata": {},
   "source": [
    "Train our model"
   ]
  },
  {
   "cell_type": "code",
   "execution_count": 115,
   "id": "7606a7bb-85f3-4a33-950e-b9cd51bb2505",
   "metadata": {},
   "outputs": [],
   "source": [
    "from gensim.models import Word2Vec\n",
    "\n",
    "model = Word2Vec(sentences=texts, vector_size=100, window=5, min_count=1, workers=4)\n",
    "model.save(\"word2vec.model\")"
   ]
  },
  {
   "cell_type": "markdown",
   "id": "c95a45f8-0bd6-4273-9f61-8c51b486fe1f",
   "metadata": {},
   "source": [
    "As we trained our model, let's see the most similar words to the specific word.\n",
    "\n",
    "For example, let's see the similarities for the words \"war\""
   ]
  },
  {
   "cell_type": "code",
   "execution_count": 116,
   "id": "b5685558-1c0f-4979-86c9-015329b497cb",
   "metadata": {},
   "outputs": [
    {
     "data": {
      "text/plain": [
       "[('russian', 0.9558953642845154),\n",
       " ('ukraine', 0.9487802386283875),\n",
       " ('russia', 0.9474009871482849),\n",
       " ('biden', 0.9414705038070679),\n",
       " ('new', 0.9404187798500061),\n",
       " ('ukrainian', 0.9383223056793213),\n",
       " ('covid', 0.9365376830101013),\n",
       " ('people', 0.935615599155426),\n",
       " ('kill', 0.9344683885574341),\n",
       " ('year', 0.9303497076034546)]"
      ]
     },
     "execution_count": 116,
     "metadata": {},
     "output_type": "execute_result"
    }
   ],
   "source": [
    "model.wv.most_similar('war', topn=10)"
   ]
  },
  {
   "cell_type": "markdown",
   "id": "ffa474bf-2a6e-406f-9091-a6204db2ac15",
   "metadata": {},
   "source": [
    "The model also can help answer questions like Moscow is to Russia like Kyiv is to ___. \n",
    "\n",
    "We can simply add and subtract vectors to answer the this question! This is because the vectors for those words have a specific relationship in space:\n",
    "$$\\vec{Russia} - \\vec{Moscow} = \\vec{answer} - \\vec{Kyiv} $$\n",
    "Therefore:\n",
    "$$\\vec{Russia} - \\vec{Moscow} + \\vec{Kyiv} = \\vec{answer} $$\n",
    "\n",
    "That means that the vectors of words *russia* and *kyiv* should be positive, whereas the vector *moscow* should be negative. Let's try this out:"
   ]
  },
  {
   "cell_type": "code",
   "execution_count": 117,
   "id": "83f3b3ce-bbc0-4aee-90d7-8e407092832f",
   "metadata": {},
   "outputs": [
    {
     "data": {
      "text/plain": [
       "[('biden', 0.8513073921203613),\n",
       " ('russian', 0.8439716696739197),\n",
       " ('ukraine', 0.8385283946990967),\n",
       " ('state', 0.8322422504425049),\n",
       " ('former', 0.8290135860443115),\n",
       " ('war', 0.8216359615325928),\n",
       " ('year', 0.8202177286148071),\n",
       " ('new', 0.8197764158248901),\n",
       " ('president', 0.8187718987464905),\n",
       " ('people', 0.817136287689209)]"
      ]
     },
     "execution_count": 117,
     "metadata": {},
     "output_type": "execute_result"
    }
   ],
   "source": [
    "model.wv.most_similar(positive = ['russia', 'kyiv'], negative = ['moscow'])"
   ]
  },
  {
   "cell_type": "markdown",
   "id": "9a2e273b-22f5-472a-80c0-156e7e9f513a",
   "metadata": {},
   "source": [
    "We would expect the word *ukraine* to be the top 1 which is not the case here, but it is in the top 3 words.\n",
    "\n",
    "Let's do similar task, but instead of capitals-countries pairs, let's use countries-presidents pair:"
   ]
  },
  {
   "cell_type": "code",
   "execution_count": 128,
   "id": "de4d7a76-9c8f-4860-8f32-a7f556b85af2",
   "metadata": {},
   "outputs": [
    {
     "data": {
      "text/plain": [
       "[('former', 0.8518106937408447),\n",
       " ('russian', 0.8476571440696716),\n",
       " ('covid', 0.8465328812599182),\n",
       " ('biden', 0.8456721901893616),\n",
       " ('day', 0.8449219465255737),\n",
       " ('call', 0.8441717028617859),\n",
       " ('ukrainian', 0.8440701961517334),\n",
       " ('could', 0.8390321731567383),\n",
       " ('state', 0.838028609752655),\n",
       " ('year', 0.8379566073417664)]"
      ]
     },
     "execution_count": 128,
     "metadata": {},
     "output_type": "execute_result"
    }
   ],
   "source": [
    "model.wv.most_similar(positive = ['ukraine', 'putin'], negative = ['zelenskyy'])"
   ]
  },
  {
   "cell_type": "markdown",
   "id": "f098a12d-9075-4d24-b882-2038aaa13424",
   "metadata": {},
   "source": [
    "Unfortunately, the expected word *russia* is on the 10th place, however *russian* is at top 1.\n",
    "Let's test several pairs for now and draw the vectors on a 2D space using PCA:"
   ]
  },
  {
   "cell_type": "code",
   "execution_count": 132,
   "id": "f6f32028-c5a9-47e9-b052-46370d995f5f",
   "metadata": {},
   "outputs": [
    {
     "name": "stdout",
     "output_type": "stream",
     "text": [
      "           0        1\n",
      "0      biden  russian\n",
      "1  zelenskyy    biden\n",
      "2    johnson  federal\n",
      "3     macron     real\n",
      "4    jinping    boris\n"
     ]
    }
   ],
   "source": [
    "# pretty print function\n",
    "def pp(obj):\n",
    "    print(pd.DataFrame(obj))\n",
    "    \n",
    "def analogy(worda, wordb, wordc):\n",
    "    result = model.wv.most_similar(negative=[worda], \n",
    "                                positive=[wordb, wordc])\n",
    "    return result[0][0]\n",
    "\n",
    "# set the first pair\n",
    "from_first = 'putin'\n",
    "to_first = 'russia'\n",
    "\n",
    "# set the list\n",
    "list_from = ['biden', 'zelenskyy', 'johnson', 'macron', 'jinping']\n",
    "\n",
    "list_to = [analogy(from_first, to_first, x) for x in list_from]\n",
    "pp(zip(list_from,list_to))"
   ]
  },
  {
   "cell_type": "markdown",
   "id": "40cdc8fe-8472-42e0-8dbb-dbd284ace2a3",
   "metadata": {},
   "source": [
    "In this example, I would expect to see the countries of the leaders from the *list_from*. Unfortunately, we have no meaningful results. Let's depict those pairs on a graph."
   ]
  },
  {
   "cell_type": "code",
   "execution_count": 130,
   "id": "64406148-d37e-4127-9c88-c660fb04122f",
   "metadata": {},
   "outputs": [
    {
     "data": {
      "image/png": "[encoded data removed]",
      "text/plain": [
       "<Figure size 700x500 with 1 Axes>"
      ]
     },
     "metadata": {},
     "output_type": "display_data"
    }
   ],
   "source": [
    "from sklearn.decomposition import PCA\n",
    "plt.rcdefaults()\n",
    "\n",
    "def plot_data(orig_data, labels):\n",
    "    pca = PCA(n_components=2)\n",
    "    data = pca.fit_transform(orig_data)\n",
    "    plt.figure(figsize=(7, 5), dpi=100)\n",
    "    plt.plot(data[:,0], data[:,1], '.')\n",
    "    for i in range(len(data)):\n",
    "        plt.annotate(labels[i], xy = data[i])\n",
    "    for i in range(len(data)//2):\n",
    "        plt.annotate(\"\",\n",
    "                xy=data[i],\n",
    "                xytext=data[i+len(data)//2],\n",
    "                arrowprops=dict(arrowstyle=\"->\",\n",
    "                                connectionstyle=\"arc3\")\n",
    "        )\n",
    "\n",
    "list_from.append(from_first)\n",
    "list_to.append(to_first)\n",
    "\n",
    "labels = list_from + list_to\n",
    "data = [model.wv[w] for w in labels]\n",
    "plot_data(data, labels)"
   ]
  },
  {
   "cell_type": "markdown",
   "id": "f423ff92-d618-4809-b997-6b0ae649d12a",
   "metadata": {},
   "source": [
    "Seems like word analogy does not work well for other based on putin-russia pair. \n",
    "\n",
    "Let's consider an example not related to news. We will use the most famous pairs in word analogies: **man-woman**"
   ]
  },
  {
   "cell_type": "code",
   "execution_count": 133,
   "id": "d83a8da6-8cf4-4661-b7e3-f9af158b3602",
   "metadata": {},
   "outputs": [
    {
     "name": "stdout",
     "output_type": "stream",
     "text": [
      "           0         1\n",
      "0       king   keynote\n",
      "1  gentleman   classic\n",
      "2    husband  american\n",
      "3        boy      body\n"
     ]
    }
   ],
   "source": [
    "# pretty print function\n",
    "def pp(obj):\n",
    "    print(pd.DataFrame(obj))\n",
    "    \n",
    "def analogy(worda, wordb, wordc):\n",
    "    result = model.wv.most_similar(negative=[worda], \n",
    "                                positive=[wordb, wordc])\n",
    "    return result[0][0]\n",
    "\n",
    "# set the first pair\n",
    "from_first = 'man'\n",
    "to_first = 'woman'\n",
    "\n",
    "# set the list\n",
    "list_from = ['king', 'gentleman', 'husband', 'boy']\n",
    "\n",
    "list_to = [analogy(from_first, to_first, x) for x in list_from]\n",
    "pp(zip(list_from,list_to))"
   ]
  },
  {
   "cell_type": "code",
   "execution_count": 134,
   "id": "5c8508bc-50fe-4519-9605-52db62251f71",
   "metadata": {},
   "outputs": [
    {
     "data": {
      "image/png": "[encoded data removed]",
      "text/plain": [
       "<Figure size 700x500 with 1 Axes>"
      ]
     },
     "metadata": {},
     "output_type": "display_data"
    }
   ],
   "source": [
    "from sklearn.decomposition import PCA\n",
    "import matplotlib.pyplot as plt\n",
    "import numpy as np\n",
    "\n",
    "def plot_data(orig_data, labels):\n",
    "    pca = PCA(n_components=2)\n",
    "    data = pca.fit_transform(orig_data)\n",
    "    plt.figure(figsize=(7, 5), dpi=100)\n",
    "    plt.plot(data[:,0], data[:,1], '.')\n",
    "    for i in range(len(data)):\n",
    "        plt.annotate(labels[i], xy = data[i])\n",
    "    for i in range(len(data)//2):\n",
    "        plt.annotate(\"\",\n",
    "                xy=data[i],\n",
    "                xytext=data[i+len(data)//2],\n",
    "                arrowprops=dict(arrowstyle=\"->\",\n",
    "                                connectionstyle=\"arc3\")\n",
    "        )\n",
    "\n",
    "list_from.append(from_first)\n",
    "list_to.append(to_first)\n",
    "\n",
    "labels = list_from + list_to\n",
    "data = [model.wv[w] for w in labels]\n",
    "plot_data(data, labels)"
   ]
  },
  {
   "cell_type": "markdown",
   "id": "1714980e-5e50-4897-8e45-37f795fba172",
   "metadata": {},
   "source": [
    "Given that the sample size is small, the word analogies don't hold. Especially, if we are looking on the words not used in news texts much (like Putin - Russia, Zelensky - Ukraine)."
   ]
  }
 ],
 "metadata": {
  "kernelspec": {
   "display_name": "Python 3 (ipykernel)",
   "language": "python",
   "name": "python3"
  },
  "language_info": {
   "codemirror_mode": {
    "name": "ipython",
    "version": 3
   },
   "file_extension": ".py",
   "mimetype": "text/x-python",
   "name": "python",
   "nbconvert_exporter": "python",
   "pygments_lexer": "ipython3",
   "version": "3.8.8"
  }
 },
 "nbformat": 4,
 "nbformat_minor": 5
}
