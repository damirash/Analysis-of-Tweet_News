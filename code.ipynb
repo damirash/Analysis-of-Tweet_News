{
 "cells": [
  {
   "cell_type": "markdown",
   "id": "47a8e79b-fe17-494f-a101-01b511bea661",
   "metadata": {},
   "source": [
    "## Assignment1-ML-for-NLP2\n",
    "For this assignment, you will work in groups. (See group assignment below.) \n",
    "Use the samples of Twitter data posted in the Input folder (corresponding to NYT and Fox News) and do the following:\n",
    "\n",
    "\n",
    "1. Data cleaning. \n",
    "\n",
    "Remove stopwords, links, hashtags, etc. \n",
    "\n",
    "2. Feature engineering.\n",
    "\n",
    "Create popularity and engagement measures, mentions (i.e. a tweet includes @), popular hashtags, breaking news, growth of followers, an indicator if the tweet is posted by NYT, and zero if the tweet belongs to Fox News.\n",
    "\n",
    "- popularity measures: likes, likes per retweets, likes per followers\n",
    "- engagement measures: replies+quote_count, replies+quote_count per followers\n",
    "- number of other accounts' mentions (@)\n",
    "- popular hashtags\n",
    "- tweets' special categories: breaking news, opinion\n",
    "- is_nyt\n",
    "\n",
    "3. Data Exploration and Prediction\n",
    "- Is there a follower-tweet relationship? \n",
    "- What are the most frequent topics tweeted about by each outlet? Are there differences in outlets?\n",
    "- Is there a relationship between the sentiment of the tweet and the outlet?\n",
    "- Can we predict the outlet by the text of the tweet? Use classif micationethods (Naive Bayes, Logistic Regression, Support Vector Classifier using Count Vectorizer, Tf-Idf, or Word Embeddings). Which method performs better? Why?\n",
    "- Do the usual word analogies hold in this sample?\n",
    "- Create the most representative tweet by outlet (See  https://www.youtube.com/watch?v=zFScws0mb7M&t=23m03s and the Q&A for his description of it is implemented in the algorithm.)\n",
    "\n",
    "Bonus 10 points: Create at least two own explorations.\n",
    "\n",
    "Create a GitHub repository with your code and invite me to it. \n"
   ]
  },
  {
   "cell_type": "code",
   "execution_count": 45,
   "id": "a9a976a6-fd84-44f2-9f5e-dc9c7133955a",
   "metadata": {},
   "outputs": [],
   "source": [
    "import numpy as np\n",
    "from numpy import array\n",
    "import pandas as pd\n",
    "import regex as re"
   ]
  },
  {
   "cell_type": "code",
   "execution_count": 27,
   "id": "3ea58f11-c271-44a6-b050-7da0ee68667e",
   "metadata": {},
   "outputs": [
    {
     "data": {
      "text/html": [
       "<div>\n",
       "<style scoped>\n",
       "    .dataframe tbody tr th:only-of-type {\n",
       "        vertical-align: middle;\n",
       "    }\n",
       "\n",
       "    .dataframe tbody tr th {\n",
       "        vertical-align: top;\n",
       "    }\n",
       "\n",
       "    .dataframe thead th {\n",
       "        text-align: right;\n",
       "    }\n",
       "</style>\n",
       "<table border=\"1\" class=\"dataframe\">\n",
       "  <thead>\n",
       "    <tr style=\"text-align: right;\">\n",
       "      <th></th>\n",
       "      <th>author_id</th>\n",
       "      <th>username</th>\n",
       "      <th>author_followers</th>\n",
       "      <th>author_tweets</th>\n",
       "      <th>author_description</th>\n",
       "      <th>author_location</th>\n",
       "      <th>text</th>\n",
       "      <th>created_at</th>\n",
       "      <th>retweets</th>\n",
       "      <th>replies</th>\n",
       "      <th>likes</th>\n",
       "      <th>quote_count</th>\n",
       "      <th>tweet_id</th>\n",
       "      <th>reference_status</th>\n",
       "    </tr>\n",
       "  </thead>\n",
       "  <tbody>\n",
       "    <tr>\n",
       "      <th>0</th>\n",
       "      <td>1367531</td>\n",
       "      <td>FoxNews</td>\n",
       "      <td>20946694</td>\n",
       "      <td>456439</td>\n",
       "      <td>NaN</td>\n",
       "      <td>NaN</td>\n",
       "      <td>FLASHBACK: Ex-intel officials claimed the Hunt...</td>\n",
       "      <td>2022-03-18 15:50:00+00:00</td>\n",
       "      <td>26</td>\n",
       "      <td>39</td>\n",
       "      <td>68</td>\n",
       "      <td>0</td>\n",
       "      <td>1504847596006821894</td>\n",
       "      <td>NaN</td>\n",
       "    </tr>\n",
       "    <tr>\n",
       "      <th>1</th>\n",
       "      <td>1367531</td>\n",
       "      <td>FoxNews</td>\n",
       "      <td>20946694</td>\n",
       "      <td>456439</td>\n",
       "      <td>NaN</td>\n",
       "      <td>NaN</td>\n",
       "      <td>Biden must do more to counter Putin's propagan...</td>\n",
       "      <td>2022-03-18 15:45:00+00:00</td>\n",
       "      <td>23</td>\n",
       "      <td>94</td>\n",
       "      <td>92</td>\n",
       "      <td>7</td>\n",
       "      <td>1504846338097221635</td>\n",
       "      <td>NaN</td>\n",
       "    </tr>\n",
       "    <tr>\n",
       "      <th>2</th>\n",
       "      <td>1367531</td>\n",
       "      <td>FoxNews</td>\n",
       "      <td>20946694</td>\n",
       "      <td>456439</td>\n",
       "      <td>NaN</td>\n",
       "      <td>NaN</td>\n",
       "      <td>NASCAR: What to expect from Atlanta's super ne...</td>\n",
       "      <td>2022-03-18 15:40:00+00:00</td>\n",
       "      <td>10</td>\n",
       "      <td>9</td>\n",
       "      <td>21</td>\n",
       "      <td>0</td>\n",
       "      <td>1504845079344820224</td>\n",
       "      <td>NaN</td>\n",
       "    </tr>\n",
       "    <tr>\n",
       "      <th>3</th>\n",
       "      <td>1367531</td>\n",
       "      <td>FoxNews</td>\n",
       "      <td>20946694</td>\n",
       "      <td>456439</td>\n",
       "      <td>NaN</td>\n",
       "      <td>NaN</td>\n",
       "      <td>BREAKING: Biden, Xi discuss Russia's war again...</td>\n",
       "      <td>2022-03-18 15:34:43+00:00</td>\n",
       "      <td>33</td>\n",
       "      <td>71</td>\n",
       "      <td>87</td>\n",
       "      <td>3</td>\n",
       "      <td>1504843752426323990</td>\n",
       "      <td>NaN</td>\n",
       "    </tr>\n",
       "    <tr>\n",
       "      <th>4</th>\n",
       "      <td>1367531</td>\n",
       "      <td>FoxNews</td>\n",
       "      <td>20946694</td>\n",
       "      <td>456439</td>\n",
       "      <td>NaN</td>\n",
       "      <td>NaN</td>\n",
       "      <td>Transgender swimmer's NCAA championship win 'j...</td>\n",
       "      <td>2022-03-18 15:30:00+00:00</td>\n",
       "      <td>51</td>\n",
       "      <td>69</td>\n",
       "      <td>254</td>\n",
       "      <td>4</td>\n",
       "      <td>1504842564117024770</td>\n",
       "      <td>NaN</td>\n",
       "    </tr>\n",
       "  </tbody>\n",
       "</table>\n",
       "</div>"
      ],
      "text/plain": [
       "   author_id username  author_followers  author_tweets  author_description  \\\n",
       "0    1367531  FoxNews          20946694         456439                 NaN   \n",
       "1    1367531  FoxNews          20946694         456439                 NaN   \n",
       "2    1367531  FoxNews          20946694         456439                 NaN   \n",
       "3    1367531  FoxNews          20946694         456439                 NaN   \n",
       "4    1367531  FoxNews          20946694         456439                 NaN   \n",
       "\n",
       "   author_location                                               text  \\\n",
       "0              NaN  FLASHBACK: Ex-intel officials claimed the Hunt...   \n",
       "1              NaN  Biden must do more to counter Putin's propagan...   \n",
       "2              NaN  NASCAR: What to expect from Atlanta's super ne...   \n",
       "3              NaN  BREAKING: Biden, Xi discuss Russia's war again...   \n",
       "4              NaN  Transgender swimmer's NCAA championship win 'j...   \n",
       "\n",
       "                  created_at  retweets  replies  likes  quote_count  \\\n",
       "0  2022-03-18 15:50:00+00:00        26       39     68            0   \n",
       "1  2022-03-18 15:45:00+00:00        23       94     92            7   \n",
       "2  2022-03-18 15:40:00+00:00        10        9     21            0   \n",
       "3  2022-03-18 15:34:43+00:00        33       71     87            3   \n",
       "4  2022-03-18 15:30:00+00:00        51       69    254            4   \n",
       "\n",
       "              tweet_id  reference_status  \n",
       "0  1504847596006821894               NaN  \n",
       "1  1504846338097221635               NaN  \n",
       "2  1504845079344820224               NaN  \n",
       "3  1504843752426323990               NaN  \n",
       "4  1504842564117024770               NaN  "
      ]
     },
     "execution_count": 27,
     "metadata": {},
     "output_type": "execute_result"
    }
   ],
   "source": [
    "df1 = pd.read_csv('Inputs/FoxNews_all_tweets.csv')\n",
    "df2 = pd.read_csv('Inputs/nytimes_all_tweets.csv')\n",
    "\n",
    "# merging two datasets for simplicity\n",
    "frames = [df1, df2]\n",
    "df = pd.concat(frames, ignore_index= True)\n",
    "df.head()"
   ]
  },
  {
   "cell_type": "code",
   "execution_count": 28,
   "id": "0df63418-46a8-4762-902f-dcc7fcbca989",
   "metadata": {},
   "outputs": [
    {
     "data": {
      "text/html": [
       "<div>\n",
       "<style scoped>\n",
       "    .dataframe tbody tr th:only-of-type {\n",
       "        vertical-align: middle;\n",
       "    }\n",
       "\n",
       "    .dataframe tbody tr th {\n",
       "        vertical-align: top;\n",
       "    }\n",
       "\n",
       "    .dataframe thead th {\n",
       "        text-align: right;\n",
       "    }\n",
       "</style>\n",
       "<table border=\"1\" class=\"dataframe\">\n",
       "  <thead>\n",
       "    <tr style=\"text-align: right;\">\n",
       "      <th></th>\n",
       "      <th>username</th>\n",
       "      <th>author_followers</th>\n",
       "      <th>text</th>\n",
       "      <th>created_at</th>\n",
       "      <th>retweets</th>\n",
       "      <th>replies</th>\n",
       "      <th>likes</th>\n",
       "      <th>quote_count</th>\n",
       "    </tr>\n",
       "  </thead>\n",
       "  <tbody>\n",
       "    <tr>\n",
       "      <th>0</th>\n",
       "      <td>FoxNews</td>\n",
       "      <td>20946694</td>\n",
       "      <td>FLASHBACK: Ex-intel officials claimed the Hunt...</td>\n",
       "      <td>2022-03-18 15:50:00+00:00</td>\n",
       "      <td>26</td>\n",
       "      <td>39</td>\n",
       "      <td>68</td>\n",
       "      <td>0</td>\n",
       "    </tr>\n",
       "    <tr>\n",
       "      <th>1</th>\n",
       "      <td>FoxNews</td>\n",
       "      <td>20946694</td>\n",
       "      <td>Biden must do more to counter Putin's propagan...</td>\n",
       "      <td>2022-03-18 15:45:00+00:00</td>\n",
       "      <td>23</td>\n",
       "      <td>94</td>\n",
       "      <td>92</td>\n",
       "      <td>7</td>\n",
       "    </tr>\n",
       "    <tr>\n",
       "      <th>2</th>\n",
       "      <td>FoxNews</td>\n",
       "      <td>20946694</td>\n",
       "      <td>NASCAR: What to expect from Atlanta's super ne...</td>\n",
       "      <td>2022-03-18 15:40:00+00:00</td>\n",
       "      <td>10</td>\n",
       "      <td>9</td>\n",
       "      <td>21</td>\n",
       "      <td>0</td>\n",
       "    </tr>\n",
       "    <tr>\n",
       "      <th>3</th>\n",
       "      <td>FoxNews</td>\n",
       "      <td>20946694</td>\n",
       "      <td>BREAKING: Biden, Xi discuss Russia's war again...</td>\n",
       "      <td>2022-03-18 15:34:43+00:00</td>\n",
       "      <td>33</td>\n",
       "      <td>71</td>\n",
       "      <td>87</td>\n",
       "      <td>3</td>\n",
       "    </tr>\n",
       "    <tr>\n",
       "      <th>4</th>\n",
       "      <td>FoxNews</td>\n",
       "      <td>20946694</td>\n",
       "      <td>Transgender swimmer's NCAA championship win 'j...</td>\n",
       "      <td>2022-03-18 15:30:00+00:00</td>\n",
       "      <td>51</td>\n",
       "      <td>69</td>\n",
       "      <td>254</td>\n",
       "      <td>4</td>\n",
       "    </tr>\n",
       "    <tr>\n",
       "      <th>...</th>\n",
       "      <td>...</td>\n",
       "      <td>...</td>\n",
       "      <td>...</td>\n",
       "      <td>...</td>\n",
       "      <td>...</td>\n",
       "      <td>...</td>\n",
       "      <td>...</td>\n",
       "      <td>...</td>\n",
       "    </tr>\n",
       "    <tr>\n",
       "      <th>1947</th>\n",
       "      <td>nytimes</td>\n",
       "      <td>52297191</td>\n",
       "      <td>Kyrylo Lysov, 22, and his girlfriend Yelyzavet...</td>\n",
       "      <td>2022-03-11 16:40:18+00:00</td>\n",
       "      <td>737</td>\n",
       "      <td>170</td>\n",
       "      <td>5277</td>\n",
       "      <td>54</td>\n",
       "    </tr>\n",
       "    <tr>\n",
       "      <th>1948</th>\n",
       "      <td>nytimes</td>\n",
       "      <td>52297191</td>\n",
       "      <td>Our journalists are looking into how companies...</td>\n",
       "      <td>2022-03-11 16:30:12+00:00</td>\n",
       "      <td>32</td>\n",
       "      <td>38</td>\n",
       "      <td>150</td>\n",
       "      <td>7</td>\n",
       "    </tr>\n",
       "    <tr>\n",
       "      <th>1949</th>\n",
       "      <td>nytimes</td>\n",
       "      <td>52297191</td>\n",
       "      <td>Breaking News: Alec Baldwin gave his most deta...</td>\n",
       "      <td>2022-03-11 16:18:19+00:00</td>\n",
       "      <td>59</td>\n",
       "      <td>81</td>\n",
       "      <td>227</td>\n",
       "      <td>20</td>\n",
       "    </tr>\n",
       "    <tr>\n",
       "      <th>1950</th>\n",
       "      <td>nytimes</td>\n",
       "      <td>52297191</td>\n",
       "      <td>A shipwreck from 1891 has been discovered in L...</td>\n",
       "      <td>2022-03-11 16:10:04+00:00</td>\n",
       "      <td>88</td>\n",
       "      <td>15</td>\n",
       "      <td>361</td>\n",
       "      <td>16</td>\n",
       "    </tr>\n",
       "    <tr>\n",
       "      <th>1951</th>\n",
       "      <td>nytimes</td>\n",
       "      <td>52297191</td>\n",
       "      <td>Breaking News: President Biden called for susp...</td>\n",
       "      <td>2022-03-11 15:58:09+00:00</td>\n",
       "      <td>93</td>\n",
       "      <td>44</td>\n",
       "      <td>471</td>\n",
       "      <td>7</td>\n",
       "    </tr>\n",
       "  </tbody>\n",
       "</table>\n",
       "<p>1952 rows × 8 columns</p>\n",
       "</div>"
      ],
      "text/plain": [
       "     username  author_followers  \\\n",
       "0     FoxNews          20946694   \n",
       "1     FoxNews          20946694   \n",
       "2     FoxNews          20946694   \n",
       "3     FoxNews          20946694   \n",
       "4     FoxNews          20946694   \n",
       "...       ...               ...   \n",
       "1947  nytimes          52297191   \n",
       "1948  nytimes          52297191   \n",
       "1949  nytimes          52297191   \n",
       "1950  nytimes          52297191   \n",
       "1951  nytimes          52297191   \n",
       "\n",
       "                                                   text  \\\n",
       "0     FLASHBACK: Ex-intel officials claimed the Hunt...   \n",
       "1     Biden must do more to counter Putin's propagan...   \n",
       "2     NASCAR: What to expect from Atlanta's super ne...   \n",
       "3     BREAKING: Biden, Xi discuss Russia's war again...   \n",
       "4     Transgender swimmer's NCAA championship win 'j...   \n",
       "...                                                 ...   \n",
       "1947  Kyrylo Lysov, 22, and his girlfriend Yelyzavet...   \n",
       "1948  Our journalists are looking into how companies...   \n",
       "1949  Breaking News: Alec Baldwin gave his most deta...   \n",
       "1950  A shipwreck from 1891 has been discovered in L...   \n",
       "1951  Breaking News: President Biden called for susp...   \n",
       "\n",
       "                     created_at  retweets  replies  likes  quote_count  \n",
       "0     2022-03-18 15:50:00+00:00        26       39     68            0  \n",
       "1     2022-03-18 15:45:00+00:00        23       94     92            7  \n",
       "2     2022-03-18 15:40:00+00:00        10        9     21            0  \n",
       "3     2022-03-18 15:34:43+00:00        33       71     87            3  \n",
       "4     2022-03-18 15:30:00+00:00        51       69    254            4  \n",
       "...                         ...       ...      ...    ...          ...  \n",
       "1947  2022-03-11 16:40:18+00:00       737      170   5277           54  \n",
       "1948  2022-03-11 16:30:12+00:00        32       38    150            7  \n",
       "1949  2022-03-11 16:18:19+00:00        59       81    227           20  \n",
       "1950  2022-03-11 16:10:04+00:00        88       15    361           16  \n",
       "1951  2022-03-11 15:58:09+00:00        93       44    471            7  \n",
       "\n",
       "[1952 rows x 8 columns]"
      ]
     },
     "execution_count": 28,
     "metadata": {},
     "output_type": "execute_result"
    }
   ],
   "source": [
    "df = df.drop(columns=['author_id', 'author_tweets', \"author_description\", \"author_location\", \"tweet_id\", \"reference_status\"])\n",
    "df"
   ]
  },
  {
   "cell_type": "markdown",
   "id": "dc9be03c-2a6e-4b8a-91c6-e49ef3f5cde8",
   "metadata": {},
   "source": [
    "## Feature Engineering"
   ]
  },
  {
   "cell_type": "markdown",
   "id": "c0146b55-b59c-4f24-82fb-3ea6826132f1",
   "metadata": {},
   "source": [
    "- Popularity and Engagement Measures:\n",
    "\n",
    "We already have such popularity measures such as likes and retweets. We can create a few more popularity measures such as: likes per retweets, likes per followers (in millions). For engagement measures, we create variables such as sum of replies and quotes as well as the sum of replies and quotes per followers (in millions) to take into account different number of followers among two sources. "
   ]
  },
  {
   "cell_type": "code",
   "execution_count": 24,
   "id": "0198fb7f-af09-4988-bd93-4fde739ca623",
   "metadata": {},
   "outputs": [],
   "source": [
    "df['likes_per_rt'] = df['likes']/df['retweets']\n",
    "df['likes_per_mfllrs'] = df['likes']/df['author_followers']*1000000\n",
    "\n",
    "df['repl_quot'] = df['replies']+df['quote_count']\n",
    "df['repl_quot_per_mfllrs'] = df['repl_quot']/df['author_followers']*1000000"
   ]
  },
  {
   "cell_type": "markdown",
   "id": "a75d678f-b576-4c49-8db2-42e069b0e55a",
   "metadata": {},
   "source": [
    "- Number of other accounts' mentions (@)"
   ]
  },
  {
   "cell_type": "code",
   "execution_count": 61,
   "id": "d901f9ed-1966-4722-bfc9-b11c0fb9d89e",
   "metadata": {},
   "outputs": [],
   "source": [
    "pattern =r'@([A-Za-z0-9_]+)'\n",
    "\n",
    "df['mentions_count'] = df['text'].apply(lambda x: len(re.findall(pattern, x)))"
   ]
  },
  {
   "cell_type": "markdown",
   "id": "9669dc95-9aca-4e36-8fcb-57f7e0ffd2e5",
   "metadata": {},
   "source": [
    "- Two most popular tweets' special categories: breaking news, opinion"
   ]
  },
  {
   "cell_type": "code",
   "execution_count": 92,
   "id": "f35b70f9-b2e7-4d78-bad0-fa5b9dc15e4d",
   "metadata": {},
   "outputs": [],
   "source": [
    "pattern1 = r'(BREAKING:)|(Breaking News:)'\n",
    "df['is_breaking'] = df['text'].apply(lambda x: 1 if len(re.findall(pattern1, x))>0 else 0)\n",
    "\n",
    "pattern2 = r'(OPINION:)|(In Opinion)'\n",
    "df['is_opinion'] = df['text'].apply(lambda x: 1 if len(re.findall(pattern2, x))>0 else 0)"
   ]
  },
  {
   "cell_type": "markdown",
   "id": "7f42abdc-d951-466a-8cc9-1fb75f06a7c1",
   "metadata": {},
   "source": [
    "- Popular hashtags\n",
    "\n",
    "Since there are only three distinctive hashtags among all tweets, we create dummy variables for each of them and also the dummy variable for the presence of any hashtag in text. "
   ]
  },
  {
   "cell_type": "code",
   "execution_count": 99,
   "id": "bf649223-a526-47f4-8a84-439d63138e02",
   "metadata": {},
   "outputs": [],
   "source": [
    "pattern3 =r'\\B(\\#[a-zA-Z]+\\b)(?!;)'\n",
    "df['is_hashtag'] = df['text'].apply(lambda x: len(re.findall(pattern3, x)))"
   ]
  },
  {
   "cell_type": "code",
   "execution_count": 120,
   "id": "3d8f8111-4972-4f3d-a98b-75fc2a9d3743",
   "metadata": {},
   "outputs": [],
   "source": [
    "def return_all_hashtags(tweets):\n",
    "    all_hashtags=[]\n",
    "    for tweet in tweets:\n",
    "        for word in tweet.split():\n",
    "            if word.startswith('#'):\n",
    "                word = re.sub(r'[^A-Za-z0-9 ]+', '', word) #remove all non‐alphanumeric characters except white space\n",
    "                all_hashtags.append(word)      \n",
    "    return all_hashtags"
   ]
  },
  {
   "cell_type": "code",
   "execution_count": 123,
   "id": "0621ecde-3eaa-44c9-bee8-72360c857ce8",
   "metadata": {},
   "outputs": [
    {
     "data": {
      "text/plain": [
       "['MeToo',\n",
       " 'CriticsChoiceAwards',\n",
       " 'CriticsChoiceAwards',\n",
       " 'CriticsChoiceAwards',\n",
       " 'CriticsChoice',\n",
       " 'CriticsChoice',\n",
       " 'CriticsChoice',\n",
       " 'CriticsChoice',\n",
       " 'CriticsChoice']"
      ]
     },
     "execution_count": 123,
     "metadata": {},
     "output_type": "execute_result"
    }
   ],
   "source": [
    "hashtag_list = return_all_hashtags(df['text'])\n",
    "hashtag_list"
   ]
  },
  {
   "cell_type": "code",
   "execution_count": 124,
   "id": "e0e65135-3f84-44cc-95c1-465f7d84f923",
   "metadata": {},
   "outputs": [
    {
     "data": {
      "text/plain": [
       "['MeToo', 'CriticsChoice', 'CriticsChoiceAwards']"
      ]
     },
     "execution_count": 124,
     "metadata": {},
     "output_type": "execute_result"
    }
   ],
   "source": [
    "hashtag_set = set(hashtag_list)\n",
    "hashtag_list = list(hashtag_set)\n",
    "hashtag_list"
   ]
  },
  {
   "cell_type": "code",
   "execution_count": 137,
   "id": "3f8097ee-c0f8-4065-9925-b12a7d1cd7f9",
   "metadata": {},
   "outputs": [],
   "source": [
    "for hashtag in hashtag_list:\n",
    "    df['hashtag_'+hashtag] = df.text.apply(lambda x: 1 if hashtag in x else 0)"
   ]
  },
  {
   "cell_type": "markdown",
   "id": "c3cdc0b3-f387-45b2-bcbe-e375ecc9c519",
   "metadata": {},
   "source": [
    "- Growth of followers (difference between the current tweet's number of followers and the previous one)"
   ]
  },
  {
   "cell_type": "code",
   "execution_count": 158,
   "id": "b3849988-ebb5-42ef-a55d-5be4d73edc0d",
   "metadata": {},
   "outputs": [],
   "source": [
    "df['growth_fllrs'] = - df.groupby(\"username\")[\"author_followers\"].diff() \n",
    "df['growth_fllrs'] = df['growth_fllrs'].fillna(0)"
   ]
  },
  {
   "cell_type": "code",
   "execution_count": 160,
   "id": "b8ff1618-f1a6-44eb-b556-a675ff1d59a4",
   "metadata": {},
   "outputs": [
    {
     "data": {
      "text/plain": [
       "500    -2.0\n",
       "700     2.0\n",
       "800    -2.0\n",
       "1100   -1.0\n",
       "1300    1.0\n",
       "1429    1.0\n",
       "1529    4.0\n",
       "1629   -6.0\n",
       "1729    6.0\n",
       "1829   -1.0\n",
       "1929   -3.0\n",
       "Name: growth_fllrs, dtype: float64"
      ]
     },
     "execution_count": 160,
     "metadata": {},
     "output_type": "execute_result"
    }
   ],
   "source": [
    "df[df['growth_fllrs'] != 0]['growth_fllrs']"
   ]
  },
  {
   "cell_type": "code",
   "execution_count": 162,
   "id": "94808a06-a023-458a-ad92-4ea29a4dd16e",
   "metadata": {},
   "outputs": [
    {
     "data": {
      "text/html": [
       "<div>\n",
       "<style scoped>\n",
       "    .dataframe tbody tr th:only-of-type {\n",
       "        vertical-align: middle;\n",
       "    }\n",
       "\n",
       "    .dataframe tbody tr th {\n",
       "        vertical-align: top;\n",
       "    }\n",
       "\n",
       "    .dataframe thead th {\n",
       "        text-align: right;\n",
       "    }\n",
       "</style>\n",
       "<table border=\"1\" class=\"dataframe\">\n",
       "  <thead>\n",
       "    <tr style=\"text-align: right;\">\n",
       "      <th></th>\n",
       "      <th>username</th>\n",
       "      <th>author_followers</th>\n",
       "      <th>text</th>\n",
       "      <th>created_at</th>\n",
       "      <th>retweets</th>\n",
       "      <th>replies</th>\n",
       "      <th>likes</th>\n",
       "      <th>quote_count</th>\n",
       "      <th>mentions_count</th>\n",
       "      <th>is_breaking</th>\n",
       "      <th>is_opinion</th>\n",
       "      <th>is_hashtag</th>\n",
       "      <th>hashtag_MeToo</th>\n",
       "      <th>hashtag_CriticsChoice</th>\n",
       "      <th>hashtag_CriticsChoiceAwards</th>\n",
       "      <th>is_nyt</th>\n",
       "      <th>growth_fllrs</th>\n",
       "    </tr>\n",
       "  </thead>\n",
       "  <tbody>\n",
       "    <tr>\n",
       "      <th>1927</th>\n",
       "      <td>nytimes</td>\n",
       "      <td>52297188</td>\n",
       "      <td>Ukraine's vast array of historic buildings, pr...</td>\n",
       "      <td>2022-03-11 20:45:06+00:00</td>\n",
       "      <td>393</td>\n",
       "      <td>73</td>\n",
       "      <td>1174</td>\n",
       "      <td>29</td>\n",
       "      <td>0</td>\n",
       "      <td>0</td>\n",
       "      <td>0</td>\n",
       "      <td>0</td>\n",
       "      <td>0</td>\n",
       "      <td>0</td>\n",
       "      <td>0</td>\n",
       "      <td>1</td>\n",
       "      <td>-0.0</td>\n",
       "    </tr>\n",
       "    <tr>\n",
       "      <th>1928</th>\n",
       "      <td>nytimes</td>\n",
       "      <td>52297188</td>\n",
       "      <td>Prominent conservative voices have mischaracte...</td>\n",
       "      <td>2022-03-11 20:30:13+00:00</td>\n",
       "      <td>377</td>\n",
       "      <td>470</td>\n",
       "      <td>1078</td>\n",
       "      <td>62</td>\n",
       "      <td>0</td>\n",
       "      <td>0</td>\n",
       "      <td>0</td>\n",
       "      <td>0</td>\n",
       "      <td>0</td>\n",
       "      <td>0</td>\n",
       "      <td>0</td>\n",
       "      <td>1</td>\n",
       "      <td>-0.0</td>\n",
       "    </tr>\n",
       "    <tr>\n",
       "      <th>1929</th>\n",
       "      <td>nytimes</td>\n",
       "      <td>52297191</td>\n",
       "      <td>President Biden’s new sanctions on Russia incl...</td>\n",
       "      <td>2022-03-11 20:25:08+00:00</td>\n",
       "      <td>91</td>\n",
       "      <td>83</td>\n",
       "      <td>426</td>\n",
       "      <td>14</td>\n",
       "      <td>0</td>\n",
       "      <td>0</td>\n",
       "      <td>0</td>\n",
       "      <td>0</td>\n",
       "      <td>0</td>\n",
       "      <td>0</td>\n",
       "      <td>0</td>\n",
       "      <td>1</td>\n",
       "      <td>-3.0</td>\n",
       "    </tr>\n",
       "  </tbody>\n",
       "</table>\n",
       "</div>"
      ],
      "text/plain": [
       "     username  author_followers  \\\n",
       "1927  nytimes          52297188   \n",
       "1928  nytimes          52297188   \n",
       "1929  nytimes          52297191   \n",
       "\n",
       "                                                   text  \\\n",
       "1927  Ukraine's vast array of historic buildings, pr...   \n",
       "1928  Prominent conservative voices have mischaracte...   \n",
       "1929  President Biden’s new sanctions on Russia incl...   \n",
       "\n",
       "                     created_at  retweets  replies  likes  quote_count  \\\n",
       "1927  2022-03-11 20:45:06+00:00       393       73   1174           29   \n",
       "1928  2022-03-11 20:30:13+00:00       377      470   1078           62   \n",
       "1929  2022-03-11 20:25:08+00:00        91       83    426           14   \n",
       "\n",
       "      mentions_count  is_breaking  is_opinion  is_hashtag  hashtag_MeToo  \\\n",
       "1927               0            0           0           0              0   \n",
       "1928               0            0           0           0              0   \n",
       "1929               0            0           0           0              0   \n",
       "\n",
       "      hashtag_CriticsChoice  hashtag_CriticsChoiceAwards  is_nyt  growth_fllrs  \n",
       "1927                      0                            0       1          -0.0  \n",
       "1928                      0                            0       1          -0.0  \n",
       "1929                      0                            0       1          -3.0  "
      ]
     },
     "execution_count": 162,
     "metadata": {},
     "output_type": "execute_result"
    }
   ],
   "source": [
    "df[1927:1930]"
   ]
  },
  {
   "cell_type": "markdown",
   "id": "47fc2211-cb42-4e63-a3a9-19c08f63bb96",
   "metadata": {},
   "source": [
    "- An indicator if the tweet is posted by NYT, and zero if the tweet belongs to Fox News"
   ]
  },
  {
   "cell_type": "code",
   "execution_count": 130,
   "id": "00cb42ee-d3e7-489d-abf5-fc7cd94d63a2",
   "metadata": {},
   "outputs": [],
   "source": [
    "df['is_nyt']= df['username'].apply(lambda x: 1 if x=='nytimes' else 0)\n"
   ]
  },
  {
   "cell_type": "code",
   "execution_count": 154,
   "id": "908539bd-c31d-4ebd-908d-a97e0a54b501",
   "metadata": {},
   "outputs": [
    {
     "data": {
      "text/html": [
       "<div>\n",
       "<style scoped>\n",
       "    .dataframe tbody tr th:only-of-type {\n",
       "        vertical-align: middle;\n",
       "    }\n",
       "\n",
       "    .dataframe tbody tr th {\n",
       "        vertical-align: top;\n",
       "    }\n",
       "\n",
       "    .dataframe thead th {\n",
       "        text-align: right;\n",
       "    }\n",
       "</style>\n",
       "<table border=\"1\" class=\"dataframe\">\n",
       "  <thead>\n",
       "    <tr style=\"text-align: right;\">\n",
       "      <th></th>\n",
       "      <th>username</th>\n",
       "      <th>author_followers</th>\n",
       "      <th>text</th>\n",
       "      <th>created_at</th>\n",
       "      <th>retweets</th>\n",
       "      <th>replies</th>\n",
       "      <th>likes</th>\n",
       "      <th>quote_count</th>\n",
       "      <th>mentions_count</th>\n",
       "      <th>is_breaking</th>\n",
       "      <th>is_opinion</th>\n",
       "      <th>is_hashtag</th>\n",
       "      <th>hashtag_MeToo</th>\n",
       "      <th>hashtag_CriticsChoice</th>\n",
       "      <th>hashtag_CriticsChoiceAwards</th>\n",
       "      <th>is_nyt</th>\n",
       "      <th>growth_fllrs</th>\n",
       "    </tr>\n",
       "  </thead>\n",
       "  <tbody>\n",
       "    <tr>\n",
       "      <th>0</th>\n",
       "      <td>FoxNews</td>\n",
       "      <td>20946694</td>\n",
       "      <td>FLASHBACK: Ex-intel officials claimed the Hunt...</td>\n",
       "      <td>2022-03-18 15:50:00+00:00</td>\n",
       "      <td>26</td>\n",
       "      <td>39</td>\n",
       "      <td>68</td>\n",
       "      <td>0</td>\n",
       "      <td>0</td>\n",
       "      <td>0</td>\n",
       "      <td>0</td>\n",
       "      <td>0</td>\n",
       "      <td>0</td>\n",
       "      <td>0</td>\n",
       "      <td>0</td>\n",
       "      <td>0</td>\n",
       "      <td>0.0</td>\n",
       "    </tr>\n",
       "    <tr>\n",
       "      <th>1</th>\n",
       "      <td>FoxNews</td>\n",
       "      <td>20946694</td>\n",
       "      <td>Biden must do more to counter Putin's propagan...</td>\n",
       "      <td>2022-03-18 15:45:00+00:00</td>\n",
       "      <td>23</td>\n",
       "      <td>94</td>\n",
       "      <td>92</td>\n",
       "      <td>7</td>\n",
       "      <td>0</td>\n",
       "      <td>0</td>\n",
       "      <td>0</td>\n",
       "      <td>0</td>\n",
       "      <td>0</td>\n",
       "      <td>0</td>\n",
       "      <td>0</td>\n",
       "      <td>0</td>\n",
       "      <td>0.0</td>\n",
       "    </tr>\n",
       "    <tr>\n",
       "      <th>2</th>\n",
       "      <td>FoxNews</td>\n",
       "      <td>20946694</td>\n",
       "      <td>NASCAR: What to expect from Atlanta's super ne...</td>\n",
       "      <td>2022-03-18 15:40:00+00:00</td>\n",
       "      <td>10</td>\n",
       "      <td>9</td>\n",
       "      <td>21</td>\n",
       "      <td>0</td>\n",
       "      <td>0</td>\n",
       "      <td>0</td>\n",
       "      <td>0</td>\n",
       "      <td>0</td>\n",
       "      <td>0</td>\n",
       "      <td>0</td>\n",
       "      <td>0</td>\n",
       "      <td>0</td>\n",
       "      <td>0.0</td>\n",
       "    </tr>\n",
       "    <tr>\n",
       "      <th>3</th>\n",
       "      <td>FoxNews</td>\n",
       "      <td>20946694</td>\n",
       "      <td>BREAKING: Biden, Xi discuss Russia's war again...</td>\n",
       "      <td>2022-03-18 15:34:43+00:00</td>\n",
       "      <td>33</td>\n",
       "      <td>71</td>\n",
       "      <td>87</td>\n",
       "      <td>3</td>\n",
       "      <td>0</td>\n",
       "      <td>1</td>\n",
       "      <td>0</td>\n",
       "      <td>0</td>\n",
       "      <td>0</td>\n",
       "      <td>0</td>\n",
       "      <td>0</td>\n",
       "      <td>0</td>\n",
       "      <td>0.0</td>\n",
       "    </tr>\n",
       "    <tr>\n",
       "      <th>4</th>\n",
       "      <td>FoxNews</td>\n",
       "      <td>20946694</td>\n",
       "      <td>Transgender swimmer's NCAA championship win 'j...</td>\n",
       "      <td>2022-03-18 15:30:00+00:00</td>\n",
       "      <td>51</td>\n",
       "      <td>69</td>\n",
       "      <td>254</td>\n",
       "      <td>4</td>\n",
       "      <td>0</td>\n",
       "      <td>0</td>\n",
       "      <td>0</td>\n",
       "      <td>0</td>\n",
       "      <td>0</td>\n",
       "      <td>0</td>\n",
       "      <td>0</td>\n",
       "      <td>0</td>\n",
       "      <td>0.0</td>\n",
       "    </tr>\n",
       "    <tr>\n",
       "      <th>...</th>\n",
       "      <td>...</td>\n",
       "      <td>...</td>\n",
       "      <td>...</td>\n",
       "      <td>...</td>\n",
       "      <td>...</td>\n",
       "      <td>...</td>\n",
       "      <td>...</td>\n",
       "      <td>...</td>\n",
       "      <td>...</td>\n",
       "      <td>...</td>\n",
       "      <td>...</td>\n",
       "      <td>...</td>\n",
       "      <td>...</td>\n",
       "      <td>...</td>\n",
       "      <td>...</td>\n",
       "      <td>...</td>\n",
       "      <td>...</td>\n",
       "    </tr>\n",
       "    <tr>\n",
       "      <th>1947</th>\n",
       "      <td>nytimes</td>\n",
       "      <td>52297191</td>\n",
       "      <td>Kyrylo Lysov, 22, and his girlfriend Yelyzavet...</td>\n",
       "      <td>2022-03-11 16:40:18+00:00</td>\n",
       "      <td>737</td>\n",
       "      <td>170</td>\n",
       "      <td>5277</td>\n",
       "      <td>54</td>\n",
       "      <td>0</td>\n",
       "      <td>0</td>\n",
       "      <td>0</td>\n",
       "      <td>0</td>\n",
       "      <td>0</td>\n",
       "      <td>0</td>\n",
       "      <td>0</td>\n",
       "      <td>1</td>\n",
       "      <td>0.0</td>\n",
       "    </tr>\n",
       "    <tr>\n",
       "      <th>1948</th>\n",
       "      <td>nytimes</td>\n",
       "      <td>52297191</td>\n",
       "      <td>Our journalists are looking into how companies...</td>\n",
       "      <td>2022-03-11 16:30:12+00:00</td>\n",
       "      <td>32</td>\n",
       "      <td>38</td>\n",
       "      <td>150</td>\n",
       "      <td>7</td>\n",
       "      <td>0</td>\n",
       "      <td>0</td>\n",
       "      <td>0</td>\n",
       "      <td>0</td>\n",
       "      <td>0</td>\n",
       "      <td>0</td>\n",
       "      <td>0</td>\n",
       "      <td>1</td>\n",
       "      <td>0.0</td>\n",
       "    </tr>\n",
       "    <tr>\n",
       "      <th>1949</th>\n",
       "      <td>nytimes</td>\n",
       "      <td>52297191</td>\n",
       "      <td>Breaking News: Alec Baldwin gave his most deta...</td>\n",
       "      <td>2022-03-11 16:18:19+00:00</td>\n",
       "      <td>59</td>\n",
       "      <td>81</td>\n",
       "      <td>227</td>\n",
       "      <td>20</td>\n",
       "      <td>0</td>\n",
       "      <td>1</td>\n",
       "      <td>0</td>\n",
       "      <td>0</td>\n",
       "      <td>0</td>\n",
       "      <td>0</td>\n",
       "      <td>0</td>\n",
       "      <td>1</td>\n",
       "      <td>0.0</td>\n",
       "    </tr>\n",
       "    <tr>\n",
       "      <th>1950</th>\n",
       "      <td>nytimes</td>\n",
       "      <td>52297191</td>\n",
       "      <td>A shipwreck from 1891 has been discovered in L...</td>\n",
       "      <td>2022-03-11 16:10:04+00:00</td>\n",
       "      <td>88</td>\n",
       "      <td>15</td>\n",
       "      <td>361</td>\n",
       "      <td>16</td>\n",
       "      <td>0</td>\n",
       "      <td>0</td>\n",
       "      <td>0</td>\n",
       "      <td>0</td>\n",
       "      <td>0</td>\n",
       "      <td>0</td>\n",
       "      <td>0</td>\n",
       "      <td>1</td>\n",
       "      <td>0.0</td>\n",
       "    </tr>\n",
       "    <tr>\n",
       "      <th>1951</th>\n",
       "      <td>nytimes</td>\n",
       "      <td>52297191</td>\n",
       "      <td>Breaking News: President Biden called for susp...</td>\n",
       "      <td>2022-03-11 15:58:09+00:00</td>\n",
       "      <td>93</td>\n",
       "      <td>44</td>\n",
       "      <td>471</td>\n",
       "      <td>7</td>\n",
       "      <td>0</td>\n",
       "      <td>1</td>\n",
       "      <td>0</td>\n",
       "      <td>0</td>\n",
       "      <td>0</td>\n",
       "      <td>0</td>\n",
       "      <td>0</td>\n",
       "      <td>1</td>\n",
       "      <td>0.0</td>\n",
       "    </tr>\n",
       "  </tbody>\n",
       "</table>\n",
       "<p>1952 rows × 17 columns</p>\n",
       "</div>"
      ],
      "text/plain": [
       "     username  author_followers  \\\n",
       "0     FoxNews          20946694   \n",
       "1     FoxNews          20946694   \n",
       "2     FoxNews          20946694   \n",
       "3     FoxNews          20946694   \n",
       "4     FoxNews          20946694   \n",
       "...       ...               ...   \n",
       "1947  nytimes          52297191   \n",
       "1948  nytimes          52297191   \n",
       "1949  nytimes          52297191   \n",
       "1950  nytimes          52297191   \n",
       "1951  nytimes          52297191   \n",
       "\n",
       "                                                   text  \\\n",
       "0     FLASHBACK: Ex-intel officials claimed the Hunt...   \n",
       "1     Biden must do more to counter Putin's propagan...   \n",
       "2     NASCAR: What to expect from Atlanta's super ne...   \n",
       "3     BREAKING: Biden, Xi discuss Russia's war again...   \n",
       "4     Transgender swimmer's NCAA championship win 'j...   \n",
       "...                                                 ...   \n",
       "1947  Kyrylo Lysov, 22, and his girlfriend Yelyzavet...   \n",
       "1948  Our journalists are looking into how companies...   \n",
       "1949  Breaking News: Alec Baldwin gave his most deta...   \n",
       "1950  A shipwreck from 1891 has been discovered in L...   \n",
       "1951  Breaking News: President Biden called for susp...   \n",
       "\n",
       "                     created_at  retweets  replies  likes  quote_count  \\\n",
       "0     2022-03-18 15:50:00+00:00        26       39     68            0   \n",
       "1     2022-03-18 15:45:00+00:00        23       94     92            7   \n",
       "2     2022-03-18 15:40:00+00:00        10        9     21            0   \n",
       "3     2022-03-18 15:34:43+00:00        33       71     87            3   \n",
       "4     2022-03-18 15:30:00+00:00        51       69    254            4   \n",
       "...                         ...       ...      ...    ...          ...   \n",
       "1947  2022-03-11 16:40:18+00:00       737      170   5277           54   \n",
       "1948  2022-03-11 16:30:12+00:00        32       38    150            7   \n",
       "1949  2022-03-11 16:18:19+00:00        59       81    227           20   \n",
       "1950  2022-03-11 16:10:04+00:00        88       15    361           16   \n",
       "1951  2022-03-11 15:58:09+00:00        93       44    471            7   \n",
       "\n",
       "      mentions_count  is_breaking  is_opinion  is_hashtag  hashtag_MeToo  \\\n",
       "0                  0            0           0           0              0   \n",
       "1                  0            0           0           0              0   \n",
       "2                  0            0           0           0              0   \n",
       "3                  0            1           0           0              0   \n",
       "4                  0            0           0           0              0   \n",
       "...              ...          ...         ...         ...            ...   \n",
       "1947               0            0           0           0              0   \n",
       "1948               0            0           0           0              0   \n",
       "1949               0            1           0           0              0   \n",
       "1950               0            0           0           0              0   \n",
       "1951               0            1           0           0              0   \n",
       "\n",
       "      hashtag_CriticsChoice  hashtag_CriticsChoiceAwards  is_nyt  growth_fllrs  \n",
       "0                         0                            0       0           0.0  \n",
       "1                         0                            0       0           0.0  \n",
       "2                         0                            0       0           0.0  \n",
       "3                         0                            0       0           0.0  \n",
       "4                         0                            0       0           0.0  \n",
       "...                     ...                          ...     ...           ...  \n",
       "1947                      0                            0       1           0.0  \n",
       "1948                      0                            0       1           0.0  \n",
       "1949                      0                            0       1           0.0  \n",
       "1950                      0                            0       1           0.0  \n",
       "1951                      0                            0       1           0.0  \n",
       "\n",
       "[1952 rows x 17 columns]"
      ]
     },
     "execution_count": 154,
     "metadata": {},
     "output_type": "execute_result"
    }
   ],
   "source": [
    "df"
   ]
  },
  {
   "cell_type": "code",
   "execution_count": null,
   "id": "948b8ee6-0a59-4c21-9ab5-3c4c823e7f1c",
   "metadata": {},
   "outputs": [],
   "source": []
  },
  {
   "cell_type": "markdown",
   "id": "a5c3c5ac-db2e-4e59-bdc4-21532c1c6581",
   "metadata": {},
   "source": [
    "# Tweet - Follower Relationship"
   ]
  },
  {
   "cell_type": "code",
   "execution_count": 179,
   "id": "02fb1a8a-3dda-492b-b0a2-3345d8c3cb68",
   "metadata": {},
   "outputs": [],
   "source": [
    "from vaderSentiment.vaderSentiment import SentimentIntensityAnalyzer\n",
    "\n",
    "sentiment = SentimentIntensityAnalyzer()"
   ]
  },
  {
   "cell_type": "markdown",
   "id": "7f204bc8-68da-4245-914e-80cc8434e4a8",
   "metadata": {
    "tags": []
   },
   "source": [
    "## FoxNews data"
   ]
  },
  {
   "cell_type": "code",
   "execution_count": 191,
   "id": "cbcc0959-b26a-4753-a96a-ce85004f3a22",
   "metadata": {},
   "outputs": [],
   "source": [
    "df1['polarity_score'] = df1['text'].apply(lambda x: sentiment.polarity_scores(str(x))['compound'])\n",
    "df1['sentiment'] = np.where(df1['polarity_score']>0.05, \"Positive\", \n",
    "                          np.where(df1['polarity_score']< -0.05, \"Negative\", 'Neutral'))"
   ]
  },
  {
   "cell_type": "code",
   "execution_count": 192,
   "id": "2c55a59a-4fa0-490c-8de3-246b676c56f5",
   "metadata": {},
   "outputs": [
    {
     "data": {
      "text/plain": [
       "<AxesSubplot:xlabel='sentiment', ylabel='count'>"
      ]
     },
     "execution_count": 192,
     "metadata": {},
     "output_type": "execute_result"
    },
    {
     "data": {
      "image/png": "[encoded data removed]",
      "text/plain": [
       "<Figure size 432x288 with 1 Axes>"
      ]
     },
     "metadata": {
      "needs_background": "light"
     },
     "output_type": "display_data"
    }
   ],
   "source": [
    "import seaborn as sns\n",
    "sns.countplot(x='sentiment', data=df1, palette=\"Reds\")"
   ]
  },
  {
   "cell_type": "markdown",
   "id": "7163e1b1-d2cf-4964-a97d-2745a26fe3ac",
   "metadata": {
    "tags": []
   },
   "source": [
    "We can see that there are more news with Negative sentiment. \n",
    "\n",
    "### Check correlation between the followers and polarity scores"
   ]
  },
  {
   "cell_type": "code",
   "execution_count": 207,
   "id": "3368ba38-524c-4985-abc3-20e3df9272a6",
   "metadata": {},
   "outputs": [
    {
     "data": {
      "text/plain": [
       "0.053717506122658236"
      ]
     },
     "execution_count": 207,
     "metadata": {},
     "output_type": "execute_result"
    }
   ],
   "source": [
    "df1['polarity_score'].corr(df1['author_followers'])"
   ]
  },
  {
   "cell_type": "code",
   "execution_count": 201,
   "id": "562cf4ca-733d-48a8-b024-f8d6adf40b3f",
   "metadata": {},
   "outputs": [],
   "source": [
    "df1['growth_fllrs'] = - df1[\"author_followers\"].diff() "
   ]
  },
  {
   "cell_type": "code",
   "execution_count": 206,
   "id": "0499c2de-042a-4127-beb4-fedde6e43152",
   "metadata": {},
   "outputs": [
    {
     "data": {
      "text/plain": [
       "-0.013769205519999517"
      ]
     },
     "execution_count": 206,
     "metadata": {},
     "output_type": "execute_result"
    }
   ],
   "source": [
    "df1['polarity_score'].corr(df1['growth_fllrs'])"
   ]
  },
  {
   "cell_type": "code",
   "execution_count": 193,
   "id": "bdcb56fb-65e7-400e-a9c4-e790ec3c844e",
   "metadata": {},
   "outputs": [],
   "source": [
    "df1['sentiment'] = np.where(df1['polarity_score']>0.05, 1, \n",
    "                          np.where(df1['polarity_score']< -0.05, -1, 0))"
   ]
  },
  {
   "cell_type": "code",
   "execution_count": 194,
   "id": "b20178f7-9b99-45cd-a5ce-2aa86946239a",
   "metadata": {},
   "outputs": [
    {
     "data": {
      "text/plain": [
       "0.04273945202796756"
      ]
     },
     "execution_count": 194,
     "metadata": {},
     "output_type": "execute_result"
    }
   ],
   "source": [
    "df1['sentiment'].corr(df1['author_followers'])"
   ]
  },
  {
   "cell_type": "code",
   "execution_count": 204,
   "id": "ab90e0dc-5956-4f28-af51-d68fa84ed023",
   "metadata": {},
   "outputs": [
    {
     "data": {
      "text/plain": [
       "-0.014494483034324568"
      ]
     },
     "execution_count": 204,
     "metadata": {},
     "output_type": "execute_result"
    }
   ],
   "source": [
    "df1['sentiment'].corr(df1['growth_fllrs'])"
   ]
  },
  {
   "cell_type": "code",
   "execution_count": 220,
   "id": "4bc8311f-1c10-4e4a-8a09-46516d1e5673",
   "metadata": {},
   "outputs": [
    {
     "data": {
      "text/plain": [
       "<AxesSubplot:xlabel='author_followers', ylabel='polarity_score'>"
      ]
     },
     "execution_count": 220,
     "metadata": {},
     "output_type": "execute_result"
    },
    {
     "data": {
      "image/png": "[encoded data removed]",
      "text/plain": [
       "<Figure size 432x288 with 1 Axes>"
      ]
     },
     "metadata": {
      "needs_background": "light"
     },
     "output_type": "display_data"
    }
   ],
   "source": [
    "sns.scatterplot(data=df1, x=\"author_followers\", y=\"polarity_score\")"
   ]
  },
  {
   "cell_type": "markdown",
   "id": "77af6223-6f15-4692-95cf-fd690cfd57f4",
   "metadata": {
    "tags": []
   },
   "source": [
    "As we can see, correlation is very low. Partially the reason is that there is no variability in the followers number. For such a short period, the number of followers increased and decreased several times by 1-2 followers.\n",
    "\n",
    "## NYTimes data"
   ]
  },
  {
   "cell_type": "code",
   "execution_count": 209,
   "id": "084b838a-9406-4836-a857-f24deb920b05",
   "metadata": {},
   "outputs": [],
   "source": [
    "df2['polarity_score'] = df2['text'].apply(lambda x: sentiment.polarity_scores(str(x))['compound'])\n",
    "df2['sentiment'] = np.where(df2['polarity_score']>0.05, \"Positive\", \n",
    "                          np.where(df2['polarity_score']< -0.05, \"Negative\", 'Neutral'))"
   ]
  },
  {
   "cell_type": "code",
   "execution_count": 210,
   "id": "210f3e5f-477b-4cfd-9e83-c5f3c15c00f1",
   "metadata": {},
   "outputs": [
    {
     "data": {
      "text/plain": [
       "<AxesSubplot:xlabel='sentiment', ylabel='count'>"
      ]
     },
     "execution_count": 210,
     "metadata": {},
     "output_type": "execute_result"
    },
    {
     "data": {
      "image/png": "[encoded data removed]",
      "text/plain": [
       "<Figure size 432x288 with 1 Axes>"
      ]
     },
     "metadata": {
      "needs_background": "light"
     },
     "output_type": "display_data"
    }
   ],
   "source": [
    "import seaborn as sns\n",
    "sns.countplot(x='sentiment', data=df2, palette=\"Reds\")"
   ]
  },
  {
   "cell_type": "markdown",
   "id": "5af74b9c-7552-43aa-8aa9-d349c32ee029",
   "metadata": {
    "tags": []
   },
   "source": [
    "We can see that there are more news with Negative sentiment. \n",
    "\n",
    "### Check correlation between the followers and polarity scores"
   ]
  },
  {
   "cell_type": "code",
   "execution_count": 211,
   "id": "17bc5da6-3c07-4aa4-a5af-02c7184ffa08",
   "metadata": {},
   "outputs": [
    {
     "data": {
      "text/plain": [
       "-0.03855869395832605"
      ]
     },
     "execution_count": 211,
     "metadata": {},
     "output_type": "execute_result"
    }
   ],
   "source": [
    "df2['polarity_score'].corr(df2['author_followers'])"
   ]
  },
  {
   "cell_type": "code",
   "execution_count": 212,
   "id": "67aed252-593d-44f2-af8b-788e75de426f",
   "metadata": {},
   "outputs": [],
   "source": [
    "df2['growth_fllrs'] = - df2[\"author_followers\"].diff() "
   ]
  },
  {
   "cell_type": "code",
   "execution_count": 213,
   "id": "e855ddea-ff4c-4a40-b1b7-3498f1d066e5",
   "metadata": {},
   "outputs": [
    {
     "data": {
      "text/plain": [
       "-0.04998106407665556"
      ]
     },
     "execution_count": 213,
     "metadata": {},
     "output_type": "execute_result"
    }
   ],
   "source": [
    "df2['polarity_score'].corr(df2['growth_fllrs'])"
   ]
  },
  {
   "cell_type": "code",
   "execution_count": 217,
   "id": "31d13b67-3acc-4d83-8a60-dcec9a1108d2",
   "metadata": {},
   "outputs": [],
   "source": [
    "df2['sentiment'] = np.where(df2['polarity_score']>0.05, 1, \n",
    "                          np.where(df2['polarity_score']< -0.05, -1, 0))"
   ]
  },
  {
   "cell_type": "code",
   "execution_count": 218,
   "id": "5a33eedf-58d4-4722-90e2-d1a912f23bcc",
   "metadata": {},
   "outputs": [
    {
     "data": {
      "text/plain": [
       "-0.03424046821084184"
      ]
     },
     "execution_count": 218,
     "metadata": {},
     "output_type": "execute_result"
    }
   ],
   "source": [
    "df2['sentiment'].corr(df2['author_followers'])"
   ]
  },
  {
   "cell_type": "code",
   "execution_count": 219,
   "id": "83643c43-dbd1-4556-9f3d-05696861675c",
   "metadata": {},
   "outputs": [
    {
     "data": {
      "text/plain": [
       "-0.051811868839908584"
      ]
     },
     "execution_count": 219,
     "metadata": {},
     "output_type": "execute_result"
    }
   ],
   "source": [
    "df2['sentiment'].corr(df2['growth_fllrs'])"
   ]
  },
  {
   "cell_type": "code",
   "execution_count": 136,
   "id": "ddd86244-11c5-4b9c-8c98-a0167ce22510",
   "metadata": {},
   "outputs": [
    {
     "data": {
      "text/plain": [
       "<AxesSubplot:xlabel='author_followers', ylabel='polarity_score'>"
      ]
     },
     "execution_count": 136,
     "metadata": {},
     "output_type": "execute_result"
    },
    {
     "data": {
      "image/png": "[encoded data removed]",
      "text/plain": [
       "<Figure size 432x288 with 1 Axes>"
      ]
     },
     "metadata": {
      "needs_background": "light"
     },
     "output_type": "display_data"
    }
   ],
   "source": [
    "sns.scatterplot(data=df2, x=\"author_followers\", y=\"polarity_score\")"
   ]
  },
  {
   "cell_type": "markdown",
   "id": "9fdd815a-c2bf-441a-b13d-ca6f5a2b851b",
   "metadata": {},
   "source": [
    "As we can see, correlation is very low. Partially the reason is that there is no variability in the followers number. For such a short period, the number of followers increased and decreased several times by 1-2 followers."
   ]
  }
 ],
 "metadata": {
  "kernelspec": {
   "display_name": "Python 3 (ipykernel)",
   "language": "python",
   "name": "python3"
  },
  "language_info": {
   "codemirror_mode": {
    "name": "ipython",
    "version": 3
   },
   "file_extension": ".py",
   "mimetype": "text/x-python",
   "name": "python",
   "nbconvert_exporter": "python",
   "pygments_lexer": "ipython3",
   "version": "3.8.8"
  }
 },
 "nbformat": 4,
 "nbformat_minor": 5
}
