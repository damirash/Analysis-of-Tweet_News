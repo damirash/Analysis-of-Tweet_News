{
 "cells": [
  {
   "cell_type": "markdown",
   "id": "47a8e79b-fe17-494f-a101-01b511bea661",
   "metadata": {},
   "source": [
    "# ML for NLP 2: Assignment 1\n",
    "## Group 3: Abay Jumabayev, Damira Shaikenova\n",
    "\n",
    "-----\n",
    "**Task:**\n",
    "\n",
    "-----\n",
    "Use the samples of Twitter data posted in the Input folder (corresponding to NYT and Fox News) and do the following:\n",
    "\n",
    "1. Data cleaning. \n",
    "\n",
    "Remove stopwords, links, hashtags, etc. \n",
    "\n",
    "2. Feature engineering.\n",
    "\n",
    "Create popularity and engagement measures, mentions (i.e. a tweet includes @), popular hashtags, breaking news, growth of followers, an indicator if the tweet is posted by NYT, and zero if the tweet belongs to Fox News.\n",
    "\n",
    "3. Data Exploration and Prediction.\n",
    "- Is there a follower-tweet relationship? \n",
    "- What are the most frequent topics tweeted about by each outlet? Are there differences in outlets?\n",
    "- Is there a relationship between the sentiment of the tweet and the outlet?\n",
    "- Can we predict the outlet by the text of the tweet? Use classif micationethods (Naive Bayes, Logistic Regression, Support Vector Classifier using Count Vectorizer, Tf-Idf, or Word Embeddings). Which method performs better? Why?\n",
    "- Do the usual word analogies hold in this sample?\n",
    "- Create the most representative tweet by outlet\n",
    "\n",
    "Bonus 10 points: Create at least two own explorations.\n",
    "\n",
    "Create a GitHub repository with your code and invite me to it. \n",
    "\n",
    "-----\n",
    "\n",
    "**Data:**\n",
    "\n",
    "We start from loading some of the necessary libraries and opening the twitter data. \n"
   ]
  },
  {
   "cell_type": "code",
   "execution_count": 1,
   "id": "a9a976a6-fd84-44f2-9f5e-dc9c7133955a",
   "metadata": {},
   "outputs": [],
   "source": [
    "import numpy as np\n",
    "from numpy import array\n",
    "import pandas as pd\n",
    "import regex as re"
   ]
  },
  {
   "cell_type": "code",
   "execution_count": 2,
   "id": "3ea58f11-c271-44a6-b050-7da0ee68667e",
   "metadata": {},
   "outputs": [],
   "source": [
    "df1 = pd.read_csv('Inputs/FoxNews_all_tweets.csv')\n",
    "df2 = pd.read_csv('Inputs/nytimes_all_tweets.csv')\n",
    "\n",
    "# merging two datasets \n",
    "frames = [df1, df2]\n",
    "df = pd.concat(frames, ignore_index= True)"
   ]
  },
  {
   "cell_type": "code",
   "execution_count": 3,
   "id": "0df63418-46a8-4762-902f-dcc7fcbca989",
   "metadata": {},
   "outputs": [
    {
     "data": {
      "text/html": [
       "<div>\n",
       "<style scoped>\n",
       "    .dataframe tbody tr th:only-of-type {\n",
       "        vertical-align: middle;\n",
       "    }\n",
       "\n",
       "    .dataframe tbody tr th {\n",
       "        vertical-align: top;\n",
       "    }\n",
       "\n",
       "    .dataframe thead th {\n",
       "        text-align: right;\n",
       "    }\n",
       "</style>\n",
       "<table border=\"1\" class=\"dataframe\">\n",
       "  <thead>\n",
       "    <tr style=\"text-align: right;\">\n",
       "      <th></th>\n",
       "      <th>username</th>\n",
       "      <th>author_followers</th>\n",
       "      <th>text</th>\n",
       "      <th>created_at</th>\n",
       "      <th>retweets</th>\n",
       "      <th>replies</th>\n",
       "      <th>likes</th>\n",
       "      <th>quote_count</th>\n",
       "    </tr>\n",
       "  </thead>\n",
       "  <tbody>\n",
       "    <tr>\n",
       "      <th>0</th>\n",
       "      <td>FoxNews</td>\n",
       "      <td>20946694</td>\n",
       "      <td>FLASHBACK: Ex-intel officials claimed the Hunt...</td>\n",
       "      <td>2022-03-18 15:50:00+00:00</td>\n",
       "      <td>26</td>\n",
       "      <td>39</td>\n",
       "      <td>68</td>\n",
       "      <td>0</td>\n",
       "    </tr>\n",
       "    <tr>\n",
       "      <th>1</th>\n",
       "      <td>FoxNews</td>\n",
       "      <td>20946694</td>\n",
       "      <td>Biden must do more to counter Putin's propagan...</td>\n",
       "      <td>2022-03-18 15:45:00+00:00</td>\n",
       "      <td>23</td>\n",
       "      <td>94</td>\n",
       "      <td>92</td>\n",
       "      <td>7</td>\n",
       "    </tr>\n",
       "    <tr>\n",
       "      <th>2</th>\n",
       "      <td>FoxNews</td>\n",
       "      <td>20946694</td>\n",
       "      <td>NASCAR: What to expect from Atlanta's super ne...</td>\n",
       "      <td>2022-03-18 15:40:00+00:00</td>\n",
       "      <td>10</td>\n",
       "      <td>9</td>\n",
       "      <td>21</td>\n",
       "      <td>0</td>\n",
       "    </tr>\n",
       "    <tr>\n",
       "      <th>3</th>\n",
       "      <td>FoxNews</td>\n",
       "      <td>20946694</td>\n",
       "      <td>BREAKING: Biden, Xi discuss Russia's war again...</td>\n",
       "      <td>2022-03-18 15:34:43+00:00</td>\n",
       "      <td>33</td>\n",
       "      <td>71</td>\n",
       "      <td>87</td>\n",
       "      <td>3</td>\n",
       "    </tr>\n",
       "    <tr>\n",
       "      <th>4</th>\n",
       "      <td>FoxNews</td>\n",
       "      <td>20946694</td>\n",
       "      <td>Transgender swimmer's NCAA championship win 'j...</td>\n",
       "      <td>2022-03-18 15:30:00+00:00</td>\n",
       "      <td>51</td>\n",
       "      <td>69</td>\n",
       "      <td>254</td>\n",
       "      <td>4</td>\n",
       "    </tr>\n",
       "    <tr>\n",
       "      <th>...</th>\n",
       "      <td>...</td>\n",
       "      <td>...</td>\n",
       "      <td>...</td>\n",
       "      <td>...</td>\n",
       "      <td>...</td>\n",
       "      <td>...</td>\n",
       "      <td>...</td>\n",
       "      <td>...</td>\n",
       "    </tr>\n",
       "    <tr>\n",
       "      <th>1947</th>\n",
       "      <td>nytimes</td>\n",
       "      <td>52297191</td>\n",
       "      <td>Kyrylo Lysov, 22, and his girlfriend Yelyzavet...</td>\n",
       "      <td>2022-03-11 16:40:18+00:00</td>\n",
       "      <td>737</td>\n",
       "      <td>170</td>\n",
       "      <td>5277</td>\n",
       "      <td>54</td>\n",
       "    </tr>\n",
       "    <tr>\n",
       "      <th>1948</th>\n",
       "      <td>nytimes</td>\n",
       "      <td>52297191</td>\n",
       "      <td>Our journalists are looking into how companies...</td>\n",
       "      <td>2022-03-11 16:30:12+00:00</td>\n",
       "      <td>32</td>\n",
       "      <td>38</td>\n",
       "      <td>150</td>\n",
       "      <td>7</td>\n",
       "    </tr>\n",
       "    <tr>\n",
       "      <th>1949</th>\n",
       "      <td>nytimes</td>\n",
       "      <td>52297191</td>\n",
       "      <td>Breaking News: Alec Baldwin gave his most deta...</td>\n",
       "      <td>2022-03-11 16:18:19+00:00</td>\n",
       "      <td>59</td>\n",
       "      <td>81</td>\n",
       "      <td>227</td>\n",
       "      <td>20</td>\n",
       "    </tr>\n",
       "    <tr>\n",
       "      <th>1950</th>\n",
       "      <td>nytimes</td>\n",
       "      <td>52297191</td>\n",
       "      <td>A shipwreck from 1891 has been discovered in L...</td>\n",
       "      <td>2022-03-11 16:10:04+00:00</td>\n",
       "      <td>88</td>\n",
       "      <td>15</td>\n",
       "      <td>361</td>\n",
       "      <td>16</td>\n",
       "    </tr>\n",
       "    <tr>\n",
       "      <th>1951</th>\n",
       "      <td>nytimes</td>\n",
       "      <td>52297191</td>\n",
       "      <td>Breaking News: President Biden called for susp...</td>\n",
       "      <td>2022-03-11 15:58:09+00:00</td>\n",
       "      <td>93</td>\n",
       "      <td>44</td>\n",
       "      <td>471</td>\n",
       "      <td>7</td>\n",
       "    </tr>\n",
       "  </tbody>\n",
       "</table>\n",
       "<p>1952 rows × 8 columns</p>\n",
       "</div>"
      ],
      "text/plain": [
       "     username  author_followers  \\\n",
       "0     FoxNews          20946694   \n",
       "1     FoxNews          20946694   \n",
       "2     FoxNews          20946694   \n",
       "3     FoxNews          20946694   \n",
       "4     FoxNews          20946694   \n",
       "...       ...               ...   \n",
       "1947  nytimes          52297191   \n",
       "1948  nytimes          52297191   \n",
       "1949  nytimes          52297191   \n",
       "1950  nytimes          52297191   \n",
       "1951  nytimes          52297191   \n",
       "\n",
       "                                                   text  \\\n",
       "0     FLASHBACK: Ex-intel officials claimed the Hunt...   \n",
       "1     Biden must do more to counter Putin's propagan...   \n",
       "2     NASCAR: What to expect from Atlanta's super ne...   \n",
       "3     BREAKING: Biden, Xi discuss Russia's war again...   \n",
       "4     Transgender swimmer's NCAA championship win 'j...   \n",
       "...                                                 ...   \n",
       "1947  Kyrylo Lysov, 22, and his girlfriend Yelyzavet...   \n",
       "1948  Our journalists are looking into how companies...   \n",
       "1949  Breaking News: Alec Baldwin gave his most deta...   \n",
       "1950  A shipwreck from 1891 has been discovered in L...   \n",
       "1951  Breaking News: President Biden called for susp...   \n",
       "\n",
       "                     created_at  retweets  replies  likes  quote_count  \n",
       "0     2022-03-18 15:50:00+00:00        26       39     68            0  \n",
       "1     2022-03-18 15:45:00+00:00        23       94     92            7  \n",
       "2     2022-03-18 15:40:00+00:00        10        9     21            0  \n",
       "3     2022-03-18 15:34:43+00:00        33       71     87            3  \n",
       "4     2022-03-18 15:30:00+00:00        51       69    254            4  \n",
       "...                         ...       ...      ...    ...          ...  \n",
       "1947  2022-03-11 16:40:18+00:00       737      170   5277           54  \n",
       "1948  2022-03-11 16:30:12+00:00        32       38    150            7  \n",
       "1949  2022-03-11 16:18:19+00:00        59       81    227           20  \n",
       "1950  2022-03-11 16:10:04+00:00        88       15    361           16  \n",
       "1951  2022-03-11 15:58:09+00:00        93       44    471            7  \n",
       "\n",
       "[1952 rows x 8 columns]"
      ]
     },
     "execution_count": 3,
     "metadata": {},
     "output_type": "execute_result"
    }
   ],
   "source": [
    "# dropping the columns that we will not need\n",
    "df = df.drop(columns=['author_id', 'author_tweets', \"author_description\", \"author_location\", \"tweet_id\", \"reference_status\"])\n",
    "df"
   ]
  },
  {
   "cell_type": "markdown",
   "id": "dc9be03c-2a6e-4b8a-91c6-e49ef3f5cde8",
   "metadata": {},
   "source": [
    "-------\n",
    "# Feature Engineering\n",
    "-----\n",
    "\n",
    "We start from feature engineering. We will conduct text data cleaning later since in this part of the task text pre-processing is either should not be done yet or not necessary at all. "
   ]
  },
  {
   "cell_type": "markdown",
   "id": "c0146b55-b59c-4f24-82fb-3ea6826132f1",
   "metadata": {},
   "source": [
    "- Popularity and Engagement Measures:\n",
    "\n",
    "We already have such popularity measures such as likes and retweets. We can create a few more popularity measures such as: likes per retweets, likes per followers (in millions). For engagement measures, we create variables such as sum of replies and quotes as well as the sum of replies and quotes per followers (in millions) to take into account different number of followers among two sources. "
   ]
  },
  {
   "cell_type": "code",
   "execution_count": 4,
   "id": "0198fb7f-af09-4988-bd93-4fde739ca623",
   "metadata": {},
   "outputs": [],
   "source": [
    "df['likes_per_rt'] = df['likes']/df['retweets']\n",
    "df['likes_per_mfllrs'] = df['likes']/df['author_followers']*1000000\n",
    "\n",
    "df['repl_quot'] = df['replies']+df['quote_count']\n",
    "df['repl_quot_per_mfllrs'] = df['repl_quot']/df['author_followers']*1000000"
   ]
  },
  {
   "cell_type": "markdown",
   "id": "a75d678f-b576-4c49-8db2-42e069b0e55a",
   "metadata": {},
   "source": [
    "- Number of other accounts' mentions (@)\n",
    "\n",
    "We use regex to find if there are any other accounts' mentions (@) in the twitter text."
   ]
  },
  {
   "cell_type": "code",
   "execution_count": 5,
   "id": "d901f9ed-1966-4722-bfc9-b11c0fb9d89e",
   "metadata": {},
   "outputs": [],
   "source": [
    "pattern =r'@([A-Za-z0-9_]+)'\n",
    "\n",
    "df['mentions_count'] = df['text'].apply(lambda x: len(re.findall(pattern, x)))"
   ]
  },
  {
   "cell_type": "markdown",
   "id": "9669dc95-9aca-4e36-8fcb-57f7e0ffd2e5",
   "metadata": {},
   "source": [
    "- Two most popular tweets' special categories: breaking news, opinion.\n",
    "\n",
    "We create two dummy variables that would indicate whether tweet belongs to the categories of breaking news or opinions. "
   ]
  },
  {
   "cell_type": "code",
   "execution_count": 6,
   "id": "f35b70f9-b2e7-4d78-bad0-fa5b9dc15e4d",
   "metadata": {},
   "outputs": [],
   "source": [
    "pattern1 = r'(BREAKING:)|(Breaking News:)' # fox news and ny times have slightly different ways of indicating breaking news\n",
    "df['is_breaking'] = df['text'].apply(lambda x: 1 if len(re.findall(pattern1, x))>0 else 0)\n",
    "\n",
    "pattern2 = r'(OPINION:)|(In Opinion)'\n",
    "df['is_opinion'] = df['text'].apply(lambda x: 1 if len(re.findall(pattern2, x))>0 else 0)"
   ]
  },
  {
   "cell_type": "markdown",
   "id": "7f42abdc-d951-466a-8cc9-1fb75f06a7c1",
   "metadata": {},
   "source": [
    "- Popular hashtags\n",
    "\n",
    "Since there are only three distinctive hashtags among all tweets, we create dummy variables for each of them and also the dummy variable for the presence of any hashtag in text. In case if there were more hashtags, we would create dummy variables only for top 5 popular hashtags."
   ]
  },
  {
   "cell_type": "code",
   "execution_count": 7,
   "id": "bf649223-a526-47f4-8a84-439d63138e02",
   "metadata": {},
   "outputs": [],
   "source": [
    "# counting the number of hashtags mentioned in each tweet\n",
    "pattern3 =r'\\B(\\#[a-zA-Z]+\\b)(?!;)'\n",
    "df['is_hashtag'] = df['text'].apply(lambda x: len(re.findall(pattern3, x)))"
   ]
  },
  {
   "cell_type": "code",
   "execution_count": 8,
   "id": "3d8f8111-4972-4f3d-a98b-75fc2a9d3743",
   "metadata": {},
   "outputs": [],
   "source": [
    "def return_all_hashtags(tweets): \n",
    "    all_hashtags=[]\n",
    "    for tweet in tweets:\n",
    "        for word in tweet.split():\n",
    "            if word.startswith('#'):\n",
    "                word = re.sub(r'[^A-Za-z0-9 ]+', '', word) #remove all non‐alphanumeric characters except white space\n",
    "                all_hashtags.append(word)      \n",
    "    return all_hashtags"
   ]
  },
  {
   "cell_type": "code",
   "execution_count": 9,
   "id": "0621ecde-3eaa-44c9-bee8-72360c857ce8",
   "metadata": {},
   "outputs": [
    {
     "data": {
      "text/plain": [
       "{'CriticsChoice': 5, 'CriticsChoiceAwards': 3, 'MeToo': 1}"
      ]
     },
     "execution_count": 9,
     "metadata": {},
     "output_type": "execute_result"
    }
   ],
   "source": [
    "all_hashtags = return_all_hashtags(df['text'])\n",
    "hashtag_dict = {i: all_hashtags.count(i) for i in all_hashtags}\n",
    "hashtag_dict = dict(sorted(hashtag_dict.items(), key=lambda item: item[1], reverse=True))\n",
    "hashtag_dict"
   ]
  },
  {
   "cell_type": "code",
   "execution_count": 10,
   "id": "e0e65135-3f84-44cc-95c1-465f7d84f923",
   "metadata": {},
   "outputs": [
    {
     "data": {
      "text/plain": [
       "['CriticsChoice', 'CriticsChoiceAwards', 'MeToo']"
      ]
     },
     "execution_count": 10,
     "metadata": {},
     "output_type": "execute_result"
    }
   ],
   "source": [
    "# choosing only top five most mentioned hashtags (three in our case)\n",
    "top_hashtags = list(hashtag_dict.keys())[:5]\n",
    "top_hashtags "
   ]
  },
  {
   "cell_type": "code",
   "execution_count": 11,
   "id": "3f8097ee-c0f8-4065-9925-b12a7d1cd7f9",
   "metadata": {},
   "outputs": [],
   "source": [
    "# creating dummys for each of the top hashtags\n",
    "for hashtag in top_hashtags:\n",
    "    df['hashtag_'+hashtag] = df.text.apply(lambda x: 1 if hashtag in x else 0)"
   ]
  },
  {
   "cell_type": "markdown",
   "id": "c3cdc0b3-f387-45b2-bcbe-e375ecc9c519",
   "metadata": {},
   "source": [
    "- Growth of followers \n",
    "\n",
    "We also create a column showing the difference between the current tweet's number of followers and the previous one. By doing this, it might be implied that any change in number of followers happens due to the last tweet posted. This is not necessarily true, however since it is impossible to guess which tweet was 'responsible' for an increase or decrease in total number of followers, we keep this assumption as it is. "
   ]
  },
  {
   "cell_type": "code",
   "execution_count": 12,
   "id": "b3849988-ebb5-42ef-a55d-5be4d73edc0d",
   "metadata": {},
   "outputs": [],
   "source": [
    "df['growth_fllrs'] = - df.groupby(\"username\")[\"author_followers\"].diff() \n",
    "df['growth_fllrs'] = df['growth_fllrs'].fillna(0)"
   ]
  },
  {
   "cell_type": "code",
   "execution_count": 13,
   "id": "94808a06-a023-458a-ad92-4ea29a4dd16e",
   "metadata": {},
   "outputs": [
    {
     "data": {
      "text/html": [
       "<div>\n",
       "<style scoped>\n",
       "    .dataframe tbody tr th:only-of-type {\n",
       "        vertical-align: middle;\n",
       "    }\n",
       "\n",
       "    .dataframe tbody tr th {\n",
       "        vertical-align: top;\n",
       "    }\n",
       "\n",
       "    .dataframe thead th {\n",
       "        text-align: right;\n",
       "    }\n",
       "</style>\n",
       "<table border=\"1\" class=\"dataframe\">\n",
       "  <thead>\n",
       "    <tr style=\"text-align: right;\">\n",
       "      <th></th>\n",
       "      <th>created_at</th>\n",
       "      <th>author_followers</th>\n",
       "      <th>growth_fllrs</th>\n",
       "    </tr>\n",
       "  </thead>\n",
       "  <tbody>\n",
       "    <tr>\n",
       "      <th>1927</th>\n",
       "      <td>2022-03-11 20:45:06+00:00</td>\n",
       "      <td>52297188</td>\n",
       "      <td>-0.0</td>\n",
       "    </tr>\n",
       "    <tr>\n",
       "      <th>1928</th>\n",
       "      <td>2022-03-11 20:30:13+00:00</td>\n",
       "      <td>52297188</td>\n",
       "      <td>-0.0</td>\n",
       "    </tr>\n",
       "    <tr>\n",
       "      <th>1929</th>\n",
       "      <td>2022-03-11 20:25:08+00:00</td>\n",
       "      <td>52297191</td>\n",
       "      <td>-3.0</td>\n",
       "    </tr>\n",
       "    <tr>\n",
       "      <th>1930</th>\n",
       "      <td>2022-03-11 20:15:11+00:00</td>\n",
       "      <td>52297191</td>\n",
       "      <td>-0.0</td>\n",
       "    </tr>\n",
       "  </tbody>\n",
       "</table>\n",
       "</div>"
      ],
      "text/plain": [
       "                     created_at  author_followers  growth_fllrs\n",
       "1927  2022-03-11 20:45:06+00:00          52297188          -0.0\n",
       "1928  2022-03-11 20:30:13+00:00          52297188          -0.0\n",
       "1929  2022-03-11 20:25:08+00:00          52297191          -3.0\n",
       "1930  2022-03-11 20:15:11+00:00          52297191          -0.0"
      ]
     },
     "execution_count": 13,
     "metadata": {},
     "output_type": "execute_result"
    }
   ],
   "source": [
    "# checking the values \n",
    "df[['created_at','author_followers','growth_fllrs']][1927:1931]"
   ]
  },
  {
   "cell_type": "markdown",
   "id": "47fc2211-cb42-4e63-a3a9-19c08f63bb96",
   "metadata": {},
   "source": [
    "- An indicator if the tweet is posted by NYT, and zero if the tweet belongs to Fox News"
   ]
  },
  {
   "cell_type": "code",
   "execution_count": 14,
   "id": "00cb42ee-d3e7-489d-abf5-fc7cd94d63a2",
   "metadata": {},
   "outputs": [],
   "source": [
    "df['is_nyt']= df['username'].apply(lambda x: 1 if x=='nytimes' else 0)"
   ]
  },
  {
   "cell_type": "code",
   "execution_count": 15,
   "id": "908539bd-c31d-4ebd-908d-a97e0a54b501",
   "metadata": {},
   "outputs": [
    {
     "data": {
      "text/html": [
       "<div>\n",
       "<style scoped>\n",
       "    .dataframe tbody tr th:only-of-type {\n",
       "        vertical-align: middle;\n",
       "    }\n",
       "\n",
       "    .dataframe tbody tr th {\n",
       "        vertical-align: top;\n",
       "    }\n",
       "\n",
       "    .dataframe thead th {\n",
       "        text-align: right;\n",
       "    }\n",
       "</style>\n",
       "<table border=\"1\" class=\"dataframe\">\n",
       "  <thead>\n",
       "    <tr style=\"text-align: right;\">\n",
       "      <th></th>\n",
       "      <th>username</th>\n",
       "      <th>author_followers</th>\n",
       "      <th>text</th>\n",
       "      <th>created_at</th>\n",
       "      <th>retweets</th>\n",
       "      <th>replies</th>\n",
       "      <th>likes</th>\n",
       "      <th>quote_count</th>\n",
       "      <th>likes_per_rt</th>\n",
       "      <th>likes_per_mfllrs</th>\n",
       "      <th>...</th>\n",
       "      <th>repl_quot_per_mfllrs</th>\n",
       "      <th>mentions_count</th>\n",
       "      <th>is_breaking</th>\n",
       "      <th>is_opinion</th>\n",
       "      <th>is_hashtag</th>\n",
       "      <th>hashtag_CriticsChoice</th>\n",
       "      <th>hashtag_CriticsChoiceAwards</th>\n",
       "      <th>hashtag_MeToo</th>\n",
       "      <th>growth_fllrs</th>\n",
       "      <th>is_nyt</th>\n",
       "    </tr>\n",
       "  </thead>\n",
       "  <tbody>\n",
       "    <tr>\n",
       "      <th>0</th>\n",
       "      <td>FoxNews</td>\n",
       "      <td>20946694</td>\n",
       "      <td>FLASHBACK: Ex-intel officials claimed the Hunt...</td>\n",
       "      <td>2022-03-18 15:50:00+00:00</td>\n",
       "      <td>26</td>\n",
       "      <td>39</td>\n",
       "      <td>68</td>\n",
       "      <td>0</td>\n",
       "      <td>2.615385</td>\n",
       "      <td>3.246336</td>\n",
       "      <td>...</td>\n",
       "      <td>1.861869</td>\n",
       "      <td>0</td>\n",
       "      <td>0</td>\n",
       "      <td>0</td>\n",
       "      <td>0</td>\n",
       "      <td>0</td>\n",
       "      <td>0</td>\n",
       "      <td>0</td>\n",
       "      <td>0.0</td>\n",
       "      <td>0</td>\n",
       "    </tr>\n",
       "    <tr>\n",
       "      <th>1</th>\n",
       "      <td>FoxNews</td>\n",
       "      <td>20946694</td>\n",
       "      <td>Biden must do more to counter Putin's propagan...</td>\n",
       "      <td>2022-03-18 15:45:00+00:00</td>\n",
       "      <td>23</td>\n",
       "      <td>94</td>\n",
       "      <td>92</td>\n",
       "      <td>7</td>\n",
       "      <td>4.000000</td>\n",
       "      <td>4.392101</td>\n",
       "      <td>...</td>\n",
       "      <td>4.821763</td>\n",
       "      <td>0</td>\n",
       "      <td>0</td>\n",
       "      <td>0</td>\n",
       "      <td>0</td>\n",
       "      <td>0</td>\n",
       "      <td>0</td>\n",
       "      <td>0</td>\n",
       "      <td>-0.0</td>\n",
       "      <td>0</td>\n",
       "    </tr>\n",
       "    <tr>\n",
       "      <th>2</th>\n",
       "      <td>FoxNews</td>\n",
       "      <td>20946694</td>\n",
       "      <td>NASCAR: What to expect from Atlanta's super ne...</td>\n",
       "      <td>2022-03-18 15:40:00+00:00</td>\n",
       "      <td>10</td>\n",
       "      <td>9</td>\n",
       "      <td>21</td>\n",
       "      <td>0</td>\n",
       "      <td>2.100000</td>\n",
       "      <td>1.002545</td>\n",
       "      <td>...</td>\n",
       "      <td>0.429662</td>\n",
       "      <td>0</td>\n",
       "      <td>0</td>\n",
       "      <td>0</td>\n",
       "      <td>0</td>\n",
       "      <td>0</td>\n",
       "      <td>0</td>\n",
       "      <td>0</td>\n",
       "      <td>-0.0</td>\n",
       "      <td>0</td>\n",
       "    </tr>\n",
       "    <tr>\n",
       "      <th>3</th>\n",
       "      <td>FoxNews</td>\n",
       "      <td>20946694</td>\n",
       "      <td>BREAKING: Biden, Xi discuss Russia's war again...</td>\n",
       "      <td>2022-03-18 15:34:43+00:00</td>\n",
       "      <td>33</td>\n",
       "      <td>71</td>\n",
       "      <td>87</td>\n",
       "      <td>3</td>\n",
       "      <td>2.636364</td>\n",
       "      <td>4.153400</td>\n",
       "      <td>...</td>\n",
       "      <td>3.532777</td>\n",
       "      <td>0</td>\n",
       "      <td>1</td>\n",
       "      <td>0</td>\n",
       "      <td>0</td>\n",
       "      <td>0</td>\n",
       "      <td>0</td>\n",
       "      <td>0</td>\n",
       "      <td>-0.0</td>\n",
       "      <td>0</td>\n",
       "    </tr>\n",
       "    <tr>\n",
       "      <th>4</th>\n",
       "      <td>FoxNews</td>\n",
       "      <td>20946694</td>\n",
       "      <td>Transgender swimmer's NCAA championship win 'j...</td>\n",
       "      <td>2022-03-18 15:30:00+00:00</td>\n",
       "      <td>51</td>\n",
       "      <td>69</td>\n",
       "      <td>254</td>\n",
       "      <td>4</td>\n",
       "      <td>4.980392</td>\n",
       "      <td>12.126019</td>\n",
       "      <td>...</td>\n",
       "      <td>3.485037</td>\n",
       "      <td>0</td>\n",
       "      <td>0</td>\n",
       "      <td>0</td>\n",
       "      <td>0</td>\n",
       "      <td>0</td>\n",
       "      <td>0</td>\n",
       "      <td>0</td>\n",
       "      <td>-0.0</td>\n",
       "      <td>0</td>\n",
       "    </tr>\n",
       "  </tbody>\n",
       "</table>\n",
       "<p>5 rows × 21 columns</p>\n",
       "</div>"
      ],
      "text/plain": [
       "  username  author_followers  \\\n",
       "0  FoxNews          20946694   \n",
       "1  FoxNews          20946694   \n",
       "2  FoxNews          20946694   \n",
       "3  FoxNews          20946694   \n",
       "4  FoxNews          20946694   \n",
       "\n",
       "                                                text  \\\n",
       "0  FLASHBACK: Ex-intel officials claimed the Hunt...   \n",
       "1  Biden must do more to counter Putin's propagan...   \n",
       "2  NASCAR: What to expect from Atlanta's super ne...   \n",
       "3  BREAKING: Biden, Xi discuss Russia's war again...   \n",
       "4  Transgender swimmer's NCAA championship win 'j...   \n",
       "\n",
       "                  created_at  retweets  replies  likes  quote_count  \\\n",
       "0  2022-03-18 15:50:00+00:00        26       39     68            0   \n",
       "1  2022-03-18 15:45:00+00:00        23       94     92            7   \n",
       "2  2022-03-18 15:40:00+00:00        10        9     21            0   \n",
       "3  2022-03-18 15:34:43+00:00        33       71     87            3   \n",
       "4  2022-03-18 15:30:00+00:00        51       69    254            4   \n",
       "\n",
       "   likes_per_rt  likes_per_mfllrs  ...  repl_quot_per_mfllrs  mentions_count  \\\n",
       "0      2.615385          3.246336  ...              1.861869               0   \n",
       "1      4.000000          4.392101  ...              4.821763               0   \n",
       "2      2.100000          1.002545  ...              0.429662               0   \n",
       "3      2.636364          4.153400  ...              3.532777               0   \n",
       "4      4.980392         12.126019  ...              3.485037               0   \n",
       "\n",
       "   is_breaking  is_opinion  is_hashtag  hashtag_CriticsChoice  \\\n",
       "0            0           0           0                      0   \n",
       "1            0           0           0                      0   \n",
       "2            0           0           0                      0   \n",
       "3            1           0           0                      0   \n",
       "4            0           0           0                      0   \n",
       "\n",
       "   hashtag_CriticsChoiceAwards  hashtag_MeToo  growth_fllrs  is_nyt  \n",
       "0                            0              0           0.0       0  \n",
       "1                            0              0          -0.0       0  \n",
       "2                            0              0          -0.0       0  \n",
       "3                            0              0          -0.0       0  \n",
       "4                            0              0          -0.0       0  \n",
       "\n",
       "[5 rows x 21 columns]"
      ]
     },
     "execution_count": 15,
     "metadata": {},
     "output_type": "execute_result"
    }
   ],
   "source": [
    "df.head()"
   ]
  },
  {
   "cell_type": "markdown",
   "id": "a5c3c5ac-db2e-4e59-bdc4-21532c1c6581",
   "metadata": {},
   "source": [
    "-----\n",
    "# Data Exploration and Prediction \n",
    "-----\n",
    "## Tweet - Follower Relationship\n",
    "\n",
    "For each of the outlet, we want to see whether there is any relationship between tweet content and number of followers. We use VADER Sentiment Intensity Analyzer for this."
   ]
  },
  {
   "cell_type": "code",
   "execution_count": 16,
   "id": "02fb1a8a-3dda-492b-b0a2-3345d8c3cb68",
   "metadata": {},
   "outputs": [],
   "source": [
    "from vaderSentiment.vaderSentiment import SentimentIntensityAnalyzer\n",
    "\n",
    "sentiment = SentimentIntensityAnalyzer()"
   ]
  },
  {
   "cell_type": "markdown",
   "id": "7f204bc8-68da-4245-914e-80cc8434e4a8",
   "metadata": {
    "tags": []
   },
   "source": [
    "**FoxNews data**"
   ]
  },
  {
   "cell_type": "code",
   "execution_count": 17,
   "id": "cbcc0959-b26a-4753-a96a-ce85004f3a22",
   "metadata": {},
   "outputs": [],
   "source": [
    "# estimating polarity score for each tweet\n",
    "df1['polarity_score'] = df1['text'].apply(lambda x: sentiment.polarity_scores(str(x))['compound'])\n",
    "\n",
    "# classifying tweets as positive, negative and neutral based on common thresholds for splitting Vader sentiments\n",
    "df1['sentiment'] = np.where(df1['polarity_score']>0.05, \"Positive\", \n",
    "                          np.where(df1['polarity_score']< -0.05, \"Negative\", 'Neutral'))"
   ]
  },
  {
   "cell_type": "code",
   "execution_count": 18,
   "id": "2c55a59a-4fa0-490c-8de3-246b676c56f5",
   "metadata": {},
   "outputs": [
    {
     "data": {
      "text/plain": [
       "<AxesSubplot:xlabel='sentiment', ylabel='count'>"
      ]
     },
     "execution_count": 18,
     "metadata": {},
     "output_type": "execute_result"
    },
    {
     "data": {
      "image/png": "[encoded data removed]",
      "text/plain": [
       "<Figure size 504x360 with 1 Axes>"
      ]
     },
     "metadata": {},
     "output_type": "display_data"
    }
   ],
   "source": [
    "import seaborn as sns\n",
    "sns.set(rc={\"figure.figsize\":(7, 5)})\n",
    "sns.countplot(x='sentiment', data=df1, palette=\"Reds\")"
   ]
  },
  {
   "cell_type": "markdown",
   "id": "7163e1b1-d2cf-4964-a97d-2745a26fe3ac",
   "metadata": {
    "tags": []
   },
   "source": [
    "We can see that there are more news with Negative sentiment for Fox News. \n",
    "\n",
    "Now, let's check whether there is any correlation between the number of followers and polarity scores."
   ]
  },
  {
   "cell_type": "code",
   "execution_count": 19,
   "id": "3368ba38-524c-4985-abc3-20e3df9272a6",
   "metadata": {},
   "outputs": [
    {
     "data": {
      "text/plain": [
       "0.053717506122658236"
      ]
     },
     "execution_count": 19,
     "metadata": {},
     "output_type": "execute_result"
    }
   ],
   "source": [
    "df1['polarity_score'].corr(df1['author_followers'])"
   ]
  },
  {
   "cell_type": "markdown",
   "id": "b1b23096-2fbd-4725-a6d5-200031bc008f",
   "metadata": {},
   "source": [
    "The correlation value is positive, but very small. \n",
    "\n",
    "Let's find correlation between the number of followers and sentiment scores instead of polarity scores."
   ]
  },
  {
   "cell_type": "code",
   "execution_count": 20,
   "id": "bdcb56fb-65e7-400e-a9c4-e790ec3c844e",
   "metadata": {},
   "outputs": [
    {
     "data": {
      "text/plain": [
       "0.04273945202796756"
      ]
     },
     "execution_count": 20,
     "metadata": {},
     "output_type": "execute_result"
    }
   ],
   "source": [
    "df1['sentiment'] = np.where(df1['polarity_score']>0.05, 1, \n",
    "                          np.where(df1['polarity_score']< -0.05, -1, 0))\n",
    "\n",
    "df1['sentiment'].corr(df1['author_followers'])"
   ]
  },
  {
   "cell_type": "markdown",
   "id": "3bc42489-ab62-4677-994a-c01e9d5852f3",
   "metadata": {},
   "source": [
    "The result has not changed much. Positive sign implies that increase in sentiment/polarity score is associated with in increase in followers for Fox News, however the value is too small. "
   ]
  },
  {
   "cell_type": "code",
   "execution_count": 21,
   "id": "4bc8311f-1c10-4e4a-8a09-46516d1e5673",
   "metadata": {},
   "outputs": [
    {
     "data": {
      "image/png": "[encoded data removed]",
      "text/plain": [
       "<Figure size 504x360 with 1 Axes>"
      ]
     },
     "metadata": {},
     "output_type": "display_data"
    }
   ],
   "source": [
    "import matplotlib.pyplot as plt\n",
    "\n",
    "sns.lmplot(x = \"polarity_score\", y = 'author_followers', data = df1, \n",
    "           scatter_kws ={'color': '#FF7256', 's':2}, line_kws={'color': '#8B1A1A'}, \n",
    "           height=5, aspect=1.4, legend=False )\n",
    "sns.color_palette(\"Reds\")\n",
    "\n",
    "ax = plt.gca()\n",
    "ax.set_title(\"Tweet - Follower Relationship: Fox News\", fontsize=17)\n",
    "plt.show()"
   ]
  },
  {
   "cell_type": "markdown",
   "id": "77af6223-6f15-4692-95cf-fd690cfd57f4",
   "metadata": {
    "tags": []
   },
   "source": [
    "As we can see, the slope is positive but at the same time very small. Partially the reason for this is that there is no variability in the followers number. For such a short period, the number of followers increased and decreased only few times by 1-6 followers.\n",
    "\n",
    "**NYTimes data**"
   ]
  },
  {
   "cell_type": "code",
   "execution_count": 22,
   "id": "084b838a-9406-4836-a857-f24deb920b05",
   "metadata": {},
   "outputs": [],
   "source": [
    "df2['polarity_score'] = df2['text'].apply(lambda x: sentiment.polarity_scores(str(x))['compound'])\n",
    "df2['sentiment'] = np.where(df2['polarity_score']>0.05, \"Positive\", \n",
    "                          np.where(df2['polarity_score']< -0.05, \"Negative\", 'Neutral'))"
   ]
  },
  {
   "cell_type": "code",
   "execution_count": 23,
   "id": "210f3e5f-477b-4cfd-9e83-c5f3c15c00f1",
   "metadata": {},
   "outputs": [
    {
     "data": {
      "text/plain": [
       "<AxesSubplot:xlabel='sentiment', ylabel='count'>"
      ]
     },
     "execution_count": 23,
     "metadata": {},
     "output_type": "execute_result"
    },
    {
     "data": {
      "image/png": "[encoded data removed]",
      "text/plain": [
       "<Figure size 504x360 with 1 Axes>"
      ]
     },
     "metadata": {},
     "output_type": "display_data"
    }
   ],
   "source": [
    "sns.countplot(x='sentiment', data=df2, palette=\"Reds\")"
   ]
  },
  {
   "cell_type": "markdown",
   "id": "5af74b9c-7552-43aa-8aa9-d349c32ee029",
   "metadata": {
    "tags": []
   },
   "source": [
    "We can see that there are more news with Negative sentiment. \n",
    "\n",
    "Now, let's check whether there is any correlation between the number of followers and polarity/sentiment scores."
   ]
  },
  {
   "cell_type": "code",
   "execution_count": 24,
   "id": "17bc5da6-3c07-4aa4-a5af-02c7184ffa08",
   "metadata": {},
   "outputs": [
    {
     "data": {
      "text/plain": [
       "-0.03855869395832605"
      ]
     },
     "execution_count": 24,
     "metadata": {},
     "output_type": "execute_result"
    }
   ],
   "source": [
    "df2['polarity_score'].corr(df2['author_followers'])"
   ]
  },
  {
   "cell_type": "code",
   "execution_count": 25,
   "id": "31d13b67-3acc-4d83-8a60-dcec9a1108d2",
   "metadata": {},
   "outputs": [
    {
     "data": {
      "text/plain": [
       "-0.03424046821084184"
      ]
     },
     "execution_count": 25,
     "metadata": {},
     "output_type": "execute_result"
    }
   ],
   "source": [
    "df2['sentiment'] = np.where(df2['polarity_score']>0.05, 1, \n",
    "                          np.where(df2['polarity_score']< -0.05, -1, 0))\n",
    "df2['sentiment'].corr(df2['author_followers'])"
   ]
  },
  {
   "cell_type": "code",
   "execution_count": 26,
   "id": "ddd86244-11c5-4b9c-8c98-a0167ce22510",
   "metadata": {},
   "outputs": [
    {
     "data": {
      "image/png": "[encoded data removed]",
      "text/plain": [
       "<Figure size 504x360 with 1 Axes>"
      ]
     },
     "metadata": {},
     "output_type": "display_data"
    }
   ],
   "source": [
    "sns.lmplot(x = \"polarity_score\", y = 'author_followers', data = df2, \n",
    "           scatter_kws ={'color': '#FF7256', 's':2}, line_kws={'color': '#8B1A1A'}, \n",
    "           height=5, aspect=1.4, legend=False )\n",
    "sns.color_palette(\"Reds\")\n",
    "\n",
    "ax = plt.gca()\n",
    "ax.set_title(\"Tweet - Follower Relationship: NY Times\", fontsize=17)\n",
    "plt.show()"
   ]
  },
  {
   "cell_type": "markdown",
   "id": "9fdd815a-c2bf-441a-b13d-ca6f5a2b851b",
   "metadata": {},
   "source": [
    "As we can see, for NY times, the correlation is now negative but still very low, almost zero. Once again we think that with greater  variability in the followers number the results could be more meaningfull.\n",
    "\n",
    "------"
   ]
  },
  {
   "cell_type": "markdown",
   "id": "70efa1c8-d35b-40b6-9b5d-dfb0551ce372",
   "metadata": {},
   "source": [
    "## The most frequent topics tweeted about by each outlet\n",
    "\n",
    "#### Preprocess data"
   ]
  },
  {
   "cell_type": "code",
   "execution_count": 27,
   "id": "f2bf07bb-243c-4762-a209-8993a8290cbc",
   "metadata": {},
   "outputs": [],
   "source": [
    "from sklearn.feature_extraction.text import TfidfVectorizer\n",
    "from sklearn.feature_extraction.text import CountVectorizer\n",
    "from nltk.corpus import stopwords\n",
    "from nltk.tokenize import word_tokenize\n",
    "from nltk.stem import WordNetLemmatizer, LancasterStemmer "
   ]
  },
  {
   "cell_type": "code",
   "execution_count": 28,
   "id": "fb14da47-ab69-41c1-8eaa-fa2b8bd93bc8",
   "metadata": {},
   "outputs": [],
   "source": [
    "# load the stopword list provided by the NLTK library\n",
    "stop_words = stopwords.words('english')\n",
    "\n",
    "# think of twitter/news specific stopwords \n",
    "stopwords_verbs = ['said', 'writes', 'take','get','may','say', 'get', 'go', 'know', 'may', 'need', 'like', 'make', 'see', 'want', 'come', 'take', 'use', 'would', 'can']\n",
    "stopwords_other = ['according', 'one', 'mr', 'bbc', 'image', 'getty', 'de', 'en', 'caption', 'also', 'copyright', 'something', 'u']\n",
    "\n",
    "stop_words = stop_words + stopwords_verbs + stopwords_other"
   ]
  },
  {
   "cell_type": "markdown",
   "id": "596e5c94-d7fe-4a9b-9d87-0b9b51801ad6",
   "metadata": {},
   "source": [
    "Let's define a function **preprocessing_text** that takes text as input an does the following:\n",
    "* replaces all non-alphanumeric characters with spaces\n",
    "* replaces 3+ consecutive letters to one. e.g. looooove -> love\n",
    "* removes all emails\n",
    "* removes all urls\n",
    "* replaces all letters to lower case\n",
    "* removes stopwords (nltk stopwords)\n",
    "* removes words with digits\n",
    "* conducts a lemmatization"
   ]
  },
  {
   "cell_type": "code",
   "execution_count": 29,
   "id": "44259926-0a03-4bc5-bc16-bba3ef3cf065",
   "metadata": {},
   "outputs": [],
   "source": [
    "def preprocessing_text(text):\n",
    "    text = re.sub(r'([a-z0-9+._-]+@[a-z0-9+._-]+\\.[a-z0-9+_-]+)',\"\", text) # remove emails\n",
    "    text = re.sub(r'(http|https|ftp|ssh)://([\\w_-]+(?:(?:\\.[\\w_-]+)+))([\\w.,@?^=%&:/~+#-]*[\\w@?^=%&/~+#-])?', '' , text) # remove urls\n",
    "    text = re.sub(r'[^A-Za-z0-9 ]+', ' ', text) #remove all non‐alphanumeric characters except white space\n",
    "    text = re.sub(\"(.)\\\\1{2,}\", \"\\\\1\", text) #replace 3+ consecutive letters to 1 (loooovvvve -> love)\n",
    "    words = word_tokenize(text.lower())\n",
    "    tokens = [word for word in words if word not in stop_words]\n",
    "    tokens = [token for token in tokens if not any(c.isdigit() for c in token)] #remove everything containing digits\n",
    "    lemmatizer = WordNetLemmatizer()\n",
    "    tokens_lematized = [lemmatizer.lemmatize(word) for word in tokens]\n",
    "    preprocessed_text = ' '.join(tokens_lematized)\n",
    "    return preprocessed_text"
   ]
  },
  {
   "cell_type": "code",
   "execution_count": 30,
   "id": "50a6d032-c8d7-4ec7-b675-fcca29029294",
   "metadata": {},
   "outputs": [
    {
     "name": "stdout",
     "output_type": "stream",
     "text": [
      "CPU times: total: 1.61 s\n",
      "Wall time: 1.6 s\n"
     ]
    }
   ],
   "source": [
    "%%time\n",
    "df1['text'] = df1['text'].apply(lambda x: preprocessing_text(x))"
   ]
  },
  {
   "cell_type": "code",
   "execution_count": 31,
   "id": "db57ad2e-a29e-4662-be26-aba24af3dfa0",
   "metadata": {},
   "outputs": [
    {
     "name": "stdout",
     "output_type": "stream",
     "text": [
      "CPU times: total: 312 ms\n",
      "Wall time: 291 ms\n"
     ]
    }
   ],
   "source": [
    "%%time\n",
    "df2['text'] = df2['text'].apply(lambda x: preprocessing_text(x))"
   ]
  },
  {
   "cell_type": "markdown",
   "id": "4a3701e1-5110-450b-8a9e-05d4973707c0",
   "metadata": {},
   "source": [
    "#### Use count vectorizer"
   ]
  },
  {
   "cell_type": "code",
   "execution_count": 32,
   "id": "72b9f97d-7777-4dc7-aa3d-57bc805596b0",
   "metadata": {},
   "outputs": [],
   "source": [
    "from sklearn.feature_extraction.text import CountVectorizer\n",
    "vectorizer1 = CountVectorizer()\n",
    "vectorizer2 = CountVectorizer()\n",
    "\n",
    "count1 = vectorizer1.fit_transform(df1.text)\n",
    "count2 = vectorizer2.fit_transform(df2.text)"
   ]
  },
  {
   "cell_type": "markdown",
   "id": "232182e5-8e4b-4c33-ab76-5a4496f21495",
   "metadata": {},
   "source": [
    "Let's first have a look at the top common words mentioned by senators in their speeches."
   ]
  },
  {
   "cell_type": "code",
   "execution_count": 33,
   "id": "8f5fe7fd-02d9-4e4e-b25c-6e4b6eae2894",
   "metadata": {},
   "outputs": [
    {
     "data": {
      "text/html": [
       "<div>\n",
       "<style scoped>\n",
       "    .dataframe tbody tr th:only-of-type {\n",
       "        vertical-align: middle;\n",
       "    }\n",
       "\n",
       "    .dataframe tbody tr th {\n",
       "        vertical-align: top;\n",
       "    }\n",
       "\n",
       "    .dataframe thead th {\n",
       "        text-align: right;\n",
       "    }\n",
       "</style>\n",
       "<table border=\"1\" class=\"dataframe\">\n",
       "  <thead>\n",
       "    <tr style=\"text-align: right;\">\n",
       "      <th></th>\n",
       "      <th>0</th>\n",
       "      <th>1</th>\n",
       "      <th>2</th>\n",
       "      <th>3</th>\n",
       "      <th>4</th>\n",
       "      <th>5</th>\n",
       "      <th>6</th>\n",
       "      <th>7</th>\n",
       "      <th>8</th>\n",
       "      <th>9</th>\n",
       "      <th>...</th>\n",
       "      <th>1320</th>\n",
       "      <th>1321</th>\n",
       "      <th>1322</th>\n",
       "      <th>1323</th>\n",
       "      <th>1324</th>\n",
       "      <th>1325</th>\n",
       "      <th>1326</th>\n",
       "      <th>1327</th>\n",
       "      <th>1328</th>\n",
       "      <th>Total</th>\n",
       "    </tr>\n",
       "  </thead>\n",
       "  <tbody>\n",
       "    <tr>\n",
       "      <th>ukraine</th>\n",
       "      <td>0</td>\n",
       "      <td>0</td>\n",
       "      <td>0</td>\n",
       "      <td>1</td>\n",
       "      <td>0</td>\n",
       "      <td>0</td>\n",
       "      <td>0</td>\n",
       "      <td>0</td>\n",
       "      <td>1</td>\n",
       "      <td>1</td>\n",
       "      <td>...</td>\n",
       "      <td>0</td>\n",
       "      <td>0</td>\n",
       "      <td>0</td>\n",
       "      <td>0</td>\n",
       "      <td>0</td>\n",
       "      <td>1</td>\n",
       "      <td>0</td>\n",
       "      <td>1</td>\n",
       "      <td>0</td>\n",
       "      <td>263</td>\n",
       "    </tr>\n",
       "    <tr>\n",
       "      <th>biden</th>\n",
       "      <td>1</td>\n",
       "      <td>1</td>\n",
       "      <td>0</td>\n",
       "      <td>1</td>\n",
       "      <td>0</td>\n",
       "      <td>0</td>\n",
       "      <td>1</td>\n",
       "      <td>1</td>\n",
       "      <td>0</td>\n",
       "      <td>0</td>\n",
       "      <td>...</td>\n",
       "      <td>0</td>\n",
       "      <td>0</td>\n",
       "      <td>1</td>\n",
       "      <td>0</td>\n",
       "      <td>0</td>\n",
       "      <td>0</td>\n",
       "      <td>1</td>\n",
       "      <td>0</td>\n",
       "      <td>0</td>\n",
       "      <td>206</td>\n",
       "    </tr>\n",
       "    <tr>\n",
       "      <th>russia</th>\n",
       "      <td>0</td>\n",
       "      <td>0</td>\n",
       "      <td>0</td>\n",
       "      <td>1</td>\n",
       "      <td>0</td>\n",
       "      <td>0</td>\n",
       "      <td>0</td>\n",
       "      <td>1</td>\n",
       "      <td>0</td>\n",
       "      <td>0</td>\n",
       "      <td>...</td>\n",
       "      <td>0</td>\n",
       "      <td>0</td>\n",
       "      <td>0</td>\n",
       "      <td>0</td>\n",
       "      <td>0</td>\n",
       "      <td>1</td>\n",
       "      <td>0</td>\n",
       "      <td>0</td>\n",
       "      <td>1</td>\n",
       "      <td>184</td>\n",
       "    </tr>\n",
       "    <tr>\n",
       "      <th>war</th>\n",
       "      <td>0</td>\n",
       "      <td>0</td>\n",
       "      <td>0</td>\n",
       "      <td>1</td>\n",
       "      <td>0</td>\n",
       "      <td>0</td>\n",
       "      <td>0</td>\n",
       "      <td>1</td>\n",
       "      <td>0</td>\n",
       "      <td>0</td>\n",
       "      <td>...</td>\n",
       "      <td>0</td>\n",
       "      <td>0</td>\n",
       "      <td>0</td>\n",
       "      <td>0</td>\n",
       "      <td>0</td>\n",
       "      <td>1</td>\n",
       "      <td>0</td>\n",
       "      <td>0</td>\n",
       "      <td>0</td>\n",
       "      <td>141</td>\n",
       "    </tr>\n",
       "    <tr>\n",
       "      <th>russian</th>\n",
       "      <td>1</td>\n",
       "      <td>0</td>\n",
       "      <td>0</td>\n",
       "      <td>0</td>\n",
       "      <td>0</td>\n",
       "      <td>0</td>\n",
       "      <td>0</td>\n",
       "      <td>0</td>\n",
       "      <td>0</td>\n",
       "      <td>1</td>\n",
       "      <td>...</td>\n",
       "      <td>0</td>\n",
       "      <td>0</td>\n",
       "      <td>0</td>\n",
       "      <td>0</td>\n",
       "      <td>0</td>\n",
       "      <td>0</td>\n",
       "      <td>0</td>\n",
       "      <td>0</td>\n",
       "      <td>0</td>\n",
       "      <td>140</td>\n",
       "    </tr>\n",
       "    <tr>\n",
       "      <th>say</th>\n",
       "      <td>0</td>\n",
       "      <td>0</td>\n",
       "      <td>0</td>\n",
       "      <td>0</td>\n",
       "      <td>0</td>\n",
       "      <td>1</td>\n",
       "      <td>0</td>\n",
       "      <td>1</td>\n",
       "      <td>0</td>\n",
       "      <td>0</td>\n",
       "      <td>...</td>\n",
       "      <td>0</td>\n",
       "      <td>0</td>\n",
       "      <td>0</td>\n",
       "      <td>0</td>\n",
       "      <td>0</td>\n",
       "      <td>0</td>\n",
       "      <td>0</td>\n",
       "      <td>0</td>\n",
       "      <td>0</td>\n",
       "      <td>133</td>\n",
       "    </tr>\n",
       "    <tr>\n",
       "      <th>putin</th>\n",
       "      <td>0</td>\n",
       "      <td>1</td>\n",
       "      <td>0</td>\n",
       "      <td>0</td>\n",
       "      <td>0</td>\n",
       "      <td>0</td>\n",
       "      <td>0</td>\n",
       "      <td>1</td>\n",
       "      <td>0</td>\n",
       "      <td>0</td>\n",
       "      <td>...</td>\n",
       "      <td>0</td>\n",
       "      <td>0</td>\n",
       "      <td>0</td>\n",
       "      <td>0</td>\n",
       "      <td>0</td>\n",
       "      <td>0</td>\n",
       "      <td>0</td>\n",
       "      <td>0</td>\n",
       "      <td>0</td>\n",
       "      <td>98</td>\n",
       "    </tr>\n",
       "    <tr>\n",
       "      <th>ukrainian</th>\n",
       "      <td>0</td>\n",
       "      <td>0</td>\n",
       "      <td>0</td>\n",
       "      <td>0</td>\n",
       "      <td>0</td>\n",
       "      <td>0</td>\n",
       "      <td>0</td>\n",
       "      <td>0</td>\n",
       "      <td>0</td>\n",
       "      <td>0</td>\n",
       "      <td>...</td>\n",
       "      <td>0</td>\n",
       "      <td>0</td>\n",
       "      <td>0</td>\n",
       "      <td>0</td>\n",
       "      <td>0</td>\n",
       "      <td>0</td>\n",
       "      <td>0</td>\n",
       "      <td>0</td>\n",
       "      <td>0</td>\n",
       "      <td>67</td>\n",
       "    </tr>\n",
       "    <tr>\n",
       "      <th>zelenskyy</th>\n",
       "      <td>0</td>\n",
       "      <td>0</td>\n",
       "      <td>0</td>\n",
       "      <td>0</td>\n",
       "      <td>0</td>\n",
       "      <td>0</td>\n",
       "      <td>0</td>\n",
       "      <td>0</td>\n",
       "      <td>0</td>\n",
       "      <td>0</td>\n",
       "      <td>...</td>\n",
       "      <td>0</td>\n",
       "      <td>0</td>\n",
       "      <td>0</td>\n",
       "      <td>0</td>\n",
       "      <td>0</td>\n",
       "      <td>0</td>\n",
       "      <td>0</td>\n",
       "      <td>0</td>\n",
       "      <td>0</td>\n",
       "      <td>67</td>\n",
       "    </tr>\n",
       "    <tr>\n",
       "      <th>new</th>\n",
       "      <td>0</td>\n",
       "      <td>0</td>\n",
       "      <td>1</td>\n",
       "      <td>0</td>\n",
       "      <td>0</td>\n",
       "      <td>0</td>\n",
       "      <td>0</td>\n",
       "      <td>0</td>\n",
       "      <td>0</td>\n",
       "      <td>0</td>\n",
       "      <td>...</td>\n",
       "      <td>0</td>\n",
       "      <td>0</td>\n",
       "      <td>0</td>\n",
       "      <td>0</td>\n",
       "      <td>0</td>\n",
       "      <td>0</td>\n",
       "      <td>0</td>\n",
       "      <td>0</td>\n",
       "      <td>0</td>\n",
       "      <td>64</td>\n",
       "    </tr>\n",
       "  </tbody>\n",
       "</table>\n",
       "<p>10 rows × 1330 columns</p>\n",
       "</div>"
      ],
      "text/plain": [
       "           0  1  2  3  4  5  6  7  8  9  ...  1320  1321  1322  1323  1324  \\\n",
       "ukraine    0  0  0  1  0  0  0  0  1  1  ...     0     0     0     0     0   \n",
       "biden      1  1  0  1  0  0  1  1  0  0  ...     0     0     1     0     0   \n",
       "russia     0  0  0  1  0  0  0  1  0  0  ...     0     0     0     0     0   \n",
       "war        0  0  0  1  0  0  0  1  0  0  ...     0     0     0     0     0   \n",
       "russian    1  0  0  0  0  0  0  0  0  1  ...     0     0     0     0     0   \n",
       "say        0  0  0  0  0  1  0  1  0  0  ...     0     0     0     0     0   \n",
       "putin      0  1  0  0  0  0  0  1  0  0  ...     0     0     0     0     0   \n",
       "ukrainian  0  0  0  0  0  0  0  0  0  0  ...     0     0     0     0     0   \n",
       "zelenskyy  0  0  0  0  0  0  0  0  0  0  ...     0     0     0     0     0   \n",
       "new        0  0  1  0  0  0  0  0  0  0  ...     0     0     0     0     0   \n",
       "\n",
       "           1325  1326  1327  1328  Total  \n",
       "ukraine       1     0     1     0    263  \n",
       "biden         0     1     0     0    206  \n",
       "russia        1     0     0     1    184  \n",
       "war           1     0     0     0    141  \n",
       "russian       0     0     0     0    140  \n",
       "say           0     0     0     0    133  \n",
       "putin         0     0     0     0     98  \n",
       "ukrainian     0     0     0     0     67  \n",
       "zelenskyy     0     0     0     0     67  \n",
       "new           0     0     0     0     64  \n",
       "\n",
       "[10 rows x 1330 columns]"
      ]
     },
     "execution_count": 33,
     "metadata": {},
     "output_type": "execute_result"
    }
   ],
   "source": [
    "df1_top_words = pd.DataFrame(count1.toarray().transpose(), index=vectorizer1.get_feature_names())\n",
    "\n",
    "#Creating a column that would show the total number of mentions for each of the word/token\n",
    "df1_top_words.loc[:,'Total'] = df1_top_words.sum(axis=1) \n",
    "df1_top_words = df1_top_words.sort_values(by='Total', ascending=False)\n",
    "df1_top_words.head(10)\n",
    "# For Fox News:"
   ]
  },
  {
   "cell_type": "code",
   "execution_count": 34,
   "id": "5e7ae6d3-1902-4283-be89-3c6cac92180c",
   "metadata": {},
   "outputs": [
    {
     "data": {
      "text/html": [
       "<div>\n",
       "<style scoped>\n",
       "    .dataframe tbody tr th:only-of-type {\n",
       "        vertical-align: middle;\n",
       "    }\n",
       "\n",
       "    .dataframe tbody tr th {\n",
       "        vertical-align: top;\n",
       "    }\n",
       "\n",
       "    .dataframe thead th {\n",
       "        text-align: right;\n",
       "    }\n",
       "</style>\n",
       "<table border=\"1\" class=\"dataframe\">\n",
       "  <thead>\n",
       "    <tr style=\"text-align: right;\">\n",
       "      <th></th>\n",
       "      <th>0</th>\n",
       "      <th>1</th>\n",
       "      <th>2</th>\n",
       "      <th>3</th>\n",
       "      <th>4</th>\n",
       "      <th>5</th>\n",
       "      <th>6</th>\n",
       "      <th>7</th>\n",
       "      <th>8</th>\n",
       "      <th>9</th>\n",
       "      <th>...</th>\n",
       "      <th>614</th>\n",
       "      <th>615</th>\n",
       "      <th>616</th>\n",
       "      <th>617</th>\n",
       "      <th>618</th>\n",
       "      <th>619</th>\n",
       "      <th>620</th>\n",
       "      <th>621</th>\n",
       "      <th>622</th>\n",
       "      <th>Total</th>\n",
       "    </tr>\n",
       "  </thead>\n",
       "  <tbody>\n",
       "    <tr>\n",
       "      <th>ukraine</th>\n",
       "      <td>0</td>\n",
       "      <td>0</td>\n",
       "      <td>0</td>\n",
       "      <td>0</td>\n",
       "      <td>1</td>\n",
       "      <td>1</td>\n",
       "      <td>0</td>\n",
       "      <td>1</td>\n",
       "      <td>0</td>\n",
       "      <td>0</td>\n",
       "      <td>...</td>\n",
       "      <td>0</td>\n",
       "      <td>0</td>\n",
       "      <td>0</td>\n",
       "      <td>0</td>\n",
       "      <td>1</td>\n",
       "      <td>0</td>\n",
       "      <td>0</td>\n",
       "      <td>0</td>\n",
       "      <td>0</td>\n",
       "      <td>179</td>\n",
       "    </tr>\n",
       "    <tr>\n",
       "      <th>russia</th>\n",
       "      <td>0</td>\n",
       "      <td>0</td>\n",
       "      <td>0</td>\n",
       "      <td>0</td>\n",
       "      <td>0</td>\n",
       "      <td>1</td>\n",
       "      <td>0</td>\n",
       "      <td>0</td>\n",
       "      <td>0</td>\n",
       "      <td>0</td>\n",
       "      <td>...</td>\n",
       "      <td>0</td>\n",
       "      <td>0</td>\n",
       "      <td>0</td>\n",
       "      <td>0</td>\n",
       "      <td>0</td>\n",
       "      <td>0</td>\n",
       "      <td>0</td>\n",
       "      <td>0</td>\n",
       "      <td>1</td>\n",
       "      <td>134</td>\n",
       "    </tr>\n",
       "    <tr>\n",
       "      <th>russian</th>\n",
       "      <td>0</td>\n",
       "      <td>0</td>\n",
       "      <td>0</td>\n",
       "      <td>0</td>\n",
       "      <td>0</td>\n",
       "      <td>1</td>\n",
       "      <td>0</td>\n",
       "      <td>1</td>\n",
       "      <td>0</td>\n",
       "      <td>0</td>\n",
       "      <td>...</td>\n",
       "      <td>0</td>\n",
       "      <td>0</td>\n",
       "      <td>0</td>\n",
       "      <td>0</td>\n",
       "      <td>0</td>\n",
       "      <td>0</td>\n",
       "      <td>0</td>\n",
       "      <td>0</td>\n",
       "      <td>1</td>\n",
       "      <td>117</td>\n",
       "    </tr>\n",
       "    <tr>\n",
       "      <th>new</th>\n",
       "      <td>0</td>\n",
       "      <td>1</td>\n",
       "      <td>0</td>\n",
       "      <td>0</td>\n",
       "      <td>0</td>\n",
       "      <td>0</td>\n",
       "      <td>0</td>\n",
       "      <td>0</td>\n",
       "      <td>1</td>\n",
       "      <td>0</td>\n",
       "      <td>...</td>\n",
       "      <td>0</td>\n",
       "      <td>0</td>\n",
       "      <td>0</td>\n",
       "      <td>0</td>\n",
       "      <td>0</td>\n",
       "      <td>0</td>\n",
       "      <td>1</td>\n",
       "      <td>0</td>\n",
       "      <td>0</td>\n",
       "      <td>85</td>\n",
       "    </tr>\n",
       "    <tr>\n",
       "      <th>war</th>\n",
       "      <td>0</td>\n",
       "      <td>0</td>\n",
       "      <td>0</td>\n",
       "      <td>0</td>\n",
       "      <td>0</td>\n",
       "      <td>1</td>\n",
       "      <td>0</td>\n",
       "      <td>0</td>\n",
       "      <td>0</td>\n",
       "      <td>0</td>\n",
       "      <td>...</td>\n",
       "      <td>0</td>\n",
       "      <td>0</td>\n",
       "      <td>0</td>\n",
       "      <td>0</td>\n",
       "      <td>0</td>\n",
       "      <td>0</td>\n",
       "      <td>0</td>\n",
       "      <td>0</td>\n",
       "      <td>0</td>\n",
       "      <td>83</td>\n",
       "    </tr>\n",
       "    <tr>\n",
       "      <th>president</th>\n",
       "      <td>0</td>\n",
       "      <td>0</td>\n",
       "      <td>0</td>\n",
       "      <td>0</td>\n",
       "      <td>1</td>\n",
       "      <td>0</td>\n",
       "      <td>0</td>\n",
       "      <td>0</td>\n",
       "      <td>0</td>\n",
       "      <td>0</td>\n",
       "      <td>...</td>\n",
       "      <td>0</td>\n",
       "      <td>0</td>\n",
       "      <td>0</td>\n",
       "      <td>0</td>\n",
       "      <td>0</td>\n",
       "      <td>0</td>\n",
       "      <td>0</td>\n",
       "      <td>0</td>\n",
       "      <td>1</td>\n",
       "      <td>79</td>\n",
       "    </tr>\n",
       "    <tr>\n",
       "      <th>city</th>\n",
       "      <td>2</td>\n",
       "      <td>0</td>\n",
       "      <td>1</td>\n",
       "      <td>0</td>\n",
       "      <td>0</td>\n",
       "      <td>0</td>\n",
       "      <td>0</td>\n",
       "      <td>0</td>\n",
       "      <td>1</td>\n",
       "      <td>0</td>\n",
       "      <td>...</td>\n",
       "      <td>0</td>\n",
       "      <td>0</td>\n",
       "      <td>1</td>\n",
       "      <td>0</td>\n",
       "      <td>0</td>\n",
       "      <td>0</td>\n",
       "      <td>0</td>\n",
       "      <td>0</td>\n",
       "      <td>0</td>\n",
       "      <td>70</td>\n",
       "    </tr>\n",
       "    <tr>\n",
       "      <th>year</th>\n",
       "      <td>0</td>\n",
       "      <td>1</td>\n",
       "      <td>0</td>\n",
       "      <td>0</td>\n",
       "      <td>0</td>\n",
       "      <td>0</td>\n",
       "      <td>0</td>\n",
       "      <td>0</td>\n",
       "      <td>1</td>\n",
       "      <td>0</td>\n",
       "      <td>...</td>\n",
       "      <td>0</td>\n",
       "      <td>0</td>\n",
       "      <td>0</td>\n",
       "      <td>0</td>\n",
       "      <td>0</td>\n",
       "      <td>0</td>\n",
       "      <td>0</td>\n",
       "      <td>0</td>\n",
       "      <td>0</td>\n",
       "      <td>67</td>\n",
       "    </tr>\n",
       "    <tr>\n",
       "      <th>ukrainian</th>\n",
       "      <td>0</td>\n",
       "      <td>0</td>\n",
       "      <td>1</td>\n",
       "      <td>0</td>\n",
       "      <td>0</td>\n",
       "      <td>0</td>\n",
       "      <td>0</td>\n",
       "      <td>0</td>\n",
       "      <td>0</td>\n",
       "      <td>0</td>\n",
       "      <td>...</td>\n",
       "      <td>0</td>\n",
       "      <td>0</td>\n",
       "      <td>0</td>\n",
       "      <td>0</td>\n",
       "      <td>0</td>\n",
       "      <td>0</td>\n",
       "      <td>0</td>\n",
       "      <td>0</td>\n",
       "      <td>0</td>\n",
       "      <td>63</td>\n",
       "    </tr>\n",
       "    <tr>\n",
       "      <th>people</th>\n",
       "      <td>1</td>\n",
       "      <td>0</td>\n",
       "      <td>0</td>\n",
       "      <td>0</td>\n",
       "      <td>0</td>\n",
       "      <td>0</td>\n",
       "      <td>1</td>\n",
       "      <td>0</td>\n",
       "      <td>0</td>\n",
       "      <td>1</td>\n",
       "      <td>...</td>\n",
       "      <td>0</td>\n",
       "      <td>0</td>\n",
       "      <td>0</td>\n",
       "      <td>0</td>\n",
       "      <td>0</td>\n",
       "      <td>0</td>\n",
       "      <td>0</td>\n",
       "      <td>0</td>\n",
       "      <td>0</td>\n",
       "      <td>62</td>\n",
       "    </tr>\n",
       "  </tbody>\n",
       "</table>\n",
       "<p>10 rows × 624 columns</p>\n",
       "</div>"
      ],
      "text/plain": [
       "           0  1  2  3  4  5  6  7  8  9  ...  614  615  616  617  618  619  \\\n",
       "ukraine    0  0  0  0  1  1  0  1  0  0  ...    0    0    0    0    1    0   \n",
       "russia     0  0  0  0  0  1  0  0  0  0  ...    0    0    0    0    0    0   \n",
       "russian    0  0  0  0  0  1  0  1  0  0  ...    0    0    0    0    0    0   \n",
       "new        0  1  0  0  0  0  0  0  1  0  ...    0    0    0    0    0    0   \n",
       "war        0  0  0  0  0  1  0  0  0  0  ...    0    0    0    0    0    0   \n",
       "president  0  0  0  0  1  0  0  0  0  0  ...    0    0    0    0    0    0   \n",
       "city       2  0  1  0  0  0  0  0  1  0  ...    0    0    1    0    0    0   \n",
       "year       0  1  0  0  0  0  0  0  1  0  ...    0    0    0    0    0    0   \n",
       "ukrainian  0  0  1  0  0  0  0  0  0  0  ...    0    0    0    0    0    0   \n",
       "people     1  0  0  0  0  0  1  0  0  1  ...    0    0    0    0    0    0   \n",
       "\n",
       "           620  621  622  Total  \n",
       "ukraine      0    0    0    179  \n",
       "russia       0    0    1    134  \n",
       "russian      0    0    1    117  \n",
       "new          1    0    0     85  \n",
       "war          0    0    0     83  \n",
       "president    0    0    1     79  \n",
       "city         0    0    0     70  \n",
       "year         0    0    0     67  \n",
       "ukrainian    0    0    0     63  \n",
       "people       0    0    0     62  \n",
       "\n",
       "[10 rows x 624 columns]"
      ]
     },
     "execution_count": 34,
     "metadata": {},
     "output_type": "execute_result"
    }
   ],
   "source": [
    "df2_top_words = pd.DataFrame(count2.toarray().transpose(), index=vectorizer2.get_feature_names())\n",
    "\n",
    "#Creating a column that would show the total number of mentions for each of the word/token\n",
    "df2_top_words.loc[:,'Total'] = df2_top_words.sum(axis=1) \n",
    "df2_top_words = df2_top_words.sort_values(by='Total', ascending=False)\n",
    "df2_top_words.head(10)\n",
    "# For NY times:"
   ]
  },
  {
   "cell_type": "markdown",
   "id": "4300c290-3505-4507-a9a4-d34d340b2920",
   "metadata": {},
   "source": [
    "Above we can see the common words for two of the news outlets. We can observe that almost 20% of tweets included the words related to Russia-Ukraine conflict (for both outlets).\n",
    "\n",
    "Let's now perform LDA and see whether there are other topics as well.\n",
    "\n",
    "First prepare text for LDA. Transform each tweet to a list of words:"
   ]
  },
  {
   "cell_type": "code",
   "execution_count": 35,
   "id": "63f1c53d-1c4a-43e4-9c19-5200ea7b3d47",
   "metadata": {},
   "outputs": [],
   "source": [
    "from nltk.tokenize import RegexpTokenizer\n",
    "import re\n",
    "tokenizer = RegexpTokenizer(r'\\w+')\n",
    "\n",
    "def prepare_text_for_lda(text):\n",
    "    text= re.sub(r'\\d', '', text)\n",
    "    tokens = tokenizer.tokenize(text.lower())\n",
    "    return tokens"
   ]
  },
  {
   "cell_type": "code",
   "execution_count": 36,
   "id": "342447a2-b4ec-4bbc-87bc-6d5e8a4c7fda",
   "metadata": {},
   "outputs": [],
   "source": [
    "df1['tokens'] = df1['text'].apply(lambda x: prepare_text_for_lda(x))\n",
    "df2['tokens'] = df2['text'].apply(lambda x: prepare_text_for_lda(x))"
   ]
  },
  {
   "cell_type": "markdown",
   "id": "0d07e880-3c70-49b3-bc97-a4e6667c8dc1",
   "metadata": {},
   "source": [
    "Second, create dictionary and corpus. Separately for two news outlets of course"
   ]
  },
  {
   "cell_type": "code",
   "execution_count": 37,
   "id": "0c5df8cf-06d0-4611-8f0d-c95313fad87c",
   "metadata": {},
   "outputs": [],
   "source": [
    "from gensim import corpora\n",
    "\n",
    "dictionary_LDA1 = corpora.Dictionary(df1['tokens'].tolist())\n",
    "dictionary_LDA2 = corpora.Dictionary(df2['tokens'].tolist())\n",
    "\n",
    "corpus1 = [dictionary_LDA1.doc2bow(tok) for tok in df1['tokens'].tolist()]\n",
    "corpus2 = [dictionary_LDA2.doc2bow(tok) for tok in df2['tokens'].tolist()]"
   ]
  },
  {
   "cell_type": "markdown",
   "id": "0c4badcf-e839-4188-a82f-1b9f251434e9",
   "metadata": {},
   "source": [
    "Third, let's look on topics.\n",
    "\n",
    "We assume that there might be up to **ten** topics: Politics, Business, Tech, Science, Health, Sports, Arts, Style, Showbiz. \n",
    "\n",
    "Maybe we can even shorten the number of topics to **five**: Politics, Business, Entertainment, Sports, Lifestyle.\n",
    "\n",
    "Let's see how LDA performs for both outlets:"
   ]
  },
  {
   "cell_type": "markdown",
   "id": "551209ac-959f-41fd-b9ea-e4f1f4ecbd85",
   "metadata": {
    "tags": []
   },
   "source": [
    "### Foxnews, 10 topics"
   ]
  },
  {
   "cell_type": "code",
   "execution_count": 38,
   "id": "c8e37f5e-f60d-49f1-a746-6ece09abd9c6",
   "metadata": {},
   "outputs": [],
   "source": [
    "from gensim import models\n",
    "\n",
    "num_topics = 10\n",
    "lda_model1 = models.LdaModel(corpus1, num_topics=num_topics,\n",
    "                            random_state=100,\n",
    "                            id2word=dictionary_LDA1, \n",
    "                            passes=4)"
   ]
  },
  {
   "cell_type": "code",
   "execution_count": 39,
   "id": "330ed358-31db-4ae9-bb45-ff5c9d186209",
   "metadata": {},
   "outputs": [
    {
     "name": "stdout",
     "output_type": "stream",
     "text": [
      "0: 0.014*\"russia\" + 0.010*\"say\" + 0.008*\"jussie\" + 0.008*\"smollett\" + 0.008*\"u\" + 0.007*\"actor\" + 0.007*\"house\" + 0.007*\"kim\" + 0.007*\"ukraine\" + 0.006*\"russian\" + 0.005*\"war\" + 0.005*\"nuclear\" + 0.005*\"white\" + 0.005*\"official\" + 0.005*\"covid\" + 0.005*\"tell\" + 0.005*\"plan\" + 0.005*\"report\" + 0.005*\"sentencing\" + 0.005*\"davidson\"\n",
      "\n",
      "1: 0.026*\"biden\" + 0.016*\"say\" + 0.015*\"russia\" + 0.012*\"ukraine\" + 0.011*\"russian\" + 0.009*\"war\" + 0.008*\"time\" + 0.007*\"u\" + 0.007*\"energy\" + 0.006*\"amid\" + 0.006*\"new\" + 0.006*\"zelenskyy\" + 0.006*\"iran\" + 0.005*\"call\" + 0.005*\"york\" + 0.005*\"chief\" + 0.005*\"admin\" + 0.004*\"home\" + 0.004*\"talk\" + 0.004*\"nato\"\n",
      "\n",
      "2: 0.020*\"u\" + 0.010*\"putin\" + 0.010*\"zelenskyy\" + 0.009*\"ukraine\" + 0.009*\"say\" + 0.008*\"russia\" + 0.006*\"president\" + 0.006*\"school\" + 0.006*\"fight\" + 0.005*\"biden\" + 0.005*\"crime\" + 0.004*\"house\" + 0.004*\"time\" + 0.004*\"woman\" + 0.004*\"break\" + 0.004*\"police\" + 0.004*\"threat\" + 0.004*\"war\" + 0.003*\"expert\" + 0.003*\"state\"\n",
      "\n",
      "3: 0.018*\"biden\" + 0.018*\"russian\" + 0.016*\"ukraine\" + 0.012*\"putin\" + 0.006*\"issue\" + 0.006*\"u\" + 0.006*\"war\" + 0.005*\"covid\" + 0.005*\"leader\" + 0.005*\"claim\" + 0.005*\"people\" + 0.005*\"rip\" + 0.005*\"philip\" + 0.005*\"response\" + 0.004*\"time\" + 0.004*\"journalist\" + 0.004*\"zelenskyy\" + 0.004*\"inflation\" + 0.004*\"sign\" + 0.004*\"talk\"\n",
      "\n",
      "4: 0.026*\"ukraine\" + 0.017*\"russia\" + 0.017*\"russian\" + 0.011*\"putin\" + 0.010*\"price\" + 0.010*\"gas\" + 0.008*\"war\" + 0.008*\"biden\" + 0.008*\"invasion\" + 0.007*\"china\" + 0.007*\"say\" + 0.007*\"ukrainian\" + 0.006*\"police\" + 0.005*\"dead\" + 0.005*\"amid\" + 0.005*\"american\" + 0.005*\"kyiv\" + 0.004*\"opinion\" + 0.004*\"u\" + 0.004*\"killed\"\n",
      "\n",
      "5: 0.021*\"ukraine\" + 0.017*\"war\" + 0.013*\"ukrainian\" + 0.012*\"say\" + 0.012*\"russian\" + 0.012*\"biden\" + 0.009*\"russia\" + 0.008*\"cnn\" + 0.007*\"official\" + 0.006*\"gop\" + 0.006*\"country\" + 0.006*\"amid\" + 0.006*\"rep\" + 0.005*\"price\" + 0.005*\"republican\" + 0.005*\"american\" + 0.005*\"putin\" + 0.005*\"california\" + 0.005*\"report\" + 0.005*\"invasion\"\n",
      "\n",
      "6: 0.020*\"ukraine\" + 0.016*\"biden\" + 0.011*\"war\" + 0.010*\"congress\" + 0.010*\"zelenskyy\" + 0.008*\"new\" + 0.007*\"russia\" + 0.007*\"putin\" + 0.007*\"gas\" + 0.006*\"amid\" + 0.005*\"oil\" + 0.005*\"address\" + 0.005*\"star\" + 0.005*\"call\" + 0.005*\"show\" + 0.005*\"report\" + 0.005*\"critical\" + 0.004*\"say\" + 0.004*\"covid\" + 0.004*\"york\"\n",
      "\n",
      "7: 0.027*\"ukraine\" + 0.019*\"biden\" + 0.012*\"war\" + 0.011*\"russia\" + 0.008*\"russian\" + 0.007*\"say\" + 0.007*\"zelenskyy\" + 0.006*\"target\" + 0.005*\"invasion\" + 0.005*\"week\" + 0.005*\"state\" + 0.005*\"could\" + 0.005*\"ukrainian\" + 0.005*\"policy\" + 0.005*\"president\" + 0.004*\"opinion\" + 0.004*\"slam\" + 0.004*\"u\" + 0.004*\"military\" + 0.004*\"tuckercarlson\"\n",
      "\n",
      "8: 0.011*\"say\" + 0.011*\"biden\" + 0.010*\"ukraine\" + 0.009*\"call\" + 0.008*\"race\" + 0.006*\"border\" + 0.006*\"russia\" + 0.006*\"trump\" + 0.006*\"putin\" + 0.006*\"leader\" + 0.005*\"crime\" + 0.005*\"texas\" + 0.005*\"president\" + 0.005*\"hit\" + 0.005*\"war\" + 0.004*\"amid\" + 0.004*\"smollett\" + 0.004*\"jussie\" + 0.004*\"jail\" + 0.004*\"gov\"\n",
      "\n",
      "9: 0.025*\"russia\" + 0.011*\"ukraine\" + 0.009*\"war\" + 0.006*\"return\" + 0.005*\"new\" + 0.005*\"social\" + 0.005*\"house\" + 0.005*\"view\" + 0.005*\"russian\" + 0.005*\"putin\" + 0.005*\"biden\" + 0.005*\"national\" + 0.004*\"u\" + 0.004*\"sanction\" + 0.004*\"america\" + 0.004*\"inflation\" + 0.004*\"accused\" + 0.004*\"government\" + 0.004*\"official\" + 0.004*\"florida\"\n",
      "\n"
     ]
    }
   ],
   "source": [
    "for i,topic in lda_model1.show_topics(formatted=True, num_topics=num_topics, num_words=20):\n",
    "    print(str(i)+\": \"+ topic + \"\\n\")\n"
   ]
  },
  {
   "cell_type": "markdown",
   "id": "6d32ddf9-9e23-4773-910e-e728108403c5",
   "metadata": {},
   "source": [
    "### Foxnews, 5 topics"
   ]
  },
  {
   "cell_type": "code",
   "execution_count": 40,
   "id": "45b1c283-10a3-4dce-aee5-8cb129c9208a",
   "metadata": {},
   "outputs": [],
   "source": [
    "num_topics = 5\n",
    "lda_model1 = models.LdaModel(corpus1, num_topics=num_topics,\n",
    "                            random_state=100,\n",
    "                            id2word=dictionary_LDA1, \n",
    "                            passes=4)"
   ]
  },
  {
   "cell_type": "code",
   "execution_count": 41,
   "id": "633a9885-7aef-4490-8abb-ffd22112270e",
   "metadata": {},
   "outputs": [
    {
     "name": "stdout",
     "output_type": "stream",
     "text": [
      "0: 0.016*\"russia\" + 0.010*\"say\" + 0.007*\"ukraine\" + 0.007*\"jussie\" + 0.007*\"smollett\" + 0.006*\"biden\" + 0.005*\"u\" + 0.005*\"house\" + 0.005*\"russian\" + 0.005*\"war\" + 0.004*\"official\" + 0.004*\"report\" + 0.004*\"covid\" + 0.004*\"white\" + 0.004*\"kim\" + 0.004*\"tell\" + 0.004*\"jail\" + 0.003*\"people\" + 0.003*\"ahead\" + 0.003*\"plan\"\n",
      "\n",
      "1: 0.023*\"biden\" + 0.015*\"ukraine\" + 0.012*\"russia\" + 0.011*\"say\" + 0.008*\"war\" + 0.006*\"new\" + 0.006*\"amid\" + 0.006*\"zelenskyy\" + 0.006*\"call\" + 0.005*\"energy\" + 0.005*\"ukrainian\" + 0.005*\"time\" + 0.005*\"russian\" + 0.005*\"u\" + 0.004*\"american\" + 0.004*\"former\" + 0.004*\"cnn\" + 0.004*\"putin\" + 0.003*\"york\" + 0.003*\"trump\"\n",
      "\n",
      "2: 0.018*\"ukraine\" + 0.012*\"russia\" + 0.011*\"u\" + 0.010*\"zelenskyy\" + 0.009*\"biden\" + 0.008*\"putin\" + 0.006*\"president\" + 0.006*\"war\" + 0.006*\"say\" + 0.006*\"congress\" + 0.005*\"expert\" + 0.004*\"call\" + 0.004*\"energy\" + 0.004*\"address\" + 0.004*\"fight\" + 0.004*\"opinion\" + 0.003*\"threat\" + 0.003*\"nyc\" + 0.003*\"ukrainian\" + 0.003*\"break\"\n",
      "\n",
      "3: 0.016*\"biden\" + 0.015*\"ukraine\" + 0.014*\"russian\" + 0.010*\"putin\" + 0.006*\"say\" + 0.006*\"covid\" + 0.006*\"war\" + 0.005*\"new\" + 0.004*\"ukrainian\" + 0.004*\"trump\" + 0.004*\"race\" + 0.004*\"claim\" + 0.003*\"mayor\" + 0.003*\"u\" + 0.003*\"effect\" + 0.003*\"help\" + 0.003*\"rep\" + 0.003*\"russia\" + 0.003*\"star\" + 0.003*\"inflation\"\n",
      "\n",
      "4: 0.025*\"ukraine\" + 0.016*\"war\" + 0.016*\"russian\" + 0.013*\"russia\" + 0.011*\"gas\" + 0.011*\"price\" + 0.008*\"invasion\" + 0.008*\"say\" + 0.008*\"putin\" + 0.007*\"biden\" + 0.006*\"amid\" + 0.006*\"u\" + 0.005*\"ukrainian\" + 0.005*\"oil\" + 0.004*\"new\" + 0.004*\"state\" + 0.004*\"american\" + 0.004*\"china\" + 0.003*\"report\" + 0.003*\"warns\"\n",
      "\n"
     ]
    }
   ],
   "source": [
    "for i,topic in lda_model1.show_topics(formatted=True, num_topics=num_topics, num_words=20):\n",
    "    print(str(i)+\": \"+ topic + \"\\n\")"
   ]
  },
  {
   "cell_type": "markdown",
   "id": "c54437ba-ebfe-42b2-8cf5-e03a88472888",
   "metadata": {},
   "source": [
    "For FoxNews, it doesn't seem that LDA is performing a good job. Every topic has words related to Russia-Ukraine conflict.\n",
    "\n",
    "Probably we will delete the most popular words and then perform analysis one more time\n",
    "\n",
    "Now, let's look on NYTimes:"
   ]
  },
  {
   "cell_type": "markdown",
   "id": "75382a0c-e139-44a4-9b46-2ee14739682d",
   "metadata": {
    "tags": []
   },
   "source": [
    "### NYTimes, 10 topics"
   ]
  },
  {
   "cell_type": "code",
   "execution_count": 42,
   "id": "33903aa8-8c93-4b14-96b5-0dac946f5f7c",
   "metadata": {},
   "outputs": [],
   "source": [
    "num_topics = 10\n",
    "lda_model2 = models.LdaModel(corpus2, num_topics=num_topics,\n",
    "                            random_state=100,\n",
    "                            id2word=dictionary_LDA2, \n",
    "                            passes=4)"
   ]
  },
  {
   "cell_type": "code",
   "execution_count": 43,
   "id": "2d706990-a1b5-4ebd-a16f-c89d0834c9f2",
   "metadata": {},
   "outputs": [
    {
     "name": "stdout",
     "output_type": "stream",
     "text": [
      "0: 0.012*\"new\" + 0.009*\"ukraine\" + 0.008*\"two\" + 0.008*\"city\" + 0.007*\"russian\" + 0.007*\"york\" + 0.006*\"people\" + 0.006*\"war\" + 0.006*\"russia\" + 0.005*\"time\" + 0.004*\"channel\" + 0.004*\"president\" + 0.004*\"men\" + 0.004*\"year\" + 0.004*\"since\" + 0.003*\"kyiv\" + 0.003*\"breaking\" + 0.003*\"world\" + 0.003*\"covid\" + 0.003*\"wednesday\"\n",
      "\n",
      "1: 0.009*\"ukraine\" + 0.008*\"city\" + 0.008*\"ukrainian\" + 0.006*\"day\" + 0.005*\"company\" + 0.005*\"new\" + 0.005*\"news\" + 0.004*\"war\" + 0.004*\"russian\" + 0.004*\"journalist\" + 0.004*\"month\" + 0.004*\"force\" + 0.004*\"next\" + 0.004*\"monday\" + 0.004*\"opinion\" + 0.003*\"every\" + 0.003*\"resident\" + 0.003*\"end\" + 0.003*\"state\" + 0.003*\"kyiv\"\n",
      "\n",
      "2: 0.011*\"city\" + 0.010*\"russian\" + 0.009*\"ukraine\" + 0.006*\"year\" + 0.005*\"new\" + 0.005*\"war\" + 0.005*\"two\" + 0.004*\"killed\" + 0.004*\"ukrainian\" + 0.004*\"least\" + 0.004*\"woman\" + 0.004*\"kyiv\" + 0.004*\"even\" + 0.004*\"death\" + 0.004*\"number\" + 0.004*\"state\" + 0.004*\"people\" + 0.004*\"york\" + 0.004*\"anna\" + 0.003*\"show\"\n",
      "\n",
      "3: 0.008*\"russian\" + 0.006*\"russia\" + 0.006*\"police\" + 0.006*\"war\" + 0.006*\"show\" + 0.006*\"year\" + 0.006*\"two\" + 0.005*\"employee\" + 0.005*\"state\" + 0.005*\"first\" + 0.004*\"series\" + 0.004*\"killed\" + 0.004*\"drama\" + 0.004*\"last\" + 0.003*\"died\" + 0.003*\"worker\" + 0.003*\"burst\" + 0.003*\"world\" + 0.003*\"vladimir\" + 0.003*\"stop\"\n",
      "\n",
      "4: 0.012*\"ukraine\" + 0.011*\"russia\" + 0.006*\"russian\" + 0.006*\"invasion\" + 0.005*\"kyiv\" + 0.005*\"official\" + 0.005*\"ukrainian\" + 0.005*\"country\" + 0.004*\"could\" + 0.004*\"city\" + 0.004*\"year\" + 0.004*\"home\" + 0.004*\"west\" + 0.004*\"car\" + 0.004*\"sanction\" + 0.004*\"federal\" + 0.004*\"civilian\" + 0.004*\"billion\" + 0.004*\"million\" + 0.003*\"authority\"\n",
      "\n",
      "5: 0.017*\"ukraine\" + 0.012*\"russia\" + 0.012*\"new\" + 0.009*\"war\" + 0.009*\"russian\" + 0.005*\"york\" + 0.004*\"country\" + 0.004*\"help\" + 0.004*\"thousand\" + 0.004*\"sunday\" + 0.004*\"world\" + 0.004*\"best\" + 0.004*\"doug\" + 0.004*\"city\" + 0.004*\"government\" + 0.004*\"time\" + 0.004*\"invasion\" + 0.003*\"training\" + 0.003*\"american\" + 0.003*\"covid\"\n",
      "\n",
      "6: 0.021*\"president\" + 0.017*\"ukraine\" + 0.011*\"biden\" + 0.009*\"russia\" + 0.009*\"zelensky\" + 0.008*\"year\" + 0.007*\"volodymyr\" + 0.006*\"congress\" + 0.006*\"people\" + 0.005*\"day\" + 0.005*\"military\" + 0.004*\"coronavirus\" + 0.004*\"last\" + 0.004*\"official\" + 0.004*\"tuesday\" + 0.004*\"wednesday\" + 0.004*\"ukrainian\" + 0.004*\"republican\" + 0.004*\"leader\" + 0.004*\"country\"\n",
      "\n",
      "7: 0.011*\"russia\" + 0.006*\"new\" + 0.005*\"year\" + 0.005*\"ukraine\" + 0.005*\"griner\" + 0.004*\"court\" + 0.004*\"sentence\" + 0.004*\"since\" + 0.004*\"city\" + 0.004*\"smith\" + 0.004*\"held\" + 0.004*\"woman\" + 0.004*\"news\" + 0.004*\"monday\" + 0.003*\"two\" + 0.003*\"every\" + 0.003*\"russian\" + 0.003*\"detention\" + 0.003*\"state\" + 0.003*\"ukrainian\"\n",
      "\n",
      "8: 0.011*\"ukraine\" + 0.011*\"people\" + 0.009*\"russian\" + 0.009*\"country\" + 0.008*\"day\" + 0.007*\"time\" + 0.006*\"attack\" + 0.006*\"kyiv\" + 0.005*\"ukrainian\" + 0.005*\"two\" + 0.005*\"strike\" + 0.005*\"president\" + 0.005*\"war\" + 0.005*\"building\" + 0.005*\"area\" + 0.005*\"effort\" + 0.004*\"hit\" + 0.004*\"new\" + 0.004*\"capital\" + 0.004*\"monday\"\n",
      "\n",
      "9: 0.019*\"russia\" + 0.016*\"ukraine\" + 0.013*\"russian\" + 0.009*\"war\" + 0.008*\"president\" + 0.008*\"invasion\" + 0.007*\"official\" + 0.006*\"sanction\" + 0.005*\"many\" + 0.005*\"country\" + 0.005*\"could\" + 0.005*\"zelensky\" + 0.005*\"ukrainian\" + 0.005*\"putin\" + 0.004*\"force\" + 0.004*\"year\" + 0.004*\"appeal\" + 0.004*\"wednesday\" + 0.004*\"made\" + 0.003*\"vladimir\"\n",
      "\n"
     ]
    }
   ],
   "source": [
    "for i,topic in lda_model2.show_topics(formatted=True, num_topics=num_topics, num_words=20):\n",
    "    print(str(i)+\": \"+ topic + \"\\n\")"
   ]
  },
  {
   "cell_type": "markdown",
   "id": "9427d748-41ae-4110-94dd-a8fc4a7e281d",
   "metadata": {},
   "source": [
    "### NYTimes, 5 topics"
   ]
  },
  {
   "cell_type": "code",
   "execution_count": 44,
   "id": "eb56a2b3-5988-4178-9675-223d36799b3b",
   "metadata": {},
   "outputs": [],
   "source": [
    "num_topics = 5\n",
    "lda_model2 = models.LdaModel(corpus2, num_topics=num_topics,\n",
    "                            random_state=100,\n",
    "                            id2word=dictionary_LDA2, \n",
    "                            passes=4)"
   ]
  },
  {
   "cell_type": "code",
   "execution_count": 45,
   "id": "05afa249-9eae-4f64-aa40-e79ff95a312b",
   "metadata": {},
   "outputs": [
    {
     "name": "stdout",
     "output_type": "stream",
     "text": [
      "0: 0.011*\"president\" + 0.010*\"new\" + 0.009*\"ukraine\" + 0.008*\"russian\" + 0.007*\"russia\" + 0.006*\"city\" + 0.006*\"biden\" + 0.006*\"people\" + 0.006*\"world\" + 0.005*\"two\" + 0.005*\"war\" + 0.005*\"news\" + 0.004*\"york\" + 0.004*\"time\" + 0.004*\"state\" + 0.004*\"breaking\" + 0.004*\"wednesday\" + 0.004*\"zelensky\" + 0.003*\"country\" + 0.003*\"covid\"\n",
      "\n",
      "1: 0.012*\"ukraine\" + 0.006*\"ukrainian\" + 0.006*\"war\" + 0.006*\"russia\" + 0.006*\"people\" + 0.005*\"russian\" + 0.005*\"country\" + 0.004*\"new\" + 0.004*\"city\" + 0.004*\"monday\" + 0.004*\"day\" + 0.003*\"news\" + 0.003*\"invasion\" + 0.003*\"two\" + 0.003*\"year\" + 0.003*\"un\" + 0.003*\"attack\" + 0.003*\"time\" + 0.003*\"company\" + 0.003*\"fleeing\"\n",
      "\n",
      "2: 0.013*\"ukraine\" + 0.010*\"russian\" + 0.008*\"city\" + 0.007*\"year\" + 0.006*\"war\" + 0.005*\"ukrainian\" + 0.005*\"new\" + 0.004*\"day\" + 0.004*\"russia\" + 0.004*\"people\" + 0.004*\"kyiv\" + 0.004*\"president\" + 0.004*\"two\" + 0.004*\"killed\" + 0.003*\"could\" + 0.003*\"least\" + 0.003*\"american\" + 0.003*\"york\" + 0.003*\"show\" + 0.003*\"died\"\n",
      "\n",
      "3: 0.008*\"russia\" + 0.006*\"russian\" + 0.006*\"two\" + 0.005*\"year\" + 0.005*\"war\" + 0.005*\"new\" + 0.005*\"police\" + 0.004*\"first\" + 0.004*\"last\" + 0.004*\"ukraine\" + 0.004*\"men\" + 0.004*\"since\" + 0.003*\"killed\" + 0.003*\"day\" + 0.003*\"show\" + 0.003*\"week\" + 0.003*\"woman\" + 0.003*\"interest\" + 0.003*\"employee\" + 0.003*\"rate\"\n",
      "\n",
      "4: 0.018*\"ukraine\" + 0.018*\"russia\" + 0.007*\"russian\" + 0.007*\"official\" + 0.007*\"invasion\" + 0.006*\"president\" + 0.005*\"country\" + 0.005*\"kyiv\" + 0.005*\"sanction\" + 0.004*\"ukrainian\" + 0.004*\"war\" + 0.004*\"congress\" + 0.004*\"biden\" + 0.004*\"million\" + 0.003*\"wednesday\" + 0.003*\"attack\" + 0.003*\"home\" + 0.003*\"plan\" + 0.003*\"west\" + 0.003*\"city\"\n",
      "\n"
     ]
    }
   ],
   "source": [
    "for i,topic in lda_model2.show_topics(formatted=True, num_topics=num_topics, num_words=20):\n",
    "    print(str(i)+\": \"+ topic + \"\\n\")"
   ]
  },
  {
   "cell_type": "markdown",
   "id": "ce17374b-eec5-4f3b-86dd-36d532755812",
   "metadata": {},
   "source": [
    "The situation is similar to Fox News. \n",
    "\n",
    "To improve the situation, let's get rid of most common words used by each outlet. "
   ]
  },
  {
   "cell_type": "markdown",
   "id": "d417839e-1d93-4e30-8089-1289455c9915",
   "metadata": {
    "tags": []
   },
   "source": [
    "### LDA without common words"
   ]
  },
  {
   "cell_type": "code",
   "execution_count": 46,
   "id": "1e57df72-5222-4c97-b602-ecea1671e5e3",
   "metadata": {},
   "outputs": [],
   "source": [
    "# Creating 'stop word' list from top 10 common words \n",
    "common_words1 = df1_top_words.index.values[:].tolist()[0:10]\n",
    "common_words2 = df2_top_words.index.values[:].tolist()[0:10]"
   ]
  },
  {
   "cell_type": "code",
   "execution_count": 47,
   "id": "46b61764-2898-4903-9b99-2943759ebbf9",
   "metadata": {},
   "outputs": [],
   "source": [
    "from nltk.stem.wordnet import WordNetLemmatizer\n",
    "from nltk import pos_tag\n",
    "from nltk.corpus import wordnet\n",
    "\n",
    "def get_lemma(element):\n",
    "    for word, pos in pos_tag(element.split()):\n",
    "        result_pos=wordnet_pos(pos)\n",
    "        if result_pos != None:\n",
    "            return WordNetLemmatizer().lemmatize(word, result_pos)\n",
    "        else:\n",
    "            return word\n",
    "\n",
    "# original example can be found here https://stackoverflow.com/a/15590384\n",
    "def wordnet_pos(treebank_tag):\n",
    "    if treebank_tag.startswith('J'):\n",
    "        return wordnet.ADJ\n",
    "    elif treebank_tag.startswith('V'):\n",
    "        return wordnet.VERB\n",
    "    elif treebank_tag.startswith('N'):\n",
    "        return wordnet.NOUN\n",
    "    elif treebank_tag.startswith('R'):\n",
    "        return wordnet.ADV\n",
    "    else:\n",
    "        return None\n",
    "        \n",
    "def remove_common_words(list_element, common_words):\n",
    "    tokens = [get_lemma(token) for token in list_element]\n",
    "    tokens = [token for token in tokens if token not in common_words]\n",
    "    tokens = [token for token in tokens if len(token) > 2]\n",
    "    return tokens"
   ]
  },
  {
   "cell_type": "code",
   "execution_count": 48,
   "id": "c146c2c0-95a8-41e8-abc6-4aa03b160484",
   "metadata": {},
   "outputs": [],
   "source": [
    "df1['tokens'] = df1['tokens'].apply(lambda sentences: remove_common_words(sentences, common_words1))\n",
    "df2['tokens'] = df2['tokens'].apply(lambda sentences: remove_common_words(sentences, common_words2))"
   ]
  },
  {
   "cell_type": "code",
   "execution_count": 49,
   "id": "3e393f3a-f42e-4d0c-b49a-380a60a23df3",
   "metadata": {},
   "outputs": [],
   "source": [
    "dictionary_LDA1 = corpora.Dictionary(df1['tokens'].tolist())\n",
    "dictionary_LDA2 = corpora.Dictionary(df2['tokens'].tolist())\n",
    "\n",
    "corpus1 = [dictionary_LDA1.doc2bow(tok) for tok in df1['tokens'].tolist()]\n",
    "corpus2 = [dictionary_LDA2.doc2bow(tok) for tok in df2['tokens'].tolist()]"
   ]
  },
  {
   "cell_type": "markdown",
   "id": "582e7611-6e56-44cf-8d1c-081aa0eb6267",
   "metadata": {
    "tags": []
   },
   "source": [
    "### Foxnews"
   ]
  },
  {
   "cell_type": "code",
   "execution_count": 50,
   "id": "17c2def6-a7b7-4f75-aec6-4ff5a61b9671",
   "metadata": {},
   "outputs": [],
   "source": [
    "num_topics = 10\n",
    "lda_model1 = models.LdaModel(corpus1, num_topics=num_topics,\n",
    "                            random_state=100,\n",
    "                            id2word=dictionary_LDA1, \n",
    "                            passes=4)"
   ]
  },
  {
   "cell_type": "code",
   "execution_count": 51,
   "id": "d86ac1bb-bf02-4b33-80cb-baf9c50b0ee4",
   "metadata": {},
   "outputs": [
    {
     "name": "stdout",
     "output_type": "stream",
     "text": [
      "0: 0.009*\"amid\" + 0.007*\"get\" + 0.007*\"price\" + 0.007*\"gas\" + 0.007*\"call\" + 0.006*\"covid\" + 0.006*\"high\" + 0.006*\"kyiv\" + 0.006*\"make\" + 0.006*\"give\" + 0.005*\"congress\" + 0.005*\"kim\" + 0.005*\"opinion\" + 0.005*\"blame\" + 0.005*\"american\" + 0.005*\"official\" + 0.005*\"fight\" + 0.005*\"police\" + 0.005*\"political\" + 0.004*\"china\"\n",
      "\n",
      "1: 0.009*\"release\" + 0.008*\"nyc\" + 0.008*\"official\" + 0.006*\"suspect\" + 0.005*\"show\" + 0.005*\"crime\" + 0.005*\"old\" + 0.004*\"rule\" + 0.004*\"baldwin\" + 0.004*\"star\" + 0.004*\"homeless\" + 0.004*\"arrest\" + 0.004*\"medium\" + 0.004*\"message\" + 0.004*\"issue\" + 0.004*\"amid\" + 0.004*\"mayor\" + 0.004*\"sanction\" + 0.004*\"invasion\" + 0.004*\"foreign\"\n",
      "\n",
      "2: 0.009*\"kill\" + 0.008*\"time\" + 0.007*\"covid\" + 0.006*\"people\" + 0.006*\"since\" + 0.005*\"former\" + 0.005*\"journalist\" + 0.005*\"price\" + 0.005*\"sell\" + 0.005*\"york\" + 0.005*\"year\" + 0.005*\"republican\" + 0.005*\"city\" + 0.005*\"gas\" + 0.005*\"contributor\" + 0.004*\"official\" + 0.004*\"kyiv\" + 0.004*\"warns\" + 0.004*\"nuclear\" + 0.004*\"issue\"\n",
      "\n",
      "3: 0.007*\"watch\" + 0.006*\"hold\" + 0.006*\"president\" + 0.006*\"live\" + 0.006*\"address\" + 0.005*\"congress\" + 0.005*\"senator\" + 0.005*\"time\" + 0.005*\"trump\" + 0.004*\"star\" + 0.004*\"nuclear\" + 0.004*\"day\" + 0.004*\"deal\" + 0.004*\"republican\" + 0.004*\"poland\" + 0.004*\"prince\" + 0.004*\"sanction\" + 0.004*\"state\" + 0.004*\"service\" + 0.004*\"show\"\n",
      "\n",
      "4: 0.009*\"former\" + 0.007*\"help\" + 0.007*\"report\" + 0.007*\"cnn\" + 0.006*\"call\" + 0.006*\"official\" + 0.005*\"claim\" + 0.005*\"talk\" + 0.005*\"warns\" + 0.005*\"china\" + 0.005*\"white\" + 0.005*\"house\" + 0.005*\"national\" + 0.005*\"plan\" + 0.005*\"athlete\" + 0.005*\"trump\" + 0.005*\"cause\" + 0.004*\"support\" + 0.004*\"iran\" + 0.004*\"texted\"\n",
      "\n",
      "5: 0.012*\"opinion\" + 0.009*\"invasion\" + 0.006*\"could\" + 0.006*\"use\" + 0.006*\"american\" + 0.005*\"energy\" + 0.005*\"race\" + 0.005*\"give\" + 0.005*\"raise\" + 0.004*\"end\" + 0.004*\"response\" + 0.004*\"administration\" + 0.004*\"cold\" + 0.004*\"tuckercarlson\" + 0.004*\"free\" + 0.004*\"lack\" + 0.004*\"break\" + 0.004*\"expert\" + 0.004*\"spring\" + 0.004*\"covid\"\n",
      "\n",
      "6: 0.010*\"american\" + 0.010*\"leader\" + 0.009*\"gas\" + 0.008*\"back\" + 0.007*\"energy\" + 0.007*\"price\" + 0.007*\"sanction\" + 0.007*\"york\" + 0.007*\"zone\" + 0.006*\"fly\" + 0.006*\"hit\" + 0.006*\"trump\" + 0.006*\"house\" + 0.005*\"tell\" + 0.005*\"gop\" + 0.005*\"could\" + 0.005*\"expert\" + 0.005*\"woman\" + 0.004*\"face\" + 0.004*\"california\"\n",
      "\n",
      "7: 0.010*\"state\" + 0.007*\"blame\" + 0.006*\"military\" + 0.006*\"fox\" + 0.006*\"gas\" + 0.006*\"amp\" + 0.005*\"warn\" + 0.005*\"slam\" + 0.005*\"senate\" + 0.005*\"fight\" + 0.005*\"stop\" + 0.005*\"invasion\" + 0.005*\"kyiv\" + 0.005*\"gop\" + 0.004*\"week\" + 0.004*\"friend\" + 0.004*\"return\" + 0.004*\"price\" + 0.004*\"issue\" + 0.004*\"machine\"\n",
      "\n",
      "8: 0.011*\"report\" + 0.010*\"jussie\" + 0.009*\"smollett\" + 0.008*\"sentence\" + 0.007*\"dead\" + 0.006*\"state\" + 0.006*\"follow\" + 0.004*\"prison\" + 0.004*\"actor\" + 0.004*\"record\" + 0.004*\"parent\" + 0.004*\"break\" + 0.004*\"covid\" + 0.004*\"school\" + 0.004*\"mask\" + 0.004*\"involve\" + 0.004*\"target\" + 0.004*\"power\" + 0.004*\"fentanyl\" + 0.003*\"call\"\n",
      "\n",
      "9: 0.012*\"call\" + 0.009*\"amid\" + 0.007*\"oil\" + 0.006*\"world\" + 0.006*\"nyc\" + 0.005*\"back\" + 0.005*\"president\" + 0.005*\"fuel\" + 0.005*\"energy\" + 0.005*\"fall\" + 0.005*\"gop\" + 0.005*\"claim\" + 0.005*\"action\" + 0.005*\"nato\" + 0.005*\"increase\" + 0.004*\"demand\" + 0.004*\"fire\" + 0.004*\"crime\" + 0.004*\"country\" + 0.004*\"refugee\"\n",
      "\n"
     ]
    }
   ],
   "source": [
    "for i,topic in lda_model1.show_topics(formatted=True, num_topics=num_topics, num_words=20):\n",
    "    print(str(i)+\": \"+ topic + \"\\n\")\n"
   ]
  },
  {
   "cell_type": "code",
   "execution_count": 52,
   "id": "6c1d7325-c20f-46cd-b0eb-34c237e09f61",
   "metadata": {},
   "outputs": [
    {
     "name": "stderr",
     "output_type": "stream",
     "text": [
      "C:\\Users\\exile\\anaconda3\\lib\\site-packages\\pyLDAvis\\_prepare.py:246: FutureWarning: In a future version of pandas all arguments of DataFrame.drop except for the argument 'labels' will be keyword-only.\n",
      "  default_term_info = default_term_info.sort_values(\n"
     ]
    },
    {
     "data": {
      "text/html": [
       "\n",
       "<link rel=\"stylesheet\" type=\"text/css\" href=\"https://cdn.jsdelivr.net/gh/bmabey/pyLDAvis@3.3.1/pyLDAvis/js/ldavis.v1.0.0.css\">\n",
       "\n",
       "\n",
       "<div id=\"ldavis_el1672014749973005763022911709\"></div>\n",
       "<script type=\"text/javascript\">\n",
       "\n",
       "var ldavis_el1672014749973005763022911709_data = {\"mdsDat\": {\"x\": [0.1246797977238624, -0.009508846642504882, -0.07548982661511293, 0.06870977008561509, 0.09613815295111014, -0.006368961269723542, 0.0058151562637870375, -0.16685535635798193, -0.011357238140193585, -0.025762647998857965], \"y\": [-0.06997566915838611, -0.07787935486352104, -0.09109929381690457, 0.13798177834126643, -0.06391546613061237, 0.0836573203993708, 0.07075073361207944, 0.0167303877986979, 0.03629669895788514, -0.042547135139875514], \"topics\": [1, 2, 3, 4, 5, 6, 7, 8, 9, 10], \"cluster\": [1, 1, 1, 1, 1, 1, 1, 1, 1, 1], \"Freq\": [11.410744716105855, 10.972129545104826, 10.526593540708745, 10.13921845272598, 10.111187548046162, 9.82131270073474, 9.48291032378267, 9.322543667884098, 9.29697611862121, 8.916383386285716]}, \"tinfo\": {\"Term\": [\"nyc\", \"state\", \"opinion\", \"jussie\", \"smollett\", \"call\", \"release\", \"former\", \"sentence\", \"gas\", \"back\", \"sanction\", \"leader\", \"kill\", \"cnn\", \"hold\", \"white\", \"york\", \"energy\", \"watch\", \"kyiv\", \"live\", \"give\", \"covid\", \"blame\", \"dead\", \"trump\", \"american\", \"high\", \"suspect\", \"toward\", \"raskin\", \"anyway\", \"punch\", \"husband\", \"boston\", \"blm\", \"candidacy\", \"compare\", \"bombing\", \"israeli\", \"hasan\", \"bloom\", \"strengthen\", \"mehdi\", \"emotional\", \"terrorist\", \"jakes\", \"gavin\", \"coastal\", \"mykolaiv\", \"town\", \"odesa\", \"judgejeanine\", \"lukashenko\", \"wuss\", \"lease\", \"flightless\", \"cashless\", \"tourist\", \"leader\", \"bring\", \"disney\", \"roast\", \"hack\", \"federal\", \"announce\", \"dependence\", \"hit\", \"fly\", \"zone\", \"back\", \"sanction\", \"york\", \"american\", \"tell\", \"despite\", \"psaki\", \"job\", \"newsom\", \"gas\", \"face\", \"california\", \"white\", \"energy\", \"freedom\", \"house\", \"price\", \"trump\", \"charge\", \"expert\", \"gop\", \"could\", \"woman\", \"poll\", \"time\", \"work\", \"fed\", \"president\", \"report\", \"gov\", \"machine\", \"breathing\", \"pas\", \"implement\", \"ready\", \"disgrace\", \"behind\", \"accuses\", \"british\", \"shift\", \"tremendously\", \"capitulate\", \"blitz\", \"swell\", \"friend\", \"achieve\", \"awestricken\", \"authorizes\", \"developed\", \"proactive\", \"amp\", \"ask\", \"gain\", \"fda\", \"bishop\", \"unintended\", \"adviser\", \"clarity\", \"ford\", \"tafoya\", \"military\", \"sky\", \"irs\", \"backlog\", \"decision\", \"fox\", \"warn\", \"state\", \"senate\", \"philip\", \"stop\", \"blame\", \"policy\", \"recall\", \"slam\", \"week\", \"view\", \"fight\", \"kyiv\", \"gas\", \"return\", \"gop\", \"invasion\", \"issue\", \"city\", \"news\", \"bill\", \"price\", \"inflation\", \"energy\", \"report\", \"protect\", \"cartoon\", \"kardashian\", \"daily\", \"heat\", \"governorship\", \"romance\", \"highlight\", \"dick\", \"flourish\", \"contain\", \"jay\", \"brutal\", \"watters\", \"resident\", \"horrific\", \"tear\", \"adopt\", \"dagenmcdowell\", \"comfort\", \"occur\", \"curtis\", \"anything\", \"jamie\", \"james\", \"stream\", \"unity\", \"reason\", \"alien\", \"actress\", \"abbott\", \"political\", \"pete\", \"davidson\", \"task\", \"voter\", \"kim\", \"thug\", \"best\", \"promise\", \"dog\", \"johnson\", \"ron\", \"close\", \"reveals\", \"get\", \"make\", \"give\", \"high\", \"kyiv\", \"amid\", \"post\", \"price\", \"tournament\", \"congress\", \"covid\", \"gas\", \"call\", \"blame\", \"china\", \"police\", \"opinion\", \"fight\", \"view\", \"official\", \"american\", \"invasion\", \"president\", \"sen\", \"student\", \"dealt\", \"gollust\", \"gleefully\", \"hard\", \"kellogg\", \"tottenham\", \"antonio\", \"conte\", \"truly\", \"class\", \"accident\", \"commonwealth\", \"cause\", \"complains\", \"remote\", \"andrew\", \"disinformation\", \"dismisses\", \"impartial\", \"france\", \"whoever\", \"germany\", \"provoke\", \"axed\", \"guerrilla\", \"warfare\", \"train\", \"reach\", \"teammate\", \"capture\", \"athlete\", \"texted\", \"stuff\", \"learn\", \"exec\", \"month\", \"cnn\", \"help\", \"support\", \"former\", \"white\", \"interview\", \"national\", \"claim\", \"talk\", \"plan\", \"visit\", \"report\", \"warns\", \"china\", \"house\", \"cuomo\", \"official\", \"call\", \"iran\", \"trump\", \"school\", \"ban\", \"increase\", \"rich\", \"hitler\", \"violent\", \"auschwitz\", \"aoc\", \"indigenous\", \"correlation\", \"steal\", \"see\", \"fund\", \"george\", \"inmate\", \"pledge\", \"accidental\", \"creep\", \"foxfriendsfirst\", \"closer\", \"decides\", \"authenticity\", \"meal\", \"dire\", \"allied\", \"already\", \"spite\", \"charity\", \"bucs\", \"defeat\", \"surrender\", \"pack\", \"gun\", \"air\", \"education\", \"action\", \"refugee\", \"serious\", \"fall\", \"fossil\", \"seanhannity\", \"violence\", \"fuel\", \"call\", \"accuse\", \"world\", \"nyc\", \"klitschko\", \"oil\", \"nato\", \"amid\", \"claim\", \"demand\", \"back\", \"lawmaker\", \"fire\", \"brother\", \"president\", \"crime\", \"gop\", \"injury\", \"country\", \"energy\", \"risk\", \"border\", \"man\", \"talk\", \"police\", \"warns\", \"mount\", \"direct\", \"dominican\", \"half\", \"firework\", \"rushmore\", \"park\", \"republic\", \"belief\", \"dakota\", \"stabbed\", \"niaid\", \"wolf\", \"auction\", \"plow\", \"another\", \"makeshift\", \"abandon\", \"miguel\", \"inflationary\", \"hatch\", \"jar\", \"devalue\", \"invade\", \"robbed\", \"elon\", \"oppose\", \"suggest\", \"cripple\", \"dumb\", \"tyrant\", \"petty\", \"address\", \"origin\", \"watch\", \"south\", \"hold\", \"live\", \"injured\", \"prince\", \"shelter\", \"tesla\", \"supply\", \"pet\", \"senator\", \"deal\", \"poland\", \"president\", \"press\", \"congress\", \"service\", \"nuclear\", \"star\", \"republican\", \"near\", \"director\", \"day\", \"trump\", \"time\", \"sanction\", \"show\", \"border\", \"state\", \"america\", \"miss\", \"expert\", \"kill\", \"amid\", \"win\", \"lack\", \"traveler\", \"guideline\", \"respectful\", \"mar\", \"lash\", \"winter\", \"haas\", \"corner\", \"rat\", \"cigarette\", \"butt\", \"newt\", \"cowardly\", \"gingrich\", \"lago\", \"land\", \"schmitt\", \"mean\", \"nbsaphiermd\", \"tank\", \"strength\", \"criticizes\", \"regular\", \"busy\", \"information\", \"highway\", \"jeter\", \"festival\", \"session\", \"interrupt\", \"congresswoman\", \"step\", \"disclose\", \"opinion\", \"cold\", \"grateful\", \"debut\", \"use\", \"team\", \"tuckercarlson\", \"raise\", \"strategy\", \"spring\", \"free\", \"invasion\", \"could\", \"administration\", \"end\", \"life\", \"give\", \"race\", \"critical\", \"provide\", \"response\", \"tsa\", \"american\", \"energy\", \"sign\", \"break\", \"expert\", \"child\", \"high\", \"year\", \"covid\", \"inflation\", \"rep\", \"reporting\", \"google\", \"agent\", \"representative\", \"lift\", \"kangaroo\", \"pacific\", \"prosecution\", \"northwest\", \"michigan\", \"membership\", \"allegation\", \"bordering\", \"prison\", \"poignant\", \"buffalo\", \"knight\", \"eichel\", \"become\", \"cancer\", \"singer\", \"braxton\", \"battling\", \"traci\", \"summer\", \"costco\", \"overdoes\", \"lace\", \"broadening\", \"tsunami\", \"sentence\", \"jussie\", \"smollett\", \"dead\", \"involve\", \"follow\", \"parent\", \"airstrike\", \"threaten\", \"far\", \"governor\", \"record\", \"report\", \"actor\", \"power\", \"pro\", \"fentanyl\", \"state\", \"mask\", \"randpaul\", \"apple\", \"break\", \"target\", \"school\", \"covid\", \"jail\", \"america\", \"long\", \"call\", \"time\", \"sen\", \"social\", \"inflation\", \"florida\", \"medium\", \"baldwin\", \"gift\", \"rosary\", \"incredible\", \"prayer\", \"kilmeade\", \"explore\", \"react\", \"irving\", \"sense\", \"zero\", \"kyrie\", \"bambi\", \"rust\", \"liability\", \"hutchins\", \"hailey\", \"accountability\", \"alec\", \"captivity\", \"underway\", \"bobby\", \"seahawks\", \"wagner\", \"treat\", \"image\", \"satellite\", \"residential\", \"salad\", \"emergency\", \"lawyer\", \"spend\", \"rule\", \"release\", \"nyc\", \"brand\", \"severe\", \"old\", \"modern\", \"art\", \"suspect\", \"official\", \"homeless\", \"siege\", \"defiant\", \"museum\", \"foreign\", \"show\", \"crime\", \"building\", \"arrest\", \"announces\", \"mayor\", \"medium\", \"message\", \"star\", \"issue\", \"sanction\", \"amid\", \"invasion\", \"launch\", \"social\", \"year\", \"police\", \"race\", \"time\", \"former\", \"sell\", \"contributor\", \"seizure\", \"accomplishment\", \"churchill\", \"hoax\", \"panel\", \"worried\", \"spread\", \"sub\", \"carry\", \"dewine\", \"permit\", \"firearm\", \"patriarch\", \"netherlands\", \"congregation\", \"sunders\", \"gentleman\", \"emhoff\", \"doug\", \"flee\", \"activity\", \"volunteer\", \"encircle\", \"manufacturing\", \"dominate\", \"pfizer\", \"slump\", \"dip\", \"without\", \"since\", \"journalist\", \"asset\", \"kill\", \"combat\", \"positive\", \"judge\", \"people\", \"continue\", \"time\", \"covid\", \"city\", \"year\", \"republican\", \"wound\", \"msnbc\", \"york\", \"former\", \"fail\", \"western\", \"midterm\", \"kyiv\", \"price\", \"nuclear\", \"issue\", \"warns\", \"official\", \"seek\", \"gas\", \"congress\", \"force\", \"call\", \"woman\"], \"Freq\": [17.0, 28.0, 30.0, 16.0, 16.0, 42.0, 19.0, 29.0, 12.0, 39.0, 23.0, 19.0, 24.0, 25.0, 15.0, 11.0, 12.0, 19.0, 31.0, 12.0, 21.0, 11.0, 17.0, 30.0, 21.0, 11.0, 25.0, 38.0, 20.0, 16.0, 3.905714630300867, 3.213423513323862, 3.814215988271897, 3.167059634942731, 3.1219171147456035, 3.121896828385928, 3.1218786303279833, 2.429658664774252, 2.4296410633739454, 2.4296407650451264, 2.429622119493954, 2.429619882027813, 2.4296133187938005, 2.4296168987396256, 2.429608247203882, 2.4295985515172718, 2.4296015348054594, 2.429580651788146, 3.6309809361454044, 2.338067988304694, 2.3380657508385534, 2.338070971592882, 2.33803293466849, 2.3380742532098884, 2.3380421828618716, 2.3380739548810694, 2.3379676006571817, 2.3380557568231253, 2.3380705240996535, 2.3380296530514837, 12.583766138081389, 4.414905241448642, 3.6309776545283983, 3.63099406261343, 3.2134241099814993, 3.213489145663989, 3.2134658760161257, 3.9972383319506135, 7.64180009091243, 8.24968384188239, 8.348118032289895, 10.012767184692342, 8.588844926066084, 8.489743075762197, 13.398693072558984, 6.890383185345378, 5.495822449061482, 4.689416978962947, 5.054183625660812, 3.731338154118635, 11.716104214969224, 5.701371601844767, 5.622877709683182, 5.516611791125592, 9.051577386925999, 3.9971166137925596, 7.120420957545397, 8.830823607565792, 7.229733410000165, 4.781054940550278, 6.207827731039786, 6.869794916905112, 6.248063338825949, 6.138551006062611, 4.6895034943203875, 5.5652584816278745, 4.317327851408617, 4.311438542197475, 4.735457767233361, 4.76203349506614, 4.447282271491027, 4.81827531996609, 4.0282294191920505, 4.633742244337609, 3.93596990948263, 3.238283059331176, 3.1461497686470934, 3.146122516812077, 3.12110188993018, 2.4485484031991636, 2.448522298809832, 2.4485165615814077, 2.4484543126530025, 3.053900585948837, 3.053867310023975, 5.428379075296898, 2.3562156003966206, 2.3562171781344374, 2.356128968247411, 2.3562712515123376, 2.356248732890772, 7.021201212996003, 2.906222031411958, 2.3107190921292595, 4.02826900606818, 1.658629582034726, 1.6586242750984335, 1.6586192550235621, 1.6586153823943757, 1.6586193984542728, 1.6586158126865074, 7.625902794042342, 4.428709477825702, 3.05387792389656, 3.053897143611782, 3.8040506608434694, 7.61996476262303, 6.695786764206518, 11.73394365843127, 6.213614596898451, 4.028310027251414, 6.059770242973809, 8.18262794983485, 4.792711664413818, 4.446702573610483, 6.305814152570837, 5.488450725515169, 4.02829281556614, 6.1876519171092585, 5.735612820932123, 7.215496469650117, 5.4114003214975614, 5.597376023213372, 6.0517386969024125, 4.818283352085884, 4.577156820971458, 4.401311343484711, 4.602147901126969, 5.030810946950079, 4.494687030984109, 4.534771037955838, 4.0674998871731916, 3.9130850006694513, 3.8662060299905048, 5.098076846402364, 3.0640713584511197, 3.0563582366264535, 3.045108076277181, 2.342497060155018, 2.3424945832372837, 2.3424981610073443, 2.3425256823155034, 2.342492931958794, 2.342500362711997, 2.3424978857942627, 2.342471740551512, 2.919679714342135, 2.2852930579005672, 2.2782346679970056, 1.6489511501208363, 1.6489375270732975, 1.6489351877621041, 1.6489328484509105, 1.6489299587135537, 1.648929821107013, 1.6489294082873907, 1.6489241792388405, 1.64892583051733, 1.6489247296650036, 1.648923766419218, 1.6489215647145652, 1.648923215993055, 3.2774958006678716, 5.3636585709898945, 4.262909724745033, 4.261374035749756, 5.241755688630028, 3.1874771794495538, 5.8925867395162745, 3.0523186590148623, 3.9131017886674284, 3.03608631624955, 5.097912819405736, 2.1190435780320125, 2.110584353543153, 4.5505005146804685, 5.197213001800707, 8.647271532822288, 6.920264310894103, 6.541470382637183, 7.237331247507167, 6.942474557004651, 10.164911503782532, 3.9131304108279137, 8.387251864613708, 3.127763096284453, 6.218287110498844, 7.448321154804166, 8.3790295985881, 8.301356210570704, 5.714862387817329, 5.302938308798498, 5.401705678667509, 5.8208392395716935, 5.402940284551525, 3.8447817924409806, 5.434962977873114, 5.445810226270937, 5.171351228523611, 5.044471943222418, 4.31748695574224, 4.002027470034939, 3.876220356706878, 3.870089198037277, 3.867581225700682, 3.217307552341925, 3.217270440395289, 3.1256662272576374, 3.125630705823, 3.125644490260322, 2.432487962563661, 2.43246065877435, 2.423982169480021, 2.340850878844703, 5.2665839159901875, 2.324942842919179, 3.9996531007062335, 4.520509198499913, 4.511850981349733, 2.2491626336564536, 2.249179068947107, 2.2491793340324397, 2.2491785387764405, 2.2491737672404444, 2.2491875516777666, 2.24918357539777, 2.249172441813779, 2.2491594526324565, 2.2491340044404775, 3.910404170753303, 1.6478128442919435, 3.8186947187384046, 5.42700189583632, 4.653632401936596, 3.2172497637393063, 3.999023257954754, 4.405038292480646, 3.1256667574283035, 7.64983201284253, 8.08815856370706, 4.866392010976818, 10.707133793031314, 5.757816727808341, 3.8722424861981644, 5.4766279908779865, 6.078242335404945, 5.98984167851798, 5.46468112508519, 4.630337233033175, 7.694102323813954, 5.806869178189148, 5.793085271037869, 5.738757622528087, 4.482870262221676, 6.356281858577901, 6.447767048400984, 4.720074980340369, 5.341465751058989, 4.002060870786911, 3.910429618945282, 5.239138838543317, 2.357467109917036, 2.357459179342707, 2.3574504557109446, 2.357429043160255, 2.357470282146768, 2.3574525705307656, 2.3574422607841377, 2.357456007112975, 2.3574525705307656, 2.3559867360422277, 2.355829181965552, 2.3555180390993646, 2.355218792094671, 1.659486689093603, 1.6594824594539608, 1.659463690428048, 1.6594606503745553, 1.6594610469032716, 1.6594576103210623, 1.659451001509121, 1.6594402952337766, 1.6594355368891789, 1.6594248306138344, 1.6594270776098943, 1.659425094966312, 1.6594098946988474, 1.659417693096938, 1.6594088372889368, 1.6593751323480372, 3.8457874202032785, 3.1478046202075465, 3.144770382469145, 5.426372825294378, 4.620013704391278, 2.108142409745591, 5.674720875237166, 4.223480493932661, 3.147750692302107, 3.147799068805516, 5.969737711583284, 13.415808934706506, 3.992750479214957, 6.969762515018532, 6.8578298602294145, 3.0198350223621353, 7.500664768101374, 5.268493595070854, 10.188433161318105, 5.426382870688529, 5.022235515816322, 6.152734656822662, 4.418130889444034, 4.86995368495444, 3.956161188431728, 6.117613844052746, 4.820595376443556, 5.597550042553323, 3.1221928304109756, 4.728480698198478, 5.723903124997938, 3.9219648162761347, 4.122698755355536, 3.9381053855036647, 3.8926090023386872, 4.14374068387107, 4.030417270697065, 3.241505118713159, 3.149210590259341, 2.450883348436469, 2.4508653742684134, 2.4508548465414095, 2.4508486839695047, 2.4508427781714293, 2.4508325072182546, 2.4508212091697623, 2.4507737060113297, 3.056314440723317, 3.024501960681561, 2.3585166665365995, 2.358477123366877, 2.3584950975349326, 2.3583774951210827, 2.358477123366877, 2.358442202126083, 1.6602185685433608, 1.6602050879173191, 1.6602050879173191, 1.6602053446911484, 1.6602013646967932, 1.660199438893073, 1.6601919924520212, 1.6601901950352158, 1.6601853163324578, 1.660187242136178, 1.6601828769810787, 1.6601853163324578, 2.212613925082873, 2.2125628270908293, 6.516173091036714, 3.14919903543702, 7.595935802193516, 4.032217530151614, 7.073573611445162, 6.860336811942718, 3.0568097574401656, 4.638110301783664, 3.9248013341125496, 2.450861522660973, 3.149204170913607, 3.1435661879421977, 5.521235100863617, 4.7095324559697325, 4.638210957124776, 7.010169476854904, 3.2800078408790703, 5.801127818731421, 4.250107328216017, 4.822880641014832, 4.82296280864023, 4.706141500779113, 3.847583281050011, 2.9975466143961094, 4.730597153835678, 5.036029623867633, 5.394708255800089, 4.449252636736634, 4.040913689430784, 3.939857781145138, 4.302777803191078, 3.7552884958223642, 3.378688848016902, 3.486781899870178, 3.5340503670230174, 3.3764590240826795, 3.2849551022494827, 4.4483633154457385, 3.1719834043283566, 3.171943736096273, 3.1719370420821087, 3.0808565498795066, 2.398298172587917, 2.398286767971193, 2.3982840407802373, 2.398258752282284, 2.3982101586979807, 2.991243286411106, 2.991270310394213, 2.3079317085628244, 2.3079024532416623, 2.3079369150182854, 2.3070790894994717, 2.3069271105853004, 2.3066176983750464, 1.6246236016848496, 1.624621866199696, 1.6246120731049003, 1.6246094698771698, 1.6246050072010603, 1.6246087260978181, 1.6246030237894562, 1.624605255127511, 1.6246026518997805, 1.6246022800101045, 1.6245950901430395, 1.6245955859959404, 3.172048856911295, 3.0816077670245945, 3.0815985937459254, 2.083316294622767, 13.28666111974219, 4.587562612798318, 2.3982659421493486, 2.3982265218437155, 6.333050607040136, 3.9457370637691414, 4.507947479300205, 5.4020282746796715, 3.580711727618595, 4.083783255200333, 4.496046513822145, 9.190952850198096, 6.40169648266126, 4.629071450850871, 4.659501447535303, 3.8553631619505326, 5.402774037442848, 5.44395561258071, 3.765019011305987, 3.8552059765809004, 4.629093764231419, 3.171922166495077, 5.940303374824233, 5.491618976841074, 3.8553358900409753, 4.376714058802965, 4.250021659173526, 3.764979095147453, 3.820614534424421, 3.721003140985734, 3.9580426452144564, 3.6995706431172732, 3.6425959051545735, 3.170799929693521, 3.080476594336579, 3.0804458838858424, 3.080472694596803, 2.3974074370348024, 2.39740938690469, 2.397401587425138, 2.3973818449925215, 2.397363321228585, 2.39732944223928, 2.990103781031228, 2.9900881820721237, 2.990108411972212, 4.6555259186163305, 2.307058753369316, 2.30707922700314, 2.3070789832694043, 2.307003425811242, 2.307091169956205, 2.307044373078891, 2.3070538786945956, 2.30707313365974, 2.3070419357415313, 2.307030236522203, 2.2166471863999395, 2.216629881304683, 2.211819796024585, 2.2118310077764414, 1.6240094603670234, 1.6240078760977394, 8.464657190900073, 9.945367910255905, 9.936494052395362, 6.857110360131038, 3.9441473316110782, 6.134258007503257, 4.462890472895736, 3.0804839063486593, 3.0804853687510754, 3.077200325457173, 2.9901184050553886, 4.602256448209587, 11.150251985117235, 4.627345424059203, 3.8538705493977137, 3.0339134576760682, 3.7587495591812106, 6.173958820826491, 3.9442175269270483, 2.943123859682145, 3.0804595329750586, 4.39847700861128, 3.8539280705594114, 3.9442477499103132, 4.134154108988838, 3.3350213839378933, 3.4416317387360302, 3.170835514818978, 3.603065610241691, 3.294405594169689, 3.14432995849569, 3.1078608107781722, 3.11149098104226, 3.080498286639084, 3.0804958493017236, 4.549836475081377, 3.089183778632989, 3.0891623888880093, 3.0891920428526407, 3.08917818813146, 2.404145354098146, 2.404144138771727, 2.404076809688097, 2.368367845770502, 2.3642814322181978, 2.3612710686775547, 2.359441273220634, 2.3135921117908436, 2.3135867643545986, 2.313612772339972, 2.3136144737969593, 2.3135957577701016, 2.313611313948269, 2.313533289992149, 2.313573881894554, 2.248680798539383, 2.22294504628397, 2.222954525830041, 2.2229574426134473, 2.222959144070434, 2.22296327618026, 2.2229496645243634, 2.222960845527421, 1.628622353198692, 1.628586622601964, 3.0782448685980195, 2.0988995954479033, 4.68594379756386, 9.879337905031875, 8.826774805619564, 2.9982897587977106, 2.9986205706490483, 4.97333154980869, 3.493252103612837, 3.49325356200454, 6.419535473523126, 8.532405246161055, 4.2222219044877916, 3.08907245473298, 3.0890615167952062, 3.4932426240667662, 3.774213695882897, 5.340975569740534, 5.325446614885096, 2.9986249458241576, 4.138556889259882, 3.0891407560777453, 3.8647596462316836, 3.955427858418253, 3.955354209637243, 4.459235348913153, 3.951160118164187, 3.8647504097508967, 3.94721638393351, 3.841152659732343, 3.1737600456101007, 3.1797596260116907, 3.1798143157005603, 3.1989136565106615, 3.1836525595980403, 3.1531383869271656, 3.1324005430385435, 4.72438868170979, 4.54347430214549, 2.400876720887935, 2.4008331284096682, 2.904836074584984, 2.31037104321552, 2.310364515999523, 2.276788750024853, 2.2198516117665394, 2.2198527773408245, 2.219898700967662, 2.219883548501954, 2.2198844809613822, 2.2198875114545236, 2.219871659644245, 2.219867929806532, 2.2198690953808176, 2.2198767881710997, 2.2198802848939554, 2.219877254400814, 2.219871892759102, 2.1864220088072353, 1.6263382718009505, 1.6263291803215258, 1.626323818679814, 1.6263164755618171, 1.6263068012952497, 1.6263071509675353, 1.6263068012952497, 1.6263023721129661, 3.768980261438772, 5.829003898034778, 5.318080471098445, 2.400879984495934, 9.020036248184965, 2.3103843307623713, 3.1487993977295354, 2.852310168766483, 6.342420255252322, 3.0849396806764915, 7.688428703422969, 7.080682419303229, 4.57531126440148, 4.634025903444742, 4.627129899743715, 2.994436567267504, 3.8594038826815082, 4.669557736184855, 5.4708737392280105, 3.325509084617363, 3.3170397887461567, 3.1890226669676256, 4.43102202625682, 5.280099533670246, 3.975618166133127, 3.859480111239761, 4.0662937845363265, 4.438819718224888, 3.175347683223806, 4.54452098785361, 3.3306707137819953, 3.175406894397495, 3.3386707494459755, 3.219753032997236], \"Total\": [17.0, 28.0, 30.0, 16.0, 16.0, 42.0, 19.0, 29.0, 12.0, 39.0, 23.0, 19.0, 24.0, 25.0, 15.0, 11.0, 12.0, 19.0, 31.0, 12.0, 21.0, 11.0, 17.0, 30.0, 21.0, 11.0, 25.0, 38.0, 20.0, 16.0, 4.699897105042339, 3.917288718626362, 4.700645675383447, 3.9167346060412265, 3.9174959729137417, 3.917522641894274, 3.9175600728109705, 3.13352043165909, 3.133504213402162, 3.133504303390017, 3.133486212918979, 3.133484207520145, 3.133477378166226, 3.1334821768133594, 3.1334727661408324, 3.133462027640503, 3.1334667419059605, 3.133449097530985, 4.7008260119815795, 3.132239077304425, 3.132241702635411, 3.132261055694948, 3.1322243549866364, 3.132350629893454, 3.132318357346209, 3.1323611463903305, 3.1322563238242354, 3.1335700876147508, 3.133602623427151, 3.1335844606400065, 24.30136799393343, 7.0357879502971645, 5.4854250929268495, 5.48547962849563, 4.690504218278116, 4.691674090268809, 4.702389976119308, 6.280784054960519, 14.880092188185815, 16.468673061460457, 18.051394483835306, 23.568534555634834, 19.601649624196696, 19.52101362134072, 38.388148833782786, 15.668980172273743, 11.007946335946178, 8.625147467549565, 10.187390803248386, 6.251078229248071, 39.97939212323165, 12.543416527385308, 12.54626002884725, 12.542109593036317, 31.342768019177708, 7.065263833806571, 22.76461427395892, 36.01435212976676, 25.909293844389005, 10.165117971332577, 19.583845066150115, 26.668121249898803, 21.054879236633102, 21.92820703031144, 12.541419616699763, 33.57775278266179, 9.35999820350796, 10.186657153467008, 31.465799965961228, 40.614727650733236, 14.869135165976758, 5.521536180575259, 4.731496793403047, 5.520152071415955, 4.731530276520209, 3.941557470424059, 3.9417098554314127, 3.9416868235645945, 3.9404398203061812, 3.151800846677042, 3.151775409024943, 3.1517692834456197, 3.151709230708376, 3.9392349285774757, 3.9391929097630793, 7.098819467372074, 3.1510770010834444, 3.151151121801581, 3.151634236893115, 3.1518321658850064, 3.15181056024922, 9.455159757577386, 3.9381961036702475, 3.1508096318111365, 5.516570887508889, 2.361880160693114, 2.3618744735588404, 2.361869808404272, 2.3618652754186855, 2.361871832196091, 2.3618667637987856, 12.622411769548643, 7.063100320309502, 4.729304840545124, 4.7293455864535225, 6.297486030103282, 14.922398439027106, 13.354668926959219, 28.270618483696285, 12.554838372869863, 7.103239266438501, 13.345649968934548, 21.192614208618917, 10.199426193770137, 9.4146529790426, 18.01336607957095, 14.147095475350454, 8.655851824681251, 25.152465500739375, 21.177403957512805, 39.97939212323165, 18.807761942757736, 26.668121249898803, 35.17329439611682, 16.410373667115874, 14.063812285988092, 12.558124571409486, 17.177247506843976, 36.01435212976676, 17.96052835928709, 31.342768019177708, 40.614727650733236, 4.709025800393926, 4.706587187327541, 6.275371187049539, 3.9210386698928996, 3.9234673961048996, 3.9234967480091947, 3.136496573770946, 3.1366105018613526, 3.1366205953630746, 3.1366611112182183, 3.1366312043036007, 3.137727331101765, 3.138439007648367, 3.1384666452213983, 3.9193305101029705, 3.138250271192406, 3.1382135996389384, 2.3526642010837997, 2.352649892468417, 2.3526475864897214, 2.3526463051793503, 2.3526427296758774, 2.352643070819382, 2.3526426369778015, 2.3526359856523382, 2.3526386425098775, 2.352637954083619, 2.352637159854778, 2.3526354242933447, 2.3526383219221616, 4.70762683269292, 7.8240548716889275, 6.263270262794334, 6.263303154559059, 7.82609401929783, 4.697869882057599, 9.380573589945408, 4.6966724663229025, 6.27204059590158, 4.712773298512987, 8.610753985864365, 3.1395509489210487, 3.139556141033728, 7.818353523804602, 10.175232643984712, 20.383630856848022, 18.77767758525661, 17.20239839264256, 20.36760504865599, 21.177403957512805, 42.390899492136505, 7.828636147486964, 36.01435212976676, 5.4685070450584226, 21.185866163217128, 30.43225582813836, 39.97939212323165, 42.389191956463236, 21.192614208618917, 21.116268610105045, 23.52549091104722, 30.37025131354678, 25.152465500739375, 8.655851824681251, 34.374645954391156, 38.388148833782786, 35.17329439611682, 31.465799965961228, 17.17367539784748, 4.705799585406817, 4.705637144028488, 4.705512875077129, 4.705593639747633, 3.9210780777413743, 3.921047432670286, 3.92093902854581, 3.9209077878029435, 3.920926394129668, 3.136265449093578, 3.1362339959028054, 3.13616674839065, 3.136119010836777, 7.058489295771058, 3.13523929940866, 5.479261339647009, 6.274639148755934, 6.265138323752604, 3.1355469622571297, 3.1355893597422018, 3.135655091990332, 3.1356617659294432, 3.135682059410178, 3.1357040014326825, 3.1357038452123485, 3.1357097681776382, 3.1357060717546705, 3.1356846775490115, 5.491512903273265, 2.351579269964625, 5.478399259593945, 7.836899148160298, 7.038951844796359, 4.7114644331389215, 6.25288817767364, 7.068004523117477, 4.703276160619294, 15.632677731805234, 18.830798244604743, 9.40825600456013, 29.724097398772326, 12.542109593036317, 7.059226931810304, 12.550330128067195, 15.707713385863974, 15.705877093869288, 14.1546604780447, 10.182698924850062, 40.614727650733236, 20.332326357026226, 21.116268610105045, 22.76461427395892, 10.95574622920479, 34.374645954391156, 42.389191956463236, 13.33723002950369, 25.909293844389005, 17.138652066220704, 12.539144161751786, 6.3080368355296565, 3.150970474411374, 3.151072286103579, 3.1510754397955005, 3.1510679901356076, 3.151221269374322, 3.1512180470261084, 3.1512080735476724, 3.1522807365309755, 3.1522822460758557, 3.1521002332087917, 3.152191875910538, 3.1521553985745596, 3.1521187726745095, 2.3626971873428158, 2.362692597672751, 2.362674498956233, 2.3626715567853345, 2.3626729257599584, 2.362670399110703, 2.3626670570153254, 2.3626528387607086, 2.362647380202311, 2.3626383021824324, 2.36264514392404, 2.3626432791423513, 2.3626244439726225, 2.362636792243709, 2.362630193646089, 2.3625963046002307, 5.505435205036183, 4.724850116997797, 4.7328960856616575, 8.65375708269135, 7.875082088534788, 3.150127545686072, 11.002268481837245, 7.856952366765099, 5.499311055171207, 5.506342336472966, 13.322128307064768, 42.389191956463236, 7.880378949081836, 17.20163851587531, 17.20678820920666, 5.492026464902308, 22.026014716861837, 13.289980675646463, 42.390899492136505, 15.707713385863974, 14.093332871236319, 23.568534555634834, 11.800378396724962, 15.693912670879275, 10.200166374969598, 31.465799965961228, 17.99837214062772, 26.668121249898803, 6.296272991814579, 18.80558795769045, 31.342768019177708, 12.553936359630516, 16.46813975633286, 14.919264702121374, 15.705877093869288, 23.52549091104722, 20.332326357026226, 3.944685064584545, 3.942918749013893, 3.154062862141128, 3.1540445555849543, 3.154032314505763, 3.1540261621639165, 3.1540209056564805, 3.1540142714235073, 3.1540055115265577, 3.153953617090763, 3.9440436430229378, 3.9428557323007656, 3.1520042019977668, 3.1521962435451014, 3.1522281954965963, 3.1537772937374515, 3.1539184277474344, 3.153884717552506, 2.36339502054961, 2.3633821478869987, 2.363382307089341, 2.3633828623859685, 2.363377923589156, 2.3633756478549834, 2.363370093468263, 2.3633678185765805, 2.3633626045843057, 2.363366570213725, 2.363360825261813, 2.363364691308812, 3.151977023340161, 3.1519625079401608, 10.2133002546719, 4.71639930173592, 12.593323536267578, 6.314451142164599, 11.812054327767955, 11.786985331417796, 4.72602419167031, 7.869667734218627, 7.067149902271383, 3.928351267776173, 5.509089109286252, 5.505111188825222, 14.106623288882222, 11.7585174477847, 11.750900032914897, 31.465799965961228, 6.2844105697924695, 21.185866163217128, 11.785794892813726, 16.41695885332995, 17.986063245553044, 17.231539275306492, 10.200308957282067, 5.510592469362143, 21.14427814166812, 25.909293844389005, 33.57775278266179, 19.601649624196696, 18.00117018352077, 16.46813975633286, 28.270618483696285, 17.216689734930704, 10.982349759183146, 19.583845066150115, 25.77052399627184, 42.390899492136505, 9.433378326706764, 5.428100816780005, 3.8768633729158113, 3.876825364288465, 3.8768196875536707, 3.8788057646636647, 3.103175392908316, 3.1031624696322346, 3.103162027087615, 3.1031386649791557, 3.1030939221225418, 3.880525938692758, 3.8805762939484874, 3.1050238448337812, 3.1049917300731322, 3.1050409071627807, 3.1051241905620084, 3.105086046960768, 3.1051328929366693, 2.329494783210691, 2.3294934325509917, 2.32948305471887, 2.3294813452601497, 2.3294763493422774, 2.3294823381509384, 2.3294750182130066, 2.3294782849409326, 2.329474696226157, 2.3294758301451264, 2.3294663131745503, 2.3294670945863163, 4.66047539121982, 4.6613703558864215, 4.6620490191498565, 3.108708537685746, 30.37025131354678, 8.560620673489268, 3.8774650506121344, 3.8785010905526778, 14.050888198490963, 7.769646617738163, 9.361989874586978, 12.483524309475571, 7.026213837420437, 8.553689103000336, 10.12630841438842, 35.17329439611682, 21.054879236633102, 11.682017506517322, 12.464990711529325, 8.575383466021878, 17.20239839264256, 19.505126556982255, 8.555799532125299, 9.332933960796435, 15.601592912115974, 6.231112466233107, 38.388148833782786, 31.342768019177708, 11.687528778698338, 20.257434584340235, 19.583845066150115, 15.591646606370052, 20.36760504865599, 16.345890965349795, 30.43225582813836, 17.96052835928709, 16.413437061193918, 3.87570438130785, 3.8757013149248056, 3.87566267844884, 3.8757027382461224, 3.1023097680399334, 3.1023123091919986, 3.102304114786145, 3.1022858955836345, 3.1022663863951947, 3.1022345975320404, 3.877060468696042, 3.87728262967866, 3.878936535282702, 6.196297424924566, 3.1035672515422834, 3.1035993508802093, 3.103602931140197, 3.103521887892661, 3.1041966798267433, 3.1041881954851136, 3.104206757537288, 3.1042432042049413, 3.104202001088633, 3.104212080742096, 3.103566239920985, 3.1035743007046666, 3.105617219357412, 3.105652621455909, 2.328908361451136, 2.328909307678823, 12.408335955037282, 16.28740464998012, 16.287336885340107, 11.656206165122647, 6.213823859996372, 10.885105122848703, 7.777296358687769, 4.651904845823788, 4.660259671437348, 4.667408801874034, 4.664104915962742, 9.3493988315621, 40.614727650733236, 10.15765436227381, 7.795420981448611, 5.447062703086709, 8.589937834039313, 28.270618483696285, 10.116701114273045, 5.428478813070763, 6.228441844350401, 20.257434584340235, 14.81620098972872, 17.138652066220704, 30.43225582813836, 10.900195511634058, 17.216689734930704, 7.783922442745008, 42.389191956463236, 33.57775278266179, 17.17367539784748, 8.546657671179261, 17.96052835928709, 15.67517801977779, 12.488188366234825, 5.43902985615411, 3.8841473043160546, 3.8841313978921255, 3.8841694531296045, 3.884153899153266, 3.108832754343099, 3.1088344199802855, 3.108769850784881, 3.1087898253256894, 3.1087441933487647, 3.1087160277867936, 3.1087055760816664, 3.1085869843704073, 3.1105222726628825, 3.1105575950155298, 3.1105645400630944, 3.110540613934369, 3.1105636872853313, 3.110482975968611, 3.1105735168013995, 3.1102827096316403, 3.1095377423480492, 3.1095810270306217, 3.1095939706335587, 3.1096286777001927, 3.1114221690432595, 3.1114198514574847, 3.1114732490042654, 2.3333034326309914, 2.3332688214537494, 4.669666988823889, 3.112288560880637, 7.772982030477216, 19.456220072514107, 17.20678820920666, 4.6686294796386205, 4.671621961608726, 9.376650875145499, 6.2492291104738795, 6.2492382476109665, 16.394388537774994, 34.374645954391156, 9.385774752122199, 5.452102412533999, 5.456084493101808, 7.033730042768129, 8.568352862827815, 18.00117018352077, 17.99837214062772, 5.457919095723387, 13.272217959083537, 6.252242765690302, 11.683511707693942, 12.488188366234825, 12.52988476580213, 17.986063245553044, 16.410373667115874, 19.601649624196696, 42.390899492136505, 35.17329439611682, 7.801797048535402, 8.546657671179261, 16.345890965349795, 23.52549091104722, 19.505126556982255, 33.57775278266179, 29.724097398772326, 5.42919149462412, 5.42893150149161, 3.1056688898653064, 3.1056284836698707, 3.8820712842283713, 3.1055005552036508, 3.1073479635658234, 3.1080326094269486, 3.106854049339141, 3.1068792298292585, 3.1071655405180283, 3.107346938550392, 3.107359863770578, 3.107420704186113, 3.1083681382297854, 3.1083635447524705, 3.1083705022572308, 3.1083981557078184, 3.1085121642619007, 3.1085583716151, 3.1085549835271102, 3.108156888335965, 2.3311295496008695, 2.3311195344190447, 2.3311154242959176, 2.3311091706022085, 2.3310992519936193, 2.331100397946307, 2.3311001588042055, 2.3310980239856565, 6.203420065802665, 10.919814726276945, 10.896240623908831, 3.895752237784934, 25.77052399627184, 3.8910590415630537, 6.2261027454419935, 5.443787575141589, 18.7370413044872, 6.237695694028527, 33.57775278266179, 30.43225582813836, 14.063812285988092, 16.345890965349795, 17.231539275306492, 6.241233421513664, 11.736099423210362, 19.52101362134072, 29.724097398772326, 8.569738608345585, 8.563100383794751, 7.795807681739938, 21.177403957512805, 36.01435212976676, 16.41695885332995, 16.410373667115874, 20.332326357026226, 34.374645954391156, 9.353795951601615, 39.97939212323165, 21.185866163217128, 14.884520570695022, 42.389191956463236, 21.92820703031144], \"Category\": [\"Default\", \"Default\", \"Default\", \"Default\", \"Default\", \"Default\", \"Default\", \"Default\", \"Default\", \"Default\", \"Default\", \"Default\", \"Default\", \"Default\", \"Default\", \"Default\", \"Default\", \"Default\", \"Default\", \"Default\", \"Default\", \"Default\", \"Default\", \"Default\", \"Default\", \"Default\", \"Default\", \"Default\", \"Default\", \"Default\", \"Topic1\", \"Topic1\", \"Topic1\", \"Topic1\", \"Topic1\", \"Topic1\", \"Topic1\", \"Topic1\", \"Topic1\", \"Topic1\", \"Topic1\", \"Topic1\", \"Topic1\", \"Topic1\", \"Topic1\", \"Topic1\", \"Topic1\", \"Topic1\", \"Topic1\", \"Topic1\", \"Topic1\", \"Topic1\", \"Topic1\", \"Topic1\", \"Topic1\", \"Topic1\", \"Topic1\", \"Topic1\", \"Topic1\", \"Topic1\", \"Topic1\", \"Topic1\", \"Topic1\", \"Topic1\", \"Topic1\", \"Topic1\", \"Topic1\", \"Topic1\", \"Topic1\", \"Topic1\", \"Topic1\", \"Topic1\", \"Topic1\", \"Topic1\", \"Topic1\", \"Topic1\", \"Topic1\", \"Topic1\", \"Topic1\", \"Topic1\", \"Topic1\", \"Topic1\", \"Topic1\", \"Topic1\", \"Topic1\", \"Topic1\", \"Topic1\", \"Topic1\", \"Topic1\", \"Topic1\", \"Topic1\", \"Topic1\", \"Topic1\", \"Topic1\", \"Topic1\", \"Topic1\", \"Topic1\", \"Topic1\", \"Topic1\", \"Topic1\", \"Topic1\", \"Topic2\", \"Topic2\", \"Topic2\", \"Topic2\", \"Topic2\", \"Topic2\", \"Topic2\", \"Topic2\", \"Topic2\", \"Topic2\", \"Topic2\", \"Topic2\", \"Topic2\", \"Topic2\", \"Topic2\", \"Topic2\", \"Topic2\", \"Topic2\", \"Topic2\", \"Topic2\", \"Topic2\", \"Topic2\", \"Topic2\", \"Topic2\", \"Topic2\", \"Topic2\", \"Topic2\", \"Topic2\", \"Topic2\", \"Topic2\", \"Topic2\", \"Topic2\", \"Topic2\", \"Topic2\", \"Topic2\", \"Topic2\", \"Topic2\", \"Topic2\", \"Topic2\", \"Topic2\", \"Topic2\", \"Topic2\", \"Topic2\", \"Topic2\", \"Topic2\", \"Topic2\", \"Topic2\", \"Topic2\", \"Topic2\", \"Topic2\", \"Topic2\", \"Topic2\", \"Topic2\", \"Topic2\", \"Topic2\", \"Topic2\", \"Topic2\", \"Topic2\", \"Topic2\", \"Topic2\", \"Topic2\", \"Topic3\", \"Topic3\", \"Topic3\", \"Topic3\", \"Topic3\", \"Topic3\", \"Topic3\", \"Topic3\", \"Topic3\", \"Topic3\", \"Topic3\", \"Topic3\", \"Topic3\", \"Topic3\", \"Topic3\", \"Topic3\", \"Topic3\", \"Topic3\", \"Topic3\", \"Topic3\", \"Topic3\", \"Topic3\", \"Topic3\", \"Topic3\", \"Topic3\", \"Topic3\", \"Topic3\", \"Topic3\", \"Topic3\", \"Topic3\", \"Topic3\", \"Topic3\", \"Topic3\", \"Topic3\", \"Topic3\", \"Topic3\", \"Topic3\", \"Topic3\", \"Topic3\", \"Topic3\", \"Topic3\", \"Topic3\", \"Topic3\", \"Topic3\", \"Topic3\", \"Topic3\", \"Topic3\", \"Topic3\", \"Topic3\", \"Topic3\", \"Topic3\", \"Topic3\", \"Topic3\", \"Topic3\", \"Topic3\", \"Topic3\", \"Topic3\", \"Topic3\", \"Topic3\", \"Topic3\", \"Topic3\", \"Topic3\", \"Topic3\", \"Topic3\", \"Topic3\", \"Topic3\", \"Topic3\", \"Topic3\", \"Topic3\", \"Topic4\", \"Topic4\", \"Topic4\", \"Topic4\", \"Topic4\", \"Topic4\", \"Topic4\", \"Topic4\", \"Topic4\", \"Topic4\", \"Topic4\", \"Topic4\", \"Topic4\", \"Topic4\", \"Topic4\", \"Topic4\", \"Topic4\", \"Topic4\", \"Topic4\", \"Topic4\", \"Topic4\", \"Topic4\", \"Topic4\", \"Topic4\", \"Topic4\", \"Topic4\", \"Topic4\", \"Topic4\", \"Topic4\", \"Topic4\", \"Topic4\", \"Topic4\", \"Topic4\", \"Topic4\", \"Topic4\", \"Topic4\", \"Topic4\", \"Topic4\", \"Topic4\", \"Topic4\", \"Topic4\", \"Topic4\", \"Topic4\", \"Topic4\", \"Topic4\", \"Topic4\", \"Topic4\", \"Topic4\", \"Topic4\", \"Topic4\", \"Topic4\", \"Topic4\", \"Topic4\", \"Topic4\", \"Topic4\", \"Topic4\", \"Topic4\", \"Topic4\", \"Topic4\", \"Topic5\", \"Topic5\", \"Topic5\", \"Topic5\", \"Topic5\", \"Topic5\", \"Topic5\", \"Topic5\", \"Topic5\", \"Topic5\", \"Topic5\", \"Topic5\", \"Topic5\", \"Topic5\", \"Topic5\", \"Topic5\", \"Topic5\", \"Topic5\", \"Topic5\", \"Topic5\", \"Topic5\", \"Topic5\", \"Topic5\", \"Topic5\", \"Topic5\", \"Topic5\", \"Topic5\", \"Topic5\", \"Topic5\", \"Topic5\", \"Topic5\", \"Topic5\", \"Topic5\", \"Topic5\", \"Topic5\", \"Topic5\", \"Topic5\", \"Topic5\", \"Topic5\", \"Topic5\", \"Topic5\", \"Topic5\", \"Topic5\", \"Topic5\", \"Topic5\", \"Topic5\", \"Topic5\", \"Topic5\", \"Topic5\", \"Topic5\", \"Topic5\", \"Topic5\", \"Topic5\", \"Topic5\", \"Topic5\", \"Topic5\", \"Topic5\", \"Topic5\", \"Topic5\", \"Topic5\", \"Topic5\", \"Topic5\", \"Topic5\", \"Topic5\", \"Topic5\", \"Topic5\", \"Topic5\", \"Topic6\", \"Topic6\", \"Topic6\", \"Topic6\", \"Topic6\", \"Topic6\", \"Topic6\", \"Topic6\", \"Topic6\", \"Topic6\", \"Topic6\", \"Topic6\", \"Topic6\", \"Topic6\", \"Topic6\", \"Topic6\", \"Topic6\", \"Topic6\", \"Topic6\", \"Topic6\", \"Topic6\", \"Topic6\", \"Topic6\", \"Topic6\", \"Topic6\", \"Topic6\", \"Topic6\", \"Topic6\", \"Topic6\", \"Topic6\", \"Topic6\", \"Topic6\", \"Topic6\", \"Topic6\", \"Topic6\", \"Topic6\", \"Topic6\", \"Topic6\", \"Topic6\", \"Topic6\", \"Topic6\", \"Topic6\", \"Topic6\", \"Topic6\", \"Topic6\", \"Topic6\", \"Topic6\", \"Topic6\", \"Topic6\", \"Topic6\", \"Topic6\", \"Topic6\", \"Topic6\", \"Topic6\", \"Topic6\", \"Topic6\", \"Topic6\", \"Topic6\", \"Topic6\", \"Topic6\", \"Topic6\", \"Topic6\", \"Topic6\", \"Topic6\", \"Topic6\", \"Topic6\", \"Topic6\", \"Topic6\", \"Topic6\", \"Topic7\", \"Topic7\", \"Topic7\", \"Topic7\", \"Topic7\", \"Topic7\", \"Topic7\", \"Topic7\", \"Topic7\", \"Topic7\", \"Topic7\", \"Topic7\", \"Topic7\", \"Topic7\", \"Topic7\", \"Topic7\", \"Topic7\", \"Topic7\", \"Topic7\", \"Topic7\", \"Topic7\", \"Topic7\", \"Topic7\", \"Topic7\", \"Topic7\", \"Topic7\", \"Topic7\", \"Topic7\", \"Topic7\", \"Topic7\", \"Topic7\", \"Topic7\", \"Topic7\", \"Topic7\", \"Topic7\", \"Topic7\", \"Topic7\", \"Topic7\", \"Topic7\", \"Topic7\", \"Topic7\", \"Topic7\", \"Topic7\", \"Topic7\", \"Topic7\", \"Topic7\", \"Topic7\", \"Topic7\", \"Topic7\", \"Topic7\", \"Topic7\", \"Topic7\", \"Topic7\", \"Topic7\", \"Topic7\", \"Topic7\", \"Topic7\", \"Topic7\", \"Topic7\", \"Topic7\", \"Topic7\", \"Topic7\", \"Topic7\", \"Topic7\", \"Topic7\", \"Topic7\", \"Topic7\", \"Topic8\", \"Topic8\", \"Topic8\", \"Topic8\", \"Topic8\", \"Topic8\", \"Topic8\", \"Topic8\", \"Topic8\", \"Topic8\", \"Topic8\", \"Topic8\", \"Topic8\", \"Topic8\", \"Topic8\", \"Topic8\", \"Topic8\", \"Topic8\", \"Topic8\", \"Topic8\", \"Topic8\", \"Topic8\", \"Topic8\", \"Topic8\", \"Topic8\", \"Topic8\", \"Topic8\", \"Topic8\", \"Topic8\", \"Topic8\", \"Topic8\", \"Topic8\", \"Topic8\", \"Topic8\", \"Topic8\", \"Topic8\", \"Topic8\", \"Topic8\", \"Topic8\", \"Topic8\", \"Topic8\", \"Topic8\", \"Topic8\", \"Topic8\", \"Topic8\", \"Topic8\", \"Topic8\", \"Topic8\", \"Topic8\", \"Topic8\", \"Topic8\", \"Topic8\", \"Topic8\", \"Topic8\", \"Topic8\", \"Topic8\", \"Topic8\", \"Topic8\", \"Topic8\", \"Topic8\", \"Topic8\", \"Topic8\", \"Topic8\", \"Topic8\", \"Topic8\", \"Topic9\", \"Topic9\", \"Topic9\", \"Topic9\", \"Topic9\", \"Topic9\", \"Topic9\", \"Topic9\", \"Topic9\", \"Topic9\", \"Topic9\", \"Topic9\", \"Topic9\", \"Topic9\", \"Topic9\", \"Topic9\", \"Topic9\", \"Topic9\", \"Topic9\", \"Topic9\", \"Topic9\", \"Topic9\", \"Topic9\", \"Topic9\", \"Topic9\", \"Topic9\", \"Topic9\", \"Topic9\", \"Topic9\", \"Topic9\", \"Topic9\", \"Topic9\", \"Topic9\", \"Topic9\", \"Topic9\", \"Topic9\", \"Topic9\", \"Topic9\", \"Topic9\", \"Topic9\", \"Topic9\", \"Topic9\", \"Topic9\", \"Topic9\", \"Topic9\", \"Topic9\", \"Topic9\", \"Topic9\", \"Topic9\", \"Topic9\", \"Topic9\", \"Topic9\", \"Topic9\", \"Topic9\", \"Topic9\", \"Topic9\", \"Topic9\", \"Topic9\", \"Topic9\", \"Topic9\", \"Topic9\", \"Topic9\", \"Topic9\", \"Topic9\", \"Topic9\", \"Topic9\", \"Topic9\", \"Topic10\", \"Topic10\", \"Topic10\", \"Topic10\", \"Topic10\", \"Topic10\", \"Topic10\", \"Topic10\", \"Topic10\", \"Topic10\", \"Topic10\", \"Topic10\", \"Topic10\", \"Topic10\", \"Topic10\", \"Topic10\", \"Topic10\", \"Topic10\", \"Topic10\", \"Topic10\", \"Topic10\", \"Topic10\", \"Topic10\", \"Topic10\", \"Topic10\", \"Topic10\", \"Topic10\", \"Topic10\", \"Topic10\", \"Topic10\", \"Topic10\", \"Topic10\", \"Topic10\", \"Topic10\", \"Topic10\", \"Topic10\", \"Topic10\", \"Topic10\", \"Topic10\", \"Topic10\", \"Topic10\", \"Topic10\", \"Topic10\", \"Topic10\", \"Topic10\", \"Topic10\", \"Topic10\", \"Topic10\", \"Topic10\", \"Topic10\", \"Topic10\", \"Topic10\", \"Topic10\", \"Topic10\", \"Topic10\", \"Topic10\", \"Topic10\", \"Topic10\", \"Topic10\", \"Topic10\", \"Topic10\", \"Topic10\", \"Topic10\", \"Topic10\"], \"logprob\": [30.0, 29.0, 28.0, 27.0, 26.0, 25.0, 24.0, 23.0, 22.0, 21.0, 20.0, 19.0, 18.0, 17.0, 16.0, 15.0, 14.0, 13.0, 12.0, 11.0, 10.0, 9.0, 8.0, 7.0, 6.0, 5.0, 4.0, 3.0, 2.0, 1.0, -5.7932, -5.9883, -5.8169, -6.0028, -6.0172, -6.0172, -6.0172, -6.2679, -6.2679, -6.2679, -6.2679, -6.2679, -6.2679, -6.2679, -6.2679, -6.2679, -6.2679, -6.2679, -5.8661, -6.3063, -6.3063, -6.3063, -6.3063, -6.3063, -6.3063, -6.3063, -6.3064, -6.3063, -6.3063, -6.3063, -4.6232, -5.6707, -5.8661, -5.8661, -5.9883, -5.9883, -5.9883, -5.77, -5.122, -5.0455, -5.0336, -4.8518, -5.0052, -5.0168, -4.5605, -5.2255, -5.4517, -5.6103, -5.5354, -5.8389, -4.6947, -5.4149, -5.4288, -5.4479, -4.9527, -5.7701, -5.1927, -4.9774, -5.1774, -5.591, -5.3298, -5.2285, -5.3234, -5.3411, -5.6103, -5.4391, -5.693, -5.6944, -5.6006, -5.595, -5.6633, -5.544, -5.7231, -5.5831, -5.7463, -5.9414, -5.9703, -5.9703, -5.9783, -6.2209, -6.221, -6.221, -6.221, -6.0, -6.0, -5.4248, -6.2594, -6.2594, -6.2594, -6.2594, -6.2594, -5.1675, -6.0496, -6.2789, -5.7231, -6.6105, -6.6105, -6.6105, -6.6105, -6.6105, -6.6105, -5.0849, -5.6283, -6.0, -6.0, -5.7804, -5.0857, -5.215, -4.654, -5.2897, -5.7231, -5.3148, -5.0144, -5.5493, -5.6243, -5.275, -5.4138, -5.7231, -5.2939, -5.3697, -5.1402, -5.4279, -5.3941, -5.3161, -5.544, -5.5954, -5.6345, -5.5899, -5.5009, -5.6135, -5.6047, -5.7134, -5.7107, -5.7227, -5.4461, -5.9552, -5.9578, -5.9615, -6.2238, -6.2238, -6.2238, -6.2238, -6.2238, -6.2238, -6.2238, -6.2238, -6.0035, -6.2485, -6.2516, -6.5749, -6.5749, -6.5749, -6.5749, -6.5749, -6.5749, -6.5749, -6.5749, -6.5749, -6.5749, -6.5749, -6.5749, -6.5749, -5.8879, -5.3953, -5.625, -5.6254, -5.4183, -5.9158, -5.3013, -5.9591, -5.7107, -5.9644, -5.4462, -6.324, -6.328, -5.5598, -5.4269, -4.9177, -5.1405, -5.1968, -5.0957, -5.1373, -4.756, -5.7107, -4.9483, -5.9347, -5.2475, -5.067, -4.9493, -4.9586, -5.3319, -5.4067, -5.3883, -5.3135, -5.388, -5.7283, -5.3821, -5.3801, -5.4319, -5.4567, -5.6123, -5.6507, -5.6826, -5.6842, -5.6849, -5.869, -5.869, -5.8978, -5.8979, -5.8979, -6.1486, -6.1486, -6.1521, -6.187, -5.3761, -6.1938, -5.6513, -5.5289, -5.5308, -6.2269, -6.2269, -6.2269, -6.2269, -6.2269, -6.2269, -6.2269, -6.2269, -6.2269, -6.227, -5.6739, -6.538, -5.6976, -5.3461, -5.4998, -5.869, -5.6514, -5.5547, -5.8978, -5.0028, -4.9471, -5.4551, -4.6666, -5.2869, -5.6837, -5.337, -5.2328, -5.2474, -5.3392, -5.5049, -4.997, -5.2785, -5.2808, -5.2903, -5.5372, -5.1881, -5.1738, -5.4857, -5.362, -5.6507, -5.6738, -5.3786, -6.1771, -6.1771, -6.1771, -6.1772, -6.1771, -6.1771, -6.1772, -6.1771, -6.1771, -6.1778, -6.1778, -6.178, -6.1781, -6.5282, -6.5282, -6.5282, -6.5282, -6.5282, -6.5282, -6.5282, -6.5282, -6.5282, -6.5283, -6.5283, -6.5283, -6.5283, -6.5283, -6.5283, -6.5283, -5.6877, -5.888, -5.889, -5.3435, -5.5043, -6.2889, -5.2987, -5.5941, -5.888, -5.888, -5.248, -4.4383, -5.6502, -5.0931, -5.1093, -5.9295, -5.0197, -5.373, -4.7135, -5.3435, -5.4209, -5.2178, -5.549, -5.4516, -5.6595, -5.2236, -5.4618, -5.3124, -5.8962, -5.4811, -5.2901, -5.6681, -5.6182, -5.664, -5.6756, -5.6131, -5.6409, -5.8296, -5.8585, -6.1092, -6.1092, -6.1092, -6.1092, -6.1092, -6.1092, -6.1092, -6.1092, -5.8884, -5.8989, -6.1476, -6.1476, -6.1476, -6.1477, -6.1476, -6.1476, -6.4987, -6.4987, -6.4987, -6.4987, -6.4987, -6.4987, -6.4987, -6.4987, -6.4987, -6.4987, -6.4987, -6.4987, -6.2115, -6.2115, -5.1314, -5.8585, -4.978, -5.6113, -5.0493, -5.0799, -5.8883, -5.4713, -5.6383, -6.1092, -5.8585, -5.8603, -5.297, -5.4561, -5.4713, -5.0583, -5.8178, -5.2476, -5.5587, -5.4323, -5.4323, -5.4568, -5.6582, -5.9078, -5.4516, -5.389, -5.3202, -5.5129, -5.6092, -5.6345, -5.5464, -5.6825, -5.7882, -5.7567, -5.7432, -5.7888, -5.8163, -5.478, -5.8162, -5.8162, -5.8162, -5.8454, -6.0958, -6.0958, -6.0958, -6.0958, -6.0959, -5.8749, -5.8749, -6.1342, -6.1342, -6.1342, -6.1346, -6.1347, -6.1348, -6.4853, -6.4853, -6.4853, -6.4853, -6.4853, -6.4853, -6.4853, -6.4853, -6.4853, -6.4853, -6.4853, -6.4853, -5.8162, -5.8451, -5.8451, -6.2366, -4.3838, -5.4472, -6.0958, -6.0958, -5.1248, -5.5979, -5.4647, -5.2838, -5.695, -5.5636, -5.4674, -4.7524, -5.114, -5.4382, -5.4317, -5.6211, -5.2837, -5.2761, -5.6448, -5.6212, -5.4382, -5.8162, -5.1888, -5.2674, -5.6211, -5.4943, -5.5237, -5.6448, -5.6302, -5.6566, -5.5948, -5.6624, -5.6779, -5.7995, -5.8284, -5.8284, -5.8284, -6.0791, -6.0791, -6.0791, -6.0791, -6.0792, -6.0792, -5.8582, -5.8582, -5.8582, -5.4155, -6.1175, -6.1175, -6.1175, -6.1176, -6.1175, -6.1176, -6.1175, -6.1175, -6.1176, -6.1176, -6.1575, -6.1575, -6.1597, -6.1597, -6.4686, -6.4686, -4.8176, -4.6564, -4.6573, -5.0282, -5.5813, -5.1396, -5.4577, -5.8284, -5.8284, -5.8295, -5.8582, -5.427, -4.5421, -5.4215, -5.6044, -5.8437, -5.6294, -5.1332, -5.5813, -5.874, -5.8284, -5.4723, -5.6044, -5.5813, -5.5342, -5.749, -5.7176, -5.7995, -5.6717, -5.7613, -5.8079, -5.8196, -5.8184, -5.8284, -5.8284, -5.4357, -5.8229, -5.8229, -5.8229, -5.8229, -6.0736, -6.0736, -6.0736, -6.0886, -6.0903, -6.0916, -6.0923, -6.112, -6.112, -6.112, -6.112, -6.112, -6.112, -6.112, -6.112, -6.1404, -6.1519, -6.1519, -6.1519, -6.1519, -6.1519, -6.1519, -6.1519, -6.463, -6.4631, -5.8264, -6.2094, -5.4062, -4.6603, -4.773, -5.8527, -5.8526, -5.3467, -5.6999, -5.6999, -5.0914, -4.8069, -5.5104, -5.8229, -5.8229, -5.6999, -5.6226, -5.2754, -5.2783, -5.8526, -5.5304, -5.8229, -5.5989, -5.5757, -5.5757, -5.4558, -5.5768, -5.5989, -5.5778, -5.605, -5.7959, -5.794, -5.794, -5.788, -5.7927, -5.8024, -5.809, -5.3562, -5.3953, -6.0331, -6.0332, -5.8426, -6.0716, -6.0716, -6.0862, -6.1115, -6.1115, -6.1115, -6.1115, -6.1115, -6.1115, -6.1115, -6.1115, -6.1115, -6.1115, -6.1115, -6.1115, -6.1115, -6.1267, -6.4226, -6.4226, -6.4227, -6.4227, -6.4227, -6.4227, -6.4227, -6.4227, -5.5822, -5.1461, -5.2379, -6.0331, -4.7095, -6.0716, -5.762, -5.8608, -5.0617, -5.7824, -4.8693, -4.9516, -5.3883, -5.3755, -5.377, -5.8122, -5.5585, -5.3679, -5.2095, -5.7074, -5.7099, -5.7493, -5.4203, -5.245, -5.5288, -5.5584, -5.5062, -5.4186, -5.7536, -5.3951, -5.7058, -5.7535, -5.7034, -5.7397], \"loglift\": [30.0, 29.0, 28.0, 27.0, 26.0, 25.0, 24.0, 23.0, 22.0, 21.0, 20.0, 19.0, 18.0, 17.0, 16.0, 15.0, 14.0, 13.0, 12.0, 11.0, 10.0, 9.0, 8.0, 7.0, 6.0, 5.0, 4.0, 3.0, 2.0, 1.0, 1.9855, 1.9726, 1.9617, 1.9582, 1.9436, 1.9436, 1.9436, 1.9162, 1.9162, 1.9162, 1.9162, 1.9162, 1.9162, 1.9162, 1.9162, 1.9162, 1.9162, 1.9162, 1.9124, 1.8782, 1.8782, 1.8782, 1.8782, 1.8782, 1.8782, 1.8782, 1.8781, 1.8778, 1.8778, 1.8777, 1.5125, 1.7046, 1.758, 1.758, 1.7924, 1.7922, 1.7899, 1.7187, 1.5042, 1.4793, 1.3994, 1.3146, 1.3455, 1.338, 1.118, 1.3491, 1.476, 1.5612, 1.4697, 1.6546, 0.9432, 1.3821, 1.368, 1.3493, 0.9286, 1.601, 1.0084, 0.7649, 0.8942, 1.4163, 1.0217, 0.8143, 0.9558, 0.8974, 1.1869, 0.3733, 1.3968, 1.3108, 0.2768, 0.0272, 0.9636, 2.0736, 2.0489, 2.0348, 2.0257, 2.0133, 1.9844, 1.9844, 1.9767, 1.9573, 1.9573, 1.9573, 1.9573, 1.9552, 1.9552, 1.9415, 1.9191, 1.9191, 1.9189, 1.9189, 1.9189, 1.9122, 1.9059, 1.8997, 1.8954, 1.8563, 1.8563, 1.8563, 1.8563, 1.8563, 1.8563, 1.7059, 1.743, 1.7724, 1.7724, 1.7057, 1.5377, 1.5194, 1.3305, 1.5064, 1.6426, 1.4203, 1.2582, 1.4546, 1.4597, 1.1602, 1.2629, 1.4449, 0.8074, 0.9036, 0.4977, 0.9641, 0.6486, 0.4499, 0.9843, 1.0873, 1.1613, 0.8927, 0.2415, 0.8245, 0.2766, -0.0913, 2.0661, 2.0546, 2.0435, 2.0047, 2.0015, 1.9978, 1.9594, 1.9593, 1.9593, 1.9593, 1.9593, 1.959, 1.9588, 1.9587, 1.9568, 1.9341, 1.931, 1.8959, 1.8959, 1.8959, 1.8959, 1.8959, 1.8959, 1.8959, 1.8959, 1.8959, 1.8959, 1.8959, 1.8959, 1.8959, 1.8892, 1.8737, 1.8665, 1.8661, 1.8505, 1.8634, 1.7863, 1.8203, 1.7795, 1.8116, 1.7271, 1.8582, 1.8541, 1.71, 1.5794, 1.3938, 1.2531, 1.2844, 1.2166, 1.136, 0.8233, 1.5578, 0.7941, 1.6926, 1.0254, 0.8438, 0.6886, 0.6208, 0.9407, 0.8695, 0.7799, 0.5992, 0.7133, 1.4397, 0.4068, 0.2984, 0.3341, 0.4207, 0.8706, 2.1268, 2.0949, 2.0933, 2.0926, 2.0909, 2.0909, 2.0621, 2.0621, 2.0621, 2.0346, 2.0346, 2.0312, 1.9963, 1.9959, 1.9897, 1.974, 1.9609, 1.9605, 1.9565, 1.9565, 1.9565, 1.9565, 1.9565, 1.9565, 1.9565, 1.9565, 1.9565, 1.9565, 1.9492, 1.9331, 1.9279, 1.9213, 1.8749, 1.9073, 1.8418, 1.8159, 1.8801, 1.5741, 1.4437, 1.6295, 1.2677, 1.5102, 1.6883, 1.4595, 1.3393, 1.3248, 1.337, 1.5007, 0.6251, 1.0356, 0.9954, 0.9108, 1.3952, 0.6009, 0.4056, 1.25, 0.7097, 0.8342, 1.1236, 2.1059, 2.0014, 2.0014, 2.0014, 2.0014, 2.0013, 2.0013, 2.0013, 2.001, 2.001, 2.0004, 2.0003, 2.0002, 2.0001, 1.9382, 1.9382, 1.9382, 1.9382, 1.9382, 1.9382, 1.9382, 1.9382, 1.9382, 1.9382, 1.9382, 1.9382, 1.9382, 1.9382, 1.9382, 1.9382, 1.9328, 1.8854, 1.8827, 1.8248, 1.7582, 1.8899, 1.6294, 1.6708, 1.7336, 1.7323, 1.4888, 1.1411, 1.6116, 1.3881, 1.3716, 1.6934, 1.2143, 1.3663, 0.8658, 1.2286, 1.2597, 0.9485, 1.3091, 1.1213, 1.3444, 0.6538, 0.9741, 0.7304, 1.5901, 0.911, 0.5912, 1.1281, 0.9066, 0.9596, 0.8966, 0.555, 0.6732, 2.1243, 2.0958, 2.0684, 2.0684, 2.0684, 2.0684, 2.0684, 2.0684, 2.0684, 2.0684, 2.0656, 2.0555, 2.0306, 2.0305, 2.0305, 2.03, 2.03, 2.03, 1.9675, 1.9675, 1.9675, 1.9675, 1.9675, 1.9675, 1.9675, 1.9675, 1.9675, 1.9675, 1.9675, 1.9675, 1.9668, 1.9667, 1.8712, 1.9167, 1.8151, 1.8721, 1.8079, 1.7794, 1.8849, 1.7919, 1.7325, 1.8488, 1.7614, 1.7603, 1.3826, 1.4056, 1.391, 0.8191, 1.6704, 1.0253, 1.3007, 1.0957, 1.0044, 1.0227, 1.3456, 1.7117, 0.8233, 0.6826, 0.4922, 0.8377, 0.8266, 0.8903, 0.4381, 0.7979, 1.1418, 0.5949, 0.3338, -0.2095, 1.2657, 2.1566, 2.155, 2.155, 2.155, 2.1254, 2.098, 2.098, 2.098, 2.098, 2.098, 2.0954, 2.0954, 2.059, 2.059, 2.059, 2.0586, 2.0586, 2.0584, 1.9953, 1.9953, 1.9953, 1.9953, 1.9953, 1.9953, 1.9953, 1.9953, 1.9953, 1.9953, 1.9953, 1.9953, 1.9709, 1.9418, 1.9417, 1.9554, 1.529, 1.7319, 1.8752, 1.875, 1.5588, 1.6781, 1.6249, 1.518, 1.6816, 1.6163, 1.5437, 1.0136, 1.1651, 1.43, 1.3717, 1.5562, 1.1975, 1.0795, 1.5348, 1.4716, 1.1407, 1.6805, 0.4897, 0.6139, 1.2466, 0.8235, 0.8279, 0.9347, 0.6821, 0.8757, 0.3159, 0.7757, 0.8503, 2.172, 2.1431, 2.1431, 2.1431, 2.115, 2.115, 2.115, 2.115, 2.115, 2.115, 2.113, 2.1129, 2.1125, 2.0868, 2.0762, 2.0762, 2.0762, 2.0761, 2.076, 2.0759, 2.0759, 2.0759, 2.0759, 2.0759, 2.0362, 2.0362, 2.0333, 2.0333, 2.0122, 2.0122, 1.9903, 1.8794, 1.8786, 1.8422, 1.9182, 1.7992, 1.8173, 1.9605, 1.9588, 1.9562, 1.9282, 1.664, 1.0801, 1.5865, 1.6683, 1.7875, 1.5462, 0.8513, 1.4308, 1.7605, 1.6687, 0.8455, 1.0261, 0.9037, 0.3765, 1.1884, 0.7628, 1.4747, -0.0924, 0.0511, 0.675, 1.3611, 0.6197, 0.7457, 0.973, 2.197, 2.1465, 2.1465, 2.1465, 2.1465, 2.1184, 2.1184, 2.1184, 2.1034, 2.1017, 2.1005, 2.0997, 2.0801, 2.0795, 2.0795, 2.0795, 2.0795, 2.0795, 2.0795, 2.0795, 2.0511, 2.0398, 2.0398, 2.0398, 2.0398, 2.0392, 2.0392, 2.0392, 2.0159, 2.0159, 1.9588, 1.9815, 1.8694, 1.6978, 1.708, 1.9327, 1.9321, 1.7413, 1.7939, 1.7939, 1.4379, 0.982, 1.5766, 1.8074, 1.8066, 1.6756, 1.5556, 1.1605, 1.1577, 1.7766, 1.2102, 1.6704, 1.2692, 1.2258, 1.2224, 0.9809, 0.9516, 0.7518, 0.0016, 0.161, 1.476, 1.3867, 0.7383, 0.3802, 0.5628, 0.01, 0.1253, 2.2782, 2.2392, 2.1599, 2.1599, 2.1273, 2.1215, 2.1209, 2.1061, 2.0811, 2.0811, 2.081, 2.081, 2.081, 2.0809, 2.0806, 2.0806, 2.0806, 2.0806, 2.0806, 2.0806, 2.0806, 2.0655, 2.0573, 2.0573, 2.0573, 2.0573, 2.0573, 2.0573, 2.0573, 2.0572, 1.919, 1.7895, 1.7, 1.9332, 1.3675, 1.896, 1.7356, 1.7709, 1.334, 1.7132, 0.9431, 0.9591, 1.2943, 1.1567, 1.1025, 1.6829, 1.3051, 0.9869, 0.7248, 1.4707, 1.4689, 1.5234, 0.853, 0.4973, 0.9991, 0.9699, 0.8078, 0.3703, 1.3369, 0.2428, 0.5671, 0.8724, -0.124, 0.4988]}, \"token.table\": {\"Topic\": [6, 1, 3, 4, 5, 10, 9, 1, 2, 5, 2, 2, 1, 5, 8, 10, 1, 2, 5, 8, 3, 6, 8, 9, 1, 6, 7, 10, 3, 2, 8, 1, 5, 8, 10, 9, 3, 8, 5, 5, 2, 3, 4, 6, 7, 8, 1, 2, 3, 4, 5, 6, 7, 8, 10, 1, 2, 3, 4, 5, 6, 7, 8, 9, 10, 2, 6, 10, 2, 4, 1, 3, 2, 6, 9, 6, 4, 3, 1, 5, 6, 7, 8, 1, 4, 5, 6, 8, 9, 10, 6, 9, 2, 5, 10, 2, 4, 9, 6, 5, 5, 2, 2, 4, 1, 2, 5, 6, 8, 10, 2, 5, 9, 9, 2, 3, 4, 5, 6, 8, 9, 8, 8, 2, 6, 3, 6, 10, 1, 2, 4, 6, 7, 9, 10, 2, 2, 3, 4, 5, 7, 8, 2, 1, 1, 9, 1, 3, 4, 5, 6, 7, 8, 9, 10, 8, 1, 1, 9, 8, 1, 2, 3, 4, 6, 7, 8, 10, 2, 1, 9, 2, 8, 2, 5, 9, 10, 3, 5, 8, 3, 9, 7, 7, 1, 2, 5, 10, 1, 2, 3, 4, 5, 6, 8, 10, 8, 1, 2, 9, 4, 8, 10, 3, 1, 3, 4, 1, 2, 8, 9, 5, 2, 4, 6, 7, 8, 10, 2, 3, 4, 7, 8, 9, 10, 7, 2, 4, 5, 7, 9, 10, 1, 2, 4, 5, 7, 10, 2, 4, 3, 8, 10, 5, 1, 4, 7, 8, 1, 1, 2, 4, 7, 10, 1, 10, 3, 4, 1, 4, 10, 1, 2, 3, 6, 9, 10, 1, 7, 3, 4, 1, 5, 10, 10, 7, 5, 8, 1, 4, 5, 7, 9, 10, 1, 2, 4, 5, 6, 7, 8, 10, 1, 2, 3, 4, 5, 7, 8, 10, 7, 5, 1, 2, 4, 5, 9, 10, 6, 6, 7, 10, 7, 1, 2, 4, 7, 10, 3, 3, 3, 6, 3, 7, 1, 2, 3, 4, 5, 6, 7, 8, 9, 10, 4, 5, 8, 9, 4, 6, 7, 9, 4, 7, 9, 5, 2, 4, 5, 3, 9, 1, 5, 7, 9, 1, 5, 1, 2, 5, 6, 6, 2, 10, 3, 10, 5, 6, 4, 6, 7, 2, 4, 9, 4, 1, 4, 1, 3, 6, 8, 10, 6, 10, 6, 5, 6, 8, 6, 9, 10, 1, 10, 4, 5, 7, 8, 9, 1, 2, 4, 5, 6, 7, 9, 2, 4, 5, 1, 2, 3, 5, 6, 7, 9, 9, 1, 2, 3, 4, 6, 8, 1, 4, 7, 10, 4, 5, 10, 2, 8, 2, 3, 1, 2, 4, 8, 10, 1, 10, 1, 2, 5, 8, 7, 1, 2, 3, 5, 6, 7, 9, 1, 3, 5, 6, 9, 10, 10, 6, 10, 1, 2, 4, 5, 6, 7, 8, 9, 3, 1, 3, 4, 5, 7, 3, 4, 7, 8, 2, 3, 5, 6, 8, 10, 2, 6, 7, 9, 10, 1, 4, 5, 6, 8, 9, 10, 3, 5, 7, 1, 2, 5, 9, 10, 5, 4, 4, 7, 10, 1, 3, 6, 2, 5, 3, 5, 7, 8, 5, 2, 1, 2, 3, 4, 6, 9, 10, 1, 10, 5, 4, 1, 2, 3, 4, 8, 9, 9, 7, 1, 3, 4, 6, 7, 4, 4, 8, 1, 2, 5, 6, 7, 8, 9, 1, 3, 5, 7, 10, 3, 8, 3, 7, 10, 4, 7, 5, 10, 7, 1, 8, 9, 6, 4, 1, 6, 3, 1, 2, 4, 5, 6, 9, 10, 2, 3, 5, 7, 8, 9, 3, 7, 1, 3, 4, 5, 7, 8, 5, 10, 1, 6, 1, 2, 5, 9, 3, 1, 2, 4, 5, 6, 7, 10, 1, 9, 9, 4, 2, 5, 9, 5, 1, 2, 4, 7, 8, 9, 6, 7, 3, 6, 4, 5, 5, 1, 7, 4, 5, 8, 6, 1, 2, 3, 4, 5, 6, 7, 9, 10, 6, 8, 10, 1, 2, 4, 6, 7, 9, 2, 5, 9, 1, 2, 3, 6, 8, 9, 10, 2, 3, 6, 8, 9, 10, 1, 3, 3, 6, 3, 7, 1, 6, 8, 9, 3, 1, 2, 3, 4, 7, 10, 3, 9, 10, 1, 3, 8, 9, 10, 8, 3, 4, 1, 2, 3, 4, 6, 9, 10, 9, 3, 8, 5, 10, 8, 1, 2, 3, 4, 5, 10, 9, 8, 7, 7, 7, 7, 2, 5, 7, 9, 2, 4, 5, 6, 8, 9, 1, 9, 1, 3, 4, 5, 6, 8, 10, 4, 7, 1, 9, 1, 4, 6, 7, 10, 8, 2, 6, 7, 4, 6, 7, 8, 10, 1, 2, 2, 3, 4, 6, 7, 9, 6, 1, 2, 3, 5, 6, 7, 9, 10, 7, 6, 8, 9, 10, 4, 8, 9, 10, 5, 7, 1, 2, 6, 8, 9, 1, 8, 1, 3, 4, 6, 9, 8, 3, 8, 10, 6, 1, 2, 5, 6, 1, 2, 4, 6, 8, 10, 6, 9, 1, 4, 6, 1, 5, 10, 4, 6, 9, 1, 4, 5, 6, 8, 9, 3, 5, 7, 8, 9, 10, 7, 1, 3, 5, 6, 7, 8, 10, 10, 1, 2, 3, 4, 5, 6, 8, 10, 1, 10, 7, 6, 8, 3, 4, 6, 7, 10, 5, 9, 3, 1, 1, 2, 3, 4, 5, 7, 8, 9, 10, 1, 2, 4, 5, 6, 8, 10, 2, 6, 9, 1, 2, 3, 6, 7, 8, 9, 10, 6, 6, 7, 8, 8, 5, 10, 2, 6, 8, 10, 6, 2, 10, 1, 3, 5, 6, 8, 10, 10, 5, 6, 10, 3, 7, 6, 10, 2, 6, 1, 2, 4, 5, 6, 5, 6, 8, 2, 5, 6, 8, 9, 10, 1, 2, 3, 4, 5, 6, 7, 9, 10, 2, 5, 6, 7, 10, 3, 7, 10, 1, 3, 6, 8, 10, 4, 7, 10, 2, 3, 4, 7, 2, 6, 8, 10, 9, 1, 2, 3, 4, 5, 6, 7, 1, 6, 8, 1, 2, 3, 4, 5, 6, 7, 8, 9, 10, 3, 6, 7, 7, 8, 4, 8, 2, 3, 6, 8, 3, 3, 7, 9, 4, 1, 3, 4, 1, 2, 3, 5, 6, 7, 9, 10, 1, 2, 4, 6, 7, 9, 7, 8, 1, 7, 3, 4, 9, 2, 3, 1, 2, 3, 7, 3, 5, 8, 10, 2, 5, 8, 7, 2, 3, 6, 8, 9, 10, 4, 7, 1, 3, 4, 5, 6, 7, 8, 1, 2, 3, 4, 5, 6, 7, 8, 9, 10, 8, 8, 6, 1, 3, 5, 6, 9, 10, 3, 9, 7, 2, 3, 7, 9, 10, 2, 3, 4, 5, 6, 7, 8, 9, 10, 1, 3, 5, 8, 5, 1, 2, 5, 7, 9, 1, 4, 6, 3, 3, 9, 2, 7, 9, 10, 6, 9, 9, 1, 5, 6, 9, 9, 7, 3, 4, 7, 8, 9, 10, 9, 1, 5, 8, 5, 1, 5, 8, 10, 10, 10, 1, 2, 3, 4, 5, 7, 8, 9, 2, 4, 6, 7, 4, 5, 6, 8, 9, 10, 9, 6, 7, 8, 10, 5, 1, 3, 4, 5, 6, 9, 7, 4, 9, 1, 6, 8, 2, 1, 2, 4, 5, 6, 7, 8, 9, 1, 4, 9, 2, 6, 7, 9, 10, 1, 5, 6, 10, 8, 2, 8, 1, 2, 4, 5, 7, 8, 10, 10, 3, 8, 9, 10, 1, 8, 9, 5, 6, 9, 5, 10, 2, 4, 7, 8, 6, 1, 4, 5, 6, 7, 8, 9, 10, 1, 2, 3, 5, 6, 8, 5, 3, 7, 2, 4, 5, 7, 10, 2, 7, 3, 7, 1, 4, 4, 6, 10, 6, 8, 10, 5, 6, 10, 4, 5, 6, 9, 10, 5, 2, 3, 6, 7, 9, 2, 2, 1, 2, 3, 4, 5, 6, 8, 10, 7, 1, 2, 4, 7, 8, 10, 3, 7, 8, 4, 7, 9, 10, 4, 3, 1, 2, 3, 4, 7, 1, 6, 10, 4, 8, 4, 8, 3, 8, 1, 2, 3, 5, 6, 7, 8, 9, 10, 4, 1, 3, 8, 1, 1, 8, 4, 7, 9, 2, 4, 1, 2, 4, 5, 6, 7, 6, 7, 8, 8, 2, 5, 7, 9, 6, 9, 2, 3, 1, 2, 3, 4, 6, 7, 2, 3, 5, 6, 10, 5, 4, 5, 6, 7, 10, 3, 8, 9, 4, 2, 4, 6, 7, 8, 1, 4, 5, 6, 7, 8, 9, 10, 1, 2, 6, 7, 3, 1, 2, 4, 5, 9, 10, 1, 8, 9, 10, 1, 4, 4, 1, 2, 4, 6, 8, 7, 7, 10, 6, 1, 2, 3, 5, 7, 9, 10, 1, 7, 9, 10, 5, 6, 7, 8, 9, 10, 10, 3, 4, 6, 10, 1, 3, 4, 6, 7, 9, 10, 1, 5, 6, 7, 9, 10, 9, 1, 2, 3, 4, 5, 7], \"Freq\": [0.6341385875232785, 0.2124212550271251, 0.6372637650813753, 0.6377211929264656, 0.8464901937980805, 0.6439920326969156, 0.6429702784016782, 0.2537949016059723, 0.2537949016059723, 0.5075898032119446, 0.7613363321881397, 0.6347036265100262, 0.23111348988525027, 0.5777837247131257, 0.11555674494262513, 0.8579531756793334, 0.09844792550867502, 0.29534377652602506, 0.09844792550867502, 0.49223962754337514, 0.8501094202894529, 0.6853808098707339, 0.19582308853449543, 0.09791154426724771, 0.1712033044706715, 0.1712033044706715, 0.4280082611766788, 0.1712033044706715, 0.8501000691380699, 0.8467867250275075, 0.7740611732496525, 0.2116469253495404, 0.6349407760486212, 0.644897111920341, 0.214965703973447, 0.6429869622987394, 0.8501104673286703, 0.7737377659901551, 0.8465080387191516, 0.846511291276598, 0.1742495245130277, 0.1161663496753518, 0.0580831748376759, 0.2323326993507036, 0.1742495245130277, 0.1742495245130277, 0.33864618104636474, 0.07814911870300724, 0.13024853117167873, 0.10419882493734299, 0.052099412468671495, 0.07814911870300724, 0.15629823740601448, 0.026049706234335748, 0.026049706234335748, 0.09435987553748414, 0.0707699066531131, 0.23589968884371035, 0.0707699066531131, 0.23589968884371035, 0.0707699066531131, 0.023589968884371034, 0.023589968884371034, 0.09435987553748414, 0.0707699066531131, 0.7403365124941632, 0.10576235892773761, 0.10576235892773761, 0.1593717146584069, 0.7968585732920346, 0.6379734592909664, 0.21265781976365547, 0.3198852115876186, 0.1599426057938093, 0.4798278173814279, 0.6341601875222639, 0.7651289350217113, 0.8501077043120855, 0.850946928620334, 0.6346745686941564, 0.3211075980125156, 0.1605537990062578, 0.4816613970187734, 0.07534535697672126, 0.07534535697672126, 0.07534535697672126, 0.22603607093016378, 0.07534535697672126, 0.30138142790688505, 0.15069071395344252, 0.3200390064764428, 0.4800585097146642, 0.7617700899160698, 0.2566898352264273, 0.5133796704528546, 0.1276014889428236, 0.638007444714118, 0.1276014889428236, 0.6344782638757003, 0.6347054415394983, 0.8464997914024697, 0.6345914054962173, 0.6346886971439685, 0.6378153354799873, 0.42429451760755194, 0.1272883552822656, 0.2545767105645312, 0.042429451760755195, 0.08485890352151039, 0.042429451760755195, 0.6343372344353593, 0.21144574481178643, 0.9192815873850444, 0.6433791333669457, 0.15950051887118502, 0.07975025943559251, 0.31900103774237004, 0.07975025943559251, 0.15950051887118502, 0.07975025943559251, 0.15950051887118502, 0.6442879681472427, 0.644289072595628, 0.76109547365993, 0.6341143009074793, 0.6377509741588362, 0.15943774353970905, 0.15943774353970905, 0.05821654485688509, 0.2910827242844255, 0.05821654485688509, 0.05821654485688509, 0.23286617942754037, 0.11643308971377019, 0.1746496345706553, 0.8467830135010248, 0.3774900029438768, 0.2831175022079076, 0.0943725007359692, 0.0471862503679846, 0.0943725007359692, 0.0943725007359692, 0.7615692017341424, 0.7657827689282649, 0.6382685300158255, 0.6431824167182406, 0.6382630455736976, 0.06072331269932584, 0.12144662539865168, 0.24289325079730337, 0.24289325079730337, 0.12144662539865168, 0.12144662539865168, 0.06072331269932584, 0.06072331269932584, 0.7734078587551203, 0.7657900857847713, 0.21419562301127523, 0.6425868690338257, 0.6442794164100425, 0.14809377700368406, 0.04936459233456135, 0.0987291846691227, 0.0987291846691227, 0.04936459233456135, 0.1974583693382454, 0.1974583693382454, 0.0987291846691227, 0.8453984383075254, 0.5685219663038673, 0.28426098315193365, 0.6345578598687823, 0.858771445499816, 0.1960752331361812, 0.3921504662723624, 0.1960752331361812, 0.0980376165680906, 0.6372594768055093, 0.846516256573182, 0.6444130745912102, 0.3664400231888967, 0.549660034783345, 0.8585625449352299, 0.7730810510486058, 0.4782301647028178, 0.15941005490093926, 0.15941005490093926, 0.15941005490093926, 0.07077275743027177, 0.023590919143423924, 0.1887273531473914, 0.14154551486054354, 0.306681948864511, 0.04718183828684785, 0.0943636765736957, 0.07077275743027177, 0.644290833561219, 0.6382597604257744, 0.6345763056163913, 0.6429682465941517, 0.7301402855943867, 0.18253507139859668, 0.6436734618479835, 0.8498727083543628, 0.6382430194076889, 0.14167337486778203, 0.7083668743389102, 0.49187820683447847, 0.1967512827337914, 0.0983756413668957, 0.1967512827337914, 0.8465095080819851, 0.128273815491873, 0.128273815491873, 0.128273815491873, 0.256547630983746, 0.128273815491873, 0.19241072323780953, 0.14207055495422002, 0.23678425825703336, 0.28414110990844005, 0.04735685165140667, 0.09471370330281334, 0.14207055495422002, 0.7727833366141554, 0.7730910828573451, 0.35552237887742194, 0.07110447577548439, 0.07110447577548439, 0.07110447577548439, 0.14220895155096877, 0.35552237887742194, 0.06366298998681384, 0.06366298998681384, 0.3819779399208831, 0.3183149499340692, 0.06366298998681384, 0.06366298998681384, 0.8467883502142017, 0.6377075188308053, 0.6395208383423008, 0.12790416766846016, 0.12790416766846016, 0.846499376629908, 0.19190570236706117, 0.5117485396454964, 0.1279371349113741, 0.1279371349113741, 0.6385208633950066, 0.1168139598915793, 0.1168139598915793, 0.1168139598915793, 0.5840697994578965, 0.1168139598915793, 0.2569994413650162, 0.5139988827300324, 0.8501060726158775, 0.6377309002270171, 0.6382630639033116, 0.6379098400486437, 0.6434239414341514, 0.0944025599232944, 0.0944025599232944, 0.2832076797698832, 0.2832076797698832, 0.0472012799616472, 0.1416038398849416, 0.21452918855443245, 0.6435875656632973, 0.6376267625138425, 0.7651253041861585, 0.16031561157388943, 0.16031561157388943, 0.4809468347216683, 0.9209915429263087, 0.6445087428967453, 0.6346772264226821, 0.6444182759039795, 0.284969575582304, 0.09498985852743466, 0.09498985852743466, 0.284969575582304, 0.09498985852743466, 0.04749492926371733, 0.15952705157368746, 0.05317568385789582, 0.15952705157368746, 0.2658784192894791, 0.10635136771579164, 0.15952705157368746, 0.05317568385789582, 0.05317568385789582, 0.032859870975301714, 0.09857961292590513, 0.23001909682711197, 0.032859870975301714, 0.06571974195060343, 0.13143948390120685, 0.13143948390120685, 0.23001909682711197, 0.6441240988274367, 0.8464918381553307, 0.11112116053459083, 0.16668174080188625, 0.05556058026729541, 0.27780290133647706, 0.27780290133647706, 0.11112116053459083, 0.846252497131258, 0.23375956770497064, 0.4675191354099413, 0.23375956770497064, 0.8585620543280877, 0.27382890560232986, 0.0912763018674433, 0.3651052074697732, 0.0912763018674433, 0.0912763018674433, 0.8501078275814277, 0.8501052393739664, 0.7651033954434178, 0.6341247344800267, 0.6386406503553, 0.159660162588825, 0.14188235606341315, 0.047294118687804386, 0.09458823737560877, 0.09458823737560877, 0.047294118687804386, 0.2364705934390219, 0.09458823737560877, 0.09458823737560877, 0.047294118687804386, 0.09458823737560877, 0.17158241469547272, 0.08579120734773636, 0.6005384514341546, 0.17158241469547272, 0.2551342049133242, 0.4252236748555404, 0.17008946994221616, 0.08504473497110808, 0.8500442931678337, 0.5156631268898275, 0.25783156344491376, 0.8464988861531463, 0.6351740965965109, 0.31758704829825546, 0.8465118322739205, 0.36656323825787956, 0.5498448573868193, 0.28382214743283113, 0.35477768429103895, 0.21286661057462336, 0.07095553685820778, 0.6368631631015602, 0.3184315815507801, 0.45421733059077724, 0.18168693223631088, 0.18168693223631088, 0.09084346611815544, 0.8462463747493628, 0.6345515543777116, 0.6436358860311298, 0.6376289191484101, 0.8579647785812314, 0.846506082988082, 0.7608576770064783, 0.36293738125612146, 0.5444060718841822, 0.6433539766609592, 0.7610910264910038, 0.7980669765971218, 0.15961339531942437, 0.637847247728765, 0.7292051084897281, 0.18230127712243202, 0.11613384863179527, 0.5806692431589764, 0.11613384863179527, 0.23226769726359053, 0.8579643266109522, 0.6341027707489333, 0.6433857565970114, 0.8462511128117159, 0.6338613706496793, 0.2112871235498931, 0.6444291589507786, 0.8462499930309488, 0.8571665560395628, 0.6433850553563415, 0.6382716568312781, 0.8579583744138596, 0.08022468874165013, 0.24067406622495038, 0.40112344370825065, 0.16044937748330027, 0.08022468874165013, 0.2871475804081237, 0.15952643356006874, 0.09571586013604125, 0.1914317202720825, 0.03190528671201375, 0.15952643356006874, 0.0638105734240275, 0.14148264856499146, 0.5659305942599658, 0.14148264856499146, 0.30637497282751475, 0.1021249909425049, 0.05106249547125245, 0.05106249547125245, 0.15318748641375737, 0.2042499818850098, 0.05106249547125245, 0.6433279261018613, 0.47833857600921975, 0.07972309600153663, 0.15944619200307325, 0.07972309600153663, 0.15944619200307325, 0.07972309600153663, 0.2333793469560802, 0.1166896734780401, 0.1166896734780401, 0.3500690204341203, 0.27267104097236466, 0.5453420819447293, 0.18178069398157645, 0.21425164206711123, 0.6427549262013337, 0.7250881175219113, 0.18127202938047782, 0.39267052377811773, 0.19633526188905887, 0.09816763094452943, 0.09816763094452943, 0.09816763094452943, 0.6394306045729863, 0.21314353485766208, 0.23283055577825112, 0.11641527788912556, 0.23283055577825112, 0.46566111155650225, 0.8585657533181666, 0.15903013562954363, 0.23854520344431546, 0.19878766953692956, 0.15903013562954363, 0.07951506781477181, 0.07951506781477181, 0.03975753390738591, 0.19115691943199276, 0.12743794628799518, 0.31859486571998796, 0.12743794628799518, 0.19115691943199276, 0.06371897314399759, 0.6436206070538603, 0.6341089122016177, 0.6434681619532898, 0.638249646275627, 0.19138538625939813, 0.19138538625939813, 0.12759025750626543, 0.12759025750626543, 0.06379512875313272, 0.19138538625939813, 0.06379512875313272, 0.6376206829762489, 0.4857707703677343, 0.06072134629596679, 0.06072134629596679, 0.18216403888790036, 0.12144269259193358, 0.18373731603214752, 0.18373731603214752, 0.09186865801607376, 0.5512119480964426, 0.26873556195523624, 0.06718389048880906, 0.13436778097761812, 0.13436778097761812, 0.13436778097761812, 0.20155167146642716, 0.8467859994504363, 0.23341709101134517, 0.11670854550567258, 0.46683418202269034, 0.11670854550567258, 0.1345709491641354, 0.37007011020137237, 0.10092821187310155, 0.0672854745820677, 0.03364273729103385, 0.10092821187310155, 0.16821368645516926, 0.12727581297679735, 0.5091032519071894, 0.12727581297679735, 0.13402671213826628, 0.5361068485530651, 0.13402671213826628, 0.06701335606913314, 0.13402671213826628, 0.8464983225084738, 0.6378252522443455, 0.3950106827001655, 0.3950106827001655, 0.09875267067504137, 0.5661501246224387, 0.14153753115560969, 0.28307506231121937, 0.7043424646846188, 0.14086849293692377, 0.15012616256963937, 0.45037848770891814, 0.22518924385445907, 0.07506308128481969, 0.6344975895528644, 0.6347574857610067, 0.30015463874516773, 0.1750902059346812, 0.2001030924967785, 0.07503865968629193, 0.05002577312419462, 0.05002577312419462, 0.12506443281048657, 0.8509142839587559, 0.6433946191344209, 0.6344791430002282, 0.6378197668344603, 0.04905897320368923, 0.14717691961106769, 0.44153075883320303, 0.14717691961106769, 0.09811794640737846, 0.04905897320368923, 0.7723702951910211, 0.6441138973036888, 0.05813142895398228, 0.406920002677876, 0.11626285790796456, 0.11626285790796456, 0.2906571447699114, 0.8500521520201912, 0.8500667421793922, 0.7740534567117963, 0.26248568222729834, 0.22498772762339858, 0.22498772762339858, 0.07499590920779953, 0.11249386381169929, 0.07499590920779953, 0.07499590920779953, 0.2690136282540975, 0.20176022119057313, 0.13450681412704876, 0.13450681412704876, 0.13450681412704876, 0.21440341030441526, 0.6432102309132457, 0.7646240567224167, 0.5158009095876339, 0.25790045479381696, 0.63781413072624, 0.7738290271299354, 0.7265547320111837, 0.18163868300279593, 0.6445038907224072, 0.6395900867777707, 0.21319669559259025, 0.6429750478230531, 0.6341064511782323, 0.7650957059564764, 0.6382671389248232, 0.8462448051678655, 0.7646297769616512, 0.053104493341726094, 0.21241797336690438, 0.42483594673380876, 0.053104493341726094, 0.053104493341726094, 0.10620898668345219, 0.053104493341726094, 0.14729272257751105, 0.34368301934752576, 0.14729272257751105, 0.19639029677001474, 0.049097574192503685, 0.09819514838500737, 0.6376309710157331, 0.8585626636082722, 0.5376310777396711, 0.06720388471745889, 0.06720388471745889, 0.20161165415237664, 0.13440776943491778, 0.06720388471745889, 0.6347045762231865, 0.6440185614034917, 0.2539778362640574, 0.5926149512828005, 0.10654421466633769, 0.21308842933267538, 0.10654421466633769, 0.42617685866535077, 0.6372978020137579, 0.3074947774541252, 0.17571130140235727, 0.26356695210353587, 0.08785565070117864, 0.08785565070117864, 0.04392782535058932, 0.04392782535058932, 0.7657952990232866, 0.6429701021279669, 0.6427928745570988, 0.6378386231558184, 0.8453924557662958, 0.7926396326409805, 0.7723658908812024, 0.6346752176947753, 0.11135529868562209, 0.22271059737124418, 0.16703294802843316, 0.22271059737124418, 0.16703294802843316, 0.055677649342811046, 0.8462448621726776, 0.8585613409359225, 0.211594346419664, 0.6347830392589919, 0.3176482345349518, 0.4764723518024277, 0.6344864853123747, 0.21457038521949212, 0.6437111556584764, 0.5666342842691727, 0.28331714213458636, 0.14165857106729318, 0.8462471896142343, 0.05686132147521566, 0.17058396442564697, 0.14215330368803913, 0.02843066073760783, 0.08529198221282348, 0.05686132147521566, 0.25587594663847046, 0.11372264295043132, 0.05686132147521566, 0.16093150088109898, 0.6437260035243959, 0.16093150088109898, 0.07497808748802186, 0.14995617497604372, 0.3748904374401093, 0.22493426246406556, 0.14995617497604372, 0.07497808748802186, 0.6343426996459388, 0.21144756654864624, 0.6433371544473812, 0.6382667304404422, 0.30468532291981326, 0.06093706458396265, 0.1218741291679253, 0.06093706458396265, 0.2437482583358506, 0.2437482583358506, 0.1834829474265254, 0.0917414737132627, 0.0917414737132627, 0.2752244211397881, 0.0917414737132627, 0.2752244211397881, 0.6382742906453813, 0.8501102644850689, 0.8501078610771055, 0.8462446063355503, 0.6374040153762279, 0.8585622456857172, 0.49080280678009164, 0.19632112271203667, 0.09816056135601833, 0.09816056135601833, 0.6370337772945932, 0.09177477209944983, 0.09177477209944983, 0.09177477209944983, 0.09177477209944983, 0.18354954419889966, 0.45887386049724915, 0.1836956321672766, 0.1836956321672766, 0.5510868965018298, 0.6384981237135734, 0.06139713609934904, 0.6139713609934905, 0.12279427219869808, 0.12279427219869808, 0.6446804192066989, 0.7967656176766853, 0.7651016855863332, 0.15521609108835624, 0.07760804554417812, 0.07760804554417812, 0.07760804554417812, 0.15521609108835624, 0.11641206831626717, 0.34923620494880153, 0.6433282707813605, 0.6396197356663899, 0.3198098678331949, 0.5462464573271797, 0.18208215244239323, 0.6444123312079884, 0.04722014095808208, 0.2833208457484925, 0.33054098670657456, 0.04722014095808208, 0.09444028191616416, 0.18888056383232832, 0.643354589571933, 0.6439870274552514, 0.7369059888561232, 0.6440966213457673, 0.6441045335788949, 0.6445011147518759, 0.12817559772177434, 0.2563511954435487, 0.2563511954435487, 0.384526793165323, 0.25422913563793936, 0.08474304521264646, 0.33897218085058584, 0.08474304521264646, 0.08474304521264646, 0.08474304521264646, 0.21414803290970047, 0.6424440987291014, 0.5349493083370989, 0.04114994679516145, 0.0822998935903229, 0.12344984038548436, 0.0822998935903229, 0.0822998935903229, 0.04114994679516145, 0.6397043872113802, 0.3198521936056901, 0.6385173476346149, 0.6429715377091466, 0.11661286098310193, 0.11661286098310193, 0.23322572196620386, 0.4664514439324077, 0.11661286098310193, 0.6446809472748486, 0.08483933523990525, 0.5938753466793367, 0.2545180057197157, 0.2569398673626427, 0.12846993368132134, 0.12846993368132134, 0.385409801043964, 0.12846993368132134, 0.6385047022150259, 0.905545094060957, 0.053254722020850714, 0.37278305414595503, 0.15976416606255214, 0.053254722020850714, 0.15976416606255214, 0.10650944404170143, 0.6341318096259146, 0.20108229593737478, 0.13405486395824986, 0.06702743197912493, 0.26810972791649973, 0.13405486395824986, 0.06702743197912493, 0.13405486395824986, 0.8579606760687783, 0.7734339335396273, 0.19769290180751908, 0.39538580361503817, 0.19769290180751908, 0.19769290180751908, 0.3423628186520223, 0.08559070466300557, 0.3423628186520223, 0.17118140932601114, 0.8465009888132651, 0.8585552603141889, 0.0800756659551812, 0.24022699786554363, 0.0800756659551812, 0.24022699786554363, 0.3203026638207248, 0.6382694694561488, 0.7737821022453589, 0.15961838735010628, 0.15961838735010628, 0.07980919367505314, 0.2394275810251594, 0.31923677470021256, 0.6446965685931957, 0.38482221759098517, 0.12827407253032838, 0.38482221759098517, 0.8462402529454842, 0.07922416240709904, 0.6337932992567923, 0.15844832481419807, 0.07922416240709904, 0.18211039020384992, 0.09105519510192496, 0.18211039020384992, 0.2731655853057749, 0.09105519510192496, 0.18211039020384992, 0.32003947441260316, 0.48005921161890475, 0.2126177510844541, 0.6378532532533623, 0.7605169870046293, 0.3408287417955272, 0.2556215563466454, 0.3408287417955272, 0.142172075686665, 0.28434415137333, 0.42651622705999503, 0.6385203282100601, 0.39839589468791303, 0.1593583578751652, 0.1593583578751652, 0.0796791789375826, 0.1593583578751652, 0.07524465418015795, 0.3762232709007897, 0.22573396254047384, 0.07524465418015795, 0.1504893083603159, 0.07524465418015795, 0.8585557581116815, 0.0980362461752782, 0.1960724923505564, 0.0980362461752782, 0.3921449847011128, 0.0980362461752782, 0.0980362461752782, 0.0980362461752782, 0.6434253816212694, 0.079629724511306, 0.318518898045224, 0.079629724511306, 0.079629724511306, 0.159259449022612, 0.079629724511306, 0.079629724511306, 0.159259449022612, 0.6398896083693951, 0.31994480418469756, 0.6441174367558083, 0.760869837418428, 0.6446899624000316, 0.06091262145041948, 0.18273786435125844, 0.3045631072520974, 0.18273786435125844, 0.24365048580167792, 0.4068161887559342, 0.523049385543344, 0.8501065356050336, 0.638523864619057, 0.029091208716064056, 0.05818241743212811, 0.14545604358032027, 0.17454725229638432, 0.08727362614819216, 0.029091208716064056, 0.05818241743212811, 0.2618208784445765, 0.11636483486425622, 0.18160343808986162, 0.18160343808986162, 0.045400859522465406, 0.36320687617972325, 0.13620257856739623, 0.045400859522465406, 0.09080171904493081, 0.10664788668315252, 0.21329577336630504, 0.5332394334157625, 0.06585391669471932, 0.06585391669471932, 0.197561750084158, 0.06585391669471932, 0.42805045851567564, 0.06585391669471932, 0.06585391669471932, 0.03292695834735966, 0.8462518600068067, 0.6360784590261089, 0.21202615300870298, 0.6439943685055376, 0.6446821220613532, 0.8465263388864969, 0.6436356737160871, 0.12857938721634699, 0.12857938721634699, 0.5143175488653879, 0.12857938721634699, 0.6341112059254783, 0.905772148178785, 0.6434244307815481, 0.10674043823135697, 0.16011065734703545, 0.10674043823135697, 0.10674043823135697, 0.16011065734703545, 0.3202213146940709, 0.6436332087951766, 0.18164937377284793, 0.5449481213185438, 0.18164937377284793, 0.6386440041971645, 0.15966100104929112, 0.6345253139787568, 0.8579639048416766, 0.5631233652650931, 0.28156168263254655, 0.1412962185212567, 0.1412962185212567, 0.3532405463031418, 0.21194432778188507, 0.07064810926062835, 0.6344938576990994, 0.6344718326094801, 0.6444197395774562, 0.08509986445284588, 0.08509986445284588, 0.42549932226422943, 0.17019972890569177, 0.17019972890569177, 0.08509986445284588, 0.17002833288897107, 0.08501416644448553, 0.21253541611121382, 0.1275212496667283, 0.17002833288897107, 0.04250708322224277, 0.04250708322224277, 0.1275212496667283, 0.04250708322224277, 0.4902236562145061, 0.09804473124290122, 0.09804473124290122, 0.09804473124290122, 0.19608946248580245, 0.6390548228505308, 0.12781096457010616, 0.12781096457010616, 0.39867894965751377, 0.1594715798630055, 0.23920736979450824, 0.07973578993150275, 0.1594715798630055, 0.3212282356670327, 0.16061411783351634, 0.48184235350054905, 0.12773617028056738, 0.5109446811222695, 0.12773617028056738, 0.25547234056113477, 0.2565608714089413, 0.12828043570447065, 0.5131217428178826, 0.12828043570447065, 0.772368983796958, 0.1589026818135516, 0.06356107272542064, 0.1589026818135516, 0.12712214545084127, 0.19068321817626194, 0.22246375453897224, 0.06356107272542064, 0.1591239128784393, 0.4773717386353179, 0.1591239128784393, 0.2499003721508369, 0.13883354008379828, 0.22213366413407726, 0.027766708016759657, 0.055533416033519314, 0.027766708016759657, 0.055533416033519314, 0.027766708016759657, 0.027766708016759657, 0.13883354008379828, 0.25414033572264644, 0.6353508393066161, 0.12707016786132322, 0.16138670102850558, 0.8069335051425279, 0.367170364840238, 0.550755547260357, 0.634555904223462, 0.6365678571779773, 0.2121892857259924, 0.6446859081708648, 0.8494325938212924, 0.21429488394551202, 0.42858976789102404, 0.21429488394551202, 0.6378153037041165, 0.5797002333944462, 0.23188009335777848, 0.23188009335777848, 0.7659441605700723, 0.15380571826774891, 0.15380571826774891, 0.05126857275591631, 0.05126857275591631, 0.25634286377958154, 0.15380571826774891, 0.10253714551183261, 0.08010558358435316, 0.16021116716870631, 0.16021116716870631, 0.08010558358435316, 0.40052791792176584, 0.08010558358435316, 0.18421366913916784, 0.5526410074175034, 0.7658358154034612, 0.6445180359323393, 0.18209918061085517, 0.7283967224434207, 0.6433412880323237, 0.7611204511188416, 0.8501098401945902, 0.10621740410677277, 0.4248696164270911, 0.21243480821354555, 0.21243480821354555, 0.2139174973740894, 0.2139174973740894, 0.5347937434352235, 0.1069587486870447, 0.25396560664577317, 0.6349140166144329, 0.12698280332288658, 0.8585598470720881, 0.10279488988847373, 0.05139744494423686, 0.05139744494423686, 0.1541923348327106, 0.5139744494423687, 0.10279488988847373, 0.7300254089098973, 0.18250635222747433, 0.24370276530667362, 0.1827770739800052, 0.12185138265333681, 0.060925691326668405, 0.060925691326668405, 0.24370276530667362, 0.12185138265333681, 0.12310805191155166, 0.09848644152924133, 0.04924322076462066, 0.19697288305848265, 0.04924322076462066, 0.073864831146931, 0.04924322076462066, 0.27083771420541364, 0.073864831146931, 0.04924322076462066, 0.7740528442955329, 0.7740531724467585, 0.634112539730943, 0.17409936234188456, 0.11606624156125638, 0.11606624156125638, 0.29016560390314095, 0.05803312078062819, 0.29016560390314095, 0.7654368500606964, 0.6427823220527576, 0.7738301602293615, 0.19228805782198322, 0.19228805782198322, 0.32048009636997205, 0.1281920385479888, 0.1281920385479888, 0.26584768646145795, 0.10633907458458318, 0.10633907458458318, 0.10633907458458318, 0.05316953729229159, 0.05316953729229159, 0.15950861187687476, 0.05316953729229159, 0.05316953729229159, 0.19655570245682188, 0.4913892561420547, 0.09827785122841094, 0.19655570245682188, 0.6347250843007711, 0.31862516149617687, 0.15931258074808843, 0.31862516149617687, 0.07965629037404422, 0.15931258074808843, 0.7291978588747368, 0.1822994647186842, 0.8462491784623479, 0.6376541319142717, 0.6370327237854334, 0.7723734582275117, 0.1286507541223025, 0.1286507541223025, 0.6432537706115126, 0.1286507541223025, 0.6341101491142479, 0.6429788391413198, 0.8571538412150861, 0.4591450297576081, 0.10203222883502402, 0.20406445767004805, 0.20406445767004805, 0.6427933533506057, 0.6440948162152592, 0.17504293735636464, 0.2333905831418195, 0.05834764578545488, 0.2333905831418195, 0.11669529157090976, 0.11669529157090976, 0.6431734637607515, 0.18184095970706418, 0.5455228791211926, 0.18184095970706418, 0.6344609536438929, 0.3207254055489976, 0.10690846851633254, 0.21381693703266508, 0.3207254055489976, 0.6439836540613125, 0.9209474384815682, 0.11645730769143783, 0.05822865384571892, 0.23291461538287567, 0.05822865384571892, 0.05822865384571892, 0.11645730769143783, 0.17468596153715676, 0.11645730769143783, 0.477903404393129, 0.15930113479770966, 0.07965056739885483, 0.2389517021965645, 0.1417773735814048, 0.0708886867907024, 0.4253321207442144, 0.0708886867907024, 0.1417773735814048, 0.1417773735814048, 0.6433465977287709, 0.08059098364386567, 0.08059098364386567, 0.6447278691509254, 0.16118196728773135, 0.6348949275844057, 0.08484790454055333, 0.08484790454055333, 0.25454371362166, 0.08484790454055333, 0.3393916181622133, 0.16969580908110665, 0.8585654653152225, 0.21405841658806626, 0.6421752497641988, 0.14149975786966112, 0.5659990314786445, 0.28299951573932225, 0.6345629813193876, 0.05555194411280291, 0.11110388822560582, 0.11110388822560582, 0.05555194411280291, 0.22220777645121165, 0.05555194411280291, 0.05555194411280291, 0.27775972056401455, 0.18341548348414558, 0.18341548348414558, 0.5502464504524368, 0.0855612866444956, 0.2566838599334868, 0.3422451465779824, 0.1711225732889912, 0.1711225732889912, 0.18315329061282432, 0.18315329061282432, 0.09157664530641216, 0.549459871838473, 0.6442869809312229, 0.566323543288526, 0.1415808858221315, 0.166542998501669, 0.333085997003338, 0.11102866566777933, 0.055514332833889665, 0.166542998501669, 0.055514332833889665, 0.11102866566777933, 0.8579639928581827, 0.06139739154656273, 0.6139739154656273, 0.12279478309312546, 0.12279478309312546, 0.23400960667283185, 0.35101441000924777, 0.35101441000924777, 0.15836689167210805, 0.6334675666884322, 0.6426139353331976, 0.8465088399514222, 0.6437379961332332, 0.11690862129291499, 0.11690862129291499, 0.46763448517165995, 0.23381724258582998, 0.7606406702185047, 0.11119720712060151, 0.11119720712060151, 0.055598603560300754, 0.27799301780150376, 0.055598603560300754, 0.11119720712060151, 0.22239441424120301, 0.055598603560300754, 0.07074482651143284, 0.424468959068597, 0.07074482651143284, 0.03537241325571642, 0.14148965302286567, 0.2122344795342985, 0.6344612574706661, 0.21449795913607833, 0.643493877408235, 0.44958469718346816, 0.14986156572782272, 0.14986156572782272, 0.14986156572782272, 0.07493078286391136, 0.28464832501230397, 0.5692966500246079, 0.8501093044473373, 0.8585602130145609, 0.638267552564773, 0.8500149501488384, 0.6367446985058335, 0.2122482328352778, 0.6437327787954963, 0.84625044003188, 0.6444199496289529, 0.6434182172986705, 0.18151821111667554, 0.5445546333500266, 0.18151821111667554, 0.5314481236029852, 0.10628962472059705, 0.10628962472059705, 0.10628962472059705, 0.10628962472059705, 0.8465141964995943, 0.18298944136205963, 0.06099648045401988, 0.12199296090803977, 0.18298944136205963, 0.36597888272411927, 0.7615773252852532, 0.8467878165926831, 0.06367043330488974, 0.06367043330488974, 0.06367043330488974, 0.38202259982933845, 0.25468173321955895, 0.06367043330488974, 0.06367043330488974, 0.06367043330488974, 0.8585595829720971, 0.13498736966287733, 0.20248105449431603, 0.13498736966287733, 0.20248105449431603, 0.26997473932575466, 0.06749368483143867, 0.6388883123140153, 0.12777766246280306, 0.12777766246280306, 0.2574119645845906, 0.5148239291691812, 0.1287059822922953, 0.1287059822922953, 0.8504922736583259, 0.6373052491487853, 0.4467425399124889, 0.06382036284464128, 0.19146108853392382, 0.19146108853392382, 0.12764072568928256, 0.6382706965587518, 0.5091194406176904, 0.2545597203088452, 0.7103330311453001, 0.28413321245812007, 0.21458031751513396, 0.6437409525454019, 0.6387500983965242, 0.21291669946550806, 0.17868974254578943, 0.059563247515263144, 0.059563247515263144, 0.059563247515263144, 0.14890811878815785, 0.08934487127289471, 0.08934487127289471, 0.08934487127289471, 0.23825299006105258, 0.7651228387279039, 0.6382467187725069, 0.5485958005139498, 0.3657305336759666, 0.85108246214764, 0.6385163830338095, 0.6442858760867518, 0.6378192342870673, 0.7738214405383295, 0.6431636080353981, 0.6345642146158404, 0.6377011233465669, 0.27017332243950526, 0.07719237783985865, 0.19298094459964663, 0.11578856675978798, 0.19298094459964663, 0.11578856675978798, 0.3209699729924887, 0.48145495948873307, 0.16048498649624435, 0.8587710965839883, 0.3204446960729436, 0.10681489869098121, 0.5340744934549061, 0.10681489869098121, 0.6345223918798092, 0.6430283632438242, 0.8467850524614998, 0.8501095532053611, 0.07116987807983541, 0.14233975615967082, 0.07116987807983541, 0.14233975615967082, 0.07116987807983541, 0.42701926847901245, 0.46211511946108186, 0.46211511946108186, 0.5448262778956858, 0.18160875929856193, 0.18160875929856193, 0.6347039409915862, 0.49102895380692246, 0.0982057907613845, 0.196411581522769, 0.196411581522769, 0.8579568617009743, 0.6385872906905722, 0.21286243023019072, 0.643170786568162, 0.6378148825922466, 0.5241612531381458, 0.2246405370592053, 0.07488017901973511, 0.07488017901973511, 0.14976035803947021, 0.09836552713550467, 0.295096581406514, 0.19673105427100934, 0.049182763567752336, 0.09836552713550467, 0.049182763567752336, 0.049182763567752336, 0.19673105427100934, 0.23822146642705433, 0.07940715547568478, 0.6352572438054782, 0.07940715547568478, 0.6372538650506873, 0.14137177510993335, 0.3534294377748334, 0.2120576626649, 0.14137177510993335, 0.07068588755496667, 0.07068588755496667, 0.35034039840025155, 0.11678013280008386, 0.11678013280008386, 0.35034039840025155, 0.4783884206634062, 0.4783884206634062, 0.6378238946977685, 0.21201312305452816, 0.21201312305452816, 0.21201312305452816, 0.3180196845817922, 0.10600656152726408, 0.6445037988091633, 0.32240280019489836, 0.6448056003897967, 0.6345169206095548, 0.273620182065327, 0.182413454710218, 0.182413454710218, 0.091206727355109, 0.091206727355109, 0.0456033636775545, 0.1368100910326635, 0.4273505093730543, 0.10683762734326357, 0.21367525468652715, 0.21367525468652715, 0.40693797823618566, 0.058133996890883666, 0.174401990672651, 0.058133996890883666, 0.11626799378176733, 0.174401990672651, 0.6434938919024904, 0.16022473964088232, 0.16022473964088232, 0.16022473964088232, 0.48067421892264695, 0.6384959800388149, 0.06117745445138545, 0.06117745445138545, 0.1223549089027709, 0.2447098178055418, 0.18353236335415635, 0.30588727225692725, 0.4098147849891492, 0.05122684812364365, 0.1024536962472873, 0.05122684812364365, 0.1024536962472873, 0.2561342406182182, 0.6433524265720313, 0.4431790578375457, 0.11079476445938642, 0.05539738222969321, 0.05539738222969321, 0.22158952891877284, 0.11079476445938642], \"Term\": [\"abandon\", \"abbott\", \"abbott\", \"accident\", \"accidental\", \"accomplishment\", \"accountability\", \"accuse\", \"accuse\", \"accuse\", \"accuses\", \"achieve\", \"action\", \"action\", \"action\", \"activity\", \"actor\", \"actor\", \"actor\", \"actor\", \"actress\", \"address\", \"address\", \"address\", \"administration\", \"administration\", \"administration\", \"administration\", \"adopt\", \"adviser\", \"agent\", \"air\", \"air\", \"airstrike\", \"airstrike\", \"alec\", \"alien\", \"allegation\", \"allied\", \"already\", \"america\", \"america\", \"america\", \"america\", \"america\", \"america\", \"american\", \"american\", \"american\", \"american\", \"american\", \"american\", \"american\", \"american\", \"american\", \"amid\", \"amid\", \"amid\", \"amid\", \"amid\", \"amid\", \"amid\", \"amid\", \"amid\", \"amid\", \"amp\", \"amp\", \"amp\", \"andrew\", \"andrew\", \"announce\", \"announce\", \"announces\", \"announces\", \"announces\", \"another\", \"antonio\", \"anything\", \"anyway\", \"aoc\", \"apple\", \"apple\", \"apple\", \"arrest\", \"arrest\", \"arrest\", \"arrest\", \"arrest\", \"arrest\", \"arrest\", \"art\", \"art\", \"ask\", \"asset\", \"asset\", \"athlete\", \"athlete\", \"athlete\", \"auction\", \"auschwitz\", \"authenticity\", \"authorizes\", \"awestricken\", \"axed\", \"back\", \"back\", \"back\", \"back\", \"back\", \"back\", \"backlog\", \"backlog\", \"baldwin\", \"bambi\", \"ban\", \"ban\", \"ban\", \"ban\", \"ban\", \"ban\", \"ban\", \"battling\", \"become\", \"behind\", \"belief\", \"best\", \"best\", \"best\", \"bill\", \"bill\", \"bill\", \"bill\", \"bill\", \"bill\", \"bill\", \"bishop\", \"blame\", \"blame\", \"blame\", \"blame\", \"blame\", \"blame\", \"blitz\", \"blm\", \"bloom\", \"bobby\", \"bombing\", \"border\", \"border\", \"border\", \"border\", \"border\", \"border\", \"border\", \"border\", \"bordering\", \"boston\", \"brand\", \"brand\", \"braxton\", \"break\", \"break\", \"break\", \"break\", \"break\", \"break\", \"break\", \"break\", \"breathing\", \"bring\", \"bring\", \"british\", \"broadening\", \"brother\", \"brother\", \"brother\", \"brother\", \"brutal\", \"bucs\", \"buffalo\", \"building\", \"building\", \"busy\", \"butt\", \"california\", \"california\", \"california\", \"california\", \"call\", \"call\", \"call\", \"call\", \"call\", \"call\", \"call\", \"call\", \"cancer\", \"candidacy\", \"capitulate\", \"captivity\", \"capture\", \"capture\", \"carry\", \"cartoon\", \"cashless\", \"cause\", \"cause\", \"charge\", \"charge\", \"charge\", \"charge\", \"charity\", \"child\", \"child\", \"child\", \"child\", \"child\", \"child\", \"china\", \"china\", \"china\", \"china\", \"china\", \"china\", \"churchill\", \"cigarette\", \"city\", \"city\", \"city\", \"city\", \"city\", \"city\", \"claim\", \"claim\", \"claim\", \"claim\", \"claim\", \"claim\", \"clarity\", \"class\", \"close\", \"close\", \"close\", \"closer\", \"cnn\", \"cnn\", \"cnn\", \"cnn\", \"coastal\", \"cold\", \"cold\", \"cold\", \"cold\", \"cold\", \"combat\", \"combat\", \"comfort\", \"commonwealth\", \"compare\", \"complains\", \"congregation\", \"congress\", \"congress\", \"congress\", \"congress\", \"congress\", \"congress\", \"congresswoman\", \"congresswoman\", \"contain\", \"conte\", \"continue\", \"continue\", \"continue\", \"contributor\", \"corner\", \"correlation\", \"costco\", \"could\", \"could\", \"could\", \"could\", \"could\", \"could\", \"country\", \"country\", \"country\", \"country\", \"country\", \"country\", \"country\", \"country\", \"covid\", \"covid\", \"covid\", \"covid\", \"covid\", \"covid\", \"covid\", \"covid\", \"cowardly\", \"creep\", \"crime\", \"crime\", \"crime\", \"crime\", \"crime\", \"crime\", \"cripple\", \"critical\", \"critical\", \"critical\", \"criticizes\", \"cuomo\", \"cuomo\", \"cuomo\", \"cuomo\", \"cuomo\", \"curtis\", \"dagenmcdowell\", \"daily\", \"dakota\", \"davidson\", \"davidson\", \"day\", \"day\", \"day\", \"day\", \"day\", \"day\", \"day\", \"day\", \"day\", \"day\", \"dead\", \"dead\", \"dead\", \"dead\", \"deal\", \"deal\", \"deal\", \"deal\", \"dealt\", \"debut\", \"debut\", \"decides\", \"decision\", \"decision\", \"defeat\", \"defiant\", \"defiant\", \"demand\", \"demand\", \"demand\", \"demand\", \"dependence\", \"dependence\", \"despite\", \"despite\", \"despite\", \"despite\", \"devalue\", \"developed\", \"dewine\", \"dick\", \"dip\", \"dire\", \"direct\", \"director\", \"director\", \"disclose\", \"disgrace\", \"disinformation\", \"disinformation\", \"dismisses\", \"disney\", \"disney\", \"dog\", \"dog\", \"dog\", \"dog\", \"dominate\", \"dominican\", \"doug\", \"dumb\", \"education\", \"education\", \"eichel\", \"elon\", \"emergency\", \"emhoff\", \"emotional\", \"encircle\", \"end\", \"end\", \"end\", \"end\", \"end\", \"energy\", \"energy\", \"energy\", \"energy\", \"energy\", \"energy\", \"energy\", \"exec\", \"exec\", \"exec\", \"expert\", \"expert\", \"expert\", \"expert\", \"expert\", \"expert\", \"expert\", \"explore\", \"face\", \"face\", \"face\", \"face\", \"face\", \"face\", \"fail\", \"fail\", \"fail\", \"fail\", \"fall\", \"fall\", \"fall\", \"far\", \"far\", \"fda\", \"fda\", \"fed\", \"fed\", \"fed\", \"fed\", \"fed\", \"federal\", \"federal\", \"fentanyl\", \"fentanyl\", \"fentanyl\", \"fentanyl\", \"festival\", \"fight\", \"fight\", \"fight\", \"fight\", \"fight\", \"fight\", \"fight\", \"fire\", \"fire\", \"fire\", \"fire\", \"fire\", \"fire\", \"firearm\", \"firework\", \"flee\", \"flightless\", \"florida\", \"florida\", \"florida\", \"florida\", \"florida\", \"florida\", \"florida\", \"flourish\", \"fly\", \"fly\", \"fly\", \"fly\", \"fly\", \"follow\", \"follow\", \"follow\", \"follow\", \"force\", \"force\", \"force\", \"force\", \"force\", \"force\", \"ford\", \"foreign\", \"foreign\", \"foreign\", \"foreign\", \"former\", \"former\", \"former\", \"former\", \"former\", \"former\", \"former\", \"fossil\", \"fossil\", \"fossil\", \"fox\", \"fox\", \"fox\", \"fox\", \"fox\", \"foxfriendsfirst\", \"france\", \"free\", \"free\", \"free\", \"freedom\", \"freedom\", \"freedom\", \"friend\", \"friend\", \"fuel\", \"fuel\", \"fuel\", \"fuel\", \"fund\", \"gain\", \"gas\", \"gas\", \"gas\", \"gas\", \"gas\", \"gas\", \"gas\", \"gavin\", \"gentleman\", \"george\", \"germany\", \"get\", \"get\", \"get\", \"get\", \"get\", \"get\", \"gift\", \"gingrich\", \"give\", \"give\", \"give\", \"give\", \"give\", \"gleefully\", \"gollust\", \"google\", \"gop\", \"gop\", \"gop\", \"gop\", \"gop\", \"gop\", \"gop\", \"gov\", \"gov\", \"gov\", \"gov\", \"gov\", \"governor\", \"governor\", \"governorship\", \"grateful\", \"grateful\", \"guerrilla\", \"guideline\", \"gun\", \"gun\", \"haas\", \"hack\", \"hack\", \"hailey\", \"half\", \"hard\", \"hasan\", \"hatch\", \"heat\", \"help\", \"help\", \"help\", \"help\", \"help\", \"help\", \"help\", \"high\", \"high\", \"high\", \"high\", \"high\", \"high\", \"highlight\", \"highway\", \"hit\", \"hit\", \"hit\", \"hit\", \"hit\", \"hit\", \"hitler\", \"hoax\", \"hold\", \"hold\", \"homeless\", \"homeless\", \"homeless\", \"homeless\", \"horrific\", \"house\", \"house\", \"house\", \"house\", \"house\", \"house\", \"house\", \"husband\", \"hutchins\", \"image\", \"impartial\", \"implement\", \"increase\", \"incredible\", \"indigenous\", \"inflation\", \"inflation\", \"inflation\", \"inflation\", \"inflation\", \"inflation\", \"inflationary\", \"information\", \"injured\", \"injured\", \"injury\", \"injury\", \"inmate\", \"interrupt\", \"interrupt\", \"interview\", \"interview\", \"interview\", \"invade\", \"invasion\", \"invasion\", \"invasion\", \"invasion\", \"invasion\", \"invasion\", \"invasion\", \"invasion\", \"invasion\", \"involve\", \"involve\", \"involve\", \"iran\", \"iran\", \"iran\", \"iran\", \"iran\", \"iran\", \"irs\", \"irs\", \"irving\", \"israeli\", \"issue\", \"issue\", \"issue\", \"issue\", \"issue\", \"issue\", \"jail\", \"jail\", \"jail\", \"jail\", \"jail\", \"jail\", \"jakes\", \"james\", \"jamie\", \"jar\", \"jay\", \"jeter\", \"job\", \"job\", \"job\", \"job\", \"johnson\", \"journalist\", \"journalist\", \"journalist\", \"journalist\", \"journalist\", \"journalist\", \"judge\", \"judge\", \"judge\", \"judgejeanine\", \"jussie\", \"jussie\", \"jussie\", \"jussie\", \"kangaroo\", \"kardashian\", \"kellogg\", \"kill\", \"kill\", \"kill\", \"kill\", \"kill\", \"kill\", \"kill\", \"kilmeade\", \"kim\", \"kim\", \"klitschko\", \"klitschko\", \"knight\", \"kyiv\", \"kyiv\", \"kyiv\", \"kyiv\", \"kyiv\", \"kyiv\", \"kyrie\", \"lace\", \"lack\", \"lago\", \"land\", \"lash\", \"launch\", \"launch\", \"launch\", \"launch\", \"lawmaker\", \"lawmaker\", \"lawmaker\", \"lawmaker\", \"lawmaker\", \"lawmaker\", \"lawyer\", \"lawyer\", \"leader\", \"leader\", \"leader\", \"leader\", \"leader\", \"leader\", \"leader\", \"learn\", \"learn\", \"lease\", \"liability\", \"life\", \"life\", \"life\", \"life\", \"life\", \"lift\", \"live\", \"live\", \"live\", \"long\", \"long\", \"long\", \"long\", \"long\", \"lukashenko\", \"machine\", \"make\", \"make\", \"make\", \"make\", \"make\", \"make\", \"makeshift\", \"man\", \"man\", \"man\", \"man\", \"man\", \"man\", \"man\", \"manufacturing\", \"mar\", \"mask\", \"mask\", \"mask\", \"mask\", \"mayor\", \"mayor\", \"mayor\", \"mayor\", \"meal\", \"mean\", \"medium\", \"medium\", \"medium\", \"medium\", \"medium\", \"mehdi\", \"membership\", \"message\", \"message\", \"message\", \"message\", \"message\", \"michigan\", \"midterm\", \"midterm\", \"midterm\", \"miguel\", \"military\", \"military\", \"military\", \"military\", \"miss\", \"miss\", \"miss\", \"miss\", \"miss\", \"miss\", \"modern\", \"modern\", \"month\", \"month\", \"mount\", \"msnbc\", \"msnbc\", \"msnbc\", \"museum\", \"museum\", \"museum\", \"mykolaiv\", \"national\", \"national\", \"national\", \"national\", \"national\", \"nato\", \"nato\", \"nato\", \"nato\", \"nato\", \"nato\", \"nbsaphiermd\", \"near\", \"near\", \"near\", \"near\", \"near\", \"near\", \"near\", \"netherlands\", \"news\", \"news\", \"news\", \"news\", \"news\", \"news\", \"news\", \"news\", \"newsom\", \"newsom\", \"newt\", \"niaid\", \"northwest\", \"nuclear\", \"nuclear\", \"nuclear\", \"nuclear\", \"nuclear\", \"nyc\", \"nyc\", \"occur\", \"odesa\", \"official\", \"official\", \"official\", \"official\", \"official\", \"official\", \"official\", \"official\", \"official\", \"oil\", \"oil\", \"oil\", \"oil\", \"oil\", \"oil\", \"oil\", \"old\", \"old\", \"old\", \"opinion\", \"opinion\", \"opinion\", \"opinion\", \"opinion\", \"opinion\", \"opinion\", \"opinion\", \"oppose\", \"origin\", \"origin\", \"overdoes\", \"pacific\", \"pack\", \"panel\", \"parent\", \"parent\", \"parent\", \"parent\", \"park\", \"pas\", \"patriarch\", \"people\", \"people\", \"people\", \"people\", \"people\", \"people\", \"permit\", \"pet\", \"pet\", \"pet\", \"pete\", \"pete\", \"petty\", \"pfizer\", \"philip\", \"philip\", \"plan\", \"plan\", \"plan\", \"plan\", \"plan\", \"pledge\", \"plow\", \"poignant\", \"poland\", \"poland\", \"poland\", \"poland\", \"poland\", \"poland\", \"police\", \"police\", \"police\", \"police\", \"police\", \"police\", \"police\", \"police\", \"police\", \"policy\", \"policy\", \"policy\", \"policy\", \"policy\", \"political\", \"political\", \"political\", \"poll\", \"poll\", \"poll\", \"poll\", \"poll\", \"positive\", \"positive\", \"positive\", \"post\", \"post\", \"post\", \"post\", \"power\", \"power\", \"power\", \"power\", \"prayer\", \"president\", \"president\", \"president\", \"president\", \"president\", \"president\", \"president\", \"press\", \"press\", \"press\", \"price\", \"price\", \"price\", \"price\", \"price\", \"price\", \"price\", \"price\", \"price\", \"price\", \"prince\", \"prince\", \"prince\", \"prison\", \"prison\", \"pro\", \"pro\", \"proactive\", \"promise\", \"promise\", \"prosecution\", \"protect\", \"provide\", \"provide\", \"provide\", \"provoke\", \"psaki\", \"psaki\", \"psaki\", \"punch\", \"race\", \"race\", \"race\", \"race\", \"race\", \"race\", \"race\", \"raise\", \"raise\", \"raise\", \"raise\", \"raise\", \"raise\", \"randpaul\", \"randpaul\", \"raskin\", \"rat\", \"reach\", \"reach\", \"react\", \"ready\", \"reason\", \"recall\", \"recall\", \"recall\", \"recall\", \"record\", \"record\", \"record\", \"record\", \"refugee\", \"refugee\", \"refugee\", \"regular\", \"release\", \"release\", \"release\", \"release\", \"release\", \"release\", \"remote\", \"remote\", \"rep\", \"rep\", \"rep\", \"rep\", \"rep\", \"rep\", \"rep\", \"report\", \"report\", \"report\", \"report\", \"report\", \"report\", \"report\", \"report\", \"report\", \"report\", \"reporting\", \"representative\", \"republic\", \"republican\", \"republican\", \"republican\", \"republican\", \"republican\", \"republican\", \"resident\", \"residential\", \"respectful\", \"response\", \"response\", \"response\", \"response\", \"response\", \"return\", \"return\", \"return\", \"return\", \"return\", \"return\", \"return\", \"return\", \"return\", \"reveals\", \"reveals\", \"reveals\", \"reveals\", \"rich\", \"risk\", \"risk\", \"risk\", \"risk\", \"risk\", \"roast\", \"roast\", \"robbed\", \"romance\", \"ron\", \"rosary\", \"rule\", \"rule\", \"rule\", \"rule\", \"rushmore\", \"rust\", \"salad\", \"sanction\", \"sanction\", \"sanction\", \"sanction\", \"satellite\", \"schmitt\", \"school\", \"school\", \"school\", \"school\", \"school\", \"school\", \"seahawks\", \"seanhannity\", \"seanhannity\", \"seanhannity\", \"see\", \"seek\", \"seek\", \"seek\", \"seek\", \"seizure\", \"sell\", \"sen\", \"sen\", \"sen\", \"sen\", \"sen\", \"sen\", \"sen\", \"sen\", \"senate\", \"senate\", \"senate\", \"senate\", \"senator\", \"senator\", \"senator\", \"senator\", \"senator\", \"senator\", \"sense\", \"sentence\", \"sentence\", \"sentence\", \"sentence\", \"serious\", \"service\", \"service\", \"service\", \"service\", \"service\", \"service\", \"session\", \"severe\", \"severe\", \"shelter\", \"shelter\", \"shelter\", \"shift\", \"show\", \"show\", \"show\", \"show\", \"show\", \"show\", \"show\", \"show\", \"siege\", \"siege\", \"siege\", \"sign\", \"sign\", \"sign\", \"sign\", \"sign\", \"since\", \"since\", \"since\", \"since\", \"singer\", \"sky\", \"sky\", \"slam\", \"slam\", \"slam\", \"slam\", \"slam\", \"slam\", \"slam\", \"slump\", \"smollett\", \"smollett\", \"smollett\", \"smollett\", \"social\", \"social\", \"social\", \"south\", \"south\", \"spend\", \"spite\", \"spread\", \"spring\", \"spring\", \"spring\", \"spring\", \"stabbed\", \"star\", \"star\", \"star\", \"star\", \"star\", \"star\", \"star\", \"star\", \"state\", \"state\", \"state\", \"state\", \"state\", \"state\", \"steal\", \"step\", \"step\", \"stop\", \"stop\", \"stop\", \"stop\", \"stop\", \"strategy\", \"strategy\", \"stream\", \"strength\", \"strengthen\", \"student\", \"stuff\", \"stuff\", \"sub\", \"suggest\", \"summer\", \"sunders\", \"supply\", \"supply\", \"supply\", \"support\", \"support\", \"support\", \"support\", \"support\", \"surrender\", \"suspect\", \"suspect\", \"suspect\", \"suspect\", \"suspect\", \"swell\", \"tafoya\", \"talk\", \"talk\", \"talk\", \"talk\", \"talk\", \"talk\", \"talk\", \"talk\", \"tank\", \"target\", \"target\", \"target\", \"target\", \"target\", \"target\", \"task\", \"task\", \"task\", \"team\", \"team\", \"team\", \"team\", \"teammate\", \"tear\", \"tell\", \"tell\", \"tell\", \"tell\", \"tell\", \"terrorist\", \"tesla\", \"tesla\", \"texted\", \"texted\", \"threaten\", \"threaten\", \"thug\", \"thug\", \"time\", \"time\", \"time\", \"time\", \"time\", \"time\", \"time\", \"time\", \"time\", \"tottenham\", \"tourist\", \"tournament\", \"tournament\", \"toward\", \"town\", \"traci\", \"train\", \"traveler\", \"treat\", \"tremendously\", \"truly\", \"trump\", \"trump\", \"trump\", \"trump\", \"trump\", \"trump\", \"tsa\", \"tsa\", \"tsa\", \"tsunami\", \"tuckercarlson\", \"tuckercarlson\", \"tuckercarlson\", \"tuckercarlson\", \"tyrant\", \"underway\", \"unintended\", \"unity\", \"use\", \"use\", \"use\", \"use\", \"use\", \"use\", \"view\", \"view\", \"violence\", \"violence\", \"violence\", \"violent\", \"visit\", \"visit\", \"visit\", \"visit\", \"volunteer\", \"voter\", \"voter\", \"wagner\", \"warfare\", \"warn\", \"warn\", \"warn\", \"warn\", \"warn\", \"warns\", \"warns\", \"warns\", \"warns\", \"warns\", \"warns\", \"warns\", \"warns\", \"watch\", \"watch\", \"watch\", \"watch\", \"watters\", \"week\", \"week\", \"week\", \"week\", \"week\", \"week\", \"western\", \"western\", \"western\", \"western\", \"white\", \"white\", \"whoever\", \"win\", \"win\", \"win\", \"win\", \"win\", \"winter\", \"without\", \"without\", \"wolf\", \"woman\", \"woman\", \"woman\", \"woman\", \"woman\", \"woman\", \"woman\", \"work\", \"work\", \"work\", \"work\", \"world\", \"world\", \"world\", \"world\", \"world\", \"world\", \"worried\", \"wound\", \"wound\", \"wound\", \"wound\", \"wuss\", \"year\", \"year\", \"year\", \"year\", \"year\", \"year\", \"york\", \"york\", \"york\", \"york\", \"york\", \"york\", \"zero\", \"zone\", \"zone\", \"zone\", \"zone\", \"zone\", \"zone\"]}, \"R\": 30, \"lambda.step\": 0.01, \"plot.opts\": {\"xlab\": \"PC1\", \"ylab\": \"PC2\"}, \"topic.order\": [7, 8, 1, 5, 10, 4, 6, 9, 2, 3]};\n",
       "\n",
       "function LDAvis_load_lib(url, callback){\n",
       "  var s = document.createElement('script');\n",
       "  s.src = url;\n",
       "  s.async = true;\n",
       "  s.onreadystatechange = s.onload = callback;\n",
       "  s.onerror = function(){console.warn(\"failed to load library \" + url);};\n",
       "  document.getElementsByTagName(\"head\")[0].appendChild(s);\n",
       "}\n",
       "\n",
       "if(typeof(LDAvis) !== \"undefined\"){\n",
       "   // already loaded: just create the visualization\n",
       "   !function(LDAvis){\n",
       "       new LDAvis(\"#\" + \"ldavis_el1672014749973005763022911709\", ldavis_el1672014749973005763022911709_data);\n",
       "   }(LDAvis);\n",
       "}else if(typeof define === \"function\" && define.amd){\n",
       "   // require.js is available: use it to load d3/LDAvis\n",
       "   require.config({paths: {d3: \"https://d3js.org/d3.v5\"}});\n",
       "   require([\"d3\"], function(d3){\n",
       "      window.d3 = d3;\n",
       "      LDAvis_load_lib(\"https://cdn.jsdelivr.net/gh/bmabey/pyLDAvis@3.3.1/pyLDAvis/js/ldavis.v3.0.0.js\", function(){\n",
       "        new LDAvis(\"#\" + \"ldavis_el1672014749973005763022911709\", ldavis_el1672014749973005763022911709_data);\n",
       "      });\n",
       "    });\n",
       "}else{\n",
       "    // require.js not available: dynamically load d3 & LDAvis\n",
       "    LDAvis_load_lib(\"https://d3js.org/d3.v5.js\", function(){\n",
       "         LDAvis_load_lib(\"https://cdn.jsdelivr.net/gh/bmabey/pyLDAvis@3.3.1/pyLDAvis/js/ldavis.v3.0.0.js\", function(){\n",
       "                 new LDAvis(\"#\" + \"ldavis_el1672014749973005763022911709\", ldavis_el1672014749973005763022911709_data);\n",
       "            })\n",
       "         });\n",
       "}\n",
       "</script>"
      ],
      "text/plain": [
       "<IPython.core.display.HTML object>"
      ]
     },
     "execution_count": 52,
     "metadata": {},
     "output_type": "execute_result"
    }
   ],
   "source": [
    "import pyLDAvis\n",
    "import pyLDAvis.gensim_models as gensimvis\n",
    "pyLDAvis.enable_notebook()\n",
    "vis = gensimvis.prepare(topic_model=lda_model1, corpus=corpus1, dictionary=dictionary_LDA1)\n",
    "pyLDAvis.display(vis)"
   ]
  },
  {
   "cell_type": "markdown",
   "id": "8520d2d2-5f9d-467b-a237-b28fb9aa856f",
   "metadata": {},
   "source": [
    "The graph above suggests that there are 5 topics, let's try doing five topics and decide whether they make sense"
   ]
  },
  {
   "cell_type": "code",
   "execution_count": 53,
   "id": "401f7b83-2af1-488a-927c-558f644f2d8f",
   "metadata": {},
   "outputs": [
    {
     "name": "stdout",
     "output_type": "stream",
     "text": [
      "0: 0.007*\"fight\" + 0.006*\"opinion\" + 0.006*\"give\" + 0.006*\"invasion\" + 0.006*\"price\" + 0.005*\"get\" + 0.005*\"kyiv\" + 0.005*\"covid\" + 0.005*\"high\" + 0.005*\"fly\" + 0.005*\"zone\" + 0.005*\"amid\" + 0.005*\"make\" + 0.004*\"president\" + 0.004*\"gas\" + 0.004*\"call\" + 0.004*\"american\" + 0.004*\"official\" + 0.004*\"blame\" + 0.003*\"view\"\n",
      "\n",
      "1: 0.007*\"amid\" + 0.005*\"release\" + 0.005*\"suspect\" + 0.005*\"sanction\" + 0.005*\"nyc\" + 0.004*\"medium\" + 0.004*\"show\" + 0.004*\"crime\" + 0.004*\"invasion\" + 0.004*\"gop\" + 0.004*\"expert\" + 0.004*\"official\" + 0.004*\"york\" + 0.003*\"smollett\" + 0.003*\"jussie\" + 0.003*\"time\" + 0.003*\"police\" + 0.003*\"energy\" + 0.003*\"lawmaker\" + 0.003*\"world\"\n",
      "\n",
      "2: 0.007*\"covid\" + 0.007*\"price\" + 0.006*\"gas\" + 0.005*\"time\" + 0.005*\"oil\" + 0.004*\"report\" + 0.004*\"leader\" + 0.004*\"former\" + 0.004*\"official\" + 0.004*\"year\" + 0.004*\"warns\" + 0.004*\"back\" + 0.004*\"home\" + 0.004*\"tax\" + 0.004*\"slam\" + 0.003*\"woman\" + 0.003*\"call\" + 0.003*\"people\" + 0.003*\"bill\" + 0.003*\"gop\"\n",
      "\n",
      "3: 0.006*\"call\" + 0.005*\"state\" + 0.005*\"trump\" + 0.005*\"time\" + 0.005*\"race\" + 0.005*\"message\" + 0.004*\"live\" + 0.004*\"kill\" + 0.004*\"fire\" + 0.004*\"opinion\" + 0.004*\"florida\" + 0.004*\"president\" + 0.004*\"watch\" + 0.004*\"report\" + 0.004*\"oil\" + 0.003*\"face\" + 0.003*\"issue\" + 0.003*\"day\" + 0.003*\"use\" + 0.003*\"nuclear\"\n",
      "\n",
      "4: 0.008*\"energy\" + 0.006*\"house\" + 0.006*\"report\" + 0.006*\"american\" + 0.005*\"help\" + 0.005*\"former\" + 0.005*\"country\" + 0.004*\"china\" + 0.004*\"talk\" + 0.004*\"cnn\" + 0.004*\"plan\" + 0.004*\"sen\" + 0.004*\"president\" + 0.004*\"white\" + 0.004*\"could\" + 0.004*\"call\" + 0.004*\"star\" + 0.004*\"inflation\" + 0.004*\"gas\" + 0.003*\"warns\"\n",
      "\n"
     ]
    }
   ],
   "source": [
    "num_topics = 5\n",
    "lda_model1 = models.LdaModel(corpus1, num_topics=num_topics,\n",
    "                            random_state=100,\n",
    "                            id2word=dictionary_LDA1, \n",
    "                            passes=4)\n",
    "\n",
    "for i,topic in lda_model1.show_topics(formatted=True, num_topics=num_topics, num_words=20):\n",
    "    print(str(i)+\": \"+ topic + \"\\n\")"
   ]
  },
  {
   "cell_type": "markdown",
   "id": "24ba3015-40a8-4c37-a8e0-5a4d5d652382",
   "metadata": {
    "tags": []
   },
   "source": [
    "Let's try to sum up the topics:\n",
    "1. Russian-Ukrainian conflict\n",
    "2. US Crimes\n",
    "3. Oil, gas, and sanctions\n",
    "4. US Politics\n",
    "5. US Economy\n"
   ]
  },
  {
   "cell_type": "markdown",
   "id": "83a70fe7-4c30-4ace-9d88-6778bced40a0",
   "metadata": {
    "tags": []
   },
   "source": [
    "### NYTimes, 10 topics"
   ]
  },
  {
   "cell_type": "code",
   "execution_count": 54,
   "id": "35bf1447-a03b-4438-b266-a4d956cdf91b",
   "metadata": {},
   "outputs": [],
   "source": [
    "num_topics = 10\n",
    "lda_model2 = models.LdaModel(corpus2, num_topics=num_topics,\n",
    "                            random_state=100,\n",
    "                            id2word=dictionary_LDA2, \n",
    "                            passes=4)"
   ]
  },
  {
   "cell_type": "code",
   "execution_count": 55,
   "id": "3447e828-d74a-49bb-9f1c-d3e3d978785a",
   "metadata": {},
   "outputs": [
    {
     "name": "stdout",
     "output_type": "stream",
     "text": [
      "0: 0.007*\"official\" + 0.007*\"zelensky\" + 0.006*\"volodymyr\" + 0.005*\"congress\" + 0.005*\"white\" + 0.005*\"invasion\" + 0.005*\"address\" + 0.005*\"state\" + 0.005*\"house\" + 0.005*\"defense\" + 0.004*\"two\" + 0.004*\"day\" + 0.004*\"sunday\" + 0.004*\"security\" + 0.004*\"wednesday\" + 0.004*\"show\" + 0.003*\"sanction\" + 0.003*\"home\" + 0.003*\"test\" + 0.003*\"role\"\n",
      "\n",
      "1: 0.012*\"two\" + 0.010*\"news\" + 0.008*\"world\" + 0.007*\"york\" + 0.006*\"break\" + 0.005*\"shot\" + 0.005*\"injured\" + 0.005*\"come\" + 0.005*\"large\" + 0.005*\"woman\" + 0.005*\"men\" + 0.005*\"police\" + 0.004*\"old\" + 0.004*\"analysis\" + 0.004*\"doug\" + 0.004*\"far\" + 0.004*\"country\" + 0.004*\"five\" + 0.004*\"believe\" + 0.004*\"pandemic\"\n",
      "\n",
      "2: 0.009*\"kill\" + 0.006*\"country\" + 0.006*\"kyiv\" + 0.006*\"force\" + 0.006*\"zelensky\" + 0.006*\"military\" + 0.005*\"two\" + 0.005*\"invasion\" + 0.005*\"time\" + 0.005*\"least\" + 0.005*\"volodymyr\" + 0.005*\"flee\" + 0.005*\"show\" + 0.005*\"york\" + 0.004*\"day\" + 0.004*\"since\" + 0.004*\"die\" + 0.004*\"civilian\" + 0.004*\"make\" + 0.004*\"building\"\n",
      "\n",
      "3: 0.007*\"could\" + 0.006*\"life\" + 0.005*\"covid\" + 0.005*\"update\" + 0.005*\"sunday\" + 0.005*\"kyiv\" + 0.004*\"follow\" + 0.004*\"look\" + 0.004*\"monday\" + 0.004*\"pandemic\" + 0.004*\"government\" + 0.004*\"many\" + 0.004*\"effort\" + 0.004*\"london\" + 0.004*\"workplace\" + 0.004*\"transition\" + 0.003*\"two\" + 0.003*\"occupy\" + 0.003*\"power\" + 0.003*\"british\"\n",
      "\n",
      "4: 0.006*\"official\" + 0.005*\"invasion\" + 0.005*\"since\" + 0.004*\"week\" + 0.004*\"could\" + 0.004*\"biden\" + 0.004*\"wednesday\" + 0.004*\"even\" + 0.004*\"troop\" + 0.004*\"border\" + 0.004*\"american\" + 0.004*\"first\" + 0.004*\"aid\" + 0.004*\"charge\" + 0.004*\"griner\" + 0.004*\"show\" + 0.004*\"last\" + 0.004*\"begin\" + 0.004*\"end\" + 0.003*\"star\"\n",
      "\n",
      "5: 0.011*\"country\" + 0.008*\"day\" + 0.007*\"china\" + 0.006*\"week\" + 0.006*\"last\" + 0.005*\"vladimir\" + 0.005*\"body\" + 0.004*\"putin\" + 0.004*\"first\" + 0.004*\"refuse\" + 0.004*\"kyiv\" + 0.004*\"coronavirus\" + 0.003*\"official\" + 0.003*\"biden\" + 0.003*\"resident\" + 0.003*\"mayor\" + 0.003*\"see\" + 0.003*\"case\" + 0.003*\"woman\" + 0.003*\"shell\"\n",
      "\n",
      "6: 0.008*\"kill\" + 0.007*\"channel\" + 0.007*\"american\" + 0.007*\"police\" + 0.006*\"men\" + 0.005*\"world\" + 0.005*\"around\" + 0.005*\"next\" + 0.005*\"york\" + 0.004*\"anna\" + 0.004*\"west\" + 0.004*\"two\" + 0.004*\"show\" + 0.004*\"home\" + 0.004*\"five\" + 0.004*\"company\" + 0.004*\"month\" + 0.004*\"kremlin\" + 0.003*\"still\" + 0.003*\"court\"\n",
      "\n",
      "7: 0.007*\"attack\" + 0.007*\"monday\" + 0.006*\"biden\" + 0.005*\"since\" + 0.005*\"official\" + 0.005*\"sanction\" + 0.005*\"week\" + 0.004*\"capital\" + 0.004*\"country\" + 0.004*\"kyiv\" + 0.004*\"impose\" + 0.004*\"invasion\" + 0.004*\"former\" + 0.004*\"six\" + 0.004*\"china\" + 0.004*\"missile\" + 0.004*\"rate\" + 0.003*\"west\" + 0.003*\"world\" + 0.003*\"star\"\n",
      "\n",
      "8: 0.012*\"state\" + 0.009*\"help\" + 0.008*\"time\" + 0.006*\"opinion\" + 0.004*\"four\" + 0.004*\"house\" + 0.004*\"tuesday\" + 0.004*\"week\" + 0.004*\"biden\" + 0.004*\"announce\" + 0.004*\"million\" + 0.003*\"texas\" + 0.003*\"write\" + 0.003*\"join\" + 0.003*\"call\" + 0.003*\"told\" + 0.003*\"air\" + 0.003*\"country\" + 0.003*\"late\" + 0.003*\"change\"\n",
      "\n",
      "9: 0.005*\"show\" + 0.005*\"kyiv\" + 0.004*\"live\" + 0.004*\"news\" + 0.004*\"million\" + 0.004*\"military\" + 0.003*\"official\" + 0.003*\"missile\" + 0.003*\"die\" + 0.003*\"invasion\" + 0.003*\"rate\" + 0.003*\"watch\" + 0.003*\"end\" + 0.003*\"nuclear\" + 0.003*\"keep\" + 0.003*\"wednesday\" + 0.003*\"late\" + 0.003*\"two\" + 0.003*\"follow\" + 0.003*\"force\"\n",
      "\n"
     ]
    }
   ],
   "source": [
    "for i,topic in lda_model2.show_topics(formatted=True, num_topics=num_topics, num_words=20):\n",
    "    print(str(i)+\": \"+ topic + \"\\n\")"
   ]
  },
  {
   "cell_type": "code",
   "execution_count": 56,
   "id": "6480aac8-1d84-45ce-b705-a1679bf121f2",
   "metadata": {},
   "outputs": [
    {
     "name": "stderr",
     "output_type": "stream",
     "text": [
      "C:\\Users\\exile\\anaconda3\\lib\\site-packages\\pyLDAvis\\_prepare.py:246: FutureWarning: In a future version of pandas all arguments of DataFrame.drop except for the argument 'labels' will be keyword-only.\n",
      "  default_term_info = default_term_info.sort_values(\n"
     ]
    },
    {
     "data": {
      "text/html": [
       "\n",
       "<link rel=\"stylesheet\" type=\"text/css\" href=\"https://cdn.jsdelivr.net/gh/bmabey/pyLDAvis@3.3.1/pyLDAvis/js/ldavis.v1.0.0.css\">\n",
       "\n",
       "\n",
       "<div id=\"ldavis_el1672014748962273446449584383\"></div>\n",
       "<script type=\"text/javascript\">\n",
       "\n",
       "var ldavis_el1672014748962273446449584383_data = {\"mdsDat\": {\"x\": [-0.02672801020306471, -0.07310014998389064, -0.04164426785050651, -0.025354272450589226, -0.005399568200046732, 0.09501180454525214, 0.16596039353593714, -0.036010601250998045, 0.0008280126246196421, -0.05356334076671315], \"y\": [-0.0780942309888124, 0.07807586450050216, -0.06946570915485151, -0.025157710047134258, -0.10397621737146266, 0.058053642680198865, -0.014207814064302049, 0.01788468842943249, 0.07990729274015376, 0.056980193276275556], \"topics\": [1, 2, 3, 4, 5, 6, 7, 8, 9, 10], \"cluster\": [1, 1, 1, 1, 1, 1, 1, 1, 1, 1], \"Freq\": [11.198715581820775, 11.119726916484366, 10.959483462360227, 10.45784637180754, 10.164507953876372, 9.793547385357506, 9.454380471248692, 9.215368464311, 9.153613777104725, 8.482809615628796]}, \"tinfo\": {\"Term\": [\"state\", \"channel\", \"american\", \"news\", \"police\", \"men\", \"two\", \"china\", \"show\", \"volodymyr\", \"week\", \"world\", \"life\", \"help\", \"time\", \"congress\", \"injured\", \"west\", \"could\", \"last\", \"five\", \"body\", \"york\", \"zelensky\", \"white\", \"rate\", \"air\", \"monday\", \"vladimir\", \"kill\", \"hate\", \"artillery\", \"strategic\", \"istanbul\", \"evidence\", \"village\", \"conscription\", \"iceberg\", \"cannabis\", \"yonkers\", \"candidate\", \"filing\", \"formal\", \"footage\", \"inside\", \"stone\", \"true\", \"braxton\", \"mystery\", \"vasyl\", \"bedevil\", \"analyst\", \"misstep\", \"march\", \"elsewhere\", \"lviv\", \"brutal\", \"crime\", \"light\", \"gain\", \"emotional\", \"vote\", \"bury\", \"challenge\", \"assault\", \"asian\", \"rescue\", \"suburb\", \"heavy\", \"center\", \"kill\", \"strike\", \"building\", \"military\", \"least\", \"mark\", \"appeal\", \"flee\", \"force\", \"zelensky\", \"western\", \"volodymyr\", \"fight\", \"civilian\", \"time\", \"congress\", \"kyiv\", \"country\", \"make\", \"invasion\", \"die\", \"two\", \"show\", \"york\", \"since\", \"day\", \"old\", \"fire\", \"monday\", \"wednesday\", \"attack\", \"leader\", \"succumb\", \"pile\", \"morgue\", \"superyacht\", \"refuse\", \"depiction\", \"entenmann\", \"strzhalkovsky\", \"strand\", \"rescuer\", \"kgb\", \"import\", \"class\", \"norway\", \"longtime\", \"refuel\", \"politician\", \"draw\", \"senator\", \"celebrate\", \"emerge\", \"baltic\", \"nomination\", \"memory\", \"condemn\", \"worry\", \"unit\", \"mykolaiv\", \"outbreak\", \"pull\", \"own\", \"associate\", \"body\", \"supplier\", \"survivor\", \"china\", \"hospital\", \"country\", \"see\", \"bad\", \"shell\", \"vladimir\", \"last\", \"day\", \"yet\", \"policy\", \"case\", \"putin\", \"week\", \"republican\", \"rocket\", \"food\", \"first\", \"coronavirus\", \"mayor\", \"test\", \"resident\", \"hundred\", \"building\", \"kyiv\", \"woman\", \"biden\", \"official\", \"many\", \"attack\", \"least\", \"begin\", \"time\", \"griner\", \"dollar\", \"debt\", \"due\", \"ministry\", \"fate\", \"boy\", \"extend\", \"brittney\", \"wnba\", \"denominate\", \"rusty\", \"default\", \"level\", \"politics\", \"treacherous\", \"ethiopia\", \"murdoch\", \"admit\", \"contract\", \"catastrophe\", \"quickly\", \"golf\", \"wheel\", \"collision\", \"college\", \"comedy\", \"register\", \"orange\", \"mid\", \"drug\", \"carolina\", \"drama\", \"opening\", \"truck\", \"zone\", \"cross\", \"troop\", \"worker\", \"cost\", \"payment\", \"post\", \"border\", \"aid\", \"seed\", \"law\", \"star\", \"charge\", \"official\", \"even\", \"invasion\", \"since\", \"end\", \"best\", \"north\", \"could\", \"week\", \"wednesday\", \"series\", \"american\", \"biden\", \"first\", \"begin\", \"last\", \"plan\", \"show\", \"interest\", \"court\", \"state\", \"million\", \"transmissible\", \"yell\", \"indicate\", \"mcdonald\", \"weather\", \"worth\", \"inflict\", \"important\", \"technology\", \"image\", \"colombian\", \"michael\", \"kherson\", \"pakistan\", \"magnitude\", \"onto\", \"highly\", \"marina\", \"subvariant\", \"ovsyannikova\", \"near\", \"burst\", \"slump\", \"bayraktar\", \"toothpick\", \"commissioner\", \"counter\", \"crash\", \"potent\", \"ballerina\", \"keep\", \"researcher\", \"alert\", \"editor\", \"significant\", \"hope\", \"volunteer\", \"offensive\", \"run\", \"step\", \"plant\", \"nuclear\", \"base\", \"rate\", \"watch\", \"show\", \"missile\", \"nearly\", \"live\", \"late\", \"end\", \"daily\", \"kyiv\", \"million\", \"nato\", \"news\", \"military\", \"die\", \"far\", \"rise\", \"know\", \"wednesday\", \"official\", \"invasion\", \"ago\", \"report\", \"follow\", \"two\", \"many\", \"force\", \"first\", \"tuesday\", \"week\", \"apple\", \"department\", \"lavish\", \"perk\", \"heckle\", \"remark\", \"cuomo\", \"surrender\", \"exam\", \"uploaded\", \"website\", \"suppose\", \"resort\", \"jet\", \"balance\", \"traveler\", \"baseless\", \"lab\", \"bioweapon\", \"mischaracterized\", \"amplify\", \"nursing\", \"claim\", \"research\", \"winner\", \"kiss\", \"defense\", \"affected\", \"san\", \"role\", \"white\", \"address\", \"security\", \"air\", \"volodymyr\", \"congress\", \"zelensky\", \"popular\", \"house\", \"official\", \"chinese\", \"oscar\", \"fill\", \"warn\", \"facebook\", \"test\", \"work\", \"state\", \"invasion\", \"sunday\", \"sanction\", \"home\", \"wednesday\", \"two\", \"day\", \"video\", \"leader\", \"come\", \"show\", \"biden\", \"military\", \"employee\", \"time\", \"adult\", \"potato\", \"injured\", \"authorize\", \"fda\", \"benjamin\", \"analysis\", \"doug\", \"stimulus\", \"snapshot\", \"broader\", \"code\", \"request\", \"church\", \"superyachts\", \"significantly\", \"unleashed\", \"showcased\", \"label\", \"personalize\", \"treasure\", \"drove\", \"rodrigues\", \"daniel\", \"saw\", \"pierre\", \"zakrzewski\", \"booster\", \"heaviest\", \"misconduct\", \"gunman\", \"pfizer\", \"news\", \"correspondent\", \"fox\", \"two\", \"fatally\", \"homeless\", \"shot\", \"world\", \"five\", \"vaccine\", \"break\", \"far\", \"york\", \"believe\", \"come\", \"men\", \"large\", \"police\", \"product\", \"old\", \"woman\", \"outside\", \"washington\", \"pandemic\", \"economy\", \"thursday\", \"american\", \"country\", \"biden\", \"kyiv\", \"attack\", \"anna\", \"subscribe\", \"dedicate\", \"accessible\", \"reader\", \"tax\", \"elite\", \"masterworks\", \"buying\", \"land\", \"fictionalize\", \"swindler\", \"invent\", \"subject\", \"sorokin\", \"renaud\", \"cocaine\", \"nfl\", \"overstay\", \"immigration\", \"consumer\", \"stadium\", \"deport\", \"dance\", \"boycotting\", \"apps\", \"earn\", \"telegram\", \"richard\", \"channel\", \"abramovich\", \"roman\", \"chelsea\", \"coverage\", \"around\", \"soccer\", \"netflix\", \"police\", \"west\", \"american\", \"men\", \"kill\", \"next\", \"kremlin\", \"five\", \"world\", \"york\", \"launch\", \"jury\", \"still\", \"list\", \"company\", \"homeless\", \"month\", \"home\", \"court\", \"two\", \"show\", \"authority\", \"team\", \"story\", \"intensify\", \"clean\", \"nytimesevents\", \"clinic\", \"spokeswoman\", \"columbia\", \"pursuit\", \"mare\", \"neighborhood\", \"rank\", \"succeed\", \"woetzel\", \"strength\", \"senwhitehouse\", \"pekingmike\", \"petersgoodman\", \"asset\", \"tree\", \"pencil\", \"heat\", \"escape\", \"limited\", \"peacefully\", \"deepen\", \"foxconn\", \"winslet\", \"torn\", \"hang\", \"czar\", \"roughly\", \"wonder\", \"vice\", \"harris\", \"ally\", \"tell\", \"republic\", \"climate\", \"question\", \"impose\", \"yacht\", \"monday\", \"capital\", \"discus\", \"rate\", \"attack\", \"sanction\", \"missile\", \"reserve\", \"biden\", \"west\", \"six\", \"since\", \"major\", \"every\", \"former\", \"oligarch\", \"week\", \"official\", \"china\", \"kyiv\", \"country\", \"invasion\", \"star\", \"support\", \"vladimir\", \"putin\", \"opinion\", \"world\", \"government\", \"force\", \"day\", \"wednesday\", \"workplace\", \"transition\", \"lake\", \"suggest\", \"khia\", \"columbus\", \"pizza\", \"bryant\", \"irving\", \"israel\", \"oleg\", \"anarchist\", \"deripaska\", \"mansion\", \"flyer\", \"acceptance\", \"raw\", \"noodle\", \"lysov\", \"freshwater\", \"shipwreck\", \"crew\", \"software\", \"private\", \"occupy\", \"paavo\", \"orchestra\", \"rvi\", \"musician\", \"animal\", \"london\", \"well\", \"life\", \"continue\", \"update\", \"protester\", \"could\", \"look\", \"covid\", \"close\", \"pandemic\", \"head\", \"british\", \"follow\", \"sunday\", \"effort\", \"youth\", \"moment\", \"key\", \"government\", \"monday\", \"power\", \"kyiv\", \"many\", \"oligarch\", \"know\", \"live\", \"two\", \"invasion\", \"last\", \"eurovision\", \"daylight\", \"kim\", \"cara\", \"chechen\", \"los\", \"contest\", \"obtain\", \"deeply\", \"infect\", \"super\", \"brady\", \"bowl\", \"retirement\", \"senate\", \"pass\", \"legislation\", \"fresh\", \"enfrenta\", \"rrebouche\", \"vivid\", \"outpouring\", \"hampshire\", \"clamor\", \"spate\", \"tenant\", \"compassion\", \"unpredictable\", \"comment\", \"defendant\", \"storm\", \"told\", \"bill\", \"writer\", \"book\", \"african\", \"treatment\", \"song\", \"dose\", \"free\", \"permanent\", \"state\", \"join\", \"abortion\", \"help\", \"four\", \"air\", \"texas\", \"essay\", \"time\", \"opinion\", \"announce\", \"write\", \"idea\", \"think\", \"season\", \"house\", \"change\", \"tuesday\", \"late\", \"kong\", \"hong\", \"save\", \"call\", \"week\", \"million\", \"biden\", \"way\", \"country\", \"come\", \"could\", \"break\", \"force\", \"american\", \"day\"], \"Freq\": [29.0, 11.0, 21.0, 27.0, 16.0, 16.0, 44.0, 19.0, 26.0, 19.0, 27.0, 27.0, 13.0, 23.0, 30.0, 16.0, 6.0, 9.0, 25.0, 20.0, 9.0, 11.0, 27.0, 25.0, 11.0, 10.0, 7.0, 24.0, 17.0, 36.0, 3.257387945334964, 3.8865884940491995, 3.1550758692443885, 2.4628719421999117, 2.3931123725247905, 2.3900365384062994, 1.6683333960742888, 1.6683325400113556, 1.668322837964781, 1.6683194137130486, 1.6680777186116142, 1.668065591053396, 1.6680299217645183, 1.6655877168936484, 1.6569641669374497, 1.6457063686590645, 2.1875278604099, 1.6368034568323768, 1.634605372574585, 1.6344859517954229, 1.6235757150678607, 1.622499643961002, 1.6146735166269506, 3.2282980708065896, 1.6066196765527048, 3.1690239879670763, 1.5754953684639088, 4.0254972605281685, 2.434538256595742, 2.4115018884213586, 3.1618864205855175, 4.465516747019378, 2.366374245550692, 3.5603392006532872, 3.816430427078738, 3.2573947938384284, 3.2720092148773494, 3.23722281223807, 3.9673728702077575, 3.1939391289252193, 10.489163340551194, 4.532728245374241, 5.062990176662787, 6.7667922575340045, 6.451755961789647, 2.815730525098496, 3.462155060025936, 5.695158980920258, 6.899257723670128, 6.835729864116231, 3.830936413479471, 5.834424440288003, 4.73440525823117, 5.180745057357175, 6.592794042137452, 5.0339416785095095, 7.045016705739458, 7.471859386210669, 5.148171862754173, 6.654287325453772, 5.237555105721025, 6.74028854912641, 5.630402385703106, 5.615824204661685, 5.498334703476545, 5.51409082711386, 4.445343624001776, 3.990494844675447, 4.567588269425763, 4.456080650662548, 4.336552007570855, 4.044050712476418, 3.1460673270336006, 3.1460387095318016, 3.1460052752227687, 2.378662098834467, 4.680806664689773, 1.61131963080017, 1.6113173640673544, 1.6113152390053396, 1.611312263918519, 1.6113108472105089, 1.6113092888316982, 1.6113071637696834, 1.6113053220492706, 1.6113040470120616, 1.611301071925241, 1.6112968218012114, 1.6093294393879132, 1.6014250587176782, 1.5982062981192673, 1.5921862807729523, 1.579411399635606, 1.5747111874712802, 1.571328088743725, 1.57038229447634, 1.566799014906991, 1.5646034008333038, 1.5632103518472047, 3.146074693915252, 2.9658940857799267, 2.380407483102619, 3.1460999113178274, 2.3786666323000984, 5.899036149104615, 2.378725000670105, 2.3786153474701415, 8.255067470847912, 2.955554384040736, 13.93469011690004, 3.895293924733364, 3.3881849926521688, 3.8598507237425874, 6.20362440444294, 6.8160281759660615, 9.289336853498714, 3.7092453120211824, 2.225577731437402, 3.877340550807562, 5.434735032932673, 7.057644893632341, 3.7079623412474496, 2.376680265999468, 3.165301971683524, 5.388437015170318, 4.329065833317543, 3.9078918590402782, 3.858676839485614, 3.954946965563104, 3.1648701590821173, 3.5759900399549798, 4.364673089095862, 3.8698470154601874, 3.973788615411091, 3.9922168698617995, 3.6570288548768204, 3.718019268067872, 3.418889872033154, 3.3746270969977705, 3.2380898791559165, 4.459070044840771, 3.005408941478153, 2.9918031909830587, 2.9908020494727263, 2.9796708080217202, 2.345567044209489, 2.3195266134908707, 2.2689173044075246, 2.2667220538042545, 2.2595829513939623, 2.247825333260202, 2.240650904657146, 2.237739775040839, 1.610026980275948, 1.610013296612348, 1.6099977977688826, 1.6099898389033191, 1.6099862085435885, 1.608919441299664, 1.6043867975467467, 1.6037309590984856, 1.5996773832007918, 1.5692162913640244, 1.5676214464085128, 1.5641689743046796, 1.5636822268423338, 1.5502979282908083, 2.0607824977353513, 1.5226347267725966, 1.524379952398489, 3.058971268943929, 2.939859166181823, 2.8739773525993604, 2.365380430585527, 3.280334408328431, 3.83112867704207, 3.143452532460193, 4.677047454888795, 3.925693962856273, 3.1237745864279525, 2.222730611251414, 3.1432489530568373, 4.676971775851333, 4.58060052570036, 2.3767752920046648, 3.318270829738235, 4.1788534683123135, 4.562132885750625, 7.012440276323961, 4.681650471768799, 6.555176361642853, 5.8116474118636114, 4.2444808774551905, 4.01917153704349, 3.588704703826396, 5.223796665087185, 5.368881478396011, 5.0025603090348145, 3.5600000079531537, 4.676839407350386, 5.114717201069907, 4.606037897816032, 4.267440668683926, 4.363156220015857, 3.9694964870739002, 4.396197240958122, 3.556524078140292, 3.775359928635391, 3.978364897378958, 3.5533396941396442, 2.3747173428849027, 2.9420220601758627, 1.6086631923111159, 1.6086493355469835, 1.6086460045940671, 1.608620422875669, 1.600816133430633, 1.6004722458515426, 1.590116046758185, 1.5741080199943764, 1.5712083588615817, 1.5612265588760288, 1.5313248610216332, 1.525602550387471, 1.4988635257081504, 2.956962050196553, 2.374730666696568, 2.3564743799522985, 2.374716809932436, 2.353098925504923, 2.3437317529515065, 2.9456639908565507, 0.8425389584879679, 0.8425384921545596, 0.84253329586801, 0.8425330293917767, 0.8425320301059017, 0.8425318968677851, 0.8425314305343767, 0.8425311640581434, 3.763162177700101, 2.3747541166050996, 1.6086345461160347, 1.6086292165913685, 1.6002186937155454, 2.337857550864356, 1.5911587682591384, 2.264188863783826, 2.9534227128656907, 3.140870089665015, 3.088562670399317, 3.776847597614354, 3.156412315972992, 3.8684738515816104, 3.8552091976397587, 6.120403742728108, 3.9360205136780086, 2.9496097044432155, 4.684001979632278, 3.6838902948617, 3.820635505224804, 2.3747948874687967, 5.467112207995493, 4.217936912901572, 3.0579187029970285, 4.633618252294866, 4.068589774988865, 3.925795287653324, 3.109315040021029, 2.987730728476032, 3.142782589591502, 3.689460980519107, 3.9994189402504245, 3.9024538349487434, 2.866069138823374, 2.938918411486467, 3.174419713915348, 3.4999023125232442, 3.1545669680573, 3.1598943609136927, 3.1373179614749533, 3.1015326016271247, 2.998325823512555, 2.3582854186833133, 2.26947011614354, 2.2694234958409067, 2.269421682829138, 2.2365631755299002, 2.2290492777538358, 2.2104374169359393, 1.5975366153232575, 1.597528327269456, 1.5975134346727815, 1.5974977650710631, 1.5974880525080146, 1.5974683683802362, 1.5944244511208105, 1.5462026115913254, 1.5354818844983005, 1.5086073520437144, 1.5086079995479178, 1.50862444615468, 1.5086045030252202, 1.9806117570349944, 1.392433054404492, 3.7022296028249047, 3.1189997748197564, 1.3305604017614858, 1.3305689488169687, 5.2371895989353945, 2.1646773883871684, 1.2819690963336328, 3.788622203637839, 5.938574957940835, 5.452065681791962, 4.429535850094401, 3.6657637201085826, 7.21985679331315, 6.040820533662506, 7.527301631074826, 2.331255744221631, 5.3022130070313604, 8.077248707026774, 2.955176808371756, 2.9203333121870694, 2.3007000208707917, 2.974034720786883, 2.269408732745073, 3.796969568824313, 2.98678304254193, 5.4083891922683724, 5.758705024324808, 4.578039644098815, 3.874276908660763, 3.8315372282184197, 4.325708292103377, 5.001419332445355, 4.580775737860021, 3.6567349214986207, 3.616705434649354, 3.4931888278479253, 3.897999908657345, 3.6486706451498034, 3.2865689415860153, 3.14467823751012, 3.1853712866668658, 3.8147978484686225, 2.9844519483886534, 5.25515863151541, 2.318755143417411, 2.3187486551371617, 2.293706388865733, 4.477242278190083, 4.452480006166353, 1.5707327926948442, 1.5707250566683926, 1.5707117057840327, 1.5707053422784032, 1.5707028467859996, 1.5706941125625864, 1.5706847544660725, 1.5706817598751879, 1.570655058106468, 1.5706002820482061, 1.5705865568399857, 1.5704561673618909, 1.5568756977007931, 1.5549191068816488, 1.5542998504416632, 1.553751715535184, 1.5532296585243237, 1.5485830516685788, 1.547381472076183, 3.06680519410566, 1.5295263487021165, 1.5259762612085703, 2.892071065545739, 3.741619031024688, 11.194331730893161, 2.295866237541161, 2.3068571347349085, 13.222099982573658, 2.892069817799537, 3.6735966495345806, 5.547771087004114, 8.559427146733547, 4.138399578176084, 3.4629344177396812, 6.6714299272905135, 4.233966206621599, 7.370272111917336, 4.027718999987378, 5.229551884862258, 5.080156237522089, 5.20982901019862, 4.873176104768893, 2.3109664620761303, 4.619635573845387, 5.172190496470125, 3.6917917837486556, 3.7024714930396576, 3.965592718399563, 3.066823910298688, 3.6933110395240463, 3.879254919961521, 4.182883227568009, 3.8954828575137355, 3.767014159922004, 3.682590154608383, 4.547392996207197, 3.056456605091698, 3.0564024010317503, 3.0563127836526363, 3.0562956792603857, 2.3109575734465113, 2.3109527553078495, 2.310930350963071, 2.310919028337215, 2.310911078408423, 2.310911319315356, 2.31091011478069, 2.3109086693390917, 2.3109036102934963, 2.310890601319109, 2.8312423496118035, 2.22636045391142, 2.1468320162487986, 1.565402651392845, 1.5654012059512463, 1.5654009650443133, 1.5653931355689874, 1.5653830174777972, 1.5653716948519414, 1.5653694062360768, 1.5652858115302903, 1.5250973555897867, 3.0563421742984747, 1.509334453596512, 7.5294382678022975, 2.904680900912535, 2.8937222854326503, 2.891428851429518, 3.0641066047523573, 5.302416524359511, 3.062264389434925, 2.310873737833792, 6.748564943914254, 4.4094145139006615, 7.43250791782704, 6.011701944006914, 8.250501627409065, 5.142548756297447, 3.638989805515126, 3.7049674690976837, 5.412073023982823, 5.00095137004185, 3.0564435961173104, 2.7905348596839312, 3.61073286770384, 2.8953708115758685, 3.6932509604062593, 3.023023540915779, 3.689227091902654, 3.748750136026605, 3.567894555952679, 4.221729222273289, 3.8013651738438514, 3.2293099795687694, 3.061202471673811, 3.114840400329009, 2.2743351883233545, 2.2135679211509203, 2.1707789228049417, 1.5666937801890575, 1.5666880271806036, 1.5666856790138879, 1.5666806304554488, 1.5666755818970097, 1.5666762863470245, 1.566661375488379, 1.552630961952923, 1.5416786427569207, 1.526374701003131, 2.4959523451638983, 2.4959403695136473, 2.495891527645958, 2.4958377546281656, 1.5017050963032295, 1.4938159605880352, 1.479516681963616, 1.47951210303852, 2.3128002724787926, 0.8205608123196015, 0.8205589924903968, 0.8205587576737252, 0.8205574661820315, 0.8205569378445204, 0.8205551180153157, 0.8205552941278194, 0.8205547070861404, 1.5574521004455417, 1.566690727572327, 1.5666640758801023, 1.5666859138305596, 1.5481190770167799, 1.555701542158886, 2.269971590115316, 2.9247214822420933, 4.099508820541508, 2.4958941106293455, 6.616976478055925, 4.51049294291396, 2.4959255760633376, 3.566250256492027, 6.797389883900351, 4.92185183269426, 3.719452167166659, 2.998198436580661, 5.76346624908388, 3.228345309016479, 3.753502932712997, 5.17165779169173, 3.0032894968372648, 2.984564510995174, 3.8630289424730795, 3.094244090858472, 4.625982356865579, 4.97957117946954, 3.736398181904833, 4.459741546051253, 4.492467475936516, 4.086303200564989, 3.108987994850535, 3.0122275586244234, 3.022514642189829, 3.021930887944272, 3.03918145990549, 3.147209808934212, 2.9886146289466478, 3.0930145907660602, 3.0873226346468736, 3.041865179645019, 3.5652033712018056, 3.532879142767098, 2.837683151828142, 2.2453315080250618, 1.541211169544732, 1.5412052218456491, 1.5412028894146363, 1.5411884283423567, 1.5411853961820399, 1.541171984703716, 1.5411097087956729, 1.5410879005657028, 1.5410776378692461, 1.5410629435538652, 1.540999384808765, 1.5292695892451333, 1.5127732376636378, 1.509823178918583, 1.4790249434740335, 1.4554540953874573, 1.4554533956581535, 1.4554340364807468, 1.4554222577041318, 1.4507302228571286, 3.281593754625106, 1.3849570677533158, 1.3819405347243947, 1.3755818612971582, 1.3737594163252664, 2.2404641909874425, 3.6141715941011223, 2.754339094175213, 5.806812319330356, 2.9825378469088966, 5.028948442489097, 2.274962944855432, 6.9932588658755215, 4.305682110796671, 5.452485726875003, 3.0079650768386017, 4.123211834285454, 2.8957037727314376, 3.0091837720428165, 4.47622340213576, 4.798221567780582, 3.6338922983147843, 2.1526740533378157, 2.1439258043379126, 2.50859066401463, 3.6932046195129975, 4.249627262751007, 3.013635916360148, 4.7022163748605905, 3.646755655350662, 2.772384179949242, 2.8557133100436887, 2.96382172073247, 3.3222594560910754, 2.945407877615309, 2.5354196849830584, 2.21838281690825, 2.175569484768444, 1.5322998826640182, 1.532288210545114, 1.5322870217181888, 1.5322784837793608, 1.5322767545765603, 1.4970509481753929, 1.9895089926277696, 1.4861651842449792, 1.4470058737731701, 1.4470310552889536, 1.4470252192295017, 1.4470153843885734, 2.8981449745404504, 1.444156579858498, 1.4430590764559987, 0.8025506329610022, 0.8025496602844268, 0.8025496602844268, 0.8025481472319763, 0.8025478770440387, 0.8025479310816263, 0.8025454453526003, 0.8025423111725243, 0.8025420950221742, 0.8025416086838866, 0.8025416627214741, 0.8025419329094117, 0.8025410683080113, 2.7836388942881864, 2.9908829853374876, 2.2527012241398077, 1.5322916689507153, 1.5322215281621163, 1.520034971424959, 1.5323090690538963, 1.5323128516850226, 1.5142685123856918, 1.5210599563850087, 2.1594693097928515, 10.81292212704022, 2.9917490997902334, 2.6999041940227704, 8.33930703141175, 3.676988507293302, 2.9806197344152863, 3.1757483821926047, 2.2443671150920146, 7.150974225706451, 5.157299367381709, 3.4030596555924015, 2.9917882230035966, 2.2170487369475946, 2.1632195183666307, 2.152470145307114, 3.6768778383140646, 2.9594601281955177, 3.64013660180853, 2.9646001835202713, 2.1027356789579468, 2.0995124449376474, 2.175866475349445, 2.991725539402075, 3.6272064878671193, 3.25570001903103, 3.421328467030284, 2.2915311214781044, 2.9797639951793444, 2.5757820169964263, 2.716977261724045, 2.3646197685513384, 2.3359876285791707, 2.298594266467464, 2.2953156979575455], \"Total\": [29.0, 11.0, 21.0, 27.0, 16.0, 16.0, 44.0, 19.0, 26.0, 19.0, 27.0, 27.0, 13.0, 23.0, 30.0, 16.0, 6.0, 9.0, 25.0, 20.0, 9.0, 11.0, 27.0, 25.0, 11.0, 10.0, 7.0, 24.0, 17.0, 36.0, 3.9338771784887867, 4.721388110091194, 3.9255387204394823, 3.1393615226931777, 3.134939846870995, 3.1340693484570914, 2.3448217737537735, 2.3448210604429685, 2.3448108122013704, 2.3448070574608098, 2.3448061314535837, 2.344806870938441, 2.3447815870996607, 2.3446415639550935, 2.344112056214018, 2.3434863450617547, 3.1230754637400757, 2.343692901757116, 2.342563162233922, 2.3427460741761457, 2.3411592043215346, 2.3410571271345146, 2.3403641598248313, 4.694666332205925, 2.3421473573093503, 4.664807806434902, 2.3390133532068598, 6.2023988177005, 3.8713863870047778, 3.9010048615742594, 5.440084171095427, 8.48192655736939, 3.8798514689246613, 6.972031433566227, 7.714900298598817, 6.176461988618672, 6.226520842496467, 6.208552320986923, 8.471636020621313, 6.202304623158039, 36.60709869922144, 10.791959637298415, 13.117911171268963, 20.746592262269367, 19.935026297927656, 5.431723792076426, 7.7293336221905315, 17.575260427821718, 24.416738365993268, 25.22102824432935, 9.214130358416908, 19.937523377998517, 13.769432906131776, 16.821646043172535, 30.301095184271944, 16.88758093886096, 35.7138481861203, 44.21920782108522, 18.401025222814653, 35.87829730908913, 19.921873581231004, 44.01583699805047, 26.765152696230228, 27.256802867500287, 28.172986682744348, 33.59167361558869, 16.022821546454363, 11.481257784911813, 24.95879937498467, 25.206696221797944, 28.74083662062428, 17.47127672117029, 3.8252758614614386, 3.825248109861336, 3.8252167040749554, 3.057880606080258, 6.089569990803514, 2.2905228062198915, 2.2905201866651375, 2.290518169955572, 2.290515397349724, 2.2905142570415964, 2.2905123488520744, 2.290510662077596, 2.290508389787243, 2.2905071663390846, 2.290504334586092, 2.290500296060932, 2.2905064594535136, 2.290031350896404, 2.2901415411750388, 2.28994203800439, 2.290198550910909, 2.2888992061068993, 2.2898547964812916, 2.290119605683572, 2.289338104840498, 2.2883946375935302, 2.2891120312265985, 4.619586841538687, 4.574816106421718, 3.803768124978449, 5.3356671876068615, 3.803796527729827, 11.596641386753847, 3.823473121423322, 3.8237257814837284, 19.700001385044175, 5.316725222899765, 44.21920782108522, 8.398903137128903, 6.851296273530637, 8.423512533100212, 17.36273415764225, 20.386721959696544, 33.59167361558869, 8.39690033374422, 3.8016161000894035, 9.882660895534972, 17.361772793923517, 27.99636806576669, 9.89066938397939, 4.551334088313796, 7.644118141458984, 22.066448807460514, 15.115968388240285, 12.92189310278388, 12.84587740136486, 14.459146071120331, 8.35091300814972, 13.117911171268963, 35.7138481861203, 21.269067822496368, 29.43921881289596, 36.54063484431666, 19.697722984392655, 28.74083662062428, 19.935026297927656, 17.449414163885535, 30.301095184271944, 5.35652783316876, 3.819851443706514, 3.819817342840734, 3.8202133899850215, 3.8187903475413094, 3.0551508529891205, 3.057262859640194, 3.0558499581120255, 3.056200898814311, 3.0558747186758812, 3.0535140647289754, 3.052488078918213, 3.0534400968073916, 2.2892931422205334, 2.2892799826331163, 2.289264013452462, 2.289256227965331, 2.2892525576706952, 2.289293392239218, 2.2891104186648303, 2.2892185934741676, 2.289203662694959, 2.2907181708528483, 2.2907582951588874, 2.290883741593416, 2.2909210083162104, 2.2867507529800273, 3.0632993267669626, 2.2864581658247354, 2.290363311296343, 4.618363472531702, 4.571360343216543, 4.588648644198559, 3.8469987192516015, 6.086411747716837, 7.689698964002673, 6.015830827335726, 10.755711709711168, 8.391151118765046, 6.090564855530067, 3.798948392728867, 6.811600100115077, 14.53806841487418, 14.518681064842195, 4.5519173312577745, 8.350528795275173, 12.786239725930615, 15.3223132971927, 36.54063484431666, 16.836191533017306, 35.87829730908913, 28.172986682744348, 14.47060416777756, 12.935164740179928, 9.805576611189853, 25.70790753888989, 27.99636806576669, 25.206696221797944, 9.798260160420424, 21.720057574265777, 29.43921881289596, 22.066448807460514, 17.449414163885535, 20.386721959696544, 14.432168523022595, 26.765152696230228, 9.872535614525441, 14.411994364835364, 29.17293607522137, 20.448513542943914, 3.0540533847225197, 3.8130658707030065, 2.2879933258232743, 2.2879798002414584, 2.2879773052446173, 2.28795404782233, 2.287781770434311, 2.287770337737099, 2.287083282671642, 2.2880244375185352, 2.2861556237190537, 2.2880097294895547, 2.288050128868658, 2.2880512257333514, 2.287747659559678, 4.580839453363775, 3.7844882968439038, 3.784848749097122, 3.8146494712059016, 3.7849241931638242, 3.844566458065033, 5.2902494667624795, 1.5218678366405072, 1.5218675048470733, 1.5218623442974641, 1.521862110451171, 1.5218610681516236, 1.5218609660393003, 1.5218606560130759, 1.5218603808142155, 6.830903665611806, 4.54266532216213, 3.0175137872343805, 3.0175097419355077, 3.0330627185306986, 4.560023521493146, 3.034304868943995, 4.517994774748471, 6.07610318633818, 6.801755475401756, 6.793720984821459, 9.091672427063335, 7.608112599963457, 10.597896871359916, 11.377246739226242, 26.765152696230228, 12.172595864975994, 7.629603792555335, 18.9694285137086, 12.823508270024357, 14.47060416777756, 5.297134522764279, 35.7138481861203, 20.448513542943914, 9.94874283874294, 27.976343926843043, 20.746592262269367, 19.921873581231004, 10.62831430232718, 9.819415987981357, 12.096153218297587, 25.206696221797944, 36.54063484431666, 35.87829730908913, 9.118529457188966, 10.686435102985886, 18.05581582987925, 44.01583699805047, 19.697722984392655, 24.416738365993268, 22.066448807460514, 21.190420351523407, 27.99636806576669, 3.0381489202098932, 3.0365756880180457, 3.042033852922091, 3.042034829038432, 3.039077646041539, 3.035723641691527, 3.0365130976210777, 2.277398132318472, 2.2773891434970177, 2.2773745005967, 2.2773594410080045, 2.277351282275453, 2.2773320084918796, 2.277273996254618, 2.279579276765764, 2.2747898217513853, 2.27567448574102, 2.2756817437250927, 2.275717072978594, 2.2756964294746416, 3.0386447238917924, 2.2748565739603013, 6.067525817088458, 5.274759247026905, 2.2790456413436253, 2.2790621365517816, 9.11759511170484, 3.7721156414408585, 2.2794088450412042, 6.799158996962481, 11.273549303132702, 10.600358337537122, 9.233682421712336, 7.485655174838085, 19.937523377998517, 16.88758093886096, 25.22102824432935, 4.5642227180171675, 17.35565034031955, 36.54063484431666, 6.78744848232237, 6.809547376573606, 4.5717167064289645, 7.559148432370979, 4.517506726494988, 12.84587740136486, 8.303675260716485, 29.17293607522137, 35.87829730908913, 21.863634534358603, 17.397389111235324, 17.43735736566366, 25.206696221797944, 44.01583699805047, 33.59167361558869, 16.025545093549088, 17.47127672117029, 16.606941642049364, 26.765152696230228, 29.43921881289596, 20.746592262269367, 13.577240249229728, 30.301095184271944, 4.4959398076918555, 3.7477200707981675, 6.738735581983874, 2.999894365111958, 2.999887926931058, 2.9993557465782215, 5.98822102900947, 5.989691899042283, 2.251870399913948, 2.2518632403708287, 2.2518497502266555, 2.251842973039119, 2.2518409351054007, 2.2518324587300764, 2.2518230331913527, 2.251820500407366, 2.251794642682697, 2.251842427697594, 2.251845799515585, 2.2517688473216673, 2.2522222198165083, 2.2522621812390744, 2.2522604438204685, 2.2522808268821692, 2.252293269662689, 2.251407383394146, 2.251389087988131, 4.478140407904605, 2.251708902313147, 2.2525697370673874, 4.4967650843951095, 6.694562197223127, 27.976343926843043, 3.7447546714408104, 3.7931341746988823, 44.01583699805047, 5.340351791865901, 7.481466047951077, 14.255228729555986, 27.06072221075022, 9.744019083860291, 7.498198262741265, 21.07232886557344, 10.62831430232718, 27.256802867500287, 10.51459885778733, 16.606941642049364, 16.46131382384488, 17.42430177382063, 16.500408978515733, 4.490935098204584, 16.022821546454363, 21.269067822496368, 10.617930672542462, 11.323861506657545, 14.221846828863695, 7.52067301444996, 14.416900440565785, 21.720057574265777, 44.21920782108522, 29.43921881289596, 35.7138481861203, 28.74083662062428, 5.2287885195491075, 3.7378517190181, 3.737798567565941, 3.737712537259042, 3.7376953548864087, 2.9923482272431623, 2.992343326270474, 2.992321253374844, 2.992310491089782, 2.9923026823772987, 2.992303385684236, 2.9923019014311656, 2.992300733858532, 2.9922953005577986, 2.992283088234874, 3.7441374520067634, 2.9909571425274994, 2.993906430103013, 2.246793618022541, 2.2467918597540706, 2.2467942245776724, 2.24678396139111, 2.246774062595747, 2.246765131488033, 2.2467643579617116, 2.2468080392344834, 2.2462427414267725, 4.50362109963305, 2.2469471230296776, 11.227445847446758, 4.502356124272138, 4.502671022322737, 4.502828464244961, 5.238434603131924, 10.48828164308697, 5.26362780536738, 3.7260397632511557, 16.500408978515733, 9.740476305973145, 21.720057574265777, 16.46131382384488, 36.60709869922144, 15.736067248390151, 8.291099590752196, 9.744019083860291, 27.06072221075022, 27.256802867500287, 6.7642808971237365, 5.204749300411495, 12.13508165320555, 6.076325048816514, 13.543261009282842, 7.481466047951077, 15.113380028082744, 17.43735736566366, 14.411994364835364, 44.01583699805047, 26.765152696230228, 12.190554021397462, 8.2519139292245, 10.410304316972343, 2.996597118488524, 2.9954802564166956, 2.9917625953142277, 2.248023805015586, 2.2480179181867737, 2.2480154419762397, 2.2480108046427714, 2.248005819085567, 2.24800685080963, 2.2479917158015237, 2.24806291479892, 2.248064655220369, 2.2490577235871707, 3.7309335369387235, 3.730944082265198, 3.730912006057058, 3.730907108550052, 2.2496901790272417, 2.2469592585934395, 2.248481013723168, 2.2485615069266984, 3.7279073384922286, 1.5018897840662122, 1.5018879026190854, 1.5018878141666145, 1.5018863366716575, 1.5018859705286431, 1.5018840654999925, 1.5018844504069084, 1.5018836472618302, 2.9931267147542844, 3.0139216513131095, 3.0138921074596263, 3.0151697865665477, 2.9780605153258133, 2.9965948964052616, 4.521889463641162, 5.993171735394612, 8.959997386999127, 5.265460955418589, 24.95879937498467, 14.314820391538886, 6.0146431299610965, 10.597896871359916, 28.74083662062428, 17.397389111235324, 12.172595864975994, 8.297587945562581, 29.43921881289596, 9.740476305973145, 13.743611015864557, 28.172986682744348, 9.109159546663264, 9.036741749717601, 16.5218797615491, 10.494792198967593, 27.99636806576669, 36.54063484431666, 19.700001385044175, 35.7138481861203, 44.21920782108522, 35.87829730908913, 12.786239725930615, 11.349845074130458, 17.36273415764225, 17.361772793923517, 18.71667347904556, 27.06072221075022, 17.371160915742458, 24.416738365993268, 33.59167361558869, 25.206696221797944, 4.436893910578234, 4.4424992577345845, 3.69453717210267, 2.957501094594298, 2.2237550825245718, 2.223749351652606, 2.2237463995228555, 2.223732977308009, 2.223728866984034, 2.223716431035716, 2.2237691448764085, 2.2237394613342265, 2.223749448804123, 2.2237331465358268, 2.2237295203387273, 2.223915394008616, 2.2260347328148664, 2.2235466014706766, 2.226420425063977, 2.225143528651957, 2.2251439211606794, 2.2251466799662687, 2.2275398902086385, 2.2309440856846243, 5.211833676020616, 2.233514812793526, 2.2338822615988163, 2.2347154747910793, 2.234957355460021, 3.7234078292915918, 6.667948037863044, 5.225847273164152, 13.39459484155625, 5.953411924264659, 14.350437444189204, 4.432504339725363, 25.70790753888989, 12.683132174970599, 19.44311813736502, 7.571033141032293, 14.221846828863695, 7.552259871178247, 8.239445996940931, 18.05581582987925, 21.863634534358603, 12.806141175774915, 4.42464219926276, 4.472398770463661, 6.740850689977912, 17.371160915742458, 24.95879937498467, 11.214870100934014, 35.7138481861203, 19.697722984392655, 10.494792198967593, 12.096153218297587, 18.9694285137086, 44.01583699805047, 35.87829730908913, 20.386721959696544, 2.9464352148149957, 2.948209805197727, 2.215268274160046, 2.2152568562633714, 2.2152555501218636, 2.2152475130688933, 2.2152455371139155, 2.2158866239669104, 2.9509889772733295, 2.2167450965085753, 2.219535723410134, 2.2195842075076184, 2.219578479143241, 2.2195817744552215, 4.445496261954286, 2.218530961731803, 2.2188002586766356, 1.4855180189518735, 1.4855171918561592, 1.4855172838403974, 1.4855154809403546, 1.4855154108303352, 1.4855155887778555, 1.4855129691152165, 1.4855098132846953, 1.48550971881522, 1.4855091991103593, 1.4855093372836712, 1.4855098609873068, 1.4855087601582095, 5.240632591370739, 5.90683691423091, 4.44094905659068, 2.949034180043855, 2.9489703662264235, 2.9497268788425446, 2.97583147187756, 2.982418652833287, 2.949868149337929, 2.976423428428731, 4.482021948720463, 29.17293607522137, 6.707621957044562, 5.982871811252997, 23.993664452975594, 9.698219472843812, 7.485655174838085, 8.280111779353614, 5.191295419561951, 30.301095184271944, 18.71667347904556, 11.240353770318885, 9.002628569254032, 5.237737952517605, 5.195615164025366, 5.206849075313337, 17.35565034031955, 12.025263627967448, 21.190420351523407, 12.823508270024357, 5.24544073600787, 5.245629125832906, 5.9481853124286745, 15.051577090154534, 27.99636806576669, 20.448513542943914, 29.43921881289596, 7.420069322705089, 44.21920782108522, 16.606941642049364, 25.70790753888989, 21.07232886557344, 24.416738365993268, 21.720057574265777, 33.59167361558869], \"Category\": [\"Default\", \"Default\", \"Default\", \"Default\", \"Default\", \"Default\", \"Default\", \"Default\", \"Default\", \"Default\", \"Default\", \"Default\", \"Default\", \"Default\", \"Default\", \"Default\", \"Default\", \"Default\", \"Default\", \"Default\", \"Default\", \"Default\", \"Default\", \"Default\", \"Default\", \"Default\", \"Default\", \"Default\", \"Default\", \"Default\", \"Topic1\", \"Topic1\", \"Topic1\", \"Topic1\", \"Topic1\", \"Topic1\", \"Topic1\", \"Topic1\", \"Topic1\", \"Topic1\", \"Topic1\", \"Topic1\", \"Topic1\", \"Topic1\", \"Topic1\", \"Topic1\", \"Topic1\", \"Topic1\", \"Topic1\", \"Topic1\", \"Topic1\", \"Topic1\", \"Topic1\", \"Topic1\", \"Topic1\", \"Topic1\", \"Topic1\", \"Topic1\", \"Topic1\", \"Topic1\", \"Topic1\", \"Topic1\", \"Topic1\", \"Topic1\", \"Topic1\", \"Topic1\", \"Topic1\", \"Topic1\", \"Topic1\", \"Topic1\", \"Topic1\", \"Topic1\", \"Topic1\", \"Topic1\", \"Topic1\", \"Topic1\", \"Topic1\", \"Topic1\", \"Topic1\", \"Topic1\", \"Topic1\", \"Topic1\", \"Topic1\", \"Topic1\", \"Topic1\", \"Topic1\", \"Topic1\", \"Topic1\", \"Topic1\", \"Topic1\", \"Topic1\", \"Topic1\", \"Topic1\", \"Topic1\", \"Topic1\", \"Topic1\", \"Topic1\", \"Topic1\", \"Topic1\", \"Topic1\", \"Topic1\", \"Topic1\", \"Topic2\", \"Topic2\", \"Topic2\", \"Topic2\", \"Topic2\", \"Topic2\", \"Topic2\", \"Topic2\", \"Topic2\", \"Topic2\", \"Topic2\", \"Topic2\", \"Topic2\", \"Topic2\", \"Topic2\", \"Topic2\", \"Topic2\", \"Topic2\", \"Topic2\", \"Topic2\", \"Topic2\", \"Topic2\", \"Topic2\", \"Topic2\", \"Topic2\", \"Topic2\", \"Topic2\", \"Topic2\", \"Topic2\", \"Topic2\", \"Topic2\", \"Topic2\", \"Topic2\", \"Topic2\", \"Topic2\", \"Topic2\", \"Topic2\", \"Topic2\", \"Topic2\", \"Topic2\", \"Topic2\", \"Topic2\", \"Topic2\", \"Topic2\", \"Topic2\", \"Topic2\", \"Topic2\", \"Topic2\", \"Topic2\", \"Topic2\", \"Topic2\", \"Topic2\", \"Topic2\", \"Topic2\", \"Topic2\", \"Topic2\", \"Topic2\", \"Topic2\", \"Topic2\", \"Topic2\", \"Topic2\", \"Topic2\", \"Topic2\", \"Topic2\", \"Topic2\", \"Topic2\", \"Topic2\", \"Topic2\", \"Topic3\", \"Topic3\", \"Topic3\", \"Topic3\", \"Topic3\", \"Topic3\", \"Topic3\", \"Topic3\", \"Topic3\", \"Topic3\", \"Topic3\", \"Topic3\", \"Topic3\", \"Topic3\", \"Topic3\", \"Topic3\", \"Topic3\", \"Topic3\", \"Topic3\", \"Topic3\", \"Topic3\", \"Topic3\", \"Topic3\", \"Topic3\", \"Topic3\", \"Topic3\", \"Topic3\", \"Topic3\", \"Topic3\", \"Topic3\", \"Topic3\", \"Topic3\", \"Topic3\", \"Topic3\", \"Topic3\", \"Topic3\", \"Topic3\", \"Topic3\", \"Topic3\", \"Topic3\", \"Topic3\", \"Topic3\", \"Topic3\", \"Topic3\", \"Topic3\", \"Topic3\", \"Topic3\", \"Topic3\", \"Topic3\", \"Topic3\", \"Topic3\", \"Topic3\", \"Topic3\", \"Topic3\", \"Topic3\", \"Topic3\", \"Topic3\", \"Topic3\", \"Topic3\", \"Topic3\", \"Topic3\", \"Topic3\", \"Topic3\", \"Topic3\", \"Topic3\", \"Topic3\", \"Topic3\", \"Topic3\", \"Topic3\", \"Topic3\", \"Topic4\", \"Topic4\", \"Topic4\", \"Topic4\", \"Topic4\", \"Topic4\", \"Topic4\", \"Topic4\", \"Topic4\", \"Topic4\", \"Topic4\", \"Topic4\", \"Topic4\", \"Topic4\", \"Topic4\", \"Topic4\", \"Topic4\", \"Topic4\", \"Topic4\", \"Topic4\", \"Topic4\", \"Topic4\", \"Topic4\", \"Topic4\", \"Topic4\", \"Topic4\", \"Topic4\", \"Topic4\", \"Topic4\", \"Topic4\", \"Topic4\", \"Topic4\", \"Topic4\", \"Topic4\", \"Topic4\", \"Topic4\", \"Topic4\", \"Topic4\", \"Topic4\", \"Topic4\", \"Topic4\", \"Topic4\", \"Topic4\", \"Topic4\", \"Topic4\", \"Topic4\", \"Topic4\", \"Topic4\", \"Topic4\", \"Topic4\", \"Topic4\", \"Topic4\", \"Topic4\", \"Topic4\", \"Topic4\", \"Topic4\", \"Topic4\", \"Topic4\", \"Topic4\", \"Topic4\", \"Topic4\", \"Topic4\", \"Topic4\", \"Topic4\", \"Topic4\", \"Topic4\", \"Topic4\", \"Topic4\", \"Topic4\", \"Topic4\", \"Topic4\", \"Topic4\", \"Topic4\", \"Topic5\", \"Topic5\", \"Topic5\", \"Topic5\", \"Topic5\", \"Topic5\", \"Topic5\", \"Topic5\", \"Topic5\", \"Topic5\", \"Topic5\", \"Topic5\", \"Topic5\", \"Topic5\", \"Topic5\", \"Topic5\", \"Topic5\", \"Topic5\", \"Topic5\", \"Topic5\", \"Topic5\", \"Topic5\", \"Topic5\", \"Topic5\", \"Topic5\", \"Topic5\", \"Topic5\", \"Topic5\", \"Topic5\", \"Topic5\", \"Topic5\", \"Topic5\", \"Topic5\", \"Topic5\", \"Topic5\", \"Topic5\", \"Topic5\", \"Topic5\", \"Topic5\", \"Topic5\", \"Topic5\", \"Topic5\", \"Topic5\", \"Topic5\", \"Topic5\", \"Topic5\", \"Topic5\", \"Topic5\", \"Topic5\", \"Topic5\", \"Topic5\", \"Topic5\", \"Topic5\", \"Topic5\", \"Topic5\", \"Topic5\", \"Topic5\", \"Topic5\", \"Topic5\", \"Topic5\", \"Topic5\", \"Topic5\", \"Topic5\", \"Topic6\", \"Topic6\", \"Topic6\", \"Topic6\", \"Topic6\", \"Topic6\", \"Topic6\", \"Topic6\", \"Topic6\", \"Topic6\", \"Topic6\", \"Topic6\", \"Topic6\", \"Topic6\", \"Topic6\", \"Topic6\", \"Topic6\", \"Topic6\", \"Topic6\", \"Topic6\", \"Topic6\", \"Topic6\", \"Topic6\", \"Topic6\", \"Topic6\", \"Topic6\", \"Topic6\", \"Topic6\", \"Topic6\", \"Topic6\", \"Topic6\", \"Topic6\", \"Topic6\", \"Topic6\", \"Topic6\", \"Topic6\", \"Topic6\", \"Topic6\", \"Topic6\", \"Topic6\", \"Topic6\", \"Topic6\", \"Topic6\", \"Topic6\", \"Topic6\", \"Topic6\", \"Topic6\", \"Topic6\", \"Topic6\", \"Topic6\", \"Topic6\", \"Topic6\", \"Topic6\", \"Topic6\", \"Topic6\", \"Topic6\", \"Topic6\", \"Topic6\", \"Topic6\", \"Topic6\", \"Topic6\", \"Topic6\", \"Topic6\", \"Topic7\", \"Topic7\", \"Topic7\", \"Topic7\", \"Topic7\", \"Topic7\", \"Topic7\", \"Topic7\", \"Topic7\", \"Topic7\", \"Topic7\", \"Topic7\", \"Topic7\", \"Topic7\", \"Topic7\", \"Topic7\", \"Topic7\", \"Topic7\", \"Topic7\", \"Topic7\", \"Topic7\", \"Topic7\", \"Topic7\", \"Topic7\", \"Topic7\", \"Topic7\", \"Topic7\", \"Topic7\", \"Topic7\", \"Topic7\", \"Topic7\", \"Topic7\", \"Topic7\", \"Topic7\", \"Topic7\", \"Topic7\", \"Topic7\", \"Topic7\", \"Topic7\", \"Topic7\", \"Topic7\", \"Topic7\", \"Topic7\", \"Topic7\", \"Topic7\", \"Topic7\", \"Topic7\", \"Topic7\", \"Topic7\", \"Topic7\", \"Topic7\", \"Topic7\", \"Topic7\", \"Topic7\", \"Topic7\", \"Topic7\", \"Topic7\", \"Topic7\", \"Topic7\", \"Topic7\", \"Topic7\", \"Topic8\", \"Topic8\", \"Topic8\", \"Topic8\", \"Topic8\", \"Topic8\", \"Topic8\", \"Topic8\", \"Topic8\", \"Topic8\", \"Topic8\", \"Topic8\", \"Topic8\", \"Topic8\", \"Topic8\", \"Topic8\", \"Topic8\", \"Topic8\", \"Topic8\", \"Topic8\", \"Topic8\", \"Topic8\", \"Topic8\", \"Topic8\", \"Topic8\", \"Topic8\", \"Topic8\", \"Topic8\", \"Topic8\", \"Topic8\", \"Topic8\", \"Topic8\", \"Topic8\", \"Topic8\", \"Topic8\", \"Topic8\", \"Topic8\", \"Topic8\", \"Topic8\", \"Topic8\", \"Topic8\", \"Topic8\", \"Topic8\", \"Topic8\", \"Topic8\", \"Topic8\", \"Topic8\", \"Topic8\", \"Topic8\", \"Topic8\", \"Topic8\", \"Topic8\", \"Topic8\", \"Topic8\", \"Topic8\", \"Topic8\", \"Topic8\", \"Topic8\", \"Topic8\", \"Topic8\", \"Topic8\", \"Topic8\", \"Topic8\", \"Topic8\", \"Topic8\", \"Topic8\", \"Topic8\", \"Topic8\", \"Topic8\", \"Topic8\", \"Topic8\", \"Topic8\", \"Topic9\", \"Topic9\", \"Topic9\", \"Topic9\", \"Topic9\", \"Topic9\", \"Topic9\", \"Topic9\", \"Topic9\", \"Topic9\", \"Topic9\", \"Topic9\", \"Topic9\", \"Topic9\", \"Topic9\", \"Topic9\", \"Topic9\", \"Topic9\", \"Topic9\", \"Topic9\", \"Topic9\", \"Topic9\", \"Topic9\", \"Topic9\", \"Topic9\", \"Topic9\", \"Topic9\", \"Topic9\", \"Topic9\", \"Topic9\", \"Topic9\", \"Topic9\", \"Topic9\", \"Topic9\", \"Topic9\", \"Topic9\", \"Topic9\", \"Topic9\", \"Topic9\", \"Topic9\", \"Topic9\", \"Topic9\", \"Topic9\", \"Topic9\", \"Topic9\", \"Topic9\", \"Topic9\", \"Topic9\", \"Topic9\", \"Topic9\", \"Topic9\", \"Topic9\", \"Topic9\", \"Topic9\", \"Topic9\", \"Topic9\", \"Topic9\", \"Topic9\", \"Topic9\", \"Topic9\", \"Topic10\", \"Topic10\", \"Topic10\", \"Topic10\", \"Topic10\", \"Topic10\", \"Topic10\", \"Topic10\", \"Topic10\", \"Topic10\", \"Topic10\", \"Topic10\", \"Topic10\", \"Topic10\", \"Topic10\", \"Topic10\", \"Topic10\", \"Topic10\", \"Topic10\", \"Topic10\", \"Topic10\", \"Topic10\", \"Topic10\", \"Topic10\", \"Topic10\", \"Topic10\", \"Topic10\", \"Topic10\", \"Topic10\", \"Topic10\", \"Topic10\", \"Topic10\", \"Topic10\", \"Topic10\", \"Topic10\", \"Topic10\", \"Topic10\", \"Topic10\", \"Topic10\", \"Topic10\", \"Topic10\", \"Topic10\", \"Topic10\", \"Topic10\", \"Topic10\", \"Topic10\", \"Topic10\", \"Topic10\", \"Topic10\", \"Topic10\", \"Topic10\", \"Topic10\", \"Topic10\", \"Topic10\", \"Topic10\", \"Topic10\", \"Topic10\", \"Topic10\", \"Topic10\", \"Topic10\", \"Topic10\", \"Topic10\", \"Topic10\", \"Topic10\", \"Topic10\", \"Topic10\", \"Topic10\", \"Topic10\", \"Topic10\", \"Topic10\", \"Topic10\", \"Topic10\", \"Topic10\", \"Topic10\", \"Topic10\"], \"logprob\": [30.0, 29.0, 28.0, 27.0, 26.0, 25.0, 24.0, 23.0, 22.0, 21.0, 20.0, 19.0, 18.0, 17.0, 16.0, 15.0, 14.0, 13.0, 12.0, 11.0, 10.0, 9.0, 8.0, 7.0, 6.0, 5.0, 4.0, 3.0, 2.0, 1.0, -5.9302, -5.7536, -5.9622, -6.2098, -6.2386, -6.2399, -6.5994, -6.5994, -6.5994, -6.5994, -6.5995, -6.5995, -6.5995, -6.601, -6.6062, -6.613, -6.3284, -6.6184, -6.6198, -6.6198, -6.6265, -6.6272, -6.632, -5.9392, -6.637, -5.9578, -6.6566, -5.7185, -6.2214, -6.2309, -5.96, -5.6148, -6.2498, -5.8413, -5.7719, -5.9302, -5.9258, -5.9365, -5.7331, -5.9499, -4.7608, -5.5999, -5.4892, -5.1991, -5.2468, -6.076, -5.8693, -5.3716, -5.1798, -5.189, -5.7681, -5.3474, -5.5563, -5.4662, -5.2252, -5.495, -5.1589, -5.1, -5.4725, -5.2159, -5.4553, -5.2031, -5.383, -5.3856, -5.4067, -5.4039, -5.6193, -5.7273, -5.5922, -5.6169, -5.6441, -5.7139, -5.9579, -5.958, -5.958, -6.2376, -5.5606, -6.627, -6.627, -6.627, -6.627, -6.627, -6.6271, -6.6271, -6.6271, -6.6271, -6.6271, -6.6271, -6.6283, -6.6332, -6.6352, -6.639, -6.647, -6.65, -6.6522, -6.6528, -6.6551, -6.6565, -6.6574, -5.9579, -6.0169, -6.2368, -5.9579, -6.2376, -5.3293, -6.2375, -6.2376, -4.9933, -6.0204, -4.4697, -5.7443, -5.8838, -5.7535, -5.279, -5.1848, -4.8752, -5.7933, -6.3041, -5.7489, -5.4113, -5.15, -5.7936, -6.2384, -5.9518, -5.4198, -5.6387, -5.7411, -5.7538, -5.7291, -5.952, -5.8299, -5.6306, -5.7509, -5.7244, -5.7198, -5.8074, -5.7909, -5.8748, -5.8878, -5.9291, -5.5946, -5.9892, -5.9937, -5.994, -5.9978, -6.2371, -6.2482, -6.2703, -6.2712, -6.2744, -6.2796, -6.2828, -6.2841, -6.6133, -6.6133, -6.6133, -6.6134, -6.6134, -6.614, -6.6168, -6.6172, -6.6198, -6.639, -6.64, -6.6422, -6.6425, -6.6511, -6.3665, -6.6691, -6.668, -5.9715, -6.0112, -6.0339, -6.2286, -5.9016, -5.7464, -5.9443, -5.5469, -5.722, -5.9505, -6.2908, -5.9443, -5.5469, -5.5678, -6.2238, -5.8901, -5.6595, -5.5718, -5.1419, -5.5459, -5.2093, -5.3297, -5.644, -5.6985, -5.8118, -5.4364, -5.409, -5.4796, -5.8198, -5.547, -5.4575, -5.5622, -5.6386, -5.6164, -5.7109, -5.6088, -5.8208, -5.7611, -5.7087, -5.8217, -6.1779, -5.9636, -6.5673, -6.5673, -6.5673, -6.5674, -6.5722, -6.5724, -6.5789, -6.589, -6.5909, -6.5973, -6.6166, -6.6203, -6.638, -5.9586, -6.1778, -6.1856, -6.1779, -6.187, -6.191, -5.9624, -7.2141, -7.2141, -7.2141, -7.2141, -7.2141, -7.2141, -7.2141, -7.2141, -5.7175, -6.1778, -6.5673, -6.5673, -6.5726, -6.1935, -6.5783, -6.2255, -5.9598, -5.8982, -5.915, -5.7138, -5.8933, -5.6899, -5.6933, -5.2311, -5.6726, -5.9611, -5.4986, -5.7388, -5.7023, -6.1778, -5.344, -5.6034, -5.925, -5.5094, -5.6394, -5.6752, -5.9083, -5.9482, -5.8976, -5.7372, -5.6566, -5.6811, -5.9898, -5.9647, -5.8876, -5.79, -5.8939, -5.8922, -5.8994, -5.9108, -5.9447, -6.1563, -6.1947, -6.1948, -6.1948, -6.2093, -6.2127, -6.2211, -6.5458, -6.5458, -6.5458, -6.5458, -6.5458, -6.5459, -6.5478, -6.5785, -6.5854, -6.6031, -6.6031, -6.6031, -6.6031, -6.3309, -6.6832, -5.7053, -5.8768, -6.7287, -6.7287, -5.3585, -6.242, -6.7659, -5.6823, -5.2328, -5.3183, -5.526, -5.7152, -5.0374, -5.2157, -4.9957, -6.1679, -5.3462, -4.9252, -5.9307, -5.9426, -6.1811, -5.9244, -6.1948, -5.6801, -5.9201, -5.3263, -5.2636, -5.493, -5.6599, -5.671, -5.5497, -5.4046, -5.4924, -5.7177, -5.7287, -5.7635, -5.6538, -5.7199, -5.8244, -5.8686, -5.8557, -5.6382, -5.8837, -5.3179, -6.1361, -6.1361, -6.1469, -5.4781, -5.4836, -6.5256, -6.5256, -6.5256, -6.5256, -6.5256, -6.5256, -6.5256, -6.5256, -6.5256, -6.5256, -6.5257, -6.5257, -6.5344, -6.5357, -6.5361, -6.5364, -6.5368, -6.5398, -6.5405, -5.8565, -6.5521, -6.5545, -5.9151, -5.6576, -4.5617, -6.146, -6.1412, -4.3952, -5.9151, -5.6759, -5.2637, -4.8301, -5.5568, -5.735, -5.0793, -5.534, -4.9796, -5.5839, -5.3228, -5.3518, -5.3266, -5.3934, -6.1394, -5.4468, -5.3338, -5.671, -5.6681, -5.5994, -5.8565, -5.6706, -5.6215, -5.5461, -5.6173, -5.6508, -5.6735, -5.4273, -5.8246, -5.8246, -5.8246, -5.8247, -6.1042, -6.1042, -6.1042, -6.1042, -6.1042, -6.1042, -6.1042, -6.1042, -6.1042, -6.1042, -5.9011, -6.1415, -6.1779, -6.4937, -6.4937, -6.4937, -6.4937, -6.4937, -6.4937, -6.4937, -6.4938, -6.5198, -5.8246, -6.5302, -4.923, -5.8755, -5.8793, -5.8801, -5.8221, -5.2737, -5.8227, -6.1042, -5.0325, -5.4581, -4.936, -5.1481, -4.8316, -5.3043, -5.6501, -5.6322, -5.2532, -5.3322, -5.8246, -5.9156, -5.6579, -5.8787, -5.6353, -5.8356, -5.6364, -5.6204, -5.6699, -5.5016, -5.6065, -5.7696, -5.823, -5.8057, -6.0946, -6.1216, -6.1412, -6.4673, -6.4673, -6.4673, -6.4673, -6.4673, -6.4673, -6.4673, -6.4763, -6.4834, -6.4934, -6.0016, -6.0016, -6.0016, -6.0016, -6.5096, -6.5149, -6.5245, -6.5245, -6.0778, -7.114, -7.114, -7.114, -7.114, -7.114, -7.114, -7.114, -7.114, -6.4732, -6.4673, -6.4673, -6.4673, -6.4792, -6.4743, -6.0965, -5.843, -5.5054, -6.0016, -5.0266, -5.4098, -6.0016, -5.6447, -4.9997, -5.3226, -5.6027, -5.8182, -5.1647, -5.7443, -5.5936, -5.2731, -5.8165, -5.8228, -5.5648, -5.7867, -5.3846, -5.3109, -5.5981, -5.4212, -5.4138, -5.5086, -5.782, -5.8136, -5.8102, -5.8104, -5.8047, -5.7697, -5.8214, -5.7871, -5.7889, -5.8038, -5.6383, -5.6474, -5.8665, -6.1007, -6.477, -6.477, -6.477, -6.477, -6.477, -6.477, -6.477, -6.477, -6.477, -6.4771, -6.4771, -6.4847, -6.4956, -6.4975, -6.5181, -6.5342, -6.5342, -6.5342, -6.5342, -6.5375, -5.7212, -6.5839, -6.586, -6.5906, -6.592, -6.1028, -5.6247, -5.8963, -5.1505, -5.8168, -5.2943, -6.0876, -4.9646, -5.4496, -5.2135, -5.8083, -5.4929, -5.8463, -5.8079, -5.4107, -5.3413, -5.6192, -6.1428, -6.1469, -5.9898, -5.603, -5.4627, -5.8064, -5.3615, -5.6157, -5.8898, -5.8602, -5.823, -5.7089, -5.8293, -5.9792, -6.0366, -6.0561, -6.4066, -6.4067, -6.4067, -6.4067, -6.4067, -6.4299, -6.1455, -6.4372, -6.4639, -6.4639, -6.4639, -6.4639, -5.7693, -6.4659, -6.4667, -7.0534, -7.0534, -7.0534, -7.0534, -7.0534, -7.0534, -7.0534, -7.0534, -7.0534, -7.0534, -7.0534, -7.0534, -7.0534, -5.8097, -5.7378, -6.0213, -6.4067, -6.4067, -6.4147, -6.4066, -6.4066, -6.4185, -6.414, -6.0636, -4.4527, -5.7376, -5.8402, -4.7124, -5.5313, -5.7413, -5.6779, -6.025, -4.8662, -5.193, -5.6087, -5.7375, -6.0372, -6.0618, -6.0668, -5.5314, -5.7484, -5.5414, -5.7467, -6.0902, -6.0917, -6.056, -5.7376, -5.545, -5.653, -5.6034, -6.0042, -5.7416, -5.8873, -5.8339, -5.9728, -5.985, -6.0011, -6.0025], \"loglift\": [30.0, 29.0, 28.0, 27.0, 26.0, 25.0, 24.0, 23.0, 22.0, 21.0, 20.0, 19.0, 18.0, 17.0, 16.0, 15.0, 14.0, 13.0, 12.0, 11.0, 10.0, 9.0, 8.0, 7.0, 6.0, 5.0, 4.0, 3.0, 2.0, 1.0, 2.0007, 1.9948, 1.9709, 1.9467, 1.9194, 1.9183, 1.849, 1.849, 1.849, 1.849, 1.8488, 1.8488, 1.8488, 1.8474, 1.8425, 1.8359, 1.8333, 1.8304, 1.8295, 1.8294, 1.8234, 1.8227, 1.8182, 1.8149, 1.8124, 1.8027, 1.7942, 1.7571, 1.7255, 1.7084, 1.6467, 1.5478, 1.6949, 1.5173, 1.4855, 1.5496, 1.546, 1.5382, 1.4308, 1.5257, 0.9395, 1.3219, 1.2373, 1.069, 1.0612, 1.5323, 1.3862, 1.0625, 0.9255, 0.8839, 1.3117, 0.9605, 1.1218, 1.0117, 0.6642, 0.979, 0.5662, 0.4114, 0.9156, 0.5045, 0.8534, 0.3129, 0.6305, 0.6097, 0.5555, 0.3824, 0.9072, 1.1326, 0.4911, 0.4565, 0.2981, 0.7261, 2.001, 2.001, 2.001, 1.9453, 1.9333, 1.8447, 1.8447, 1.8447, 1.8447, 1.8447, 1.8447, 1.8447, 1.8447, 1.8447, 1.8447, 1.8447, 1.8435, 1.8388, 1.8367, 1.833, 1.8249, 1.8225, 1.8199, 1.8192, 1.8172, 1.8162, 1.815, 1.8123, 1.7631, 1.7277, 1.6682, 1.727, 1.5205, 1.7219, 1.7217, 1.3267, 1.6093, 1.0417, 1.4281, 1.4923, 1.4161, 1.1673, 1.1008, 0.911, 1.3794, 1.661, 1.2608, 1.035, 0.8185, 1.2153, 1.5467, 1.3148, 0.7866, 0.946, 1.0005, 0.9938, 0.9001, 1.2262, 0.8967, 0.0945, 0.4924, 0.1938, -0.0176, 0.5126, 0.1513, 0.4333, 0.5534, -0.0398, 2.0276, 1.9712, 1.9666, 1.9662, 1.9628, 1.9467, 1.9348, 1.9132, 1.9121, 1.9091, 1.9046, 1.9018, 1.9002, 1.859, 1.859, 1.859, 1.859, 1.859, 1.8583, 1.8555, 1.8551, 1.8526, 1.8327, 1.8316, 1.8294, 1.8291, 1.8223, 1.8146, 1.8044, 1.8038, 1.799, 1.7695, 1.7431, 1.7246, 1.5929, 1.5142, 1.5619, 1.3782, 1.4513, 1.5433, 1.675, 1.4376, 1.0768, 1.0574, 1.5612, 1.2881, 1.0926, 0.9994, 0.5602, 0.9311, 0.5111, 0.6325, 0.9845, 1.0421, 1.2058, 0.6174, 0.5595, 0.5938, 1.1985, 0.6754, 0.4608, 0.6443, 0.8027, 0.6693, 0.9201, 0.4046, 1.19, 0.8714, 0.2186, 0.4609, 2.0062, 1.9985, 1.9055, 1.9055, 1.9055, 1.9055, 1.9007, 1.9005, 1.8943, 1.8838, 1.8828, 1.8756, 1.8563, 1.8525, 1.835, 1.8201, 1.7918, 1.784, 1.7838, 1.7825, 1.7629, 1.6723, 1.6665, 1.6665, 1.6665, 1.6665, 1.6665, 1.6665, 1.6665, 1.6665, 1.6616, 1.6092, 1.6288, 1.6288, 1.6184, 1.5897, 1.6123, 1.567, 1.5364, 1.4851, 1.4695, 1.3793, 1.378, 1.25, 1.1756, 0.7823, 1.1288, 1.3075, 0.8591, 1.0105, 0.9261, 1.4556, 0.381, 0.6793, 1.0781, 0.4598, 0.6287, 0.6336, 1.0287, 1.068, 0.91, 0.3362, 0.0455, 0.0393, 1.1005, 0.9669, 0.5195, -0.274, 0.4262, 0.2131, 0.3071, 0.3362, 0.0238, 2.033, 1.9951, 1.9933, 1.9933, 1.9797, 1.9774, 1.9687, 1.9317, 1.9317, 1.9317, 1.9317, 1.9317, 1.9317, 1.9298, 1.8981, 1.8932, 1.8752, 1.8752, 1.8752, 1.8752, 1.8583, 1.7954, 1.7923, 1.7608, 1.7481, 1.7481, 1.7318, 1.7309, 1.7107, 1.7015, 1.6453, 1.6214, 1.5517, 1.5723, 1.2705, 1.2582, 1.0771, 1.6144, 1.1005, 0.7769, 1.4548, 1.4396, 1.5996, 1.3534, 1.5978, 1.0674, 1.2638, 0.601, 0.4568, 0.7227, 0.7843, 0.7709, 0.5237, 0.1114, 0.2939, 0.8087, 0.7113, 0.7273, 0.3596, 0.1983, 0.4437, 0.8236, 0.0337, 2.1592, 2.0957, 2.0748, 2.0659, 2.0659, 2.0552, 2.0327, 2.0269, 1.9632, 1.9632, 1.9632, 1.9632, 1.9632, 1.9632, 1.9632, 1.9632, 1.9632, 1.9632, 1.9631, 1.9631, 1.9542, 1.9529, 1.9525, 1.9522, 1.9518, 1.9492, 1.9485, 1.9449, 1.9367, 1.934, 1.8821, 1.7417, 1.4075, 1.8342, 1.8261, 1.1208, 1.7101, 1.6122, 1.3797, 1.1724, 1.4671, 1.5509, 1.1733, 1.4031, 1.0156, 1.3639, 1.168, 1.1478, 1.1161, 1.1038, 1.6591, 1.0797, 0.9095, 1.267, 1.2055, 1.0463, 1.4264, 0.9616, 0.6009, -0.0347, 0.3009, 0.0742, 0.2687, 2.2191, 2.1574, 2.1574, 2.1574, 2.1574, 2.1003, 2.1003, 2.1003, 2.1003, 2.1003, 2.1003, 2.1003, 2.1003, 2.1003, 2.1003, 2.0792, 2.0635, 2.0261, 1.9973, 1.9973, 1.9973, 1.9973, 1.9973, 1.9973, 1.9973, 1.9972, 1.9715, 1.971, 1.9608, 1.9592, 1.9204, 1.9166, 1.9157, 1.8224, 1.6766, 1.817, 1.881, 1.4646, 1.5661, 1.2863, 1.3514, 0.8687, 1.2403, 1.5352, 1.3917, 0.7492, 0.663, 1.5643, 1.7354, 1.1465, 1.6174, 1.0593, 1.4525, 0.9485, 0.8215, 0.9626, 0.0144, 0.407, 1.0303, 1.3671, 1.1521, 2.1085, 2.0818, 2.0635, 2.0232, 2.0232, 2.0232, 2.0232, 2.0232, 2.0232, 2.0232, 2.0142, 2.0071, 1.9967, 1.9823, 1.9823, 1.9823, 1.9823, 1.9801, 1.9761, 1.9658, 1.9657, 1.9069, 1.7798, 1.7798, 1.7798, 1.7798, 1.7798, 1.7798, 1.7798, 1.7798, 1.731, 1.73, 1.73, 1.7296, 1.7301, 1.7287, 1.6951, 1.6669, 1.6024, 1.6378, 1.0567, 1.2294, 1.5048, 1.2952, 0.9425, 1.1217, 1.1987, 1.3663, 0.7535, 1.28, 1.0864, 0.6891, 1.2747, 1.2765, 0.9311, 1.163, 0.5839, 0.3912, 0.7218, 0.3038, 0.0975, 0.2118, 0.9702, 1.0578, 0.6361, 0.6359, 0.5665, 0.2327, 0.6243, 0.3182, -0.0027, 0.2697, 2.1723, 2.1619, 2.1272, 2.1155, 2.0244, 2.0244, 2.0244, 2.0244, 2.0244, 2.0244, 2.0243, 2.0243, 2.0243, 2.0243, 2.0243, 2.0165, 2.0047, 2.0039, 1.982, 1.9665, 1.9665, 1.9665, 1.9654, 1.9607, 1.9284, 1.9131, 1.9108, 1.9058, 1.9044, 1.8831, 1.7786, 1.7506, 1.5552, 1.6998, 1.3425, 1.724, 1.0892, 1.3107, 1.1196, 1.468, 1.1529, 1.4324, 1.3838, 0.9963, 0.8744, 1.1314, 1.6705, 1.6557, 1.4026, 0.8427, 0.6206, 1.0769, 0.3635, 0.7044, 1.0598, 0.9475, 0.5347, -0.1929, -0.1089, 0.3065, 2.1833, 2.1632, 2.0985, 2.0985, 2.0985, 2.0985, 2.0985, 2.075, 2.0729, 2.0673, 2.0393, 2.0393, 2.0393, 2.0393, 2.0393, 2.0378, 2.0369, 1.8514, 1.8514, 1.8514, 1.8514, 1.8514, 1.8514, 1.8514, 1.8514, 1.8514, 1.8514, 1.8514, 1.8514, 1.8514, 1.8344, 1.7866, 1.7884, 1.8124, 1.8124, 1.8041, 1.8034, 1.8012, 1.8003, 1.7958, 1.7369, 1.4746, 1.6597, 1.6714, 1.4103, 1.4973, 1.5463, 1.5088, 1.6286, 1.0232, 1.1781, 1.2723, 1.3655, 1.6074, 1.5909, 1.5838, 0.9153, 1.0651, 0.7056, 1.0026, 1.553, 1.5514, 1.4615, 0.8515, 0.4235, 0.6296, 0.3148, 1.2922, -0.2302, 0.6035, 0.2198, 0.2798, 0.1203, 0.2212, -0.2163]}, \"token.table\": {\"Topic\": [3, 10, 5, 7, 9, 7, 1, 5, 8, 9, 3, 6, 5, 9, 9, 10, 2, 3, 4, 5, 6, 7, 8, 1, 2, 3, 7, 8, 10, 5, 10, 4, 10, 2, 8, 3, 4, 6, 7, 9, 10, 5, 6, 7, 1, 9, 4, 9, 7, 2, 3, 4, 5, 7, 8, 10, 1, 4, 5, 7, 5, 7, 2, 6, 7, 8, 9, 1, 1, 2, 8, 10, 1, 2, 7, 8, 8, 9, 2, 8, 1, 2, 3, 4, 5, 6, 7, 8, 9, 10, 1, 2, 3, 4, 5, 6, 7, 6, 2, 4, 6, 8, 5, 4, 2, 1, 4, 5, 7, 9, 5, 4, 1, 1, 2, 3, 5, 6, 7, 9, 2, 6, 7, 8, 9, 6, 1, 2, 3, 5, 6, 7, 8, 1, 2, 3, 4, 5, 6, 7, 8, 10, 6, 10, 5, 1, 2, 4, 5, 9, 10, 6, 10, 1, 2, 3, 4, 9, 10, 10, 3, 7, 10, 1, 1, 3, 4, 5, 6, 7, 8, 9, 10, 1, 2, 6, 8, 9, 3, 6, 1, 9, 1, 2, 3, 6, 8, 4, 8, 10, 1, 7, 7, 2, 3, 4, 5, 6, 8, 9, 10, 1, 1, 1, 4, 5, 6, 7, 8, 9, 10, 10, 3, 7, 2, 4, 6, 7, 3, 2, 1, 4, 5, 8, 1, 2, 3, 10, 1, 2, 3, 4, 6, 8, 9, 10, 4, 7, 9, 1, 2, 3, 7, 9, 10, 5, 7, 1, 2, 6, 8, 9, 10, 2, 5, 7, 10, 6, 1, 2, 3, 4, 5, 6, 8, 9, 3, 5, 7, 10, 2, 8, 3, 5, 8, 8, 1, 2, 9, 10, 7, 6, 3, 3, 4, 8, 9, 1, 2, 3, 4, 5, 6, 8, 10, 3, 10, 4, 3, 4, 5, 7, 8, 9, 10, 2, 1, 2, 5, 6, 7, 10, 1, 7, 10, 2, 6, 7, 9, 3, 2, 3, 4, 5, 6, 8, 9, 10, 6, 7, 3, 4, 9, 1, 2, 3, 4, 5, 8, 9, 10, 4, 1, 2, 3, 4, 5, 6, 7, 8, 9, 10, 1, 2, 3, 5, 6, 7, 8, 2, 7, 9, 2, 4, 5, 6, 7, 8, 9, 10, 4, 9, 1, 7, 10, 3, 9, 10, 5, 8, 3, 4, 8, 10, 7, 6, 1, 2, 3, 4, 5, 6, 8, 9, 10, 10, 3, 7, 8, 10, 3, 10, 3, 4, 5, 9, 3, 5, 2, 7, 9, 1, 3, 4, 5, 6, 8, 9, 5, 8, 9, 3, 9, 10, 6, 8, 2, 3, 2, 6, 1, 3, 3, 7, 4, 6, 8, 10, 4, 10, 1, 2, 3, 4, 5, 6, 7, 9, 7, 1, 2, 1, 2, 8, 1, 2, 4, 5, 7, 9, 10, 2, 3, 4, 5, 6, 8, 10, 2, 8, 4, 8, 9, 10, 3, 10, 1, 2, 3, 4, 5, 7, 8, 2, 4, 8, 10, 1, 5, 3, 5, 8, 10, 1, 3, 4, 6, 8, 1, 6, 3, 6, 7, 1, 2, 3, 4, 7, 8, 9, 10, 1, 3, 5, 1, 4, 5, 6, 7, 10, 1, 2, 3, 4, 5, 6, 7, 8, 9, 2, 6, 7, 1, 2, 3, 4, 6, 8, 9, 10, 9, 1, 2, 3, 4, 5, 7, 8, 9, 10, 1, 2, 4, 8, 1, 1, 2, 4, 5, 6, 7, 8, 9, 10, 1, 2, 3, 4, 5, 7, 8, 9, 10, 3, 4, 6, 8, 9, 10, 1, 6, 8, 5, 10, 10, 9, 1, 4, 3, 1, 2, 3, 4, 7, 8, 9, 10, 3, 6, 7, 10, 8, 4, 8, 1, 1, 2, 3, 9, 8, 6, 1, 2, 3, 8, 9, 5, 1, 2, 3, 4, 5, 6, 8, 9, 10, 4, 10, 1, 3, 4, 5, 7, 8, 9, 6, 7, 3, 4, 5, 10, 4, 5, 7, 2, 8, 1, 2, 3, 4, 5, 6, 8, 9, 10, 2, 3, 8, 9, 1, 1, 6, 10, 4, 7, 2, 4, 2, 6, 8, 9, 10, 4, 10, 4, 6, 8, 1, 8, 3, 4, 5, 8, 1, 2, 3, 4, 5, 6, 7, 8, 9, 7, 9, 9, 1, 5, 2, 3, 4, 9, 10, 7, 9, 2, 4, 7, 10, 1, 5, 7, 8, 9, 2, 4, 9, 1, 2, 3, 4, 5, 6, 7, 8, 9, 10, 10, 5, 1, 3, 4, 5, 7, 8, 9, 10, 3, 4, 5, 10, 1, 2, 5, 7, 9, 1, 2, 4, 5, 6, 7, 8, 9, 10, 5, 6, 9, 7, 1, 2, 3, 4, 6, 8, 9, 10, 2, 3, 7, 8, 9, 10, 2, 4, 5, 6, 8, 10, 4, 5, 7, 9, 5, 1, 3, 7, 10, 1, 2, 5, 6, 7, 8, 9, 10, 1, 2, 3, 5, 6, 8, 9, 10, 10, 3, 4, 5, 6, 7, 9, 10, 1, 9, 8, 9, 1, 7, 8, 1, 2, 3, 4, 7, 8, 9, 7, 9, 2, 3, 4, 6, 7, 8, 9, 10, 10, 1, 9, 9, 4, 1, 3, 4, 6, 8, 9, 1, 2, 3, 4, 5, 6, 8, 9, 10, 9, 1, 2, 3, 4, 5, 6, 9, 10, 1, 3, 8, 4, 10, 1, 3, 6, 7, 1, 2, 3, 4, 5, 7, 8, 10, 4, 2, 2, 5, 6, 7, 8, 9, 4, 3, 1, 2, 3, 4, 5, 8, 9, 10, 1, 2, 3, 4, 5, 7, 8, 9, 10, 3, 5, 6, 1, 2, 4, 5, 8, 1, 4, 7, 9, 1, 2, 4, 5, 6, 7, 8, 9, 2, 3, 4, 5, 6, 7, 8, 10, 2, 3, 9, 1, 2, 1, 1, 2, 3, 4, 5, 8, 1, 4, 1, 2, 3, 4, 7, 8, 8, 7, 9, 1, 3, 4, 5, 6, 7, 8, 9, 10, 2, 4, 6, 7, 8, 9, 10, 7, 2, 9, 3, 4, 5, 6, 9, 10, 2, 3, 4, 6, 7, 9, 5, 8, 10, 4, 9, 4, 9, 10, 1, 2, 3, 4, 5, 6, 7, 8, 9, 1, 2, 3, 4, 6, 7, 9, 9, 2, 4, 5, 6, 8, 9, 2, 4, 1, 3, 1, 3, 4, 5, 6, 8, 9, 10, 3, 9, 1, 5, 6, 9, 2, 6, 10, 1, 3, 4, 6, 7, 10, 7, 4, 10, 2, 4, 8, 9, 4, 2, 4, 6, 8, 9, 10, 10, 3, 7, 8, 8, 9, 8, 5, 2, 4, 10, 6, 8, 9, 6, 9, 10, 6, 2, 9, 1, 2, 3, 4, 5, 6, 7, 8, 4, 6, 8, 9, 1, 4, 5, 6, 7, 9, 2, 8, 2, 3, 1, 5, 10, 3, 4, 6, 10, 6, 4, 3, 4, 5, 6, 8, 9, 10, 9, 6, 7, 7, 9, 10, 2, 8, 8, 1, 2, 3, 6, 8, 9, 10, 4, 5, 8, 10, 3, 8, 3, 4, 8, 9, 9, 7, 2, 2, 10, 3, 5, 7, 1, 2, 3, 4, 6, 7, 8, 6, 8, 1, 2, 3, 5, 7, 8, 10, 6, 1, 2, 3, 2, 5, 7, 10, 4, 5, 9, 2, 3, 4, 6, 7, 8, 1, 2, 4, 5, 6, 8, 9, 5, 10, 7, 3, 4, 6, 7, 10, 2, 8, 6, 5, 7, 8, 5, 7, 8, 10, 3, 4, 10, 3, 9, 5, 1, 2, 3, 4, 5, 7, 8, 3, 4, 9, 10, 6, 3, 7, 10, 1, 2, 3, 5, 2, 3, 4, 7, 3, 6, 2, 10, 2, 8, 9, 3, 4, 7, 8, 9, 10, 1, 2, 8, 9, 9, 1, 4, 5, 6, 7, 8, 9, 10, 1, 3, 4, 5, 7, 10, 6, 4, 7, 6, 1, 2, 3, 4, 5, 6, 7, 8, 9, 10, 1, 2, 3, 4, 5, 7, 8, 4, 6, 3, 5, 7, 9, 2, 10, 7, 10, 8, 7, 3, 5, 6, 7, 8, 9, 10, 2, 3, 4, 5, 6, 8, 9, 10, 4, 5, 8, 9, 1, 3, 4, 5, 7, 8, 9, 6, 1, 1, 3, 10, 2, 7, 8, 9, 10, 2, 1, 8, 1, 3, 4, 6, 8, 9, 2, 7, 7, 1, 4, 7, 4, 5, 8, 2, 9, 1, 3, 4, 5, 6, 7, 8, 9, 10, 2, 6, 2, 4, 1, 2, 4, 5, 6, 7, 8, 5, 5, 2, 4, 7, 7, 2, 5, 7, 9, 4, 4, 7, 8, 10, 10, 2, 4, 5, 8, 9, 10, 1, 3, 5, 10, 2, 8, 9, 10, 2, 3, 4, 6, 7, 1, 2, 4, 5, 6, 7, 8, 10, 3, 9, 10, 4, 8, 9, 4, 5, 3, 6, 5, 10, 8, 1, 3, 4, 5, 10, 1, 3, 8, 10, 1, 1, 2, 3, 4, 5, 6, 7, 8, 9, 10, 1, 2, 3, 4, 5, 6, 7, 8, 9, 2, 6, 10, 1, 3, 4, 5, 8, 9, 5, 3, 6, 10, 1, 4, 8, 1, 2, 3, 4, 5, 9, 10, 1, 10, 1, 2, 3, 6, 8, 9, 10, 1, 3, 4, 5, 7, 8, 9, 4, 8, 1, 2, 6, 10, 3, 4, 5, 9, 10, 1, 4, 5, 6, 7, 1, 3, 4, 5, 7, 9, 10, 2, 5, 8, 9, 10, 4, 5, 1, 3, 4, 5, 6, 7, 8, 1, 2, 3, 4, 7, 8, 10, 1, 9, 10, 1, 7, 8, 9, 1, 4, 5, 8, 9, 10, 3, 5, 7, 8, 9, 10, 5, 8, 3, 8, 1, 2, 3, 4, 5, 6, 8, 10, 7, 8, 2, 4, 5, 9, 1, 2, 3, 7, 9, 1, 2, 3, 4, 5, 6, 7, 8, 9, 2, 4, 1, 2, 3, 5, 6, 8, 10, 9, 10, 2, 8, 9, 4, 1, 2, 4, 6, 10, 1, 1, 3, 4, 5, 6, 7, 8, 9, 10, 9, 10, 6, 1, 2, 3, 4, 5, 7, 8, 9, 10, 1, 3, 4, 8], \"Freq\": [0.3342876235854264, 0.5014314353781396, 0.22210593129428705, 0.6663177938828612, 0.8993147875086167, 0.8026299428045301, 0.09433643355799415, 0.47168216778997074, 0.09433643355799415, 0.1886728671159883, 0.8736320153546364, 0.889691626466311, 0.5302064385375119, 0.26510321926875596, 0.3390144379714213, 0.6780288759428426, 0.10966680589177775, 0.2193336117835555, 0.3290004176753333, 0.10966680589177775, 0.10966680589177775, 0.10966680589177775, 0.10966680589177775, 0.20663033967077554, 0.13775355978051704, 0.3443838994512926, 0.06887677989025852, 0.06887677989025852, 0.13775355978051704, 0.5343553645705461, 0.4007665234279096, 0.6627973030184711, 0.33139865150923553, 0.33165628166456457, 0.6633125633291291, 0.2302019680612665, 0.0460403936122533, 0.1841615744490132, 0.3222827552857731, 0.0920807872245066, 0.0920807872245066, 0.6581881666766454, 0.6679780156113664, 0.1669945039028416, 0.8543149062099252, 0.899385937415535, 0.26857117077885556, 0.5371423415577111, 0.9562444496093645, 0.08896517142019013, 0.08896517142019013, 0.08896517142019013, 0.17793034284038026, 0.08896517142019013, 0.08896517142019013, 0.2668955142605704, 0.38813177780127767, 0.12937725926709256, 0.25875451853418513, 0.12937725926709256, 0.6582955781712728, 0.8901517019146086, 0.19068900588860893, 0.09534450294430447, 0.47672251472152233, 0.09534450294430447, 0.09534450294430447, 0.8472084706297826, 0.4857149619843984, 0.1619049873281328, 0.1619049873281328, 0.1619049873281328, 0.5184772123013024, 0.1296193030753256, 0.1296193030753256, 0.2592386061506512, 0.5360626629959874, 0.2680313314979937, 0.525790479438088, 0.262895239719044, 0.13917479344110742, 0.13917479344110742, 0.034793698360276855, 0.034793698360276855, 0.06958739672055371, 0.13917479344110742, 0.06958739672055371, 0.243555888521938, 0.06958739672055371, 0.06958739672055371, 0.24609217880780906, 0.08203072626926969, 0.08203072626926969, 0.08203072626926969, 0.08203072626926969, 0.16406145253853938, 0.24609217880780906, 0.6666901419128333, 0.43787334253668586, 0.14595778084556196, 0.14595778084556196, 0.14595778084556196, 0.877354878764108, 0.6570905009466025, 0.87378246917291, 0.1314386435349029, 0.39431593060470865, 0.1314386435349029, 0.1314386435349029, 0.1314386435349029, 0.8788603170320061, 0.6570874250321063, 0.8542776571145652, 0.057308514234802585, 0.17192554270440774, 0.22923405693921034, 0.057308514234802585, 0.17192554270440774, 0.17192554270440774, 0.057308514234802585, 0.19021172629127533, 0.38042345258255067, 0.19021172629127533, 0.09510586314563767, 0.09510586314563767, 0.6668098648457008, 0.0773086404453547, 0.1546172808907094, 0.3092345617814188, 0.1546172808907094, 0.1546172808907094, 0.0773086404453547, 0.1546172808907094, 0.033968292649190344, 0.13587317059676138, 0.16984146324595173, 0.06793658529838069, 0.13587317059676138, 0.13587317059676138, 0.033968292649190344, 0.20380975589514208, 0.10190487794757104, 0.45035418657457005, 0.45035418657457005, 0.878843870245382, 0.2586955912447824, 0.5173911824895648, 0.0862318637482608, 0.0862318637482608, 0.33910140686819623, 0.6782028137363925, 0.6699209329623832, 0.22330697765412771, 0.13756985748902936, 0.20635478623354406, 0.3439246437225734, 0.13756985748902936, 0.13756985748902936, 0.06878492874451468, 0.4505359956391363, 0.6541799288515799, 0.8901690081172647, 0.45053483288336454, 0.8533541226756107, 0.09491119907811738, 0.09491119907811738, 0.09491119907811738, 0.09491119907811738, 0.3321891967734108, 0.09491119907811738, 0.09491119907811738, 0.04745559953905869, 0.09491119907811738, 0.12136738324048378, 0.12136738324048378, 0.12136738324048378, 0.24273476648096756, 0.36410214972145133, 0.6544072416103024, 0.8881587236442813, 0.8550613861429812, 0.8993885598715841, 0.3811582449918606, 0.3049265959934885, 0.07623164899837212, 0.15246329799674424, 0.07623164899837212, 0.5670810079653836, 0.18902700265512787, 0.18902700265512787, 0.5154836508610778, 0.2577418254305389, 0.6683798375721404, 0.13287644132044013, 0.13287644132044013, 0.13287644132044013, 0.13287644132044013, 0.13287644132044013, 0.06643822066022007, 0.06643822066022007, 0.1993146619806602, 0.8529489808013114, 0.8529472781312992, 0.13971534013672623, 0.13971534013672623, 0.06985767006836312, 0.13971534013672623, 0.06985767006836312, 0.3492883503418156, 0.13971534013672623, 0.06985767006836312, 0.9028298431151409, 0.6562597946258405, 0.21875326487528016, 0.40474929194496767, 0.3035619689587257, 0.10118732298624192, 0.20237464597248384, 0.8736605607264254, 0.8733845515770937, 0.4836911732452903, 0.16123039108176343, 0.16123039108176343, 0.16123039108176343, 0.5737208786441144, 0.1434302196610286, 0.1434302196610286, 0.1434302196610286, 0.08315826005462996, 0.16631652010925993, 0.16631652010925993, 0.08315826005462996, 0.16631652010925993, 0.16631652010925993, 0.08315826005462996, 0.24947478016388988, 0.17813490505098464, 0.7125396202039386, 0.08906745252549232, 0.2610571864976071, 0.13052859324880356, 0.32632148312200887, 0.13052859324880356, 0.13052859324880356, 0.9028303754345532, 0.22208263271420914, 0.6662478981426274, 0.10152283550184711, 0.40609134200738845, 0.15228425325277067, 0.20304567100369422, 0.050761417750923556, 0.10152283550184711, 0.14733076834460826, 0.4419923050338248, 0.2946615366892165, 0.14733076834460826, 0.8881655436869856, 0.29723607233011357, 0.05944721446602271, 0.05944721446602271, 0.05944721446602271, 0.11889442893204542, 0.17834164339806813, 0.11889442893204542, 0.11889442893204542, 0.16481182448101334, 0.6592472979240533, 0.16481182448101334, 0.6731681384078445, 0.8731685982541949, 0.6676725696040722, 0.2211464937479409, 0.2211464937479409, 0.4422929874958818, 0.8896702942103113, 0.26416473983725086, 0.13208236991862543, 0.3962471097558763, 0.13208236991862543, 0.6686822661423714, 0.8881613966629174, 0.8730113315735698, 0.87302553319834, 0.8748310829104697, 0.889673603950777, 0.8993819373184645, 0.12043156669714122, 0.06021578334857061, 0.06021578334857061, 0.06021578334857061, 0.18064735004571184, 0.3010789167428531, 0.06021578334857061, 0.18064735004571184, 0.8746034072115896, 0.6731695468755591, 0.6570897541456895, 0.147674921027451, 0.147674921027451, 0.0738374605137255, 0.295349842054902, 0.147674921027451, 0.147674921027451, 0.6731698468100227, 0.87361495262376, 0.29607556097594884, 0.11843022439037955, 0.35529067317113866, 0.11843022439037955, 0.059215112195189774, 0.059215112195189774, 0.8529432907807931, 0.8901571751084316, 0.9028344562678395, 0.1679709068885765, 0.1679709068885765, 0.1679709068885765, 0.5039127206657295, 0.8737018466617003, 0.26462082330840714, 0.06615520582710178, 0.06615520582710178, 0.13231041165420357, 0.19846561748130534, 0.06615520582710178, 0.06615520582710178, 0.06615520582710178, 0.5340803805528044, 0.2670401902764022, 0.4925651513711543, 0.32837676758076956, 0.16418838379038478, 0.15559414915231667, 0.07779707457615834, 0.19449268644039583, 0.07779707457615834, 0.03889853728807917, 0.03889853728807917, 0.27228976101655417, 0.1166956118642375, 0.657090204176489, 0.1583022479353907, 0.3166044958707814, 0.06784382054373887, 0.045229213695825915, 0.045229213695825915, 0.09045842739165183, 0.045229213695825915, 0.09045842739165183, 0.045229213695825915, 0.06784382054373887, 0.06938664938975804, 0.06938664938975804, 0.27754659755903216, 0.20815994816927413, 0.06938664938975804, 0.27754659755903216, 0.06938664938975804, 0.19089672311688802, 0.5726901693506641, 0.19089672311688802, 0.10286415922950541, 0.10286415922950541, 0.1542962388442581, 0.051432079614752706, 0.10286415922950541, 0.10286415922950541, 0.2571603980737635, 0.10286415922950541, 0.6570902482652782, 0.4494085756248479, 0.6449117700372217, 0.16122794250930542, 0.16122794250930542, 0.4986842359941547, 0.16622807866471823, 0.33245615732943645, 0.6586502134856187, 0.6658301840258537, 0.18878131104704432, 0.37756262209408864, 0.18878131104704432, 0.18878131104704432, 0.890168701645908, 0.8879887339664471, 0.17861569115793074, 0.2679235367368961, 0.08930784557896537, 0.059538563719310246, 0.1488464092982756, 0.059538563719310246, 0.08930784557896537, 0.029769281859655123, 0.059538563719310246, 0.6783777723261002, 0.785377867772324, 0.8026114692300296, 0.6658286535607204, 0.6777388920808408, 0.6549989312353484, 0.6731700457246028, 0.21935608847474175, 0.10967804423737088, 0.5483902211868544, 0.10967804423737088, 0.65498306462771, 0.658636637279207, 0.8731631025759797, 0.8901651631536801, 0.8993818980261243, 0.2509804100308442, 0.1505882460185065, 0.20078432802467536, 0.10039216401233768, 0.1505882460185065, 0.10039216401233768, 0.05019608200616884, 0.3325218066616924, 0.3325218066616924, 0.1662609033308462, 0.7853708564878146, 0.33899820241946776, 0.6779964048389355, 0.6678139823251305, 0.1669534955812826, 0.21792908490919277, 0.6537872547275784, 0.8733504889429244, 0.8879960852957656, 0.2165269160705141, 0.6495807482115423, 0.7852964464929438, 0.8903757208046164, 0.2659336466506747, 0.39890046997601203, 0.13296682332533735, 0.13296682332533735, 0.6627981915700955, 0.3313990957850477, 0.07808753521253359, 0.15617507042506718, 0.07808753521253359, 0.07808753521253359, 0.07808753521253359, 0.15617507042506718, 0.07808753521253359, 0.31235014085013435, 0.6683725033960968, 0.8539172369998069, 0.8732867284386828, 0.5514620556681411, 0.18382068522271372, 0.18382068522271372, 0.07365267032501194, 0.07365267032501194, 0.14730534065002387, 0.22095801097503578, 0.22095801097503578, 0.14730534065002387, 0.07365267032501194, 0.0691056149698816, 0.2764224598795264, 0.2764224598795264, 0.1382112299397632, 0.1382112299397632, 0.0691056149698816, 0.6731662248556655, 0.8731641011694737, 0.44472877300420643, 0.19263014704032805, 0.19263014704032805, 0.19263014704032805, 0.3852602940806561, 0.8736461980831132, 0.6787863483112688, 0.11879171106350374, 0.11879171106350374, 0.29697927765875937, 0.17818756659525561, 0.11879171106350374, 0.11879171106350374, 0.11879171106350374, 0.3319780605762857, 0.11065935352542858, 0.3319780605762857, 0.22131870705085716, 0.6379707738240061, 0.8781986186730143, 0.6544823952140785, 0.442722085673959, 0.2213610428369795, 0.2213610428369795, 0.09408829768809525, 0.09408829768809525, 0.2822648930642857, 0.376353190752381, 0.09408829768809525, 0.37450716318843985, 0.5617607447826597, 0.65463215933944, 0.666691572723531, 0.668381424680529, 0.36312316085097524, 0.07262463217019505, 0.07262463217019505, 0.1452492643403901, 0.07262463217019505, 0.07262463217019505, 0.1452492643403901, 0.1452492643403901, 0.8529487118056583, 0.43747242631799677, 0.43747242631799677, 0.3483938846192124, 0.1741969423096062, 0.1741969423096062, 0.1741969423096062, 0.0870984711548031, 0.1741969423096062, 0.0906353359097733, 0.22658833977443324, 0.22658833977443324, 0.13595300386465994, 0.04531766795488665, 0.04531766795488665, 0.04531766795488665, 0.0906353359097733, 0.0906353359097733, 0.10262705680209215, 0.4105082272083686, 0.4105082272083686, 0.34138896687425313, 0.1137963222914177, 0.1137963222914177, 0.05689816114570885, 0.05689816114570885, 0.05689816114570885, 0.1137963222914177, 0.1137963222914177, 0.8993899580446061, 0.05538381701618672, 0.11076763403237344, 0.11076763403237344, 0.16615145104856016, 0.05538381701618672, 0.05538381701618672, 0.11076763403237344, 0.22153526806474688, 0.11076763403237344, 0.1308195375181808, 0.3924586125545424, 0.2616390750363616, 0.1308195375181808, 0.8530088482378817, 0.2866885779367379, 0.08191102226763941, 0.12286653340145912, 0.08191102226763941, 0.040955511133819705, 0.08191102226763941, 0.12286653340145912, 0.08191102226763941, 0.08191102226763941, 0.8529579091730533, 0.12105160120185252, 0.12105160120185252, 0.12105160120185252, 0.06052580060092626, 0.12105160120185252, 0.24210320240370503, 0.12105160120185252, 0.12105160120185252, 0.10311171063926951, 0.20622342127853902, 0.10311171063926951, 0.10311171063926951, 0.10311171063926951, 0.41244684255707803, 0.2636342280402947, 0.5272684560805894, 0.6658286927741617, 0.33597370268245236, 0.6719474053649047, 0.6731658500551632, 0.44940921209061196, 0.5126884151569335, 0.25634420757846677, 0.8730886345810877, 0.17270002935044354, 0.1151333529002957, 0.1151333529002957, 0.05756667645014785, 0.05756667645014785, 0.17270002935044354, 0.2302667058005914, 0.1151333529002957, 0.7467523971837035, 0.6671462581869674, 0.22238208606232246, 0.6731669512958173, 0.6658303546666166, 0.3317968806928819, 0.6635937613857638, 0.7626064220826694, 0.13241069786492762, 0.13241069786492762, 0.26482139572985525, 0.39723209359478284, 0.444744693816267, 0.8882142793615239, 0.47216381703172355, 0.11804095425793089, 0.11804095425793089, 0.11804095425793089, 0.23608190851586178, 0.6580944065726787, 0.08335533756920438, 0.04167766878460219, 0.04167766878460219, 0.08335533756920438, 0.08335533756920438, 0.08335533756920438, 0.08335533756920438, 0.08335533756920438, 0.3334213502768175, 0.5284730307312383, 0.26423651536561915, 0.17204441803248097, 0.11469627868832064, 0.05734813934416032, 0.22939255737664127, 0.22939255737664127, 0.11469627868832064, 0.11469627868832064, 0.5346545682841756, 0.40099092621313165, 0.19063490308061362, 0.19063490308061362, 0.19063490308061362, 0.38126980616122724, 0.4385942288615904, 0.2192971144307952, 0.2192971144307952, 0.5642571083189789, 0.37617140554598594, 0.11523624645477712, 0.05761812322738856, 0.11523624645477712, 0.05761812322738856, 0.2880906161369428, 0.05761812322738856, 0.11523624645477712, 0.05761812322738856, 0.23047249290955424, 0.35924215676444926, 0.2394947711762995, 0.2394947711762995, 0.11974738558814975, 0.852943550252049, 0.19092211352790825, 0.3818442270558165, 0.3818442270558165, 0.8741165379199749, 0.8901581120286398, 0.8731677320313846, 0.8742136249472746, 0.1116071754050945, 0.223214350810189, 0.446428701620378, 0.1116071754050945, 0.1116071754050945, 0.8741284239893281, 0.4511118583616236, 0.8742092562527594, 0.7419789572049075, 0.1483957914409815, 0.8532015330488107, 0.6674237212804887, 0.4051644031665794, 0.2025822015832897, 0.10129110079164486, 0.2025822015832897, 0.1951040190033398, 0.05574400542952566, 0.1951040190033398, 0.11148801085905131, 0.16723201628857695, 0.05574400542952566, 0.02787200271476283, 0.11148801085905131, 0.08361600814428848, 0.6683820170110464, 0.8993902222947397, 0.8993952520594013, 0.6370722153351269, 0.8782430235840551, 0.14908413240996202, 0.14908413240996202, 0.14908413240996202, 0.14908413240996202, 0.447252397229886, 0.5763966383093255, 0.38426442553955037, 0.1463935152583411, 0.5855740610333644, 0.1463935152583411, 0.1463935152583411, 0.1483492286050437, 0.1483492286050437, 0.1483492286050437, 0.1483492286050437, 0.44504768581513116, 0.8731670890149668, 0.8741067229103558, 0.8993796195080312, 0.2731710612240538, 0.08195131836721614, 0.08195131836721614, 0.05463421224481076, 0.02731710612240538, 0.08195131836721614, 0.21853684897924305, 0.08195131836721614, 0.05463421224481076, 0.05463421224481076, 0.9028251897654842, 0.4387769793380881, 0.16534182098277686, 0.08267091049138843, 0.2480127314741653, 0.08267091049138843, 0.08267091049138843, 0.08267091049138843, 0.2480127314741653, 0.08267091049138843, 0.19064174972665246, 0.19064174972665246, 0.19064174972665246, 0.3812834994533049, 0.12061126380816717, 0.12061126380816717, 0.12061126380816717, 0.4824450552326687, 0.12061126380816717, 0.19600240118398818, 0.11200137210513611, 0.14000171513142012, 0.056000686052568055, 0.11200137210513611, 0.08400102907885208, 0.11200137210513611, 0.14000171513142012, 0.028000343026284027, 0.878857514023984, 0.8881602818586593, 0.8120096943814512, 0.6683815817760312, 0.17217332659535253, 0.17217332659535253, 0.057391108865117516, 0.11478221773023503, 0.28695554432558756, 0.057391108865117516, 0.11478221773023503, 0.057391108865117516, 0.3433607430286549, 0.19620613887351707, 0.09810306943675853, 0.09810306943675853, 0.14715460415513779, 0.09810306943675853, 0.23394533982659504, 0.3119271197687934, 0.1559635598843967, 0.07798177994219835, 0.07798177994219835, 0.23394533982659504, 0.29567074910363744, 0.14783537455181872, 0.44350612365545616, 0.14783537455181872, 0.6574548794316858, 0.1197528952377018, 0.35925868571310543, 0.1197528952377018, 0.2395057904754036, 0.22894720654004186, 0.11447360327002093, 0.22894720654004186, 0.11447360327002093, 0.057236801635010465, 0.11447360327002093, 0.057236801635010465, 0.11447360327002093, 0.3009777820370234, 0.1504888910185117, 0.1504888910185117, 0.050162963672837235, 0.1504888910185117, 0.050162963672837235, 0.050162963672837235, 0.10032592734567447, 0.4506940163223311, 0.8736321107658894, 0.07465698006016097, 0.14931396012032194, 0.07465698006016097, 0.14931396012032194, 0.4479418803609658, 0.07465698006016097, 0.5166107952214412, 0.2583053976107206, 0.5364940215517563, 0.26824701077587815, 0.32914631523696053, 0.4937194728554408, 0.16457315761848026, 0.10543280197158622, 0.10543280197158622, 0.10543280197158622, 0.26358200492896555, 0.10543280197158622, 0.10543280197158622, 0.15814920295737933, 0.2999423493769402, 0.5998846987538804, 0.8731701441470584, 0.078844877290914, 0.157689754581828, 0.157689754581828, 0.157689754581828, 0.078844877290914, 0.315379509163656, 0.078844877290914, 0.902833650958172, 0.643113312377335, 0.21437110412577834, 0.44915146696575275, 0.4371111454628128, 0.2195592238509656, 0.2195592238509656, 0.1097796119254828, 0.1097796119254828, 0.3293388357764484, 0.1097796119254828, 0.2717239903459679, 0.10868959613838715, 0.10868959613838715, 0.10868959613838715, 0.054344798069193574, 0.10868959613838715, 0.054344798069193574, 0.054344798069193574, 0.054344798069193574, 0.8993884914274168, 0.10153457846801303, 0.20306915693602606, 0.15230186770201956, 0.15230186770201956, 0.10153457846801303, 0.10153457846801303, 0.20306915693602606, 0.10153457846801303, 0.639023050353903, 0.21300768345130103, 0.8896774123180653, 0.5284227012974035, 0.26421135064870177, 0.5523108528412796, 0.18410361761375987, 0.18410361761375987, 0.6683774336543346, 0.07738804152346385, 0.3095521660938554, 0.07738804152346385, 0.1547760830469277, 0.07738804152346385, 0.07738804152346385, 0.1547760830469277, 0.07738804152346385, 0.874133591471801, 0.8733168324643136, 0.06074849253839384, 0.12149698507678768, 0.3037424626919692, 0.364490955230363, 0.06074849253839384, 0.12149698507678768, 0.8741221570094422, 0.8732239073756392, 0.33740480901677994, 0.04820068700239713, 0.04820068700239713, 0.19280274800958852, 0.1446020610071914, 0.09640137400479426, 0.04820068700239713, 0.04820068700239713, 0.09780662031006807, 0.09780662031006807, 0.19561324062013613, 0.19561324062013613, 0.09780662031006807, 0.09780662031006807, 0.09780662031006807, 0.04890331015503403, 0.14670993046510208, 0.7855890810899112, 0.8788518424936459, 0.8878748422696084, 0.08215174569931162, 0.16430349139862324, 0.3286069827972465, 0.16430349139862324, 0.3286069827972465, 0.8545678635540606, 0.2235936577489776, 0.2235936577489776, 0.4471873154979552, 0.20033014909408361, 0.04006602981881672, 0.12019808945645016, 0.08013205963763344, 0.08013205963763344, 0.04006602981881672, 0.28046220873171707, 0.16026411927526688, 0.1984996072636026, 0.1323330715090684, 0.1323330715090684, 0.1323330715090684, 0.1323330715090684, 0.2646661430181368, 0.0661665357545342, 0.0661665357545342, 0.7842692929799605, 0.8736475987756421, 0.44743583028865896, 0.21646957494296637, 0.6494087248288991, 0.8537656667036265, 0.1005152124453097, 0.2010304248906194, 0.1005152124453097, 0.3015456373359291, 0.2010304248906194, 0.1005152124453097, 0.2601073517411113, 0.5202147034822227, 0.13106840501675335, 0.13106840501675335, 0.13106840501675335, 0.39320521505026007, 0.13106840501675335, 0.13106840501675335, 0.889677004000095, 0.5367629244661899, 0.26838146223309495, 0.07148896958194093, 0.07148896958194093, 0.1787224239548523, 0.10723345437291139, 0.3931893327006751, 0.03574448479097046, 0.07148896958194093, 0.03574448479097046, 0.03574448479097046, 0.12709655903412628, 0.12709655903412628, 0.06354827951706314, 0.3177413975853157, 0.12709655903412628, 0.12709655903412628, 0.06354827951706314, 0.668023549397028, 0.8734178267867913, 0.8994639458769065, 0.40793113537405956, 0.10198278384351489, 0.10198278384351489, 0.20396556768702978, 0.10198278384351489, 0.20396556768702978, 0.8731690646471969, 0.21998152881603678, 0.43996305763207355, 0.10999076440801839, 0.10999076440801839, 0.10999076440801839, 0.4395881531375398, 0.6685022411646062, 0.4512866268445569, 0.1918710500300402, 0.5756131500901206, 0.44267426141752125, 0.22133713070876063, 0.22133713070876063, 0.08210037983143044, 0.10946717310857391, 0.19156755294000435, 0.10946717310857391, 0.21893434621714783, 0.02736679327714348, 0.05473358655428696, 0.1368339663857174, 0.05473358655428696, 0.24964392122841478, 0.12482196061420739, 0.12482196061420739, 0.062410980307103694, 0.31205490153551846, 0.062410980307103694, 0.12482196061420739, 0.8993739321404043, 0.1905707099371388, 0.0952853549685694, 0.0952853549685694, 0.0952853549685694, 0.28585606490570814, 0.28585606490570814, 0.21830059974393687, 0.6549017992318106, 0.25994289912177065, 0.5198857982435413, 0.10685659512301264, 0.10685659512301264, 0.05342829756150632, 0.10685659512301264, 0.10685659512301264, 0.16028489268451898, 0.10685659512301264, 0.2671414878075316, 0.8747153260416602, 0.4476511663977707, 0.14685263861152179, 0.44055791583456533, 0.14685263861152179, 0.29370527722304357, 0.655764063562876, 0.21858802118762533, 0.6731670319334121, 0.18836061956704228, 0.09418030978352114, 0.18836061956704228, 0.37672123913408456, 0.09418030978352114, 0.09418030978352114, 0.8901574154195123, 0.5284121683631916, 0.2642060841815958, 0.56225395897407, 0.18741798632469, 0.18741798632469, 0.4477248121534816, 0.8741063038739323, 0.14062871187312576, 0.14062871187312576, 0.2812574237462515, 0.07031435593656288, 0.2812574237462515, 0.07031435593656288, 0.4507487239300875, 0.526461481769, 0.2632307408845, 0.6658278194639574, 0.5360573506064782, 0.2680286753032391, 0.4450458975504451, 0.6574546684701134, 0.22311358834052167, 0.22311358834052167, 0.44622717668104334, 0.8881906339448963, 0.5360619593153206, 0.2680309796576603, 0.5974998636444339, 0.29874993182221693, 0.14937496591110846, 0.8883332331374285, 0.7842628540266763, 0.8993831312910212, 0.06928965653392782, 0.06928965653392782, 0.2771586261357113, 0.13857931306785565, 0.06928965653392782, 0.13857931306785565, 0.13857931306785565, 0.13857931306785565, 0.44158422265244696, 0.14719474088414897, 0.29438948176829793, 0.14719474088414897, 0.060604558426524124, 0.060604558426524124, 0.060604558426524124, 0.3030227921326206, 0.42423190898566887, 0.12120911685304825, 0.5260920480510817, 0.26304602402554084, 0.8731693341206185, 0.8736371327108762, 0.21909535572234945, 0.4381907114446989, 0.21909535572234945, 0.44042515061172144, 0.1468083835372405, 0.1468083835372405, 0.1468083835372405, 0.8004866807891224, 0.6570903821245826, 0.0891673279315751, 0.1783346558631502, 0.0891673279315751, 0.0891673279315751, 0.1783346558631502, 0.2675019837947253, 0.0891673279315751, 0.448240727509369, 0.44534155053801006, 0.44534155053801006, 0.2256060960928376, 0.4512121921856752, 0.2256060960928376, 0.5257944055176421, 0.26289720275882106, 0.8896754392236196, 0.05759780477889862, 0.2879890238944931, 0.11519560955779724, 0.17279341433669584, 0.17279341433669584, 0.11519560955779724, 0.05759780477889862, 0.16685655678681405, 0.16685655678681405, 0.5005696703604422, 0.16685655678681405, 0.8736662589668869, 0.8896829939103659, 0.18871668825206836, 0.3774333765041367, 0.3774333765041367, 0.09435834412603418, 0.8984585777199259, 0.8026336325345521, 0.8731716836882679, 0.8210760378074338, 0.16421520756148675, 0.652890816945016, 0.6588214989443458, 0.8012526352076299, 0.18715315076785355, 0.18715315076785355, 0.09357657538392677, 0.2807297261517803, 0.18715315076785355, 0.09357657538392677, 0.09357657538392677, 0.3337121080996326, 0.6674242161992652, 0.10110539147327785, 0.4044215658931114, 0.10110539147327785, 0.2022107829465557, 0.10110539147327785, 0.10110539147327785, 0.10110539147327785, 0.8881622004559514, 0.4818099988559867, 0.16060333295199555, 0.3212066659039911, 0.8731663615939149, 0.568746336942475, 0.18958211231415834, 0.18958211231415834, 0.440270162594342, 0.220135081297171, 0.220135081297171, 0.12051695101764895, 0.12051695101764895, 0.2410339020352979, 0.12051695101764895, 0.12051695101764895, 0.3615508530529469, 0.1383207549161328, 0.2766415098322656, 0.0691603774580664, 0.0691603774580664, 0.1383207549161328, 0.1383207549161328, 0.1383207549161328, 0.8782206514211612, 0.45053532674886104, 0.8900966024083798, 0.20367810086138874, 0.3055171512920831, 0.20367810086138874, 0.20367810086138874, 0.10183905043069437, 0.43943159548214383, 0.43943159548214383, 0.8879967703057629, 0.5883080542442083, 0.14707701356105207, 0.14707701356105207, 0.22209039813087264, 0.666271194392618, 0.6658305400842183, 0.673166183172756, 0.32915833366637054, 0.49373750049955584, 0.16457916683318527, 0.6552032139987227, 0.44748425975503153, 0.4387102393567852, 0.05747988928719165, 0.05747988928719165, 0.05747988928719165, 0.17243966786157497, 0.2299195571487666, 0.17243966786157497, 0.2873994464359583, 0.16811850126970823, 0.16811850126970823, 0.33623700253941646, 0.33623700253941646, 0.8879838282780673, 0.19205473128483605, 0.3841094625696721, 0.3841094625696721, 0.21659830917480383, 0.10829915458740191, 0.10829915458740191, 0.43319661834960765, 0.47625266474585964, 0.23812633237292982, 0.11906316618646491, 0.11906316618646491, 0.4393752905541817, 0.4393752905541817, 0.22494676433725977, 0.6748402930117793, 0.8733084676390039, 0.5360588657499978, 0.2680294328749989, 0.4082357412959698, 0.10205893532399245, 0.2041178706479849, 0.2041178706479849, 0.10205893532399245, 0.10205893532399245, 0.23743064334990843, 0.47486128669981686, 0.11871532167495422, 0.11871532167495422, 0.4494091328161731, 0.07014969868050286, 0.14029939736100572, 0.07014969868050286, 0.42089819208301715, 0.07014969868050286, 0.07014969868050286, 0.14029939736100572, 0.07014969868050286, 0.22417208181461554, 0.14944805454307702, 0.22417208181461554, 0.14944805454307702, 0.14944805454307702, 0.07472402727153851, 0.8881616117540286, 0.6593994867896621, 0.32969974339483105, 0.8881702603019155, 0.1774749711951004, 0.07098998847804015, 0.21296996543412047, 0.035494994239020076, 0.035494994239020076, 0.07098998847804015, 0.035494994239020076, 0.1774749711951004, 0.10648498271706024, 0.035494994239020076, 0.21828324423159481, 0.0727610814105316, 0.1455221628210632, 0.0727610814105316, 0.0727610814105316, 0.0727610814105316, 0.2910443256421264, 0.6570872817757158, 0.8881534029884725, 0.1899830377406793, 0.1899830377406793, 0.5699491132220379, 0.44892574287697123, 0.33529833212718263, 0.6705966642543653, 0.6683859584889027, 0.6731695684923434, 0.8896726239678632, 0.890161241297845, 0.3128363057270045, 0.07820907643175112, 0.07820907643175112, 0.07820907643175112, 0.23462722929525337, 0.15641815286350225, 0.07820907643175112, 0.06855669223156256, 0.13711338446312513, 0.10283503834734384, 0.17139173057890641, 0.03427834611578128, 0.06855669223156256, 0.03427834611578128, 0.37706180727359406, 0.4410626066828432, 0.14702086889428106, 0.14702086889428106, 0.14702086889428106, 0.16481141677952277, 0.16481141677952277, 0.16481141677952277, 0.16481141677952277, 0.32962283355904554, 0.08240570838976138, 0.08240570838976138, 0.8881505792146951, 0.8534293379666766, 0.19081665859320243, 0.19081665859320243, 0.5724499757796073, 0.192117342500672, 0.288176013751008, 0.096058671250336, 0.192117342500672, 0.192117342500672, 0.873165926897558, 0.7642263173662279, 0.8892613021999577, 0.4633078855038848, 0.09266157710077695, 0.1853231542015539, 0.09266157710077695, 0.09266157710077695, 0.09266157710077695, 0.8731648699555145, 0.6683832306347495, 0.8026000562665639, 0.48320443235358196, 0.3221362882357213, 0.16106814411786066, 0.5242945688972446, 0.2621472844486223, 0.8896548165240703, 0.7842571643588225, 0.6762465798087404, 0.09147609912967622, 0.09147609912967622, 0.04573804956483811, 0.22869024782419056, 0.09147609912967622, 0.13721414869451434, 0.09147609912967622, 0.22869024782419056, 0.4505446744797521, 0.6540477728343026, 0.88816926131426, 0.5230846239754608, 0.2615423119877304, 0.08810692951917783, 0.17621385903835565, 0.08810692951917783, 0.08810692951917783, 0.17621385903835565, 0.08810692951917783, 0.2643207885575335, 0.8782132188239606, 0.8781951524496637, 0.5230500601494326, 0.2615250300747163, 0.6683817562136478, 0.6683714087122111, 0.12118400756198607, 0.24236801512397213, 0.3635520226859582, 0.24236801512397213, 0.8744762445483456, 0.22204354626579906, 0.6661306387973972, 0.6715780252642687, 0.33578901263213434, 0.6731696113018755, 0.31138394638384176, 0.07784598659596044, 0.31138394638384176, 0.15569197319192088, 0.07784598659596044, 0.15569197319192088, 0.12077131645655934, 0.36231394936967803, 0.12077131645655934, 0.36231394936967803, 0.19246999025717637, 0.19246999025717637, 0.19246999025717637, 0.38493998051435274, 0.20808911127378682, 0.20808911127378682, 0.13872607418252456, 0.2774521483650491, 0.13872607418252456, 0.23101475235236424, 0.09900632243672754, 0.06600421495781836, 0.09900632243672754, 0.06600421495781836, 0.06600421495781836, 0.09900632243672754, 0.23101475235236424, 0.16929534614215827, 0.33859069228431654, 0.5078860384264748, 0.6570896531786053, 0.6658295101112196, 0.9003940727814025, 0.6548674001589899, 0.879202105124674, 0.8736432269267973, 0.8880118411063997, 0.33604053504046844, 0.6720810700809369, 0.8890113041542428, 0.1859477135477916, 0.46486928386947896, 0.1859477135477916, 0.0929738567738958, 0.0929738567738958, 0.16430041894144357, 0.49290125682433067, 0.16430041894144357, 0.16430041894144357, 0.6403943879104594, 0.14157340676747482, 0.04719113558915827, 0.09438227117831655, 0.14157340676747482, 0.04719113558915827, 0.14157340676747482, 0.04719113558915827, 0.09438227117831655, 0.04719113558915827, 0.1887645423566331, 0.15903366782074463, 0.06815728620889056, 0.06815728620889056, 0.06815728620889056, 0.1135954770148176, 0.29534824023852574, 0.09087638161185409, 0.045438190805927044, 0.06815728620889056, 0.8737012311836566, 0.8881804593056856, 0.6731697841957361, 0.13936857379980722, 0.13936857379980722, 0.13936857379980722, 0.06968428689990361, 0.13936857379980722, 0.34842143449951807, 0.8782042652519273, 0.2667307438292276, 0.40009611574384146, 0.2667307438292276, 0.8536990082048579, 0.3317936282664543, 0.6635872565329086, 0.24960149415511348, 0.06240037353877837, 0.12480074707755674, 0.12480074707755674, 0.24960149415511348, 0.06240037353877837, 0.12480074707755674, 0.6381479723748308, 0.6731670001627882, 0.05759461562451254, 0.34556769374707524, 0.05759461562451254, 0.17278384687353762, 0.17278384687353762, 0.11518923124902508, 0.05759461562451254, 0.3009400859999055, 0.05015668099998425, 0.1003133619999685, 0.35109676699988973, 0.05015668099998425, 0.1003133619999685, 0.1003133619999685, 0.6591295490673763, 0.32956477453368815, 0.4715909732234904, 0.1178977433058726, 0.1178977433058726, 0.2357954866117452, 0.1322900335860111, 0.2645800671720222, 0.3968701007580333, 0.1322900335860111, 0.1322900335860111, 0.08830909839475502, 0.08830909839475502, 0.17661819678951005, 0.3532363935790201, 0.26492729518426505, 0.08789472733787342, 0.08789472733787342, 0.35157890935149366, 0.17578945467574683, 0.08789472733787342, 0.08789472733787342, 0.08789472733787342, 0.1347696303779863, 0.1347696303779863, 0.1347696303779863, 0.2695392607559726, 0.2695392607559726, 0.8741345446982796, 0.87821007258949, 0.1586879916671082, 0.19835998958388526, 0.1586879916671082, 0.1586879916671082, 0.0793439958335541, 0.0793439958335541, 0.11901599375033114, 0.03571891888443833, 0.2500324321910683, 0.17859459442219167, 0.10715675665331499, 0.10715675665331499, 0.17859459442219167, 0.14287567553775332, 0.19135652990381383, 0.5740695897114415, 0.19135652990381383, 0.10266438401854854, 0.41065753607419414, 0.3079931520556456, 0.10266438401854854, 0.4341158464668439, 0.21705792323342196, 0.10852896161671098, 0.10852896161671098, 0.10852896161671098, 0.10852896161671098, 0.8730733417954423, 0.5322192539959634, 0.08870320899932724, 0.17740641799865448, 0.08870320899932724, 0.17740641799865448, 0.4387801551049429, 0.665829347789466, 0.6544770921978783, 0.8896541277652656, 0.09403327013159425, 0.1880665402631885, 0.14104990519739138, 0.047016635065797126, 0.09403327013159425, 0.23508317532898562, 0.09403327013159425, 0.09403327013159425, 0.3340987854174738, 0.6681975708349476, 0.1204286016254584, 0.2408572032509168, 0.3612858048763752, 0.2408572032509168, 0.11917316061245878, 0.11917316061245878, 0.4766926424498351, 0.23834632122491756, 0.9015315850720226, 0.03695392873153759, 0.07390785746307518, 0.07390785746307518, 0.07390785746307518, 0.07390785746307518, 0.3325853585838383, 0.18476964365768794, 0.11086178619461277, 0.07390785746307518, 0.8739751296145296, 0.8741434304170557, 0.11107866911395425, 0.11107866911395425, 0.11107866911395425, 0.11107866911395425, 0.11107866911395425, 0.2221573382279085, 0.33323600734186276, 0.33909406909116563, 0.6781881381823313, 0.37983379174843884, 0.37983379174843884, 0.18991689587421942, 0.7867684697109354, 0.11909156477436655, 0.4763662590974662, 0.2381831295487331, 0.11909156477436655, 0.11909156477436655, 0.8529486439561466, 0.22012853191795703, 0.03668808865299284, 0.07337617730598568, 0.03668808865299284, 0.2568166205709499, 0.1834404432649642, 0.03668808865299284, 0.07337617730598568, 0.07337617730598568, 0.45201395049146414, 0.45201395049146414, 0.8883404519772389, 0.2775461782203058, 0.039649454031472256, 0.039649454031472256, 0.07929890806294451, 0.31719563225177805, 0.039649454031472256, 0.07929890806294451, 0.07929890806294451, 0.07929890806294451, 0.26008820493006035, 0.5201764098601207, 0.13004410246503018, 0.13004410246503018], \"Term\": [\"abortion\", \"abortion\", \"abramovich\", \"abramovich\", \"acceptance\", \"accessible\", \"address\", \"address\", \"address\", \"address\", \"admit\", \"adult\", \"affected\", \"affected\", \"african\", \"african\", \"ago\", \"ago\", \"ago\", \"ago\", \"ago\", \"ago\", \"ago\", \"aid\", \"aid\", \"aid\", \"aid\", \"aid\", \"aid\", \"air\", \"air\", \"alert\", \"alert\", \"ally\", \"ally\", \"american\", \"american\", \"american\", \"american\", \"american\", \"american\", \"amplify\", \"analysis\", \"analysis\", \"analyst\", \"anarchist\", \"animal\", \"animal\", \"anna\", \"announce\", \"announce\", \"announce\", \"announce\", \"announce\", \"announce\", \"announce\", \"appeal\", \"appeal\", \"appeal\", \"appeal\", \"apple\", \"apps\", \"around\", \"around\", \"around\", \"around\", \"around\", \"artillery\", \"asian\", \"asian\", \"asian\", \"asian\", \"assault\", \"assault\", \"assault\", \"assault\", \"asset\", \"asset\", \"associate\", \"associate\", \"attack\", \"attack\", \"attack\", \"attack\", \"attack\", \"attack\", \"attack\", \"attack\", \"attack\", \"attack\", \"authority\", \"authority\", \"authority\", \"authority\", \"authority\", \"authority\", \"authority\", \"authorize\", \"bad\", \"bad\", \"bad\", \"bad\", \"balance\", \"ballerina\", \"baltic\", \"base\", \"base\", \"base\", \"base\", \"base\", \"baseless\", \"bayraktar\", \"bedevil\", \"begin\", \"begin\", \"begin\", \"begin\", \"begin\", \"begin\", \"begin\", \"believe\", \"believe\", \"believe\", \"believe\", \"believe\", \"benjamin\", \"best\", \"best\", \"best\", \"best\", \"best\", \"best\", \"best\", \"biden\", \"biden\", \"biden\", \"biden\", \"biden\", \"biden\", \"biden\", \"biden\", \"biden\", \"bill\", \"bill\", \"bioweapon\", \"body\", \"body\", \"body\", \"body\", \"book\", \"book\", \"booster\", \"booster\", \"border\", \"border\", \"border\", \"border\", \"border\", \"border\", \"bowl\", \"boy\", \"boycotting\", \"brady\", \"braxton\", \"break\", \"break\", \"break\", \"break\", \"break\", \"break\", \"break\", \"break\", \"break\", \"british\", \"british\", \"british\", \"british\", \"british\", \"brittney\", \"broader\", \"brutal\", \"bryant\", \"building\", \"building\", \"building\", \"building\", \"building\", \"burst\", \"burst\", \"burst\", \"bury\", \"bury\", \"buying\", \"call\", \"call\", \"call\", \"call\", \"call\", \"call\", \"call\", \"call\", \"candidate\", \"cannabis\", \"capital\", \"capital\", \"capital\", \"capital\", \"capital\", \"capital\", \"capital\", \"capital\", \"cara\", \"carolina\", \"carolina\", \"case\", \"case\", \"case\", \"case\", \"catastrophe\", \"celebrate\", \"center\", \"center\", \"center\", \"center\", \"challenge\", \"challenge\", \"challenge\", \"challenge\", \"change\", \"change\", \"change\", \"change\", \"change\", \"change\", \"change\", \"change\", \"channel\", \"channel\", \"channel\", \"charge\", \"charge\", \"charge\", \"charge\", \"charge\", \"chechen\", \"chelsea\", \"chelsea\", \"china\", \"china\", \"china\", \"china\", \"china\", \"china\", \"chinese\", \"chinese\", \"chinese\", \"chinese\", \"church\", \"civilian\", \"civilian\", \"civilian\", \"civilian\", \"civilian\", \"civilian\", \"civilian\", \"civilian\", \"claim\", \"claim\", \"claim\", \"clamor\", \"class\", \"clean\", \"climate\", \"climate\", \"climate\", \"clinic\", \"close\", \"close\", \"close\", \"close\", \"cocaine\", \"code\", \"college\", \"collision\", \"colombian\", \"columbia\", \"columbus\", \"come\", \"come\", \"come\", \"come\", \"come\", \"come\", \"come\", \"come\", \"comedy\", \"comment\", \"commissioner\", \"company\", \"company\", \"company\", \"company\", \"company\", \"company\", \"compassion\", \"condemn\", \"congress\", \"congress\", \"congress\", \"congress\", \"congress\", \"congress\", \"conscription\", \"consumer\", \"contest\", \"continue\", \"continue\", \"continue\", \"continue\", \"contract\", \"coronavirus\", \"coronavirus\", \"coronavirus\", \"coronavirus\", \"coronavirus\", \"coronavirus\", \"coronavirus\", \"coronavirus\", \"correspondent\", \"correspondent\", \"cost\", \"cost\", \"cost\", \"could\", \"could\", \"could\", \"could\", \"could\", \"could\", \"could\", \"could\", \"counter\", \"country\", \"country\", \"country\", \"country\", \"country\", \"country\", \"country\", \"country\", \"country\", \"country\", \"court\", \"court\", \"court\", \"court\", \"court\", \"court\", \"court\", \"coverage\", \"coverage\", \"coverage\", \"covid\", \"covid\", \"covid\", \"covid\", \"covid\", \"covid\", \"covid\", \"covid\", \"crash\", \"crew\", \"crime\", \"crime\", \"crime\", \"cross\", \"cross\", \"cross\", \"cuomo\", \"czar\", \"daily\", \"daily\", \"daily\", \"daily\", \"dance\", \"daniel\", \"day\", \"day\", \"day\", \"day\", \"day\", \"day\", \"day\", \"day\", \"day\", \"daylight\", \"debt\", \"dedicate\", \"deepen\", \"deeply\", \"default\", \"defendant\", \"defense\", \"defense\", \"defense\", \"defense\", \"denominate\", \"department\", \"depiction\", \"deport\", \"deripaska\", \"die\", \"die\", \"die\", \"die\", \"die\", \"die\", \"die\", \"discus\", \"discus\", \"discus\", \"dollar\", \"dose\", \"dose\", \"doug\", \"doug\", \"drama\", \"drama\", \"draw\", \"drove\", \"drug\", \"drug\", \"due\", \"earn\", \"economy\", \"economy\", \"economy\", \"economy\", \"editor\", \"editor\", \"effort\", \"effort\", \"effort\", \"effort\", \"effort\", \"effort\", \"effort\", \"effort\", \"elite\", \"elsewhere\", \"emerge\", \"emotional\", \"emotional\", \"emotional\", \"employee\", \"employee\", \"employee\", \"employee\", \"employee\", \"employee\", \"employee\", \"end\", \"end\", \"end\", \"end\", \"end\", \"end\", \"enfrenta\", \"entenmann\", \"escape\", \"essay\", \"essay\", \"essay\", \"essay\", \"ethiopia\", \"eurovision\", \"even\", \"even\", \"even\", \"even\", \"even\", \"even\", \"even\", \"every\", \"every\", \"every\", \"every\", \"evidence\", \"exam\", \"extend\", \"facebook\", \"facebook\", \"facebook\", \"far\", \"far\", \"far\", \"far\", \"far\", \"fatally\", \"fatally\", \"fate\", \"fda\", \"fictionalize\", \"fight\", \"fight\", \"fight\", \"fight\", \"fight\", \"fight\", \"fight\", \"fight\", \"filing\", \"fill\", \"fill\", \"fire\", \"fire\", \"fire\", \"fire\", \"fire\", \"fire\", \"first\", \"first\", \"first\", \"first\", \"first\", \"first\", \"first\", \"first\", \"first\", \"five\", \"five\", \"five\", \"flee\", \"flee\", \"flee\", \"flee\", \"flee\", \"flee\", \"flee\", \"flee\", \"flyer\", \"follow\", \"follow\", \"follow\", \"follow\", \"follow\", \"follow\", \"follow\", \"follow\", \"follow\", \"food\", \"food\", \"food\", \"food\", \"footage\", \"force\", \"force\", \"force\", \"force\", \"force\", \"force\", \"force\", \"force\", \"force\", \"formal\", \"former\", \"former\", \"former\", \"former\", \"former\", \"former\", \"former\", \"former\", \"four\", \"four\", \"four\", \"four\", \"four\", \"four\", \"fox\", \"fox\", \"foxconn\", \"free\", \"free\", \"fresh\", \"freshwater\", \"gain\", \"gain\", \"golf\", \"government\", \"government\", \"government\", \"government\", \"government\", \"government\", \"government\", \"government\", \"griner\", \"gunman\", \"gunman\", \"hampshire\", \"hang\", \"harris\", \"harris\", \"hate\", \"head\", \"head\", \"head\", \"head\", \"heat\", \"heaviest\", \"heavy\", \"heavy\", \"heavy\", \"heavy\", \"heavy\", \"heckle\", \"help\", \"help\", \"help\", \"help\", \"help\", \"help\", \"help\", \"help\", \"help\", \"highly\", \"highly\", \"home\", \"home\", \"home\", \"home\", \"home\", \"home\", \"home\", \"homeless\", \"homeless\", \"hong\", \"hong\", \"hong\", \"hong\", \"hope\", \"hope\", \"hope\", \"hospital\", \"hospital\", \"house\", \"house\", \"house\", \"house\", \"house\", \"house\", \"house\", \"house\", \"house\", \"hundred\", \"hundred\", \"hundred\", \"hundred\", \"iceberg\", \"idea\", \"idea\", \"idea\", \"image\", \"immigration\", \"import\", \"important\", \"impose\", \"impose\", \"impose\", \"impose\", \"impose\", \"indicate\", \"infect\", \"inflict\", \"injured\", \"injured\", \"inside\", \"intensify\", \"interest\", \"interest\", \"interest\", \"interest\", \"invasion\", \"invasion\", \"invasion\", \"invasion\", \"invasion\", \"invasion\", \"invasion\", \"invasion\", \"invasion\", \"invent\", \"irving\", \"israel\", \"istanbul\", \"jet\", \"join\", \"join\", \"join\", \"join\", \"join\", \"jury\", \"jury\", \"keep\", \"keep\", \"keep\", \"keep\", \"key\", \"key\", \"key\", \"key\", \"key\", \"kgb\", \"kherson\", \"khia\", \"kill\", \"kill\", \"kill\", \"kill\", \"kill\", \"kill\", \"kill\", \"kill\", \"kill\", \"kill\", \"kim\", \"kiss\", \"know\", \"know\", \"know\", \"know\", \"know\", \"know\", \"know\", \"know\", \"kong\", \"kong\", \"kong\", \"kong\", \"kremlin\", \"kremlin\", \"kremlin\", \"kremlin\", \"kremlin\", \"kyiv\", \"kyiv\", \"kyiv\", \"kyiv\", \"kyiv\", \"kyiv\", \"kyiv\", \"kyiv\", \"kyiv\", \"lab\", \"label\", \"lake\", \"land\", \"large\", \"large\", \"large\", \"large\", \"large\", \"large\", \"large\", \"large\", \"last\", \"last\", \"last\", \"last\", \"last\", \"last\", \"late\", \"late\", \"late\", \"late\", \"late\", \"late\", \"launch\", \"launch\", \"launch\", \"launch\", \"lavish\", \"law\", \"law\", \"law\", \"law\", \"leader\", \"leader\", \"leader\", \"leader\", \"leader\", \"leader\", \"leader\", \"leader\", \"least\", \"least\", \"least\", \"least\", \"least\", \"least\", \"least\", \"least\", \"legislation\", \"level\", \"life\", \"life\", \"life\", \"life\", \"life\", \"life\", \"light\", \"light\", \"limited\", \"limited\", \"list\", \"list\", \"list\", \"live\", \"live\", \"live\", \"live\", \"live\", \"live\", \"live\", \"london\", \"london\", \"longtime\", \"look\", \"look\", \"look\", \"look\", \"look\", \"look\", \"look\", \"los\", \"lviv\", \"lviv\", \"lysov\", \"magnitude\", \"major\", \"major\", \"major\", \"major\", \"major\", \"major\", \"make\", \"make\", \"make\", \"make\", \"make\", \"make\", \"make\", \"make\", \"make\", \"mansion\", \"many\", \"many\", \"many\", \"many\", \"many\", \"many\", \"many\", \"many\", \"march\", \"march\", \"mare\", \"marina\", \"marina\", \"mark\", \"mark\", \"mark\", \"masterworks\", \"mayor\", \"mayor\", \"mayor\", \"mayor\", \"mayor\", \"mayor\", \"mayor\", \"mayor\", \"mcdonald\", \"memory\", \"men\", \"men\", \"men\", \"men\", \"men\", \"men\", \"michael\", \"mid\", \"military\", \"military\", \"military\", \"military\", \"military\", \"military\", \"military\", \"military\", \"million\", \"million\", \"million\", \"million\", \"million\", \"million\", \"million\", \"million\", \"million\", \"ministry\", \"mischaracterized\", \"misconduct\", \"missile\", \"missile\", \"missile\", \"missile\", \"missile\", \"misstep\", \"moment\", \"moment\", \"moment\", \"monday\", \"monday\", \"monday\", \"monday\", \"monday\", \"monday\", \"monday\", \"monday\", \"month\", \"month\", \"month\", \"month\", \"month\", \"month\", \"month\", \"month\", \"morgue\", \"murdoch\", \"musician\", \"mykolaiv\", \"mykolaiv\", \"mystery\", \"nato\", \"nato\", \"nato\", \"nato\", \"nato\", \"nato\", \"near\", \"near\", \"nearly\", \"nearly\", \"nearly\", \"nearly\", \"nearly\", \"nearly\", \"neighborhood\", \"netflix\", \"netflix\", \"news\", \"news\", \"news\", \"news\", \"news\", \"news\", \"news\", \"news\", \"news\", \"next\", \"next\", \"next\", \"next\", \"next\", \"next\", \"next\", \"nfl\", \"nomination\", \"noodle\", \"north\", \"north\", \"north\", \"north\", \"north\", \"north\", \"norway\", \"nuclear\", \"nuclear\", \"nuclear\", \"nuclear\", \"nuclear\", \"nursing\", \"nytimesevents\", \"obtain\", \"occupy\", \"occupy\", \"offensive\", \"offensive\", \"offensive\", \"official\", \"official\", \"official\", \"official\", \"official\", \"official\", \"official\", \"official\", \"official\", \"old\", \"old\", \"old\", \"old\", \"old\", \"old\", \"old\", \"oleg\", \"oligarch\", \"oligarch\", \"oligarch\", \"oligarch\", \"oligarch\", \"oligarch\", \"onto\", \"onto\", \"opening\", \"opening\", \"opinion\", \"opinion\", \"opinion\", \"opinion\", \"opinion\", \"opinion\", \"opinion\", \"opinion\", \"orange\", \"orchestra\", \"oscar\", \"oscar\", \"oscar\", \"oscar\", \"outbreak\", \"outbreak\", \"outpouring\", \"outside\", \"outside\", \"outside\", \"outside\", \"outside\", \"outside\", \"overstay\", \"ovsyannikova\", \"ovsyannikova\", \"own\", \"own\", \"own\", \"paavo\", \"pakistan\", \"pandemic\", \"pandemic\", \"pandemic\", \"pandemic\", \"pandemic\", \"pandemic\", \"pass\", \"payment\", \"payment\", \"peacefully\", \"pekingmike\", \"pekingmike\", \"pencil\", \"perk\", \"permanent\", \"permanent\", \"permanent\", \"personalize\", \"petersgoodman\", \"petersgoodman\", \"pfizer\", \"pfizer\", \"pfizer\", \"pierre\", \"pile\", \"pizza\", \"plan\", \"plan\", \"plan\", \"plan\", \"plan\", \"plan\", \"plan\", \"plan\", \"plant\", \"plant\", \"plant\", \"plant\", \"police\", \"police\", \"police\", \"police\", \"police\", \"police\", \"policy\", \"policy\", \"politician\", \"politics\", \"popular\", \"popular\", \"popular\", \"post\", \"post\", \"post\", \"post\", \"potato\", \"potent\", \"power\", \"power\", \"power\", \"power\", \"power\", \"power\", \"power\", \"private\", \"product\", \"product\", \"protester\", \"protester\", \"protester\", \"pull\", \"pull\", \"pursuit\", \"putin\", \"putin\", \"putin\", \"putin\", \"putin\", \"putin\", \"putin\", \"question\", \"question\", \"question\", \"question\", \"quickly\", \"rank\", \"rate\", \"rate\", \"rate\", \"rate\", \"raw\", \"reader\", \"refuel\", \"refuse\", \"refuse\", \"register\", \"remark\", \"renaud\", \"report\", \"report\", \"report\", \"report\", \"report\", \"report\", \"report\", \"republic\", \"republic\", \"republican\", \"republican\", \"republican\", \"republican\", \"republican\", \"republican\", \"republican\", \"request\", \"rescue\", \"rescue\", \"rescue\", \"rescuer\", \"research\", \"research\", \"research\", \"researcher\", \"researcher\", \"researcher\", \"reserve\", \"reserve\", \"reserve\", \"reserve\", \"reserve\", \"reserve\", \"resident\", \"resident\", \"resident\", \"resident\", \"resident\", \"resident\", \"resident\", \"resort\", \"retirement\", \"richard\", \"rise\", \"rise\", \"rise\", \"rise\", \"rise\", \"rocket\", \"rocket\", \"rodrigues\", \"role\", \"role\", \"role\", \"roman\", \"roman\", \"roughly\", \"rrebouche\", \"run\", \"run\", \"run\", \"rusty\", \"rvi\", \"san\", \"sanction\", \"sanction\", \"sanction\", \"sanction\", \"sanction\", \"sanction\", \"sanction\", \"save\", \"save\", \"save\", \"save\", \"saw\", \"season\", \"season\", \"season\", \"security\", \"security\", \"security\", \"security\", \"see\", \"see\", \"see\", \"see\", \"seed\", \"seed\", \"senate\", \"senate\", \"senator\", \"senwhitehouse\", \"senwhitehouse\", \"series\", \"series\", \"series\", \"series\", \"series\", \"series\", \"shell\", \"shell\", \"shell\", \"shell\", \"shipwreck\", \"shot\", \"shot\", \"shot\", \"shot\", \"shot\", \"shot\", \"shot\", \"shot\", \"show\", \"show\", \"show\", \"show\", \"show\", \"show\", \"showcased\", \"significant\", \"significant\", \"significantly\", \"since\", \"since\", \"since\", \"since\", \"since\", \"since\", \"since\", \"since\", \"since\", \"since\", \"six\", \"six\", \"six\", \"six\", \"six\", \"six\", \"six\", \"slump\", \"snapshot\", \"soccer\", \"soccer\", \"soccer\", \"software\", \"song\", \"song\", \"sorokin\", \"spate\", \"spokeswoman\", \"stadium\", \"star\", \"star\", \"star\", \"star\", \"star\", \"star\", \"star\", \"state\", \"state\", \"state\", \"state\", \"state\", \"state\", \"state\", \"state\", \"step\", \"step\", \"step\", \"step\", \"still\", \"still\", \"still\", \"still\", \"still\", \"still\", \"still\", \"stimulus\", \"stone\", \"storm\", \"storm\", \"storm\", \"story\", \"story\", \"story\", \"story\", \"story\", \"strand\", \"strategic\", \"strength\", \"strike\", \"strike\", \"strike\", \"strike\", \"strike\", \"strike\", \"strzhalkovsky\", \"subject\", \"subscribe\", \"suburb\", \"suburb\", \"suburb\", \"subvariant\", \"subvariant\", \"succeed\", \"succumb\", \"suggest\", \"sunday\", \"sunday\", \"sunday\", \"sunday\", \"sunday\", \"sunday\", \"sunday\", \"sunday\", \"super\", \"superyacht\", \"superyachts\", \"supplier\", \"supplier\", \"support\", \"support\", \"support\", \"support\", \"support\", \"support\", \"support\", \"suppose\", \"surrender\", \"survivor\", \"survivor\", \"swindler\", \"tax\", \"team\", \"team\", \"team\", \"team\", \"technology\", \"telegram\", \"telegram\", \"tell\", \"tell\", \"tenant\", \"test\", \"test\", \"test\", \"test\", \"test\", \"test\", \"texas\", \"texas\", \"texas\", \"texas\", \"think\", \"think\", \"think\", \"think\", \"thursday\", \"thursday\", \"thursday\", \"thursday\", \"thursday\", \"time\", \"time\", \"time\", \"time\", \"time\", \"time\", \"time\", \"time\", \"told\", \"told\", \"told\", \"toothpick\", \"torn\", \"transition\", \"transmissible\", \"traveler\", \"treacherous\", \"treasure\", \"treatment\", \"treatment\", \"tree\", \"troop\", \"troop\", \"troop\", \"troop\", \"troop\", \"truck\", \"truck\", \"truck\", \"truck\", \"true\", \"tuesday\", \"tuesday\", \"tuesday\", \"tuesday\", \"tuesday\", \"tuesday\", \"tuesday\", \"tuesday\", \"tuesday\", \"tuesday\", \"two\", \"two\", \"two\", \"two\", \"two\", \"two\", \"two\", \"two\", \"two\", \"unit\", \"unleashed\", \"unpredictable\", \"update\", \"update\", \"update\", \"update\", \"update\", \"update\", \"uploaded\", \"vaccine\", \"vaccine\", \"vaccine\", \"vasyl\", \"vice\", \"vice\", \"video\", \"video\", \"video\", \"video\", \"video\", \"video\", \"video\", \"village\", \"vivid\", \"vladimir\", \"vladimir\", \"vladimir\", \"vladimir\", \"vladimir\", \"vladimir\", \"vladimir\", \"volodymyr\", \"volodymyr\", \"volodymyr\", \"volodymyr\", \"volodymyr\", \"volodymyr\", \"volodymyr\", \"volunteer\", \"volunteer\", \"vote\", \"vote\", \"vote\", \"vote\", \"warn\", \"warn\", \"warn\", \"warn\", \"warn\", \"washington\", \"washington\", \"washington\", \"washington\", \"washington\", \"watch\", \"watch\", \"watch\", \"watch\", \"watch\", \"watch\", \"watch\", \"way\", \"way\", \"way\", \"way\", \"way\", \"weather\", \"website\", \"wednesday\", \"wednesday\", \"wednesday\", \"wednesday\", \"wednesday\", \"wednesday\", \"wednesday\", \"week\", \"week\", \"week\", \"week\", \"week\", \"week\", \"week\", \"well\", \"well\", \"well\", \"west\", \"west\", \"west\", \"west\", \"western\", \"western\", \"western\", \"western\", \"western\", \"western\", \"wheel\", \"white\", \"white\", \"white\", \"white\", \"white\", \"winner\", \"winslet\", \"wnba\", \"woetzel\", \"woman\", \"woman\", \"woman\", \"woman\", \"woman\", \"woman\", \"woman\", \"woman\", \"wonder\", \"wonder\", \"work\", \"work\", \"work\", \"work\", \"worker\", \"worker\", \"worker\", \"worker\", \"workplace\", \"world\", \"world\", \"world\", \"world\", \"world\", \"world\", \"world\", \"world\", \"world\", \"worry\", \"worth\", \"write\", \"write\", \"write\", \"write\", \"write\", \"write\", \"write\", \"writer\", \"writer\", \"yacht\", \"yacht\", \"yacht\", \"yell\", \"yet\", \"yet\", \"yet\", \"yet\", \"yet\", \"yonkers\", \"york\", \"york\", \"york\", \"york\", \"york\", \"york\", \"york\", \"york\", \"york\", \"youth\", \"youth\", \"zakrzewski\", \"zelensky\", \"zelensky\", \"zelensky\", \"zelensky\", \"zelensky\", \"zelensky\", \"zelensky\", \"zelensky\", \"zelensky\", \"zone\", \"zone\", \"zone\", \"zone\"]}, \"R\": 30, \"lambda.step\": 0.01, \"plot.opts\": {\"xlab\": \"PC1\", \"ylab\": \"PC2\"}, \"topic.order\": [3, 6, 5, 10, 1, 2, 7, 8, 4, 9]};\n",
       "\n",
       "function LDAvis_load_lib(url, callback){\n",
       "  var s = document.createElement('script');\n",
       "  s.src = url;\n",
       "  s.async = true;\n",
       "  s.onreadystatechange = s.onload = callback;\n",
       "  s.onerror = function(){console.warn(\"failed to load library \" + url);};\n",
       "  document.getElementsByTagName(\"head\")[0].appendChild(s);\n",
       "}\n",
       "\n",
       "if(typeof(LDAvis) !== \"undefined\"){\n",
       "   // already loaded: just create the visualization\n",
       "   !function(LDAvis){\n",
       "       new LDAvis(\"#\" + \"ldavis_el1672014748962273446449584383\", ldavis_el1672014748962273446449584383_data);\n",
       "   }(LDAvis);\n",
       "}else if(typeof define === \"function\" && define.amd){\n",
       "   // require.js is available: use it to load d3/LDAvis\n",
       "   require.config({paths: {d3: \"https://d3js.org/d3.v5\"}});\n",
       "   require([\"d3\"], function(d3){\n",
       "      window.d3 = d3;\n",
       "      LDAvis_load_lib(\"https://cdn.jsdelivr.net/gh/bmabey/pyLDAvis@3.3.1/pyLDAvis/js/ldavis.v3.0.0.js\", function(){\n",
       "        new LDAvis(\"#\" + \"ldavis_el1672014748962273446449584383\", ldavis_el1672014748962273446449584383_data);\n",
       "      });\n",
       "    });\n",
       "}else{\n",
       "    // require.js not available: dynamically load d3 & LDAvis\n",
       "    LDAvis_load_lib(\"https://d3js.org/d3.v5.js\", function(){\n",
       "         LDAvis_load_lib(\"https://cdn.jsdelivr.net/gh/bmabey/pyLDAvis@3.3.1/pyLDAvis/js/ldavis.v3.0.0.js\", function(){\n",
       "                 new LDAvis(\"#\" + \"ldavis_el1672014748962273446449584383\", ldavis_el1672014748962273446449584383_data);\n",
       "            })\n",
       "         });\n",
       "}\n",
       "</script>"
      ],
      "text/plain": [
       "<IPython.core.display.HTML object>"
      ]
     },
     "execution_count": 56,
     "metadata": {},
     "output_type": "execute_result"
    }
   ],
   "source": [
    "pyLDAvis.enable_notebook()\n",
    "vis = gensimvis.prepare(topic_model=lda_model2, corpus=corpus2, dictionary=dictionary_LDA2)\n",
    "pyLDAvis.display(vis)"
   ]
  },
  {
   "cell_type": "markdown",
   "id": "1e4e2bc3-f881-46d7-bdf2-9e791d9c627c",
   "metadata": {},
   "source": [
    "The graph above suggests that there are 4 topics, let's try doing six topics and decide whether they make sense"
   ]
  },
  {
   "cell_type": "code",
   "execution_count": 57,
   "id": "a1f0ac1d-2de3-4771-8a3c-7c13ceb04703",
   "metadata": {
    "tags": []
   },
   "outputs": [
    {
     "name": "stdout",
     "output_type": "stream",
     "text": [
      "0: 0.005*\"official\" + 0.004*\"state\" + 0.004*\"two\" + 0.004*\"show\" + 0.004*\"test\" + 0.004*\"sanction\" + 0.003*\"week\" + 0.003*\"court\" + 0.003*\"day\" + 0.003*\"kill\" + 0.003*\"force\" + 0.003*\"woman\" + 0.003*\"sunday\" + 0.003*\"attack\" + 0.003*\"invasion\" + 0.003*\"last\" + 0.003*\"country\" + 0.003*\"house\" + 0.003*\"coronavirus\" + 0.003*\"least\"\n",
      "\n",
      "1: 0.007*\"two\" + 0.007*\"world\" + 0.005*\"news\" + 0.005*\"country\" + 0.005*\"china\" + 0.005*\"biden\" + 0.004*\"york\" + 0.004*\"day\" + 0.004*\"break\" + 0.004*\"state\" + 0.003*\"men\" + 0.003*\"kill\" + 0.003*\"american\" + 0.003*\"since\" + 0.003*\"shot\" + 0.003*\"pandemic\" + 0.003*\"around\" + 0.003*\"washington\" + 0.003*\"begin\" + 0.002*\"die\"\n",
      "\n",
      "2: 0.006*\"country\" + 0.006*\"invasion\" + 0.005*\"kill\" + 0.005*\"time\" + 0.005*\"zelensky\" + 0.005*\"kyiv\" + 0.004*\"tuesday\" + 0.004*\"volodymyr\" + 0.004*\"could\" + 0.004*\"attack\" + 0.004*\"military\" + 0.004*\"two\" + 0.004*\"since\" + 0.004*\"flee\" + 0.004*\"help\" + 0.004*\"official\" + 0.004*\"biden\" + 0.004*\"day\" + 0.003*\"million\" + 0.003*\"york\"\n",
      "\n",
      "3: 0.004*\"follow\" + 0.004*\"live\" + 0.004*\"kyiv\" + 0.004*\"monday\" + 0.004*\"update\" + 0.004*\"covid\" + 0.003*\"could\" + 0.003*\"look\" + 0.003*\"effort\" + 0.003*\"life\" + 0.003*\"best\" + 0.003*\"federal\" + 0.003*\"official\" + 0.003*\"week\" + 0.003*\"rate\" + 0.003*\"government\" + 0.003*\"sunday\" + 0.002*\"employee\" + 0.002*\"first\" + 0.002*\"story\"\n",
      "\n"
     ]
    }
   ],
   "source": [
    "num_topics = 4\n",
    "lda_model2 = models.LdaModel(corpus2, num_topics=num_topics,\n",
    "                            random_state=100,\n",
    "                            id2word=dictionary_LDA2, \n",
    "                            passes=4)\n",
    "for i,topic in lda_model2.show_topics(formatted=True, num_topics=num_topics, num_words=20):\n",
    "    print(str(i)+\": \"+ topic + \"\\n\")"
   ]
  },
  {
   "cell_type": "markdown",
   "id": "9d8a6710-b47c-4d41-9592-817c2053f885",
   "metadata": {
    "tags": []
   },
   "source": [
    "Let's try to sum up the topics:\n",
    "1. Museum attack\n",
    "2. US-China relations\n",
    "3. Russian-Ukrainian conflict\n",
    "4. Covid situation\n",
    "\n",
    "Overall, we can conclude that there are no obvious differences in outlets based on their most frequent topics. \n",
    "\n",
    "----"
   ]
  },
  {
   "cell_type": "markdown",
   "id": "942df441-3f67-49f5-a44c-90a7aa4e8951",
   "metadata": {},
   "source": [
    "## Tweet Sentiment - Outlet Relationship\n",
    "\n",
    "Let's see whether there is any relationship between the sentiment of the tweet and the outlet. We can start from creating a sentiment score for all tweets and checking whether there is any correlation between outlet and polarity/sentiment scores"
   ]
  },
  {
   "cell_type": "code",
   "execution_count": 58,
   "id": "5b707b97-d463-43e5-b2d1-ccb25bd04f34",
   "metadata": {},
   "outputs": [],
   "source": [
    "# creating separate dataframe with only currently necessary columns \n",
    "df_sentim = df[['text','created_at','is_nyt']].copy()"
   ]
  },
  {
   "cell_type": "code",
   "execution_count": 59,
   "id": "147a4dea-2fa5-426a-bd0d-2b4bfbbdb065",
   "metadata": {},
   "outputs": [
    {
     "data": {
      "text/html": [
       "<div>\n",
       "<style scoped>\n",
       "    .dataframe tbody tr th:only-of-type {\n",
       "        vertical-align: middle;\n",
       "    }\n",
       "\n",
       "    .dataframe tbody tr th {\n",
       "        vertical-align: top;\n",
       "    }\n",
       "\n",
       "    .dataframe thead th {\n",
       "        text-align: right;\n",
       "    }\n",
       "</style>\n",
       "<table border=\"1\" class=\"dataframe\">\n",
       "  <thead>\n",
       "    <tr style=\"text-align: right;\">\n",
       "      <th></th>\n",
       "      <th>text</th>\n",
       "      <th>created_at</th>\n",
       "      <th>is_nyt</th>\n",
       "      <th>polarity_score</th>\n",
       "      <th>sentiment</th>\n",
       "    </tr>\n",
       "  </thead>\n",
       "  <tbody>\n",
       "    <tr>\n",
       "      <th>0</th>\n",
       "      <td>FLASHBACK: Ex-intel officials claimed the Hunt...</td>\n",
       "      <td>2022-03-18 15:50:00+00:00</td>\n",
       "      <td>0</td>\n",
       "      <td>0.0000</td>\n",
       "      <td>Neutral</td>\n",
       "    </tr>\n",
       "    <tr>\n",
       "      <th>1</th>\n",
       "      <td>Biden must do more to counter Putin's propagan...</td>\n",
       "      <td>2022-03-18 15:45:00+00:00</td>\n",
       "      <td>0</td>\n",
       "      <td>-0.2500</td>\n",
       "      <td>Negative</td>\n",
       "    </tr>\n",
       "    <tr>\n",
       "      <th>2</th>\n",
       "      <td>NASCAR: What to expect from Atlanta's super ne...</td>\n",
       "      <td>2022-03-18 15:40:00+00:00</td>\n",
       "      <td>0</td>\n",
       "      <td>0.5994</td>\n",
       "      <td>Positive</td>\n",
       "    </tr>\n",
       "    <tr>\n",
       "      <th>3</th>\n",
       "      <td>BREAKING: Biden, Xi discuss Russia's war again...</td>\n",
       "      <td>2022-03-18 15:34:43+00:00</td>\n",
       "      <td>0</td>\n",
       "      <td>-0.5994</td>\n",
       "      <td>Negative</td>\n",
       "    </tr>\n",
       "    <tr>\n",
       "      <th>4</th>\n",
       "      <td>Transgender swimmer's NCAA championship win 'j...</td>\n",
       "      <td>2022-03-18 15:30:00+00:00</td>\n",
       "      <td>0</td>\n",
       "      <td>0.7717</td>\n",
       "      <td>Positive</td>\n",
       "    </tr>\n",
       "    <tr>\n",
       "      <th>...</th>\n",
       "      <td>...</td>\n",
       "      <td>...</td>\n",
       "      <td>...</td>\n",
       "      <td>...</td>\n",
       "      <td>...</td>\n",
       "    </tr>\n",
       "    <tr>\n",
       "      <th>1947</th>\n",
       "      <td>Kyrylo Lysov, 22, and his girlfriend Yelyzavet...</td>\n",
       "      <td>2022-03-11 16:40:18+00:00</td>\n",
       "      <td>1</td>\n",
       "      <td>-0.1779</td>\n",
       "      <td>Negative</td>\n",
       "    </tr>\n",
       "    <tr>\n",
       "      <th>1948</th>\n",
       "      <td>Our journalists are looking into how companies...</td>\n",
       "      <td>2022-03-11 16:30:12+00:00</td>\n",
       "      <td>1</td>\n",
       "      <td>0.0772</td>\n",
       "      <td>Positive</td>\n",
       "    </tr>\n",
       "    <tr>\n",
       "      <th>1949</th>\n",
       "      <td>Breaking News: Alec Baldwin gave his most deta...</td>\n",
       "      <td>2022-03-11 16:18:19+00:00</td>\n",
       "      <td>1</td>\n",
       "      <td>-0.6486</td>\n",
       "      <td>Negative</td>\n",
       "    </tr>\n",
       "    <tr>\n",
       "      <th>1950</th>\n",
       "      <td>A shipwreck from 1891 has been discovered in L...</td>\n",
       "      <td>2022-03-11 16:10:04+00:00</td>\n",
       "      <td>1</td>\n",
       "      <td>0.2960</td>\n",
       "      <td>Positive</td>\n",
       "    </tr>\n",
       "    <tr>\n",
       "      <th>1951</th>\n",
       "      <td>Breaking News: President Biden called for susp...</td>\n",
       "      <td>2022-03-11 15:58:09+00:00</td>\n",
       "      <td>1</td>\n",
       "      <td>0.0000</td>\n",
       "      <td>Neutral</td>\n",
       "    </tr>\n",
       "  </tbody>\n",
       "</table>\n",
       "<p>1952 rows × 5 columns</p>\n",
       "</div>"
      ],
      "text/plain": [
       "                                                   text  \\\n",
       "0     FLASHBACK: Ex-intel officials claimed the Hunt...   \n",
       "1     Biden must do more to counter Putin's propagan...   \n",
       "2     NASCAR: What to expect from Atlanta's super ne...   \n",
       "3     BREAKING: Biden, Xi discuss Russia's war again...   \n",
       "4     Transgender swimmer's NCAA championship win 'j...   \n",
       "...                                                 ...   \n",
       "1947  Kyrylo Lysov, 22, and his girlfriend Yelyzavet...   \n",
       "1948  Our journalists are looking into how companies...   \n",
       "1949  Breaking News: Alec Baldwin gave his most deta...   \n",
       "1950  A shipwreck from 1891 has been discovered in L...   \n",
       "1951  Breaking News: President Biden called for susp...   \n",
       "\n",
       "                     created_at  is_nyt  polarity_score sentiment  \n",
       "0     2022-03-18 15:50:00+00:00       0          0.0000   Neutral  \n",
       "1     2022-03-18 15:45:00+00:00       0         -0.2500  Negative  \n",
       "2     2022-03-18 15:40:00+00:00       0          0.5994  Positive  \n",
       "3     2022-03-18 15:34:43+00:00       0         -0.5994  Negative  \n",
       "4     2022-03-18 15:30:00+00:00       0          0.7717  Positive  \n",
       "...                         ...     ...             ...       ...  \n",
       "1947  2022-03-11 16:40:18+00:00       1         -0.1779  Negative  \n",
       "1948  2022-03-11 16:30:12+00:00       1          0.0772  Positive  \n",
       "1949  2022-03-11 16:18:19+00:00       1         -0.6486  Negative  \n",
       "1950  2022-03-11 16:10:04+00:00       1          0.2960  Positive  \n",
       "1951  2022-03-11 15:58:09+00:00       1          0.0000   Neutral  \n",
       "\n",
       "[1952 rows x 5 columns]"
      ]
     },
     "execution_count": 59,
     "metadata": {},
     "output_type": "execute_result"
    }
   ],
   "source": [
    "df_sentim['polarity_score'] = df_sentim['text'].apply(lambda x: sentiment.polarity_scores(str(x))['compound'])\n",
    "df_sentim['sentiment'] = np.where(df_sentim['polarity_score']>0.05, \"Positive\", \n",
    "                          np.where(df_sentim['polarity_score']< -0.05, \"Negative\", 'Neutral'))\n",
    "df_sentim"
   ]
  },
  {
   "cell_type": "code",
   "execution_count": 60,
   "id": "d924bd54-0da6-4290-9f56-1d934121e753",
   "metadata": {},
   "outputs": [
    {
     "data": {
      "text/plain": [
       "0.006947711602763024"
      ]
     },
     "execution_count": 60,
     "metadata": {},
     "output_type": "execute_result"
    }
   ],
   "source": [
    "df_sentim['polarity_score'].corr(df_sentim['is_nyt'])"
   ]
  },
  {
   "cell_type": "code",
   "execution_count": 61,
   "id": "a14b73e9-d6a3-4a16-9026-e9f66fc2ef5c",
   "metadata": {},
   "outputs": [
    {
     "data": {
      "text/plain": [
       "0.057776838311044576"
      ]
     },
     "execution_count": 61,
     "metadata": {},
     "output_type": "execute_result"
    }
   ],
   "source": [
    "df_sentim['sentiment'] = np.where(df_sentim['polarity_score']>0.05, 1, \n",
    "                          np.where(df_sentim['polarity_score']< -0.05, -1, 0))\n",
    "\n",
    "df_sentim['sentiment'].corr(df_sentim['is_nyt'])"
   ]
  },
  {
   "cell_type": "markdown",
   "id": "30d30805-f860-4f96-97b9-224b1a2ab96f",
   "metadata": {},
   "source": [
    "The correlation does not seem to be high, providing us no clear indication that one of the outlets is more negative or positive than another. Let's see how average sentiments of each outlet vary across time."
   ]
  },
  {
   "cell_type": "code",
   "execution_count": 62,
   "id": "be8f8dd2-7f95-45d4-815f-3fd3ba6e3ed9",
   "metadata": {},
   "outputs": [],
   "source": [
    "from datetime import datetime\n",
    "\n",
    "df_sentim['created_at'] = df_sentim['created_at'].apply(lambda x: datetime.strptime(x,'%Y-%m-%d %H:%M:%S+00:00'), '%Y-%m-%d %H:%M:%S')"
   ]
  },
  {
   "cell_type": "code",
   "execution_count": 63,
   "id": "e3c4d55a-344c-4b88-a745-44cdaf425076",
   "metadata": {},
   "outputs": [],
   "source": [
    "# We want to divide each day in 4 parts (6 hours) and calculate average twitters sentiment for each of the time period. \n",
    "\n",
    "df_sentim['time'] =  df_sentim['created_at'].apply(lambda x: x.day if (x.hour>=0 and x.hour<6) \n",
    "                                                   else (x.day+ 0.25 if (x.hour>=6 and x.hour<12) else\n",
    "                                                        (x.day+0.5 if (x.hour>=12 and x.hour<18) else x.day+0.75)))\n"
   ]
  },
  {
   "cell_type": "code",
   "execution_count": 64,
   "id": "c9cbbddd-76c4-4a92-91e9-02dc860c969c",
   "metadata": {},
   "outputs": [
    {
     "data": {
      "text/html": [
       "<div>\n",
       "<style scoped>\n",
       "    .dataframe tbody tr th:only-of-type {\n",
       "        vertical-align: middle;\n",
       "    }\n",
       "\n",
       "    .dataframe tbody tr th {\n",
       "        vertical-align: top;\n",
       "    }\n",
       "\n",
       "    .dataframe thead th {\n",
       "        text-align: right;\n",
       "    }\n",
       "</style>\n",
       "<table border=\"1\" class=\"dataframe\">\n",
       "  <thead>\n",
       "    <tr style=\"text-align: right;\">\n",
       "      <th></th>\n",
       "      <th>is_nyt</th>\n",
       "      <th>time</th>\n",
       "      <th>polarity_score</th>\n",
       "      <th>sentiment</th>\n",
       "    </tr>\n",
       "  </thead>\n",
       "  <tbody>\n",
       "    <tr>\n",
       "      <th>0</th>\n",
       "      <td>0</td>\n",
       "      <td>11.50</td>\n",
       "      <td>-0.242918</td>\n",
       "      <td>-1</td>\n",
       "    </tr>\n",
       "    <tr>\n",
       "      <th>1</th>\n",
       "      <td>0</td>\n",
       "      <td>11.75</td>\n",
       "      <td>-0.074763</td>\n",
       "      <td>-1</td>\n",
       "    </tr>\n",
       "    <tr>\n",
       "      <th>2</th>\n",
       "      <td>0</td>\n",
       "      <td>12.00</td>\n",
       "      <td>-0.234811</td>\n",
       "      <td>-1</td>\n",
       "    </tr>\n",
       "    <tr>\n",
       "      <th>3</th>\n",
       "      <td>0</td>\n",
       "      <td>12.25</td>\n",
       "      <td>-0.142454</td>\n",
       "      <td>-1</td>\n",
       "    </tr>\n",
       "    <tr>\n",
       "      <th>4</th>\n",
       "      <td>0</td>\n",
       "      <td>12.50</td>\n",
       "      <td>-0.064128</td>\n",
       "      <td>-1</td>\n",
       "    </tr>\n",
       "  </tbody>\n",
       "</table>\n",
       "</div>"
      ],
      "text/plain": [
       "   is_nyt   time  polarity_score  sentiment\n",
       "0       0  11.50       -0.242918         -1\n",
       "1       0  11.75       -0.074763         -1\n",
       "2       0  12.00       -0.234811         -1\n",
       "3       0  12.25       -0.142454         -1\n",
       "4       0  12.50       -0.064128         -1"
      ]
     },
     "execution_count": 64,
     "metadata": {},
     "output_type": "execute_result"
    }
   ],
   "source": [
    "df3 = df_sentim.groupby(['is_nyt','time'], as_index=False).mean()\n",
    "df3['sentiment'] = np.where(df3['polarity_score']>0.05, 1, \n",
    "                          np.where(df3['polarity_score']< -0.05, -1, 0))\n",
    "\n",
    "df3.head()"
   ]
  },
  {
   "cell_type": "code",
   "execution_count": 67,
   "id": "094d5252-22b2-4e19-a607-3da48ef6956b",
   "metadata": {},
   "outputs": [
    {
     "data": {
      "image/png": "[encoded data removed]",
      "text/plain": [
       "<Figure size 720x360 with 1 Axes>"
      ]
     },
     "metadata": {},
     "output_type": "display_data"
    }
   ],
   "source": [
    "colors = ['#FF7256', '#8B1A1A'] \n",
    "\n",
    "sns.set(rc={\"figure.figsize\":(5, 15)})\n",
    "sns.lmplot(x = 'time', y = 'sentiment', data = df3, hue = 'is_nyt', palette = colors, lowess=True, \n",
    "               height=5, aspect=2, legend=False )\n",
    "ax = plt.gca()\n",
    "ax.set_title(\"Average twitter sentiment score per each 6 hours\", fontsize=17)\n",
    "ax.legend(title='Outlet', labels=['Fox News', 'New York Times'], facecolor='white')\n",
    "ax.set_xticks(df3['time'][:29])\n",
    "\n",
    "# modify labels for x ticks to have a format 'Apr 18 morning'\n",
    "xticks = df3['time'][:29]\n",
    "xticks = xticks.apply(lambda x: 'Apr'+ str(int(x))+ ' night' if x%1==0 else \n",
    "             'Apr'+ str(int(x))+ ' morning' if x%1==0.25 else\n",
    "             'Apr'+ str(int(x))+ ' day' if x%1==0.5 else 'Apr'+ str(int(x))+ ' evening'\n",
    "            )\n",
    "\n",
    "ax.set_xticklabels(xticks, rotation =70)\n",
    "plt.show()"
   ]
  },
  {
   "cell_type": "code",
   "execution_count": 68,
   "id": "72a01683-d7dc-4364-b34e-637d9dac1680",
   "metadata": {},
   "outputs": [
    {
     "data": {
      "image/png": "[encoded data removed]",
      "text/plain": [
       "<Figure size 720x360 with 1 Axes>"
      ]
     },
     "metadata": {},
     "output_type": "display_data"
    }
   ],
   "source": [
    "sns.lmplot(x = 'time', y = 'polarity_score', data = df3, hue = 'is_nyt', palette = colors, lowess=True, \n",
    "               height=5, aspect=2, legend=False )\n",
    "ax = plt.gca()\n",
    "ax.set_title(\"Average twitter polarity score per each 6 hours\", fontsize=17)\n",
    "ax.legend(title='Outlet', labels=['Fox News', 'New York Times'], facecolor='white')\n",
    "ax.set_xticks(df3['time'][:29])\n",
    "\n",
    "# modify labels for x ticks to have a format 'Apr 18 morning'\n",
    "xticks = df3['time'][:29]\n",
    "xticks = xticks.apply(lambda x: 'Apr'+ str(int(x))+ ' night' if x%1==0 else \n",
    "             'Apr'+ str(int(x))+ ' morning' if x%1==0.25 else\n",
    "             'Apr'+ str(int(x))+ ' day' if x%1==0.5 else 'Apr'+ str(int(x))+ ' evening'\n",
    "            )\n",
    "\n",
    "ax.set_xticklabels(xticks, rotation =70)\n",
    "plt.show()"
   ]
  },
  {
   "cell_type": "markdown",
   "id": "6d93aab6-b5b9-45ca-a190-c5677f6c8321",
   "metadata": {},
   "source": [
    "Once we grouped tweets by smaller time periods and compared average tweet sentiments between two outlets, the graphs show us that initially (between April 11 and April 14) New York Times' tweets were more positive, on average, than Fox News' tweets. After that, both New York Times and Fox News had negative sentiment scores, on average, with Fox News having slighly higher higher average compound polarity score. \n",
    "\n",
    "Overall, New York Times' tweets look a bit more neutral and less negative than Fox News tweets. "
   ]
  },
  {
   "cell_type": "code",
   "execution_count": null,
   "id": "11e45504-87cf-4f19-8d2c-96e249d9ecbf",
   "metadata": {},
   "outputs": [],
   "source": []
  }
 ],
 "metadata": {
  "kernelspec": {
   "display_name": "Python 3 (ipykernel)",
   "language": "python",
   "name": "python3"
  },
  "language_info": {
   "codemirror_mode": {
    "name": "ipython",
    "version": 3
   },
   "file_extension": ".py",
   "mimetype": "text/x-python",
   "name": "python",
   "nbconvert_exporter": "python",
   "pygments_lexer": "ipython3",
   "version": "3.8.8"
  }
 },
 "nbformat": 4,
 "nbformat_minor": 5
}
